{
 "cells": [
  {
   "cell_type": "markdown",
   "metadata": {},
   "source": [
    "## Preparation"
   ]
  },
  {
   "cell_type": "markdown",
   "metadata": {},
   "source": [
    "##### Import Functions"
   ]
  },
  {
   "cell_type": "code",
   "execution_count": 1,
   "metadata": {
    "ExecuteTime": {
     "end_time": "2019-06-13T15:57:18.247119Z",
     "start_time": "2019-06-13T15:57:18.070099Z"
    }
   },
   "outputs": [],
   "source": [
    "import sys\n",
    "sys.path.append('..')\n",
    "\n",
    "from Class.Helper import Helper as Helper\n",
    "from Scripts.LoadCSV import LoadCSV as LoadCSV\n",
    "from Scripts.Fuzzify import Fuzzify as Fuzzify\n",
    "from Scripts.ValueTest import ValueTest as ValueTest\n",
    "from Scripts.OptimizeBruteForce import OptimizeBruteForce as OptimizeBruteForce\n",
    "from Scripts.OptimizeBruteForceKFold import OptimizeBruteForceKFold as OptimizeBruteForceKFold\n",
    "import warnings\n",
    "warnings.simplefilter(\"ignore\")"
   ]
  },
  {
   "cell_type": "markdown",
   "metadata": {
    "heading_collapsed": true
   },
   "source": [
    "## Experiment 1 -- Gauss Number & Gauss Style & Gauss Adjustment"
   ]
  },
  {
   "cell_type": "code",
   "execution_count": null,
   "metadata": {
    "ExecuteTime": {
     "end_time": "2019-06-13T15:17:37.045629Z",
     "start_time": "2019-06-13T15:09:34.617591Z"
    },
    "hidden": true
   },
   "outputs": [],
   "source": [
    "import Settings.GeneralSettings as generalSettings\n",
    "from Settings.SettingsImmunotherapy import Settings as Settings\n",
    "\n",
    "helper = Helper()\n",
    "\n",
    "for gauss in [3, 5, 7, 9, 11]:\n",
    "    for style in [\"Gaussian Progressive\", \"Gaussian Equal\"]:\n",
    "        for adjustment in [-1, -2]:\n",
    "            generalSettings.gausses = gauss\n",
    "            generalSettings.style = style\n",
    "            generalSettings.adjustment_value = adjustment\n",
    "            settings = Settings(generalSettings)        \n",
    "\n",
    "            loadCSV = LoadCSV()\n",
    "            samples_stats, train_stats, test_stats, train_samples = loadCSV.worker(settings)\n",
    "\n",
    "            fuzzify = Fuzzify()\n",
    "            changed_decisions, features_number_after_reduct, implicants_number, fuzzify_parameters, times = fuzzify.worker(settings, settings.adjustment_value)\n",
    "\n",
    "#             fuzzification_data = [settings.dataset_name, settings.style, settings.gausses, settings.adjustment, samples_stats, train_stats, test_stats, changed_decisions, round(changed_decisions / train_samples, 2), implicants_number, settings.feature_numbers, features_number_after_reduct]\n",
    "#             helper.saveFuzzificationStats(fuzzification_data)\n",
    "\n",
    "            valueTest = ValueTest(settings, settings.s_function_width, settings.is_training)\n",
    "            valueTest.sOptymalizationWorker(settings, settings.default_s_value, settings.show_results)\n",
    "\n",
    "            valueTest = ValueTest(settings, settings.s_function_width, not settings.is_training)\n",
    "            valueTest.sOptymalizationWorker(settings, settings.default_s_value, settings.show_results)"
   ]
  },
  {
   "cell_type": "markdown",
   "metadata": {
    "heading_collapsed": true
   },
   "source": [
    "## Experiment 2 -- S-Function Optymalization"
   ]
  },
  {
   "cell_type": "code",
   "execution_count": null,
   "metadata": {
    "ExecuteTime": {
     "end_time": "2019-05-27T12:19:39.438914Z",
     "start_time": "2019-05-27T11:56:38.335471Z"
    },
    "hidden": true,
    "scrolled": true
   },
   "outputs": [],
   "source": [
    "import Settings.GeneralSettings as generalSettings\n",
    "from Settings.SettingsImmunotherapy import Settings as Settings\n",
    "\n",
    "helper = Helper()\n",
    "\n",
    "for gauss in [3, 5, 7, 9, 11]:\n",
    "    for style in [\"Gaussian Progressive\", \"Gaussian Equal\"]:\n",
    "        for adjustment in [-1, -2]:\n",
    "\n",
    "            optimizeBruteForceKFold = OptimizeBruteForceKFold(settings, settings.s_function_width)\n",
    "            valueTest = ValueTest(settings, settings.s_function_width, False)\n",
    "\n",
    "            best_s_function_center, mean_s_function_center, changed_decisions, features_number_after_reduct, implicants_number = optimizeBruteForceKFold.worker(settings, settings.constraints, settings.s_function_width, settings.n_folds)\n",
    "\n",
    "\n",
    "            valueTest.sOptymalizationWorker(settings, best_s_function_center, \"Test Value - K-Fold - Best Function Center\")\n",
    "            threshold = optimizeBruteForceKFold.thresholdWorker(settings, best_s_function_center, settings.s_function_width)\n",
    "            valueTest.thresholdWorker(settings, best_s_function_center, threshold)\n",
    "\n",
    "            valueTest.sOptymalizationWorker(settings, mean_s_function_center, \"Test Value - K-Fold - Average Function Center\")\n",
    "            threshold = optimizeBruteForceKFold.thresholdWorker(settings, mean_s_function_center, settings.s_function_width)\n",
    "            valueTest.thresholdWorker(settings, mean_s_function_center, threshold)"
   ]
  },
  {
   "cell_type": "markdown",
   "metadata": {},
   "source": [
    "## Experiment 3 -- Repeat 10 times"
   ]
  },
  {
   "cell_type": "code",
   "execution_count": 9,
   "metadata": {
    "ExecuteTime": {
     "end_time": "2019-06-13T16:06:29.304268Z",
     "start_time": "2019-06-13T15:59:19.556747Z"
    }
   },
   "outputs": [
    {
     "name": "stdout",
     "output_type": "stream",
     "text": [
      "Gaussian Progressive\n",
      "-----------------------------------------------------------------------------------\n",
      "Level 1\n",
      "Level 2\n"
     ]
    },
    {
     "name": "stderr",
     "output_type": "stream",
     "text": [
      "100%|██████████████████████████████████████████████████████████████████████████████████| 31/31 [00:00<00:00, 63.78it/s]\n"
     ]
    },
    {
     "name": "stdout",
     "output_type": "stream",
     "text": [
      "Level 3\n",
      "Level 4\n",
      "Accuracy: 0.7096774193548387\n",
      "Precision: [0.77777778 0.25      ]\n",
      "Recall: [0.875      0.14285714]\n",
      "F-Score: [0.82352941 0.18181818]\n",
      "Support: [24  7]\n",
      "Gaussian Progressive\n",
      "-----------------------------------------------------------------------------------\n",
      "Level 1\n",
      "Level 2\n"
     ]
    },
    {
     "name": "stderr",
     "output_type": "stream",
     "text": [
      "100%|██████████████████████████████████████████████████████████████████████████████████| 31/31 [00:00<00:00, 50.65it/s]\n"
     ]
    },
    {
     "name": "stdout",
     "output_type": "stream",
     "text": [
      "Level 3\n",
      "Level 4\n",
      "Accuracy: 0.7741935483870968\n",
      "Precision: [0.79310345 0.5       ]\n",
      "Recall: [0.95833333 0.14285714]\n",
      "F-Score: [0.86792453 0.22222222]\n",
      "Support: [24  7]\n",
      "Gaussian Progressive\n",
      "-----------------------------------------------------------------------------------\n",
      "Level 1\n",
      "Level 2\n"
     ]
    },
    {
     "name": "stderr",
     "output_type": "stream",
     "text": [
      "100%|██████████████████████████████████████████████████████████████████████████████████| 31/31 [00:00<00:00, 67.24it/s]\n"
     ]
    },
    {
     "name": "stdout",
     "output_type": "stream",
     "text": [
      "Level 3\n",
      "Level 4\n",
      "Accuracy: 0.7741935483870968\n",
      "Precision: [0.79310345 0.5       ]\n",
      "Recall: [0.95833333 0.14285714]\n",
      "F-Score: [0.86792453 0.22222222]\n",
      "Support: [24  7]\n",
      "Gaussian Progressive\n",
      "-----------------------------------------------------------------------------------\n",
      "Level 1\n",
      "Level 2\n"
     ]
    },
    {
     "name": "stderr",
     "output_type": "stream",
     "text": [
      "100%|██████████████████████████████████████████████████████████████████████████████████| 31/31 [00:00<00:00, 56.26it/s]\n"
     ]
    },
    {
     "name": "stdout",
     "output_type": "stream",
     "text": [
      "Level 3\n",
      "Level 4\n",
      "Accuracy: 0.8387096774193549\n",
      "Precision: [0.88       0.66666667]\n",
      "Recall: [0.91666667 0.57142857]\n",
      "F-Score: [0.89795918 0.61538462]\n",
      "Support: [24  7]\n",
      "Gaussian Progressive\n",
      "-----------------------------------------------------------------------------------\n",
      "Level 1\n",
      "Level 2\n"
     ]
    },
    {
     "name": "stderr",
     "output_type": "stream",
     "text": [
      "100%|██████████████████████████████████████████████████████████████████████████████████| 31/31 [00:00<00:00, 49.84it/s]\n"
     ]
    },
    {
     "name": "stdout",
     "output_type": "stream",
     "text": [
      "Level 3\n",
      "Level 4\n",
      "Accuracy: 0.8387096774193549\n",
      "Precision: [0.88       0.66666667]\n",
      "Recall: [0.91666667 0.57142857]\n",
      "F-Score: [0.89795918 0.61538462]\n",
      "Support: [24  7]\n",
      "Gaussian Progressive\n",
      "-----------------------------------------------------------------------------------\n",
      "Level 1\n",
      "Level 2\n"
     ]
    },
    {
     "name": "stderr",
     "output_type": "stream",
     "text": [
      "100%|██████████████████████████████████████████████████████████████████████████████████| 31/31 [00:00<00:00, 49.28it/s]\n"
     ]
    },
    {
     "name": "stdout",
     "output_type": "stream",
     "text": [
      "Level 3\n",
      "Level 4\n",
      "Accuracy: 0.8064516129032258\n",
      "Precision: [0.82142857 0.66666667]\n",
      "Recall: [0.95833333 0.28571429]\n",
      "F-Score: [0.88461538 0.4       ]\n",
      "Support: [24  7]\n",
      "Gaussian Progressive\n",
      "-----------------------------------------------------------------------------------\n",
      "Level 1\n",
      "Level 2\n"
     ]
    },
    {
     "name": "stderr",
     "output_type": "stream",
     "text": [
      "100%|██████████████████████████████████████████████████████████████████████████████████| 31/31 [00:00<00:00, 43.60it/s]\n"
     ]
    },
    {
     "name": "stdout",
     "output_type": "stream",
     "text": [
      "Level 3\n",
      "Level 4\n",
      "Accuracy: 0.8064516129032258\n",
      "Precision: [0.84615385 0.6       ]\n",
      "Recall: [0.91666667 0.42857143]\n",
      "F-Score: [0.88 0.5 ]\n",
      "Support: [24  7]\n",
      "Gaussian Progressive\n",
      "-----------------------------------------------------------------------------------\n",
      "Level 1\n",
      "Level 2\n"
     ]
    },
    {
     "name": "stderr",
     "output_type": "stream",
     "text": [
      "100%|██████████████████████████████████████████████████████████████████████████████████| 31/31 [00:00<00:00, 44.35it/s]\n"
     ]
    },
    {
     "name": "stdout",
     "output_type": "stream",
     "text": [
      "Level 3\n",
      "Level 4\n",
      "Accuracy: 0.7419354838709677\n",
      "Precision: [0.76666667 0.        ]\n",
      "Recall: [0.95833333 0.        ]\n",
      "F-Score: [0.85185185 0.        ]\n",
      "Support: [24  7]\n",
      "Gaussian Progressive\n",
      "-----------------------------------------------------------------------------------\n",
      "Level 1\n",
      "Level 2\n"
     ]
    },
    {
     "name": "stderr",
     "output_type": "stream",
     "text": [
      "100%|██████████████████████████████████████████████████████████████████████████████████| 31/31 [00:01<00:00, 25.88it/s]\n"
     ]
    },
    {
     "name": "stdout",
     "output_type": "stream",
     "text": [
      "Level 3\n",
      "Level 4\n",
      "Accuracy: 0.7741935483870968\n",
      "Precision: [0.79310345 0.5       ]\n",
      "Recall: [0.95833333 0.14285714]\n",
      "F-Score: [0.86792453 0.22222222]\n",
      "Support: [24  7]\n"
     ]
    }
   ],
   "source": [
    "import Settings.GeneralSettings as generalSettings\n",
    "from Settings.SettingsImmunotherapy import Settings as Settings\n",
    "\n",
    "helper = Helper()\n",
    "\n",
    "for x in range(0, 9):\n",
    "    generalSettings.gausses = 9\n",
    "    generalSettings.style = \"Gaussian Progressive\"\n",
    "    generalSettings.adjustment_value = -1\n",
    "    settings = Settings(generalSettings)        \n",
    "\n",
    "    loadCSV = LoadCSV()\n",
    "    samples_stats, train_stats, test_stats, train_samples = loadCSV.worker(settings)\n",
    "\n",
    "    fuzzify = Fuzzify()\n",
    "    changed_decisions, features_number_after_reduct, implicants_number, fuzzify_parameters, times = fuzzify.worker(settings, settings.adjustment_value)\n",
    "\n",
    "    #     valueTest = ValueTest(settings, settings.s_function_width, settings.is_training)\n",
    "    #     valueTest.sOptymalizationWorker(settings, settings.default_s_value, settings.show_results)\n",
    "\n",
    "    valueTest = ValueTest(settings, settings.s_function_width, not settings.is_training)\n",
    "    valueTest.sOptymalizationWorker(settings, settings.default_s_value, settings.show_results)"
   ]
  },
  {
   "cell_type": "code",
   "execution_count": 2,
   "metadata": {},
   "outputs": [
    {
     "name": "stdout",
     "output_type": "stream",
     "text": [
      "Gausses: 3 Adjustment: -1\n",
      "Gaussian Progressive\n"
     ]
    },
    {
     "name": "stderr",
     "output_type": "stream",
     "text": [
      "  5%|████▏                                                                              | 3/59 [00:00<00:02, 20.60it/s]"
     ]
    },
    {
     "name": "stdout",
     "output_type": "stream",
     "text": [
      "-----------------------------------------------------------------------------------\n",
      "Level 1\n",
      "Level 2\n"
     ]
    },
    {
     "name": "stderr",
     "output_type": "stream",
     "text": [
      "100%|██████████████████████████████████████████████████████████████████████████████████| 59/59 [00:03<00:00, 18.74it/s]\n"
     ]
    },
    {
     "name": "stdout",
     "output_type": "stream",
     "text": [
      "Level 3\n",
      "Level 4\n",
      "Accuracy: 0.9322033898305084\n",
      "Precision: [0.92156863 1.        ]\n",
      "Recall: [1.         0.66666667]\n",
      "F-Score: [0.95918367 0.8       ]\n",
      "Support: [47 12]\n"
     ]
    },
    {
     "name": "stderr",
     "output_type": "stream",
     "text": [
      " 13%|██████████▋                                                                        | 4/31 [00:00<00:00, 28.65it/s]"
     ]
    },
    {
     "name": "stdout",
     "output_type": "stream",
     "text": [
      "-----------------------------------------------------------------------------------\n",
      "Level 1\n",
      "Level 2\n"
     ]
    },
    {
     "name": "stderr",
     "output_type": "stream",
     "text": [
      "100%|██████████████████████████████████████████████████████████████████████████████████| 31/31 [00:01<00:00, 19.61it/s]\n"
     ]
    },
    {
     "name": "stdout",
     "output_type": "stream",
     "text": [
      "Level 3\n",
      "Level 4\n",
      "Accuracy: 0.7096774193548387\n",
      "Precision: [0.75862069 0.        ]\n",
      "Recall: [0.91666667 0.        ]\n",
      "F-Score: [0.83018868 0.        ]\n",
      "Support: [24  7]\n",
      "Gausses: 3 Adjustment: -2\n",
      "Gaussian Progressive\n"
     ]
    },
    {
     "name": "stderr",
     "output_type": "stream",
     "text": [
      "  5%|████▏                                                                              | 3/59 [00:00<00:02, 24.45it/s]"
     ]
    },
    {
     "name": "stdout",
     "output_type": "stream",
     "text": [
      "-----------------------------------------------------------------------------------\n",
      "Level 1\n",
      "Level 2\n"
     ]
    },
    {
     "name": "stderr",
     "output_type": "stream",
     "text": [
      "100%|██████████████████████████████████████████████████████████████████████████████████| 59/59 [00:03<00:00, 17.74it/s]\n"
     ]
    },
    {
     "name": "stdout",
     "output_type": "stream",
     "text": [
      "Level 3\n",
      "Level 4\n",
      "Accuracy: 0.9322033898305084\n",
      "Precision: [0.95744681 0.83333333]\n",
      "Recall: [0.95744681 0.83333333]\n",
      "F-Score: [0.95744681 0.83333333]\n",
      "Support: [47 12]\n"
     ]
    },
    {
     "name": "stderr",
     "output_type": "stream",
     "text": [
      " 10%|████████                                                                           | 3/31 [00:00<00:01, 22.62it/s]"
     ]
    },
    {
     "name": "stdout",
     "output_type": "stream",
     "text": [
      "-----------------------------------------------------------------------------------\n",
      "Level 1\n",
      "Level 2\n"
     ]
    },
    {
     "name": "stderr",
     "output_type": "stream",
     "text": [
      "100%|██████████████████████████████████████████████████████████████████████████████████| 31/31 [00:01<00:00, 18.10it/s]\n"
     ]
    },
    {
     "name": "stdout",
     "output_type": "stream",
     "text": [
      "Level 3\n",
      "Level 4\n",
      "Accuracy: 0.7096774193548387\n",
      "Precision: [0.82608696 0.375     ]\n",
      "Recall: [0.79166667 0.42857143]\n",
      "F-Score: [0.80851064 0.4       ]\n",
      "Support: [24  7]\n",
      "Gausses: 3 Adjustment: -1\n",
      "Gaussian Equal\n"
     ]
    },
    {
     "name": "stderr",
     "output_type": "stream",
     "text": [
      "  7%|█████▋                                                                             | 4/59 [00:00<00:01, 29.37it/s]"
     ]
    },
    {
     "name": "stdout",
     "output_type": "stream",
     "text": [
      "-----------------------------------------------------------------------------------\n",
      "Level 1\n",
      "Level 2\n"
     ]
    },
    {
     "name": "stderr",
     "output_type": "stream",
     "text": [
      "100%|██████████████████████████████████████████████████████████████████████████████████| 59/59 [00:02<00:00, 21.57it/s]\n"
     ]
    },
    {
     "name": "stdout",
     "output_type": "stream",
     "text": [
      "Level 3\n",
      "Level 4\n",
      "Accuracy: 0.9322033898305084\n",
      "Precision: [0.92156863 1.        ]\n",
      "Recall: [1.         0.66666667]\n",
      "F-Score: [0.95918367 0.8       ]\n",
      "Support: [47 12]\n"
     ]
    },
    {
     "name": "stderr",
     "output_type": "stream",
     "text": [
      " 13%|██████████▋                                                                        | 4/31 [00:00<00:00, 30.16it/s]"
     ]
    },
    {
     "name": "stdout",
     "output_type": "stream",
     "text": [
      "-----------------------------------------------------------------------------------\n",
      "Level 1\n",
      "Level 2\n"
     ]
    },
    {
     "name": "stderr",
     "output_type": "stream",
     "text": [
      "100%|██████████████████████████████████████████████████████████████████████████████████| 31/31 [00:01<00:00, 21.50it/s]\n"
     ]
    },
    {
     "name": "stdout",
     "output_type": "stream",
     "text": [
      "Level 3\n",
      "Level 4\n",
      "Accuracy: 0.7096774193548387\n",
      "Precision: [0.75862069 0.        ]\n",
      "Recall: [0.91666667 0.        ]\n",
      "F-Score: [0.83018868 0.        ]\n",
      "Support: [24  7]\n",
      "Gausses: 3 Adjustment: -2\n",
      "Gaussian Equal\n"
     ]
    },
    {
     "name": "stderr",
     "output_type": "stream",
     "text": [
      "  5%|████▏                                                                              | 3/59 [00:00<00:02, 27.20it/s]"
     ]
    },
    {
     "name": "stdout",
     "output_type": "stream",
     "text": [
      "-----------------------------------------------------------------------------------\n",
      "Level 1\n",
      "Level 2\n"
     ]
    },
    {
     "name": "stderr",
     "output_type": "stream",
     "text": [
      "100%|██████████████████████████████████████████████████████████████████████████████████| 59/59 [00:03<00:00, 18.59it/s]\n"
     ]
    },
    {
     "name": "stdout",
     "output_type": "stream",
     "text": [
      "Level 3\n",
      "Level 4\n",
      "Accuracy: 0.9322033898305084\n",
      "Precision: [0.95744681 0.83333333]\n",
      "Recall: [0.95744681 0.83333333]\n",
      "F-Score: [0.95744681 0.83333333]\n",
      "Support: [47 12]\n"
     ]
    },
    {
     "name": "stderr",
     "output_type": "stream",
     "text": [
      " 10%|████████                                                                           | 3/31 [00:00<00:00, 28.90it/s]"
     ]
    },
    {
     "name": "stdout",
     "output_type": "stream",
     "text": [
      "-----------------------------------------------------------------------------------\n",
      "Level 1\n",
      "Level 2\n"
     ]
    },
    {
     "name": "stderr",
     "output_type": "stream",
     "text": [
      "100%|██████████████████████████████████████████████████████████████████████████████████| 31/31 [00:01<00:00, 17.83it/s]\n"
     ]
    },
    {
     "name": "stdout",
     "output_type": "stream",
     "text": [
      "Level 3\n",
      "Level 4\n",
      "Accuracy: 0.7096774193548387\n",
      "Precision: [0.82608696 0.375     ]\n",
      "Recall: [0.79166667 0.42857143]\n",
      "F-Score: [0.80851064 0.4       ]\n",
      "Support: [24  7]\n",
      "Gausses: 5 Adjustment: -1\n",
      "Gaussian Progressive\n",
      "-----------------------------------------------------------------------------------\n"
     ]
    },
    {
     "name": "stderr",
     "output_type": "stream",
     "text": [
      "  3%|██▊                                                                                | 2/59 [00:00<00:04, 12.38it/s]"
     ]
    },
    {
     "name": "stdout",
     "output_type": "stream",
     "text": [
      "Level 1\n",
      "Level 2\n"
     ]
    },
    {
     "name": "stderr",
     "output_type": "stream",
     "text": [
      "100%|██████████████████████████████████████████████████████████████████████████████████| 59/59 [00:10<00:00,  5.74it/s]\n"
     ]
    },
    {
     "name": "stdout",
     "output_type": "stream",
     "text": [
      "Level 3\n",
      "Level 4\n",
      "Accuracy: 0.9322033898305084\n",
      "Precision: [0.92156863 1.        ]\n",
      "Recall: [1.         0.66666667]\n",
      "F-Score: [0.95918367 0.8       ]\n",
      "Support: [47 12]\n",
      "-----------------------------------------------------------------------------------\n"
     ]
    },
    {
     "name": "stderr",
     "output_type": "stream",
     "text": [
      "  6%|█████▎                                                                             | 2/31 [00:00<00:02, 11.52it/s]"
     ]
    },
    {
     "name": "stdout",
     "output_type": "stream",
     "text": [
      "Level 1\n",
      "Level 2\n"
     ]
    },
    {
     "name": "stderr",
     "output_type": "stream",
     "text": [
      "100%|██████████████████████████████████████████████████████████████████████████████████| 31/31 [00:05<00:00,  5.79it/s]\n"
     ]
    },
    {
     "name": "stdout",
     "output_type": "stream",
     "text": [
      "Level 3\n",
      "Level 4\n",
      "Accuracy: 0.8064516129032258\n",
      "Precision: [0.82142857 0.66666667]\n",
      "Recall: [0.95833333 0.28571429]\n",
      "F-Score: [0.88461538 0.4       ]\n",
      "Support: [24  7]\n",
      "Gausses: 5 Adjustment: -2\n",
      "Gaussian Progressive\n"
     ]
    },
    {
     "name": "stderr",
     "output_type": "stream",
     "text": [
      "  0%|                                                                                           | 0/59 [00:00<?, ?it/s]"
     ]
    },
    {
     "name": "stdout",
     "output_type": "stream",
     "text": [
      "-----------------------------------------------------------------------------------\n",
      "Level 1\n",
      "Level 2\n"
     ]
    },
    {
     "name": "stderr",
     "output_type": "stream",
     "text": [
      "100%|██████████████████████████████████████████████████████████████████████████████████| 59/59 [00:05<00:00,  9.92it/s]\n"
     ]
    },
    {
     "name": "stdout",
     "output_type": "stream",
     "text": [
      "Level 3\n",
      "Level 4\n",
      "Accuracy: 0.9830508474576272\n",
      "Precision: [1.         0.92307692]\n",
      "Recall: [0.9787234 1.       ]\n",
      "F-Score: [0.98924731 0.96      ]\n",
      "Support: [47 12]\n"
     ]
    },
    {
     "name": "stderr",
     "output_type": "stream",
     "text": [
      "  0%|                                                                                           | 0/31 [00:00<?, ?it/s]"
     ]
    },
    {
     "name": "stdout",
     "output_type": "stream",
     "text": [
      "-----------------------------------------------------------------------------------\n",
      "Level 1\n",
      "Level 2\n"
     ]
    },
    {
     "name": "stderr",
     "output_type": "stream",
     "text": [
      "100%|██████████████████████████████████████████████████████████████████████████████████| 31/31 [00:03<00:00,  9.85it/s]\n"
     ]
    },
    {
     "name": "stdout",
     "output_type": "stream",
     "text": [
      "Level 3\n",
      "Level 4\n",
      "Accuracy: 0.6451612903225806\n",
      "Precision: [0.74074074 0.        ]\n",
      "Recall: [0.83333333 0.        ]\n",
      "F-Score: [0.78431373 0.        ]\n",
      "Support: [24  7]\n",
      "Gausses: 5 Adjustment: -1\n",
      "Gaussian Equal\n"
     ]
    },
    {
     "name": "stderr",
     "output_type": "stream",
     "text": [
      "  0%|                                                                                           | 0/59 [00:00<?, ?it/s]"
     ]
    },
    {
     "name": "stdout",
     "output_type": "stream",
     "text": [
      "-----------------------------------------------------------------------------------\n",
      "Level 1\n",
      "Level 2\n"
     ]
    },
    {
     "name": "stderr",
     "output_type": "stream",
     "text": [
      "100%|██████████████████████████████████████████████████████████████████████████████████| 59/59 [00:07<00:00,  8.17it/s]\n"
     ]
    },
    {
     "name": "stdout",
     "output_type": "stream",
     "text": [
      "Level 3\n",
      "Level 4\n",
      "Accuracy: 0.9152542372881356\n",
      "Precision: [0.90384615 1.        ]\n",
      "Recall: [1.         0.58333333]\n",
      "F-Score: [0.94949495 0.73684211]\n",
      "Support: [47 12]\n"
     ]
    },
    {
     "name": "stderr",
     "output_type": "stream",
     "text": [
      "  0%|                                                                                           | 0/31 [00:00<?, ?it/s]"
     ]
    },
    {
     "name": "stdout",
     "output_type": "stream",
     "text": [
      "-----------------------------------------------------------------------------------\n",
      "Level 1\n",
      "Level 2\n"
     ]
    },
    {
     "name": "stderr",
     "output_type": "stream",
     "text": [
      "100%|██████████████████████████████████████████████████████████████████████████████████| 31/31 [00:03<00:00,  8.20it/s]\n"
     ]
    },
    {
     "name": "stdout",
     "output_type": "stream",
     "text": [
      "Level 3\n",
      "Level 4\n",
      "Accuracy: 0.7419354838709677\n",
      "Precision: [0.80769231 0.4       ]\n",
      "Recall: [0.875      0.28571429]\n",
      "F-Score: [0.84       0.33333333]\n",
      "Support: [24  7]\n",
      "Gausses: 5 Adjustment: -2\n",
      "Gaussian Equal\n"
     ]
    },
    {
     "name": "stderr",
     "output_type": "stream",
     "text": [
      "  0%|                                                                                           | 0/59 [00:00<?, ?it/s]"
     ]
    },
    {
     "name": "stdout",
     "output_type": "stream",
     "text": [
      "-----------------------------------------------------------------------------------\n",
      "Level 1\n",
      "Level 2\n"
     ]
    },
    {
     "name": "stderr",
     "output_type": "stream",
     "text": [
      "100%|██████████████████████████████████████████████████████████████████████████████████| 59/59 [00:07<00:00,  7.63it/s]\n"
     ]
    },
    {
     "name": "stdout",
     "output_type": "stream",
     "text": [
      "Level 3\n",
      "Level 4\n",
      "Accuracy: 0.9152542372881356\n",
      "Precision: [0.92       0.88888889]\n",
      "Recall: [0.9787234  0.66666667]\n",
      "F-Score: [0.94845361 0.76190476]\n",
      "Support: [47 12]\n"
     ]
    },
    {
     "name": "stderr",
     "output_type": "stream",
     "text": [
      "  0%|                                                                                           | 0/31 [00:00<?, ?it/s]"
     ]
    },
    {
     "name": "stdout",
     "output_type": "stream",
     "text": [
      "-----------------------------------------------------------------------------------\n",
      "Level 1\n",
      "Level 2\n"
     ]
    },
    {
     "name": "stderr",
     "output_type": "stream",
     "text": [
      "100%|██████████████████████████████████████████████████████████████████████████████████| 31/31 [00:04<00:00,  7.51it/s]\n"
     ]
    },
    {
     "name": "stdout",
     "output_type": "stream",
     "text": [
      "Level 3\n",
      "Level 4\n",
      "Accuracy: 0.7096774193548387\n",
      "Precision: [0.75862069 0.        ]\n",
      "Recall: [0.91666667 0.        ]\n",
      "F-Score: [0.83018868 0.        ]\n",
      "Support: [24  7]\n",
      "Gausses: 7 Adjustment: -1\n",
      "Gaussian Progressive\n"
     ]
    },
    {
     "name": "stderr",
     "output_type": "stream",
     "text": [
      "  0%|                                                                                           | 0/59 [00:00<?, ?it/s]"
     ]
    },
    {
     "name": "stdout",
     "output_type": "stream",
     "text": [
      "-----------------------------------------------------------------------------------\n",
      "Level 1\n",
      "Level 2\n"
     ]
    },
    {
     "name": "stderr",
     "output_type": "stream",
     "text": [
      "100%|██████████████████████████████████████████████████████████████████████████████████| 59/59 [00:10<00:00,  5.45it/s]\n"
     ]
    },
    {
     "name": "stdout",
     "output_type": "stream",
     "text": [
      "Level 3\n",
      "Level 4\n",
      "Accuracy: 0.9491525423728814\n",
      "Precision: [0.95833333 0.90909091]\n",
      "Recall: [0.9787234  0.83333333]\n",
      "F-Score: [0.96842105 0.86956522]\n",
      "Support: [47 12]\n",
      "-----------------------------------------------------------------------------------\n"
     ]
    },
    {
     "name": "stderr",
     "output_type": "stream",
     "text": [
      "  0%|                                                                                           | 0/31 [00:00<?, ?it/s]"
     ]
    },
    {
     "name": "stdout",
     "output_type": "stream",
     "text": [
      "Level 1\n",
      "Level 2\n"
     ]
    },
    {
     "name": "stderr",
     "output_type": "stream",
     "text": [
      "100%|██████████████████████████████████████████████████████████████████████████████████| 31/31 [00:05<00:00,  5.49it/s]\n"
     ]
    },
    {
     "name": "stdout",
     "output_type": "stream",
     "text": [
      "Level 3\n",
      "Level 4\n",
      "Accuracy: 0.8064516129032258\n",
      "Precision: [0.82142857 0.66666667]\n",
      "Recall: [0.95833333 0.28571429]\n",
      "F-Score: [0.88461538 0.4       ]\n",
      "Support: [24  7]\n",
      "Gausses: 7 Adjustment: -2\n",
      "Gaussian Progressive\n",
      "-----------------------------------------------------------------------------------\n",
      "Level 1\n",
      "Level 2\n"
     ]
    },
    {
     "name": "stderr",
     "output_type": "stream",
     "text": [
      "100%|██████████████████████████████████████████████████████████████████████████████████| 59/59 [00:09<00:00,  6.07it/s]\n"
     ]
    },
    {
     "name": "stdout",
     "output_type": "stream",
     "text": [
      "Level 3\n",
      "Level 4\n",
      "Accuracy: 0.9491525423728814\n",
      "Precision: [0.95833333 0.90909091]\n",
      "Recall: [0.9787234  0.83333333]\n",
      "F-Score: [0.96842105 0.86956522]\n",
      "Support: [47 12]\n",
      "-----------------------------------------------------------------------------------\n",
      "Level 1\n"
     ]
    },
    {
     "name": "stderr",
     "output_type": "stream",
     "text": [
      "  6%|█████▎                                                                             | 2/31 [00:00<00:02, 12.18it/s]"
     ]
    },
    {
     "name": "stdout",
     "output_type": "stream",
     "text": [
      "Level 2\n"
     ]
    },
    {
     "name": "stderr",
     "output_type": "stream",
     "text": [
      "100%|██████████████████████████████████████████████████████████████████████████████████| 31/31 [00:05<00:00,  6.11it/s]\n"
     ]
    },
    {
     "name": "stdout",
     "output_type": "stream",
     "text": [
      "Level 3\n",
      "Level 4\n",
      "Accuracy: 0.7096774193548387\n",
      "Precision: [0.75862069 0.        ]\n",
      "Recall: [0.91666667 0.        ]\n",
      "F-Score: [0.83018868 0.        ]\n",
      "Support: [24  7]\n",
      "Gausses: 7 Adjustment: -1\n",
      "Gaussian Equal\n",
      "-----------------------------------------------------------------------------------\n",
      "Level 1\n",
      "Level 2\n"
     ]
    },
    {
     "name": "stderr",
     "output_type": "stream",
     "text": [
      "100%|██████████████████████████████████████████████████████████████████████████████████| 59/59 [00:10<00:00,  5.37it/s]\n"
     ]
    },
    {
     "name": "stdout",
     "output_type": "stream",
     "text": [
      "Level 3\n",
      "Level 4\n",
      "Accuracy: 0.847457627118644\n",
      "Precision: [0.93181818 0.6       ]\n",
      "Recall: [0.87234043 0.75      ]\n",
      "F-Score: [0.9010989  0.66666667]\n",
      "Support: [47 12]\n",
      "-----------------------------------------------------------------------------------\n",
      "Level 1\n",
      "Level 2\n"
     ]
    },
    {
     "name": "stderr",
     "output_type": "stream",
     "text": [
      "100%|██████████████████████████████████████████████████████████████████████████████████| 31/31 [00:05<00:00,  5.33it/s]\n"
     ]
    },
    {
     "name": "stdout",
     "output_type": "stream",
     "text": [
      "Level 3\n",
      "Level 4\n",
      "Accuracy: 0.6451612903225806\n",
      "Precision: [0.74074074 0.        ]\n",
      "Recall: [0.83333333 0.        ]\n",
      "F-Score: [0.78431373 0.        ]\n",
      "Support: [24  7]\n",
      "Gausses: 7 Adjustment: -2\n",
      "Gaussian Equal\n"
     ]
    },
    {
     "name": "stderr",
     "output_type": "stream",
     "text": [
      "  0%|                                                                                           | 0/59 [00:00<?, ?it/s]"
     ]
    },
    {
     "name": "stdout",
     "output_type": "stream",
     "text": [
      "-----------------------------------------------------------------------------------\n",
      "Level 1\n",
      "Level 2\n"
     ]
    },
    {
     "name": "stderr",
     "output_type": "stream",
     "text": [
      " 86%|██████████████████████████████████████████████████████████████████████▉           | 51/59 [00:03<00:00, 11.97it/s]"
     ]
    },
    {
     "name": "stdout",
     "output_type": "stream",
     "text": [
      "!!!!!!!!!!!!!!!!!!!!!!!!!!!!!!!!!!!!!!!\n"
     ]
    },
    {
     "name": "stderr",
     "output_type": "stream",
     "text": [
      "100%|██████████████████████████████████████████████████████████████████████████████████| 59/59 [00:04<00:00, 12.85it/s]\n"
     ]
    },
    {
     "name": "stdout",
     "output_type": "stream",
     "text": [
      "Level 3\n",
      "Level 4\n",
      "Accuracy: 0.8135593220338984\n",
      "Precision: [0.84615385 0.57142857]\n",
      "Recall: [0.93617021 0.33333333]\n",
      "F-Score: [0.88888889 0.42105263]\n",
      "Support: [47 12]\n"
     ]
    },
    {
     "name": "stderr",
     "output_type": "stream",
     "text": [
      "  0%|                                                                                           | 0/31 [00:00<?, ?it/s]"
     ]
    },
    {
     "name": "stdout",
     "output_type": "stream",
     "text": [
      "-----------------------------------------------------------------------------------\n",
      "Level 1\n",
      "Level 2\n"
     ]
    },
    {
     "name": "stderr",
     "output_type": "stream",
     "text": [
      "100%|██████████████████████████████████████████████████████████████████████████████████| 31/31 [00:02<00:00, 13.26it/s]\n"
     ]
    },
    {
     "name": "stdout",
     "output_type": "stream",
     "text": [
      "Level 3\n",
      "Level 4\n",
      "Accuracy: 0.7741935483870968\n",
      "Precision: [0.79310345 0.5       ]\n",
      "Recall: [0.95833333 0.14285714]\n",
      "F-Score: [0.86792453 0.22222222]\n",
      "Support: [24  7]\n",
      "Gausses: 9 Adjustment: -1\n",
      "Gaussian Progressive\n"
     ]
    },
    {
     "name": "stderr",
     "output_type": "stream",
     "text": [
      "  0%|                                                                                           | 0/59 [00:00<?, ?it/s]"
     ]
    },
    {
     "name": "stdout",
     "output_type": "stream",
     "text": [
      "-----------------------------------------------------------------------------------\n",
      "Level 1\n",
      "Level 2\n"
     ]
    },
    {
     "name": "stderr",
     "output_type": "stream",
     "text": [
      "100%|██████████████████████████████████████████████████████████████████████████████████| 59/59 [00:07<00:00,  8.07it/s]\n"
     ]
    },
    {
     "name": "stdout",
     "output_type": "stream",
     "text": [
      "Level 3\n",
      "Level 4\n",
      "Accuracy: 0.9322033898305084\n",
      "Precision: [0.93877551 0.9       ]\n",
      "Recall: [0.9787234 0.75     ]\n",
      "F-Score: [0.95833333 0.81818182]\n",
      "Support: [47 12]\n",
      "-----------------------------------------------------------------------------------\n",
      "Level 1\n",
      "Level 2"
     ]
    },
    {
     "name": "stderr",
     "output_type": "stream",
     "text": [
      "  6%|█████▎                                                                             | 2/31 [00:00<00:01, 16.11it/s]"
     ]
    },
    {
     "name": "stdout",
     "output_type": "stream",
     "text": [
      "\n"
     ]
    },
    {
     "name": "stderr",
     "output_type": "stream",
     "text": [
      "100%|██████████████████████████████████████████████████████████████████████████████████| 31/31 [00:03<00:00,  8.14it/s]\n"
     ]
    },
    {
     "name": "stdout",
     "output_type": "stream",
     "text": [
      "Level 3\n",
      "Level 4\n",
      "Accuracy: 0.7419354838709677\n",
      "Precision: [0.78571429 0.33333333]\n",
      "Recall: [0.91666667 0.14285714]\n",
      "F-Score: [0.84615385 0.2       ]\n",
      "Support: [24  7]\n",
      "Gausses: 9 Adjustment: -2\n",
      "Gaussian Progressive\n",
      "-----------------------------------------------------------------------------------\n"
     ]
    },
    {
     "name": "stderr",
     "output_type": "stream",
     "text": [
      "  3%|██▊                                                                                | 2/59 [00:00<00:05, 11.17it/s]"
     ]
    },
    {
     "name": "stdout",
     "output_type": "stream",
     "text": [
      "Level 1\n",
      "Level 2\n"
     ]
    },
    {
     "name": "stderr",
     "output_type": "stream",
     "text": [
      "100%|██████████████████████████████████████████████████████████████████████████████████| 59/59 [00:11<00:00,  5.30it/s]\n"
     ]
    },
    {
     "name": "stdout",
     "output_type": "stream",
     "text": [
      "Level 3\n",
      "Level 4\n",
      "Accuracy: 0.9661016949152542\n",
      "Precision: [0.95918367 1.        ]\n",
      "Recall: [1.         0.83333333]\n",
      "F-Score: [0.97916667 0.90909091]\n",
      "Support: [47 12]\n",
      "-----------------------------------------------------------------------------------\n"
     ]
    },
    {
     "name": "stderr",
     "output_type": "stream",
     "text": [
      "  6%|█████▎                                                                             | 2/31 [00:00<00:02, 11.08it/s]"
     ]
    },
    {
     "name": "stdout",
     "output_type": "stream",
     "text": [
      "Level 1\n",
      "Level 2\n"
     ]
    },
    {
     "name": "stderr",
     "output_type": "stream",
     "text": [
      "100%|██████████████████████████████████████████████████████████████████████████████████| 31/31 [00:05<00:00,  5.35it/s]\n"
     ]
    },
    {
     "name": "stdout",
     "output_type": "stream",
     "text": [
      "Level 3\n",
      "Level 4\n",
      "Accuracy: 0.6774193548387096\n",
      "Precision: [0.76923077 0.2       ]\n",
      "Recall: [0.83333333 0.14285714]\n",
      "F-Score: [0.8        0.16666667]\n",
      "Support: [24  7]\n",
      "Gausses: 9 Adjustment: -1\n",
      "Gaussian Equal\n"
     ]
    },
    {
     "name": "stderr",
     "output_type": "stream",
     "text": [
      "  0%|                                                                                           | 0/59 [00:00<?, ?it/s]"
     ]
    },
    {
     "name": "stdout",
     "output_type": "stream",
     "text": [
      "-----------------------------------------------------------------------------------\n",
      "Level 1\n",
      "Level 2\n"
     ]
    },
    {
     "name": "stderr",
     "output_type": "stream",
     "text": [
      "100%|██████████████████████████████████████████████████████████████████████████████████| 59/59 [00:07<00:00,  7.86it/s]\n"
     ]
    },
    {
     "name": "stdout",
     "output_type": "stream",
     "text": [
      "Level 3\n",
      "Level 4\n",
      "Accuracy: 0.9661016949152542\n",
      "Precision: [1.         0.85714286]\n",
      "Recall: [0.95744681 1.        ]\n",
      "F-Score: [0.97826087 0.92307692]\n",
      "Support: [47 12]\n"
     ]
    },
    {
     "name": "stderr",
     "output_type": "stream",
     "text": [
      "  0%|                                                                                           | 0/31 [00:00<?, ?it/s]"
     ]
    },
    {
     "name": "stdout",
     "output_type": "stream",
     "text": [
      "-----------------------------------------------------------------------------------\n",
      "Level 1\n",
      "Level 2\n"
     ]
    },
    {
     "name": "stderr",
     "output_type": "stream",
     "text": [
      "100%|██████████████████████████████████████████████████████████████████████████████████| 31/31 [00:03<00:00,  7.89it/s]\n"
     ]
    },
    {
     "name": "stdout",
     "output_type": "stream",
     "text": [
      "Level 3\n",
      "Level 4\n",
      "Accuracy: 0.7741935483870968\n",
      "Precision: [0.79310345 0.5       ]\n",
      "Recall: [0.95833333 0.14285714]\n",
      "F-Score: [0.86792453 0.22222222]\n",
      "Support: [24  7]\n",
      "Gausses: 9 Adjustment: -2\n",
      "Gaussian Equal\n",
      "-----------------------------------------------------------------------------------\n",
      "Level 1\n",
      "Level 2"
     ]
    },
    {
     "name": "stderr",
     "output_type": "stream",
     "text": [
      "  0%|                                                                                           | 0/59 [00:00<?, ?it/s]"
     ]
    },
    {
     "name": "stdout",
     "output_type": "stream",
     "text": [
      "\n"
     ]
    },
    {
     "name": "stderr",
     "output_type": "stream",
     "text": [
      "100%|██████████████████████████████████████████████████████████████████████████████████| 59/59 [00:11<00:00,  5.30it/s]\n"
     ]
    },
    {
     "name": "stdout",
     "output_type": "stream",
     "text": [
      "Level 3\n",
      "Level 4\n",
      "Accuracy: 0.9830508474576272\n",
      "Precision: [1.         0.92307692]\n",
      "Recall: [0.9787234 1.       ]\n",
      "F-Score: [0.98924731 0.96      ]\n",
      "Support: [47 12]\n",
      "-----------------------------------------------------------------------------------\n"
     ]
    },
    {
     "name": "stderr",
     "output_type": "stream",
     "text": [
      "  0%|                                                                                           | 0/31 [00:00<?, ?it/s]"
     ]
    },
    {
     "name": "stdout",
     "output_type": "stream",
     "text": [
      "Level 1\n",
      "Level 2\n"
     ]
    },
    {
     "name": "stderr",
     "output_type": "stream",
     "text": [
      "100%|██████████████████████████████████████████████████████████████████████████████████| 31/31 [00:07<00:00,  4.37it/s]\n"
     ]
    },
    {
     "name": "stdout",
     "output_type": "stream",
     "text": [
      "Level 3\n",
      "Level 4\n",
      "Accuracy: 0.7419354838709677\n",
      "Precision: [0.80769231 0.4       ]\n",
      "Recall: [0.875      0.28571429]\n",
      "F-Score: [0.84       0.33333333]\n",
      "Support: [24  7]\n",
      "Gausses: 11 Adjustment: -1\n",
      "Gaussian Progressive\n"
     ]
    },
    {
     "name": "stderr",
     "output_type": "stream",
     "text": [
      "  0%|                                                                                           | 0/59 [00:00<?, ?it/s]"
     ]
    },
    {
     "name": "stdout",
     "output_type": "stream",
     "text": [
      "-----------------------------------------------------------------------------------\n",
      "Level 1\n",
      "Level 2\n"
     ]
    },
    {
     "name": "stderr",
     "output_type": "stream",
     "text": [
      "100%|██████████████████████████████████████████████████████████████████████████████████| 59/59 [00:06<00:00,  9.60it/s]\n"
     ]
    },
    {
     "name": "stdout",
     "output_type": "stream",
     "text": [
      "Level 3\n",
      "Level 4\n",
      "Accuracy: 0.9322033898305084\n",
      "Precision: [0.93877551 0.9       ]\n",
      "Recall: [0.9787234 0.75     ]\n",
      "F-Score: [0.95833333 0.81818182]\n",
      "Support: [47 12]\n"
     ]
    },
    {
     "name": "stderr",
     "output_type": "stream",
     "text": [
      "  0%|                                                                                           | 0/31 [00:00<?, ?it/s]"
     ]
    },
    {
     "name": "stdout",
     "output_type": "stream",
     "text": [
      "-----------------------------------------------------------------------------------\n",
      "Level 1\n",
      "Level 2\n"
     ]
    },
    {
     "name": "stderr",
     "output_type": "stream",
     "text": [
      "100%|██████████████████████████████████████████████████████████████████████████████████| 31/31 [00:03<00:00,  9.77it/s]\n"
     ]
    },
    {
     "name": "stdout",
     "output_type": "stream",
     "text": [
      "Level 3\n",
      "Level 4\n",
      "Accuracy: 0.7096774193548387\n",
      "Precision: [0.77777778 0.25      ]\n",
      "Recall: [0.875      0.14285714]\n",
      "F-Score: [0.82352941 0.18181818]\n",
      "Support: [24  7]\n",
      "Gausses: 11 Adjustment: -2\n",
      "Gaussian Progressive\n"
     ]
    },
    {
     "name": "stderr",
     "output_type": "stream",
     "text": [
      "  0%|                                                                                           | 0/59 [00:00<?, ?it/s]"
     ]
    },
    {
     "name": "stdout",
     "output_type": "stream",
     "text": [
      "-----------------------------------------------------------------------------------\n",
      "Level 1\n",
      "Level 2\n"
     ]
    },
    {
     "name": "stderr",
     "output_type": "stream",
     "text": [
      "100%|██████████████████████████████████████████████████████████████████████████████████| 59/59 [00:09<00:00,  6.39it/s]\n"
     ]
    },
    {
     "name": "stdout",
     "output_type": "stream",
     "text": [
      "Level 3\n",
      "Level 4\n",
      "Accuracy: 0.9830508474576272\n",
      "Precision: [0.97916667 1.        ]\n",
      "Recall: [1.         0.91666667]\n",
      "F-Score: [0.98947368 0.95652174]\n",
      "Support: [47 12]\n",
      "-----------------------------------------------------------------------------------\n"
     ]
    },
    {
     "name": "stderr",
     "output_type": "stream",
     "text": [
      "  6%|█████▎                                                                             | 2/31 [00:00<00:02, 12.90it/s]"
     ]
    },
    {
     "name": "stdout",
     "output_type": "stream",
     "text": [
      "Level 1\n",
      "Level 2\n"
     ]
    },
    {
     "name": "stderr",
     "output_type": "stream",
     "text": [
      "100%|██████████████████████████████████████████████████████████████████████████████████| 31/31 [00:05<00:00,  6.08it/s]\n"
     ]
    },
    {
     "name": "stdout",
     "output_type": "stream",
     "text": [
      "Level 3\n",
      "Level 4\n",
      "Accuracy: 0.7741935483870968\n",
      "Precision: [0.77419355 0.        ]\n",
      "Recall: [1. 0.]\n",
      "F-Score: [0.87272727 0.        ]\n",
      "Support: [24  7]\n",
      "Gausses: 11 Adjustment: -1\n",
      "Gaussian Equal\n"
     ]
    },
    {
     "name": "stderr",
     "output_type": "stream",
     "text": [
      "  0%|                                                                                           | 0/59 [00:00<?, ?it/s]"
     ]
    },
    {
     "name": "stdout",
     "output_type": "stream",
     "text": [
      "-----------------------------------------------------------------------------------\n",
      "Level 1\n",
      "Level 2\n"
     ]
    },
    {
     "name": "stderr",
     "output_type": "stream",
     "text": [
      "100%|██████████████████████████████████████████████████████████████████████████████████| 59/59 [00:05<00:00, 11.79it/s]\n"
     ]
    },
    {
     "name": "stdout",
     "output_type": "stream",
     "text": [
      "Level 3\n",
      "Level 4\n",
      "Accuracy: 0.9830508474576272\n",
      "Precision: [0.97916667 1.        ]\n",
      "Recall: [1.         0.91666667]\n",
      "F-Score: [0.98947368 0.95652174]\n",
      "Support: [47 12]\n"
     ]
    },
    {
     "name": "stderr",
     "output_type": "stream",
     "text": [
      "  0%|                                                                                           | 0/31 [00:00<?, ?it/s]"
     ]
    },
    {
     "name": "stdout",
     "output_type": "stream",
     "text": [
      "-----------------------------------------------------------------------------------\n",
      "Level 1\n",
      "Level 2\n"
     ]
    },
    {
     "name": "stderr",
     "output_type": "stream",
     "text": [
      "100%|██████████████████████████████████████████████████████████████████████████████████| 31/31 [00:02<00:00, 12.81it/s]\n"
     ]
    },
    {
     "name": "stdout",
     "output_type": "stream",
     "text": [
      "Level 3\n",
      "Level 4\n",
      "Accuracy: 0.7419354838709677\n",
      "Precision: [0.76666667 0.        ]\n",
      "Recall: [0.95833333 0.        ]\n",
      "F-Score: [0.85185185 0.        ]\n",
      "Support: [24  7]\n",
      "Gausses: 11 Adjustment: -2\n",
      "Gaussian Equal\n"
     ]
    },
    {
     "name": "stderr",
     "output_type": "stream",
     "text": [
      "  0%|                                                                                           | 0/59 [00:00<?, ?it/s]"
     ]
    },
    {
     "name": "stdout",
     "output_type": "stream",
     "text": [
      "-----------------------------------------------------------------------------------\n",
      "Level 1\n",
      "Level 2\n"
     ]
    },
    {
     "name": "stderr",
     "output_type": "stream",
     "text": [
      "100%|██████████████████████████████████████████████████████████████████████████████████| 59/59 [00:04<00:00, 11.99it/s]\n"
     ]
    },
    {
     "name": "stdout",
     "output_type": "stream",
     "text": [
      "Level 3\n",
      "Level 4\n",
      "Accuracy: 0.9491525423728814\n",
      "Precision: [0.95833333 0.90909091]\n",
      "Recall: [0.9787234  0.83333333]\n",
      "F-Score: [0.96842105 0.86956522]\n",
      "Support: [47 12]\n"
     ]
    },
    {
     "name": "stderr",
     "output_type": "stream",
     "text": [
      "  0%|                                                                                           | 0/31 [00:00<?, ?it/s]"
     ]
    },
    {
     "name": "stdout",
     "output_type": "stream",
     "text": [
      "-----------------------------------------------------------------------------------\n",
      "Level 1\n",
      "Level 2\n"
     ]
    },
    {
     "name": "stderr",
     "output_type": "stream",
     "text": [
      "100%|██████████████████████████████████████████████████████████████████████████████████| 31/31 [00:02<00:00, 11.78it/s]"
     ]
    },
    {
     "name": "stdout",
     "output_type": "stream",
     "text": [
      "Level 3\n",
      "Level 4\n",
      "Accuracy: 0.8064516129032258\n",
      "Precision: [0.8 1. ]\n",
      "Recall: [1.         0.14285714]\n",
      "F-Score: [0.88888889 0.25      ]\n",
      "Support: [24  7]\n"
     ]
    },
    {
     "name": "stderr",
     "output_type": "stream",
     "text": [
      "\n"
     ]
    }
   ],
   "source": [
    "import pandas as pd\n",
    "import Settings.GeneralSettings as generalSettings\n",
    "from Settings.SettingsImmunotherapy import Settings as Settings\n",
    "\n",
    "helper = Helper()\n",
    "results = pd.DataFrame({\n",
    "            'Fuzzifier Type': pd.Series([], dtype='str'),\n",
    "            'Gausses': pd.Series([], dtype='int'),\n",
    "            'Adjustment': pd.Series([], dtype='str'),\n",
    "            'Accuracy': pd.Series([], dtype='float'),\n",
    "            'F1 Score': pd.Series([], dtype='float')\n",
    "        })\n",
    "\n",
    "for gauss in [3, 5, 7, 9, 11]:\n",
    "    for style in [\"Gaussian Progressive\", \"Gaussian Equal\"]:\n",
    "        for adjustment in [-1, -2]:\n",
    "            print(\"Gausses: \" + str(gauss) + \" Adjustment: \" + str(adjustment))\n",
    "            generalSettings.gausses = gauss\n",
    "            generalSettings.style = style\n",
    "            generalSettings.adjustment_value = adjustment\n",
    "            settings = Settings(generalSettings)        \n",
    "\n",
    "            loadCSV = LoadCSV()\n",
    "            samples_stats, train_stats, test_stats, train_samples = loadCSV.worker(settings)\n",
    "            \n",
    "            fuzzify = Fuzzify()\n",
    "            changed_decisions, features_number_after_reduct, implicants_number, fuzzify_parameters, times = fuzzify.worker(settings, settings.adjustment_value, sigma_offset=0.1)   \n",
    "            \n",
    "            fuzzification_data = [settings.dataset_name, settings.style, settings.gausses, settings.adjustment, samples_stats, train_stats, test_stats, changed_decisions, round(changed_decisions / train_samples, 2), implicants_number, settings.feature_numbers, features_number_after_reduct]\n",
    "            helper.saveFuzzificationStats(fuzzification_data)\n",
    "            \n",
    "            valueTest = ValueTest(settings, settings.s_function_width, settings.is_training)\n",
    "            valueTest.sOptymalizationWorker(settings, settings.default_s_value, settings.show_results, center_offset=0.15)\n",
    "            \n",
    "            valueTest = ValueTest(settings, settings.s_function_width, not settings.is_training)\n",
    "            valueTest.sOptymalizationWorker(settings, settings.default_s_value, settings.show_results, center_offset=0.15)\n",
    "            results = results.append(valueTest.results, ignore_index=True)\n",
    "            \n",
    "results.to_csv('ResultsIT2\\ImmunotherapyResultsNoOpt.csv', index=None)"
   ]
  },
  {
   "cell_type": "code",
   "execution_count": 4,
   "metadata": {},
   "outputs": [],
   "source": [
    "import pandas as pd\n",
    "import Settings.GeneralSettings as generalSettings\n",
    "from Settings.SettingsHaberman import Settings as Settings\n",
    "\n",
    "immunoT2 = pd.read_csv(r'C:\\Users\\AdrianCh\\Ki67-master\\Test - Datasets\\ResultsIT2\\ImmunotherapyResultsNoOpt.csv')\n",
    "immunoT2.sort_values(['F1 Score'], inplace=True, ascending=False)\n",
    "best_values = immunoT2[:4]"
   ]
  },
  {
   "cell_type": "code",
   "execution_count": 5,
   "metadata": {},
   "outputs": [
    {
     "name": "stdout",
     "output_type": "stream",
     "text": [
      "Gausses: 5 Style: Gaussian Progressive Adjustment: -1 Sigma Offset: 0.02 Center Offset: 0.02\n",
      "Gaussian Progressive\n"
     ]
    },
    {
     "name": "stderr",
     "output_type": "stream",
     "text": [
      "  1%|█▏                                                                                | 3/201 [00:00<00:08, 24.26it/s]"
     ]
    },
    {
     "name": "stdout",
     "output_type": "stream",
     "text": [
      "-----------------------------------------------------------------------------------\n",
      "Level 1\n",
      "Level 2\n"
     ]
    },
    {
     "name": "stderr",
     "output_type": "stream",
     "text": [
      "100%|████████████████████████████████████████████████████████████████████████████████| 201/201 [00:12<00:00, 16.57it/s]\n"
     ]
    },
    {
     "name": "stdout",
     "output_type": "stream",
     "text": [
      "Level 3\n",
      "Level 4\n",
      "Accuracy: 0.8208955223880597\n",
      "Precision: [1.         0.80434783]\n",
      "Recall: [0.32075472 1.        ]\n",
      "F-Score: [0.48571429 0.89156627]\n",
      "Support: [ 53 148]\n"
     ]
    },
    {
     "name": "stderr",
     "output_type": "stream",
     "text": [
      "  3%|██▎                                                                               | 3/105 [00:00<00:04, 22.96it/s]"
     ]
    },
    {
     "name": "stdout",
     "output_type": "stream",
     "text": [
      "-----------------------------------------------------------------------------------\n",
      "Level 1\n",
      "Level 2\n"
     ]
    },
    {
     "name": "stderr",
     "output_type": "stream",
     "text": [
      "100%|████████████████████████████████████████████████████████████████████████████████| 105/105 [00:06<00:00, 16.82it/s]\n"
     ]
    },
    {
     "name": "stdout",
     "output_type": "stream",
     "text": [
      "Level 3\n",
      "Level 4\n",
      "Accuracy: 0.6666666666666666\n",
      "Precision: [0.23076923 0.72826087]\n",
      "Recall: [0.10714286 0.87012987]\n",
      "F-Score: [0.14634146 0.79289941]\n",
      "Support: [28 77]\n",
      "Gausses: 5 Style: Gaussian Progressive Adjustment: -1 Sigma Offset: 0.02 Center Offset: 0.04\n",
      "Gaussian Progressive\n"
     ]
    },
    {
     "name": "stderr",
     "output_type": "stream",
     "text": [
      "  1%|█▏                                                                                | 3/201 [00:00<00:08, 23.50it/s]"
     ]
    },
    {
     "name": "stdout",
     "output_type": "stream",
     "text": [
      "-----------------------------------------------------------------------------------\n",
      "Level 1\n",
      "Level 2\n"
     ]
    },
    {
     "name": "stderr",
     "output_type": "stream",
     "text": [
      "100%|████████████████████████████████████████████████████████████████████████████████| 201/201 [00:12<00:00, 15.85it/s]\n"
     ]
    },
    {
     "name": "stdout",
     "output_type": "stream",
     "text": [
      "Level 3\n",
      "Level 4\n",
      "Accuracy: 0.8208955223880597\n",
      "Precision: [1.         0.80434783]\n",
      "Recall: [0.32075472 1.        ]\n",
      "F-Score: [0.48571429 0.89156627]\n",
      "Support: [ 53 148]\n"
     ]
    },
    {
     "name": "stderr",
     "output_type": "stream",
     "text": [
      "  3%|██▎                                                                               | 3/105 [00:00<00:04, 23.32it/s]"
     ]
    },
    {
     "name": "stdout",
     "output_type": "stream",
     "text": [
      "-----------------------------------------------------------------------------------\n",
      "Level 1\n",
      "Level 2\n"
     ]
    },
    {
     "name": "stderr",
     "output_type": "stream",
     "text": [
      "100%|████████████████████████████████████████████████████████████████████████████████| 105/105 [00:06<00:00, 16.36it/s]\n"
     ]
    },
    {
     "name": "stdout",
     "output_type": "stream",
     "text": [
      "Level 3\n",
      "Level 4\n",
      "Accuracy: 0.6666666666666666\n",
      "Precision: [0.23076923 0.72826087]\n",
      "Recall: [0.10714286 0.87012987]\n",
      "F-Score: [0.14634146 0.79289941]\n",
      "Support: [28 77]\n",
      "Gausses: 5 Style: Gaussian Progressive Adjustment: -1 Sigma Offset: 0.02 Center Offset: 0.06\n",
      "Gaussian Progressive\n"
     ]
    },
    {
     "name": "stderr",
     "output_type": "stream",
     "text": [
      "  1%|█▏                                                                                | 3/201 [00:00<00:08, 23.69it/s]"
     ]
    },
    {
     "name": "stdout",
     "output_type": "stream",
     "text": [
      "-----------------------------------------------------------------------------------\n",
      "Level 1\n",
      "Level 2\n"
     ]
    },
    {
     "name": "stderr",
     "output_type": "stream",
     "text": [
      "100%|████████████████████████████████████████████████████████████████████████████████| 201/201 [00:12<00:00, 16.03it/s]\n"
     ]
    },
    {
     "name": "stdout",
     "output_type": "stream",
     "text": [
      "Level 3\n",
      "Level 4\n",
      "Accuracy: 0.8208955223880597\n",
      "Precision: [1.         0.80434783]\n",
      "Recall: [0.32075472 1.        ]\n",
      "F-Score: [0.48571429 0.89156627]\n",
      "Support: [ 53 148]\n"
     ]
    },
    {
     "name": "stderr",
     "output_type": "stream",
     "text": [
      "  3%|██▎                                                                               | 3/105 [00:00<00:04, 22.12it/s]"
     ]
    },
    {
     "name": "stdout",
     "output_type": "stream",
     "text": [
      "-----------------------------------------------------------------------------------\n",
      "Level 1\n",
      "Level 2\n"
     ]
    },
    {
     "name": "stderr",
     "output_type": "stream",
     "text": [
      "100%|████████████████████████████████████████████████████████████████████████████████| 105/105 [00:06<00:00, 16.03it/s]\n"
     ]
    },
    {
     "name": "stdout",
     "output_type": "stream",
     "text": [
      "Level 3\n",
      "Level 4\n",
      "Accuracy: 0.6666666666666666\n",
      "Precision: [0.23076923 0.72826087]\n",
      "Recall: [0.10714286 0.87012987]\n",
      "F-Score: [0.14634146 0.79289941]\n",
      "Support: [28 77]\n",
      "Gausses: 5 Style: Gaussian Progressive Adjustment: -1 Sigma Offset: 0.02 Center Offset: 0.08\n",
      "Gaussian Progressive\n"
     ]
    },
    {
     "name": "stderr",
     "output_type": "stream",
     "text": [
      "  1%|█▏                                                                                | 3/201 [00:00<00:08, 23.68it/s]"
     ]
    },
    {
     "name": "stdout",
     "output_type": "stream",
     "text": [
      "-----------------------------------------------------------------------------------\n",
      "Level 1\n",
      "Level 2\n"
     ]
    },
    {
     "name": "stderr",
     "output_type": "stream",
     "text": [
      "100%|████████████████████████████████████████████████████████████████████████████████| 201/201 [00:12<00:00, 16.22it/s]\n"
     ]
    },
    {
     "name": "stdout",
     "output_type": "stream",
     "text": [
      "Level 3\n",
      "Level 4\n",
      "Accuracy: 0.8208955223880597\n",
      "Precision: [1.         0.80434783]\n",
      "Recall: [0.32075472 1.        ]\n",
      "F-Score: [0.48571429 0.89156627]\n",
      "Support: [ 53 148]\n"
     ]
    },
    {
     "name": "stderr",
     "output_type": "stream",
     "text": [
      "  3%|██▎                                                                               | 3/105 [00:00<00:04, 23.87it/s]"
     ]
    },
    {
     "name": "stdout",
     "output_type": "stream",
     "text": [
      "-----------------------------------------------------------------------------------\n",
      "Level 1\n",
      "Level 2\n"
     ]
    },
    {
     "name": "stderr",
     "output_type": "stream",
     "text": [
      "100%|████████████████████████████████████████████████████████████████████████████████| 105/105 [00:06<00:00, 16.36it/s]\n"
     ]
    },
    {
     "name": "stdout",
     "output_type": "stream",
     "text": [
      "Level 3\n",
      "Level 4\n",
      "Accuracy: 0.6666666666666666\n",
      "Precision: [0.23076923 0.72826087]\n",
      "Recall: [0.10714286 0.87012987]\n",
      "F-Score: [0.14634146 0.79289941]\n",
      "Support: [28 77]\n",
      "Gausses: 5 Style: Gaussian Progressive Adjustment: -1 Sigma Offset: 0.02 Center Offset: 0.1\n",
      "Gaussian Progressive\n"
     ]
    },
    {
     "name": "stderr",
     "output_type": "stream",
     "text": [
      "  1%|█▏                                                                                | 3/201 [00:00<00:08, 23.50it/s]"
     ]
    },
    {
     "name": "stdout",
     "output_type": "stream",
     "text": [
      "-----------------------------------------------------------------------------------\n",
      "Level 1\n",
      "Level 2\n"
     ]
    },
    {
     "name": "stderr",
     "output_type": "stream",
     "text": [
      "100%|████████████████████████████████████████████████████████████████████████████████| 201/201 [00:12<00:00, 16.24it/s]\n"
     ]
    },
    {
     "name": "stdout",
     "output_type": "stream",
     "text": [
      "Level 3\n",
      "Level 4\n",
      "Accuracy: 0.8208955223880597\n",
      "Precision: [1.         0.80434783]\n",
      "Recall: [0.32075472 1.        ]\n",
      "F-Score: [0.48571429 0.89156627]\n",
      "Support: [ 53 148]\n"
     ]
    },
    {
     "name": "stderr",
     "output_type": "stream",
     "text": [
      "  3%|██▎                                                                               | 3/105 [00:00<00:04, 23.50it/s]"
     ]
    },
    {
     "name": "stdout",
     "output_type": "stream",
     "text": [
      "-----------------------------------------------------------------------------------\n",
      "Level 1\n",
      "Level 2\n"
     ]
    },
    {
     "name": "stderr",
     "output_type": "stream",
     "text": [
      "100%|████████████████████████████████████████████████████████████████████████████████| 105/105 [00:06<00:00, 16.20it/s]\n"
     ]
    },
    {
     "name": "stdout",
     "output_type": "stream",
     "text": [
      "Level 3\n",
      "Level 4\n",
      "Accuracy: 0.6666666666666666\n",
      "Precision: [0.23076923 0.72826087]\n",
      "Recall: [0.10714286 0.87012987]\n",
      "F-Score: [0.14634146 0.79289941]\n",
      "Support: [28 77]\n",
      "Gausses: 5 Style: Gaussian Progressive Adjustment: -1 Sigma Offset: 0.02 Center Offset: 0.12000000000000001\n",
      "Gaussian Progressive\n"
     ]
    },
    {
     "name": "stderr",
     "output_type": "stream",
     "text": [
      "  1%|█▏                                                                                | 3/201 [00:00<00:08, 22.79it/s]"
     ]
    },
    {
     "name": "stdout",
     "output_type": "stream",
     "text": [
      "-----------------------------------------------------------------------------------\n",
      "Level 1\n",
      "Level 2\n"
     ]
    },
    {
     "name": "stderr",
     "output_type": "stream",
     "text": [
      "100%|████████████████████████████████████████████████████████████████████████████████| 201/201 [00:12<00:00, 16.17it/s]\n"
     ]
    },
    {
     "name": "stdout",
     "output_type": "stream",
     "text": [
      "Level 3\n",
      "Level 4\n",
      "Accuracy: 0.8208955223880597\n",
      "Precision: [1.         0.80434783]\n",
      "Recall: [0.32075472 1.        ]\n",
      "F-Score: [0.48571429 0.89156627]\n",
      "Support: [ 53 148]\n"
     ]
    },
    {
     "name": "stderr",
     "output_type": "stream",
     "text": [
      "  3%|██▎                                                                               | 3/105 [00:00<00:04, 23.31it/s]"
     ]
    },
    {
     "name": "stdout",
     "output_type": "stream",
     "text": [
      "-----------------------------------------------------------------------------------\n",
      "Level 1\n",
      "Level 2\n"
     ]
    },
    {
     "name": "stderr",
     "output_type": "stream",
     "text": [
      "100%|████████████████████████████████████████████████████████████████████████████████| 105/105 [00:06<00:00, 16.27it/s]\n"
     ]
    },
    {
     "name": "stdout",
     "output_type": "stream",
     "text": [
      "Level 3\n",
      "Level 4\n",
      "Accuracy: 0.6666666666666666\n",
      "Precision: [0.23076923 0.72826087]\n",
      "Recall: [0.10714286 0.87012987]\n",
      "F-Score: [0.14634146 0.79289941]\n",
      "Support: [28 77]\n",
      "Gausses: 5 Style: Gaussian Progressive Adjustment: -1 Sigma Offset: 0.02 Center Offset: 0.13999999999999999\n",
      "Gaussian Progressive\n"
     ]
    },
    {
     "name": "stderr",
     "output_type": "stream",
     "text": [
      "  1%|█▏                                                                                | 3/201 [00:00<00:08, 24.46it/s]"
     ]
    },
    {
     "name": "stdout",
     "output_type": "stream",
     "text": [
      "-----------------------------------------------------------------------------------\n",
      "Level 1\n",
      "Level 2\n"
     ]
    },
    {
     "name": "stderr",
     "output_type": "stream",
     "text": [
      "100%|████████████████████████████████████████████████████████████████████████████████| 201/201 [00:13<00:00, 14.45it/s]\n"
     ]
    },
    {
     "name": "stdout",
     "output_type": "stream",
     "text": [
      "Level 3\n",
      "Level 4\n",
      "Accuracy: 0.8208955223880597\n",
      "Precision: [1.         0.80434783]\n",
      "Recall: [0.32075472 1.        ]\n",
      "F-Score: [0.48571429 0.89156627]\n",
      "Support: [ 53 148]\n"
     ]
    },
    {
     "name": "stderr",
     "output_type": "stream",
     "text": [
      "  3%|██▎                                                                               | 3/105 [00:00<00:04, 22.28it/s]"
     ]
    },
    {
     "name": "stdout",
     "output_type": "stream",
     "text": [
      "-----------------------------------------------------------------------------------\n",
      "Level 1\n",
      "Level 2\n"
     ]
    },
    {
     "name": "stderr",
     "output_type": "stream",
     "text": [
      "100%|████████████████████████████████████████████████████████████████████████████████| 105/105 [00:07<00:00, 13.82it/s]\n"
     ]
    },
    {
     "name": "stdout",
     "output_type": "stream",
     "text": [
      "Level 3\n",
      "Level 4\n",
      "Accuracy: 0.6666666666666666\n",
      "Precision: [0.23076923 0.72826087]\n",
      "Recall: [0.10714286 0.87012987]\n",
      "F-Score: [0.14634146 0.79289941]\n",
      "Support: [28 77]\n",
      "Gausses: 5 Style: Gaussian Progressive Adjustment: -1 Sigma Offset: 0.02 Center Offset: 0.16\n",
      "Gaussian Progressive\n"
     ]
    },
    {
     "name": "stderr",
     "output_type": "stream",
     "text": [
      "  1%|█▏                                                                                | 3/201 [00:00<00:09, 21.80it/s]"
     ]
    },
    {
     "name": "stdout",
     "output_type": "stream",
     "text": [
      "-----------------------------------------------------------------------------------\n",
      "Level 1\n",
      "Level 2\n"
     ]
    },
    {
     "name": "stderr",
     "output_type": "stream",
     "text": [
      "100%|████████████████████████████████████████████████████████████████████████████████| 201/201 [00:13<00:00, 14.61it/s]\n"
     ]
    },
    {
     "name": "stdout",
     "output_type": "stream",
     "text": [
      "Level 3\n",
      "Level 4\n",
      "Accuracy: 0.8208955223880597\n",
      "Precision: [1.         0.80434783]\n",
      "Recall: [0.32075472 1.        ]\n",
      "F-Score: [0.48571429 0.89156627]\n",
      "Support: [ 53 148]\n"
     ]
    },
    {
     "name": "stderr",
     "output_type": "stream",
     "text": [
      "  0%|                                                                                          | 0/105 [00:00<?, ?it/s]"
     ]
    },
    {
     "name": "stdout",
     "output_type": "stream",
     "text": [
      "-----------------------------------------------------------------------------------\n",
      "Level 1\n",
      "Level 2\n"
     ]
    },
    {
     "name": "stderr",
     "output_type": "stream",
     "text": [
      "100%|████████████████████████████████████████████████████████████████████████████████| 105/105 [00:06<00:00, 15.22it/s]\n"
     ]
    },
    {
     "name": "stdout",
     "output_type": "stream",
     "text": [
      "Level 3\n",
      "Level 4\n",
      "Accuracy: 0.6666666666666666\n",
      "Precision: [0.23076923 0.72826087]\n",
      "Recall: [0.10714286 0.87012987]\n",
      "F-Score: [0.14634146 0.79289941]\n",
      "Support: [28 77]\n",
      "Gausses: 5 Style: Gaussian Progressive Adjustment: -1 Sigma Offset: 0.02 Center Offset: 0.18\n",
      "Gaussian Progressive\n"
     ]
    },
    {
     "name": "stderr",
     "output_type": "stream",
     "text": [
      "  1%|█▏                                                                                | 3/201 [00:00<00:08, 23.50it/s]"
     ]
    },
    {
     "name": "stdout",
     "output_type": "stream",
     "text": [
      "-----------------------------------------------------------------------------------\n",
      "Level 1\n",
      "Level 2\n"
     ]
    },
    {
     "name": "stderr",
     "output_type": "stream",
     "text": [
      "100%|████████████████████████████████████████████████████████████████████████████████| 201/201 [00:13<00:00, 15.16it/s]\n"
     ]
    },
    {
     "name": "stdout",
     "output_type": "stream",
     "text": [
      "Level 3\n",
      "Level 4\n",
      "Accuracy: 0.8208955223880597\n",
      "Precision: [1.         0.80434783]\n",
      "Recall: [0.32075472 1.        ]\n",
      "F-Score: [0.48571429 0.89156627]\n",
      "Support: [ 53 148]\n"
     ]
    },
    {
     "name": "stderr",
     "output_type": "stream",
     "text": [
      "  3%|██▎                                                                               | 3/105 [00:00<00:04, 23.50it/s]"
     ]
    },
    {
     "name": "stdout",
     "output_type": "stream",
     "text": [
      "-----------------------------------------------------------------------------------\n",
      "Level 1\n",
      "Level 2\n"
     ]
    },
    {
     "name": "stderr",
     "output_type": "stream",
     "text": [
      "100%|████████████████████████████████████████████████████████████████████████████████| 105/105 [00:07<00:00, 14.39it/s]\n"
     ]
    },
    {
     "name": "stdout",
     "output_type": "stream",
     "text": [
      "Level 3\n",
      "Level 4\n",
      "Accuracy: 0.6666666666666666\n",
      "Precision: [0.23076923 0.72826087]\n",
      "Recall: [0.10714286 0.87012987]\n",
      "F-Score: [0.14634146 0.79289941]\n",
      "Support: [28 77]\n",
      "Gausses: 5 Style: Gaussian Progressive Adjustment: -1 Sigma Offset: 0.02 Center Offset: 0.19999999999999998\n",
      "Gaussian Progressive\n"
     ]
    },
    {
     "name": "stderr",
     "output_type": "stream",
     "text": [
      "  1%|█▏                                                                                | 3/201 [00:00<00:08, 23.87it/s]"
     ]
    },
    {
     "name": "stdout",
     "output_type": "stream",
     "text": [
      "-----------------------------------------------------------------------------------\n",
      "Level 1\n",
      "Level 2\n"
     ]
    },
    {
     "name": "stderr",
     "output_type": "stream",
     "text": [
      "100%|████████████████████████████████████████████████████████████████████████████████| 201/201 [00:13<00:00, 14.80it/s]\n"
     ]
    },
    {
     "name": "stdout",
     "output_type": "stream",
     "text": [
      "Level 3\n",
      "Level 4\n",
      "Accuracy: 0.8208955223880597\n",
      "Precision: [1.         0.80434783]\n",
      "Recall: [0.32075472 1.        ]\n",
      "F-Score: [0.48571429 0.89156627]\n",
      "Support: [ 53 148]\n"
     ]
    },
    {
     "name": "stderr",
     "output_type": "stream",
     "text": [
      "  3%|██▎                                                                               | 3/105 [00:00<00:04, 21.33it/s]"
     ]
    },
    {
     "name": "stdout",
     "output_type": "stream",
     "text": [
      "-----------------------------------------------------------------------------------\n",
      "Level 1\n",
      "Level 2\n"
     ]
    },
    {
     "name": "stderr",
     "output_type": "stream",
     "text": [
      "100%|████████████████████████████████████████████████████████████████████████████████| 105/105 [00:07<00:00, 14.35it/s]\n"
     ]
    },
    {
     "name": "stdout",
     "output_type": "stream",
     "text": [
      "Level 3\n",
      "Level 4\n",
      "Accuracy: 0.6666666666666666\n",
      "Precision: [0.23076923 0.72826087]\n",
      "Recall: [0.10714286 0.87012987]\n",
      "F-Score: [0.14634146 0.79289941]\n",
      "Support: [28 77]\n",
      "Gausses: 5 Style: Gaussian Progressive Adjustment: -1 Sigma Offset: 0.04 Center Offset: 0.02\n",
      "Gaussian Progressive\n"
     ]
    },
    {
     "name": "stderr",
     "output_type": "stream",
     "text": [
      "  1%|█▏                                                                                | 3/201 [00:00<00:08, 22.20it/s]"
     ]
    },
    {
     "name": "stdout",
     "output_type": "stream",
     "text": [
      "-----------------------------------------------------------------------------------\n",
      "Level 1\n",
      "Level 2\n"
     ]
    },
    {
     "name": "stderr",
     "output_type": "stream",
     "text": [
      "100%|████████████████████████████████████████████████████████████████████████████████| 201/201 [00:14<00:00, 14.17it/s]\n"
     ]
    },
    {
     "name": "stdout",
     "output_type": "stream",
     "text": [
      "Level 3\n",
      "Level 4\n",
      "Accuracy: 0.8009950248756219\n",
      "Precision: [0.80952381 0.8       ]\n",
      "Recall: [0.32075472 0.97297297]\n",
      "F-Score: [0.45945946 0.87804878]\n",
      "Support: [ 53 148]\n"
     ]
    },
    {
     "name": "stderr",
     "output_type": "stream",
     "text": [
      "  3%|██▎                                                                               | 3/105 [00:00<00:03, 26.78it/s]"
     ]
    },
    {
     "name": "stdout",
     "output_type": "stream",
     "text": [
      "-----------------------------------------------------------------------------------\n",
      "Level 1\n",
      "Level 2\n"
     ]
    },
    {
     "name": "stderr",
     "output_type": "stream",
     "text": [
      "100%|████████████████████████████████████████████████████████████████████████████████| 105/105 [00:06<00:00, 15.47it/s]\n"
     ]
    },
    {
     "name": "stdout",
     "output_type": "stream",
     "text": [
      "Level 3\n",
      "Level 4\n",
      "Accuracy: 0.6476190476190476\n",
      "Precision: [0.2        0.72222222]\n",
      "Recall: [0.10714286 0.84415584]\n",
      "F-Score: [0.13953488 0.77844311]\n",
      "Support: [28 77]\n",
      "Gausses: 5 Style: Gaussian Progressive Adjustment: -1 Sigma Offset: 0.04 Center Offset: 0.04\n",
      "Gaussian Progressive\n"
     ]
    },
    {
     "name": "stderr",
     "output_type": "stream",
     "text": [
      "  1%|█▏                                                                                | 3/201 [00:00<00:08, 23.87it/s]"
     ]
    },
    {
     "name": "stdout",
     "output_type": "stream",
     "text": [
      "-----------------------------------------------------------------------------------\n",
      "Level 1\n",
      "Level 2\n"
     ]
    },
    {
     "name": "stderr",
     "output_type": "stream",
     "text": [
      "100%|████████████████████████████████████████████████████████████████████████████████| 201/201 [00:13<00:00, 15.02it/s]\n"
     ]
    },
    {
     "name": "stdout",
     "output_type": "stream",
     "text": [
      "Level 3\n",
      "Level 4\n",
      "Accuracy: 0.8009950248756219\n",
      "Precision: [0.80952381 0.8       ]\n",
      "Recall: [0.32075472 0.97297297]\n",
      "F-Score: [0.45945946 0.87804878]\n",
      "Support: [ 53 148]\n"
     ]
    },
    {
     "name": "stderr",
     "output_type": "stream",
     "text": [
      "  0%|                                                                                          | 0/105 [00:00<?, ?it/s]"
     ]
    },
    {
     "name": "stdout",
     "output_type": "stream",
     "text": [
      "-----------------------------------------------------------------------------------\n",
      "Level 1\n",
      "Level 2\n"
     ]
    },
    {
     "name": "stderr",
     "output_type": "stream",
     "text": [
      "100%|████████████████████████████████████████████████████████████████████████████████| 105/105 [00:06<00:00, 15.74it/s]\n"
     ]
    },
    {
     "name": "stdout",
     "output_type": "stream",
     "text": [
      "Level 3\n",
      "Level 4\n",
      "Accuracy: 0.6476190476190476\n",
      "Precision: [0.2        0.72222222]\n",
      "Recall: [0.10714286 0.84415584]\n",
      "F-Score: [0.13953488 0.77844311]\n",
      "Support: [28 77]\n",
      "Gausses: 5 Style: Gaussian Progressive Adjustment: -1 Sigma Offset: 0.04 Center Offset: 0.06\n",
      "Gaussian Progressive\n"
     ]
    },
    {
     "name": "stderr",
     "output_type": "stream",
     "text": [
      "  1%|█▏                                                                                | 3/201 [00:00<00:08, 24.17it/s]"
     ]
    },
    {
     "name": "stdout",
     "output_type": "stream",
     "text": [
      "-----------------------------------------------------------------------------------\n",
      "Level 1\n",
      "Level 2\n"
     ]
    },
    {
     "name": "stderr",
     "output_type": "stream",
     "text": [
      "100%|████████████████████████████████████████████████████████████████████████████████| 201/201 [00:12<00:00, 15.77it/s]\n"
     ]
    },
    {
     "name": "stdout",
     "output_type": "stream",
     "text": [
      "Level 3\n",
      "Level 4\n",
      "Accuracy: 0.8009950248756219\n",
      "Precision: [0.80952381 0.8       ]\n",
      "Recall: [0.32075472 0.97297297]\n",
      "F-Score: [0.45945946 0.87804878]\n",
      "Support: [ 53 148]\n"
     ]
    },
    {
     "name": "stderr",
     "output_type": "stream",
     "text": [
      "  3%|██▎                                                                               | 3/105 [00:00<00:04, 23.26it/s]"
     ]
    },
    {
     "name": "stdout",
     "output_type": "stream",
     "text": [
      "-----------------------------------------------------------------------------------\n",
      "Level 1\n",
      "Level 2\n"
     ]
    },
    {
     "name": "stderr",
     "output_type": "stream",
     "text": [
      "100%|████████████████████████████████████████████████████████████████████████████████| 105/105 [00:06<00:00, 15.96it/s]\n"
     ]
    },
    {
     "name": "stdout",
     "output_type": "stream",
     "text": [
      "Level 3\n",
      "Level 4\n",
      "Accuracy: 0.6476190476190476\n",
      "Precision: [0.2        0.72222222]\n",
      "Recall: [0.10714286 0.84415584]\n",
      "F-Score: [0.13953488 0.77844311]\n",
      "Support: [28 77]\n",
      "Gausses: 5 Style: Gaussian Progressive Adjustment: -1 Sigma Offset: 0.04 Center Offset: 0.08\n",
      "Gaussian Progressive\n"
     ]
    },
    {
     "name": "stderr",
     "output_type": "stream",
     "text": [
      "  1%|█▏                                                                                | 3/201 [00:00<00:09, 21.38it/s]"
     ]
    },
    {
     "name": "stdout",
     "output_type": "stream",
     "text": [
      "-----------------------------------------------------------------------------------\n",
      "Level 1\n",
      "Level 2\n"
     ]
    },
    {
     "name": "stderr",
     "output_type": "stream",
     "text": [
      "100%|████████████████████████████████████████████████████████████████████████████████| 201/201 [00:12<00:00, 15.73it/s]\n"
     ]
    },
    {
     "name": "stdout",
     "output_type": "stream",
     "text": [
      "Level 3\n",
      "Level 4\n",
      "Accuracy: 0.8009950248756219\n",
      "Precision: [0.80952381 0.8       ]\n",
      "Recall: [0.32075472 0.97297297]\n",
      "F-Score: [0.45945946 0.87804878]\n",
      "Support: [ 53 148]\n"
     ]
    },
    {
     "name": "stderr",
     "output_type": "stream",
     "text": [
      "  3%|██▎                                                                               | 3/105 [00:00<00:04, 23.87it/s]"
     ]
    },
    {
     "name": "stdout",
     "output_type": "stream",
     "text": [
      "-----------------------------------------------------------------------------------\n",
      "Level 1\n",
      "Level 2\n"
     ]
    },
    {
     "name": "stderr",
     "output_type": "stream",
     "text": [
      "100%|████████████████████████████████████████████████████████████████████████████████| 105/105 [00:06<00:00, 15.87it/s]\n"
     ]
    },
    {
     "name": "stdout",
     "output_type": "stream",
     "text": [
      "Level 3\n",
      "Level 4\n",
      "Accuracy: 0.6476190476190476\n",
      "Precision: [0.2        0.72222222]\n",
      "Recall: [0.10714286 0.84415584]\n",
      "F-Score: [0.13953488 0.77844311]\n",
      "Support: [28 77]\n",
      "Gausses: 5 Style: Gaussian Progressive Adjustment: -1 Sigma Offset: 0.04 Center Offset: 0.1\n",
      "Gaussian Progressive\n"
     ]
    },
    {
     "name": "stderr",
     "output_type": "stream",
     "text": [
      "  1%|█▏                                                                                | 3/201 [00:00<00:09, 21.57it/s]"
     ]
    },
    {
     "name": "stdout",
     "output_type": "stream",
     "text": [
      "-----------------------------------------------------------------------------------\n",
      "Level 1\n",
      "Level 2\n"
     ]
    },
    {
     "name": "stderr",
     "output_type": "stream",
     "text": [
      "100%|████████████████████████████████████████████████████████████████████████████████| 201/201 [00:13<00:00, 15.26it/s]\n"
     ]
    },
    {
     "name": "stdout",
     "output_type": "stream",
     "text": [
      "Level 3\n",
      "Level 4\n",
      "Accuracy: 0.8009950248756219\n",
      "Precision: [0.80952381 0.8       ]\n",
      "Recall: [0.32075472 0.97297297]\n",
      "F-Score: [0.45945946 0.87804878]\n",
      "Support: [ 53 148]\n"
     ]
    },
    {
     "name": "stderr",
     "output_type": "stream",
     "text": [
      "  3%|██▎                                                                               | 3/105 [00:00<00:04, 20.93it/s]"
     ]
    },
    {
     "name": "stdout",
     "output_type": "stream",
     "text": [
      "-----------------------------------------------------------------------------------\n",
      "Level 1\n",
      "Level 2\n"
     ]
    },
    {
     "name": "stderr",
     "output_type": "stream",
     "text": [
      "100%|████████████████████████████████████████████████████████████████████████████████| 105/105 [00:06<00:00, 15.57it/s]\n"
     ]
    },
    {
     "name": "stdout",
     "output_type": "stream",
     "text": [
      "Level 3\n",
      "Level 4\n",
      "Accuracy: 0.6476190476190476\n",
      "Precision: [0.2        0.72222222]\n",
      "Recall: [0.10714286 0.84415584]\n",
      "F-Score: [0.13953488 0.77844311]\n",
      "Support: [28 77]\n",
      "Gausses: 5 Style: Gaussian Progressive Adjustment: -1 Sigma Offset: 0.04 Center Offset: 0.12000000000000001\n",
      "Gaussian Progressive\n"
     ]
    },
    {
     "name": "stderr",
     "output_type": "stream",
     "text": [
      "  1%|█▏                                                                                | 3/201 [00:00<00:08, 22.79it/s]"
     ]
    },
    {
     "name": "stdout",
     "output_type": "stream",
     "text": [
      "-----------------------------------------------------------------------------------\n",
      "Level 1\n",
      "Level 2\n"
     ]
    },
    {
     "name": "stderr",
     "output_type": "stream",
     "text": [
      "100%|████████████████████████████████████████████████████████████████████████████████| 201/201 [00:12<00:00, 15.77it/s]\n"
     ]
    },
    {
     "name": "stdout",
     "output_type": "stream",
     "text": [
      "Level 3\n",
      "Level 4\n",
      "Accuracy: 0.8009950248756219\n",
      "Precision: [0.80952381 0.8       ]\n",
      "Recall: [0.32075472 0.97297297]\n",
      "F-Score: [0.45945946 0.87804878]\n",
      "Support: [ 53 148]\n"
     ]
    },
    {
     "name": "stderr",
     "output_type": "stream",
     "text": [
      "  3%|██▎                                                                               | 3/105 [00:00<00:05, 20.11it/s]"
     ]
    },
    {
     "name": "stdout",
     "output_type": "stream",
     "text": [
      "-----------------------------------------------------------------------------------\n",
      "Level 1\n",
      "Level 2\n"
     ]
    },
    {
     "name": "stderr",
     "output_type": "stream",
     "text": [
      "100%|████████████████████████████████████████████████████████████████████████████████| 105/105 [00:06<00:00, 15.44it/s]\n"
     ]
    },
    {
     "name": "stdout",
     "output_type": "stream",
     "text": [
      "Level 3\n",
      "Level 4\n",
      "Accuracy: 0.6476190476190476\n",
      "Precision: [0.2        0.72222222]\n",
      "Recall: [0.10714286 0.84415584]\n",
      "F-Score: [0.13953488 0.77844311]\n",
      "Support: [28 77]\n",
      "Gausses: 5 Style: Gaussian Progressive Adjustment: -1 Sigma Offset: 0.04 Center Offset: 0.13999999999999999\n",
      "Gaussian Progressive\n"
     ]
    },
    {
     "name": "stderr",
     "output_type": "stream",
     "text": [
      "  1%|█▏                                                                                | 3/201 [00:00<00:08, 23.49it/s]"
     ]
    },
    {
     "name": "stdout",
     "output_type": "stream",
     "text": [
      "-----------------------------------------------------------------------------------\n",
      "Level 1\n",
      "Level 2\n"
     ]
    },
    {
     "name": "stderr",
     "output_type": "stream",
     "text": [
      "100%|████████████████████████████████████████████████████████████████████████████████| 201/201 [00:13<00:00, 15.20it/s]\n"
     ]
    },
    {
     "name": "stdout",
     "output_type": "stream",
     "text": [
      "Level 3\n",
      "Level 4\n",
      "Accuracy: 0.8109452736318408\n",
      "Precision: [0.89473684 0.8021978 ]\n",
      "Recall: [0.32075472 0.98648649]\n",
      "F-Score: [0.47222222 0.88484848]\n",
      "Support: [ 53 148]\n"
     ]
    },
    {
     "name": "stderr",
     "output_type": "stream",
     "text": [
      "  3%|██▎                                                                               | 3/105 [00:00<00:04, 22.06it/s]"
     ]
    },
    {
     "name": "stdout",
     "output_type": "stream",
     "text": [
      "-----------------------------------------------------------------------------------\n",
      "Level 1\n",
      "Level 2\n"
     ]
    },
    {
     "name": "stderr",
     "output_type": "stream",
     "text": [
      "100%|████████████████████████████████████████████████████████████████████████████████| 105/105 [00:06<00:00, 15.63it/s]\n"
     ]
    },
    {
     "name": "stdout",
     "output_type": "stream",
     "text": [
      "Level 3\n",
      "Level 4\n",
      "Accuracy: 0.6571428571428571\n",
      "Precision: [0.21428571 0.72527473]\n",
      "Recall: [0.10714286 0.85714286]\n",
      "F-Score: [0.14285714 0.78571429]\n",
      "Support: [28 77]\n",
      "Gausses: 5 Style: Gaussian Progressive Adjustment: -1 Sigma Offset: 0.04 Center Offset: 0.16\n",
      "Gaussian Progressive\n"
     ]
    },
    {
     "name": "stderr",
     "output_type": "stream",
     "text": [
      "  1%|█▏                                                                                | 3/201 [00:00<00:08, 23.97it/s]"
     ]
    },
    {
     "name": "stdout",
     "output_type": "stream",
     "text": [
      "-----------------------------------------------------------------------------------\n",
      "Level 1\n",
      "Level 2\n"
     ]
    },
    {
     "name": "stderr",
     "output_type": "stream",
     "text": [
      "100%|████████████████████████████████████████████████████████████████████████████████| 201/201 [00:13<00:00, 15.29it/s]\n"
     ]
    },
    {
     "name": "stdout",
     "output_type": "stream",
     "text": [
      "Level 3\n",
      "Level 4\n",
      "Accuracy: 0.8109452736318408\n",
      "Precision: [0.89473684 0.8021978 ]\n",
      "Recall: [0.32075472 0.98648649]\n",
      "F-Score: [0.47222222 0.88484848]\n",
      "Support: [ 53 148]\n"
     ]
    },
    {
     "name": "stderr",
     "output_type": "stream",
     "text": [
      "  3%|██▎                                                                               | 3/105 [00:00<00:04, 23.14it/s]"
     ]
    },
    {
     "name": "stdout",
     "output_type": "stream",
     "text": [
      "-----------------------------------------------------------------------------------\n",
      "Level 1\n",
      "Level 2\n"
     ]
    },
    {
     "name": "stderr",
     "output_type": "stream",
     "text": [
      "100%|████████████████████████████████████████████████████████████████████████████████| 105/105 [00:06<00:00, 15.29it/s]\n"
     ]
    },
    {
     "name": "stdout",
     "output_type": "stream",
     "text": [
      "Level 3\n",
      "Level 4\n",
      "Accuracy: 0.6571428571428571\n",
      "Precision: [0.21428571 0.72527473]\n",
      "Recall: [0.10714286 0.85714286]\n",
      "F-Score: [0.14285714 0.78571429]\n",
      "Support: [28 77]\n",
      "Gausses: 5 Style: Gaussian Progressive Adjustment: -1 Sigma Offset: 0.04 Center Offset: 0.18\n",
      "Gaussian Progressive\n"
     ]
    },
    {
     "name": "stderr",
     "output_type": "stream",
     "text": [
      "  1%|█▏                                                                                | 3/201 [00:00<00:10, 19.11it/s]"
     ]
    },
    {
     "name": "stdout",
     "output_type": "stream",
     "text": [
      "-----------------------------------------------------------------------------------\n",
      "Level 1\n",
      "Level 2\n"
     ]
    },
    {
     "name": "stderr",
     "output_type": "stream",
     "text": [
      "100%|████████████████████████████████████████████████████████████████████████████████| 201/201 [00:12<00:00, 15.61it/s]\n"
     ]
    },
    {
     "name": "stdout",
     "output_type": "stream",
     "text": [
      "Level 3\n",
      "Level 4\n",
      "Accuracy: 0.8109452736318408\n",
      "Precision: [0.89473684 0.8021978 ]\n",
      "Recall: [0.32075472 0.98648649]\n",
      "F-Score: [0.47222222 0.88484848]\n",
      "Support: [ 53 148]\n"
     ]
    },
    {
     "name": "stderr",
     "output_type": "stream",
     "text": [
      "  3%|██▎                                                                               | 3/105 [00:00<00:04, 24.14it/s]"
     ]
    },
    {
     "name": "stdout",
     "output_type": "stream",
     "text": [
      "-----------------------------------------------------------------------------------\n",
      "Level 1\n",
      "Level 2\n"
     ]
    },
    {
     "name": "stderr",
     "output_type": "stream",
     "text": [
      "100%|████████████████████████████████████████████████████████████████████████████████| 105/105 [00:06<00:00, 15.89it/s]\n"
     ]
    },
    {
     "name": "stdout",
     "output_type": "stream",
     "text": [
      "Level 3\n",
      "Level 4\n",
      "Accuracy: 0.6571428571428571\n",
      "Precision: [0.21428571 0.72527473]\n",
      "Recall: [0.10714286 0.85714286]\n",
      "F-Score: [0.14285714 0.78571429]\n",
      "Support: [28 77]\n",
      "Gausses: 5 Style: Gaussian Progressive Adjustment: -1 Sigma Offset: 0.04 Center Offset: 0.19999999999999998\n",
      "Gaussian Progressive\n"
     ]
    },
    {
     "name": "stderr",
     "output_type": "stream",
     "text": [
      "  1%|█▏                                                                                | 3/201 [00:00<00:08, 23.87it/s]"
     ]
    },
    {
     "name": "stdout",
     "output_type": "stream",
     "text": [
      "-----------------------------------------------------------------------------------\n",
      "Level 1\n",
      "Level 2\n"
     ]
    },
    {
     "name": "stderr",
     "output_type": "stream",
     "text": [
      "100%|████████████████████████████████████████████████████████████████████████████████| 201/201 [00:12<00:00, 15.95it/s]\n"
     ]
    },
    {
     "name": "stdout",
     "output_type": "stream",
     "text": [
      "Level 3\n",
      "Level 4\n",
      "Accuracy: 0.8109452736318408\n",
      "Precision: [0.89473684 0.8021978 ]\n",
      "Recall: [0.32075472 0.98648649]\n",
      "F-Score: [0.47222222 0.88484848]\n",
      "Support: [ 53 148]\n"
     ]
    },
    {
     "name": "stderr",
     "output_type": "stream",
     "text": [
      "  3%|██▎                                                                               | 3/105 [00:00<00:04, 23.87it/s]"
     ]
    },
    {
     "name": "stdout",
     "output_type": "stream",
     "text": [
      "-----------------------------------------------------------------------------------\n",
      "Level 1\n",
      "Level 2\n"
     ]
    },
    {
     "name": "stderr",
     "output_type": "stream",
     "text": [
      "100%|████████████████████████████████████████████████████████████████████████████████| 105/105 [00:06<00:00, 16.14it/s]\n"
     ]
    },
    {
     "name": "stdout",
     "output_type": "stream",
     "text": [
      "Level 3\n",
      "Level 4\n",
      "Accuracy: 0.6571428571428571\n",
      "Precision: [0.21428571 0.72527473]\n",
      "Recall: [0.10714286 0.85714286]\n",
      "F-Score: [0.14285714 0.78571429]\n",
      "Support: [28 77]\n",
      "Gausses: 5 Style: Gaussian Progressive Adjustment: -1 Sigma Offset: 0.06 Center Offset: 0.02\n",
      "Gaussian Progressive\n"
     ]
    },
    {
     "name": "stderr",
     "output_type": "stream",
     "text": [
      "  1%|█▏                                                                                | 3/201 [00:00<00:08, 24.06it/s]"
     ]
    },
    {
     "name": "stdout",
     "output_type": "stream",
     "text": [
      "-----------------------------------------------------------------------------------\n",
      "Level 1\n",
      "Level 2\n"
     ]
    },
    {
     "name": "stderr",
     "output_type": "stream",
     "text": [
      "100%|████████████████████████████████████████████████████████████████████████████████| 201/201 [00:12<00:00, 16.44it/s]\n"
     ]
    },
    {
     "name": "stdout",
     "output_type": "stream",
     "text": [
      "Level 3\n",
      "Level 4\n",
      "Accuracy: 0.7960199004975125\n",
      "Precision: [0.875      0.78918919]\n",
      "Recall: [0.26415094 0.98648649]\n",
      "F-Score: [0.4057971  0.87687688]\n",
      "Support: [ 53 148]\n"
     ]
    },
    {
     "name": "stderr",
     "output_type": "stream",
     "text": [
      "  3%|██▎                                                                               | 3/105 [00:00<00:04, 23.68it/s]"
     ]
    },
    {
     "name": "stdout",
     "output_type": "stream",
     "text": [
      "-----------------------------------------------------------------------------------\n",
      "Level 1\n",
      "Level 2\n"
     ]
    },
    {
     "name": "stderr",
     "output_type": "stream",
     "text": [
      "100%|████████████████████████████████████████████████████████████████████████████████| 105/105 [00:06<00:00, 16.65it/s]\n"
     ]
    },
    {
     "name": "stdout",
     "output_type": "stream",
     "text": [
      "Level 3\n",
      "Level 4\n",
      "Accuracy: 0.6571428571428571\n",
      "Precision: [0.16666667 0.72043011]\n",
      "Recall: [0.07142857 0.87012987]\n",
      "F-Score: [0.1        0.78823529]\n",
      "Support: [28 77]\n",
      "Gausses: 5 Style: Gaussian Progressive Adjustment: -1 Sigma Offset: 0.06 Center Offset: 0.04\n",
      "Gaussian Progressive\n"
     ]
    },
    {
     "name": "stderr",
     "output_type": "stream",
     "text": [
      "  1%|█▏                                                                                | 3/201 [00:00<00:10, 19.04it/s]"
     ]
    },
    {
     "name": "stdout",
     "output_type": "stream",
     "text": [
      "-----------------------------------------------------------------------------------\n",
      "Level 1\n",
      "Level 2\n"
     ]
    },
    {
     "name": "stderr",
     "output_type": "stream",
     "text": [
      "100%|████████████████████████████████████████████████████████████████████████████████| 201/201 [00:15<00:00, 13.29it/s]\n"
     ]
    },
    {
     "name": "stdout",
     "output_type": "stream",
     "text": [
      "Level 3\n",
      "Level 4\n",
      "Accuracy: 0.7960199004975125\n",
      "Precision: [0.875      0.78918919]\n",
      "Recall: [0.26415094 0.98648649]\n",
      "F-Score: [0.4057971  0.87687688]\n",
      "Support: [ 53 148]\n"
     ]
    },
    {
     "name": "stderr",
     "output_type": "stream",
     "text": [
      "  3%|██▎                                                                               | 3/105 [00:00<00:05, 18.87it/s]"
     ]
    },
    {
     "name": "stdout",
     "output_type": "stream",
     "text": [
      "-----------------------------------------------------------------------------------\n",
      "Level 1\n",
      "Level 2\n"
     ]
    },
    {
     "name": "stderr",
     "output_type": "stream",
     "text": [
      "100%|████████████████████████████████████████████████████████████████████████████████| 105/105 [00:07<00:00, 14.32it/s]\n"
     ]
    },
    {
     "name": "stdout",
     "output_type": "stream",
     "text": [
      "Level 3\n",
      "Level 4\n",
      "Accuracy: 0.6571428571428571\n",
      "Precision: [0.16666667 0.72043011]\n",
      "Recall: [0.07142857 0.87012987]\n",
      "F-Score: [0.1        0.78823529]\n",
      "Support: [28 77]\n",
      "Gausses: 5 Style: Gaussian Progressive Adjustment: -1 Sigma Offset: 0.06 Center Offset: 0.06\n",
      "Gaussian Progressive\n"
     ]
    },
    {
     "name": "stderr",
     "output_type": "stream",
     "text": [
      "  1%|█▏                                                                                | 3/201 [00:00<00:09, 19.92it/s]"
     ]
    },
    {
     "name": "stdout",
     "output_type": "stream",
     "text": [
      "-----------------------------------------------------------------------------------\n",
      "Level 1\n",
      "Level 2\n"
     ]
    },
    {
     "name": "stderr",
     "output_type": "stream",
     "text": [
      "100%|████████████████████████████████████████████████████████████████████████████████| 201/201 [00:13<00:00, 14.70it/s]\n"
     ]
    },
    {
     "name": "stdout",
     "output_type": "stream",
     "text": [
      "Level 3\n",
      "Level 4\n",
      "Accuracy: 0.7960199004975125\n",
      "Precision: [0.875      0.78918919]\n",
      "Recall: [0.26415094 0.98648649]\n",
      "F-Score: [0.4057971  0.87687688]\n",
      "Support: [ 53 148]\n"
     ]
    },
    {
     "name": "stderr",
     "output_type": "stream",
     "text": [
      "  3%|██▎                                                                               | 3/105 [00:00<00:04, 22.28it/s]"
     ]
    },
    {
     "name": "stdout",
     "output_type": "stream",
     "text": [
      "-----------------------------------------------------------------------------------\n",
      "Level 1\n",
      "Level 2\n"
     ]
    },
    {
     "name": "stderr",
     "output_type": "stream",
     "text": [
      "100%|████████████████████████████████████████████████████████████████████████████████| 105/105 [00:07<00:00, 14.68it/s]\n"
     ]
    },
    {
     "name": "stdout",
     "output_type": "stream",
     "text": [
      "Level 3\n",
      "Level 4\n",
      "Accuracy: 0.6571428571428571\n",
      "Precision: [0.16666667 0.72043011]\n",
      "Recall: [0.07142857 0.87012987]\n",
      "F-Score: [0.1        0.78823529]\n",
      "Support: [28 77]\n",
      "Gausses: 5 Style: Gaussian Progressive Adjustment: -1 Sigma Offset: 0.06 Center Offset: 0.08\n",
      "Gaussian Progressive\n"
     ]
    },
    {
     "name": "stderr",
     "output_type": "stream",
     "text": [
      "  1%|█▏                                                                                | 3/201 [00:00<00:08, 23.55it/s]"
     ]
    },
    {
     "name": "stdout",
     "output_type": "stream",
     "text": [
      "-----------------------------------------------------------------------------------\n",
      "Level 1\n",
      "Level 2\n"
     ]
    },
    {
     "name": "stderr",
     "output_type": "stream",
     "text": [
      "100%|████████████████████████████████████████████████████████████████████████████████| 201/201 [00:14<00:00, 14.24it/s]\n"
     ]
    },
    {
     "name": "stdout",
     "output_type": "stream",
     "text": [
      "Level 3\n",
      "Level 4\n",
      "Accuracy: 0.7960199004975125\n",
      "Precision: [0.875      0.78918919]\n",
      "Recall: [0.26415094 0.98648649]\n",
      "F-Score: [0.4057971  0.87687688]\n",
      "Support: [ 53 148]\n"
     ]
    },
    {
     "name": "stderr",
     "output_type": "stream",
     "text": [
      "  3%|██▎                                                                               | 3/105 [00:00<00:05, 19.16it/s]"
     ]
    },
    {
     "name": "stdout",
     "output_type": "stream",
     "text": [
      "-----------------------------------------------------------------------------------\n",
      "Level 1\n",
      "Level 2\n"
     ]
    },
    {
     "name": "stderr",
     "output_type": "stream",
     "text": [
      "100%|████████████████████████████████████████████████████████████████████████████████| 105/105 [00:06<00:00, 15.34it/s]\n"
     ]
    },
    {
     "name": "stdout",
     "output_type": "stream",
     "text": [
      "Level 3\n",
      "Level 4\n",
      "Accuracy: 0.6571428571428571\n",
      "Precision: [0.16666667 0.72043011]\n",
      "Recall: [0.07142857 0.87012987]\n",
      "F-Score: [0.1        0.78823529]\n",
      "Support: [28 77]\n",
      "Gausses: 5 Style: Gaussian Progressive Adjustment: -1 Sigma Offset: 0.06 Center Offset: 0.1\n",
      "Gaussian Progressive\n"
     ]
    },
    {
     "name": "stderr",
     "output_type": "stream",
     "text": [
      "  1%|█▏                                                                                | 3/201 [00:00<00:09, 21.33it/s]"
     ]
    },
    {
     "name": "stdout",
     "output_type": "stream",
     "text": [
      "-----------------------------------------------------------------------------------\n",
      "Level 1\n",
      "Level 2\n"
     ]
    },
    {
     "name": "stderr",
     "output_type": "stream",
     "text": [
      "100%|████████████████████████████████████████████████████████████████████████████████| 201/201 [00:13<00:00, 14.83it/s]\n"
     ]
    },
    {
     "name": "stdout",
     "output_type": "stream",
     "text": [
      "Level 3\n",
      "Level 4\n",
      "Accuracy: 0.7960199004975125\n",
      "Precision: [0.875      0.78918919]\n",
      "Recall: [0.26415094 0.98648649]\n",
      "F-Score: [0.4057971  0.87687688]\n",
      "Support: [ 53 148]\n"
     ]
    },
    {
     "name": "stderr",
     "output_type": "stream",
     "text": [
      "  3%|██▎                                                                               | 3/105 [00:00<00:04, 21.03it/s]"
     ]
    },
    {
     "name": "stdout",
     "output_type": "stream",
     "text": [
      "-----------------------------------------------------------------------------------\n",
      "Level 1\n",
      "Level 2\n"
     ]
    },
    {
     "name": "stderr",
     "output_type": "stream",
     "text": [
      "100%|████████████████████████████████████████████████████████████████████████████████| 105/105 [00:07<00:00, 14.38it/s]\n"
     ]
    },
    {
     "name": "stdout",
     "output_type": "stream",
     "text": [
      "Level 3\n",
      "Level 4\n",
      "Accuracy: 0.6571428571428571\n",
      "Precision: [0.16666667 0.72043011]\n",
      "Recall: [0.07142857 0.87012987]\n",
      "F-Score: [0.1        0.78823529]\n",
      "Support: [28 77]\n",
      "Gausses: 5 Style: Gaussian Progressive Adjustment: -1 Sigma Offset: 0.06 Center Offset: 0.12000000000000001\n",
      "Gaussian Progressive\n"
     ]
    },
    {
     "name": "stderr",
     "output_type": "stream",
     "text": [
      "  1%|█▏                                                                                | 3/201 [00:00<00:08, 23.50it/s]"
     ]
    },
    {
     "name": "stdout",
     "output_type": "stream",
     "text": [
      "-----------------------------------------------------------------------------------\n",
      "Level 1\n",
      "Level 2\n"
     ]
    },
    {
     "name": "stderr",
     "output_type": "stream",
     "text": [
      "100%|████████████████████████████████████████████████████████████████████████████████| 201/201 [00:13<00:00, 14.57it/s]\n"
     ]
    },
    {
     "name": "stdout",
     "output_type": "stream",
     "text": [
      "Level 3\n",
      "Level 4\n",
      "Accuracy: 0.8009950248756219\n",
      "Precision: [0.88235294 0.79347826]\n",
      "Recall: [0.28301887 0.98648649]\n",
      "F-Score: [0.42857143 0.87951807]\n",
      "Support: [ 53 148]\n"
     ]
    },
    {
     "name": "stderr",
     "output_type": "stream",
     "text": [
      "  3%|██▎                                                                               | 3/105 [00:00<00:04, 23.04it/s]"
     ]
    },
    {
     "name": "stdout",
     "output_type": "stream",
     "text": [
      "-----------------------------------------------------------------------------------\n",
      "Level 1\n",
      "Level 2\n"
     ]
    },
    {
     "name": "stderr",
     "output_type": "stream",
     "text": [
      "100%|████████████████████████████████████████████████████████████████████████████████| 105/105 [00:07<00:00, 14.87it/s]\n"
     ]
    },
    {
     "name": "stdout",
     "output_type": "stream",
     "text": [
      "Level 3\n",
      "Level 4\n",
      "Accuracy: 0.6571428571428571\n",
      "Precision: [0.16666667 0.72043011]\n",
      "Recall: [0.07142857 0.87012987]\n",
      "F-Score: [0.1        0.78823529]\n",
      "Support: [28 77]\n",
      "Gausses: 5 Style: Gaussian Progressive Adjustment: -1 Sigma Offset: 0.06 Center Offset: 0.13999999999999999\n",
      "Gaussian Progressive\n"
     ]
    },
    {
     "name": "stderr",
     "output_type": "stream",
     "text": [
      "  0%|                                                                                          | 0/201 [00:00<?, ?it/s]"
     ]
    },
    {
     "name": "stdout",
     "output_type": "stream",
     "text": [
      "-----------------------------------------------------------------------------------\n",
      "Level 1\n",
      "Level 2\n"
     ]
    },
    {
     "name": "stderr",
     "output_type": "stream",
     "text": [
      "100%|████████████████████████████████████████████████████████████████████████████████| 201/201 [00:14<00:00, 13.94it/s]\n"
     ]
    },
    {
     "name": "stdout",
     "output_type": "stream",
     "text": [
      "Level 3\n",
      "Level 4\n",
      "Accuracy: 0.8009950248756219\n",
      "Precision: [0.88235294 0.79347826]\n",
      "Recall: [0.28301887 0.98648649]\n",
      "F-Score: [0.42857143 0.87951807]\n",
      "Support: [ 53 148]\n"
     ]
    },
    {
     "name": "stderr",
     "output_type": "stream",
     "text": [
      "  3%|██▎                                                                               | 3/105 [00:00<00:04, 20.46it/s]"
     ]
    },
    {
     "name": "stdout",
     "output_type": "stream",
     "text": [
      "-----------------------------------------------------------------------------------\n",
      "Level 1\n",
      "Level 2\n"
     ]
    },
    {
     "name": "stderr",
     "output_type": "stream",
     "text": [
      "100%|████████████████████████████████████████████████████████████████████████████████| 105/105 [00:07<00:00, 14.07it/s]\n"
     ]
    },
    {
     "name": "stdout",
     "output_type": "stream",
     "text": [
      "Level 3\n",
      "Level 4\n",
      "Accuracy: 0.6571428571428571\n",
      "Precision: [0.16666667 0.72043011]\n",
      "Recall: [0.07142857 0.87012987]\n",
      "F-Score: [0.1        0.78823529]\n",
      "Support: [28 77]\n",
      "Gausses: 5 Style: Gaussian Progressive Adjustment: -1 Sigma Offset: 0.06 Center Offset: 0.16\n",
      "Gaussian Progressive\n"
     ]
    },
    {
     "name": "stderr",
     "output_type": "stream",
     "text": [
      "  1%|█▏                                                                                | 3/201 [00:00<00:09, 21.83it/s]"
     ]
    },
    {
     "name": "stdout",
     "output_type": "stream",
     "text": [
      "-----------------------------------------------------------------------------------\n",
      "Level 1\n",
      "Level 2\n"
     ]
    },
    {
     "name": "stderr",
     "output_type": "stream",
     "text": [
      "100%|████████████████████████████████████████████████████████████████████████████████| 201/201 [00:13<00:00, 14.93it/s]\n"
     ]
    },
    {
     "name": "stdout",
     "output_type": "stream",
     "text": [
      "Level 3\n",
      "Level 4\n",
      "Accuracy: 0.8009950248756219\n",
      "Precision: [0.88235294 0.79347826]\n",
      "Recall: [0.28301887 0.98648649]\n",
      "F-Score: [0.42857143 0.87951807]\n",
      "Support: [ 53 148]\n"
     ]
    },
    {
     "name": "stderr",
     "output_type": "stream",
     "text": [
      "  0%|                                                                                          | 0/105 [00:00<?, ?it/s]"
     ]
    },
    {
     "name": "stdout",
     "output_type": "stream",
     "text": [
      "-----------------------------------------------------------------------------------\n",
      "Level 1\n",
      "Level 2\n"
     ]
    },
    {
     "name": "stderr",
     "output_type": "stream",
     "text": [
      "100%|████████████████████████████████████████████████████████████████████████████████| 105/105 [00:06<00:00, 15.04it/s]\n"
     ]
    },
    {
     "name": "stdout",
     "output_type": "stream",
     "text": [
      "Level 3\n",
      "Level 4\n",
      "Accuracy: 0.6571428571428571\n",
      "Precision: [0.16666667 0.72043011]\n",
      "Recall: [0.07142857 0.87012987]\n",
      "F-Score: [0.1        0.78823529]\n",
      "Support: [28 77]\n",
      "Gausses: 5 Style: Gaussian Progressive Adjustment: -1 Sigma Offset: 0.06 Center Offset: 0.18\n",
      "Gaussian Progressive\n"
     ]
    },
    {
     "name": "stderr",
     "output_type": "stream",
     "text": [
      "  0%|                                                                                          | 0/201 [00:00<?, ?it/s]"
     ]
    },
    {
     "name": "stdout",
     "output_type": "stream",
     "text": [
      "-----------------------------------------------------------------------------------\n",
      "Level 1\n",
      "Level 2\n"
     ]
    },
    {
     "name": "stderr",
     "output_type": "stream",
     "text": [
      "100%|████████████████████████████████████████████████████████████████████████████████| 201/201 [00:16<00:00, 12.49it/s]\n"
     ]
    },
    {
     "name": "stdout",
     "output_type": "stream",
     "text": [
      "Level 3\n",
      "Level 4\n",
      "Accuracy: 0.7960199004975125\n",
      "Precision: [0.875      0.78918919]\n",
      "Recall: [0.26415094 0.98648649]\n",
      "F-Score: [0.4057971  0.87687688]\n",
      "Support: [ 53 148]\n"
     ]
    },
    {
     "name": "stderr",
     "output_type": "stream",
     "text": [
      "  3%|██▎                                                                               | 3/105 [00:00<00:04, 22.90it/s]"
     ]
    },
    {
     "name": "stdout",
     "output_type": "stream",
     "text": [
      "-----------------------------------------------------------------------------------\n",
      "Level 1\n",
      "Level 2\n"
     ]
    },
    {
     "name": "stderr",
     "output_type": "stream",
     "text": [
      "100%|████████████████████████████████████████████████████████████████████████████████| 105/105 [00:06<00:00, 15.04it/s]\n"
     ]
    },
    {
     "name": "stdout",
     "output_type": "stream",
     "text": [
      "Level 3\n",
      "Level 4\n",
      "Accuracy: 0.6571428571428571\n",
      "Precision: [0.16666667 0.72043011]\n",
      "Recall: [0.07142857 0.87012987]\n",
      "F-Score: [0.1        0.78823529]\n",
      "Support: [28 77]\n",
      "Gausses: 5 Style: Gaussian Progressive Adjustment: -1 Sigma Offset: 0.06 Center Offset: 0.19999999999999998\n",
      "Gaussian Progressive\n"
     ]
    },
    {
     "name": "stderr",
     "output_type": "stream",
     "text": [
      "  1%|█▏                                                                                | 3/201 [00:00<00:08, 24.61it/s]"
     ]
    },
    {
     "name": "stdout",
     "output_type": "stream",
     "text": [
      "-----------------------------------------------------------------------------------\n",
      "Level 1\n",
      "Level 2\n"
     ]
    },
    {
     "name": "stderr",
     "output_type": "stream",
     "text": [
      "100%|████████████████████████████████████████████████████████████████████████████████| 201/201 [00:13<00:00, 15.38it/s]\n"
     ]
    },
    {
     "name": "stdout",
     "output_type": "stream",
     "text": [
      "Level 3\n",
      "Level 4\n",
      "Accuracy: 0.7910447761194029\n",
      "Precision: [0.86666667 0.78494624]\n",
      "Recall: [0.24528302 0.98648649]\n",
      "F-Score: [0.38235294 0.8742515 ]\n",
      "Support: [ 53 148]\n"
     ]
    },
    {
     "name": "stderr",
     "output_type": "stream",
     "text": [
      "  3%|██▎                                                                               | 3/105 [00:00<00:04, 21.49it/s]"
     ]
    },
    {
     "name": "stdout",
     "output_type": "stream",
     "text": [
      "-----------------------------------------------------------------------------------\n",
      "Level 1\n",
      "Level 2\n"
     ]
    },
    {
     "name": "stderr",
     "output_type": "stream",
     "text": [
      "100%|████████████████████████████████████████████████████████████████████████████████| 105/105 [00:06<00:00, 15.36it/s]\n"
     ]
    },
    {
     "name": "stdout",
     "output_type": "stream",
     "text": [
      "Level 3\n",
      "Level 4\n",
      "Accuracy: 0.6571428571428571\n",
      "Precision: [0.16666667 0.72043011]\n",
      "Recall: [0.07142857 0.87012987]\n",
      "F-Score: [0.1        0.78823529]\n",
      "Support: [28 77]\n",
      "Gausses: 5 Style: Gaussian Progressive Adjustment: -1 Sigma Offset: 0.08 Center Offset: 0.02\n",
      "Gaussian Progressive\n"
     ]
    },
    {
     "name": "stderr",
     "output_type": "stream",
     "text": [
      "  1%|█▏                                                                                | 3/201 [00:00<00:09, 20.56it/s]"
     ]
    },
    {
     "name": "stdout",
     "output_type": "stream",
     "text": [
      "-----------------------------------------------------------------------------------\n",
      "Level 1\n",
      "Level 2\n"
     ]
    },
    {
     "name": "stderr",
     "output_type": "stream",
     "text": [
      "100%|████████████████████████████████████████████████████████████████████████████████| 201/201 [00:12<00:00, 16.04it/s]\n"
     ]
    },
    {
     "name": "stdout",
     "output_type": "stream",
     "text": [
      "Level 3\n",
      "Level 4\n",
      "Accuracy: 0.7711442786069652\n",
      "Precision: [0.70588235 0.77717391]\n",
      "Recall: [0.22641509 0.96621622]\n",
      "F-Score: [0.34285714 0.86144578]\n",
      "Support: [ 53 148]\n"
     ]
    },
    {
     "name": "stderr",
     "output_type": "stream",
     "text": [
      "  3%|██▎                                                                               | 3/105 [00:00<00:04, 23.26it/s]"
     ]
    },
    {
     "name": "stdout",
     "output_type": "stream",
     "text": [
      "-----------------------------------------------------------------------------------\n",
      "Level 1\n",
      "Level 2\n"
     ]
    },
    {
     "name": "stderr",
     "output_type": "stream",
     "text": [
      "100%|████████████████████████████████████████████████████████████████████████████████| 105/105 [00:06<00:00, 16.01it/s]\n"
     ]
    },
    {
     "name": "stdout",
     "output_type": "stream",
     "text": [
      "Level 3\n",
      "Level 4\n",
      "Accuracy: 0.6952380952380952\n",
      "Precision: [0.25       0.73195876]\n",
      "Recall: [0.07142857 0.92207792]\n",
      "F-Score: [0.11111111 0.81609195]\n",
      "Support: [28 77]\n",
      "Gausses: 5 Style: Gaussian Progressive Adjustment: -1 Sigma Offset: 0.08 Center Offset: 0.04\n",
      "Gaussian Progressive\n"
     ]
    },
    {
     "name": "stderr",
     "output_type": "stream",
     "text": [
      "  1%|█▏                                                                                | 3/201 [00:00<00:08, 23.69it/s]"
     ]
    },
    {
     "name": "stdout",
     "output_type": "stream",
     "text": [
      "-----------------------------------------------------------------------------------\n",
      "Level 1\n",
      "Level 2\n"
     ]
    },
    {
     "name": "stderr",
     "output_type": "stream",
     "text": [
      "100%|████████████████████████████████████████████████████████████████████████████████| 201/201 [00:14<00:00, 14.22it/s]\n"
     ]
    },
    {
     "name": "stdout",
     "output_type": "stream",
     "text": [
      "Level 3\n",
      "Level 4\n",
      "Accuracy: 0.7711442786069652\n",
      "Precision: [0.70588235 0.77717391]\n",
      "Recall: [0.22641509 0.96621622]\n",
      "F-Score: [0.34285714 0.86144578]\n",
      "Support: [ 53 148]\n"
     ]
    },
    {
     "name": "stderr",
     "output_type": "stream",
     "text": [
      "  3%|██▎                                                                               | 3/105 [00:00<00:04, 23.14it/s]"
     ]
    },
    {
     "name": "stdout",
     "output_type": "stream",
     "text": [
      "-----------------------------------------------------------------------------------\n",
      "Level 1\n",
      "Level 2\n"
     ]
    },
    {
     "name": "stderr",
     "output_type": "stream",
     "text": [
      "100%|████████████████████████████████████████████████████████████████████████████████| 105/105 [00:06<00:00, 16.21it/s]\n"
     ]
    },
    {
     "name": "stdout",
     "output_type": "stream",
     "text": [
      "Level 3\n",
      "Level 4\n",
      "Accuracy: 0.6952380952380952\n",
      "Precision: [0.25       0.73195876]\n",
      "Recall: [0.07142857 0.92207792]\n",
      "F-Score: [0.11111111 0.81609195]\n",
      "Support: [28 77]\n",
      "Gausses: 5 Style: Gaussian Progressive Adjustment: -1 Sigma Offset: 0.08 Center Offset: 0.06\n",
      "Gaussian Progressive\n"
     ]
    },
    {
     "name": "stderr",
     "output_type": "stream",
     "text": [
      "  1%|█▏                                                                                | 3/201 [00:00<00:08, 22.96it/s]"
     ]
    },
    {
     "name": "stdout",
     "output_type": "stream",
     "text": [
      "-----------------------------------------------------------------------------------\n",
      "Level 1\n",
      "Level 2\n"
     ]
    },
    {
     "name": "stderr",
     "output_type": "stream",
     "text": [
      "100%|████████████████████████████████████████████████████████████████████████████████| 201/201 [00:12<00:00, 16.07it/s]\n"
     ]
    },
    {
     "name": "stdout",
     "output_type": "stream",
     "text": [
      "Level 3\n",
      "Level 4\n",
      "Accuracy: 0.7711442786069652\n",
      "Precision: [0.70588235 0.77717391]\n",
      "Recall: [0.22641509 0.96621622]\n",
      "F-Score: [0.34285714 0.86144578]\n",
      "Support: [ 53 148]\n"
     ]
    },
    {
     "name": "stderr",
     "output_type": "stream",
     "text": [
      "  3%|██▎                                                                               | 3/105 [00:00<00:04, 24.26it/s]"
     ]
    },
    {
     "name": "stdout",
     "output_type": "stream",
     "text": [
      "-----------------------------------------------------------------------------------\n",
      "Level 1\n",
      "Level 2\n"
     ]
    },
    {
     "name": "stderr",
     "output_type": "stream",
     "text": [
      "100%|████████████████████████████████████████████████████████████████████████████████| 105/105 [00:06<00:00, 15.89it/s]\n"
     ]
    },
    {
     "name": "stdout",
     "output_type": "stream",
     "text": [
      "Level 3\n",
      "Level 4\n",
      "Accuracy: 0.6952380952380952\n",
      "Precision: [0.25       0.73195876]\n",
      "Recall: [0.07142857 0.92207792]\n",
      "F-Score: [0.11111111 0.81609195]\n",
      "Support: [28 77]\n",
      "Gausses: 5 Style: Gaussian Progressive Adjustment: -1 Sigma Offset: 0.08 Center Offset: 0.08\n",
      "Gaussian Progressive\n"
     ]
    },
    {
     "name": "stderr",
     "output_type": "stream",
     "text": [
      "  1%|█▏                                                                                | 3/201 [00:00<00:07, 25.93it/s]"
     ]
    },
    {
     "name": "stdout",
     "output_type": "stream",
     "text": [
      "-----------------------------------------------------------------------------------\n",
      "Level 1\n",
      "Level 2\n"
     ]
    },
    {
     "name": "stderr",
     "output_type": "stream",
     "text": [
      "100%|████████████████████████████████████████████████████████████████████████████████| 201/201 [00:12<00:00, 16.15it/s]\n"
     ]
    },
    {
     "name": "stdout",
     "output_type": "stream",
     "text": [
      "Level 3\n",
      "Level 4\n",
      "Accuracy: 0.7711442786069652\n",
      "Precision: [0.70588235 0.77717391]\n",
      "Recall: [0.22641509 0.96621622]\n",
      "F-Score: [0.34285714 0.86144578]\n",
      "Support: [ 53 148]\n"
     ]
    },
    {
     "name": "stderr",
     "output_type": "stream",
     "text": [
      "  3%|██▎                                                                               | 3/105 [00:00<00:04, 23.87it/s]"
     ]
    },
    {
     "name": "stdout",
     "output_type": "stream",
     "text": [
      "-----------------------------------------------------------------------------------\n",
      "Level 1\n",
      "Level 2\n"
     ]
    },
    {
     "name": "stderr",
     "output_type": "stream",
     "text": [
      "100%|████████████████████████████████████████████████████████████████████████████████| 105/105 [00:06<00:00, 16.15it/s]\n"
     ]
    },
    {
     "name": "stdout",
     "output_type": "stream",
     "text": [
      "Level 3\n",
      "Level 4\n",
      "Accuracy: 0.6952380952380952\n",
      "Precision: [0.25       0.73195876]\n",
      "Recall: [0.07142857 0.92207792]\n",
      "F-Score: [0.11111111 0.81609195]\n",
      "Support: [28 77]\n",
      "Gausses: 5 Style: Gaussian Progressive Adjustment: -1 Sigma Offset: 0.08 Center Offset: 0.1\n",
      "Gaussian Progressive\n"
     ]
    },
    {
     "name": "stderr",
     "output_type": "stream",
     "text": [
      "  1%|█▏                                                                                | 3/201 [00:00<00:09, 20.74it/s]"
     ]
    },
    {
     "name": "stdout",
     "output_type": "stream",
     "text": [
      "-----------------------------------------------------------------------------------\n",
      "Level 1\n",
      "Level 2\n"
     ]
    },
    {
     "name": "stderr",
     "output_type": "stream",
     "text": [
      "100%|████████████████████████████████████████████████████████████████████████████████| 201/201 [00:12<00:00, 15.88it/s]\n"
     ]
    },
    {
     "name": "stdout",
     "output_type": "stream",
     "text": [
      "Level 3\n",
      "Level 4\n",
      "Accuracy: 0.7711442786069652\n",
      "Precision: [0.70588235 0.77717391]\n",
      "Recall: [0.22641509 0.96621622]\n",
      "F-Score: [0.34285714 0.86144578]\n",
      "Support: [ 53 148]\n"
     ]
    },
    {
     "name": "stderr",
     "output_type": "stream",
     "text": [
      "  3%|██▎                                                                               | 3/105 [00:00<00:04, 23.50it/s]"
     ]
    },
    {
     "name": "stdout",
     "output_type": "stream",
     "text": [
      "-----------------------------------------------------------------------------------\n",
      "Level 1\n",
      "Level 2\n"
     ]
    },
    {
     "name": "stderr",
     "output_type": "stream",
     "text": [
      "100%|████████████████████████████████████████████████████████████████████████████████| 105/105 [00:06<00:00, 15.87it/s]\n"
     ]
    },
    {
     "name": "stdout",
     "output_type": "stream",
     "text": [
      "Level 3\n",
      "Level 4\n",
      "Accuracy: 0.6952380952380952\n",
      "Precision: [0.25       0.73195876]\n",
      "Recall: [0.07142857 0.92207792]\n",
      "F-Score: [0.11111111 0.81609195]\n",
      "Support: [28 77]\n",
      "Gausses: 5 Style: Gaussian Progressive Adjustment: -1 Sigma Offset: 0.08 Center Offset: 0.12000000000000001\n",
      "Gaussian Progressive\n"
     ]
    },
    {
     "name": "stderr",
     "output_type": "stream",
     "text": [
      "  1%|█▏                                                                                | 3/201 [00:00<00:07, 25.49it/s]"
     ]
    },
    {
     "name": "stdout",
     "output_type": "stream",
     "text": [
      "-----------------------------------------------------------------------------------\n",
      "Level 1\n",
      "Level 2\n"
     ]
    },
    {
     "name": "stderr",
     "output_type": "stream",
     "text": [
      "100%|████████████████████████████████████████████████████████████████████████████████| 201/201 [00:12<00:00, 16.08it/s]\n"
     ]
    },
    {
     "name": "stdout",
     "output_type": "stream",
     "text": [
      "Level 3\n",
      "Level 4\n",
      "Accuracy: 0.7711442786069652\n",
      "Precision: [0.70588235 0.77717391]\n",
      "Recall: [0.22641509 0.96621622]\n",
      "F-Score: [0.34285714 0.86144578]\n",
      "Support: [ 53 148]\n"
     ]
    },
    {
     "name": "stderr",
     "output_type": "stream",
     "text": [
      "  3%|██▎                                                                               | 3/105 [00:00<00:04, 23.50it/s]"
     ]
    },
    {
     "name": "stdout",
     "output_type": "stream",
     "text": [
      "-----------------------------------------------------------------------------------\n",
      "Level 1\n",
      "Level 2\n"
     ]
    },
    {
     "name": "stderr",
     "output_type": "stream",
     "text": [
      "100%|████████████████████████████████████████████████████████████████████████████████| 105/105 [00:06<00:00, 15.19it/s]\n"
     ]
    },
    {
     "name": "stdout",
     "output_type": "stream",
     "text": [
      "Level 3\n",
      "Level 4\n",
      "Accuracy: 0.6952380952380952\n",
      "Precision: [0.25       0.73195876]\n",
      "Recall: [0.07142857 0.92207792]\n",
      "F-Score: [0.11111111 0.81609195]\n",
      "Support: [28 77]\n",
      "Gausses: 5 Style: Gaussian Progressive Adjustment: -1 Sigma Offset: 0.08 Center Offset: 0.13999999999999999\n",
      "Gaussian Progressive\n"
     ]
    },
    {
     "name": "stderr",
     "output_type": "stream",
     "text": [
      "  1%|█▏                                                                                | 3/201 [00:00<00:09, 20.75it/s]"
     ]
    },
    {
     "name": "stdout",
     "output_type": "stream",
     "text": [
      "-----------------------------------------------------------------------------------\n",
      "Level 1\n",
      "Level 2\n"
     ]
    },
    {
     "name": "stderr",
     "output_type": "stream",
     "text": [
      "100%|████████████████████████████████████████████████████████████████████████████████| 201/201 [00:13<00:00, 14.50it/s]\n"
     ]
    },
    {
     "name": "stdout",
     "output_type": "stream",
     "text": [
      "Level 3\n",
      "Level 4\n",
      "Accuracy: 0.7711442786069652\n",
      "Precision: [0.70588235 0.77717391]\n",
      "Recall: [0.22641509 0.96621622]\n",
      "F-Score: [0.34285714 0.86144578]\n",
      "Support: [ 53 148]\n"
     ]
    },
    {
     "name": "stderr",
     "output_type": "stream",
     "text": [
      "  0%|                                                                                          | 0/105 [00:00<?, ?it/s]"
     ]
    },
    {
     "name": "stdout",
     "output_type": "stream",
     "text": [
      "-----------------------------------------------------------------------------------\n",
      "Level 1\n",
      "Level 2\n"
     ]
    },
    {
     "name": "stderr",
     "output_type": "stream",
     "text": [
      "100%|████████████████████████████████████████████████████████████████████████████████| 105/105 [00:07<00:00, 13.98it/s]\n"
     ]
    },
    {
     "name": "stdout",
     "output_type": "stream",
     "text": [
      "Level 3\n",
      "Level 4\n",
      "Accuracy: 0.6952380952380952\n",
      "Precision: [0.25       0.73195876]\n",
      "Recall: [0.07142857 0.92207792]\n",
      "F-Score: [0.11111111 0.81609195]\n",
      "Support: [28 77]\n",
      "Gausses: 5 Style: Gaussian Progressive Adjustment: -1 Sigma Offset: 0.08 Center Offset: 0.16\n",
      "Gaussian Progressive\n"
     ]
    },
    {
     "name": "stderr",
     "output_type": "stream",
     "text": [
      "  1%|█▏                                                                                | 3/201 [00:00<00:08, 23.87it/s]"
     ]
    },
    {
     "name": "stdout",
     "output_type": "stream",
     "text": [
      "-----------------------------------------------------------------------------------\n",
      "Level 1\n",
      "Level 2\n"
     ]
    },
    {
     "name": "stderr",
     "output_type": "stream",
     "text": [
      "100%|████████████████████████████████████████████████████████████████████████████████| 201/201 [00:15<00:00, 13.39it/s]\n"
     ]
    },
    {
     "name": "stdout",
     "output_type": "stream",
     "text": [
      "Level 3\n",
      "Level 4\n",
      "Accuracy: 0.7711442786069652\n",
      "Precision: [0.70588235 0.77717391]\n",
      "Recall: [0.22641509 0.96621622]\n",
      "F-Score: [0.34285714 0.86144578]\n",
      "Support: [ 53 148]\n"
     ]
    },
    {
     "name": "stderr",
     "output_type": "stream",
     "text": [
      "  3%|██▎                                                                               | 3/105 [00:00<00:04, 20.43it/s]"
     ]
    },
    {
     "name": "stdout",
     "output_type": "stream",
     "text": [
      "-----------------------------------------------------------------------------------\n",
      "Level 1\n",
      "Level 2\n"
     ]
    },
    {
     "name": "stderr",
     "output_type": "stream",
     "text": [
      "100%|████████████████████████████████████████████████████████████████████████████████| 105/105 [00:07<00:00, 14.23it/s]\n"
     ]
    },
    {
     "name": "stdout",
     "output_type": "stream",
     "text": [
      "Level 3\n",
      "Level 4\n",
      "Accuracy: 0.6952380952380952\n",
      "Precision: [0.25       0.73195876]\n",
      "Recall: [0.07142857 0.92207792]\n",
      "F-Score: [0.11111111 0.81609195]\n",
      "Support: [28 77]\n",
      "Gausses: 5 Style: Gaussian Progressive Adjustment: -1 Sigma Offset: 0.08 Center Offset: 0.18\n",
      "Gaussian Progressive\n"
     ]
    },
    {
     "name": "stderr",
     "output_type": "stream",
     "text": [
      "  1%|█▏                                                                                | 3/201 [00:00<00:08, 22.28it/s]"
     ]
    },
    {
     "name": "stdout",
     "output_type": "stream",
     "text": [
      "-----------------------------------------------------------------------------------\n",
      "Level 1\n",
      "Level 2\n"
     ]
    },
    {
     "name": "stderr",
     "output_type": "stream",
     "text": [
      "100%|████████████████████████████████████████████████████████████████████████████████| 201/201 [00:15<00:00, 12.99it/s]\n"
     ]
    },
    {
     "name": "stdout",
     "output_type": "stream",
     "text": [
      "Level 3\n",
      "Level 4\n",
      "Accuracy: 0.7711442786069652\n",
      "Precision: [0.70588235 0.77717391]\n",
      "Recall: [0.22641509 0.96621622]\n",
      "F-Score: [0.34285714 0.86144578]\n",
      "Support: [ 53 148]\n"
     ]
    },
    {
     "name": "stderr",
     "output_type": "stream",
     "text": [
      "  3%|██▎                                                                               | 3/105 [00:00<00:05, 18.80it/s]"
     ]
    },
    {
     "name": "stdout",
     "output_type": "stream",
     "text": [
      "-----------------------------------------------------------------------------------\n",
      "Level 1\n",
      "Level 2\n"
     ]
    },
    {
     "name": "stderr",
     "output_type": "stream",
     "text": [
      "100%|████████████████████████████████████████████████████████████████████████████████| 105/105 [00:07<00:00, 13.56it/s]\n"
     ]
    },
    {
     "name": "stdout",
     "output_type": "stream",
     "text": [
      "Level 3\n",
      "Level 4\n",
      "Accuracy: 0.6952380952380952\n",
      "Precision: [0.25       0.73195876]\n",
      "Recall: [0.07142857 0.92207792]\n",
      "F-Score: [0.11111111 0.81609195]\n",
      "Support: [28 77]\n",
      "Gausses: 5 Style: Gaussian Progressive Adjustment: -1 Sigma Offset: 0.08 Center Offset: 0.19999999999999998\n",
      "Gaussian Progressive\n"
     ]
    },
    {
     "name": "stderr",
     "output_type": "stream",
     "text": [
      "  1%|█▏                                                                                | 3/201 [00:00<00:10, 19.53it/s]"
     ]
    },
    {
     "name": "stdout",
     "output_type": "stream",
     "text": [
      "-----------------------------------------------------------------------------------\n",
      "Level 1\n",
      "Level 2\n"
     ]
    },
    {
     "name": "stderr",
     "output_type": "stream",
     "text": [
      "100%|████████████████████████████████████████████████████████████████████████████████| 201/201 [00:13<00:00, 14.71it/s]\n"
     ]
    },
    {
     "name": "stdout",
     "output_type": "stream",
     "text": [
      "Level 3\n",
      "Level 4\n",
      "Accuracy: 0.7711442786069652\n",
      "Precision: [0.70588235 0.77717391]\n",
      "Recall: [0.22641509 0.96621622]\n",
      "F-Score: [0.34285714 0.86144578]\n",
      "Support: [ 53 148]\n"
     ]
    },
    {
     "name": "stderr",
     "output_type": "stream",
     "text": [
      "  3%|██▎                                                                               | 3/105 [00:00<00:04, 23.69it/s]"
     ]
    },
    {
     "name": "stdout",
     "output_type": "stream",
     "text": [
      "-----------------------------------------------------------------------------------\n",
      "Level 1\n",
      "Level 2\n"
     ]
    },
    {
     "name": "stderr",
     "output_type": "stream",
     "text": [
      "100%|████████████████████████████████████████████████████████████████████████████████| 105/105 [00:06<00:00, 15.74it/s]\n"
     ]
    },
    {
     "name": "stdout",
     "output_type": "stream",
     "text": [
      "Level 3\n",
      "Level 4\n",
      "Accuracy: 0.6952380952380952\n",
      "Precision: [0.25       0.73195876]\n",
      "Recall: [0.07142857 0.92207792]\n",
      "F-Score: [0.11111111 0.81609195]\n",
      "Support: [28 77]\n",
      "Gausses: 5 Style: Gaussian Progressive Adjustment: -1 Sigma Offset: 0.1 Center Offset: 0.02\n",
      "Gaussian Progressive\n"
     ]
    },
    {
     "name": "stderr",
     "output_type": "stream",
     "text": [
      "  1%|█▏                                                                                | 3/201 [00:00<00:07, 26.86it/s]"
     ]
    },
    {
     "name": "stdout",
     "output_type": "stream",
     "text": [
      "-----------------------------------------------------------------------------------\n",
      "Level 1\n",
      "Level 2\n"
     ]
    },
    {
     "name": "stderr",
     "output_type": "stream",
     "text": [
      "100%|████████████████████████████████████████████████████████████████████████████████| 201/201 [00:12<00:00, 16.59it/s]\n"
     ]
    },
    {
     "name": "stdout",
     "output_type": "stream",
     "text": [
      "Level 3\n",
      "Level 4\n",
      "Accuracy: 0.7761194029850746\n",
      "Precision: [0.72222222 0.78142077]\n",
      "Recall: [0.24528302 0.96621622]\n",
      "F-Score: [0.36619718 0.86404834]\n",
      "Support: [ 53 148]\n"
     ]
    },
    {
     "name": "stderr",
     "output_type": "stream",
     "text": [
      "  3%|██▎                                                                               | 3/105 [00:00<00:04, 21.49it/s]"
     ]
    },
    {
     "name": "stdout",
     "output_type": "stream",
     "text": [
      "-----------------------------------------------------------------------------------\n",
      "Level 1\n",
      "Level 2\n"
     ]
    },
    {
     "name": "stderr",
     "output_type": "stream",
     "text": [
      "100%|████████████████████████████████████████████████████████████████████████████████| 105/105 [00:06<00:00, 16.75it/s]\n"
     ]
    },
    {
     "name": "stdout",
     "output_type": "stream",
     "text": [
      "Level 3\n",
      "Level 4\n",
      "Accuracy: 0.6571428571428571\n",
      "Precision: [0.16666667 0.72043011]\n",
      "Recall: [0.07142857 0.87012987]\n",
      "F-Score: [0.1        0.78823529]\n",
      "Support: [28 77]\n",
      "Gausses: 5 Style: Gaussian Progressive Adjustment: -1 Sigma Offset: 0.1 Center Offset: 0.04\n",
      "Gaussian Progressive\n"
     ]
    },
    {
     "name": "stderr",
     "output_type": "stream",
     "text": [
      "  1%|█▏                                                                                | 3/201 [00:00<00:08, 22.28it/s]"
     ]
    },
    {
     "name": "stdout",
     "output_type": "stream",
     "text": [
      "-----------------------------------------------------------------------------------\n",
      "Level 1\n",
      "Level 2\n"
     ]
    },
    {
     "name": "stderr",
     "output_type": "stream",
     "text": [
      "100%|████████████████████████████████████████████████████████████████████████████████| 201/201 [00:12<00:00, 16.07it/s]\n"
     ]
    },
    {
     "name": "stdout",
     "output_type": "stream",
     "text": [
      "Level 3\n",
      "Level 4\n",
      "Accuracy: 0.7761194029850746\n",
      "Precision: [0.72222222 0.78142077]\n",
      "Recall: [0.24528302 0.96621622]\n",
      "F-Score: [0.36619718 0.86404834]\n",
      "Support: [ 53 148]\n"
     ]
    },
    {
     "name": "stderr",
     "output_type": "stream",
     "text": [
      "  3%|██▎                                                                               | 3/105 [00:00<00:05, 20.05it/s]"
     ]
    },
    {
     "name": "stdout",
     "output_type": "stream",
     "text": [
      "-----------------------------------------------------------------------------------\n",
      "Level 1\n",
      "Level 2\n"
     ]
    },
    {
     "name": "stderr",
     "output_type": "stream",
     "text": [
      "100%|████████████████████████████████████████████████████████████████████████████████| 105/105 [00:06<00:00, 16.24it/s]\n"
     ]
    },
    {
     "name": "stdout",
     "output_type": "stream",
     "text": [
      "Level 3\n",
      "Level 4\n",
      "Accuracy: 0.6571428571428571\n",
      "Precision: [0.16666667 0.72043011]\n",
      "Recall: [0.07142857 0.87012987]\n",
      "F-Score: [0.1        0.78823529]\n",
      "Support: [28 77]\n",
      "Gausses: 5 Style: Gaussian Progressive Adjustment: -1 Sigma Offset: 0.1 Center Offset: 0.06\n",
      "Gaussian Progressive\n"
     ]
    },
    {
     "name": "stderr",
     "output_type": "stream",
     "text": [
      "  1%|█▏                                                                                | 3/201 [00:00<00:07, 25.28it/s]"
     ]
    },
    {
     "name": "stdout",
     "output_type": "stream",
     "text": [
      "-----------------------------------------------------------------------------------\n",
      "Level 1\n",
      "Level 2\n"
     ]
    },
    {
     "name": "stderr",
     "output_type": "stream",
     "text": [
      "100%|████████████████████████████████████████████████████████████████████████████████| 201/201 [00:12<00:00, 16.02it/s]\n"
     ]
    },
    {
     "name": "stdout",
     "output_type": "stream",
     "text": [
      "Level 3\n",
      "Level 4\n",
      "Accuracy: 0.7761194029850746\n",
      "Precision: [0.72222222 0.78142077]\n",
      "Recall: [0.24528302 0.96621622]\n",
      "F-Score: [0.36619718 0.86404834]\n",
      "Support: [ 53 148]\n"
     ]
    },
    {
     "name": "stderr",
     "output_type": "stream",
     "text": [
      "  3%|██▎                                                                               | 3/105 [00:00<00:04, 23.32it/s]"
     ]
    },
    {
     "name": "stdout",
     "output_type": "stream",
     "text": [
      "-----------------------------------------------------------------------------------\n",
      "Level 1\n",
      "Level 2\n"
     ]
    },
    {
     "name": "stderr",
     "output_type": "stream",
     "text": [
      "100%|████████████████████████████████████████████████████████████████████████████████| 105/105 [00:06<00:00, 16.18it/s]\n"
     ]
    },
    {
     "name": "stdout",
     "output_type": "stream",
     "text": [
      "Level 3\n",
      "Level 4\n",
      "Accuracy: 0.6571428571428571\n",
      "Precision: [0.16666667 0.72043011]\n",
      "Recall: [0.07142857 0.87012987]\n",
      "F-Score: [0.1        0.78823529]\n",
      "Support: [28 77]\n",
      "Gausses: 5 Style: Gaussian Progressive Adjustment: -1 Sigma Offset: 0.1 Center Offset: 0.08\n",
      "Gaussian Progressive\n"
     ]
    },
    {
     "name": "stderr",
     "output_type": "stream",
     "text": [
      "  1%|█▏                                                                                | 3/201 [00:00<00:08, 24.25it/s]"
     ]
    },
    {
     "name": "stdout",
     "output_type": "stream",
     "text": [
      "-----------------------------------------------------------------------------------\n",
      "Level 1\n",
      "Level 2\n"
     ]
    },
    {
     "name": "stderr",
     "output_type": "stream",
     "text": [
      "100%|████████████████████████████████████████████████████████████████████████████████| 201/201 [00:12<00:00, 15.95it/s]\n"
     ]
    },
    {
     "name": "stdout",
     "output_type": "stream",
     "text": [
      "Level 3\n",
      "Level 4\n",
      "Accuracy: 0.7761194029850746\n",
      "Precision: [0.72222222 0.78142077]\n",
      "Recall: [0.24528302 0.96621622]\n",
      "F-Score: [0.36619718 0.86404834]\n",
      "Support: [ 53 148]\n"
     ]
    },
    {
     "name": "stderr",
     "output_type": "stream",
     "text": [
      "  3%|██▎                                                                               | 3/105 [00:00<00:04, 23.32it/s]"
     ]
    },
    {
     "name": "stdout",
     "output_type": "stream",
     "text": [
      "-----------------------------------------------------------------------------------\n",
      "Level 1\n",
      "Level 2\n"
     ]
    },
    {
     "name": "stderr",
     "output_type": "stream",
     "text": [
      "100%|████████████████████████████████████████████████████████████████████████████████| 105/105 [00:06<00:00, 15.94it/s]\n"
     ]
    },
    {
     "name": "stdout",
     "output_type": "stream",
     "text": [
      "Level 3\n",
      "Level 4\n",
      "Accuracy: 0.6571428571428571\n",
      "Precision: [0.16666667 0.72043011]\n",
      "Recall: [0.07142857 0.87012987]\n",
      "F-Score: [0.1        0.78823529]\n",
      "Support: [28 77]\n",
      "Gausses: 5 Style: Gaussian Progressive Adjustment: -1 Sigma Offset: 0.1 Center Offset: 0.1\n",
      "Gaussian Progressive\n"
     ]
    },
    {
     "name": "stderr",
     "output_type": "stream",
     "text": [
      "  1%|█▏                                                                                | 3/201 [00:00<00:08, 23.50it/s]"
     ]
    },
    {
     "name": "stdout",
     "output_type": "stream",
     "text": [
      "-----------------------------------------------------------------------------------\n",
      "Level 1\n",
      "Level 2\n"
     ]
    },
    {
     "name": "stderr",
     "output_type": "stream",
     "text": [
      "100%|████████████████████████████████████████████████████████████████████████████████| 201/201 [00:12<00:00, 16.03it/s]\n"
     ]
    },
    {
     "name": "stdout",
     "output_type": "stream",
     "text": [
      "Level 3\n",
      "Level 4\n",
      "Accuracy: 0.7761194029850746\n",
      "Precision: [0.72222222 0.78142077]\n",
      "Recall: [0.24528302 0.96621622]\n",
      "F-Score: [0.36619718 0.86404834]\n",
      "Support: [ 53 148]\n"
     ]
    },
    {
     "name": "stderr",
     "output_type": "stream",
     "text": [
      "  3%|██▎                                                                               | 3/105 [00:00<00:04, 23.69it/s]"
     ]
    },
    {
     "name": "stdout",
     "output_type": "stream",
     "text": [
      "-----------------------------------------------------------------------------------\n",
      "Level 1\n",
      "Level 2\n"
     ]
    },
    {
     "name": "stderr",
     "output_type": "stream",
     "text": [
      "100%|████████████████████████████████████████████████████████████████████████████████| 105/105 [00:06<00:00, 16.02it/s]\n"
     ]
    },
    {
     "name": "stdout",
     "output_type": "stream",
     "text": [
      "Level 3\n",
      "Level 4\n",
      "Accuracy: 0.6571428571428571\n",
      "Precision: [0.16666667 0.72043011]\n",
      "Recall: [0.07142857 0.87012987]\n",
      "F-Score: [0.1        0.78823529]\n",
      "Support: [28 77]\n",
      "Gausses: 5 Style: Gaussian Progressive Adjustment: -1 Sigma Offset: 0.1 Center Offset: 0.12000000000000001\n",
      "Gaussian Progressive\n"
     ]
    },
    {
     "name": "stderr",
     "output_type": "stream",
     "text": [
      "  1%|█▏                                                                                | 3/201 [00:00<00:08, 23.69it/s]"
     ]
    },
    {
     "name": "stdout",
     "output_type": "stream",
     "text": [
      "-----------------------------------------------------------------------------------\n",
      "Level 1\n",
      "Level 2\n"
     ]
    },
    {
     "name": "stderr",
     "output_type": "stream",
     "text": [
      "100%|████████████████████████████████████████████████████████████████████████████████| 201/201 [00:12<00:00, 15.89it/s]\n"
     ]
    },
    {
     "name": "stdout",
     "output_type": "stream",
     "text": [
      "Level 3\n",
      "Level 4\n",
      "Accuracy: 0.7761194029850746\n",
      "Precision: [0.72222222 0.78142077]\n",
      "Recall: [0.24528302 0.96621622]\n",
      "F-Score: [0.36619718 0.86404834]\n",
      "Support: [ 53 148]\n"
     ]
    },
    {
     "name": "stderr",
     "output_type": "stream",
     "text": [
      "  3%|██▎                                                                               | 3/105 [00:00<00:04, 24.06it/s]"
     ]
    },
    {
     "name": "stdout",
     "output_type": "stream",
     "text": [
      "-----------------------------------------------------------------------------------\n",
      "Level 1\n",
      "Level 2\n"
     ]
    },
    {
     "name": "stderr",
     "output_type": "stream",
     "text": [
      "100%|████████████████████████████████████████████████████████████████████████████████| 105/105 [00:06<00:00, 16.07it/s]\n"
     ]
    },
    {
     "name": "stdout",
     "output_type": "stream",
     "text": [
      "Level 3\n",
      "Level 4\n",
      "Accuracy: 0.6571428571428571\n",
      "Precision: [0.16666667 0.72043011]\n",
      "Recall: [0.07142857 0.87012987]\n",
      "F-Score: [0.1        0.78823529]\n",
      "Support: [28 77]\n",
      "Gausses: 5 Style: Gaussian Progressive Adjustment: -1 Sigma Offset: 0.1 Center Offset: 0.13999999999999999\n",
      "Gaussian Progressive\n"
     ]
    },
    {
     "name": "stderr",
     "output_type": "stream",
     "text": [
      "  1%|█▏                                                                                | 3/201 [00:00<00:08, 22.79it/s]"
     ]
    },
    {
     "name": "stdout",
     "output_type": "stream",
     "text": [
      "-----------------------------------------------------------------------------------\n",
      "Level 1\n",
      "Level 2\n"
     ]
    },
    {
     "name": "stderr",
     "output_type": "stream",
     "text": [
      "100%|████████████████████████████████████████████████████████████████████████████████| 201/201 [00:13<00:00, 15.22it/s]\n"
     ]
    },
    {
     "name": "stdout",
     "output_type": "stream",
     "text": [
      "Level 3\n",
      "Level 4\n",
      "Accuracy: 0.7761194029850746\n",
      "Precision: [0.72222222 0.78142077]\n",
      "Recall: [0.24528302 0.96621622]\n",
      "F-Score: [0.36619718 0.86404834]\n",
      "Support: [ 53 148]\n"
     ]
    },
    {
     "name": "stderr",
     "output_type": "stream",
     "text": [
      "  3%|██▎                                                                               | 3/105 [00:00<00:04, 20.46it/s]"
     ]
    },
    {
     "name": "stdout",
     "output_type": "stream",
     "text": [
      "-----------------------------------------------------------------------------------\n",
      "Level 1\n",
      "Level 2\n"
     ]
    },
    {
     "name": "stderr",
     "output_type": "stream",
     "text": [
      "100%|████████████████████████████████████████████████████████████████████████████████| 105/105 [00:06<00:00, 15.11it/s]\n"
     ]
    },
    {
     "name": "stdout",
     "output_type": "stream",
     "text": [
      "Level 3\n",
      "Level 4\n",
      "Accuracy: 0.6571428571428571\n",
      "Precision: [0.16666667 0.72043011]\n",
      "Recall: [0.07142857 0.87012987]\n",
      "F-Score: [0.1        0.78823529]\n",
      "Support: [28 77]\n",
      "Gausses: 5 Style: Gaussian Progressive Adjustment: -1 Sigma Offset: 0.1 Center Offset: 0.16\n",
      "Gaussian Progressive\n"
     ]
    },
    {
     "name": "stderr",
     "output_type": "stream",
     "text": [
      "  1%|█▏                                                                                | 3/201 [00:00<00:09, 21.89it/s]"
     ]
    },
    {
     "name": "stdout",
     "output_type": "stream",
     "text": [
      "-----------------------------------------------------------------------------------\n",
      "Level 1\n",
      "Level 2\n"
     ]
    },
    {
     "name": "stderr",
     "output_type": "stream",
     "text": [
      "100%|████████████████████████████████████████████████████████████████████████████████| 201/201 [00:13<00:00, 15.26it/s]\n"
     ]
    },
    {
     "name": "stdout",
     "output_type": "stream",
     "text": [
      "Level 3\n",
      "Level 4\n",
      "Accuracy: 0.7761194029850746\n",
      "Precision: [0.72222222 0.78142077]\n",
      "Recall: [0.24528302 0.96621622]\n",
      "F-Score: [0.36619718 0.86404834]\n",
      "Support: [ 53 148]\n"
     ]
    },
    {
     "name": "stderr",
     "output_type": "stream",
     "text": [
      "  3%|██▎                                                                               | 3/105 [00:00<00:04, 23.27it/s]"
     ]
    },
    {
     "name": "stdout",
     "output_type": "stream",
     "text": [
      "-----------------------------------------------------------------------------------\n",
      "Level 1\n",
      "Level 2\n"
     ]
    },
    {
     "name": "stderr",
     "output_type": "stream",
     "text": [
      "100%|████████████████████████████████████████████████████████████████████████████████| 105/105 [00:06<00:00, 15.57it/s]\n"
     ]
    },
    {
     "name": "stdout",
     "output_type": "stream",
     "text": [
      "Level 3\n",
      "Level 4\n",
      "Accuracy: 0.6571428571428571\n",
      "Precision: [0.16666667 0.72043011]\n",
      "Recall: [0.07142857 0.87012987]\n",
      "F-Score: [0.1        0.78823529]\n",
      "Support: [28 77]\n",
      "Gausses: 5 Style: Gaussian Progressive Adjustment: -1 Sigma Offset: 0.1 Center Offset: 0.18\n",
      "Gaussian Progressive\n"
     ]
    },
    {
     "name": "stderr",
     "output_type": "stream",
     "text": [
      "  1%|█▏                                                                                | 3/201 [00:00<00:08, 23.63it/s]"
     ]
    },
    {
     "name": "stdout",
     "output_type": "stream",
     "text": [
      "-----------------------------------------------------------------------------------\n",
      "Level 1\n",
      "Level 2\n"
     ]
    },
    {
     "name": "stderr",
     "output_type": "stream",
     "text": [
      "100%|████████████████████████████████████████████████████████████████████████████████| 201/201 [00:13<00:00, 15.12it/s]\n"
     ]
    },
    {
     "name": "stdout",
     "output_type": "stream",
     "text": [
      "Level 3\n",
      "Level 4\n",
      "Accuracy: 0.7761194029850746\n",
      "Precision: [0.72222222 0.78142077]\n",
      "Recall: [0.24528302 0.96621622]\n",
      "F-Score: [0.36619718 0.86404834]\n",
      "Support: [ 53 148]\n"
     ]
    },
    {
     "name": "stderr",
     "output_type": "stream",
     "text": [
      "  3%|██▎                                                                               | 3/105 [00:00<00:04, 22.45it/s]"
     ]
    },
    {
     "name": "stdout",
     "output_type": "stream",
     "text": [
      "-----------------------------------------------------------------------------------\n",
      "Level 1\n",
      "Level 2\n"
     ]
    },
    {
     "name": "stderr",
     "output_type": "stream",
     "text": [
      "100%|████████████████████████████████████████████████████████████████████████████████| 105/105 [00:06<00:00, 15.37it/s]\n"
     ]
    },
    {
     "name": "stdout",
     "output_type": "stream",
     "text": [
      "Level 3\n",
      "Level 4\n",
      "Accuracy: 0.6571428571428571\n",
      "Precision: [0.16666667 0.72043011]\n",
      "Recall: [0.07142857 0.87012987]\n",
      "F-Score: [0.1        0.78823529]\n",
      "Support: [28 77]\n",
      "Gausses: 5 Style: Gaussian Progressive Adjustment: -1 Sigma Offset: 0.1 Center Offset: 0.19999999999999998\n",
      "Gaussian Progressive\n"
     ]
    },
    {
     "name": "stderr",
     "output_type": "stream",
     "text": [
      "  1%|█▏                                                                                | 3/201 [00:00<00:08, 22.97it/s]"
     ]
    },
    {
     "name": "stdout",
     "output_type": "stream",
     "text": [
      "-----------------------------------------------------------------------------------\n",
      "Level 1\n",
      "Level 2\n"
     ]
    },
    {
     "name": "stderr",
     "output_type": "stream",
     "text": [
      "100%|████████████████████████████████████████████████████████████████████████████████| 201/201 [00:13<00:00, 15.23it/s]\n"
     ]
    },
    {
     "name": "stdout",
     "output_type": "stream",
     "text": [
      "Level 3\n",
      "Level 4\n",
      "Accuracy: 0.7711442786069652\n",
      "Precision: [0.68421053 0.78021978]\n",
      "Recall: [0.24528302 0.95945946]\n",
      "F-Score: [0.36111111 0.86060606]\n",
      "Support: [ 53 148]\n"
     ]
    },
    {
     "name": "stderr",
     "output_type": "stream",
     "text": [
      "  3%|██▎                                                                               | 3/105 [00:00<00:04, 21.79it/s]"
     ]
    },
    {
     "name": "stdout",
     "output_type": "stream",
     "text": [
      "-----------------------------------------------------------------------------------\n",
      "Level 1\n",
      "Level 2\n"
     ]
    },
    {
     "name": "stderr",
     "output_type": "stream",
     "text": [
      "100%|████████████████████████████████████████████████████████████████████████████████| 105/105 [00:06<00:00, 15.02it/s]\n"
     ]
    },
    {
     "name": "stdout",
     "output_type": "stream",
     "text": [
      "Level 3\n",
      "Level 4\n",
      "Accuracy: 0.6571428571428571\n",
      "Precision: [0.16666667 0.72043011]\n",
      "Recall: [0.07142857 0.87012987]\n",
      "F-Score: [0.1        0.78823529]\n",
      "Support: [28 77]\n",
      "Gausses: 5 Style: Gaussian Progressive Adjustment: -1 Sigma Offset: 0.12000000000000001 Center Offset: 0.02\n",
      "Gaussian Progressive\n"
     ]
    },
    {
     "name": "stderr",
     "output_type": "stream",
     "text": [
      "  1%|█▏                                                                                | 3/201 [00:00<00:07, 26.56it/s]"
     ]
    },
    {
     "name": "stdout",
     "output_type": "stream",
     "text": [
      "-----------------------------------------------------------------------------------\n",
      "Level 1\n",
      "Level 2\n"
     ]
    },
    {
     "name": "stderr",
     "output_type": "stream",
     "text": [
      "100%|████████████████████████████████████████████████████████████████████████████████| 201/201 [00:12<00:00, 16.21it/s]\n"
     ]
    },
    {
     "name": "stdout",
     "output_type": "stream",
     "text": [
      "Level 3\n",
      "Level 4\n",
      "Accuracy: 0.7611940298507462\n",
      "Precision: [0.63157895 0.77472527]\n",
      "Recall: [0.22641509 0.9527027 ]\n",
      "F-Score: [0.33333333 0.85454545]\n",
      "Support: [ 53 148]\n"
     ]
    },
    {
     "name": "stderr",
     "output_type": "stream",
     "text": [
      "  3%|██▎                                                                               | 3/105 [00:00<00:04, 21.04it/s]"
     ]
    },
    {
     "name": "stdout",
     "output_type": "stream",
     "text": [
      "-----------------------------------------------------------------------------------\n",
      "Level 1\n",
      "Level 2\n"
     ]
    },
    {
     "name": "stderr",
     "output_type": "stream",
     "text": [
      "100%|████████████████████████████████████████████████████████████████████████████████| 105/105 [00:06<00:00, 16.34it/s]\n"
     ]
    },
    {
     "name": "stdout",
     "output_type": "stream",
     "text": [
      "Level 3\n",
      "Level 4\n",
      "Accuracy: 0.638095238095238\n",
      "Precision: [0.08333333 0.70967742]\n",
      "Recall: [0.03571429 0.85714286]\n",
      "F-Score: [0.05       0.77647059]\n",
      "Support: [28 77]\n",
      "Gausses: 5 Style: Gaussian Progressive Adjustment: -1 Sigma Offset: 0.12000000000000001 Center Offset: 0.04\n",
      "Gaussian Progressive\n"
     ]
    },
    {
     "name": "stderr",
     "output_type": "stream",
     "text": [
      "  1%|█▏                                                                                | 3/201 [00:00<00:08, 23.26it/s]"
     ]
    },
    {
     "name": "stdout",
     "output_type": "stream",
     "text": [
      "-----------------------------------------------------------------------------------\n",
      "Level 1\n",
      "Level 2\n"
     ]
    },
    {
     "name": "stderr",
     "output_type": "stream",
     "text": [
      "100%|████████████████████████████████████████████████████████████████████████████████| 201/201 [00:12<00:00, 15.74it/s]\n"
     ]
    },
    {
     "name": "stdout",
     "output_type": "stream",
     "text": [
      "Level 3\n",
      "Level 4\n",
      "Accuracy: 0.7611940298507462\n",
      "Precision: [0.63157895 0.77472527]\n",
      "Recall: [0.22641509 0.9527027 ]\n",
      "F-Score: [0.33333333 0.85454545]\n",
      "Support: [ 53 148]\n"
     ]
    },
    {
     "name": "stderr",
     "output_type": "stream",
     "text": [
      "  3%|██▎                                                                               | 3/105 [00:00<00:04, 23.59it/s]"
     ]
    },
    {
     "name": "stdout",
     "output_type": "stream",
     "text": [
      "-----------------------------------------------------------------------------------\n",
      "Level 1\n",
      "Level 2\n"
     ]
    },
    {
     "name": "stderr",
     "output_type": "stream",
     "text": [
      "100%|████████████████████████████████████████████████████████████████████████████████| 105/105 [00:06<00:00, 15.76it/s]\n"
     ]
    },
    {
     "name": "stdout",
     "output_type": "stream",
     "text": [
      "Level 3\n",
      "Level 4\n",
      "Accuracy: 0.638095238095238\n",
      "Precision: [0.08333333 0.70967742]\n",
      "Recall: [0.03571429 0.85714286]\n",
      "F-Score: [0.05       0.77647059]\n",
      "Support: [28 77]\n",
      "Gausses: 5 Style: Gaussian Progressive Adjustment: -1 Sigma Offset: 0.12000000000000001 Center Offset: 0.06\n",
      "Gaussian Progressive\n"
     ]
    },
    {
     "name": "stderr",
     "output_type": "stream",
     "text": [
      "  1%|█▏                                                                                | 3/201 [00:00<00:08, 23.11it/s]"
     ]
    },
    {
     "name": "stdout",
     "output_type": "stream",
     "text": [
      "-----------------------------------------------------------------------------------\n",
      "Level 1\n",
      "Level 2\n"
     ]
    },
    {
     "name": "stderr",
     "output_type": "stream",
     "text": [
      "100%|████████████████████████████████████████████████████████████████████████████████| 201/201 [00:13<00:00, 15.32it/s]\n"
     ]
    },
    {
     "name": "stdout",
     "output_type": "stream",
     "text": [
      "Level 3\n",
      "Level 4\n",
      "Accuracy: 0.7611940298507462\n",
      "Precision: [0.63157895 0.77472527]\n",
      "Recall: [0.22641509 0.9527027 ]\n",
      "F-Score: [0.33333333 0.85454545]\n",
      "Support: [ 53 148]\n"
     ]
    },
    {
     "name": "stderr",
     "output_type": "stream",
     "text": [
      "  3%|██▎                                                                               | 3/105 [00:00<00:04, 23.69it/s]"
     ]
    },
    {
     "name": "stdout",
     "output_type": "stream",
     "text": [
      "-----------------------------------------------------------------------------------\n",
      "Level 1\n",
      "Level 2\n"
     ]
    },
    {
     "name": "stderr",
     "output_type": "stream",
     "text": [
      "100%|████████████████████████████████████████████████████████████████████████████████| 105/105 [00:06<00:00, 15.24it/s]\n"
     ]
    },
    {
     "name": "stdout",
     "output_type": "stream",
     "text": [
      "Level 3\n",
      "Level 4\n",
      "Accuracy: 0.638095238095238\n",
      "Precision: [0.08333333 0.70967742]\n",
      "Recall: [0.03571429 0.85714286]\n",
      "F-Score: [0.05       0.77647059]\n",
      "Support: [28 77]\n",
      "Gausses: 5 Style: Gaussian Progressive Adjustment: -1 Sigma Offset: 0.12000000000000001 Center Offset: 0.08\n",
      "Gaussian Progressive\n"
     ]
    },
    {
     "name": "stderr",
     "output_type": "stream",
     "text": [
      "  1%|█▏                                                                                | 3/201 [00:00<00:08, 23.00it/s]"
     ]
    },
    {
     "name": "stdout",
     "output_type": "stream",
     "text": [
      "-----------------------------------------------------------------------------------\n",
      "Level 1\n",
      "Level 2\n"
     ]
    },
    {
     "name": "stderr",
     "output_type": "stream",
     "text": [
      "100%|████████████████████████████████████████████████████████████████████████████████| 201/201 [00:13<00:00, 15.39it/s]\n"
     ]
    },
    {
     "name": "stdout",
     "output_type": "stream",
     "text": [
      "Level 3\n",
      "Level 4\n",
      "Accuracy: 0.7611940298507462\n",
      "Precision: [0.63157895 0.77472527]\n",
      "Recall: [0.22641509 0.9527027 ]\n",
      "F-Score: [0.33333333 0.85454545]\n",
      "Support: [ 53 148]\n"
     ]
    },
    {
     "name": "stderr",
     "output_type": "stream",
     "text": [
      "  3%|██▎                                                                               | 3/105 [00:00<00:04, 22.93it/s]"
     ]
    },
    {
     "name": "stdout",
     "output_type": "stream",
     "text": [
      "-----------------------------------------------------------------------------------\n",
      "Level 1\n",
      "Level 2\n"
     ]
    },
    {
     "name": "stderr",
     "output_type": "stream",
     "text": [
      "100%|████████████████████████████████████████████████████████████████████████████████| 105/105 [00:06<00:00, 15.02it/s]\n"
     ]
    },
    {
     "name": "stdout",
     "output_type": "stream",
     "text": [
      "Level 3\n",
      "Level 4\n",
      "Accuracy: 0.6476190476190476\n",
      "Precision: [0.09090909 0.71276596]\n",
      "Recall: [0.03571429 0.87012987]\n",
      "F-Score: [0.05128205 0.78362573]\n",
      "Support: [28 77]\n",
      "Gausses: 5 Style: Gaussian Progressive Adjustment: -1 Sigma Offset: 0.12000000000000001 Center Offset: 0.1\n",
      "Gaussian Progressive\n"
     ]
    },
    {
     "name": "stderr",
     "output_type": "stream",
     "text": [
      "  1%|█▏                                                                                | 3/201 [00:00<00:09, 20.97it/s]"
     ]
    },
    {
     "name": "stdout",
     "output_type": "stream",
     "text": [
      "-----------------------------------------------------------------------------------\n",
      "Level 1\n",
      "Level 2\n"
     ]
    },
    {
     "name": "stderr",
     "output_type": "stream",
     "text": [
      "100%|████████████████████████████████████████████████████████████████████████████████| 201/201 [00:12<00:00, 15.49it/s]\n"
     ]
    },
    {
     "name": "stdout",
     "output_type": "stream",
     "text": [
      "Level 3\n",
      "Level 4\n",
      "Accuracy: 0.7611940298507462\n",
      "Precision: [0.63157895 0.77472527]\n",
      "Recall: [0.22641509 0.9527027 ]\n",
      "F-Score: [0.33333333 0.85454545]\n",
      "Support: [ 53 148]\n"
     ]
    },
    {
     "name": "stderr",
     "output_type": "stream",
     "text": [
      "  3%|██▎                                                                               | 3/105 [00:00<00:04, 22.86it/s]"
     ]
    },
    {
     "name": "stdout",
     "output_type": "stream",
     "text": [
      "-----------------------------------------------------------------------------------\n",
      "Level 1\n",
      "Level 2\n"
     ]
    },
    {
     "name": "stderr",
     "output_type": "stream",
     "text": [
      "100%|████████████████████████████████████████████████████████████████████████████████| 105/105 [00:06<00:00, 15.25it/s]\n"
     ]
    },
    {
     "name": "stdout",
     "output_type": "stream",
     "text": [
      "Level 3\n",
      "Level 4\n",
      "Accuracy: 0.6476190476190476\n",
      "Precision: [0.09090909 0.71276596]\n",
      "Recall: [0.03571429 0.87012987]\n",
      "F-Score: [0.05128205 0.78362573]\n",
      "Support: [28 77]\n",
      "Gausses: 5 Style: Gaussian Progressive Adjustment: -1 Sigma Offset: 0.12000000000000001 Center Offset: 0.12000000000000001\n",
      "Gaussian Progressive\n"
     ]
    },
    {
     "name": "stderr",
     "output_type": "stream",
     "text": [
      "  1%|█▏                                                                                | 3/201 [00:00<00:09, 21.13it/s]"
     ]
    },
    {
     "name": "stdout",
     "output_type": "stream",
     "text": [
      "-----------------------------------------------------------------------------------\n",
      "Level 1\n",
      "Level 2\n"
     ]
    },
    {
     "name": "stderr",
     "output_type": "stream",
     "text": [
      "100%|████████████████████████████████████████████████████████████████████████████████| 201/201 [00:13<00:00, 15.46it/s]\n"
     ]
    },
    {
     "name": "stdout",
     "output_type": "stream",
     "text": [
      "Level 3\n",
      "Level 4\n",
      "Accuracy: 0.7611940298507462\n",
      "Precision: [0.63157895 0.77472527]\n",
      "Recall: [0.22641509 0.9527027 ]\n",
      "F-Score: [0.33333333 0.85454545]\n",
      "Support: [ 53 148]\n"
     ]
    },
    {
     "name": "stderr",
     "output_type": "stream",
     "text": [
      "  3%|██▎                                                                               | 3/105 [00:00<00:04, 21.33it/s]"
     ]
    },
    {
     "name": "stdout",
     "output_type": "stream",
     "text": [
      "-----------------------------------------------------------------------------------\n",
      "Level 1\n",
      "Level 2\n"
     ]
    },
    {
     "name": "stderr",
     "output_type": "stream",
     "text": [
      "100%|████████████████████████████████████████████████████████████████████████████████| 105/105 [00:06<00:00, 15.14it/s]\n"
     ]
    },
    {
     "name": "stdout",
     "output_type": "stream",
     "text": [
      "Level 3\n",
      "Level 4\n",
      "Accuracy: 0.6476190476190476\n",
      "Precision: [0.09090909 0.71276596]\n",
      "Recall: [0.03571429 0.87012987]\n",
      "F-Score: [0.05128205 0.78362573]\n",
      "Support: [28 77]\n",
      "Gausses: 5 Style: Gaussian Progressive Adjustment: -1 Sigma Offset: 0.12000000000000001 Center Offset: 0.13999999999999999\n",
      "Gaussian Progressive\n"
     ]
    },
    {
     "name": "stderr",
     "output_type": "stream",
     "text": [
      "  1%|█▏                                                                                | 3/201 [00:00<00:08, 23.62it/s]"
     ]
    },
    {
     "name": "stdout",
     "output_type": "stream",
     "text": [
      "-----------------------------------------------------------------------------------\n",
      "Level 1\n",
      "Level 2\n"
     ]
    },
    {
     "name": "stderr",
     "output_type": "stream",
     "text": [
      "100%|████████████████████████████████████████████████████████████████████████████████| 201/201 [00:13<00:00, 15.20it/s]\n"
     ]
    },
    {
     "name": "stdout",
     "output_type": "stream",
     "text": [
      "Level 3\n",
      "Level 4\n",
      "Accuracy: 0.7611940298507462\n",
      "Precision: [0.63157895 0.77472527]\n",
      "Recall: [0.22641509 0.9527027 ]\n",
      "F-Score: [0.33333333 0.85454545]\n",
      "Support: [ 53 148]\n"
     ]
    },
    {
     "name": "stderr",
     "output_type": "stream",
     "text": [
      "  3%|██▎                                                                               | 3/105 [00:00<00:04, 23.14it/s]"
     ]
    },
    {
     "name": "stdout",
     "output_type": "stream",
     "text": [
      "-----------------------------------------------------------------------------------\n",
      "Level 1\n",
      "Level 2\n"
     ]
    },
    {
     "name": "stderr",
     "output_type": "stream",
     "text": [
      "100%|████████████████████████████████████████████████████████████████████████████████| 105/105 [00:06<00:00, 15.37it/s]\n"
     ]
    },
    {
     "name": "stdout",
     "output_type": "stream",
     "text": [
      "Level 3\n",
      "Level 4\n",
      "Accuracy: 0.6476190476190476\n",
      "Precision: [0.09090909 0.71276596]\n",
      "Recall: [0.03571429 0.87012987]\n",
      "F-Score: [0.05128205 0.78362573]\n",
      "Support: [28 77]\n",
      "Gausses: 5 Style: Gaussian Progressive Adjustment: -1 Sigma Offset: 0.12000000000000001 Center Offset: 0.16\n",
      "Gaussian Progressive\n"
     ]
    },
    {
     "name": "stderr",
     "output_type": "stream",
     "text": [
      "  1%|█▏                                                                                | 3/201 [00:00<00:08, 22.70it/s]"
     ]
    },
    {
     "name": "stdout",
     "output_type": "stream",
     "text": [
      "-----------------------------------------------------------------------------------\n",
      "Level 1\n",
      "Level 2\n"
     ]
    },
    {
     "name": "stderr",
     "output_type": "stream",
     "text": [
      "100%|████████████████████████████████████████████████████████████████████████████████| 201/201 [00:13<00:00, 15.30it/s]\n"
     ]
    },
    {
     "name": "stdout",
     "output_type": "stream",
     "text": [
      "Level 3\n",
      "Level 4\n",
      "Accuracy: 0.7562189054726368\n",
      "Precision: [0.61111111 0.7704918 ]\n",
      "Recall: [0.20754717 0.9527027 ]\n",
      "F-Score: [0.30985915 0.85196375]\n",
      "Support: [ 53 148]\n"
     ]
    },
    {
     "name": "stderr",
     "output_type": "stream",
     "text": [
      "  3%|██▎                                                                               | 3/105 [00:00<00:04, 22.28it/s]"
     ]
    },
    {
     "name": "stdout",
     "output_type": "stream",
     "text": [
      "-----------------------------------------------------------------------------------\n",
      "Level 1\n",
      "Level 2\n"
     ]
    },
    {
     "name": "stderr",
     "output_type": "stream",
     "text": [
      "100%|████████████████████████████████████████████████████████████████████████████████| 105/105 [00:06<00:00, 15.31it/s]\n"
     ]
    },
    {
     "name": "stdout",
     "output_type": "stream",
     "text": [
      "Level 3\n",
      "Level 4\n",
      "Accuracy: 0.6476190476190476\n",
      "Precision: [0.09090909 0.71276596]\n",
      "Recall: [0.03571429 0.87012987]\n",
      "F-Score: [0.05128205 0.78362573]\n",
      "Support: [28 77]\n",
      "Gausses: 5 Style: Gaussian Progressive Adjustment: -1 Sigma Offset: 0.12000000000000001 Center Offset: 0.18\n",
      "Gaussian Progressive\n"
     ]
    },
    {
     "name": "stderr",
     "output_type": "stream",
     "text": [
      "  1%|█▏                                                                                | 3/201 [00:00<00:09, 20.44it/s]"
     ]
    },
    {
     "name": "stdout",
     "output_type": "stream",
     "text": [
      "-----------------------------------------------------------------------------------\n",
      "Level 1\n",
      "Level 2\n"
     ]
    },
    {
     "name": "stderr",
     "output_type": "stream",
     "text": [
      "100%|████████████████████████████████████████████████████████████████████████████████| 201/201 [00:13<00:00, 15.21it/s]\n"
     ]
    },
    {
     "name": "stdout",
     "output_type": "stream",
     "text": [
      "Level 3\n",
      "Level 4\n",
      "Accuracy: 0.7611940298507462\n",
      "Precision: [0.64705882 0.77173913]\n",
      "Recall: [0.20754717 0.95945946]\n",
      "F-Score: [0.31428571 0.85542169]\n",
      "Support: [ 53 148]\n"
     ]
    },
    {
     "name": "stderr",
     "output_type": "stream",
     "text": [
      "  3%|██▎                                                                               | 3/105 [00:00<00:04, 22.69it/s]"
     ]
    },
    {
     "name": "stdout",
     "output_type": "stream",
     "text": [
      "-----------------------------------------------------------------------------------\n",
      "Level 1\n",
      "Level 2\n"
     ]
    },
    {
     "name": "stderr",
     "output_type": "stream",
     "text": [
      "100%|████████████████████████████████████████████████████████████████████████████████| 105/105 [00:06<00:00, 15.29it/s]\n"
     ]
    },
    {
     "name": "stdout",
     "output_type": "stream",
     "text": [
      "Level 3\n",
      "Level 4\n",
      "Accuracy: 0.6571428571428571\n",
      "Precision: [0.1        0.71578947]\n",
      "Recall: [0.03571429 0.88311688]\n",
      "F-Score: [0.05263158 0.79069767]\n",
      "Support: [28 77]\n",
      "Gausses: 5 Style: Gaussian Progressive Adjustment: -1 Sigma Offset: 0.12000000000000001 Center Offset: 0.19999999999999998\n",
      "Gaussian Progressive\n"
     ]
    },
    {
     "name": "stderr",
     "output_type": "stream",
     "text": [
      "  1%|█▏                                                                                | 3/201 [00:00<00:08, 23.14it/s]"
     ]
    },
    {
     "name": "stdout",
     "output_type": "stream",
     "text": [
      "-----------------------------------------------------------------------------------\n",
      "Level 1\n",
      "Level 2\n"
     ]
    },
    {
     "name": "stderr",
     "output_type": "stream",
     "text": [
      "100%|████████████████████████████████████████████████████████████████████████████████| 201/201 [00:12<00:00, 15.88it/s]\n"
     ]
    },
    {
     "name": "stdout",
     "output_type": "stream",
     "text": [
      "Level 3\n",
      "Level 4\n",
      "Accuracy: 0.7611940298507462\n",
      "Precision: [0.64705882 0.77173913]\n",
      "Recall: [0.20754717 0.95945946]\n",
      "F-Score: [0.31428571 0.85542169]\n",
      "Support: [ 53 148]\n"
     ]
    },
    {
     "name": "stderr",
     "output_type": "stream",
     "text": [
      "  3%|██▎                                                                               | 3/105 [00:00<00:04, 23.32it/s]"
     ]
    },
    {
     "name": "stdout",
     "output_type": "stream",
     "text": [
      "-----------------------------------------------------------------------------------\n",
      "Level 1\n",
      "Level 2\n"
     ]
    },
    {
     "name": "stderr",
     "output_type": "stream",
     "text": [
      "100%|████████████████████████████████████████████████████████████████████████████████| 105/105 [00:06<00:00, 16.02it/s]\n"
     ]
    },
    {
     "name": "stdout",
     "output_type": "stream",
     "text": [
      "Level 3\n",
      "Level 4\n",
      "Accuracy: 0.6571428571428571\n",
      "Precision: [0.1        0.71578947]\n",
      "Recall: [0.03571429 0.88311688]\n",
      "F-Score: [0.05263158 0.79069767]\n",
      "Support: [28 77]\n",
      "Gausses: 5 Style: Gaussian Progressive Adjustment: -1 Sigma Offset: 0.13999999999999999 Center Offset: 0.02\n",
      "Gaussian Progressive\n"
     ]
    },
    {
     "name": "stderr",
     "output_type": "stream",
     "text": [
      "  1%|█▏                                                                                | 3/201 [00:00<00:08, 24.46it/s]"
     ]
    },
    {
     "name": "stdout",
     "output_type": "stream",
     "text": [
      "-----------------------------------------------------------------------------------\n",
      "Level 1\n",
      "Level 2\n"
     ]
    },
    {
     "name": "stderr",
     "output_type": "stream",
     "text": [
      "100%|████████████████████████████████████████████████████████████████████████████████| 201/201 [00:14<00:00, 13.74it/s]\n"
     ]
    },
    {
     "name": "stdout",
     "output_type": "stream",
     "text": [
      "Level 3\n",
      "Level 4\n",
      "Accuracy: 0.736318407960199\n",
      "Precision: [0.5        0.77777778]\n",
      "Recall: [0.28301887 0.89864865]\n",
      "F-Score: [0.36144578 0.8338558 ]\n",
      "Support: [ 53 148]\n"
     ]
    },
    {
     "name": "stderr",
     "output_type": "stream",
     "text": [
      "  3%|██▎                                                                               | 3/105 [00:00<00:04, 22.05it/s]"
     ]
    },
    {
     "name": "stdout",
     "output_type": "stream",
     "text": [
      "-----------------------------------------------------------------------------------\n",
      "Level 1\n",
      "Level 2\n"
     ]
    },
    {
     "name": "stderr",
     "output_type": "stream",
     "text": [
      "100%|████████████████████████████████████████████████████████████████████████████████| 105/105 [00:07<00:00, 14.60it/s]\n"
     ]
    },
    {
     "name": "stdout",
     "output_type": "stream",
     "text": [
      "Level 3\n",
      "Level 4\n",
      "Accuracy: 0.6571428571428571\n",
      "Precision: [0.16666667 0.72043011]\n",
      "Recall: [0.07142857 0.87012987]\n",
      "F-Score: [0.1        0.78823529]\n",
      "Support: [28 77]\n",
      "Gausses: 5 Style: Gaussian Progressive Adjustment: -1 Sigma Offset: 0.13999999999999999 Center Offset: 0.04\n",
      "Gaussian Progressive\n"
     ]
    },
    {
     "name": "stderr",
     "output_type": "stream",
     "text": [
      "  1%|█▏                                                                                | 3/201 [00:00<00:08, 22.96it/s]"
     ]
    },
    {
     "name": "stdout",
     "output_type": "stream",
     "text": [
      "-----------------------------------------------------------------------------------\n",
      "Level 1\n",
      "Level 2\n"
     ]
    },
    {
     "name": "stderr",
     "output_type": "stream",
     "text": [
      "100%|████████████████████████████████████████████████████████████████████████████████| 201/201 [00:14<00:00, 13.72it/s]\n"
     ]
    },
    {
     "name": "stdout",
     "output_type": "stream",
     "text": [
      "Level 3\n",
      "Level 4\n",
      "Accuracy: 0.736318407960199\n",
      "Precision: [0.5        0.77777778]\n",
      "Recall: [0.28301887 0.89864865]\n",
      "F-Score: [0.36144578 0.8338558 ]\n",
      "Support: [ 53 148]\n"
     ]
    },
    {
     "name": "stderr",
     "output_type": "stream",
     "text": [
      "  3%|██▎                                                                               | 3/105 [00:00<00:04, 21.43it/s]"
     ]
    },
    {
     "name": "stdout",
     "output_type": "stream",
     "text": [
      "-----------------------------------------------------------------------------------\n",
      "Level 1\n",
      "Level 2\n"
     ]
    },
    {
     "name": "stderr",
     "output_type": "stream",
     "text": [
      "100%|████████████████████████████████████████████████████████████████████████████████| 105/105 [00:06<00:00, 15.35it/s]\n"
     ]
    },
    {
     "name": "stdout",
     "output_type": "stream",
     "text": [
      "Level 3\n",
      "Level 4\n",
      "Accuracy: 0.6571428571428571\n",
      "Precision: [0.16666667 0.72043011]\n",
      "Recall: [0.07142857 0.87012987]\n",
      "F-Score: [0.1        0.78823529]\n",
      "Support: [28 77]\n",
      "Gausses: 5 Style: Gaussian Progressive Adjustment: -1 Sigma Offset: 0.13999999999999999 Center Offset: 0.06\n",
      "Gaussian Progressive\n"
     ]
    },
    {
     "name": "stderr",
     "output_type": "stream",
     "text": [
      "  1%|█▏                                                                                | 3/201 [00:00<00:09, 20.80it/s]"
     ]
    },
    {
     "name": "stdout",
     "output_type": "stream",
     "text": [
      "-----------------------------------------------------------------------------------\n",
      "Level 1\n",
      "Level 2\n"
     ]
    },
    {
     "name": "stderr",
     "output_type": "stream",
     "text": [
      "100%|████████████████████████████████████████████████████████████████████████████████| 201/201 [00:12<00:00, 15.58it/s]\n"
     ]
    },
    {
     "name": "stdout",
     "output_type": "stream",
     "text": [
      "Level 3\n",
      "Level 4\n",
      "Accuracy: 0.736318407960199\n",
      "Precision: [0.5        0.77777778]\n",
      "Recall: [0.28301887 0.89864865]\n",
      "F-Score: [0.36144578 0.8338558 ]\n",
      "Support: [ 53 148]\n"
     ]
    },
    {
     "name": "stderr",
     "output_type": "stream",
     "text": [
      "  3%|██▎                                                                               | 3/105 [00:00<00:04, 22.12it/s]"
     ]
    },
    {
     "name": "stdout",
     "output_type": "stream",
     "text": [
      "-----------------------------------------------------------------------------------\n",
      "Level 1\n",
      "Level 2\n"
     ]
    },
    {
     "name": "stderr",
     "output_type": "stream",
     "text": [
      "100%|████████████████████████████████████████████████████████████████████████████████| 105/105 [00:06<00:00, 15.44it/s]\n"
     ]
    },
    {
     "name": "stdout",
     "output_type": "stream",
     "text": [
      "Level 3\n",
      "Level 4\n",
      "Accuracy: 0.6476190476190476\n",
      "Precision: [0.15384615 0.7173913 ]\n",
      "Recall: [0.07142857 0.85714286]\n",
      "F-Score: [0.09756098 0.78106509]\n",
      "Support: [28 77]\n",
      "Gausses: 5 Style: Gaussian Progressive Adjustment: -1 Sigma Offset: 0.13999999999999999 Center Offset: 0.08\n",
      "Gaussian Progressive\n"
     ]
    },
    {
     "name": "stderr",
     "output_type": "stream",
     "text": [
      "  1%|█▏                                                                                | 3/201 [00:00<00:09, 21.75it/s]"
     ]
    },
    {
     "name": "stdout",
     "output_type": "stream",
     "text": [
      "-----------------------------------------------------------------------------------\n",
      "Level 1\n",
      "Level 2\n"
     ]
    },
    {
     "name": "stderr",
     "output_type": "stream",
     "text": [
      "100%|████████████████████████████████████████████████████████████████████████████████| 201/201 [00:12<00:00, 15.60it/s]\n"
     ]
    },
    {
     "name": "stdout",
     "output_type": "stream",
     "text": [
      "Level 3\n",
      "Level 4\n",
      "Accuracy: 0.736318407960199\n",
      "Precision: [0.5        0.77777778]\n",
      "Recall: [0.28301887 0.89864865]\n",
      "F-Score: [0.36144578 0.8338558 ]\n",
      "Support: [ 53 148]\n"
     ]
    },
    {
     "name": "stderr",
     "output_type": "stream",
     "text": [
      "  3%|██▎                                                                               | 3/105 [00:00<00:04, 23.14it/s]"
     ]
    },
    {
     "name": "stdout",
     "output_type": "stream",
     "text": [
      "-----------------------------------------------------------------------------------\n",
      "Level 1\n",
      "Level 2\n"
     ]
    },
    {
     "name": "stderr",
     "output_type": "stream",
     "text": [
      "100%|████████████████████████████████████████████████████████████████████████████████| 105/105 [00:07<00:00, 14.91it/s]\n"
     ]
    },
    {
     "name": "stdout",
     "output_type": "stream",
     "text": [
      "Level 3\n",
      "Level 4\n",
      "Accuracy: 0.6476190476190476\n",
      "Precision: [0.15384615 0.7173913 ]\n",
      "Recall: [0.07142857 0.85714286]\n",
      "F-Score: [0.09756098 0.78106509]\n",
      "Support: [28 77]\n",
      "Gausses: 5 Style: Gaussian Progressive Adjustment: -1 Sigma Offset: 0.13999999999999999 Center Offset: 0.1\n",
      "Gaussian Progressive\n"
     ]
    },
    {
     "name": "stderr",
     "output_type": "stream",
     "text": [
      "  1%|█▏                                                                                | 3/201 [00:00<00:09, 21.62it/s]"
     ]
    },
    {
     "name": "stdout",
     "output_type": "stream",
     "text": [
      "-----------------------------------------------------------------------------------\n",
      "Level 1\n",
      "Level 2\n"
     ]
    },
    {
     "name": "stderr",
     "output_type": "stream",
     "text": [
      "100%|████████████████████████████████████████████████████████████████████████████████| 201/201 [00:13<00:00, 14.77it/s]\n"
     ]
    },
    {
     "name": "stdout",
     "output_type": "stream",
     "text": [
      "Level 3\n",
      "Level 4\n",
      "Accuracy: 0.736318407960199\n",
      "Precision: [0.5        0.77777778]\n",
      "Recall: [0.28301887 0.89864865]\n",
      "F-Score: [0.36144578 0.8338558 ]\n",
      "Support: [ 53 148]\n"
     ]
    },
    {
     "name": "stderr",
     "output_type": "stream",
     "text": [
      "  3%|██▎                                                                               | 3/105 [00:00<00:05, 19.96it/s]"
     ]
    },
    {
     "name": "stdout",
     "output_type": "stream",
     "text": [
      "-----------------------------------------------------------------------------------\n",
      "Level 1\n",
      "Level 2\n"
     ]
    },
    {
     "name": "stderr",
     "output_type": "stream",
     "text": [
      "100%|████████████████████████████████████████████████████████████████████████████████| 105/105 [00:06<00:00, 15.38it/s]\n"
     ]
    },
    {
     "name": "stdout",
     "output_type": "stream",
     "text": [
      "Level 3\n",
      "Level 4\n",
      "Accuracy: 0.6476190476190476\n",
      "Precision: [0.15384615 0.7173913 ]\n",
      "Recall: [0.07142857 0.85714286]\n",
      "F-Score: [0.09756098 0.78106509]\n",
      "Support: [28 77]\n",
      "Gausses: 5 Style: Gaussian Progressive Adjustment: -1 Sigma Offset: 0.13999999999999999 Center Offset: 0.12000000000000001\n",
      "Gaussian Progressive\n"
     ]
    },
    {
     "name": "stderr",
     "output_type": "stream",
     "text": [
      "  1%|█▏                                                                                | 3/201 [00:00<00:09, 20.46it/s]"
     ]
    },
    {
     "name": "stdout",
     "output_type": "stream",
     "text": [
      "-----------------------------------------------------------------------------------\n",
      "Level 1\n",
      "Level 2\n"
     ]
    },
    {
     "name": "stderr",
     "output_type": "stream",
     "text": [
      "100%|████████████████████████████████████████████████████████████████████████████████| 201/201 [00:13<00:00, 15.42it/s]\n"
     ]
    },
    {
     "name": "stdout",
     "output_type": "stream",
     "text": [
      "Level 3\n",
      "Level 4\n",
      "Accuracy: 0.736318407960199\n",
      "Precision: [0.5        0.77777778]\n",
      "Recall: [0.28301887 0.89864865]\n",
      "F-Score: [0.36144578 0.8338558 ]\n",
      "Support: [ 53 148]\n"
     ]
    },
    {
     "name": "stderr",
     "output_type": "stream",
     "text": [
      "  3%|██▎                                                                               | 3/105 [00:00<00:04, 22.96it/s]"
     ]
    },
    {
     "name": "stdout",
     "output_type": "stream",
     "text": [
      "-----------------------------------------------------------------------------------\n",
      "Level 1\n",
      "Level 2\n"
     ]
    },
    {
     "name": "stderr",
     "output_type": "stream",
     "text": [
      "100%|████████████████████████████████████████████████████████████████████████████████| 105/105 [00:06<00:00, 15.21it/s]\n"
     ]
    },
    {
     "name": "stdout",
     "output_type": "stream",
     "text": [
      "Level 3\n",
      "Level 4\n",
      "Accuracy: 0.6476190476190476\n",
      "Precision: [0.15384615 0.7173913 ]\n",
      "Recall: [0.07142857 0.85714286]\n",
      "F-Score: [0.09756098 0.78106509]\n",
      "Support: [28 77]\n",
      "Gausses: 5 Style: Gaussian Progressive Adjustment: -1 Sigma Offset: 0.13999999999999999 Center Offset: 0.13999999999999999\n",
      "Gaussian Progressive\n"
     ]
    },
    {
     "name": "stderr",
     "output_type": "stream",
     "text": [
      "  1%|█▏                                                                                | 3/201 [00:00<00:08, 22.45it/s]"
     ]
    },
    {
     "name": "stdout",
     "output_type": "stream",
     "text": [
      "-----------------------------------------------------------------------------------\n",
      "Level 1\n",
      "Level 2\n"
     ]
    },
    {
     "name": "stderr",
     "output_type": "stream",
     "text": [
      "100%|████████████████████████████████████████████████████████████████████████████████| 201/201 [00:12<00:00, 15.59it/s]\n"
     ]
    },
    {
     "name": "stdout",
     "output_type": "stream",
     "text": [
      "Level 3\n",
      "Level 4\n",
      "Accuracy: 0.736318407960199\n",
      "Precision: [0.5        0.77777778]\n",
      "Recall: [0.28301887 0.89864865]\n",
      "F-Score: [0.36144578 0.8338558 ]\n",
      "Support: [ 53 148]\n"
     ]
    },
    {
     "name": "stderr",
     "output_type": "stream",
     "text": [
      "  3%|██▎                                                                               | 3/105 [00:00<00:04, 20.67it/s]"
     ]
    },
    {
     "name": "stdout",
     "output_type": "stream",
     "text": [
      "-----------------------------------------------------------------------------------\n",
      "Level 1\n",
      "Level 2\n"
     ]
    },
    {
     "name": "stderr",
     "output_type": "stream",
     "text": [
      "100%|████████████████████████████████████████████████████████████████████████████████| 105/105 [00:06<00:00, 15.03it/s]\n"
     ]
    },
    {
     "name": "stdout",
     "output_type": "stream",
     "text": [
      "Level 3\n",
      "Level 4\n",
      "Accuracy: 0.6571428571428571\n",
      "Precision: [0.16666667 0.72043011]\n",
      "Recall: [0.07142857 0.87012987]\n",
      "F-Score: [0.1        0.78823529]\n",
      "Support: [28 77]\n",
      "Gausses: 5 Style: Gaussian Progressive Adjustment: -1 Sigma Offset: 0.13999999999999999 Center Offset: 0.16\n",
      "Gaussian Progressive\n"
     ]
    },
    {
     "name": "stderr",
     "output_type": "stream",
     "text": [
      "  1%|█▏                                                                                | 3/201 [00:00<00:08, 23.39it/s]"
     ]
    },
    {
     "name": "stdout",
     "output_type": "stream",
     "text": [
      "-----------------------------------------------------------------------------------\n",
      "Level 1\n",
      "Level 2\n"
     ]
    },
    {
     "name": "stderr",
     "output_type": "stream",
     "text": [
      "100%|████████████████████████████████████████████████████████████████████████████████| 201/201 [00:12<00:00, 15.67it/s]\n"
     ]
    },
    {
     "name": "stdout",
     "output_type": "stream",
     "text": [
      "Level 3\n",
      "Level 4\n",
      "Accuracy: 0.736318407960199\n",
      "Precision: [0.5        0.77777778]\n",
      "Recall: [0.28301887 0.89864865]\n",
      "F-Score: [0.36144578 0.8338558 ]\n",
      "Support: [ 53 148]\n"
     ]
    },
    {
     "name": "stderr",
     "output_type": "stream",
     "text": [
      "  3%|██▎                                                                               | 3/105 [00:00<00:04, 22.91it/s]"
     ]
    },
    {
     "name": "stdout",
     "output_type": "stream",
     "text": [
      "-----------------------------------------------------------------------------------\n",
      "Level 1\n",
      "Level 2\n"
     ]
    },
    {
     "name": "stderr",
     "output_type": "stream",
     "text": [
      "100%|████████████████████████████████████████████████████████████████████████████████| 105/105 [00:06<00:00, 15.36it/s]\n"
     ]
    },
    {
     "name": "stdout",
     "output_type": "stream",
     "text": [
      "Level 3\n",
      "Level 4\n",
      "Accuracy: 0.6571428571428571\n",
      "Precision: [0.16666667 0.72043011]\n",
      "Recall: [0.07142857 0.87012987]\n",
      "F-Score: [0.1        0.78823529]\n",
      "Support: [28 77]\n",
      "Gausses: 5 Style: Gaussian Progressive Adjustment: -1 Sigma Offset: 0.13999999999999999 Center Offset: 0.18\n",
      "Gaussian Progressive\n"
     ]
    },
    {
     "name": "stderr",
     "output_type": "stream",
     "text": [
      "  1%|█▏                                                                                | 3/201 [00:00<00:08, 22.38it/s]"
     ]
    },
    {
     "name": "stdout",
     "output_type": "stream",
     "text": [
      "-----------------------------------------------------------------------------------\n",
      "Level 1\n",
      "Level 2\n"
     ]
    },
    {
     "name": "stderr",
     "output_type": "stream",
     "text": [
      "100%|████████████████████████████████████████████████████████████████████████████████| 201/201 [00:12<00:00, 15.59it/s]\n"
     ]
    },
    {
     "name": "stdout",
     "output_type": "stream",
     "text": [
      "Level 3\n",
      "Level 4\n",
      "Accuracy: 0.736318407960199\n",
      "Precision: [0.5        0.77777778]\n",
      "Recall: [0.28301887 0.89864865]\n",
      "F-Score: [0.36144578 0.8338558 ]\n",
      "Support: [ 53 148]\n"
     ]
    },
    {
     "name": "stderr",
     "output_type": "stream",
     "text": [
      "  3%|██▎                                                                               | 3/105 [00:00<00:04, 22.75it/s]"
     ]
    },
    {
     "name": "stdout",
     "output_type": "stream",
     "text": [
      "-----------------------------------------------------------------------------------\n",
      "Level 1\n",
      "Level 2\n"
     ]
    },
    {
     "name": "stderr",
     "output_type": "stream",
     "text": [
      "100%|████████████████████████████████████████████████████████████████████████████████| 105/105 [00:07<00:00, 13.84it/s]\n"
     ]
    },
    {
     "name": "stdout",
     "output_type": "stream",
     "text": [
      "Level 3\n",
      "Level 4\n",
      "Accuracy: 0.6571428571428571\n",
      "Precision: [0.16666667 0.72043011]\n",
      "Recall: [0.07142857 0.87012987]\n",
      "F-Score: [0.1        0.78823529]\n",
      "Support: [28 77]\n",
      "Gausses: 5 Style: Gaussian Progressive Adjustment: -1 Sigma Offset: 0.13999999999999999 Center Offset: 0.19999999999999998\n",
      "Gaussian Progressive\n"
     ]
    },
    {
     "name": "stderr",
     "output_type": "stream",
     "text": [
      "  1%|█▏                                                                                | 3/201 [00:00<00:08, 22.53it/s]"
     ]
    },
    {
     "name": "stdout",
     "output_type": "stream",
     "text": [
      "-----------------------------------------------------------------------------------\n",
      "Level 1\n",
      "Level 2\n"
     ]
    },
    {
     "name": "stderr",
     "output_type": "stream",
     "text": [
      "100%|████████████████████████████████████████████████████████████████████████████████| 201/201 [00:14<00:00, 13.82it/s]\n"
     ]
    },
    {
     "name": "stdout",
     "output_type": "stream",
     "text": [
      "Level 3\n",
      "Level 4\n",
      "Accuracy: 0.7412935323383084\n",
      "Precision: [0.51724138 0.77906977]\n",
      "Recall: [0.28301887 0.90540541]\n",
      "F-Score: [0.36585366 0.8375    ]\n",
      "Support: [ 53 148]\n"
     ]
    },
    {
     "name": "stderr",
     "output_type": "stream",
     "text": [
      "  3%|██▎                                                                               | 3/105 [00:00<00:05, 20.08it/s]"
     ]
    },
    {
     "name": "stdout",
     "output_type": "stream",
     "text": [
      "-----------------------------------------------------------------------------------\n",
      "Level 1\n",
      "Level 2\n"
     ]
    },
    {
     "name": "stderr",
     "output_type": "stream",
     "text": [
      "100%|████████████████████████████████████████████████████████████████████████████████| 105/105 [00:06<00:00, 15.00it/s]\n"
     ]
    },
    {
     "name": "stdout",
     "output_type": "stream",
     "text": [
      "Level 3\n",
      "Level 4\n",
      "Accuracy: 0.6476190476190476\n",
      "Precision: [0.09090909 0.71276596]\n",
      "Recall: [0.03571429 0.87012987]\n",
      "F-Score: [0.05128205 0.78362573]\n",
      "Support: [28 77]\n",
      "Gausses: 5 Style: Gaussian Progressive Adjustment: -1 Sigma Offset: 0.16 Center Offset: 0.02\n",
      "Gaussian Progressive\n"
     ]
    },
    {
     "name": "stderr",
     "output_type": "stream",
     "text": [
      "  1%|█▏                                                                                | 3/201 [00:00<00:08, 24.52it/s]"
     ]
    },
    {
     "name": "stdout",
     "output_type": "stream",
     "text": [
      "-----------------------------------------------------------------------------------\n",
      "Level 1\n",
      "Level 2\n"
     ]
    },
    {
     "name": "stderr",
     "output_type": "stream",
     "text": [
      "100%|████████████████████████████████████████████████████████████████████████████████| 201/201 [00:12<00:00, 15.85it/s]\n"
     ]
    },
    {
     "name": "stdout",
     "output_type": "stream",
     "text": [
      "Level 3\n",
      "Level 4\n",
      "Accuracy: 0.7412935323383084\n",
      "Precision: [0.51612903 0.78235294]\n",
      "Recall: [0.30188679 0.89864865]\n",
      "F-Score: [0.38095238 0.83647799]\n",
      "Support: [ 53 148]\n"
     ]
    },
    {
     "name": "stderr",
     "output_type": "stream",
     "text": [
      "  3%|██▎                                                                               | 3/105 [00:00<00:04, 25.32it/s]"
     ]
    },
    {
     "name": "stdout",
     "output_type": "stream",
     "text": [
      "-----------------------------------------------------------------------------------\n",
      "Level 1\n",
      "Level 2\n"
     ]
    },
    {
     "name": "stderr",
     "output_type": "stream",
     "text": [
      "100%|████████████████████████████████████████████████████████████████████████████████| 105/105 [00:06<00:00, 16.36it/s]\n"
     ]
    },
    {
     "name": "stdout",
     "output_type": "stream",
     "text": [
      "Level 3\n",
      "Level 4\n",
      "Accuracy: 0.6476190476190476\n",
      "Precision: [0.15384615 0.7173913 ]\n",
      "Recall: [0.07142857 0.85714286]\n",
      "F-Score: [0.09756098 0.78106509]\n",
      "Support: [28 77]\n",
      "Gausses: 5 Style: Gaussian Progressive Adjustment: -1 Sigma Offset: 0.16 Center Offset: 0.04\n",
      "Gaussian Progressive\n"
     ]
    },
    {
     "name": "stderr",
     "output_type": "stream",
     "text": [
      "  1%|█▏                                                                                | 3/201 [00:00<00:10, 19.61it/s]"
     ]
    },
    {
     "name": "stdout",
     "output_type": "stream",
     "text": [
      "-----------------------------------------------------------------------------------\n",
      "Level 1\n",
      "Level 2\n"
     ]
    },
    {
     "name": "stderr",
     "output_type": "stream",
     "text": [
      "100%|████████████████████████████████████████████████████████████████████████████████| 201/201 [00:13<00:00, 14.82it/s]\n"
     ]
    },
    {
     "name": "stdout",
     "output_type": "stream",
     "text": [
      "Level 3\n",
      "Level 4\n",
      "Accuracy: 0.7412935323383084\n",
      "Precision: [0.51612903 0.78235294]\n",
      "Recall: [0.30188679 0.89864865]\n",
      "F-Score: [0.38095238 0.83647799]\n",
      "Support: [ 53 148]\n"
     ]
    },
    {
     "name": "stderr",
     "output_type": "stream",
     "text": [
      "  3%|██▎                                                                               | 3/105 [00:00<00:04, 24.16it/s]"
     ]
    },
    {
     "name": "stdout",
     "output_type": "stream",
     "text": [
      "-----------------------------------------------------------------------------------\n",
      "Level 1\n",
      "Level 2\n"
     ]
    },
    {
     "name": "stderr",
     "output_type": "stream",
     "text": [
      "100%|████████████████████████████████████████████████████████████████████████████████| 105/105 [00:06<00:00, 15.68it/s]\n"
     ]
    },
    {
     "name": "stdout",
     "output_type": "stream",
     "text": [
      "Level 3\n",
      "Level 4\n",
      "Accuracy: 0.6476190476190476\n",
      "Precision: [0.15384615 0.7173913 ]\n",
      "Recall: [0.07142857 0.85714286]\n",
      "F-Score: [0.09756098 0.78106509]\n",
      "Support: [28 77]\n",
      "Gausses: 5 Style: Gaussian Progressive Adjustment: -1 Sigma Offset: 0.16 Center Offset: 0.06\n",
      "Gaussian Progressive\n"
     ]
    },
    {
     "name": "stderr",
     "output_type": "stream",
     "text": [
      "  1%|█▏                                                                                | 3/201 [00:00<00:08, 23.14it/s]"
     ]
    },
    {
     "name": "stdout",
     "output_type": "stream",
     "text": [
      "-----------------------------------------------------------------------------------\n",
      "Level 1\n",
      "Level 2\n"
     ]
    },
    {
     "name": "stderr",
     "output_type": "stream",
     "text": [
      "100%|████████████████████████████████████████████████████████████████████████████████| 201/201 [00:15<00:00, 13.18it/s]\n"
     ]
    },
    {
     "name": "stdout",
     "output_type": "stream",
     "text": [
      "Level 3\n",
      "Level 4\n",
      "Accuracy: 0.7412935323383084\n",
      "Precision: [0.51612903 0.78235294]\n",
      "Recall: [0.30188679 0.89864865]\n",
      "F-Score: [0.38095238 0.83647799]\n",
      "Support: [ 53 148]\n"
     ]
    },
    {
     "name": "stderr",
     "output_type": "stream",
     "text": [
      "  2%|█▌                                                                                | 2/105 [00:00<00:05, 18.05it/s]"
     ]
    },
    {
     "name": "stdout",
     "output_type": "stream",
     "text": [
      "-----------------------------------------------------------------------------------\n",
      "Level 1\n",
      "Level 2\n"
     ]
    },
    {
     "name": "stderr",
     "output_type": "stream",
     "text": [
      "100%|████████████████████████████████████████████████████████████████████████████████| 105/105 [00:07<00:00, 14.04it/s]\n"
     ]
    },
    {
     "name": "stdout",
     "output_type": "stream",
     "text": [
      "Level 3\n",
      "Level 4\n",
      "Accuracy: 0.6476190476190476\n",
      "Precision: [0.15384615 0.7173913 ]\n",
      "Recall: [0.07142857 0.85714286]\n",
      "F-Score: [0.09756098 0.78106509]\n",
      "Support: [28 77]\n",
      "Gausses: 5 Style: Gaussian Progressive Adjustment: -1 Sigma Offset: 0.16 Center Offset: 0.08\n",
      "Gaussian Progressive\n"
     ]
    },
    {
     "name": "stderr",
     "output_type": "stream",
     "text": [
      "  1%|█▏                                                                                | 3/201 [00:00<00:09, 21.85it/s]"
     ]
    },
    {
     "name": "stdout",
     "output_type": "stream",
     "text": [
      "-----------------------------------------------------------------------------------\n",
      "Level 1\n",
      "Level 2\n"
     ]
    },
    {
     "name": "stderr",
     "output_type": "stream",
     "text": [
      "100%|████████████████████████████████████████████████████████████████████████████████| 201/201 [00:15<00:00, 13.35it/s]\n"
     ]
    },
    {
     "name": "stdout",
     "output_type": "stream",
     "text": [
      "Level 3\n",
      "Level 4\n",
      "Accuracy: 0.7412935323383084\n",
      "Precision: [0.51612903 0.78235294]\n",
      "Recall: [0.30188679 0.89864865]\n",
      "F-Score: [0.38095238 0.83647799]\n",
      "Support: [ 53 148]\n"
     ]
    },
    {
     "name": "stderr",
     "output_type": "stream",
     "text": [
      "  0%|                                                                                          | 0/105 [00:00<?, ?it/s]"
     ]
    },
    {
     "name": "stdout",
     "output_type": "stream",
     "text": [
      "-----------------------------------------------------------------------------------\n",
      "Level 1\n",
      "Level 2\n"
     ]
    },
    {
     "name": "stderr",
     "output_type": "stream",
     "text": [
      "100%|████████████████████████████████████████████████████████████████████████████████| 105/105 [00:08<00:00, 12.97it/s]\n"
     ]
    },
    {
     "name": "stdout",
     "output_type": "stream",
     "text": [
      "Level 3\n",
      "Level 4\n",
      "Accuracy: 0.6476190476190476\n",
      "Precision: [0.15384615 0.7173913 ]\n",
      "Recall: [0.07142857 0.85714286]\n",
      "F-Score: [0.09756098 0.78106509]\n",
      "Support: [28 77]\n",
      "Gausses: 5 Style: Gaussian Progressive Adjustment: -1 Sigma Offset: 0.16 Center Offset: 0.1\n",
      "Gaussian Progressive\n"
     ]
    },
    {
     "name": "stderr",
     "output_type": "stream",
     "text": [
      "  1%|█▏                                                                                | 3/201 [00:00<00:08, 23.69it/s]"
     ]
    },
    {
     "name": "stdout",
     "output_type": "stream",
     "text": [
      "-----------------------------------------------------------------------------------\n",
      "Level 1\n",
      "Level 2\n"
     ]
    },
    {
     "name": "stderr",
     "output_type": "stream",
     "text": [
      "100%|████████████████████████████████████████████████████████████████████████████████| 201/201 [00:15<00:00, 12.78it/s]\n"
     ]
    },
    {
     "name": "stdout",
     "output_type": "stream",
     "text": [
      "Level 3\n",
      "Level 4\n",
      "Accuracy: 0.7412935323383084\n",
      "Precision: [0.51612903 0.78235294]\n",
      "Recall: [0.30188679 0.89864865]\n",
      "F-Score: [0.38095238 0.83647799]\n",
      "Support: [ 53 148]\n"
     ]
    },
    {
     "name": "stderr",
     "output_type": "stream",
     "text": [
      "  3%|██▎                                                                               | 3/105 [00:00<00:04, 23.22it/s]"
     ]
    },
    {
     "name": "stdout",
     "output_type": "stream",
     "text": [
      "-----------------------------------------------------------------------------------\n",
      "Level 1\n",
      "Level 2\n"
     ]
    },
    {
     "name": "stderr",
     "output_type": "stream",
     "text": [
      "100%|████████████████████████████████████████████████████████████████████████████████| 105/105 [00:07<00:00, 14.53it/s]\n"
     ]
    },
    {
     "name": "stdout",
     "output_type": "stream",
     "text": [
      "Level 3\n",
      "Level 4\n",
      "Accuracy: 0.6476190476190476\n",
      "Precision: [0.15384615 0.7173913 ]\n",
      "Recall: [0.07142857 0.85714286]\n",
      "F-Score: [0.09756098 0.78106509]\n",
      "Support: [28 77]\n",
      "Gausses: 5 Style: Gaussian Progressive Adjustment: -1 Sigma Offset: 0.16 Center Offset: 0.12000000000000001\n",
      "Gaussian Progressive\n"
     ]
    },
    {
     "name": "stderr",
     "output_type": "stream",
     "text": [
      "  1%|█▏                                                                                | 3/201 [00:00<00:09, 21.45it/s]"
     ]
    },
    {
     "name": "stdout",
     "output_type": "stream",
     "text": [
      "-----------------------------------------------------------------------------------\n",
      "Level 1\n",
      "Level 2\n"
     ]
    },
    {
     "name": "stderr",
     "output_type": "stream",
     "text": [
      "100%|████████████████████████████████████████████████████████████████████████████████| 201/201 [00:13<00:00, 14.62it/s]\n"
     ]
    },
    {
     "name": "stdout",
     "output_type": "stream",
     "text": [
      "Level 3\n",
      "Level 4\n",
      "Accuracy: 0.7412935323383084\n",
      "Precision: [0.51612903 0.78235294]\n",
      "Recall: [0.30188679 0.89864865]\n",
      "F-Score: [0.38095238 0.83647799]\n",
      "Support: [ 53 148]\n"
     ]
    },
    {
     "name": "stderr",
     "output_type": "stream",
     "text": [
      "  3%|██▎                                                                               | 3/105 [00:00<00:04, 22.80it/s]"
     ]
    },
    {
     "name": "stdout",
     "output_type": "stream",
     "text": [
      "-----------------------------------------------------------------------------------\n",
      "Level 1\n",
      "Level 2\n"
     ]
    },
    {
     "name": "stderr",
     "output_type": "stream",
     "text": [
      "100%|████████████████████████████████████████████████████████████████████████████████| 105/105 [00:07<00:00, 14.90it/s]\n"
     ]
    },
    {
     "name": "stdout",
     "output_type": "stream",
     "text": [
      "Level 3\n",
      "Level 4\n",
      "Accuracy: 0.6476190476190476\n",
      "Precision: [0.15384615 0.7173913 ]\n",
      "Recall: [0.07142857 0.85714286]\n",
      "F-Score: [0.09756098 0.78106509]\n",
      "Support: [28 77]\n",
      "Gausses: 5 Style: Gaussian Progressive Adjustment: -1 Sigma Offset: 0.16 Center Offset: 0.13999999999999999\n",
      "Gaussian Progressive\n"
     ]
    },
    {
     "name": "stderr",
     "output_type": "stream",
     "text": [
      "  0%|                                                                                          | 0/201 [00:00<?, ?it/s]"
     ]
    },
    {
     "name": "stdout",
     "output_type": "stream",
     "text": [
      "-----------------------------------------------------------------------------------\n",
      "Level 1\n",
      "Level 2\n"
     ]
    },
    {
     "name": "stderr",
     "output_type": "stream",
     "text": [
      "100%|████████████████████████████████████████████████████████████████████████████████| 201/201 [00:13<00:00, 14.82it/s]\n"
     ]
    },
    {
     "name": "stdout",
     "output_type": "stream",
     "text": [
      "Level 3\n",
      "Level 4\n",
      "Accuracy: 0.7412935323383084\n",
      "Precision: [0.51612903 0.78235294]\n",
      "Recall: [0.30188679 0.89864865]\n",
      "F-Score: [0.38095238 0.83647799]\n",
      "Support: [ 53 148]\n"
     ]
    },
    {
     "name": "stderr",
     "output_type": "stream",
     "text": [
      "  3%|██▎                                                                               | 3/105 [00:00<00:04, 21.98it/s]"
     ]
    },
    {
     "name": "stdout",
     "output_type": "stream",
     "text": [
      "-----------------------------------------------------------------------------------\n",
      "Level 1\n",
      "Level 2\n"
     ]
    },
    {
     "name": "stderr",
     "output_type": "stream",
     "text": [
      "100%|████████████████████████████████████████████████████████████████████████████████| 105/105 [00:06<00:00, 15.06it/s]\n"
     ]
    },
    {
     "name": "stdout",
     "output_type": "stream",
     "text": [
      "Level 3\n",
      "Level 4\n",
      "Accuracy: 0.6476190476190476\n",
      "Precision: [0.15384615 0.7173913 ]\n",
      "Recall: [0.07142857 0.85714286]\n",
      "F-Score: [0.09756098 0.78106509]\n",
      "Support: [28 77]\n",
      "Gausses: 5 Style: Gaussian Progressive Adjustment: -1 Sigma Offset: 0.16 Center Offset: 0.16\n",
      "Gaussian Progressive\n"
     ]
    },
    {
     "name": "stderr",
     "output_type": "stream",
     "text": [
      "  1%|█▏                                                                                | 3/201 [00:00<00:10, 19.65it/s]"
     ]
    },
    {
     "name": "stdout",
     "output_type": "stream",
     "text": [
      "-----------------------------------------------------------------------------------\n",
      "Level 1\n",
      "Level 2\n"
     ]
    },
    {
     "name": "stderr",
     "output_type": "stream",
     "text": [
      "100%|████████████████████████████████████████████████████████████████████████████████| 201/201 [00:13<00:00, 15.18it/s]\n"
     ]
    },
    {
     "name": "stdout",
     "output_type": "stream",
     "text": [
      "Level 3\n",
      "Level 4\n",
      "Accuracy: 0.7412935323383084\n",
      "Precision: [0.51612903 0.78235294]\n",
      "Recall: [0.30188679 0.89864865]\n",
      "F-Score: [0.38095238 0.83647799]\n",
      "Support: [ 53 148]\n"
     ]
    },
    {
     "name": "stderr",
     "output_type": "stream",
     "text": [
      "  3%|██▎                                                                               | 3/105 [00:00<00:04, 20.95it/s]"
     ]
    },
    {
     "name": "stdout",
     "output_type": "stream",
     "text": [
      "-----------------------------------------------------------------------------------\n",
      "Level 1\n",
      "Level 2\n"
     ]
    },
    {
     "name": "stderr",
     "output_type": "stream",
     "text": [
      "100%|████████████████████████████████████████████████████████████████████████████████| 105/105 [00:06<00:00, 15.11it/s]\n"
     ]
    },
    {
     "name": "stdout",
     "output_type": "stream",
     "text": [
      "Level 3\n",
      "Level 4\n",
      "Accuracy: 0.6476190476190476\n",
      "Precision: [0.15384615 0.7173913 ]\n",
      "Recall: [0.07142857 0.85714286]\n",
      "F-Score: [0.09756098 0.78106509]\n",
      "Support: [28 77]\n",
      "Gausses: 5 Style: Gaussian Progressive Adjustment: -1 Sigma Offset: 0.16 Center Offset: 0.18\n",
      "Gaussian Progressive\n"
     ]
    },
    {
     "name": "stderr",
     "output_type": "stream",
     "text": [
      "  1%|█▏                                                                                | 3/201 [00:00<00:09, 21.33it/s]"
     ]
    },
    {
     "name": "stdout",
     "output_type": "stream",
     "text": [
      "-----------------------------------------------------------------------------------\n",
      "Level 1\n",
      "Level 2\n"
     ]
    },
    {
     "name": "stderr",
     "output_type": "stream",
     "text": [
      "100%|████████████████████████████████████████████████████████████████████████████████| 201/201 [00:13<00:00, 15.05it/s]\n"
     ]
    },
    {
     "name": "stdout",
     "output_type": "stream",
     "text": [
      "Level 3\n",
      "Level 4\n",
      "Accuracy: 0.7412935323383084\n",
      "Precision: [0.51612903 0.78235294]\n",
      "Recall: [0.30188679 0.89864865]\n",
      "F-Score: [0.38095238 0.83647799]\n",
      "Support: [ 53 148]\n"
     ]
    },
    {
     "name": "stderr",
     "output_type": "stream",
     "text": [
      "  0%|                                                                                          | 0/105 [00:00<?, ?it/s]"
     ]
    },
    {
     "name": "stdout",
     "output_type": "stream",
     "text": [
      "-----------------------------------------------------------------------------------\n",
      "Level 1\n",
      "Level 2\n"
     ]
    },
    {
     "name": "stderr",
     "output_type": "stream",
     "text": [
      "100%|████████████████████████████████████████████████████████████████████████████████| 105/105 [00:07<00:00, 14.89it/s]\n"
     ]
    },
    {
     "name": "stdout",
     "output_type": "stream",
     "text": [
      "Level 3\n",
      "Level 4\n",
      "Accuracy: 0.6476190476190476\n",
      "Precision: [0.15384615 0.7173913 ]\n",
      "Recall: [0.07142857 0.85714286]\n",
      "F-Score: [0.09756098 0.78106509]\n",
      "Support: [28 77]\n",
      "Gausses: 5 Style: Gaussian Progressive Adjustment: -1 Sigma Offset: 0.16 Center Offset: 0.19999999999999998\n",
      "Gaussian Progressive\n"
     ]
    },
    {
     "name": "stderr",
     "output_type": "stream",
     "text": [
      "  0%|                                                                                          | 0/201 [00:00<?, ?it/s]"
     ]
    },
    {
     "name": "stdout",
     "output_type": "stream",
     "text": [
      "-----------------------------------------------------------------------------------\n",
      "Level 1\n",
      "Level 2\n"
     ]
    },
    {
     "name": "stderr",
     "output_type": "stream",
     "text": [
      "100%|████████████████████████████████████████████████████████████████████████████████| 201/201 [00:13<00:00, 14.75it/s]\n"
     ]
    },
    {
     "name": "stdout",
     "output_type": "stream",
     "text": [
      "Level 3\n",
      "Level 4\n",
      "Accuracy: 0.7412935323383084\n",
      "Precision: [0.51612903 0.78235294]\n",
      "Recall: [0.30188679 0.89864865]\n",
      "F-Score: [0.38095238 0.83647799]\n",
      "Support: [ 53 148]\n"
     ]
    },
    {
     "name": "stderr",
     "output_type": "stream",
     "text": [
      "  3%|██▎                                                                               | 3/105 [00:00<00:04, 21.79it/s]"
     ]
    },
    {
     "name": "stdout",
     "output_type": "stream",
     "text": [
      "-----------------------------------------------------------------------------------\n",
      "Level 1\n",
      "Level 2\n"
     ]
    },
    {
     "name": "stderr",
     "output_type": "stream",
     "text": [
      "100%|████████████████████████████████████████████████████████████████████████████████| 105/105 [00:06<00:00, 15.12it/s]\n"
     ]
    },
    {
     "name": "stdout",
     "output_type": "stream",
     "text": [
      "Level 3\n",
      "Level 4\n",
      "Accuracy: 0.6476190476190476\n",
      "Precision: [0.15384615 0.7173913 ]\n",
      "Recall: [0.07142857 0.85714286]\n",
      "F-Score: [0.09756098 0.78106509]\n",
      "Support: [28 77]\n",
      "Gausses: 5 Style: Gaussian Progressive Adjustment: -1 Sigma Offset: 0.18 Center Offset: 0.02\n",
      "Gaussian Progressive\n"
     ]
    },
    {
     "name": "stderr",
     "output_type": "stream",
     "text": [
      "  1%|█▏                                                                                | 3/201 [00:00<00:08, 23.84it/s]"
     ]
    },
    {
     "name": "stdout",
     "output_type": "stream",
     "text": [
      "-----------------------------------------------------------------------------------\n",
      "Level 1\n",
      "Level 2\n"
     ]
    },
    {
     "name": "stderr",
     "output_type": "stream",
     "text": [
      "100%|████████████████████████████████████████████████████████████████████████████████| 201/201 [00:13<00:00, 15.42it/s]\n"
     ]
    },
    {
     "name": "stdout",
     "output_type": "stream",
     "text": [
      "Level 3\n",
      "Level 4\n",
      "Accuracy: 0.736318407960199\n",
      "Precision: [0.5        0.77777778]\n",
      "Recall: [0.28301887 0.89864865]\n",
      "F-Score: [0.36144578 0.8338558 ]\n",
      "Support: [ 53 148]\n"
     ]
    },
    {
     "name": "stderr",
     "output_type": "stream",
     "text": [
      "  3%|██▎                                                                               | 3/105 [00:00<00:04, 24.06it/s]"
     ]
    },
    {
     "name": "stdout",
     "output_type": "stream",
     "text": [
      "-----------------------------------------------------------------------------------\n",
      "Level 1\n",
      "Level 2\n"
     ]
    },
    {
     "name": "stderr",
     "output_type": "stream",
     "text": [
      "100%|████████████████████████████████████████████████████████████████████████████████| 105/105 [00:06<00:00, 15.72it/s]\n"
     ]
    },
    {
     "name": "stdout",
     "output_type": "stream",
     "text": [
      "Level 3\n",
      "Level 4\n",
      "Accuracy: 0.6476190476190476\n",
      "Precision: [0.15384615 0.7173913 ]\n",
      "Recall: [0.07142857 0.85714286]\n",
      "F-Score: [0.09756098 0.78106509]\n",
      "Support: [28 77]\n",
      "Gausses: 5 Style: Gaussian Progressive Adjustment: -1 Sigma Offset: 0.18 Center Offset: 0.04\n",
      "Gaussian Progressive\n"
     ]
    },
    {
     "name": "stderr",
     "output_type": "stream",
     "text": [
      "  1%|█▏                                                                                | 3/201 [00:00<00:08, 23.26it/s]"
     ]
    },
    {
     "name": "stdout",
     "output_type": "stream",
     "text": [
      "-----------------------------------------------------------------------------------\n",
      "Level 1\n",
      "Level 2\n"
     ]
    },
    {
     "name": "stderr",
     "output_type": "stream",
     "text": [
      "100%|████████████████████████████████████████████████████████████████████████████████| 201/201 [00:13<00:00, 15.24it/s]\n"
     ]
    },
    {
     "name": "stdout",
     "output_type": "stream",
     "text": [
      "Level 3\n",
      "Level 4\n",
      "Accuracy: 0.736318407960199\n",
      "Precision: [0.5        0.77777778]\n",
      "Recall: [0.28301887 0.89864865]\n",
      "F-Score: [0.36144578 0.8338558 ]\n",
      "Support: [ 53 148]\n"
     ]
    },
    {
     "name": "stderr",
     "output_type": "stream",
     "text": [
      "  3%|██▎                                                                               | 3/105 [00:00<00:05, 19.66it/s]"
     ]
    },
    {
     "name": "stdout",
     "output_type": "stream",
     "text": [
      "-----------------------------------------------------------------------------------\n",
      "Level 1\n",
      "Level 2\n"
     ]
    },
    {
     "name": "stderr",
     "output_type": "stream",
     "text": [
      "100%|████████████████████████████████████████████████████████████████████████████████| 105/105 [00:07<00:00, 14.78it/s]\n"
     ]
    },
    {
     "name": "stdout",
     "output_type": "stream",
     "text": [
      "Level 3\n",
      "Level 4\n",
      "Accuracy: 0.6476190476190476\n",
      "Precision: [0.15384615 0.7173913 ]\n",
      "Recall: [0.07142857 0.85714286]\n",
      "F-Score: [0.09756098 0.78106509]\n",
      "Support: [28 77]\n",
      "Gausses: 5 Style: Gaussian Progressive Adjustment: -1 Sigma Offset: 0.18 Center Offset: 0.06\n",
      "Gaussian Progressive\n"
     ]
    },
    {
     "name": "stderr",
     "output_type": "stream",
     "text": [
      "  1%|█▏                                                                                | 3/201 [00:00<00:09, 21.39it/s]"
     ]
    },
    {
     "name": "stdout",
     "output_type": "stream",
     "text": [
      "-----------------------------------------------------------------------------------\n",
      "Level 1\n",
      "Level 2\n"
     ]
    },
    {
     "name": "stderr",
     "output_type": "stream",
     "text": [
      "100%|████████████████████████████████████████████████████████████████████████████████| 201/201 [00:13<00:00, 14.99it/s]\n"
     ]
    },
    {
     "name": "stdout",
     "output_type": "stream",
     "text": [
      "Level 3\n",
      "Level 4\n",
      "Accuracy: 0.7313432835820896\n",
      "Precision: [0.48148148 0.77011494]\n",
      "Recall: [0.24528302 0.90540541]\n",
      "F-Score: [0.325      0.83229814]\n",
      "Support: [ 53 148]\n"
     ]
    },
    {
     "name": "stderr",
     "output_type": "stream",
     "text": [
      "  3%|██▎                                                                               | 3/105 [00:00<00:04, 23.69it/s]"
     ]
    },
    {
     "name": "stdout",
     "output_type": "stream",
     "text": [
      "-----------------------------------------------------------------------------------\n",
      "Level 1\n",
      "Level 2\n"
     ]
    },
    {
     "name": "stderr",
     "output_type": "stream",
     "text": [
      "100%|████████████████████████████████████████████████████████████████████████████████| 105/105 [00:06<00:00, 15.27it/s]\n"
     ]
    },
    {
     "name": "stdout",
     "output_type": "stream",
     "text": [
      "Level 3\n",
      "Level 4\n",
      "Accuracy: 0.6666666666666666\n",
      "Precision: [0.18181818 0.72340426]\n",
      "Recall: [0.07142857 0.88311688]\n",
      "F-Score: [0.1025641  0.79532164]\n",
      "Support: [28 77]\n",
      "Gausses: 5 Style: Gaussian Progressive Adjustment: -1 Sigma Offset: 0.18 Center Offset: 0.08\n",
      "Gaussian Progressive\n"
     ]
    },
    {
     "name": "stderr",
     "output_type": "stream",
     "text": [
      "  1%|█▏                                                                                | 3/201 [00:00<00:09, 21.30it/s]"
     ]
    },
    {
     "name": "stdout",
     "output_type": "stream",
     "text": [
      "-----------------------------------------------------------------------------------\n",
      "Level 1\n",
      "Level 2\n"
     ]
    },
    {
     "name": "stderr",
     "output_type": "stream",
     "text": [
      "100%|████████████████████████████████████████████████████████████████████████████████| 201/201 [00:13<00:00, 15.00it/s]\n"
     ]
    },
    {
     "name": "stdout",
     "output_type": "stream",
     "text": [
      "Level 3\n",
      "Level 4\n",
      "Accuracy: 0.7313432835820896\n",
      "Precision: [0.48148148 0.77011494]\n",
      "Recall: [0.24528302 0.90540541]\n",
      "F-Score: [0.325      0.83229814]\n",
      "Support: [ 53 148]\n"
     ]
    },
    {
     "name": "stderr",
     "output_type": "stream",
     "text": [
      "  3%|██▎                                                                               | 3/105 [00:00<00:05, 19.84it/s]"
     ]
    },
    {
     "name": "stdout",
     "output_type": "stream",
     "text": [
      "-----------------------------------------------------------------------------------\n",
      "Level 1\n",
      "Level 2\n"
     ]
    },
    {
     "name": "stderr",
     "output_type": "stream",
     "text": [
      "100%|████████████████████████████████████████████████████████████████████████████████| 105/105 [00:07<00:00, 14.98it/s]\n"
     ]
    },
    {
     "name": "stdout",
     "output_type": "stream",
     "text": [
      "Level 3\n",
      "Level 4\n",
      "Accuracy: 0.6666666666666666\n",
      "Precision: [0.18181818 0.72340426]\n",
      "Recall: [0.07142857 0.88311688]\n",
      "F-Score: [0.1025641  0.79532164]\n",
      "Support: [28 77]\n",
      "Gausses: 5 Style: Gaussian Progressive Adjustment: -1 Sigma Offset: 0.18 Center Offset: 0.1\n",
      "Gaussian Progressive\n"
     ]
    },
    {
     "name": "stderr",
     "output_type": "stream",
     "text": [
      "  1%|█▏                                                                                | 3/201 [00:00<00:08, 23.21it/s]"
     ]
    },
    {
     "name": "stdout",
     "output_type": "stream",
     "text": [
      "-----------------------------------------------------------------------------------\n",
      "Level 1\n",
      "Level 2\n"
     ]
    },
    {
     "name": "stderr",
     "output_type": "stream",
     "text": [
      "100%|████████████████████████████████████████████████████████████████████████████████| 201/201 [00:14<00:00, 14.24it/s]\n"
     ]
    },
    {
     "name": "stdout",
     "output_type": "stream",
     "text": [
      "Level 3\n",
      "Level 4\n",
      "Accuracy: 0.7313432835820896\n",
      "Precision: [0.48148148 0.77011494]\n",
      "Recall: [0.24528302 0.90540541]\n",
      "F-Score: [0.325      0.83229814]\n",
      "Support: [ 53 148]\n"
     ]
    },
    {
     "name": "stderr",
     "output_type": "stream",
     "text": [
      "  3%|██▎                                                                               | 3/105 [00:00<00:04, 22.87it/s]"
     ]
    },
    {
     "name": "stdout",
     "output_type": "stream",
     "text": [
      "-----------------------------------------------------------------------------------\n",
      "Level 1\n",
      "Level 2\n"
     ]
    },
    {
     "name": "stderr",
     "output_type": "stream",
     "text": [
      "100%|████████████████████████████████████████████████████████████████████████████████| 105/105 [00:07<00:00, 14.82it/s]\n"
     ]
    },
    {
     "name": "stdout",
     "output_type": "stream",
     "text": [
      "Level 3\n",
      "Level 4\n",
      "Accuracy: 0.6666666666666666\n",
      "Precision: [0.18181818 0.72340426]\n",
      "Recall: [0.07142857 0.88311688]\n",
      "F-Score: [0.1025641  0.79532164]\n",
      "Support: [28 77]\n",
      "Gausses: 5 Style: Gaussian Progressive Adjustment: -1 Sigma Offset: 0.18 Center Offset: 0.12000000000000001\n",
      "Gaussian Progressive\n"
     ]
    },
    {
     "name": "stderr",
     "output_type": "stream",
     "text": [
      "  1%|█▏                                                                                | 3/201 [00:00<00:10, 19.79it/s]"
     ]
    },
    {
     "name": "stdout",
     "output_type": "stream",
     "text": [
      "-----------------------------------------------------------------------------------\n",
      "Level 1\n",
      "Level 2\n"
     ]
    },
    {
     "name": "stderr",
     "output_type": "stream",
     "text": [
      "100%|████████████████████████████████████████████████████████████████████████████████| 201/201 [00:15<00:00, 13.23it/s]\n"
     ]
    },
    {
     "name": "stdout",
     "output_type": "stream",
     "text": [
      "Level 3\n",
      "Level 4\n",
      "Accuracy: 0.7313432835820896\n",
      "Precision: [0.48148148 0.77011494]\n",
      "Recall: [0.24528302 0.90540541]\n",
      "F-Score: [0.325      0.83229814]\n",
      "Support: [ 53 148]\n"
     ]
    },
    {
     "name": "stderr",
     "output_type": "stream",
     "text": [
      "  3%|██▎                                                                               | 3/105 [00:00<00:04, 21.18it/s]"
     ]
    },
    {
     "name": "stdout",
     "output_type": "stream",
     "text": [
      "-----------------------------------------------------------------------------------\n",
      "Level 1\n",
      "Level 2\n"
     ]
    },
    {
     "name": "stderr",
     "output_type": "stream",
     "text": [
      "100%|████████████████████████████████████████████████████████████████████████████████| 105/105 [00:07<00:00, 13.76it/s]\n"
     ]
    },
    {
     "name": "stdout",
     "output_type": "stream",
     "text": [
      "Level 3\n",
      "Level 4\n",
      "Accuracy: 0.6666666666666666\n",
      "Precision: [0.18181818 0.72340426]\n",
      "Recall: [0.07142857 0.88311688]\n",
      "F-Score: [0.1025641  0.79532164]\n",
      "Support: [28 77]\n",
      "Gausses: 5 Style: Gaussian Progressive Adjustment: -1 Sigma Offset: 0.18 Center Offset: 0.13999999999999999\n",
      "Gaussian Progressive\n"
     ]
    },
    {
     "name": "stderr",
     "output_type": "stream",
     "text": [
      "  1%|█▏                                                                                | 3/201 [00:00<00:08, 22.65it/s]"
     ]
    },
    {
     "name": "stdout",
     "output_type": "stream",
     "text": [
      "-----------------------------------------------------------------------------------\n",
      "Level 1\n",
      "Level 2\n"
     ]
    },
    {
     "name": "stderr",
     "output_type": "stream",
     "text": [
      "100%|████████████████████████████████████████████████████████████████████████████████| 201/201 [00:13<00:00, 14.96it/s]\n"
     ]
    },
    {
     "name": "stdout",
     "output_type": "stream",
     "text": [
      "Level 3\n",
      "Level 4\n",
      "Accuracy: 0.7313432835820896\n",
      "Precision: [0.48148148 0.77011494]\n",
      "Recall: [0.24528302 0.90540541]\n",
      "F-Score: [0.325      0.83229814]\n",
      "Support: [ 53 148]\n"
     ]
    },
    {
     "name": "stderr",
     "output_type": "stream",
     "text": [
      "  3%|██▎                                                                               | 3/105 [00:00<00:04, 22.02it/s]"
     ]
    },
    {
     "name": "stdout",
     "output_type": "stream",
     "text": [
      "-----------------------------------------------------------------------------------\n",
      "Level 1\n",
      "Level 2\n"
     ]
    },
    {
     "name": "stderr",
     "output_type": "stream",
     "text": [
      "100%|████████████████████████████████████████████████████████████████████████████████| 105/105 [00:06<00:00, 15.19it/s]\n"
     ]
    },
    {
     "name": "stdout",
     "output_type": "stream",
     "text": [
      "Level 3\n",
      "Level 4\n",
      "Accuracy: 0.6666666666666666\n",
      "Precision: [0.18181818 0.72340426]\n",
      "Recall: [0.07142857 0.88311688]\n",
      "F-Score: [0.1025641  0.79532164]\n",
      "Support: [28 77]\n",
      "Gausses: 5 Style: Gaussian Progressive Adjustment: -1 Sigma Offset: 0.18 Center Offset: 0.16\n",
      "Gaussian Progressive\n"
     ]
    },
    {
     "name": "stderr",
     "output_type": "stream",
     "text": [
      "  1%|█▏                                                                                | 3/201 [00:00<00:08, 22.96it/s]"
     ]
    },
    {
     "name": "stdout",
     "output_type": "stream",
     "text": [
      "-----------------------------------------------------------------------------------\n",
      "Level 1\n",
      "Level 2\n"
     ]
    },
    {
     "name": "stderr",
     "output_type": "stream",
     "text": [
      "100%|████████████████████████████████████████████████████████████████████████████████| 201/201 [00:13<00:00, 14.88it/s]\n"
     ]
    },
    {
     "name": "stdout",
     "output_type": "stream",
     "text": [
      "Level 3\n",
      "Level 4\n",
      "Accuracy: 0.7313432835820896\n",
      "Precision: [0.48148148 0.77011494]\n",
      "Recall: [0.24528302 0.90540541]\n",
      "F-Score: [0.325      0.83229814]\n",
      "Support: [ 53 148]\n"
     ]
    },
    {
     "name": "stderr",
     "output_type": "stream",
     "text": [
      "  3%|██▎                                                                               | 3/105 [00:00<00:04, 23.32it/s]"
     ]
    },
    {
     "name": "stdout",
     "output_type": "stream",
     "text": [
      "-----------------------------------------------------------------------------------\n",
      "Level 1\n",
      "Level 2\n"
     ]
    },
    {
     "name": "stderr",
     "output_type": "stream",
     "text": [
      "100%|████████████████████████████████████████████████████████████████████████████████| 105/105 [00:07<00:00, 13.48it/s]\n"
     ]
    },
    {
     "name": "stdout",
     "output_type": "stream",
     "text": [
      "Level 3\n",
      "Level 4\n",
      "Accuracy: 0.6666666666666666\n",
      "Precision: [0.18181818 0.72340426]\n",
      "Recall: [0.07142857 0.88311688]\n",
      "F-Score: [0.1025641  0.79532164]\n",
      "Support: [28 77]\n",
      "Gausses: 5 Style: Gaussian Progressive Adjustment: -1 Sigma Offset: 0.18 Center Offset: 0.18\n",
      "Gaussian Progressive\n"
     ]
    },
    {
     "name": "stderr",
     "output_type": "stream",
     "text": [
      "  1%|█▏                                                                                | 3/201 [00:00<00:08, 23.06it/s]"
     ]
    },
    {
     "name": "stdout",
     "output_type": "stream",
     "text": [
      "-----------------------------------------------------------------------------------\n",
      "Level 1\n",
      "Level 2\n"
     ]
    },
    {
     "name": "stderr",
     "output_type": "stream",
     "text": [
      "100%|████████████████████████████████████████████████████████████████████████████████| 201/201 [00:14<00:00, 13.70it/s]\n"
     ]
    },
    {
     "name": "stdout",
     "output_type": "stream",
     "text": [
      "Level 3\n",
      "Level 4\n",
      "Accuracy: 0.7313432835820896\n",
      "Precision: [0.48148148 0.77011494]\n",
      "Recall: [0.24528302 0.90540541]\n",
      "F-Score: [0.325      0.83229814]\n",
      "Support: [ 53 148]\n"
     ]
    },
    {
     "name": "stderr",
     "output_type": "stream",
     "text": [
      "  3%|██▎                                                                               | 3/105 [00:00<00:05, 18.80it/s]"
     ]
    },
    {
     "name": "stdout",
     "output_type": "stream",
     "text": [
      "-----------------------------------------------------------------------------------\n",
      "Level 1\n",
      "Level 2\n"
     ]
    },
    {
     "name": "stderr",
     "output_type": "stream",
     "text": [
      "100%|████████████████████████████████████████████████████████████████████████████████| 105/105 [00:07<00:00, 13.58it/s]\n"
     ]
    },
    {
     "name": "stdout",
     "output_type": "stream",
     "text": [
      "Level 3\n",
      "Level 4\n",
      "Accuracy: 0.6666666666666666\n",
      "Precision: [0.18181818 0.72340426]\n",
      "Recall: [0.07142857 0.88311688]\n",
      "F-Score: [0.1025641  0.79532164]\n",
      "Support: [28 77]\n",
      "Gausses: 5 Style: Gaussian Progressive Adjustment: -1 Sigma Offset: 0.18 Center Offset: 0.19999999999999998\n",
      "Gaussian Progressive\n"
     ]
    },
    {
     "name": "stderr",
     "output_type": "stream",
     "text": [
      "  0%|                                                                                          | 0/201 [00:00<?, ?it/s]"
     ]
    },
    {
     "name": "stdout",
     "output_type": "stream",
     "text": [
      "-----------------------------------------------------------------------------------\n",
      "Level 1\n",
      "Level 2\n"
     ]
    },
    {
     "name": "stderr",
     "output_type": "stream",
     "text": [
      "100%|████████████████████████████████████████████████████████████████████████████████| 201/201 [00:13<00:00, 14.85it/s]\n"
     ]
    },
    {
     "name": "stdout",
     "output_type": "stream",
     "text": [
      "Level 3\n",
      "Level 4\n",
      "Accuracy: 0.7313432835820896\n",
      "Precision: [0.48148148 0.77011494]\n",
      "Recall: [0.24528302 0.90540541]\n",
      "F-Score: [0.325      0.83229814]\n",
      "Support: [ 53 148]\n"
     ]
    },
    {
     "name": "stderr",
     "output_type": "stream",
     "text": [
      "  3%|██▎                                                                               | 3/105 [00:00<00:04, 22.62it/s]"
     ]
    },
    {
     "name": "stdout",
     "output_type": "stream",
     "text": [
      "-----------------------------------------------------------------------------------\n",
      "Level 1\n",
      "Level 2\n"
     ]
    },
    {
     "name": "stderr",
     "output_type": "stream",
     "text": [
      "100%|████████████████████████████████████████████████████████████████████████████████| 105/105 [00:07<00:00, 14.31it/s]\n"
     ]
    },
    {
     "name": "stdout",
     "output_type": "stream",
     "text": [
      "Level 3\n",
      "Level 4\n",
      "Accuracy: 0.6666666666666666\n",
      "Precision: [0.18181818 0.72340426]\n",
      "Recall: [0.07142857 0.88311688]\n",
      "F-Score: [0.1025641  0.79532164]\n",
      "Support: [28 77]\n",
      "Gausses: 5 Style: Gaussian Progressive Adjustment: -1 Sigma Offset: 0.19999999999999998 Center Offset: 0.02\n",
      "Gaussian Progressive\n"
     ]
    },
    {
     "name": "stderr",
     "output_type": "stream",
     "text": [
      "  1%|█▏                                                                                | 3/201 [00:00<00:08, 23.32it/s]"
     ]
    },
    {
     "name": "stdout",
     "output_type": "stream",
     "text": [
      "-----------------------------------------------------------------------------------\n",
      "Level 1\n",
      "Level 2\n"
     ]
    },
    {
     "name": "stderr",
     "output_type": "stream",
     "text": [
      "100%|████████████████████████████████████████████████████████████████████████████████| 201/201 [00:12<00:00, 16.29it/s]\n"
     ]
    },
    {
     "name": "stdout",
     "output_type": "stream",
     "text": [
      "Level 3\n",
      "Level 4\n",
      "Accuracy: 0.7213930348258707\n",
      "Precision: [0.43478261 0.75842697]\n",
      "Recall: [0.18867925 0.91216216]\n",
      "F-Score: [0.26315789 0.82822086]\n",
      "Support: [ 53 148]\n"
     ]
    },
    {
     "name": "stderr",
     "output_type": "stream",
     "text": [
      "  3%|██▎                                                                               | 3/105 [00:00<00:04, 21.80it/s]"
     ]
    },
    {
     "name": "stdout",
     "output_type": "stream",
     "text": [
      "-----------------------------------------------------------------------------------\n",
      "Level 1\n",
      "Level 2\n"
     ]
    },
    {
     "name": "stderr",
     "output_type": "stream",
     "text": [
      "100%|████████████████████████████████████████████████████████████████████████████████| 105/105 [00:06<00:00, 15.92it/s]\n"
     ]
    },
    {
     "name": "stdout",
     "output_type": "stream",
     "text": [
      "Level 3\n",
      "Level 4\n",
      "Accuracy: 0.6761904761904762\n",
      "Precision: [0.2        0.72631579]\n",
      "Recall: [0.07142857 0.8961039 ]\n",
      "F-Score: [0.10526316 0.80232558]\n",
      "Support: [28 77]\n",
      "Gausses: 5 Style: Gaussian Progressive Adjustment: -1 Sigma Offset: 0.19999999999999998 Center Offset: 0.04\n",
      "Gaussian Progressive\n"
     ]
    },
    {
     "name": "stderr",
     "output_type": "stream",
     "text": [
      "  1%|█▏                                                                                | 3/201 [00:00<00:08, 24.26it/s]"
     ]
    },
    {
     "name": "stdout",
     "output_type": "stream",
     "text": [
      "-----------------------------------------------------------------------------------\n",
      "Level 1\n",
      "Level 2\n"
     ]
    },
    {
     "name": "stderr",
     "output_type": "stream",
     "text": [
      "100%|████████████████████████████████████████████████████████████████████████████████| 201/201 [00:13<00:00, 15.41it/s]\n"
     ]
    },
    {
     "name": "stdout",
     "output_type": "stream",
     "text": [
      "Level 3\n",
      "Level 4\n",
      "Accuracy: 0.7213930348258707\n",
      "Precision: [0.43478261 0.75842697]\n",
      "Recall: [0.18867925 0.91216216]\n",
      "F-Score: [0.26315789 0.82822086]\n",
      "Support: [ 53 148]\n"
     ]
    },
    {
     "name": "stderr",
     "output_type": "stream",
     "text": [
      "  3%|██▎                                                                               | 3/105 [00:00<00:04, 23.50it/s]"
     ]
    },
    {
     "name": "stdout",
     "output_type": "stream",
     "text": [
      "-----------------------------------------------------------------------------------\n",
      "Level 1\n",
      "Level 2\n"
     ]
    },
    {
     "name": "stderr",
     "output_type": "stream",
     "text": [
      "100%|████████████████████████████████████████████████████████████████████████████████| 105/105 [00:07<00:00, 14.90it/s]\n"
     ]
    },
    {
     "name": "stdout",
     "output_type": "stream",
     "text": [
      "Level 3\n",
      "Level 4\n",
      "Accuracy: 0.6761904761904762\n",
      "Precision: [0.2        0.72631579]\n",
      "Recall: [0.07142857 0.8961039 ]\n",
      "F-Score: [0.10526316 0.80232558]\n",
      "Support: [28 77]\n",
      "Gausses: 5 Style: Gaussian Progressive Adjustment: -1 Sigma Offset: 0.19999999999999998 Center Offset: 0.06\n",
      "Gaussian Progressive\n"
     ]
    },
    {
     "name": "stderr",
     "output_type": "stream",
     "text": [
      "  1%|█▏                                                                                | 3/201 [00:00<00:08, 22.40it/s]"
     ]
    },
    {
     "name": "stdout",
     "output_type": "stream",
     "text": [
      "-----------------------------------------------------------------------------------\n",
      "Level 1\n",
      "Level 2\n"
     ]
    },
    {
     "name": "stderr",
     "output_type": "stream",
     "text": [
      "100%|████████████████████████████████████████████████████████████████████████████████| 201/201 [00:13<00:00, 14.67it/s]\n"
     ]
    },
    {
     "name": "stdout",
     "output_type": "stream",
     "text": [
      "Level 3\n",
      "Level 4\n",
      "Accuracy: 0.7213930348258707\n",
      "Precision: [0.43478261 0.75842697]\n",
      "Recall: [0.18867925 0.91216216]\n",
      "F-Score: [0.26315789 0.82822086]\n",
      "Support: [ 53 148]\n"
     ]
    },
    {
     "name": "stderr",
     "output_type": "stream",
     "text": [
      "  3%|██▎                                                                               | 3/105 [00:00<00:04, 20.50it/s]"
     ]
    },
    {
     "name": "stdout",
     "output_type": "stream",
     "text": [
      "-----------------------------------------------------------------------------------\n",
      "Level 1\n",
      "Level 2\n"
     ]
    },
    {
     "name": "stderr",
     "output_type": "stream",
     "text": [
      "100%|████████████████████████████████████████████████████████████████████████████████| 105/105 [00:06<00:00, 15.22it/s]\n"
     ]
    },
    {
     "name": "stdout",
     "output_type": "stream",
     "text": [
      "Level 3\n",
      "Level 4\n",
      "Accuracy: 0.6761904761904762\n",
      "Precision: [0.2        0.72631579]\n",
      "Recall: [0.07142857 0.8961039 ]\n",
      "F-Score: [0.10526316 0.80232558]\n",
      "Support: [28 77]\n",
      "Gausses: 5 Style: Gaussian Progressive Adjustment: -1 Sigma Offset: 0.19999999999999998 Center Offset: 0.08\n",
      "Gaussian Progressive\n"
     ]
    },
    {
     "name": "stderr",
     "output_type": "stream",
     "text": [
      "  1%|█▏                                                                                | 3/201 [00:00<00:08, 23.50it/s]"
     ]
    },
    {
     "name": "stdout",
     "output_type": "stream",
     "text": [
      "-----------------------------------------------------------------------------------\n",
      "Level 1\n",
      "Level 2\n"
     ]
    },
    {
     "name": "stderr",
     "output_type": "stream",
     "text": [
      "100%|████████████████████████████████████████████████████████████████████████████████| 201/201 [00:13<00:00, 14.50it/s]\n"
     ]
    },
    {
     "name": "stdout",
     "output_type": "stream",
     "text": [
      "Level 3\n",
      "Level 4\n",
      "Accuracy: 0.7213930348258707\n",
      "Precision: [0.43478261 0.75842697]\n",
      "Recall: [0.18867925 0.91216216]\n",
      "F-Score: [0.26315789 0.82822086]\n",
      "Support: [ 53 148]\n"
     ]
    },
    {
     "name": "stderr",
     "output_type": "stream",
     "text": [
      "  3%|██▎                                                                               | 3/105 [00:00<00:04, 22.87it/s]"
     ]
    },
    {
     "name": "stdout",
     "output_type": "stream",
     "text": [
      "-----------------------------------------------------------------------------------\n",
      "Level 1\n",
      "Level 2\n"
     ]
    },
    {
     "name": "stderr",
     "output_type": "stream",
     "text": [
      "100%|████████████████████████████████████████████████████████████████████████████████| 105/105 [00:07<00:00, 14.85it/s]\n"
     ]
    },
    {
     "name": "stdout",
     "output_type": "stream",
     "text": [
      "Level 3\n",
      "Level 4\n",
      "Accuracy: 0.6761904761904762\n",
      "Precision: [0.2        0.72631579]\n",
      "Recall: [0.07142857 0.8961039 ]\n",
      "F-Score: [0.10526316 0.80232558]\n",
      "Support: [28 77]\n",
      "Gausses: 5 Style: Gaussian Progressive Adjustment: -1 Sigma Offset: 0.19999999999999998 Center Offset: 0.1\n",
      "Gaussian Progressive\n"
     ]
    },
    {
     "name": "stderr",
     "output_type": "stream",
     "text": [
      "  1%|█▏                                                                                | 3/201 [00:00<00:08, 22.92it/s]"
     ]
    },
    {
     "name": "stdout",
     "output_type": "stream",
     "text": [
      "-----------------------------------------------------------------------------------\n",
      "Level 1\n",
      "Level 2\n"
     ]
    },
    {
     "name": "stderr",
     "output_type": "stream",
     "text": [
      "100%|████████████████████████████████████████████████████████████████████████████████| 201/201 [00:13<00:00, 15.00it/s]\n"
     ]
    },
    {
     "name": "stdout",
     "output_type": "stream",
     "text": [
      "Level 3\n",
      "Level 4\n",
      "Accuracy: 0.7213930348258707\n",
      "Precision: [0.43478261 0.75842697]\n",
      "Recall: [0.18867925 0.91216216]\n",
      "F-Score: [0.26315789 0.82822086]\n",
      "Support: [ 53 148]\n"
     ]
    },
    {
     "name": "stderr",
     "output_type": "stream",
     "text": [
      "  3%|██▎                                                                               | 3/105 [00:00<00:05, 19.85it/s]"
     ]
    },
    {
     "name": "stdout",
     "output_type": "stream",
     "text": [
      "-----------------------------------------------------------------------------------\n",
      "Level 1\n",
      "Level 2\n"
     ]
    },
    {
     "name": "stderr",
     "output_type": "stream",
     "text": [
      "100%|████████████████████████████████████████████████████████████████████████████████| 105/105 [00:06<00:00, 15.45it/s]\n"
     ]
    },
    {
     "name": "stdout",
     "output_type": "stream",
     "text": [
      "Level 3\n",
      "Level 4\n",
      "Accuracy: 0.6761904761904762\n",
      "Precision: [0.2        0.72631579]\n",
      "Recall: [0.07142857 0.8961039 ]\n",
      "F-Score: [0.10526316 0.80232558]\n",
      "Support: [28 77]\n",
      "Gausses: 5 Style: Gaussian Progressive Adjustment: -1 Sigma Offset: 0.19999999999999998 Center Offset: 0.12000000000000001\n",
      "Gaussian Progressive\n"
     ]
    },
    {
     "name": "stderr",
     "output_type": "stream",
     "text": [
      "  1%|█▏                                                                                | 3/201 [00:00<00:10, 18.01it/s]"
     ]
    },
    {
     "name": "stdout",
     "output_type": "stream",
     "text": [
      "-----------------------------------------------------------------------------------\n",
      "Level 1\n",
      "Level 2\n"
     ]
    },
    {
     "name": "stderr",
     "output_type": "stream",
     "text": [
      "100%|████████████████████████████████████████████████████████████████████████████████| 201/201 [00:13<00:00, 15.19it/s]\n"
     ]
    },
    {
     "name": "stdout",
     "output_type": "stream",
     "text": [
      "Level 3\n",
      "Level 4\n",
      "Accuracy: 0.7213930348258707\n",
      "Precision: [0.43478261 0.75842697]\n",
      "Recall: [0.18867925 0.91216216]\n",
      "F-Score: [0.26315789 0.82822086]\n",
      "Support: [ 53 148]\n"
     ]
    },
    {
     "name": "stderr",
     "output_type": "stream",
     "text": [
      "  3%|██▎                                                                               | 3/105 [00:00<00:04, 23.21it/s]"
     ]
    },
    {
     "name": "stdout",
     "output_type": "stream",
     "text": [
      "-----------------------------------------------------------------------------------\n",
      "Level 1\n",
      "Level 2\n"
     ]
    },
    {
     "name": "stderr",
     "output_type": "stream",
     "text": [
      "100%|████████████████████████████████████████████████████████████████████████████████| 105/105 [00:06<00:00, 15.36it/s]\n"
     ]
    },
    {
     "name": "stdout",
     "output_type": "stream",
     "text": [
      "Level 3\n",
      "Level 4\n",
      "Accuracy: 0.6761904761904762\n",
      "Precision: [0.2        0.72631579]\n",
      "Recall: [0.07142857 0.8961039 ]\n",
      "F-Score: [0.10526316 0.80232558]\n",
      "Support: [28 77]\n",
      "Gausses: 5 Style: Gaussian Progressive Adjustment: -1 Sigma Offset: 0.19999999999999998 Center Offset: 0.13999999999999999\n",
      "Gaussian Progressive\n"
     ]
    },
    {
     "name": "stderr",
     "output_type": "stream",
     "text": [
      "  1%|█▏                                                                                | 3/201 [00:00<00:10, 19.05it/s]"
     ]
    },
    {
     "name": "stdout",
     "output_type": "stream",
     "text": [
      "-----------------------------------------------------------------------------------\n",
      "Level 1\n",
      "Level 2\n"
     ]
    },
    {
     "name": "stderr",
     "output_type": "stream",
     "text": [
      "100%|████████████████████████████████████████████████████████████████████████████████| 201/201 [00:13<00:00, 15.23it/s]\n"
     ]
    },
    {
     "name": "stdout",
     "output_type": "stream",
     "text": [
      "Level 3\n",
      "Level 4\n",
      "Accuracy: 0.7213930348258707\n",
      "Precision: [0.43478261 0.75842697]\n",
      "Recall: [0.18867925 0.91216216]\n",
      "F-Score: [0.26315789 0.82822086]\n",
      "Support: [ 53 148]\n"
     ]
    },
    {
     "name": "stderr",
     "output_type": "stream",
     "text": [
      "  3%|██▎                                                                               | 3/105 [00:00<00:04, 20.87it/s]"
     ]
    },
    {
     "name": "stdout",
     "output_type": "stream",
     "text": [
      "-----------------------------------------------------------------------------------\n",
      "Level 1\n",
      "Level 2\n"
     ]
    },
    {
     "name": "stderr",
     "output_type": "stream",
     "text": [
      "100%|████████████████████████████████████████████████████████████████████████████████| 105/105 [00:07<00:00, 14.97it/s]\n"
     ]
    },
    {
     "name": "stdout",
     "output_type": "stream",
     "text": [
      "Level 3\n",
      "Level 4\n",
      "Accuracy: 0.6761904761904762\n",
      "Precision: [0.2        0.72631579]\n",
      "Recall: [0.07142857 0.8961039 ]\n",
      "F-Score: [0.10526316 0.80232558]\n",
      "Support: [28 77]\n",
      "Gausses: 5 Style: Gaussian Progressive Adjustment: -1 Sigma Offset: 0.19999999999999998 Center Offset: 0.16\n",
      "Gaussian Progressive\n"
     ]
    },
    {
     "name": "stderr",
     "output_type": "stream",
     "text": [
      "  1%|█▏                                                                                | 3/201 [00:00<00:08, 23.14it/s]"
     ]
    },
    {
     "name": "stdout",
     "output_type": "stream",
     "text": [
      "-----------------------------------------------------------------------------------\n",
      "Level 1\n",
      "Level 2\n"
     ]
    },
    {
     "name": "stderr",
     "output_type": "stream",
     "text": [
      "100%|████████████████████████████████████████████████████████████████████████████████| 201/201 [00:13<00:00, 15.13it/s]\n"
     ]
    },
    {
     "name": "stdout",
     "output_type": "stream",
     "text": [
      "Level 3\n",
      "Level 4\n",
      "Accuracy: 0.7213930348258707\n",
      "Precision: [0.43478261 0.75842697]\n",
      "Recall: [0.18867925 0.91216216]\n",
      "F-Score: [0.26315789 0.82822086]\n",
      "Support: [ 53 148]\n"
     ]
    },
    {
     "name": "stderr",
     "output_type": "stream",
     "text": [
      "  3%|██▎                                                                               | 3/105 [00:00<00:05, 20.20it/s]"
     ]
    },
    {
     "name": "stdout",
     "output_type": "stream",
     "text": [
      "-----------------------------------------------------------------------------------\n",
      "Level 1\n",
      "Level 2\n"
     ]
    },
    {
     "name": "stderr",
     "output_type": "stream",
     "text": [
      "100%|████████████████████████████████████████████████████████████████████████████████| 105/105 [00:07<00:00, 14.75it/s]\n"
     ]
    },
    {
     "name": "stdout",
     "output_type": "stream",
     "text": [
      "Level 3\n",
      "Level 4\n",
      "Accuracy: 0.6761904761904762\n",
      "Precision: [0.2        0.72631579]\n",
      "Recall: [0.07142857 0.8961039 ]\n",
      "F-Score: [0.10526316 0.80232558]\n",
      "Support: [28 77]\n",
      "Gausses: 5 Style: Gaussian Progressive Adjustment: -1 Sigma Offset: 0.19999999999999998 Center Offset: 0.18\n",
      "Gaussian Progressive\n"
     ]
    },
    {
     "name": "stderr",
     "output_type": "stream",
     "text": [
      "  0%|                                                                                          | 0/201 [00:00<?, ?it/s]"
     ]
    },
    {
     "name": "stdout",
     "output_type": "stream",
     "text": [
      "-----------------------------------------------------------------------------------\n",
      "Level 1\n",
      "Level 2\n"
     ]
    },
    {
     "name": "stderr",
     "output_type": "stream",
     "text": [
      "100%|████████████████████████████████████████████████████████████████████████████████| 201/201 [00:13<00:00, 14.67it/s]\n"
     ]
    },
    {
     "name": "stdout",
     "output_type": "stream",
     "text": [
      "Level 3\n",
      "Level 4\n",
      "Accuracy: 0.7213930348258707\n",
      "Precision: [0.43478261 0.75842697]\n",
      "Recall: [0.18867925 0.91216216]\n",
      "F-Score: [0.26315789 0.82822086]\n",
      "Support: [ 53 148]\n"
     ]
    },
    {
     "name": "stderr",
     "output_type": "stream",
     "text": [
      "  3%|██▎                                                                               | 3/105 [00:00<00:04, 22.15it/s]"
     ]
    },
    {
     "name": "stdout",
     "output_type": "stream",
     "text": [
      "-----------------------------------------------------------------------------------\n",
      "Level 1\n",
      "Level 2\n"
     ]
    },
    {
     "name": "stderr",
     "output_type": "stream",
     "text": [
      "100%|████████████████████████████████████████████████████████████████████████████████| 105/105 [00:06<00:00, 15.14it/s]\n"
     ]
    },
    {
     "name": "stdout",
     "output_type": "stream",
     "text": [
      "Level 3\n",
      "Level 4\n",
      "Accuracy: 0.6761904761904762\n",
      "Precision: [0.2        0.72631579]\n",
      "Recall: [0.07142857 0.8961039 ]\n",
      "F-Score: [0.10526316 0.80232558]\n",
      "Support: [28 77]\n",
      "Gausses: 5 Style: Gaussian Progressive Adjustment: -1 Sigma Offset: 0.19999999999999998 Center Offset: 0.19999999999999998\n",
      "Gaussian Progressive\n"
     ]
    },
    {
     "name": "stderr",
     "output_type": "stream",
     "text": [
      "  0%|                                                                                          | 0/201 [00:00<?, ?it/s]"
     ]
    },
    {
     "name": "stdout",
     "output_type": "stream",
     "text": [
      "-----------------------------------------------------------------------------------\n",
      "Level 1\n",
      "Level 2\n"
     ]
    },
    {
     "name": "stderr",
     "output_type": "stream",
     "text": [
      "100%|████████████████████████████████████████████████████████████████████████████████| 201/201 [00:13<00:00, 14.94it/s]\n"
     ]
    },
    {
     "name": "stdout",
     "output_type": "stream",
     "text": [
      "Level 3\n",
      "Level 4\n",
      "Accuracy: 0.7213930348258707\n",
      "Precision: [0.43478261 0.75842697]\n",
      "Recall: [0.18867925 0.91216216]\n",
      "F-Score: [0.26315789 0.82822086]\n",
      "Support: [ 53 148]\n"
     ]
    },
    {
     "name": "stderr",
     "output_type": "stream",
     "text": [
      "  3%|██▎                                                                               | 3/105 [00:00<00:04, 21.75it/s]"
     ]
    },
    {
     "name": "stdout",
     "output_type": "stream",
     "text": [
      "-----------------------------------------------------------------------------------\n",
      "Level 1\n",
      "Level 2\n"
     ]
    },
    {
     "name": "stderr",
     "output_type": "stream",
     "text": [
      "100%|████████████████████████████████████████████████████████████████████████████████| 105/105 [00:07<00:00, 14.33it/s]\n"
     ]
    },
    {
     "name": "stdout",
     "output_type": "stream",
     "text": [
      "Level 3\n",
      "Level 4\n",
      "Accuracy: 0.6761904761904762\n",
      "Precision: [0.2        0.72631579]\n",
      "Recall: [0.07142857 0.8961039 ]\n",
      "F-Score: [0.10526316 0.80232558]\n",
      "Support: [28 77]\n"
     ]
    },
    {
     "ename": "ValueError",
     "evalue": "The truth value of a Series is ambiguous. Use a.empty, a.bool(), a.item(), a.any() or a.all().",
     "output_type": "error",
     "traceback": [
      "\u001b[1;31m---------------------------------------------------------------------------\u001b[0m",
      "\u001b[1;31mValueError\u001b[0m                                Traceback (most recent call last)",
      "\u001b[1;32m<ipython-input-5-1214bbbe53f2>\u001b[0m in \u001b[0;36m<module>\u001b[1;34m\u001b[0m\n\u001b[0;32m     62\u001b[0m \u001b[1;33m\u001b[0m\u001b[0m\n\u001b[0;32m     63\u001b[0m     \u001b[0mresultsForOneClassifier\u001b[0m\u001b[1;33m.\u001b[0m\u001b[0mto_csv\u001b[0m\u001b[1;33m(\u001b[0m\u001b[1;34mr'ResultsIT2\\ImmunotherapyResultForBest'\u001b[0m \u001b[1;33m+\u001b[0m \u001b[0mstr\u001b[0m\u001b[1;33m(\u001b[0m\u001b[0midx\u001b[0m\u001b[1;33m)\u001b[0m \u001b[1;33m+\u001b[0m \u001b[1;34m'.csv'\u001b[0m\u001b[1;33m,\u001b[0m \u001b[0mindex\u001b[0m\u001b[1;33m=\u001b[0m\u001b[1;32mNone\u001b[0m\u001b[1;33m)\u001b[0m\u001b[1;33m\u001b[0m\u001b[1;33m\u001b[0m\u001b[0m\n\u001b[1;32m---> 64\u001b[1;33m     \u001b[0mresultsForOneClassifier\u001b[0m\u001b[1;33m.\u001b[0m\u001b[0msort_values\u001b[0m\u001b[1;33m(\u001b[0m\u001b[1;33m[\u001b[0m\u001b[1;34m'F1 Score'\u001b[0m\u001b[1;33m]\u001b[0m\u001b[1;33m,\u001b[0m \u001b[0minplace\u001b[0m\u001b[1;33m=\u001b[0m\u001b[1;32mTrue\u001b[0m\u001b[1;33m,\u001b[0m \u001b[0mascending\u001b[0m\u001b[1;33m=\u001b[0m\u001b[1;32mFalse\u001b[0m\u001b[1;33m)\u001b[0m\u001b[1;33m\u001b[0m\u001b[1;33m\u001b[0m\u001b[0m\n\u001b[0m\u001b[0;32m     65\u001b[0m     \u001b[0mbest_params\u001b[0m \u001b[1;33m=\u001b[0m \u001b[0mbest_params\u001b[0m\u001b[1;33m.\u001b[0m\u001b[0mappend\u001b[0m\u001b[1;33m(\u001b[0m\u001b[0mresultsForOneClassifier\u001b[0m\u001b[1;33m[\u001b[0m\u001b[1;36m0\u001b[0m\u001b[1;33m]\u001b[0m\u001b[1;33m)\u001b[0m\u001b[1;33m\u001b[0m\u001b[1;33m\u001b[0m\u001b[0m\n\u001b[0;32m     66\u001b[0m \u001b[1;33m\u001b[0m\u001b[0m\n",
      "\u001b[1;32mF:\\Anaconda\\envs\\Fuzzy_Systems_Program\\lib\\site-packages\\pandas\\core\\frame.py\u001b[0m in \u001b[0;36msort_values\u001b[1;34m(self, by, axis, ascending, inplace, kind, na_position, ignore_index, key)\u001b[0m\n\u001b[0;32m   5305\u001b[0m                 \u001b[0mascending\u001b[0m \u001b[1;33m=\u001b[0m \u001b[0mascending\u001b[0m\u001b[1;33m[\u001b[0m\u001b[1;36m0\u001b[0m\u001b[1;33m]\u001b[0m\u001b[1;33m\u001b[0m\u001b[1;33m\u001b[0m\u001b[0m\n\u001b[0;32m   5306\u001b[0m \u001b[1;33m\u001b[0m\u001b[0m\n\u001b[1;32m-> 5307\u001b[1;33m             indexer = nargsort(\n\u001b[0m\u001b[0;32m   5308\u001b[0m                 \u001b[0mk\u001b[0m\u001b[1;33m,\u001b[0m \u001b[0mkind\u001b[0m\u001b[1;33m=\u001b[0m\u001b[0mkind\u001b[0m\u001b[1;33m,\u001b[0m \u001b[0mascending\u001b[0m\u001b[1;33m=\u001b[0m\u001b[0mascending\u001b[0m\u001b[1;33m,\u001b[0m \u001b[0mna_position\u001b[0m\u001b[1;33m=\u001b[0m\u001b[0mna_position\u001b[0m\u001b[1;33m,\u001b[0m \u001b[0mkey\u001b[0m\u001b[1;33m=\u001b[0m\u001b[0mkey\u001b[0m\u001b[1;33m\u001b[0m\u001b[1;33m\u001b[0m\u001b[0m\n\u001b[0;32m   5309\u001b[0m             )\n",
      "\u001b[1;32mF:\\Anaconda\\envs\\Fuzzy_Systems_Program\\lib\\site-packages\\pandas\\core\\sorting.py\u001b[0m in \u001b[0;36mnargsort\u001b[1;34m(items, kind, ascending, na_position, key)\u001b[0m\n\u001b[0;32m    299\u001b[0m         \u001b[0mnon_nans\u001b[0m \u001b[1;33m=\u001b[0m \u001b[0mnon_nans\u001b[0m\u001b[1;33m[\u001b[0m\u001b[1;33m:\u001b[0m\u001b[1;33m:\u001b[0m\u001b[1;33m-\u001b[0m\u001b[1;36m1\u001b[0m\u001b[1;33m]\u001b[0m\u001b[1;33m\u001b[0m\u001b[1;33m\u001b[0m\u001b[0m\n\u001b[0;32m    300\u001b[0m         \u001b[0mnon_nan_idx\u001b[0m \u001b[1;33m=\u001b[0m \u001b[0mnon_nan_idx\u001b[0m\u001b[1;33m[\u001b[0m\u001b[1;33m:\u001b[0m\u001b[1;33m:\u001b[0m\u001b[1;33m-\u001b[0m\u001b[1;36m1\u001b[0m\u001b[1;33m]\u001b[0m\u001b[1;33m\u001b[0m\u001b[1;33m\u001b[0m\u001b[0m\n\u001b[1;32m--> 301\u001b[1;33m     \u001b[0mindexer\u001b[0m \u001b[1;33m=\u001b[0m \u001b[0mnon_nan_idx\u001b[0m\u001b[1;33m[\u001b[0m\u001b[0mnon_nans\u001b[0m\u001b[1;33m.\u001b[0m\u001b[0margsort\u001b[0m\u001b[1;33m(\u001b[0m\u001b[0mkind\u001b[0m\u001b[1;33m=\u001b[0m\u001b[0mkind\u001b[0m\u001b[1;33m)\u001b[0m\u001b[1;33m]\u001b[0m\u001b[1;33m\u001b[0m\u001b[1;33m\u001b[0m\u001b[0m\n\u001b[0m\u001b[0;32m    302\u001b[0m     \u001b[1;32mif\u001b[0m \u001b[1;32mnot\u001b[0m \u001b[0mascending\u001b[0m\u001b[1;33m:\u001b[0m\u001b[1;33m\u001b[0m\u001b[1;33m\u001b[0m\u001b[0m\n\u001b[0;32m    303\u001b[0m         \u001b[0mindexer\u001b[0m \u001b[1;33m=\u001b[0m \u001b[0mindexer\u001b[0m\u001b[1;33m[\u001b[0m\u001b[1;33m:\u001b[0m\u001b[1;33m:\u001b[0m\u001b[1;33m-\u001b[0m\u001b[1;36m1\u001b[0m\u001b[1;33m]\u001b[0m\u001b[1;33m\u001b[0m\u001b[1;33m\u001b[0m\u001b[0m\n",
      "\u001b[1;32mF:\\Anaconda\\envs\\Fuzzy_Systems_Program\\lib\\site-packages\\pandas\\core\\generic.py\u001b[0m in \u001b[0;36m__nonzero__\u001b[1;34m(self)\u001b[0m\n\u001b[0;32m   1327\u001b[0m \u001b[1;33m\u001b[0m\u001b[0m\n\u001b[0;32m   1328\u001b[0m     \u001b[1;32mdef\u001b[0m \u001b[0m__nonzero__\u001b[0m\u001b[1;33m(\u001b[0m\u001b[0mself\u001b[0m\u001b[1;33m)\u001b[0m\u001b[1;33m:\u001b[0m\u001b[1;33m\u001b[0m\u001b[1;33m\u001b[0m\u001b[0m\n\u001b[1;32m-> 1329\u001b[1;33m         raise ValueError(\n\u001b[0m\u001b[0;32m   1330\u001b[0m             \u001b[1;34mf\"The truth value of a {type(self).__name__} is ambiguous. \"\u001b[0m\u001b[1;33m\u001b[0m\u001b[1;33m\u001b[0m\u001b[0m\n\u001b[0;32m   1331\u001b[0m             \u001b[1;34m\"Use a.empty, a.bool(), a.item(), a.any() or a.all().\"\u001b[0m\u001b[1;33m\u001b[0m\u001b[1;33m\u001b[0m\u001b[0m\n",
      "\u001b[1;31mValueError\u001b[0m: The truth value of a Series is ambiguous. Use a.empty, a.bool(), a.item(), a.any() or a.all()."
     ]
    }
   ],
   "source": [
    "import numpy as np\n",
    "results = pd.DataFrame({\n",
    "            'Fuzzifier Type': pd.Series([], dtype='str'),\n",
    "            'Gausses': pd.Series([], dtype='int'),\n",
    "            'Adjustment': pd.Series([], dtype='str'),\n",
    "            'Sigma Offset': pd.Series([], dtype='float'),\n",
    "            'Center Offset': pd.Series([], dtype='float'),\n",
    "            'Accuracy': pd.Series([], dtype='float'),\n",
    "            'F1 Score': pd.Series([], dtype='float')\n",
    "        })\n",
    "\n",
    "best_params = results.copy()\n",
    "\n",
    "for idx, data in best_values.iterrows():\n",
    "    resultsForOneClassifier = results.copy()\n",
    "    \n",
    "    gauss = data['Gausses']\n",
    "    style = data['Fuzzifier Type']\n",
    "    adjustment = data['Adjustment']\n",
    "    if adjustment == \"Mean\":\n",
    "        adjustment = -1\n",
    "    else:\n",
    "        adjustment = -2\n",
    "    \n",
    "    for sigma_offset in np.arange(0.02, 0.22, 0.02):\n",
    "        for center_offset in np.arange(0.02, 0.22, 0.02):\n",
    "            print(\"Gausses: \" + str(gauss) + \" Style: \" + style + \" Adjustment: \" + str(adjustment) + \" Sigma Offset: \" + str(sigma_offset) + \" Center Offset: \" + str(center_offset))\n",
    "            generalSettings.gausses = gauss\n",
    "            generalSettings.style = style\n",
    "            generalSettings.adjustment_value = adjustment\n",
    "            settings = Settings(generalSettings)        \n",
    "\n",
    "            loadCSV = LoadCSV()\n",
    "            samples_stats, train_stats, test_stats, train_samples = loadCSV.worker(settings)\n",
    "\n",
    "            fuzzify = Fuzzify()\n",
    "            changed_decisions, features_number_after_reduct, implicants_number, fuzzify_parameters, times = fuzzify.worker(settings, settings.adjustment_value, sigma_offset)   \n",
    "\n",
    "            valueTest = ValueTest(settings, settings.s_function_width, settings.is_training)\n",
    "            valueTest.sOptymalizationWorker(settings, settings.default_s_value, settings.show_results, center_offset)\n",
    "\n",
    "            valueTest = ValueTest(settings, settings.s_function_width, not settings.is_training)\n",
    "            valueTest.sOptymalizationWorker(settings, settings.default_s_value, settings.show_results, center_offset)\n",
    "            results = results.append({\n",
    "                'Fuzzifier Type': style,\n",
    "                'Gausses': gauss,\n",
    "                'Adjustment': adjustment,\n",
    "                'Sigma Offset': sigma_offset,\n",
    "                'Center Offset': center_offset,\n",
    "                'Accuracy': valueTest.results['Accuracy'],\n",
    "                'F1 Score': valueTest.results['F1 Score']\n",
    "            }, ignore_index=True)\n",
    "            resultsForOneClassifier = resultsForOneClassifier.append({\n",
    "                'Fuzzifier Type': style,\n",
    "                'Gausses': gauss,\n",
    "                'Adjustment': adjustment,\n",
    "                'Sigma Offset': sigma_offset,\n",
    "                'Center Offset': center_offset,\n",
    "                'Accuracy': valueTest.results.iloc['Accuracy'],\n",
    "                'F1 Score': valueTest.results.iloc['F1 Score']\n",
    "            }, ignore_index=True)\n",
    "            \n",
    "    resultsForOneClassifier.to_csv(r'ResultsIT2\\ImmunotherapyResultForBest' + str(idx) + '.csv', index=None)\n",
    "    resultsForOneClassifier.sort_values(['F1 Score'], inplace=True, ascending=False)\n",
    "    best_params = best_params.append(resultsForOneClassifier[0])\n",
    "        \n",
    "results.to_csv(r'ResultsIT2\\Immunotherapy2ResultsWithOpt.csv', index=None)\n",
    "best_params.to_csv(r'ResultsIT2\\ImmunotherapyBestParams.csv', index=None)"
   ]
  },
  {
   "cell_type": "code",
   "execution_count": null,
   "metadata": {},
   "outputs": [],
   "source": []
  }
 ],
 "metadata": {
  "kernelspec": {
   "display_name": "Python 3",
   "language": "python",
   "name": "python3"
  },
  "language_info": {
   "codemirror_mode": {
    "name": "ipython",
    "version": 3
   },
   "file_extension": ".py",
   "mimetype": "text/x-python",
   "name": "python",
   "nbconvert_exporter": "python",
   "pygments_lexer": "ipython3",
   "version": "3.8.5"
  },
  "varInspector": {
   "cols": {
    "lenName": 16,
    "lenType": 16,
    "lenVar": 40
   },
   "kernels_config": {
    "python": {
     "delete_cmd_postfix": "",
     "delete_cmd_prefix": "del ",
     "library": "var_list.py",
     "varRefreshCmd": "print(var_dic_list())"
    },
    "r": {
     "delete_cmd_postfix": ") ",
     "delete_cmd_prefix": "rm(",
     "library": "var_list.r",
     "varRefreshCmd": "cat(var_dic_list()) "
    }
   },
   "types_to_exclude": [
    "module",
    "function",
    "builtin_function_or_method",
    "instance",
    "_Feature"
   ],
   "window_display": false
  }
 },
 "nbformat": 4,
 "nbformat_minor": 4
}
