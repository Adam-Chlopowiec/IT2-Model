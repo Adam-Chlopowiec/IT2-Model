{
 "cells": [
  {
   "cell_type": "markdown",
   "metadata": {},
   "source": [
    "## Preparation"
   ]
  },
  {
   "cell_type": "markdown",
   "metadata": {},
   "source": [
    "##### Import Functions"
   ]
  },
  {
   "cell_type": "code",
   "execution_count": 5,
   "metadata": {
    "ExecuteTime": {
     "end_time": "2019-06-13T15:57:18.247119Z",
     "start_time": "2019-06-13T15:57:18.070099Z"
    }
   },
   "outputs": [],
   "source": [
    "from Class.Helper import Helper as Helper\n",
    "from Scripts.LoadCSV import LoadCSV as LoadCSV\n",
    "from Scripts.Fuzzify import Fuzzify as Fuzzify\n",
    "from Scripts.ValueTest import ValueTest as ValueTest\n",
    "from Scripts.OptimizeBruteForce import OptimizeBruteForce as OptimizeBruteForce\n",
    "from Scripts.OptimizeBruteForceKFold import OptimizeBruteForceKFold as OptimizeBruteForceKFold\n",
    "import warnings\n",
    "warnings.simplefilter(\"ignore\")"
   ]
  },
  {
   "cell_type": "markdown",
   "metadata": {
    "heading_collapsed": true
   },
   "source": [
    "## Experiment 1 -- Gauss Number & Gauss Style & Gauss Adjustment"
   ]
  },
  {
   "cell_type": "code",
   "execution_count": null,
   "metadata": {
    "ExecuteTime": {
     "end_time": "2019-06-13T15:17:37.045629Z",
     "start_time": "2019-06-13T15:09:34.617591Z"
    },
    "hidden": true
   },
   "outputs": [],
   "source": [
    "import Settings.GeneralSettings as generalSettings\n",
    "from Settings.SettingsImmunotherapy import Settings as Settings\n",
    "\n",
    "helper = Helper()\n",
    "\n",
    "for gauss in [3, 5, 7, 9, 11]:\n",
    "    for style in [\"Gaussian Progressive\", \"Gaussian Equal\"]:\n",
    "        for adjustment in [-1, -2]:\n",
    "            generalSettings.gausses = gauss\n",
    "            generalSettings.style = style\n",
    "            generalSettings.adjustment_value = adjustment\n",
    "            settings = Settings(generalSettings)        \n",
    "\n",
    "            loadCSV = LoadCSV()\n",
    "            samples_stats, train_stats, test_stats, train_samples = loadCSV.worker(settings)\n",
    "\n",
    "            fuzzify = Fuzzify()\n",
    "            changed_decisions, features_number_after_reduct, implicants_number, fuzzify_parameters, times = fuzzify.worker(settings, settings.adjustment_value)\n",
    "\n",
    "#             fuzzification_data = [settings.dataset_name, settings.style, settings.gausses, settings.adjustment, samples_stats, train_stats, test_stats, changed_decisions, round(changed_decisions / train_samples, 2), implicants_number, settings.feature_numbers, features_number_after_reduct]\n",
    "#             helper.saveFuzzificationStats(fuzzification_data)\n",
    "\n",
    "            valueTest = ValueTest(settings, settings.s_function_width, settings.is_training)\n",
    "            valueTest.sOptymalizationWorker(settings, settings.default_s_value, settings.show_results)\n",
    "\n",
    "            valueTest = ValueTest(settings, settings.s_function_width, not settings.is_training)\n",
    "            valueTest.sOptymalizationWorker(settings, settings.default_s_value, settings.show_results)"
   ]
  },
  {
   "cell_type": "markdown",
   "metadata": {
    "heading_collapsed": true
   },
   "source": [
    "## Experiment 2 -- S-Function Optymalization"
   ]
  },
  {
   "cell_type": "code",
   "execution_count": null,
   "metadata": {
    "ExecuteTime": {
     "end_time": "2019-05-27T12:19:39.438914Z",
     "start_time": "2019-05-27T11:56:38.335471Z"
    },
    "hidden": true,
    "scrolled": true
   },
   "outputs": [],
   "source": [
    "import Settings.GeneralSettings as generalSettings\n",
    "from Settings.SettingsImmunotherapy import Settings as Settings\n",
    "\n",
    "helper = Helper()\n",
    "\n",
    "for gauss in [3, 5, 7, 9, 11]:\n",
    "    for style in [\"Gaussian Progressive\", \"Gaussian Equal\"]:\n",
    "        for adjustment in [-1, -2]:\n",
    "\n",
    "            optimizeBruteForceKFold = OptimizeBruteForceKFold(settings, settings.s_function_width)\n",
    "            valueTest = ValueTest(settings, settings.s_function_width, False)\n",
    "\n",
    "            best_s_function_center, mean_s_function_center, changed_decisions, features_number_after_reduct, implicants_number = optimizeBruteForceKFold.worker(settings, settings.constraints, settings.s_function_width, settings.n_folds)\n",
    "\n",
    "\n",
    "            valueTest.sOptymalizationWorker(settings, best_s_function_center, \"Test Value - K-Fold - Best Function Center\")\n",
    "            threshold = optimizeBruteForceKFold.thresholdWorker(settings, best_s_function_center, settings.s_function_width)\n",
    "            valueTest.thresholdWorker(settings, best_s_function_center, threshold)\n",
    "\n",
    "            valueTest.sOptymalizationWorker(settings, mean_s_function_center, \"Test Value - K-Fold - Average Function Center\")\n",
    "            threshold = optimizeBruteForceKFold.thresholdWorker(settings, mean_s_function_center, settings.s_function_width)\n",
    "            valueTest.thresholdWorker(settings, mean_s_function_center, threshold)"
   ]
  },
  {
   "cell_type": "markdown",
   "metadata": {},
   "source": [
    "## Experiment 3 -- Repeat 10 times"
   ]
  },
  {
   "cell_type": "code",
   "execution_count": 9,
   "metadata": {
    "ExecuteTime": {
     "end_time": "2019-06-13T16:06:29.304268Z",
     "start_time": "2019-06-13T15:59:19.556747Z"
    }
   },
   "outputs": [
    {
     "name": "stdout",
     "output_type": "stream",
     "text": [
      "Gaussian Progressive\n",
      "-----------------------------------------------------------------------------------\n",
      "Level 1\n",
      "Level 2\n"
     ]
    },
    {
     "name": "stderr",
     "output_type": "stream",
     "text": [
      "100%|██████████████████████████████████████████████████████████████████████████████████| 31/31 [00:00<00:00, 63.78it/s]\n"
     ]
    },
    {
     "name": "stdout",
     "output_type": "stream",
     "text": [
      "Level 3\n",
      "Level 4\n",
      "Accuracy: 0.7096774193548387\n",
      "Precision: [0.77777778 0.25      ]\n",
      "Recall: [0.875      0.14285714]\n",
      "F-Score: [0.82352941 0.18181818]\n",
      "Support: [24  7]\n",
      "Gaussian Progressive\n",
      "-----------------------------------------------------------------------------------\n",
      "Level 1\n",
      "Level 2\n"
     ]
    },
    {
     "name": "stderr",
     "output_type": "stream",
     "text": [
      "100%|██████████████████████████████████████████████████████████████████████████████████| 31/31 [00:00<00:00, 50.65it/s]\n"
     ]
    },
    {
     "name": "stdout",
     "output_type": "stream",
     "text": [
      "Level 3\n",
      "Level 4\n",
      "Accuracy: 0.7741935483870968\n",
      "Precision: [0.79310345 0.5       ]\n",
      "Recall: [0.95833333 0.14285714]\n",
      "F-Score: [0.86792453 0.22222222]\n",
      "Support: [24  7]\n",
      "Gaussian Progressive\n",
      "-----------------------------------------------------------------------------------\n",
      "Level 1\n",
      "Level 2\n"
     ]
    },
    {
     "name": "stderr",
     "output_type": "stream",
     "text": [
      "100%|██████████████████████████████████████████████████████████████████████████████████| 31/31 [00:00<00:00, 67.24it/s]\n"
     ]
    },
    {
     "name": "stdout",
     "output_type": "stream",
     "text": [
      "Level 3\n",
      "Level 4\n",
      "Accuracy: 0.7741935483870968\n",
      "Precision: [0.79310345 0.5       ]\n",
      "Recall: [0.95833333 0.14285714]\n",
      "F-Score: [0.86792453 0.22222222]\n",
      "Support: [24  7]\n",
      "Gaussian Progressive\n",
      "-----------------------------------------------------------------------------------\n",
      "Level 1\n",
      "Level 2\n"
     ]
    },
    {
     "name": "stderr",
     "output_type": "stream",
     "text": [
      "100%|██████████████████████████████████████████████████████████████████████████████████| 31/31 [00:00<00:00, 56.26it/s]\n"
     ]
    },
    {
     "name": "stdout",
     "output_type": "stream",
     "text": [
      "Level 3\n",
      "Level 4\n",
      "Accuracy: 0.8387096774193549\n",
      "Precision: [0.88       0.66666667]\n",
      "Recall: [0.91666667 0.57142857]\n",
      "F-Score: [0.89795918 0.61538462]\n",
      "Support: [24  7]\n",
      "Gaussian Progressive\n",
      "-----------------------------------------------------------------------------------\n",
      "Level 1\n",
      "Level 2\n"
     ]
    },
    {
     "name": "stderr",
     "output_type": "stream",
     "text": [
      "100%|██████████████████████████████████████████████████████████████████████████████████| 31/31 [00:00<00:00, 49.84it/s]\n"
     ]
    },
    {
     "name": "stdout",
     "output_type": "stream",
     "text": [
      "Level 3\n",
      "Level 4\n",
      "Accuracy: 0.8387096774193549\n",
      "Precision: [0.88       0.66666667]\n",
      "Recall: [0.91666667 0.57142857]\n",
      "F-Score: [0.89795918 0.61538462]\n",
      "Support: [24  7]\n",
      "Gaussian Progressive\n",
      "-----------------------------------------------------------------------------------\n",
      "Level 1\n",
      "Level 2\n"
     ]
    },
    {
     "name": "stderr",
     "output_type": "stream",
     "text": [
      "100%|██████████████████████████████████████████████████████████████████████████████████| 31/31 [00:00<00:00, 49.28it/s]\n"
     ]
    },
    {
     "name": "stdout",
     "output_type": "stream",
     "text": [
      "Level 3\n",
      "Level 4\n",
      "Accuracy: 0.8064516129032258\n",
      "Precision: [0.82142857 0.66666667]\n",
      "Recall: [0.95833333 0.28571429]\n",
      "F-Score: [0.88461538 0.4       ]\n",
      "Support: [24  7]\n",
      "Gaussian Progressive\n",
      "-----------------------------------------------------------------------------------\n",
      "Level 1\n",
      "Level 2\n"
     ]
    },
    {
     "name": "stderr",
     "output_type": "stream",
     "text": [
      "100%|██████████████████████████████████████████████████████████████████████████████████| 31/31 [00:00<00:00, 43.60it/s]\n"
     ]
    },
    {
     "name": "stdout",
     "output_type": "stream",
     "text": [
      "Level 3\n",
      "Level 4\n",
      "Accuracy: 0.8064516129032258\n",
      "Precision: [0.84615385 0.6       ]\n",
      "Recall: [0.91666667 0.42857143]\n",
      "F-Score: [0.88 0.5 ]\n",
      "Support: [24  7]\n",
      "Gaussian Progressive\n",
      "-----------------------------------------------------------------------------------\n",
      "Level 1\n",
      "Level 2\n"
     ]
    },
    {
     "name": "stderr",
     "output_type": "stream",
     "text": [
      "100%|██████████████████████████████████████████████████████████████████████████████████| 31/31 [00:00<00:00, 44.35it/s]\n"
     ]
    },
    {
     "name": "stdout",
     "output_type": "stream",
     "text": [
      "Level 3\n",
      "Level 4\n",
      "Accuracy: 0.7419354838709677\n",
      "Precision: [0.76666667 0.        ]\n",
      "Recall: [0.95833333 0.        ]\n",
      "F-Score: [0.85185185 0.        ]\n",
      "Support: [24  7]\n",
      "Gaussian Progressive\n",
      "-----------------------------------------------------------------------------------\n",
      "Level 1\n",
      "Level 2\n"
     ]
    },
    {
     "name": "stderr",
     "output_type": "stream",
     "text": [
      "100%|██████████████████████████████████████████████████████████████████████████████████| 31/31 [00:01<00:00, 25.88it/s]\n"
     ]
    },
    {
     "name": "stdout",
     "output_type": "stream",
     "text": [
      "Level 3\n",
      "Level 4\n",
      "Accuracy: 0.7741935483870968\n",
      "Precision: [0.79310345 0.5       ]\n",
      "Recall: [0.95833333 0.14285714]\n",
      "F-Score: [0.86792453 0.22222222]\n",
      "Support: [24  7]\n"
     ]
    }
   ],
   "source": [
    "import Settings.GeneralSettings as generalSettings\n",
    "from Settings.SettingsImmunotherapy import Settings as Settings\n",
    "\n",
    "helper = Helper()\n",
    "\n",
    "for x in range(0, 9):\n",
    "    generalSettings.gausses = 9\n",
    "    generalSettings.style = \"Gaussian Progressive\"\n",
    "    generalSettings.adjustment_value = -1\n",
    "    settings = Settings(generalSettings)        \n",
    "\n",
    "    loadCSV = LoadCSV()\n",
    "    samples_stats, train_stats, test_stats, train_samples = loadCSV.worker(settings)\n",
    "\n",
    "    fuzzify = Fuzzify()\n",
    "    changed_decisions, features_number_after_reduct, implicants_number, fuzzify_parameters, times = fuzzify.worker(settings, settings.adjustment_value)\n",
    "\n",
    "    #     valueTest = ValueTest(settings, settings.s_function_width, settings.is_training)\n",
    "    #     valueTest.sOptymalizationWorker(settings, settings.default_s_value, settings.show_results)\n",
    "\n",
    "    valueTest = ValueTest(settings, settings.s_function_width, not settings.is_training)\n",
    "    valueTest.sOptymalizationWorker(settings, settings.default_s_value, settings.show_results)"
   ]
  }
 ],
 "metadata": {
  "kernelspec": {
   "display_name": "Python 3",
   "language": "python",
   "name": "python3"
  },
  "language_info": {
   "codemirror_mode": {
    "name": "ipython",
    "version": 3
   },
   "file_extension": ".py",
   "mimetype": "text/x-python",
   "name": "python",
   "nbconvert_exporter": "python",
   "pygments_lexer": "ipython3",
   "version": "3.5.5"
  },
  "varInspector": {
   "cols": {
    "lenName": 16,
    "lenType": 16,
    "lenVar": 40
   },
   "kernels_config": {
    "python": {
     "delete_cmd_postfix": "",
     "delete_cmd_prefix": "del ",
     "library": "var_list.py",
     "varRefreshCmd": "print(var_dic_list())"
    },
    "r": {
     "delete_cmd_postfix": ") ",
     "delete_cmd_prefix": "rm(",
     "library": "var_list.r",
     "varRefreshCmd": "cat(var_dic_list()) "
    }
   },
   "types_to_exclude": [
    "module",
    "function",
    "builtin_function_or_method",
    "instance",
    "_Feature"
   ],
   "window_display": false
  }
 },
 "nbformat": 4,
 "nbformat_minor": 2
}
