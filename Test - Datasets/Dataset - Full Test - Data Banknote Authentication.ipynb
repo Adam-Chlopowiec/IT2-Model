{
 "cells": [
  {
   "cell_type": "markdown",
   "metadata": {},
   "source": [
    "## Preparation"
   ]
  },
  {
   "cell_type": "markdown",
   "metadata": {},
   "source": [
    "##### Import Functions"
   ]
  },
  {
   "cell_type": "code",
   "execution_count": 1,
   "metadata": {
    "ExecuteTime": {
     "end_time": "2019-06-13T16:07:29.845225Z",
     "start_time": "2019-06-13T16:07:29.695232Z"
    }
   },
   "outputs": [],
   "source": [
    "import sys\n",
    "sys.path.append('..')\n",
    "\n",
    "from Class.Helper import Helper as Helper\n",
    "from Scripts.LoadCSV import LoadCSV as LoadCSV\n",
    "from Scripts.Fuzzify import Fuzzify as Fuzzify\n",
    "from Scripts.ValueTest import ValueTest as ValueTest\n",
    "from Scripts.OptimizeBruteForce import OptimizeBruteForce as OptimizeBruteForce\n",
    "from Scripts.OptimizeBruteForceKFold import OptimizeBruteForceKFold as OptimizeBruteForceKFold\n",
    "import warnings\n",
    "warnings.simplefilter(\"ignore\")"
   ]
  },
  {
   "cell_type": "markdown",
   "metadata": {},
   "source": [
    "### Testy IT2"
   ]
  },
  {
   "cell_type": "markdown",
   "metadata": {
    "heading_collapsed": true
   },
   "source": [
    "## Experiment 1 -- Gauss Number & Gauss Style & Gauss Adjustment"
   ]
  },
  {
   "cell_type": "code",
   "execution_count": 5,
   "metadata": {
    "ExecuteTime": {
     "end_time": "2019-05-27T06:22:11.345066Z",
     "start_time": "2019-05-27T06:22:10.680066Z"
    },
    "hidden": true
   },
   "outputs": [
    {
     "name": "stdout",
     "output_type": "stream",
     "text": [
      "Gausses: 3 Adjustment: -1\n",
      "Gaussian Equal\n"
     ]
    },
    {
     "name": "stderr",
     "output_type": "stream",
     "text": [
      "  1%|▊                                                                                 | 9/905 [00:00<00:10, 88.47it/s]"
     ]
    },
    {
     "name": "stdout",
     "output_type": "stream",
     "text": [
      "-----------------------------------------------------------------------------------\n",
      "Level 1\n",
      "Level 2\n"
     ]
    },
    {
     "name": "stderr",
     "output_type": "stream",
     "text": [
      "100%|████████████████████████████████████████████████████████████████████████████████| 905/905 [00:12<00:00, 73.07it/s]\n"
     ]
    },
    {
     "name": "stdout",
     "output_type": "stream",
     "text": [
      "Level 3\n",
      "Level 4\n",
      "Accuracy: 0.8751381215469614\n",
      "Precision: [0.99317406 0.81862745]\n",
      "Recall: [0.7238806  0.99602386]\n",
      "F-Score: [0.83741007 0.89865471]\n",
      "Support: [402 503]\n"
     ]
    },
    {
     "name": "stderr",
     "output_type": "stream",
     "text": [
      "  2%|█▌                                                                                | 9/467 [00:00<00:05, 86.77it/s]"
     ]
    },
    {
     "name": "stdout",
     "output_type": "stream",
     "text": [
      "-----------------------------------------------------------------------------------\n",
      "Level 1\n",
      "Level 2\n"
     ]
    },
    {
     "name": "stderr",
     "output_type": "stream",
     "text": [
      "100%|████████████████████████████████████████████████████████████████████████████████| 467/467 [00:06<00:00, 76.67it/s]\n"
     ]
    },
    {
     "name": "stdout",
     "output_type": "stream",
     "text": [
      "Level 3\n",
      "Level 4\n",
      "Accuracy: 0.8736616702355461\n",
      "Precision: [1.         0.81446541]\n",
      "Recall: [0.71634615 1.        ]\n",
      "F-Score: [0.83473389 0.89774697]\n",
      "Support: [208 259]\n",
      "Gausses: 3 Adjustment: -2\n",
      "Gaussian Equal\n"
     ]
    },
    {
     "name": "stderr",
     "output_type": "stream",
     "text": [
      "  1%|▊                                                                                 | 9/905 [00:00<00:11, 81.29it/s]"
     ]
    },
    {
     "name": "stdout",
     "output_type": "stream",
     "text": [
      "-----------------------------------------------------------------------------------\n",
      "Level 1\n",
      "Level 2\n"
     ]
    },
    {
     "name": "stderr",
     "output_type": "stream",
     "text": [
      "100%|████████████████████████████████████████████████████████████████████████████████| 905/905 [00:13<00:00, 66.84it/s]\n"
     ]
    },
    {
     "name": "stdout",
     "output_type": "stream",
     "text": [
      "Level 3\n",
      "Level 4\n",
      "Accuracy: 0.8629834254143647\n",
      "Precision: [0.76526718 0.99737533]\n",
      "Recall: [0.99751244 0.7554672 ]\n",
      "F-Score: [0.86609071 0.85972851]\n",
      "Support: [402 503]\n"
     ]
    },
    {
     "name": "stderr",
     "output_type": "stream",
     "text": [
      "  2%|█▍                                                                                | 8/467 [00:00<00:06, 72.92it/s]"
     ]
    },
    {
     "name": "stdout",
     "output_type": "stream",
     "text": [
      "-----------------------------------------------------------------------------------\n",
      "Level 1\n",
      "Level 2\n"
     ]
    },
    {
     "name": "stderr",
     "output_type": "stream",
     "text": [
      "100%|████████████████████████████████████████████████████████████████████████████████| 467/467 [00:07<00:00, 64.46it/s]\n"
     ]
    },
    {
     "name": "stdout",
     "output_type": "stream",
     "text": [
      "Level 3\n",
      "Level 4\n",
      "Accuracy: 0.8758029978586723\n",
      "Precision: [0.78409091 0.99507389]\n",
      "Recall: [0.99519231 0.77992278]\n",
      "F-Score: [0.87711864 0.87445887]\n",
      "Support: [208 259]\n",
      "Gausses: 5 Adjustment: -1\n",
      "Gaussian Equal\n"
     ]
    },
    {
     "name": "stderr",
     "output_type": "stream",
     "text": [
      "  0%|▎                                                                                 | 4/905 [00:00<00:25, 35.49it/s]"
     ]
    },
    {
     "name": "stdout",
     "output_type": "stream",
     "text": [
      "-----------------------------------------------------------------------------------\n",
      "Level 1\n",
      "Level 2\n"
     ]
    },
    {
     "name": "stderr",
     "output_type": "stream",
     "text": [
      "100%|████████████████████████████████████████████████████████████████████████████████| 905/905 [00:33<00:00, 27.07it/s]\n"
     ]
    },
    {
     "name": "stdout",
     "output_type": "stream",
     "text": [
      "Level 3\n",
      "Level 4\n",
      "Accuracy: 0.9060773480662984\n",
      "Precision: [0.99071207 0.85910653]\n",
      "Recall: [0.7960199  0.99403579]\n",
      "F-Score: [0.88275862 0.92165899]\n",
      "Support: [402 503]\n"
     ]
    },
    {
     "name": "stderr",
     "output_type": "stream",
     "text": [
      "  1%|▋                                                                                 | 4/467 [00:00<00:13, 34.88it/s]"
     ]
    },
    {
     "name": "stdout",
     "output_type": "stream",
     "text": [
      "-----------------------------------------------------------------------------------\n",
      "Level 1\n",
      "Level 2\n"
     ]
    },
    {
     "name": "stderr",
     "output_type": "stream",
     "text": [
      "100%|████████████████████████████████████████████████████████████████████████████████| 467/467 [00:17<00:00, 26.56it/s]\n"
     ]
    },
    {
     "name": "stdout",
     "output_type": "stream",
     "text": [
      "Level 3\n",
      "Level 4\n",
      "Accuracy: 0.892933618843683\n",
      "Precision: [0.97590361 0.84717608]\n",
      "Recall: [0.77884615 0.98455598]\n",
      "F-Score: [0.86631016 0.91071429]\n",
      "Support: [208 259]\n",
      "Gausses: 5 Adjustment: -2\n",
      "Gaussian Equal\n"
     ]
    },
    {
     "name": "stderr",
     "output_type": "stream",
     "text": [
      "  0%|▎                                                                                 | 4/905 [00:00<00:25, 35.81it/s]"
     ]
    },
    {
     "name": "stdout",
     "output_type": "stream",
     "text": [
      "-----------------------------------------------------------------------------------\n",
      "Level 1\n",
      "Level 2\n"
     ]
    },
    {
     "name": "stderr",
     "output_type": "stream",
     "text": [
      "100%|████████████████████████████████████████████████████████████████████████████████| 905/905 [00:32<00:00, 27.98it/s]\n"
     ]
    },
    {
     "name": "stdout",
     "output_type": "stream",
     "text": [
      "Level 3\n",
      "Level 4\n",
      "Accuracy: 0.8574585635359117\n",
      "Precision: [0.76099426 0.9895288 ]\n",
      "Recall: [0.99004975 0.75149105]\n",
      "F-Score: [0.86054054 0.85423729]\n",
      "Support: [402 503]\n"
     ]
    },
    {
     "name": "stderr",
     "output_type": "stream",
     "text": [
      "  1%|▋                                                                                 | 4/467 [00:00<00:13, 34.57it/s]"
     ]
    },
    {
     "name": "stdout",
     "output_type": "stream",
     "text": [
      "-----------------------------------------------------------------------------------\n",
      "Level 1\n",
      "Level 2\n"
     ]
    },
    {
     "name": "stderr",
     "output_type": "stream",
     "text": [
      "100%|████████████████████████████████████████████████████████████████████████████████| 467/467 [00:16<00:00, 28.10it/s]\n"
     ]
    },
    {
     "name": "stdout",
     "output_type": "stream",
     "text": [
      "Level 3\n",
      "Level 4\n",
      "Accuracy: 0.8629550321199143\n",
      "Precision: [0.76666667 0.99492386]\n",
      "Recall: [0.99519231 0.75675676]\n",
      "F-Score: [0.86610879 0.85964912]\n",
      "Support: [208 259]\n",
      "Gausses: 7 Adjustment: -1\n",
      "Gaussian Equal\n"
     ]
    },
    {
     "name": "stderr",
     "output_type": "stream",
     "text": [
      "  0%|                                                                                          | 0/905 [00:00<?, ?it/s]"
     ]
    },
    {
     "name": "stdout",
     "output_type": "stream",
     "text": [
      "-----------------------------------------------------------------------------------\n",
      "Level 1\n",
      "Level 2\n"
     ]
    },
    {
     "name": "stderr",
     "output_type": "stream",
     "text": [
      "100%|████████████████████████████████████████████████████████████████████████████████| 905/905 [01:23<00:00, 10.84it/s]\n"
     ]
    },
    {
     "name": "stdout",
     "output_type": "stream",
     "text": [
      "Level 3\n",
      "Level 4\n",
      "Accuracy: 0.9303867403314917\n",
      "Precision: [0.97746479 0.9       ]\n",
      "Recall: [0.86318408 0.98409543]\n",
      "F-Score: [0.91677675 0.94017094]\n",
      "Support: [402 503]\n"
     ]
    },
    {
     "name": "stderr",
     "output_type": "stream",
     "text": [
      "  0%|                                                                                          | 0/467 [00:00<?, ?it/s]"
     ]
    },
    {
     "name": "stdout",
     "output_type": "stream",
     "text": [
      "-----------------------------------------------------------------------------------\n",
      "Level 1\n",
      "Level 2\n"
     ]
    },
    {
     "name": "stderr",
     "output_type": "stream",
     "text": [
      "100%|████████████████████████████████████████████████████████████████████████████████| 467/467 [00:43<00:00, 10.64it/s]\n"
     ]
    },
    {
     "name": "stdout",
     "output_type": "stream",
     "text": [
      "Level 3\n",
      "Level 4\n",
      "Accuracy: 0.9143468950749465\n",
      "Precision: [0.97191011 0.87889273]\n",
      "Recall: [0.83173077 0.98069498]\n",
      "F-Score: [0.89637306 0.9270073 ]\n",
      "Support: [208 259]\n",
      "Gausses: 7 Adjustment: -2\n",
      "Gaussian Equal\n"
     ]
    },
    {
     "name": "stderr",
     "output_type": "stream",
     "text": [
      "  0%|                                                                                          | 0/905 [00:00<?, ?it/s]"
     ]
    },
    {
     "name": "stdout",
     "output_type": "stream",
     "text": [
      "-----------------------------------------------------------------------------------\n",
      "Level 1\n",
      "Level 2\n"
     ]
    },
    {
     "name": "stderr",
     "output_type": "stream",
     "text": [
      "  1%|▌                                                                                 | 6/905 [00:00<01:20, 11.22it/s]"
     ]
    },
    {
     "name": "stdout",
     "output_type": "stream",
     "text": [
      "!!!!!!!!!!!!!!!!!!!!!!!!!!!!!!!!!!!!!!!\n"
     ]
    },
    {
     "name": "stderr",
     "output_type": "stream",
     "text": [
      " 13%|██████████▋                                                                     | 121/905 [00:12<01:19,  9.85it/s]"
     ]
    },
    {
     "name": "stdout",
     "output_type": "stream",
     "text": [
      "!!!!!!!!!!!!!!!!!!!!!!!!!!!!!!!!!!!!!!!\n"
     ]
    },
    {
     "name": "stderr",
     "output_type": "stream",
     "text": [
      " 16%|█████████████▏                                                                  | 149/905 [00:15<01:09, 10.89it/s]"
     ]
    },
    {
     "name": "stdout",
     "output_type": "stream",
     "text": [
      "!!!!!!!!!!!!!!!!!!!!!!!!!!!!!!!!!!!!!!!\n"
     ]
    },
    {
     "name": "stderr",
     "output_type": "stream",
     "text": [
      " 23%|██████████████████                                                              | 204/905 [00:20<01:19,  8.84it/s]"
     ]
    },
    {
     "name": "stdout",
     "output_type": "stream",
     "text": [
      "!!!!!!!!!!!!!!!!!!!!!!!!!!!!!!!!!!!!!!!\n"
     ]
    },
    {
     "name": "stderr",
     "output_type": "stream",
     "text": [
      " 24%|██████████████████▊                                                             | 213/905 [00:21<01:11,  9.73it/s]"
     ]
    },
    {
     "name": "stdout",
     "output_type": "stream",
     "text": [
      "!!!!!!!!!!!!!!!!!!!!!!!!!!!!!!!!!!!!!!!\n"
     ]
    },
    {
     "name": "stderr",
     "output_type": "stream",
     "text": [
      " 25%|███████████████████▉                                                            | 225/905 [00:23<01:20,  8.49it/s]"
     ]
    },
    {
     "name": "stdout",
     "output_type": "stream",
     "text": [
      "!!!!!!!!!!!!!!!!!!!!!!!!!!!!!!!!!!!!!!!\n"
     ]
    },
    {
     "name": "stderr",
     "output_type": "stream",
     "text": [
      " 30%|███████████████████████▊                                                        | 270/905 [00:27<01:05,  9.65it/s]"
     ]
    },
    {
     "name": "stdout",
     "output_type": "stream",
     "text": [
      "!!!!!!!!!!!!!!!!!!!!!!!!!!!!!!!!!!!!!!!\n"
     ]
    },
    {
     "name": "stderr",
     "output_type": "stream",
     "text": [
      " 37%|█████████████████████████████▌                                                  | 335/905 [00:34<00:57,  9.93it/s]"
     ]
    },
    {
     "name": "stdout",
     "output_type": "stream",
     "text": [
      "!!!!!!!!!!!!!!!!!!!!!!!!!!!!!!!!!!!!!!!\n"
     ]
    },
    {
     "name": "stderr",
     "output_type": "stream",
     "text": [
      " 40%|███████████████████████████████▊                                                | 360/905 [00:37<00:56,  9.72it/s]"
     ]
    },
    {
     "name": "stdout",
     "output_type": "stream",
     "text": [
      "!!!!!!!!!!!!!!!!!!!!!!!!!!!!!!!!!!!!!!!\n"
     ]
    },
    {
     "name": "stderr",
     "output_type": "stream",
     "text": [
      " 40%|████████████████████████████████▎                                               | 365/905 [00:37<00:58,  9.22it/s]"
     ]
    },
    {
     "name": "stdout",
     "output_type": "stream",
     "text": [
      "!!!!!!!!!!!!!!!!!!!!!!!!!!!!!!!!!!!!!!!\n"
     ]
    },
    {
     "name": "stderr",
     "output_type": "stream",
     "text": [
      " 45%|███████████████████████████████████▉                                            | 406/905 [00:42<01:01,  8.17it/s]"
     ]
    },
    {
     "name": "stdout",
     "output_type": "stream",
     "text": [
      "!!!!!!!!!!!!!!!!!!!!!!!!!!!!!!!!!!!!!!!\n"
     ]
    },
    {
     "name": "stderr",
     "output_type": "stream",
     "text": [
      " 48%|██████████████████████████████████████▋                                         | 437/905 [00:46<00:57,  8.18it/s]"
     ]
    },
    {
     "name": "stdout",
     "output_type": "stream",
     "text": [
      "!!!!!!!!!!!!!!!!!!!!!!!!!!!!!!!!!!!!!!!\n"
     ]
    },
    {
     "name": "stderr",
     "output_type": "stream",
     "text": [
      " 49%|███████████████████████████████████████                                         | 442/905 [00:46<00:49,  9.42it/s]"
     ]
    },
    {
     "name": "stdout",
     "output_type": "stream",
     "text": [
      "!!!!!!!!!!!!!!!!!!!!!!!!!!!!!!!!!!!!!!!\n"
     ]
    },
    {
     "name": "stderr",
     "output_type": "stream",
     "text": [
      " 49%|███████████████████████████████████████▏                                        | 444/905 [00:46<00:52,  8.78it/s]"
     ]
    },
    {
     "name": "stdout",
     "output_type": "stream",
     "text": [
      "!!!!!!!!!!!!!!!!!!!!!!!!!!!!!!!!!!!!!!!\n"
     ]
    },
    {
     "name": "stderr",
     "output_type": "stream",
     "text": [
      " 50%|███████████████████████████████████████▊                                        | 450/905 [00:47<00:52,  8.59it/s]"
     ]
    },
    {
     "name": "stdout",
     "output_type": "stream",
     "text": [
      "!!!!!!!!!!!!!!!!!!!!!!!!!!!!!!!!!!!!!!!\n"
     ]
    },
    {
     "name": "stderr",
     "output_type": "stream",
     "text": [
      " 51%|████████████████████████████████████████▋                                       | 460/905 [00:48<00:51,  8.70it/s]"
     ]
    },
    {
     "name": "stdout",
     "output_type": "stream",
     "text": [
      "!!!!!!!!!!!!!!!!!!!!!!!!!!!!!!!!!!!!!!!\n"
     ]
    },
    {
     "name": "stderr",
     "output_type": "stream",
     "text": [
      " 54%|███████████████████████████████████████████▏                                    | 489/905 [00:51<00:45,  9.15it/s]"
     ]
    },
    {
     "name": "stdout",
     "output_type": "stream",
     "text": [
      "!!!!!!!!!!!!!!!!!!!!!!!!!!!!!!!!!!!!!!!\n"
     ]
    },
    {
     "name": "stderr",
     "output_type": "stream",
     "text": [
      " 60%|███████████████████████████████████████████████▋                                | 540/905 [00:56<00:35, 10.35it/s]"
     ]
    },
    {
     "name": "stdout",
     "output_type": "stream",
     "text": [
      "!!!!!!!!!!!!!!!!!!!!!!!!!!!!!!!!!!!!!!!\n"
     ]
    },
    {
     "name": "stderr",
     "output_type": "stream",
     "text": [
      " 61%|████████████████████████████████████████████████▉                               | 554/905 [00:57<00:34, 10.10it/s]"
     ]
    },
    {
     "name": "stdout",
     "output_type": "stream",
     "text": [
      "!!!!!!!!!!!!!!!!!!!!!!!!!!!!!!!!!!!!!!!\n"
     ]
    },
    {
     "name": "stderr",
     "output_type": "stream",
     "text": [
      " 65%|███████████████████████████████████████████████████▊                            | 586/905 [01:01<00:32,  9.90it/s]"
     ]
    },
    {
     "name": "stdout",
     "output_type": "stream",
     "text": [
      "!!!!!!!!!!!!!!!!!!!!!!!!!!!!!!!!!!!!!!!\n"
     ]
    },
    {
     "name": "stderr",
     "output_type": "stream",
     "text": [
      " 66%|█████████████████████████████████████████████████████                           | 600/905 [01:02<00:29, 10.47it/s]"
     ]
    },
    {
     "name": "stdout",
     "output_type": "stream",
     "text": [
      "!!!!!!!!!!!!!!!!!!!!!!!!!!!!!!!!!!!!!!!\n",
      "!!!!!!!!!!!!!!!!!!!!!!!!!!!!!!!!!!!!!!!\n"
     ]
    },
    {
     "name": "stderr",
     "output_type": "stream",
     "text": [
      " 67%|█████████████████████████████████████████████████████▍                          | 604/905 [01:02<00:29, 10.19it/s]"
     ]
    },
    {
     "name": "stdout",
     "output_type": "stream",
     "text": [
      "!!!!!!!!!!!!!!!!!!!!!!!!!!!!!!!!!!!!!!!\n"
     ]
    },
    {
     "name": "stderr",
     "output_type": "stream",
     "text": [
      " 70%|████████████████████████████████████████████████████████                        | 634/905 [01:05<00:25, 10.61it/s]"
     ]
    },
    {
     "name": "stdout",
     "output_type": "stream",
     "text": [
      "!!!!!!!!!!!!!!!!!!!!!!!!!!!!!!!!!!!!!!!\n"
     ]
    },
    {
     "name": "stderr",
     "output_type": "stream",
     "text": [
      " 77%|█████████████████████████████████████████████████████████████▍                  | 695/905 [01:11<00:20, 10.49it/s]"
     ]
    },
    {
     "name": "stdout",
     "output_type": "stream",
     "text": [
      "!!!!!!!!!!!!!!!!!!!!!!!!!!!!!!!!!!!!!!!\n"
     ]
    },
    {
     "name": "stderr",
     "output_type": "stream",
     "text": [
      " 78%|██████████████████████████████████████████████████████████████▍                 | 706/905 [01:12<00:17, 11.08it/s]"
     ]
    },
    {
     "name": "stdout",
     "output_type": "stream",
     "text": [
      "!!!!!!!!!!!!!!!!!!!!!!!!!!!!!!!!!!!!!!!\n",
      "!!!!!!!!!!!!!!!!!!!!!!!!!!!!!!!!!!!!!!!\n"
     ]
    },
    {
     "name": "stderr",
     "output_type": "stream",
     "text": [
      " 82%|█████████████████████████████████████████████████████████████████▌              | 742/905 [01:16<00:15, 10.40it/s]"
     ]
    },
    {
     "name": "stdout",
     "output_type": "stream",
     "text": [
      "!!!!!!!!!!!!!!!!!!!!!!!!!!!!!!!!!!!!!!!\n"
     ]
    },
    {
     "name": "stderr",
     "output_type": "stream",
     "text": [
      " 84%|██████████████████████████████████████████████████████████████████▊             | 756/905 [01:17<00:14, 10.47it/s]"
     ]
    },
    {
     "name": "stdout",
     "output_type": "stream",
     "text": [
      "!!!!!!!!!!!!!!!!!!!!!!!!!!!!!!!!!!!!!!!\n"
     ]
    },
    {
     "name": "stderr",
     "output_type": "stream",
     "text": [
      " 84%|███████████████████████████████████████████████████████████████████             | 758/905 [01:17<00:14, 10.49it/s]"
     ]
    },
    {
     "name": "stdout",
     "output_type": "stream",
     "text": [
      "!!!!!!!!!!!!!!!!!!!!!!!!!!!!!!!!!!!!!!!\n"
     ]
    },
    {
     "name": "stderr",
     "output_type": "stream",
     "text": [
      " 86%|████████████████████████████████████████████████████████████████████▊           | 779/905 [01:19<00:12, 10.39it/s]"
     ]
    },
    {
     "name": "stdout",
     "output_type": "stream",
     "text": [
      "!!!!!!!!!!!!!!!!!!!!!!!!!!!!!!!!!!!!!!!\n"
     ]
    },
    {
     "name": "stderr",
     "output_type": "stream",
     "text": [
      " 88%|██████████████████████████████████████████████████████████████████████▍         | 797/905 [01:21<00:10, 10.33it/s]"
     ]
    },
    {
     "name": "stdout",
     "output_type": "stream",
     "text": [
      "!!!!!!!!!!!!!!!!!!!!!!!!!!!!!!!!!!!!!!!\n"
     ]
    },
    {
     "name": "stderr",
     "output_type": "stream",
     "text": [
      " 91%|████████████████████████████████████████████████████████████████████████▊       | 824/905 [01:23<00:07, 11.10it/s]"
     ]
    },
    {
     "name": "stdout",
     "output_type": "stream",
     "text": [
      "!!!!!!!!!!!!!!!!!!!!!!!!!!!!!!!!!!!!!!!\n"
     ]
    },
    {
     "name": "stderr",
     "output_type": "stream",
     "text": [
      " 93%|██████████████████████████████████████████████████████████████████████████▍     | 842/905 [01:25<00:05, 10.72it/s]"
     ]
    },
    {
     "name": "stdout",
     "output_type": "stream",
     "text": [
      "!!!!!!!!!!!!!!!!!!!!!!!!!!!!!!!!!!!!!!!\n"
     ]
    },
    {
     "name": "stderr",
     "output_type": "stream",
     "text": [
      " 95%|████████████████████████████████████████████████████████████████████████████▍   | 864/905 [01:27<00:03, 10.31it/s]"
     ]
    },
    {
     "name": "stdout",
     "output_type": "stream",
     "text": [
      "!!!!!!!!!!!!!!!!!!!!!!!!!!!!!!!!!!!!!!!\n",
      "!!!!!!!!!!!!!!!!!!!!!!!!!!!!!!!!!!!!!!!\n"
     ]
    },
    {
     "name": "stderr",
     "output_type": "stream",
     "text": [
      " 97%|█████████████████████████████████████████████████████████████████████████████▍  | 876/905 [01:28<00:02, 10.81it/s]"
     ]
    },
    {
     "name": "stdout",
     "output_type": "stream",
     "text": [
      "!!!!!!!!!!!!!!!!!!!!!!!!!!!!!!!!!!!!!!!\n"
     ]
    },
    {
     "name": "stderr",
     "output_type": "stream",
     "text": [
      " 97%|█████████████████████████████████████████████████████████████████████████████▉  | 882/905 [01:29<00:02, 10.97it/s]"
     ]
    },
    {
     "name": "stdout",
     "output_type": "stream",
     "text": [
      "!!!!!!!!!!!!!!!!!!!!!!!!!!!!!!!!!!!!!!!\n"
     ]
    },
    {
     "name": "stderr",
     "output_type": "stream",
     "text": [
      " 99%|███████████████████████████████████████████████████████████████████████████████ | 894/905 [01:30<00:01, 10.84it/s]"
     ]
    },
    {
     "name": "stdout",
     "output_type": "stream",
     "text": [
      "!!!!!!!!!!!!!!!!!!!!!!!!!!!!!!!!!!!!!!!\n"
     ]
    },
    {
     "name": "stderr",
     "output_type": "stream",
     "text": [
      "100%|████████████████████████████████████████████████████████████████████████████████| 905/905 [01:31<00:00,  9.88it/s]\n"
     ]
    },
    {
     "name": "stdout",
     "output_type": "stream",
     "text": [
      "Level 3\n",
      "Level 4\n",
      "Accuracy: 0.887292817679558\n",
      "Precision: [0.91666667 0.86788991]\n",
      "Recall: [0.82089552 0.94035785]\n",
      "F-Score: [0.86614173 0.90267176]\n",
      "Support: [402 503]\n"
     ]
    },
    {
     "name": "stderr",
     "output_type": "stream",
     "text": [
      "  0%|                                                                                          | 0/467 [00:00<?, ?it/s]"
     ]
    },
    {
     "name": "stdout",
     "output_type": "stream",
     "text": [
      "-----------------------------------------------------------------------------------\n",
      "Level 1\n",
      "Level 2\n"
     ]
    },
    {
     "name": "stderr",
     "output_type": "stream",
     "text": [
      "  4%|██▉                                                                              | 17/467 [00:01<00:40, 11.10it/s]"
     ]
    },
    {
     "name": "stdout",
     "output_type": "stream",
     "text": [
      "!!!!!!!!!!!!!!!!!!!!!!!!!!!!!!!!!!!!!!!\n"
     ]
    },
    {
     "name": "stderr",
     "output_type": "stream",
     "text": [
      "  8%|██████▍                                                                          | 37/467 [00:03<00:39, 10.90it/s]"
     ]
    },
    {
     "name": "stdout",
     "output_type": "stream",
     "text": [
      "!!!!!!!!!!!!!!!!!!!!!!!!!!!!!!!!!!!!!!!\n"
     ]
    },
    {
     "name": "stderr",
     "output_type": "stream",
     "text": [
      "  9%|███████                                                                          | 41/467 [00:03<00:39, 10.67it/s]"
     ]
    },
    {
     "name": "stdout",
     "output_type": "stream",
     "text": [
      "!!!!!!!!!!!!!!!!!!!!!!!!!!!!!!!!!!!!!!!\n"
     ]
    },
    {
     "name": "stderr",
     "output_type": "stream",
     "text": [
      " 12%|█████████▉                                                                       | 57/467 [00:05<00:38, 10.55it/s]"
     ]
    },
    {
     "name": "stdout",
     "output_type": "stream",
     "text": [
      "!!!!!!!!!!!!!!!!!!!!!!!!!!!!!!!!!!!!!!!\n"
     ]
    },
    {
     "name": "stderr",
     "output_type": "stream",
     "text": [
      " 13%|██████████▌                                                                      | 61/467 [00:05<00:38, 10.55it/s]"
     ]
    },
    {
     "name": "stdout",
     "output_type": "stream",
     "text": [
      "!!!!!!!!!!!!!!!!!!!!!!!!!!!!!!!!!!!!!!!\n"
     ]
    },
    {
     "name": "stderr",
     "output_type": "stream",
     "text": [
      " 14%|███████████▎                                                                     | 65/467 [00:06<00:37, 10.67it/s]"
     ]
    },
    {
     "name": "stdout",
     "output_type": "stream",
     "text": [
      "!!!!!!!!!!!!!!!!!!!!!!!!!!!!!!!!!!!!!!!\n",
      "!!!!!!!!!!!!!!!!!!!!!!!!!!!!!!!!!!!!!!!\n"
     ]
    },
    {
     "name": "stderr",
     "output_type": "stream",
     "text": [
      " 16%|█████████████▎                                                                   | 77/467 [00:07<00:37, 10.51it/s]"
     ]
    },
    {
     "name": "stdout",
     "output_type": "stream",
     "text": [
      "!!!!!!!!!!!!!!!!!!!!!!!!!!!!!!!!!!!!!!!\n"
     ]
    },
    {
     "name": "stderr",
     "output_type": "stream",
     "text": [
      " 29%|███████████████████████▎                                                        | 136/467 [00:12<00:29, 11.29it/s]"
     ]
    },
    {
     "name": "stdout",
     "output_type": "stream",
     "text": [
      "!!!!!!!!!!!!!!!!!!!!!!!!!!!!!!!!!!!!!!!\n"
     ]
    },
    {
     "name": "stderr",
     "output_type": "stream",
     "text": [
      " 40%|███████████████████████████████▊                                                | 186/467 [00:17<00:25, 10.83it/s]"
     ]
    },
    {
     "name": "stdout",
     "output_type": "stream",
     "text": [
      "!!!!!!!!!!!!!!!!!!!!!!!!!!!!!!!!!!!!!!!\n"
     ]
    },
    {
     "name": "stderr",
     "output_type": "stream",
     "text": [
      " 43%|██████████████████████████████████▌                                             | 202/467 [00:18<00:25, 10.41it/s]"
     ]
    },
    {
     "name": "stdout",
     "output_type": "stream",
     "text": [
      "!!!!!!!!!!!!!!!!!!!!!!!!!!!!!!!!!!!!!!!\n"
     ]
    },
    {
     "name": "stderr",
     "output_type": "stream",
     "text": [
      " 45%|███████████████████████████████████▋                                            | 208/467 [00:19<00:23, 10.84it/s]"
     ]
    },
    {
     "name": "stdout",
     "output_type": "stream",
     "text": [
      "!!!!!!!!!!!!!!!!!!!!!!!!!!!!!!!!!!!!!!!\n"
     ]
    },
    {
     "name": "stderr",
     "output_type": "stream",
     "text": [
      " 45%|████████████████████████████████████▎                                           | 212/467 [00:19<00:23, 10.96it/s]"
     ]
    },
    {
     "name": "stdout",
     "output_type": "stream",
     "text": [
      "!!!!!!!!!!!!!!!!!!!!!!!!!!!!!!!!!!!!!!!\n"
     ]
    },
    {
     "name": "stderr",
     "output_type": "stream",
     "text": [
      " 49%|███████████████████████████████████████                                         | 228/467 [00:21<00:21, 11.05it/s]"
     ]
    },
    {
     "name": "stdout",
     "output_type": "stream",
     "text": [
      "!!!!!!!!!!!!!!!!!!!!!!!!!!!!!!!!!!!!!!!\n",
      "!!!!!!!!!!!!!!!!!!!!!!!!!!!!!!!!!!!!!!!\n"
     ]
    },
    {
     "name": "stderr",
     "output_type": "stream",
     "text": [
      " 55%|████████████████████████████████████████████▏                                   | 258/467 [00:23<00:19, 10.96it/s]"
     ]
    },
    {
     "name": "stdout",
     "output_type": "stream",
     "text": [
      "!!!!!!!!!!!!!!!!!!!!!!!!!!!!!!!!!!!!!!!\n"
     ]
    },
    {
     "name": "stderr",
     "output_type": "stream",
     "text": [
      " 61%|████████████████████████████████████████████████▋                               | 284/467 [00:26<00:16, 10.81it/s]"
     ]
    },
    {
     "name": "stdout",
     "output_type": "stream",
     "text": [
      "!!!!!!!!!!!!!!!!!!!!!!!!!!!!!!!!!!!!!!!\n"
     ]
    },
    {
     "name": "stderr",
     "output_type": "stream",
     "text": [
      " 78%|██████████████████████████████████████████████████████████████▌                 | 365/467 [00:33<00:09, 10.69it/s]"
     ]
    },
    {
     "name": "stdout",
     "output_type": "stream",
     "text": [
      "!!!!!!!!!!!!!!!!!!!!!!!!!!!!!!!!!!!!!!!\n"
     ]
    },
    {
     "name": "stderr",
     "output_type": "stream",
     "text": [
      " 79%|███████████████████████████████████████████████████████████████▏                | 369/467 [00:33<00:09, 10.73it/s]"
     ]
    },
    {
     "name": "stdout",
     "output_type": "stream",
     "text": [
      "!!!!!!!!!!!!!!!!!!!!!!!!!!!!!!!!!!!!!!!\n"
     ]
    },
    {
     "name": "stderr",
     "output_type": "stream",
     "text": [
      " 80%|████████████████████████████████████████████████████████████████▏               | 375/467 [00:34<00:08, 10.78it/s]"
     ]
    },
    {
     "name": "stdout",
     "output_type": "stream",
     "text": [
      "!!!!!!!!!!!!!!!!!!!!!!!!!!!!!!!!!!!!!!!\n"
     ]
    },
    {
     "name": "stderr",
     "output_type": "stream",
     "text": [
      " 85%|████████████████████████████████████████████████████████████████████            | 397/467 [00:36<00:06, 10.96it/s]"
     ]
    },
    {
     "name": "stdout",
     "output_type": "stream",
     "text": [
      "!!!!!!!!!!!!!!!!!!!!!!!!!!!!!!!!!!!!!!!\n"
     ]
    },
    {
     "name": "stderr",
     "output_type": "stream",
     "text": [
      " 88%|██████████████████████████████████████████████████████████████████████▋         | 413/467 [00:38<00:04, 11.07it/s]"
     ]
    },
    {
     "name": "stdout",
     "output_type": "stream",
     "text": [
      "!!!!!!!!!!!!!!!!!!!!!!!!!!!!!!!!!!!!!!!\n"
     ]
    },
    {
     "name": "stderr",
     "output_type": "stream",
     "text": [
      " 97%|█████████████████████████████████████████████████████████████████████████████▉  | 455/467 [00:41<00:01, 10.90it/s]"
     ]
    },
    {
     "name": "stdout",
     "output_type": "stream",
     "text": [
      "!!!!!!!!!!!!!!!!!!!!!!!!!!!!!!!!!!!!!!!\n"
     ]
    },
    {
     "name": "stderr",
     "output_type": "stream",
     "text": [
      "100%|████████████████████████████████████████████████████████████████████████████████| 467/467 [00:43<00:00, 10.83it/s]\n"
     ]
    },
    {
     "name": "stdout",
     "output_type": "stream",
     "text": [
      "Level 3\n",
      "Level 4\n",
      "Accuracy: 0.8950749464668094\n",
      "Precision: [0.92972973 0.87234043]\n",
      "Recall: [0.82692308 0.94980695]\n",
      "F-Score: [0.87531807 0.90942699]\n",
      "Support: [208 259]\n",
      "Gausses: 9 Adjustment: -1\n",
      "Gaussian Equal\n",
      "-----------------------------------------------------------------------------------\n"
     ]
    },
    {
     "name": "stderr",
     "output_type": "stream",
     "text": [
      "  0%|▏                                                                                 | 2/905 [00:00<01:32,  9.73it/s]"
     ]
    },
    {
     "name": "stdout",
     "output_type": "stream",
     "text": [
      "Level 1\n",
      "Level 2\n"
     ]
    },
    {
     "name": "stderr",
     "output_type": "stream",
     "text": [
      "100%|████████████████████████████████████████████████████████████████████████████████| 905/905 [02:50<00:00,  5.30it/s]\n"
     ]
    },
    {
     "name": "stdout",
     "output_type": "stream",
     "text": [
      "Level 3\n",
      "Level 4\n",
      "Accuracy: 0.9823204419889503\n",
      "Precision: [0.99234694 0.97465887]\n",
      "Recall: [0.96766169 0.99403579]\n",
      "F-Score: [0.97984887 0.98425197]\n",
      "Support: [402 503]\n",
      "-----------------------------------------------------------------------------------\n"
     ]
    },
    {
     "name": "stderr",
     "output_type": "stream",
     "text": [
      "  0%|                                                                                          | 0/467 [00:00<?, ?it/s]"
     ]
    },
    {
     "name": "stdout",
     "output_type": "stream",
     "text": [
      "Level 1\n",
      "Level 2\n"
     ]
    },
    {
     "name": "stderr",
     "output_type": "stream",
     "text": [
      "100%|████████████████████████████████████████████████████████████████████████████████| 467/467 [01:31<00:00,  5.08it/s]\n"
     ]
    },
    {
     "name": "stdout",
     "output_type": "stream",
     "text": [
      "Level 3\n",
      "Level 4\n",
      "Accuracy: 0.9678800856531049\n",
      "Precision: [0.9800995  0.95864662]\n",
      "Recall: [0.94711538 0.98455598]\n",
      "F-Score: [0.96332518 0.97142857]\n",
      "Support: [208 259]\n",
      "Gausses: 9 Adjustment: -2\n",
      "Gaussian Equal\n",
      "-----------------------------------------------------------------------------------\n"
     ]
    },
    {
     "name": "stderr",
     "output_type": "stream",
     "text": [
      "  0%|▏                                                                                 | 2/905 [00:00<01:22, 10.91it/s]"
     ]
    },
    {
     "name": "stdout",
     "output_type": "stream",
     "text": [
      "Level 1\n",
      "Level 2\n"
     ]
    },
    {
     "name": "stderr",
     "output_type": "stream",
     "text": [
      "100%|████████████████████████████████████████████████████████████████████████████████| 905/905 [02:48<00:00,  5.36it/s]\n"
     ]
    },
    {
     "name": "stdout",
     "output_type": "stream",
     "text": [
      "Level 3\n",
      "Level 4\n",
      "Accuracy: 0.9845303867403314\n",
      "Precision: [1.        0.9729207]\n",
      "Recall: [0.96517413 1.        ]\n",
      "F-Score: [0.98227848 0.98627451]\n",
      "Support: [402 503]\n",
      "-----------------------------------------------------------------------------------\n"
     ]
    },
    {
     "name": "stderr",
     "output_type": "stream",
     "text": [
      "  0%|▎                                                                                 | 2/467 [00:00<00:44, 10.43it/s]"
     ]
    },
    {
     "name": "stdout",
     "output_type": "stream",
     "text": [
      "Level 1\n",
      "Level 2\n"
     ]
    },
    {
     "name": "stderr",
     "output_type": "stream",
     "text": [
      "100%|████████████████████████████████████████████████████████████████████████████████| 467/467 [01:27<00:00,  5.31it/s]\n"
     ]
    },
    {
     "name": "stdout",
     "output_type": "stream",
     "text": [
      "Level 3\n",
      "Level 4\n",
      "Accuracy: 0.9828693790149893\n",
      "Precision: [0.9950495  0.97358491]\n",
      "Recall: [0.96634615 0.996139  ]\n",
      "F-Score: [0.9804878  0.98473282]\n",
      "Support: [208 259]\n",
      "Gausses: 11 Adjustment: -1\n",
      "Gaussian Equal\n",
      "-----------------------------------------------------------------------------------\n"
     ]
    },
    {
     "name": "stderr",
     "output_type": "stream",
     "text": [
      "  0%|                                                                                          | 0/905 [00:00<?, ?it/s]"
     ]
    },
    {
     "name": "stdout",
     "output_type": "stream",
     "text": [
      "Level 1\n",
      "Level 2\n"
     ]
    },
    {
     "name": "stderr",
     "output_type": "stream",
     "text": [
      "100%|████████████████████████████████████████████████████████████████████████████████| 905/905 [05:02<00:00,  3.00it/s]\n"
     ]
    },
    {
     "name": "stdout",
     "output_type": "stream",
     "text": [
      "Level 3\n",
      "Level 4\n",
      "Accuracy: 0.7348066298342542\n",
      "Precision: [1.        0.6769852]\n",
      "Recall: [0.40298507 1.        ]\n",
      "F-Score: [0.57446809 0.80738363]\n",
      "Support: [402 503]\n",
      "-----------------------------------------------------------------------------------\n"
     ]
    },
    {
     "name": "stderr",
     "output_type": "stream",
     "text": [
      "  0%|                                                                                          | 0/467 [00:00<?, ?it/s]"
     ]
    },
    {
     "name": "stdout",
     "output_type": "stream",
     "text": [
      "Level 1\n",
      "Level 2\n"
     ]
    },
    {
     "name": "stderr",
     "output_type": "stream",
     "text": [
      "100%|████████████████████████████████████████████████████████████████████████████████| 467/467 [02:34<00:00,  3.03it/s]\n"
     ]
    },
    {
     "name": "stdout",
     "output_type": "stream",
     "text": [
      "Level 3\n",
      "Level 4\n",
      "Accuracy: 0.7730192719486081\n",
      "Precision: [1.         0.70958904]\n",
      "Recall: [0.49038462 1.        ]\n",
      "F-Score: [0.65806452 0.83012821]\n",
      "Support: [208 259]\n",
      "Gausses: 11 Adjustment: -2\n",
      "Gaussian Equal\n",
      "-----------------------------------------------------------------------------------\n"
     ]
    },
    {
     "name": "stderr",
     "output_type": "stream",
     "text": [
      "  0%|                                                                                          | 0/905 [00:00<?, ?it/s]"
     ]
    },
    {
     "name": "stdout",
     "output_type": "stream",
     "text": [
      "Level 1\n",
      "Level 2\n"
     ]
    },
    {
     "name": "stderr",
     "output_type": "stream",
     "text": [
      "100%|████████████████████████████████████████████████████████████████████████████████| 905/905 [05:33<00:00,  2.71it/s]\n"
     ]
    },
    {
     "name": "stdout",
     "output_type": "stream",
     "text": [
      "Level 3\n",
      "Level 4\n",
      "Accuracy: 1.0\n",
      "Precision: [1. 1.]\n",
      "Recall: [1. 1.]\n",
      "F-Score: [1. 1.]\n",
      "Support: [402 503]\n",
      "-----------------------------------------------------------------------------------\n"
     ]
    },
    {
     "name": "stderr",
     "output_type": "stream",
     "text": [
      "  0%|                                                                                          | 0/467 [00:00<?, ?it/s]"
     ]
    },
    {
     "name": "stdout",
     "output_type": "stream",
     "text": [
      "Level 1\n",
      "Level 2\n"
     ]
    },
    {
     "name": "stderr",
     "output_type": "stream",
     "text": [
      "100%|████████████████████████████████████████████████████████████████████████████████| 467/467 [02:53<00:00,  2.69it/s]"
     ]
    },
    {
     "name": "stdout",
     "output_type": "stream",
     "text": [
      "Level 3\n",
      "Level 4\n",
      "Accuracy: 0.9978586723768736\n",
      "Precision: [0.99521531 1.        ]\n",
      "Recall: [1.       0.996139]\n",
      "F-Score: [0.99760192 0.99806576]\n",
      "Support: [208 259]\n"
     ]
    },
    {
     "name": "stderr",
     "output_type": "stream",
     "text": [
      "\n"
     ]
    }
   ],
   "source": [
    "import Settings.GeneralSettings as generalSettings\n",
    "from Settings.SettingsDataBanknoteAuthentication import Settings as Settings\n",
    "\n",
    "helper = Helper()\n",
    "\n",
    "for gauss in [3, 5, 7, 9, 11]:\n",
    "    for adjustment in [-1, -2]:\n",
    "        print(\"Gausses: \" + str(gauss) + \" Adjustment: \" + str(adjustment))\n",
    "        generalSettings.gausses = gauss\n",
    "        generalSettings.style = \"Gaussian Equal\"\n",
    "        generalSettings.adjustment_value = adjustment\n",
    "        settings = Settings(generalSettings)        \n",
    "\n",
    "        loadCSV = LoadCSV()\n",
    "        samples_stats, train_stats, test_stats, train_samples = loadCSV.worker(settings)\n",
    "\n",
    "        fuzzify = Fuzzify()\n",
    "        changed_decisions, features_number_after_reduct, implicants_number, fuzzify_parameters, times = fuzzify.worker(settings, settings.adjustment_value)   \n",
    "\n",
    "        fuzzification_data = [settings.dataset_name, settings.style, settings.gausses, settings.adjustment, samples_stats, train_stats, test_stats, changed_decisions, round(changed_decisions / train_samples, 2), implicants_number, settings.feature_numbers, features_number_after_reduct]\n",
    "        helper.saveFuzzificationStats(fuzzification_data)\n",
    "\n",
    "        valueTest = ValueTest(settings, settings.s_function_width, settings.is_training)\n",
    "        valueTest.sOptymalizationWorker(settings, settings.default_s_value, settings.show_results)\n",
    "\n",
    "        valueTest = ValueTest(settings, settings.s_function_width, not settings.is_training)\n",
    "        valueTest.sOptymalizationWorker(settings, settings.default_s_value, settings.show_results)"
   ]
  },
  {
   "cell_type": "code",
   "execution_count": 2,
   "metadata": {},
   "outputs": [
    {
     "name": "stdout",
     "output_type": "stream",
     "text": [
      "Gausses: 3 Adjustment: -1\n",
      "Gaussian Progressive\n"
     ]
    },
    {
     "name": "stderr",
     "output_type": "stream",
     "text": [
      "  1%|▉                                                                                | 10/905 [00:00<00:09, 91.97it/s]"
     ]
    },
    {
     "name": "stdout",
     "output_type": "stream",
     "text": [
      "-----------------------------------------------------------------------------------\n",
      "Level 1\n",
      "Level 2\n"
     ]
    },
    {
     "name": "stderr",
     "output_type": "stream",
     "text": [
      "100%|████████████████████████████████████████████████████████████████████████████████| 905/905 [00:11<00:00, 82.10it/s]\n"
     ]
    },
    {
     "name": "stdout",
     "output_type": "stream",
     "text": [
      "Level 3\n",
      "Level 4\n",
      "Accuracy: 0.8552486187845304\n",
      "Precision: [1.         0.79337539]\n",
      "Recall: [0.67412935 1.        ]\n",
      "F-Score: [0.80534918 0.88478452]\n",
      "Support: [402 503]\n"
     ]
    },
    {
     "name": "stderr",
     "output_type": "stream",
     "text": [
      "  2%|█▌                                                                                | 9/467 [00:00<00:05, 84.37it/s]"
     ]
    },
    {
     "name": "stdout",
     "output_type": "stream",
     "text": [
      "-----------------------------------------------------------------------------------\n",
      "Level 1\n",
      "Level 2\n"
     ]
    },
    {
     "name": "stderr",
     "output_type": "stream",
     "text": [
      "100%|████████████████████████████████████████████████████████████████████████████████| 467/467 [00:05<00:00, 79.63it/s]\n"
     ]
    },
    {
     "name": "stdout",
     "output_type": "stream",
     "text": [
      "Level 3\n",
      "Level 4\n",
      "Accuracy: 0.8394004282655246\n",
      "Precision: [1.        0.7754491]\n",
      "Recall: [0.63942308 1.        ]\n",
      "F-Score: [0.78005865 0.87352445]\n",
      "Support: [208 259]\n",
      "Gausses: 3 Adjustment: -2\n",
      "Gaussian Progressive\n"
     ]
    },
    {
     "name": "stderr",
     "output_type": "stream",
     "text": [
      "  1%|▊                                                                                 | 9/905 [00:00<00:10, 87.61it/s]"
     ]
    },
    {
     "name": "stdout",
     "output_type": "stream",
     "text": [
      "-----------------------------------------------------------------------------------\n",
      "Level 1\n",
      "Level 2\n"
     ]
    },
    {
     "name": "stderr",
     "output_type": "stream",
     "text": [
      "100%|████████████████████████████████████████████████████████████████████████████████| 905/905 [00:11<00:00, 76.48it/s]\n"
     ]
    },
    {
     "name": "stdout",
     "output_type": "stream",
     "text": [
      "Level 3\n",
      "Level 4\n",
      "Accuracy: 0.8022099447513812\n",
      "Precision: [0.6919105 1.       ]\n",
      "Recall: [1.         0.64413519]\n",
      "F-Score: [0.81790437 0.78355502]\n",
      "Support: [402 503]\n"
     ]
    },
    {
     "name": "stderr",
     "output_type": "stream",
     "text": [
      "  1%|█▏                                                                                | 7/467 [00:00<00:06, 68.81it/s]"
     ]
    },
    {
     "name": "stdout",
     "output_type": "stream",
     "text": [
      "-----------------------------------------------------------------------------------\n",
      "Level 1\n",
      "Level 2\n"
     ]
    },
    {
     "name": "stderr",
     "output_type": "stream",
     "text": [
      "100%|████████████████████████████████████████████████████████████████████████████████| 467/467 [00:06<00:00, 71.56it/s]\n"
     ]
    },
    {
     "name": "stdout",
     "output_type": "stream",
     "text": [
      "Level 3\n",
      "Level 4\n",
      "Accuracy: 0.8029978586723768\n",
      "Precision: [0.69463087 0.99408284]\n",
      "Recall: [0.99519231 0.64864865]\n",
      "F-Score: [0.81818182 0.78504673]\n",
      "Support: [208 259]\n",
      "Gausses: 5 Adjustment: -1\n",
      "Gaussian Progressive\n"
     ]
    },
    {
     "name": "stderr",
     "output_type": "stream",
     "text": [
      "  0%|                                                                                          | 0/905 [00:00<?, ?it/s]"
     ]
    },
    {
     "name": "stdout",
     "output_type": "stream",
     "text": [
      "-----------------------------------------------------------------------------------\n",
      "Level 1\n",
      "Level 2\n"
     ]
    },
    {
     "name": "stderr",
     "output_type": "stream",
     "text": [
      "100%|████████████████████████████████████████████████████████████████████████████████| 905/905 [01:24<00:00, 10.70it/s]\n"
     ]
    },
    {
     "name": "stdout",
     "output_type": "stream",
     "text": [
      "Level 3\n",
      "Level 4\n",
      "Accuracy: 0.9867403314917127\n",
      "Precision: [1.         0.97669903]\n",
      "Recall: [0.97014925 1.        ]\n",
      "F-Score: [0.98484848 0.98821218]\n",
      "Support: [402 503]\n"
     ]
    },
    {
     "name": "stderr",
     "output_type": "stream",
     "text": [
      "  0%|                                                                                          | 0/467 [00:00<?, ?it/s]"
     ]
    },
    {
     "name": "stdout",
     "output_type": "stream",
     "text": [
      "-----------------------------------------------------------------------------------\n",
      "Level 1\n",
      "Level 2\n"
     ]
    },
    {
     "name": "stderr",
     "output_type": "stream",
     "text": [
      "100%|████████████████████████████████████████████████████████████████████████████████| 467/467 [00:49<00:00,  9.49it/s]\n"
     ]
    },
    {
     "name": "stdout",
     "output_type": "stream",
     "text": [
      "Level 3\n",
      "Level 4\n",
      "Accuracy: 0.987152034261242\n",
      "Precision: [0.98557692 0.98841699]\n",
      "Recall: [0.98557692 0.98841699]\n",
      "F-Score: [0.98557692 0.98841699]\n",
      "Support: [208 259]\n",
      "Gausses: 5 Adjustment: -2\n",
      "Gaussian Progressive\n"
     ]
    },
    {
     "name": "stderr",
     "output_type": "stream",
     "text": [
      "  0%|▎                                                                                 | 3/905 [00:00<00:38, 23.42it/s]"
     ]
    },
    {
     "name": "stdout",
     "output_type": "stream",
     "text": [
      "-----------------------------------------------------------------------------------\n",
      "Level 1\n",
      "Level 2\n"
     ]
    },
    {
     "name": "stderr",
     "output_type": "stream",
     "text": [
      "100%|████████████████████████████████████████████████████████████████████████████████| 905/905 [00:49<00:00, 18.21it/s]\n"
     ]
    },
    {
     "name": "stdout",
     "output_type": "stream",
     "text": [
      "Level 3\n",
      "Level 4\n",
      "Accuracy: 0.938121546961326\n",
      "Precision: [1.         0.89982111]\n",
      "Recall: [0.86069652 1.        ]\n",
      "F-Score: [0.92513369 0.9472693 ]\n",
      "Support: [402 503]\n"
     ]
    },
    {
     "name": "stderr",
     "output_type": "stream",
     "text": [
      "  1%|▌                                                                                 | 3/467 [00:00<00:16, 28.11it/s]"
     ]
    },
    {
     "name": "stdout",
     "output_type": "stream",
     "text": [
      "-----------------------------------------------------------------------------------\n",
      "Level 1\n",
      "Level 2\n"
     ]
    },
    {
     "name": "stderr",
     "output_type": "stream",
     "text": [
      "100%|████████████████████████████████████████████████████████████████████████████████| 467/467 [00:24<00:00, 18.92it/s]\n"
     ]
    },
    {
     "name": "stdout",
     "output_type": "stream",
     "text": [
      "Level 3\n",
      "Level 4\n",
      "Accuracy: 0.9164882226980728\n",
      "Precision: [0.98285714 0.87671233]\n",
      "Recall: [0.82692308 0.98841699]\n",
      "F-Score: [0.89817232 0.9292196 ]\n",
      "Support: [208 259]\n",
      "Gausses: 7 Adjustment: -1\n",
      "Gaussian Progressive\n"
     ]
    },
    {
     "ename": "KeyboardInterrupt",
     "evalue": "",
     "output_type": "error",
     "traceback": [
      "\u001b[1;31m---------------------------------------------------------------------------\u001b[0m",
      "\u001b[1;31mKeyboardInterrupt\u001b[0m                         Traceback (most recent call last)",
      "\u001b[1;32m<ipython-input-2-41454710f8fb>\u001b[0m in \u001b[0;36m<module>\u001b[1;34m\u001b[0m\n\u001b[0;32m     16\u001b[0m \u001b[1;33m\u001b[0m\u001b[0m\n\u001b[0;32m     17\u001b[0m         \u001b[0mfuzzify\u001b[0m \u001b[1;33m=\u001b[0m \u001b[0mFuzzify\u001b[0m\u001b[1;33m(\u001b[0m\u001b[1;33m)\u001b[0m\u001b[1;33m\u001b[0m\u001b[1;33m\u001b[0m\u001b[0m\n\u001b[1;32m---> 18\u001b[1;33m         \u001b[0mchanged_decisions\u001b[0m\u001b[1;33m,\u001b[0m \u001b[0mfeatures_number_after_reduct\u001b[0m\u001b[1;33m,\u001b[0m \u001b[0mimplicants_number\u001b[0m\u001b[1;33m,\u001b[0m \u001b[0mfuzzify_parameters\u001b[0m\u001b[1;33m,\u001b[0m \u001b[0mtimes\u001b[0m \u001b[1;33m=\u001b[0m \u001b[0mfuzzify\u001b[0m\u001b[1;33m.\u001b[0m\u001b[0mworker\u001b[0m\u001b[1;33m(\u001b[0m\u001b[0msettings\u001b[0m\u001b[1;33m,\u001b[0m \u001b[0msettings\u001b[0m\u001b[1;33m.\u001b[0m\u001b[0madjustment_value\u001b[0m\u001b[1;33m)\u001b[0m\u001b[1;33m\u001b[0m\u001b[1;33m\u001b[0m\u001b[0m\n\u001b[0m\u001b[0;32m     19\u001b[0m \u001b[1;33m\u001b[0m\u001b[0m\n\u001b[0;32m     20\u001b[0m         \u001b[0mfuzzification_data\u001b[0m \u001b[1;33m=\u001b[0m \u001b[1;33m[\u001b[0m\u001b[0msettings\u001b[0m\u001b[1;33m.\u001b[0m\u001b[0mdataset_name\u001b[0m\u001b[1;33m,\u001b[0m \u001b[0msettings\u001b[0m\u001b[1;33m.\u001b[0m\u001b[0mstyle\u001b[0m\u001b[1;33m,\u001b[0m \u001b[0msettings\u001b[0m\u001b[1;33m.\u001b[0m\u001b[0mgausses\u001b[0m\u001b[1;33m,\u001b[0m \u001b[0msettings\u001b[0m\u001b[1;33m.\u001b[0m\u001b[0madjustment\u001b[0m\u001b[1;33m,\u001b[0m \u001b[0msamples_stats\u001b[0m\u001b[1;33m,\u001b[0m \u001b[0mtrain_stats\u001b[0m\u001b[1;33m,\u001b[0m \u001b[0mtest_stats\u001b[0m\u001b[1;33m,\u001b[0m \u001b[0mchanged_decisions\u001b[0m\u001b[1;33m,\u001b[0m \u001b[0mround\u001b[0m\u001b[1;33m(\u001b[0m\u001b[0mchanged_decisions\u001b[0m \u001b[1;33m/\u001b[0m \u001b[0mtrain_samples\u001b[0m\u001b[1;33m,\u001b[0m \u001b[1;36m2\u001b[0m\u001b[1;33m)\u001b[0m\u001b[1;33m,\u001b[0m \u001b[0mimplicants_number\u001b[0m\u001b[1;33m,\u001b[0m \u001b[0msettings\u001b[0m\u001b[1;33m.\u001b[0m\u001b[0mfeature_numbers\u001b[0m\u001b[1;33m,\u001b[0m \u001b[0mfeatures_number_after_reduct\u001b[0m\u001b[1;33m]\u001b[0m\u001b[1;33m\u001b[0m\u001b[1;33m\u001b[0m\u001b[0m\n",
      "\u001b[1;32m~\\Ki67-master\\Scripts\\Fuzzify.py\u001b[0m in \u001b[0;36mworker\u001b[1;34m(self, settings, sigma_mean_params, sigma_offset)\u001b[0m\n\u001b[0;32m     53\u001b[0m         \u001b[0mstart\u001b[0m \u001b[1;33m=\u001b[0m \u001b[0mtime\u001b[0m\u001b[1;33m.\u001b[0m\u001b[0mtime\u001b[0m\u001b[1;33m(\u001b[0m\u001b[1;33m)\u001b[0m\u001b[1;33m\u001b[0m\u001b[1;33m\u001b[0m\u001b[0m\n\u001b[0;32m     54\u001b[0m         \u001b[0mself\u001b[0m\u001b[1;33m.\u001b[0m\u001b[0msettings\u001b[0m \u001b[1;33m=\u001b[0m \u001b[0msettings\u001b[0m\u001b[1;33m\u001b[0m\u001b[1;33m\u001b[0m\u001b[0m\n\u001b[1;32m---> 55\u001b[1;33m         \u001b[0mchanged_decisions\u001b[0m\u001b[1;33m,\u001b[0m \u001b[0mfeatures_number_after_reduct\u001b[0m\u001b[1;33m,\u001b[0m \u001b[0mimplicants_number\u001b[0m\u001b[1;33m,\u001b[0m \u001b[0mfuzzify_parameters\u001b[0m \u001b[1;33m=\u001b[0m \u001b[0mself\u001b[0m\u001b[1;33m.\u001b[0m\u001b[0mfuzzifyFeatures\u001b[0m\u001b[1;33m(\u001b[0m\u001b[1;33m-\u001b[0m\u001b[1;36m1\u001b[0m\u001b[1;33m,\u001b[0m \u001b[0msigma_mean_params\u001b[0m\u001b[1;33m,\u001b[0m \u001b[0msigma_offset\u001b[0m\u001b[1;33m)\u001b[0m\u001b[1;33m\u001b[0m\u001b[1;33m\u001b[0m\u001b[0m\n\u001b[0m\u001b[0;32m     56\u001b[0m         \u001b[0mend\u001b[0m \u001b[1;33m=\u001b[0m \u001b[0mtime\u001b[0m\u001b[1;33m.\u001b[0m\u001b[0mtime\u001b[0m\u001b[1;33m(\u001b[0m\u001b[1;33m)\u001b[0m\u001b[1;33m\u001b[0m\u001b[1;33m\u001b[0m\u001b[0m\n\u001b[0;32m     57\u001b[0m         \u001b[1;32mreturn\u001b[0m \u001b[0mchanged_decisions\u001b[0m\u001b[1;33m,\u001b[0m \u001b[0mfeatures_number_after_reduct\u001b[0m\u001b[1;33m,\u001b[0m \u001b[0mimplicants_number\u001b[0m\u001b[1;33m,\u001b[0m \u001b[0mfuzzify_parameters\u001b[0m\u001b[1;33m,\u001b[0m \u001b[0mend\u001b[0m \u001b[1;33m-\u001b[0m \u001b[0mstart\u001b[0m\u001b[1;33m\u001b[0m\u001b[1;33m\u001b[0m\u001b[0m\n",
      "\u001b[1;32m~\\Ki67-master\\Scripts\\Fuzzify.py\u001b[0m in \u001b[0;36mfuzzifyFeatures\u001b[1;34m(self, train_features_df, sigma_mean_params, sigma_offset)\u001b[0m\n\u001b[0;32m     35\u001b[0m \u001b[1;33m\u001b[0m\u001b[0m\n\u001b[0;32m     36\u001b[0m         \u001b[0minconsistencies_remover\u001b[0m \u001b[1;33m=\u001b[0m \u001b[0mInconsistenciesRemover\u001b[0m\u001b[1;33m(\u001b[0m\u001b[0mtrain_fuzzified_features_df\u001b[0m\u001b[1;33m,\u001b[0m \u001b[0mfeature_labels\u001b[0m\u001b[1;33m,\u001b[0m \u001b[0mself\u001b[0m\u001b[1;33m.\u001b[0m\u001b[0msettings\u001b[0m\u001b[1;33m)\u001b[0m\u001b[1;33m\u001b[0m\u001b[1;33m\u001b[0m\u001b[0m\n\u001b[1;32m---> 37\u001b[1;33m         \u001b[0mdecision_table\u001b[0m\u001b[1;33m,\u001b[0m \u001b[0mchanged_decisions\u001b[0m \u001b[1;33m=\u001b[0m \u001b[0minconsistencies_remover\u001b[0m\u001b[1;33m.\u001b[0m\u001b[0minconsistenciesRemoving\u001b[0m\u001b[1;33m(\u001b[0m\u001b[1;33m)\u001b[0m\u001b[1;33m\u001b[0m\u001b[1;33m\u001b[0m\u001b[0m\n\u001b[0m\u001b[0;32m     38\u001b[0m         \u001b[0mreductor\u001b[0m \u001b[1;33m=\u001b[0m \u001b[0mReductor\u001b[0m\u001b[1;33m(\u001b[0m\u001b[0mdecision_table\u001b[0m\u001b[1;33m,\u001b[0m \u001b[0mself\u001b[0m\u001b[1;33m.\u001b[0m\u001b[0msettings\u001b[0m\u001b[1;33m)\u001b[0m\u001b[1;33m\u001b[0m\u001b[1;33m\u001b[0m\u001b[0m\n\u001b[0;32m     39\u001b[0m \u001b[1;33m\u001b[0m\u001b[0m\n",
      "\u001b[1;32m~\\Ki67-master\\Class\\InconsistenciesRemover.py\u001b[0m in \u001b[0;36minconsistenciesRemoving\u001b[1;34m(self)\u001b[0m\n\u001b[0;32m    160\u001b[0m             \u001b[0mdisplay\u001b[0m\u001b[1;33m(\u001b[0m\u001b[0mproblems_to_solve\u001b[0m\u001b[1;33m)\u001b[0m\u001b[1;33m\u001b[0m\u001b[1;33m\u001b[0m\u001b[0m\n\u001b[0;32m    161\u001b[0m \u001b[1;33m\u001b[0m\u001b[0m\n\u001b[1;32m--> 162\u001b[1;33m         features_decisions_occurence = self.solveConflicts(\n\u001b[0m\u001b[0;32m    163\u001b[0m             \u001b[0mnumber_of_conflicts_decision\u001b[0m\u001b[1;33m,\u001b[0m \u001b[0mproblems_to_solve\u001b[0m\u001b[1;33m,\u001b[0m\u001b[1;33m\u001b[0m\u001b[1;33m\u001b[0m\u001b[0m\n\u001b[0;32m    164\u001b[0m             features_decisions_occurence, number_of_clear_decision, general_features_occurence)\n",
      "\u001b[1;32m~\\Ki67-master\\Class\\InconsistenciesRemover.py\u001b[0m in \u001b[0;36msolveConflicts\u001b[1;34m(self, number_of_conflicts_decision, problems_to_solve, features_decisions_occurence, number_of_clear_decision, general_features_occurence)\u001b[0m\n\u001b[0;32m     98\u001b[0m             \u001b[0mnew_value\u001b[0m \u001b[1;33m=\u001b[0m \u001b[0mnew_df\u001b[0m\u001b[1;33m.\u001b[0m\u001b[0mloc\u001b[0m\u001b[1;33m[\u001b[0m\u001b[0mnew_df\u001b[0m\u001b[1;33m[\u001b[0m\u001b[1;34m'Probability'\u001b[0m\u001b[1;33m]\u001b[0m\u001b[1;33m.\u001b[0m\u001b[0midxmax\u001b[0m\u001b[1;33m(\u001b[0m\u001b[1;33m)\u001b[0m\u001b[1;33m]\u001b[0m\u001b[1;33m[\u001b[0m\u001b[1;34m'Decision'\u001b[0m\u001b[1;33m]\u001b[0m\u001b[1;33m[\u001b[0m\u001b[1;36m0\u001b[0m\u001b[1;33m]\u001b[0m\u001b[1;33m\u001b[0m\u001b[1;33m\u001b[0m\u001b[0m\n\u001b[0;32m     99\u001b[0m             \u001b[1;32mfor\u001b[0m \u001b[0midx\u001b[0m\u001b[1;33m,\u001b[0m \u001b[0mrow_decision_table\u001b[0m \u001b[1;32min\u001b[0m \u001b[0mfeatures_decisions_occurence\u001b[0m\u001b[1;33m.\u001b[0m\u001b[0miterrows\u001b[0m\u001b[1;33m(\u001b[0m\u001b[1;33m)\u001b[0m\u001b[1;33m:\u001b[0m\u001b[1;33m\u001b[0m\u001b[1;33m\u001b[0m\u001b[0m\n\u001b[1;32m--> 100\u001b[1;33m                 \u001b[1;32mif\u001b[0m \u001b[1;33m(\u001b[0m\u001b[0mrow\u001b[0m\u001b[1;33m[\u001b[0m\u001b[0mself\u001b[0m\u001b[1;33m.\u001b[0m\u001b[0mfeature_labels\u001b[0m\u001b[1;33m]\u001b[0m\u001b[1;33m.\u001b[0m\u001b[0mvalues\u001b[0m \u001b[1;33m==\u001b[0m \u001b[0mrow_decision_table\u001b[0m\u001b[1;33m[\u001b[0m\u001b[0mself\u001b[0m\u001b[1;33m.\u001b[0m\u001b[0mfeature_labels\u001b[0m\u001b[1;33m]\u001b[0m\u001b[1;33m)\u001b[0m\u001b[1;33m.\u001b[0m\u001b[0mall\u001b[0m\u001b[1;33m(\u001b[0m\u001b[1;33m)\u001b[0m\u001b[1;33m:\u001b[0m\u001b[1;33m\u001b[0m\u001b[1;33m\u001b[0m\u001b[0m\n\u001b[0m\u001b[0;32m    101\u001b[0m                         \u001b[1;32mif\u001b[0m \u001b[0mfeatures_decisions_occurence\u001b[0m\u001b[1;33m.\u001b[0m\u001b[0mloc\u001b[0m\u001b[1;33m[\u001b[0m\u001b[0mfeatures_decisions_occurence\u001b[0m\u001b[1;33m.\u001b[0m\u001b[0mindex\u001b[0m \u001b[1;33m==\u001b[0m \u001b[0midx\u001b[0m\u001b[1;33m]\u001b[0m\u001b[1;33m.\u001b[0m\u001b[0mDecision\u001b[0m\u001b[1;33m.\u001b[0m\u001b[0mvalues\u001b[0m\u001b[1;33m[\u001b[0m\u001b[1;36m0\u001b[0m\u001b[1;33m]\u001b[0m \u001b[1;33m!=\u001b[0m \u001b[0mnew_value\u001b[0m\u001b[1;33m:\u001b[0m\u001b[1;33m\u001b[0m\u001b[1;33m\u001b[0m\u001b[0m\n\u001b[0;32m    102\u001b[0m                             \u001b[1;31m# if self.settings.show_results:\u001b[0m\u001b[1;33m\u001b[0m\u001b[1;33m\u001b[0m\u001b[1;33m\u001b[0m\u001b[0m\n",
      "\u001b[1;32mF:\\Anaconda\\envs\\Fuzzy_Systems_Program\\lib\\site-packages\\pandas\\core\\series.py\u001b[0m in \u001b[0;36m__getitem__\u001b[1;34m(self, key)\u001b[0m\n\u001b[0;32m    904\u001b[0m             \u001b[1;32mreturn\u001b[0m \u001b[0mself\u001b[0m\u001b[1;33m.\u001b[0m\u001b[0m_get_values\u001b[0m\u001b[1;33m(\u001b[0m\u001b[0mkey\u001b[0m\u001b[1;33m)\u001b[0m\u001b[1;33m\u001b[0m\u001b[1;33m\u001b[0m\u001b[0m\n\u001b[0;32m    905\u001b[0m \u001b[1;33m\u001b[0m\u001b[0m\n\u001b[1;32m--> 906\u001b[1;33m         \u001b[1;32mreturn\u001b[0m \u001b[0mself\u001b[0m\u001b[1;33m.\u001b[0m\u001b[0m_get_with\u001b[0m\u001b[1;33m(\u001b[0m\u001b[0mkey\u001b[0m\u001b[1;33m)\u001b[0m\u001b[1;33m\u001b[0m\u001b[1;33m\u001b[0m\u001b[0m\n\u001b[0m\u001b[0;32m    907\u001b[0m \u001b[1;33m\u001b[0m\u001b[0m\n\u001b[0;32m    908\u001b[0m     \u001b[1;32mdef\u001b[0m \u001b[0m_get_with\u001b[0m\u001b[1;33m(\u001b[0m\u001b[0mself\u001b[0m\u001b[1;33m,\u001b[0m \u001b[0mkey\u001b[0m\u001b[1;33m)\u001b[0m\u001b[1;33m:\u001b[0m\u001b[1;33m\u001b[0m\u001b[1;33m\u001b[0m\u001b[0m\n",
      "\u001b[1;32mF:\\Anaconda\\envs\\Fuzzy_Systems_Program\\lib\\site-packages\\pandas\\core\\series.py\u001b[0m in \u001b[0;36m_get_with\u001b[1;34m(self, key)\u001b[0m\n\u001b[0;32m    944\u001b[0m \u001b[1;33m\u001b[0m\u001b[0m\n\u001b[0;32m    945\u001b[0m         \u001b[1;31m# handle the dup indexing case GH#4246\u001b[0m\u001b[1;33m\u001b[0m\u001b[1;33m\u001b[0m\u001b[1;33m\u001b[0m\u001b[0m\n\u001b[1;32m--> 946\u001b[1;33m         \u001b[1;32mreturn\u001b[0m \u001b[0mself\u001b[0m\u001b[1;33m.\u001b[0m\u001b[0mloc\u001b[0m\u001b[1;33m[\u001b[0m\u001b[0mkey\u001b[0m\u001b[1;33m]\u001b[0m\u001b[1;33m\u001b[0m\u001b[1;33m\u001b[0m\u001b[0m\n\u001b[0m\u001b[0;32m    947\u001b[0m \u001b[1;33m\u001b[0m\u001b[0m\n\u001b[0;32m    948\u001b[0m     \u001b[1;32mdef\u001b[0m \u001b[0m_get_values_tuple\u001b[0m\u001b[1;33m(\u001b[0m\u001b[0mself\u001b[0m\u001b[1;33m,\u001b[0m \u001b[0mkey\u001b[0m\u001b[1;33m)\u001b[0m\u001b[1;33m:\u001b[0m\u001b[1;33m\u001b[0m\u001b[1;33m\u001b[0m\u001b[0m\n",
      "\u001b[1;32mF:\\Anaconda\\envs\\Fuzzy_Systems_Program\\lib\\site-packages\\pandas\\core\\indexing.py\u001b[0m in \u001b[0;36m__getitem__\u001b[1;34m(self, key)\u001b[0m\n\u001b[0;32m    877\u001b[0m \u001b[1;33m\u001b[0m\u001b[0m\n\u001b[0;32m    878\u001b[0m             \u001b[0mmaybe_callable\u001b[0m \u001b[1;33m=\u001b[0m \u001b[0mcom\u001b[0m\u001b[1;33m.\u001b[0m\u001b[0mapply_if_callable\u001b[0m\u001b[1;33m(\u001b[0m\u001b[0mkey\u001b[0m\u001b[1;33m,\u001b[0m \u001b[0mself\u001b[0m\u001b[1;33m.\u001b[0m\u001b[0mobj\u001b[0m\u001b[1;33m)\u001b[0m\u001b[1;33m\u001b[0m\u001b[1;33m\u001b[0m\u001b[0m\n\u001b[1;32m--> 879\u001b[1;33m             \u001b[1;32mreturn\u001b[0m \u001b[0mself\u001b[0m\u001b[1;33m.\u001b[0m\u001b[0m_getitem_axis\u001b[0m\u001b[1;33m(\u001b[0m\u001b[0mmaybe_callable\u001b[0m\u001b[1;33m,\u001b[0m \u001b[0maxis\u001b[0m\u001b[1;33m=\u001b[0m\u001b[0maxis\u001b[0m\u001b[1;33m)\u001b[0m\u001b[1;33m\u001b[0m\u001b[1;33m\u001b[0m\u001b[0m\n\u001b[0m\u001b[0;32m    880\u001b[0m \u001b[1;33m\u001b[0m\u001b[0m\n\u001b[0;32m    881\u001b[0m     \u001b[1;32mdef\u001b[0m \u001b[0m_is_scalar_access\u001b[0m\u001b[1;33m(\u001b[0m\u001b[0mself\u001b[0m\u001b[1;33m,\u001b[0m \u001b[0mkey\u001b[0m\u001b[1;33m:\u001b[0m \u001b[0mTuple\u001b[0m\u001b[1;33m)\u001b[0m\u001b[1;33m:\u001b[0m\u001b[1;33m\u001b[0m\u001b[1;33m\u001b[0m\u001b[0m\n",
      "\u001b[1;32mF:\\Anaconda\\envs\\Fuzzy_Systems_Program\\lib\\site-packages\\pandas\\core\\indexing.py\u001b[0m in \u001b[0;36m_getitem_axis\u001b[1;34m(self, key, axis)\u001b[0m\n\u001b[0;32m   1097\u001b[0m                     \u001b[1;32mraise\u001b[0m \u001b[0mValueError\u001b[0m\u001b[1;33m(\u001b[0m\u001b[1;34m\"Cannot index with multidimensional key\"\u001b[0m\u001b[1;33m)\u001b[0m\u001b[1;33m\u001b[0m\u001b[1;33m\u001b[0m\u001b[0m\n\u001b[0;32m   1098\u001b[0m \u001b[1;33m\u001b[0m\u001b[0m\n\u001b[1;32m-> 1099\u001b[1;33m                 \u001b[1;32mreturn\u001b[0m \u001b[0mself\u001b[0m\u001b[1;33m.\u001b[0m\u001b[0m_getitem_iterable\u001b[0m\u001b[1;33m(\u001b[0m\u001b[0mkey\u001b[0m\u001b[1;33m,\u001b[0m \u001b[0maxis\u001b[0m\u001b[1;33m=\u001b[0m\u001b[0maxis\u001b[0m\u001b[1;33m)\u001b[0m\u001b[1;33m\u001b[0m\u001b[1;33m\u001b[0m\u001b[0m\n\u001b[0m\u001b[0;32m   1100\u001b[0m \u001b[1;33m\u001b[0m\u001b[0m\n\u001b[0;32m   1101\u001b[0m             \u001b[1;31m# nested tuple slicing\u001b[0m\u001b[1;33m\u001b[0m\u001b[1;33m\u001b[0m\u001b[1;33m\u001b[0m\u001b[0m\n",
      "\u001b[1;32mF:\\Anaconda\\envs\\Fuzzy_Systems_Program\\lib\\site-packages\\pandas\\core\\indexing.py\u001b[0m in \u001b[0;36m_getitem_iterable\u001b[1;34m(self, key, axis)\u001b[0m\n\u001b[0;32m   1036\u001b[0m         \u001b[1;31m# A collection of keys\u001b[0m\u001b[1;33m\u001b[0m\u001b[1;33m\u001b[0m\u001b[1;33m\u001b[0m\u001b[0m\n\u001b[0;32m   1037\u001b[0m         \u001b[0mkeyarr\u001b[0m\u001b[1;33m,\u001b[0m \u001b[0mindexer\u001b[0m \u001b[1;33m=\u001b[0m \u001b[0mself\u001b[0m\u001b[1;33m.\u001b[0m\u001b[0m_get_listlike_indexer\u001b[0m\u001b[1;33m(\u001b[0m\u001b[0mkey\u001b[0m\u001b[1;33m,\u001b[0m \u001b[0maxis\u001b[0m\u001b[1;33m,\u001b[0m \u001b[0mraise_missing\u001b[0m\u001b[1;33m=\u001b[0m\u001b[1;32mFalse\u001b[0m\u001b[1;33m)\u001b[0m\u001b[1;33m\u001b[0m\u001b[1;33m\u001b[0m\u001b[0m\n\u001b[1;32m-> 1038\u001b[1;33m         return self.obj._reindex_with_indexers(\n\u001b[0m\u001b[0;32m   1039\u001b[0m             \u001b[1;33m{\u001b[0m\u001b[0maxis\u001b[0m\u001b[1;33m:\u001b[0m \u001b[1;33m[\u001b[0m\u001b[0mkeyarr\u001b[0m\u001b[1;33m,\u001b[0m \u001b[0mindexer\u001b[0m\u001b[1;33m]\u001b[0m\u001b[1;33m}\u001b[0m\u001b[1;33m,\u001b[0m \u001b[0mcopy\u001b[0m\u001b[1;33m=\u001b[0m\u001b[1;32mTrue\u001b[0m\u001b[1;33m,\u001b[0m \u001b[0mallow_dups\u001b[0m\u001b[1;33m=\u001b[0m\u001b[1;32mTrue\u001b[0m\u001b[1;33m\u001b[0m\u001b[1;33m\u001b[0m\u001b[0m\n\u001b[0;32m   1040\u001b[0m         )\n",
      "\u001b[1;32mF:\\Anaconda\\envs\\Fuzzy_Systems_Program\\lib\\site-packages\\pandas\\core\\generic.py\u001b[0m in \u001b[0;36m_reindex_with_indexers\u001b[1;34m(self, reindexers, fill_value, copy, allow_dups)\u001b[0m\n\u001b[0;32m   4522\u001b[0m \u001b[1;33m\u001b[0m\u001b[0m\n\u001b[0;32m   4523\u001b[0m             \u001b[1;31m# TODO: speed up on homogeneous DataFrame objects\u001b[0m\u001b[1;33m\u001b[0m\u001b[1;33m\u001b[0m\u001b[1;33m\u001b[0m\u001b[0m\n\u001b[1;32m-> 4524\u001b[1;33m             new_data = new_data.reindex_indexer(\n\u001b[0m\u001b[0;32m   4525\u001b[0m                 \u001b[0mindex\u001b[0m\u001b[1;33m,\u001b[0m\u001b[1;33m\u001b[0m\u001b[1;33m\u001b[0m\u001b[0m\n\u001b[0;32m   4526\u001b[0m                 \u001b[0mindexer\u001b[0m\u001b[1;33m,\u001b[0m\u001b[1;33m\u001b[0m\u001b[1;33m\u001b[0m\u001b[0m\n",
      "\u001b[1;32mF:\\Anaconda\\envs\\Fuzzy_Systems_Program\\lib\\site-packages\\pandas\\core\\internals\\managers.py\u001b[0m in \u001b[0;36mreindex_indexer\u001b[1;34m(self, new_axis, indexer, axis, fill_value, allow_dups, copy, consolidate)\u001b[0m\n\u001b[0;32m   1280\u001b[0m \u001b[1;33m\u001b[0m\u001b[0m\n\u001b[0;32m   1281\u001b[0m         \u001b[1;32mif\u001b[0m \u001b[0maxis\u001b[0m \u001b[1;33m==\u001b[0m \u001b[1;36m0\u001b[0m\u001b[1;33m:\u001b[0m\u001b[1;33m\u001b[0m\u001b[1;33m\u001b[0m\u001b[0m\n\u001b[1;32m-> 1282\u001b[1;33m             \u001b[0mnew_blocks\u001b[0m \u001b[1;33m=\u001b[0m \u001b[0mself\u001b[0m\u001b[1;33m.\u001b[0m\u001b[0m_slice_take_blocks_ax0\u001b[0m\u001b[1;33m(\u001b[0m\u001b[0mindexer\u001b[0m\u001b[1;33m,\u001b[0m \u001b[0mfill_value\u001b[0m\u001b[1;33m=\u001b[0m\u001b[0mfill_value\u001b[0m\u001b[1;33m)\u001b[0m\u001b[1;33m\u001b[0m\u001b[1;33m\u001b[0m\u001b[0m\n\u001b[0m\u001b[0;32m   1283\u001b[0m         \u001b[1;32melse\u001b[0m\u001b[1;33m:\u001b[0m\u001b[1;33m\u001b[0m\u001b[1;33m\u001b[0m\u001b[0m\n\u001b[0;32m   1284\u001b[0m             new_blocks = [\n",
      "\u001b[1;32mF:\\Anaconda\\envs\\Fuzzy_Systems_Program\\lib\\site-packages\\pandas\\core\\internals\\managers.py\u001b[0m in \u001b[0;36m_slice_take_blocks_ax0\u001b[1;34m(self, slice_or_indexer, fill_value, only_slice)\u001b[0m\n\u001b[0;32m   1335\u001b[0m             \u001b[1;32melif\u001b[0m \u001b[1;32mnot\u001b[0m \u001b[0mallow_fill\u001b[0m \u001b[1;32mor\u001b[0m \u001b[0mself\u001b[0m\u001b[1;33m.\u001b[0m\u001b[0mndim\u001b[0m \u001b[1;33m==\u001b[0m \u001b[1;36m1\u001b[0m\u001b[1;33m:\u001b[0m\u001b[1;33m\u001b[0m\u001b[1;33m\u001b[0m\u001b[0m\n\u001b[0;32m   1336\u001b[0m                 \u001b[1;32mif\u001b[0m \u001b[0mallow_fill\u001b[0m \u001b[1;32mand\u001b[0m \u001b[0mfill_value\u001b[0m \u001b[1;32mis\u001b[0m \u001b[1;32mNone\u001b[0m\u001b[1;33m:\u001b[0m\u001b[1;33m\u001b[0m\u001b[1;33m\u001b[0m\u001b[0m\n\u001b[1;32m-> 1337\u001b[1;33m                     \u001b[0m_\u001b[0m\u001b[1;33m,\u001b[0m \u001b[0mfill_value\u001b[0m \u001b[1;33m=\u001b[0m \u001b[0mmaybe_promote\u001b[0m\u001b[1;33m(\u001b[0m\u001b[0mblk\u001b[0m\u001b[1;33m.\u001b[0m\u001b[0mdtype\u001b[0m\u001b[1;33m)\u001b[0m\u001b[1;33m\u001b[0m\u001b[1;33m\u001b[0m\u001b[0m\n\u001b[0m\u001b[0;32m   1338\u001b[0m \u001b[1;33m\u001b[0m\u001b[0m\n\u001b[0;32m   1339\u001b[0m                 \u001b[1;32mif\u001b[0m \u001b[1;32mnot\u001b[0m \u001b[0mallow_fill\u001b[0m \u001b[1;32mand\u001b[0m \u001b[0monly_slice\u001b[0m\u001b[1;33m:\u001b[0m\u001b[1;33m\u001b[0m\u001b[1;33m\u001b[0m\u001b[0m\n",
      "\u001b[1;32mF:\\Anaconda\\envs\\Fuzzy_Systems_Program\\lib\\site-packages\\pandas\\core\\dtypes\\cast.py\u001b[0m in \u001b[0;36mmaybe_promote\u001b[1;34m(dtype, fill_value)\u001b[0m\n\u001b[0;32m    480\u001b[0m \u001b[1;33m\u001b[0m\u001b[0m\n\u001b[0;32m    481\u001b[0m     \u001b[1;31m# returns tuple of (dtype, fill_value)\u001b[0m\u001b[1;33m\u001b[0m\u001b[1;33m\u001b[0m\u001b[1;33m\u001b[0m\u001b[0m\n\u001b[1;32m--> 482\u001b[1;33m     \u001b[1;32mif\u001b[0m \u001b[0missubclass\u001b[0m\u001b[1;33m(\u001b[0m\u001b[0mdtype\u001b[0m\u001b[1;33m.\u001b[0m\u001b[0mtype\u001b[0m\u001b[1;33m,\u001b[0m \u001b[0mnp\u001b[0m\u001b[1;33m.\u001b[0m\u001b[0mdatetime64\u001b[0m\u001b[1;33m)\u001b[0m\u001b[1;33m:\u001b[0m\u001b[1;33m\u001b[0m\u001b[1;33m\u001b[0m\u001b[0m\n\u001b[0m\u001b[0;32m    483\u001b[0m         \u001b[1;32mif\u001b[0m \u001b[0misinstance\u001b[0m\u001b[1;33m(\u001b[0m\u001b[0mfill_value\u001b[0m\u001b[1;33m,\u001b[0m \u001b[0mdatetime\u001b[0m\u001b[1;33m)\u001b[0m \u001b[1;32mand\u001b[0m \u001b[0mfill_value\u001b[0m\u001b[1;33m.\u001b[0m\u001b[0mtzinfo\u001b[0m \u001b[1;32mis\u001b[0m \u001b[1;32mnot\u001b[0m \u001b[1;32mNone\u001b[0m\u001b[1;33m:\u001b[0m\u001b[1;33m\u001b[0m\u001b[1;33m\u001b[0m\u001b[0m\n\u001b[0;32m    484\u001b[0m             \u001b[1;31m# Trying to insert tzaware into tznaive, have to cast to object\u001b[0m\u001b[1;33m\u001b[0m\u001b[1;33m\u001b[0m\u001b[1;33m\u001b[0m\u001b[0m\n",
      "\u001b[1;31mKeyboardInterrupt\u001b[0m: "
     ]
    }
   ],
   "source": [
    "import Settings.GeneralSettings as generalSettings\n",
    "from Settings.SettingsDataBanknoteAuthentication import Settings as Settings\n",
    "\n",
    "helper = Helper()\n",
    "\n",
    "for gauss in [3, 5, 7, 9, 11]:\n",
    "    for adjustment in [-1, -2]:\n",
    "        print(\"Gausses: \" + str(gauss) + \" Adjustment: \" + str(adjustment))\n",
    "        generalSettings.gausses = gauss\n",
    "        generalSettings.style = \"Gaussian Progressive\"\n",
    "        generalSettings.adjustment_value = adjustment\n",
    "        settings = Settings(generalSettings)        \n",
    "\n",
    "        loadCSV = LoadCSV()\n",
    "        samples_stats, train_stats, test_stats, train_samples = loadCSV.worker(settings)\n",
    "\n",
    "        fuzzify = Fuzzify()\n",
    "        changed_decisions, features_number_after_reduct, implicants_number, fuzzify_parameters, times = fuzzify.worker(settings, settings.adjustment_value)   \n",
    "\n",
    "        fuzzification_data = [settings.dataset_name, settings.style, settings.gausses, settings.adjustment, samples_stats, train_stats, test_stats, changed_decisions, round(changed_decisions / train_samples, 2), implicants_number, settings.feature_numbers, features_number_after_reduct]\n",
    "        helper.saveFuzzificationStats(fuzzification_data)\n",
    "\n",
    "        valueTest = ValueTest(settings, settings.s_function_width, settings.is_training)\n",
    "        valueTest.sOptymalizationWorker(settings, settings.default_s_value, settings.show_results)\n",
    "\n",
    "        valueTest = ValueTest(settings, settings.s_function_width, not settings.is_training)\n",
    "        valueTest.sOptymalizationWorker(settings, settings.default_s_value, settings.show_results)"
   ]
  },
  {
   "cell_type": "code",
   "execution_count": 2,
   "metadata": {},
   "outputs": [
    {
     "name": "stdout",
     "output_type": "stream",
     "text": [
      "Gausses: 3 Adjustment: -1\n",
      "Gaussian Progressive\n"
     ]
    },
    {
     "name": "stderr",
     "output_type": "stream",
     "text": [
      "  1%|▋                                                                                 | 8/905 [00:00<00:12, 72.92it/s]"
     ]
    },
    {
     "name": "stdout",
     "output_type": "stream",
     "text": [
      "-----------------------------------------------------------------------------------\n",
      "Level 1\n",
      "Level 2\n"
     ]
    },
    {
     "name": "stderr",
     "output_type": "stream",
     "text": [
      "100%|████████████████████████████████████████████████████████████████████████████████| 905/905 [00:12<00:00, 71.47it/s]\n"
     ]
    },
    {
     "name": "stdout",
     "output_type": "stream",
     "text": [
      "Level 3\n",
      "Level 4\n",
      "Accuracy: 0.8751381215469614\n",
      "Precision: [0.99317406 0.81862745]\n",
      "Recall: [0.7238806  0.99602386]\n",
      "F-Score: [0.83741007 0.89865471]\n",
      "Support: [402 503]\n"
     ]
    },
    {
     "name": "stderr",
     "output_type": "stream",
     "text": [
      "  2%|█▍                                                                                | 8/467 [00:00<00:05, 77.13it/s]"
     ]
    },
    {
     "name": "stdout",
     "output_type": "stream",
     "text": [
      "-----------------------------------------------------------------------------------\n",
      "Level 1\n",
      "Level 2\n"
     ]
    },
    {
     "name": "stderr",
     "output_type": "stream",
     "text": [
      "100%|████████████████████████████████████████████████████████████████████████████████| 467/467 [00:06<00:00, 73.63it/s]\n"
     ]
    },
    {
     "name": "stdout",
     "output_type": "stream",
     "text": [
      "Level 3\n",
      "Level 4\n",
      "Accuracy: 0.8736616702355461\n",
      "Precision: [1.         0.81446541]\n",
      "Recall: [0.71634615 1.        ]\n",
      "F-Score: [0.83473389 0.89774697]\n",
      "Support: [208 259]\n",
      "Gausses: 3 Adjustment: -2\n",
      "Gaussian Progressive\n"
     ]
    },
    {
     "name": "stderr",
     "output_type": "stream",
     "text": [
      "  1%|▋                                                                                 | 8/905 [00:00<00:12, 69.18it/s]"
     ]
    },
    {
     "name": "stdout",
     "output_type": "stream",
     "text": [
      "-----------------------------------------------------------------------------------\n",
      "Level 1\n",
      "Level 2\n"
     ]
    },
    {
     "name": "stderr",
     "output_type": "stream",
     "text": [
      "100%|████████████████████████████████████████████████████████████████████████████████| 905/905 [00:14<00:00, 63.02it/s]\n"
     ]
    },
    {
     "name": "stdout",
     "output_type": "stream",
     "text": [
      "Level 3\n",
      "Level 4\n",
      "Accuracy: 0.8629834254143647\n",
      "Precision: [0.76526718 0.99737533]\n",
      "Recall: [0.99751244 0.7554672 ]\n",
      "F-Score: [0.86609071 0.85972851]\n",
      "Support: [402 503]\n"
     ]
    },
    {
     "name": "stderr",
     "output_type": "stream",
     "text": [
      "  1%|█▏                                                                                | 7/467 [00:00<00:07, 61.39it/s]"
     ]
    },
    {
     "name": "stdout",
     "output_type": "stream",
     "text": [
      "-----------------------------------------------------------------------------------\n",
      "Level 1\n",
      "Level 2\n"
     ]
    },
    {
     "name": "stderr",
     "output_type": "stream",
     "text": [
      "100%|████████████████████████████████████████████████████████████████████████████████| 467/467 [00:08<00:00, 57.09it/s]\n"
     ]
    },
    {
     "name": "stdout",
     "output_type": "stream",
     "text": [
      "Level 3\n",
      "Level 4\n",
      "Accuracy: 0.8758029978586723\n",
      "Precision: [0.78409091 0.99507389]\n",
      "Recall: [0.99519231 0.77992278]\n",
      "F-Score: [0.87711864 0.87445887]\n",
      "Support: [208 259]\n",
      "Gausses: 3 Adjustment: -1\n",
      "Gaussian Equal\n"
     ]
    },
    {
     "name": "stderr",
     "output_type": "stream",
     "text": [
      "  1%|▊                                                                                 | 9/905 [00:00<00:11, 79.77it/s]"
     ]
    },
    {
     "name": "stdout",
     "output_type": "stream",
     "text": [
      "-----------------------------------------------------------------------------------\n",
      "Level 1\n",
      "Level 2\n"
     ]
    },
    {
     "name": "stderr",
     "output_type": "stream",
     "text": [
      "100%|████████████████████████████████████████████████████████████████████████████████| 905/905 [00:13<00:00, 69.28it/s]\n"
     ]
    },
    {
     "name": "stdout",
     "output_type": "stream",
     "text": [
      "Level 3\n",
      "Level 4\n",
      "Accuracy: 0.8751381215469614\n",
      "Precision: [0.99317406 0.81862745]\n",
      "Recall: [0.7238806  0.99602386]\n",
      "F-Score: [0.83741007 0.89865471]\n",
      "Support: [402 503]\n"
     ]
    },
    {
     "name": "stderr",
     "output_type": "stream",
     "text": [
      "  2%|█▌                                                                                | 9/467 [00:00<00:05, 77.13it/s]"
     ]
    },
    {
     "name": "stdout",
     "output_type": "stream",
     "text": [
      "-----------------------------------------------------------------------------------\n",
      "Level 1\n",
      "Level 2\n"
     ]
    },
    {
     "name": "stderr",
     "output_type": "stream",
     "text": [
      "100%|████████████████████████████████████████████████████████████████████████████████| 467/467 [00:06<00:00, 68.06it/s]\n"
     ]
    },
    {
     "name": "stdout",
     "output_type": "stream",
     "text": [
      "Level 3\n",
      "Level 4\n",
      "Accuracy: 0.8736616702355461\n",
      "Precision: [1.         0.81446541]\n",
      "Recall: [0.71634615 1.        ]\n",
      "F-Score: [0.83473389 0.89774697]\n",
      "Support: [208 259]\n",
      "Gausses: 3 Adjustment: -2\n",
      "Gaussian Equal\n"
     ]
    },
    {
     "name": "stderr",
     "output_type": "stream",
     "text": [
      "  1%|▋                                                                                 | 8/905 [00:00<00:12, 74.61it/s]"
     ]
    },
    {
     "name": "stdout",
     "output_type": "stream",
     "text": [
      "-----------------------------------------------------------------------------------\n",
      "Level 1\n",
      "Level 2\n"
     ]
    },
    {
     "name": "stderr",
     "output_type": "stream",
     "text": [
      "100%|████████████████████████████████████████████████████████████████████████████████| 905/905 [00:14<00:00, 64.61it/s]\n"
     ]
    },
    {
     "name": "stdout",
     "output_type": "stream",
     "text": [
      "Level 3\n",
      "Level 4\n",
      "Accuracy: 0.8629834254143647\n",
      "Precision: [0.76526718 0.99737533]\n",
      "Recall: [0.99751244 0.7554672 ]\n",
      "F-Score: [0.86609071 0.85972851]\n",
      "Support: [402 503]\n"
     ]
    },
    {
     "name": "stderr",
     "output_type": "stream",
     "text": [
      "  1%|█▏                                                                                | 7/467 [00:00<00:07, 65.16it/s]"
     ]
    },
    {
     "name": "stdout",
     "output_type": "stream",
     "text": [
      "-----------------------------------------------------------------------------------\n",
      "Level 1\n",
      "Level 2\n"
     ]
    },
    {
     "name": "stderr",
     "output_type": "stream",
     "text": [
      "100%|████████████████████████████████████████████████████████████████████████████████| 467/467 [00:07<00:00, 61.93it/s]\n"
     ]
    },
    {
     "name": "stdout",
     "output_type": "stream",
     "text": [
      "Level 3\n",
      "Level 4\n",
      "Accuracy: 0.8758029978586723\n",
      "Precision: [0.78409091 0.99507389]\n",
      "Recall: [0.99519231 0.77992278]\n",
      "F-Score: [0.87711864 0.87445887]\n",
      "Support: [208 259]\n",
      "Gausses: 5 Adjustment: -1\n",
      "Gaussian Progressive\n"
     ]
    },
    {
     "name": "stderr",
     "output_type": "stream",
     "text": [
      "  0%|                                                                                          | 0/905 [00:00<?, ?it/s]"
     ]
    },
    {
     "name": "stdout",
     "output_type": "stream",
     "text": [
      "-----------------------------------------------------------------------------------\n",
      "Level 1\n",
      "Level 2\n"
     ]
    },
    {
     "name": "stderr",
     "output_type": "stream",
     "text": [
      "100%|████████████████████████████████████████████████████████████████████████████████| 905/905 [01:31<00:00,  9.93it/s]\n"
     ]
    },
    {
     "name": "stdout",
     "output_type": "stream",
     "text": [
      "Level 3\n",
      "Level 4\n",
      "Accuracy: 0.9591160220994475\n",
      "Precision: [0.99457995 0.93470149]\n",
      "Recall: [0.91293532 0.99602386]\n",
      "F-Score: [0.95201038 0.96438884]\n",
      "Support: [402 503]\n"
     ]
    },
    {
     "name": "stderr",
     "output_type": "stream",
     "text": [
      "  0%|                                                                                          | 0/467 [00:00<?, ?it/s]"
     ]
    },
    {
     "name": "stdout",
     "output_type": "stream",
     "text": [
      "-----------------------------------------------------------------------------------\n",
      "Level 1\n",
      "Level 2\n"
     ]
    },
    {
     "name": "stderr",
     "output_type": "stream",
     "text": [
      "100%|████████████████████████████████████████████████████████████████████████████████| 467/467 [00:45<00:00, 10.25it/s]\n"
     ]
    },
    {
     "name": "stdout",
     "output_type": "stream",
     "text": [
      "Level 3\n",
      "Level 4\n",
      "Accuracy: 0.9528907922912205\n",
      "Precision: [0.98947368 0.92779783]\n",
      "Recall: [0.90384615 0.99227799]\n",
      "F-Score: [0.94472362 0.95895522]\n",
      "Support: [208 259]\n",
      "Gausses: 5 Adjustment: -2\n",
      "Gaussian Progressive\n"
     ]
    },
    {
     "name": "stderr",
     "output_type": "stream",
     "text": [
      "  0%|▎                                                                                 | 3/905 [00:00<00:33, 26.82it/s]"
     ]
    },
    {
     "name": "stdout",
     "output_type": "stream",
     "text": [
      "-----------------------------------------------------------------------------------\n",
      "Level 1\n",
      "Level 2\n"
     ]
    },
    {
     "name": "stderr",
     "output_type": "stream",
     "text": [
      "100%|████████████████████████████████████████████████████████████████████████████████| 905/905 [00:48<00:00, 18.55it/s]\n"
     ]
    },
    {
     "name": "stdout",
     "output_type": "stream",
     "text": [
      "Level 3\n",
      "Level 4\n",
      "Accuracy: 0.943646408839779\n",
      "Precision: [0.98347107 0.91697417]\n",
      "Recall: [0.8880597  0.98807157]\n",
      "F-Score: [0.93333333 0.95119617]\n",
      "Support: [402 503]\n"
     ]
    },
    {
     "name": "stderr",
     "output_type": "stream",
     "text": [
      "  1%|▌                                                                                 | 3/467 [00:00<00:17, 26.09it/s]"
     ]
    },
    {
     "name": "stdout",
     "output_type": "stream",
     "text": [
      "-----------------------------------------------------------------------------------\n",
      "Level 1\n",
      "Level 2\n"
     ]
    },
    {
     "name": "stderr",
     "output_type": "stream",
     "text": [
      "100%|████████████████████████████████████████████████████████████████████████████████| 467/467 [00:25<00:00, 18.21it/s]\n"
     ]
    },
    {
     "name": "stdout",
     "output_type": "stream",
     "text": [
      "Level 3\n",
      "Level 4\n",
      "Accuracy: 0.9314775160599572\n",
      "Precision: [0.96808511 0.90681004]\n",
      "Recall: [0.875      0.97683398]\n",
      "F-Score: [0.91919192 0.94052045]\n",
      "Support: [208 259]\n",
      "Gausses: 5 Adjustment: -1\n",
      "Gaussian Equal\n"
     ]
    },
    {
     "name": "stderr",
     "output_type": "stream",
     "text": [
      "  0%|▎                                                                                 | 4/905 [00:00<00:22, 39.70it/s]"
     ]
    },
    {
     "name": "stdout",
     "output_type": "stream",
     "text": [
      "-----------------------------------------------------------------------------------\n",
      "Level 1\n",
      "Level 2\n"
     ]
    },
    {
     "name": "stderr",
     "output_type": "stream",
     "text": [
      "100%|████████████████████████████████████████████████████████████████████████████████| 905/905 [00:34<00:00, 26.14it/s]\n"
     ]
    },
    {
     "name": "stdout",
     "output_type": "stream",
     "text": [
      "Level 3\n",
      "Level 4\n",
      "Accuracy: 0.9060773480662984\n",
      "Precision: [0.99071207 0.85910653]\n",
      "Recall: [0.7960199  0.99403579]\n",
      "F-Score: [0.88275862 0.92165899]\n",
      "Support: [402 503]\n"
     ]
    },
    {
     "name": "stderr",
     "output_type": "stream",
     "text": [
      "  1%|▋                                                                                 | 4/467 [00:00<00:15, 30.85it/s]"
     ]
    },
    {
     "name": "stdout",
     "output_type": "stream",
     "text": [
      "-----------------------------------------------------------------------------------\n",
      "Level 1\n",
      "Level 2\n"
     ]
    },
    {
     "name": "stderr",
     "output_type": "stream",
     "text": [
      "100%|████████████████████████████████████████████████████████████████████████████████| 467/467 [00:17<00:00, 26.26it/s]\n"
     ]
    },
    {
     "name": "stdout",
     "output_type": "stream",
     "text": [
      "Level 3\n",
      "Level 4\n",
      "Accuracy: 0.892933618843683\n",
      "Precision: [0.97590361 0.84717608]\n",
      "Recall: [0.77884615 0.98455598]\n",
      "F-Score: [0.86631016 0.91071429]\n",
      "Support: [208 259]\n",
      "Gausses: 5 Adjustment: -2\n",
      "Gaussian Equal\n"
     ]
    },
    {
     "name": "stderr",
     "output_type": "stream",
     "text": [
      "  0%|                                                                                          | 0/905 [00:00<?, ?it/s]"
     ]
    },
    {
     "name": "stdout",
     "output_type": "stream",
     "text": [
      "-----------------------------------------------------------------------------------\n",
      "Level 1\n",
      "Level 2\n"
     ]
    },
    {
     "name": "stderr",
     "output_type": "stream",
     "text": [
      "100%|████████████████████████████████████████████████████████████████████████████████| 905/905 [00:32<00:00, 27.69it/s]\n"
     ]
    },
    {
     "name": "stdout",
     "output_type": "stream",
     "text": [
      "Level 3\n",
      "Level 4\n",
      "Accuracy: 0.8574585635359117\n",
      "Precision: [0.76099426 0.9895288 ]\n",
      "Recall: [0.99004975 0.75149105]\n",
      "F-Score: [0.86054054 0.85423729]\n",
      "Support: [402 503]\n"
     ]
    },
    {
     "name": "stderr",
     "output_type": "stream",
     "text": [
      "  1%|▋                                                                                 | 4/467 [00:00<00:12, 36.80it/s]"
     ]
    },
    {
     "name": "stdout",
     "output_type": "stream",
     "text": [
      "-----------------------------------------------------------------------------------\n",
      "Level 1\n",
      "Level 2\n"
     ]
    },
    {
     "name": "stderr",
     "output_type": "stream",
     "text": [
      "100%|████████████████████████████████████████████████████████████████████████████████| 467/467 [00:17<00:00, 26.59it/s]\n"
     ]
    },
    {
     "name": "stdout",
     "output_type": "stream",
     "text": [
      "Level 3\n",
      "Level 4\n",
      "Accuracy: 0.8629550321199143\n",
      "Precision: [0.76666667 0.99492386]\n",
      "Recall: [0.99519231 0.75675676]\n",
      "F-Score: [0.86610879 0.85964912]\n",
      "Support: [208 259]\n",
      "Gausses: 7 Adjustment: -1\n",
      "Gaussian Progressive\n",
      "-----------------------------------------------------------------------------------\n"
     ]
    },
    {
     "name": "stderr",
     "output_type": "stream",
     "text": [
      "  0%|▏                                                                                 | 2/905 [00:00<01:26, 10.39it/s]"
     ]
    },
    {
     "name": "stdout",
     "output_type": "stream",
     "text": [
      "Level 1\n",
      "Level 2\n"
     ]
    },
    {
     "name": "stderr",
     "output_type": "stream",
     "text": [
      "100%|████████████████████████████████████████████████████████████████████████████████| 905/905 [02:31<00:00,  5.98it/s]\n"
     ]
    },
    {
     "name": "stdout",
     "output_type": "stream",
     "text": [
      "Level 3\n",
      "Level 4\n",
      "Accuracy: 0.988950276243094\n",
      "Precision: [0.99746193 0.98238748]\n",
      "Recall: [0.97761194 0.99801193]\n",
      "F-Score: [0.98743719 0.99013807]\n",
      "Support: [402 503]\n",
      "-----------------------------------------------------------------------------------\n"
     ]
    },
    {
     "name": "stderr",
     "output_type": "stream",
     "text": [
      "  0%|▎                                                                                 | 2/467 [00:00<00:44, 10.55it/s]"
     ]
    },
    {
     "name": "stdout",
     "output_type": "stream",
     "text": [
      "Level 1\n",
      "Level 2\n"
     ]
    },
    {
     "name": "stderr",
     "output_type": "stream",
     "text": [
      "100%|████████████████████████████████████████████████████████████████████████████████| 467/467 [01:21<00:00,  5.73it/s]\n"
     ]
    },
    {
     "name": "stdout",
     "output_type": "stream",
     "text": [
      "Level 3\n",
      "Level 4\n",
      "Accuracy: 0.9807280513918629\n",
      "Precision: [0.97156398 0.98828125]\n",
      "Recall: [0.98557692 0.97683398]\n",
      "F-Score: [0.97852029 0.98252427]\n",
      "Support: [208 259]\n",
      "Gausses: 7 Adjustment: -2\n",
      "Gaussian Progressive\n"
     ]
    },
    {
     "name": "stderr",
     "output_type": "stream",
     "text": [
      "  0%|                                                                                          | 0/905 [00:00<?, ?it/s]"
     ]
    },
    {
     "name": "stdout",
     "output_type": "stream",
     "text": [
      "-----------------------------------------------------------------------------------\n",
      "Level 1\n",
      "Level 2\n"
     ]
    },
    {
     "name": "stderr",
     "output_type": "stream",
     "text": [
      "100%|████████████████████████████████████████████████████████████████████████████████| 905/905 [01:35<00:00,  9.45it/s]\n"
     ]
    },
    {
     "name": "stdout",
     "output_type": "stream",
     "text": [
      "Level 3\n",
      "Level 4\n",
      "Accuracy: 0.974585635359116\n",
      "Precision: [0.98714653 0.96511628]\n",
      "Recall: [0.95522388 0.99005964]\n",
      "F-Score: [0.97092288 0.97742885]\n",
      "Support: [402 503]\n"
     ]
    },
    {
     "name": "stderr",
     "output_type": "stream",
     "text": [
      "  0%|                                                                                          | 0/467 [00:00<?, ?it/s]"
     ]
    },
    {
     "name": "stdout",
     "output_type": "stream",
     "text": [
      "-----------------------------------------------------------------------------------\n",
      "Level 1\n",
      "Level 2\n"
     ]
    },
    {
     "name": "stderr",
     "output_type": "stream",
     "text": [
      "100%|████████████████████████████████████████████████████████████████████████████████| 467/467 [00:49<00:00,  9.42it/s]\n"
     ]
    },
    {
     "name": "stdout",
     "output_type": "stream",
     "text": [
      "Level 3\n",
      "Level 4\n",
      "Accuracy: 0.9764453961456103\n",
      "Precision: [0.99004975 0.96616541]\n",
      "Recall: [0.95673077 0.99227799]\n",
      "F-Score: [0.97310513 0.97904762]\n",
      "Support: [208 259]\n",
      "Gausses: 7 Adjustment: -1\n",
      "Gaussian Equal\n"
     ]
    },
    {
     "name": "stderr",
     "output_type": "stream",
     "text": [
      "  0%|                                                                                          | 0/905 [00:00<?, ?it/s]"
     ]
    },
    {
     "name": "stdout",
     "output_type": "stream",
     "text": [
      "-----------------------------------------------------------------------------------\n",
      "Level 1\n",
      "Level 2\n"
     ]
    },
    {
     "name": "stderr",
     "output_type": "stream",
     "text": [
      "100%|████████████████████████████████████████████████████████████████████████████████| 905/905 [01:21<00:00, 11.13it/s]\n"
     ]
    },
    {
     "name": "stdout",
     "output_type": "stream",
     "text": [
      "Level 3\n",
      "Level 4\n",
      "Accuracy: 0.9303867403314917\n",
      "Precision: [0.97746479 0.9       ]\n",
      "Recall: [0.86318408 0.98409543]\n",
      "F-Score: [0.91677675 0.94017094]\n",
      "Support: [402 503]\n",
      "-----------------------------------------------------------------------------------\n",
      "Level 1\n",
      "Level 2"
     ]
    },
    {
     "name": "stderr",
     "output_type": "stream",
     "text": [
      "  0%|▎                                                                                 | 2/467 [00:00<00:25, 18.51it/s]"
     ]
    },
    {
     "name": "stdout",
     "output_type": "stream",
     "text": [
      "\n"
     ]
    },
    {
     "name": "stderr",
     "output_type": "stream",
     "text": [
      "100%|████████████████████████████████████████████████████████████████████████████████| 467/467 [00:45<00:00, 10.33it/s]\n"
     ]
    },
    {
     "name": "stdout",
     "output_type": "stream",
     "text": [
      "Level 3\n",
      "Level 4\n",
      "Accuracy: 0.9143468950749465\n",
      "Precision: [0.97191011 0.87889273]\n",
      "Recall: [0.83173077 0.98069498]\n",
      "F-Score: [0.89637306 0.9270073 ]\n",
      "Support: [208 259]\n",
      "Gausses: 7 Adjustment: -2\n",
      "Gaussian Equal\n"
     ]
    },
    {
     "name": "stderr",
     "output_type": "stream",
     "text": [
      "  0%|                                                                                          | 0/905 [00:00<?, ?it/s]"
     ]
    },
    {
     "name": "stdout",
     "output_type": "stream",
     "text": [
      "-----------------------------------------------------------------------------------\n",
      "Level 1\n",
      "Level 2\n"
     ]
    },
    {
     "name": "stderr",
     "output_type": "stream",
     "text": [
      "  1%|▌                                                                                 | 6/905 [00:00<01:29, 10.10it/s]"
     ]
    },
    {
     "name": "stdout",
     "output_type": "stream",
     "text": [
      "!!!!!!!!!!!!!!!!!!!!!!!!!!!!!!!!!!!!!!!\n"
     ]
    },
    {
     "name": "stderr",
     "output_type": "stream",
     "text": [
      " 13%|██████████▋                                                                     | 121/905 [00:11<01:08, 11.42it/s]"
     ]
    },
    {
     "name": "stdout",
     "output_type": "stream",
     "text": [
      "!!!!!!!!!!!!!!!!!!!!!!!!!!!!!!!!!!!!!!!\n"
     ]
    },
    {
     "name": "stderr",
     "output_type": "stream",
     "text": [
      " 16%|█████████████▏                                                                  | 149/905 [00:14<01:10, 10.75it/s]"
     ]
    },
    {
     "name": "stdout",
     "output_type": "stream",
     "text": [
      "!!!!!!!!!!!!!!!!!!!!!!!!!!!!!!!!!!!!!!!\n"
     ]
    },
    {
     "name": "stderr",
     "output_type": "stream",
     "text": [
      " 23%|██████████████████                                                              | 205/905 [00:20<01:08, 10.29it/s]"
     ]
    },
    {
     "name": "stdout",
     "output_type": "stream",
     "text": [
      "!!!!!!!!!!!!!!!!!!!!!!!!!!!!!!!!!!!!!!!\n"
     ]
    },
    {
     "name": "stderr",
     "output_type": "stream",
     "text": [
      " 24%|██████████████████▊                                                             | 213/905 [00:20<01:12,  9.58it/s]"
     ]
    },
    {
     "name": "stdout",
     "output_type": "stream",
     "text": [
      "!!!!!!!!!!!!!!!!!!!!!!!!!!!!!!!!!!!!!!!\n"
     ]
    },
    {
     "name": "stderr",
     "output_type": "stream",
     "text": [
      " 25%|███████████████████▉                                                            | 225/905 [00:22<01:05, 10.37it/s]"
     ]
    },
    {
     "name": "stdout",
     "output_type": "stream",
     "text": [
      "!!!!!!!!!!!!!!!!!!!!!!!!!!!!!!!!!!!!!!!\n"
     ]
    },
    {
     "name": "stderr",
     "output_type": "stream",
     "text": [
      " 30%|███████████████████████▉                                                        | 271/905 [00:26<00:59, 10.58it/s]"
     ]
    },
    {
     "name": "stdout",
     "output_type": "stream",
     "text": [
      "!!!!!!!!!!!!!!!!!!!!!!!!!!!!!!!!!!!!!!!\n"
     ]
    },
    {
     "name": "stderr",
     "output_type": "stream",
     "text": [
      " 37%|█████████████████████████████▌                                                  | 335/905 [00:32<01:01,  9.26it/s]"
     ]
    },
    {
     "name": "stdout",
     "output_type": "stream",
     "text": [
      "!!!!!!!!!!!!!!!!!!!!!!!!!!!!!!!!!!!!!!!\n"
     ]
    },
    {
     "name": "stderr",
     "output_type": "stream",
     "text": [
      " 40%|███████████████████████████████▉                                                | 361/905 [00:35<00:52, 10.41it/s]"
     ]
    },
    {
     "name": "stdout",
     "output_type": "stream",
     "text": [
      "!!!!!!!!!!!!!!!!!!!!!!!!!!!!!!!!!!!!!!!\n"
     ]
    },
    {
     "name": "stderr",
     "output_type": "stream",
     "text": [
      " 40%|████████████████████████████████▎                                               | 365/905 [00:35<00:52, 10.26it/s]"
     ]
    },
    {
     "name": "stdout",
     "output_type": "stream",
     "text": [
      "!!!!!!!!!!!!!!!!!!!!!!!!!!!!!!!!!!!!!!!\n"
     ]
    },
    {
     "name": "stderr",
     "output_type": "stream",
     "text": [
      " 45%|███████████████████████████████████▊                                            | 405/905 [00:39<00:52,  9.59it/s]"
     ]
    },
    {
     "name": "stdout",
     "output_type": "stream",
     "text": [
      "!!!!!!!!!!!!!!!!!!!!!!!!!!!!!!!!!!!!!!!\n"
     ]
    },
    {
     "name": "stderr",
     "output_type": "stream",
     "text": [
      " 48%|██████████████████████████████████████▋                                         | 437/905 [00:43<00:51,  9.03it/s]"
     ]
    },
    {
     "name": "stdout",
     "output_type": "stream",
     "text": [
      "!!!!!!!!!!!!!!!!!!!!!!!!!!!!!!!!!!!!!!!\n"
     ]
    },
    {
     "name": "stderr",
     "output_type": "stream",
     "text": [
      " 49%|███████████████████████████████████████                                         | 442/905 [00:43<00:51,  8.92it/s]"
     ]
    },
    {
     "name": "stdout",
     "output_type": "stream",
     "text": [
      "!!!!!!!!!!!!!!!!!!!!!!!!!!!!!!!!!!!!!!!\n"
     ]
    },
    {
     "name": "stderr",
     "output_type": "stream",
     "text": [
      " 49%|███████████████████████████████████████▏                                        | 444/905 [00:43<00:48,  9.50it/s]"
     ]
    },
    {
     "name": "stdout",
     "output_type": "stream",
     "text": [
      "!!!!!!!!!!!!!!!!!!!!!!!!!!!!!!!!!!!!!!!\n"
     ]
    },
    {
     "name": "stderr",
     "output_type": "stream",
     "text": [
      " 50%|███████████████████████████████████████▊                                        | 450/905 [00:44<00:47,  9.58it/s]"
     ]
    },
    {
     "name": "stdout",
     "output_type": "stream",
     "text": [
      "!!!!!!!!!!!!!!!!!!!!!!!!!!!!!!!!!!!!!!!\n"
     ]
    },
    {
     "name": "stderr",
     "output_type": "stream",
     "text": [
      " 51%|████████████████████████████████████████▌                                       | 459/905 [00:45<00:48,  9.20it/s]"
     ]
    },
    {
     "name": "stdout",
     "output_type": "stream",
     "text": [
      "!!!!!!!!!!!!!!!!!!!!!!!!!!!!!!!!!!!!!!!\n"
     ]
    },
    {
     "name": "stderr",
     "output_type": "stream",
     "text": [
      " 54%|███████████████████████████████████████████▏                                    | 489/905 [00:48<00:45,  9.08it/s]"
     ]
    },
    {
     "name": "stdout",
     "output_type": "stream",
     "text": [
      "!!!!!!!!!!!!!!!!!!!!!!!!!!!!!!!!!!!!!!!\n"
     ]
    },
    {
     "name": "stderr",
     "output_type": "stream",
     "text": [
      " 60%|███████████████████████████████████████████████▋                                | 540/905 [00:53<00:35, 10.20it/s]"
     ]
    },
    {
     "name": "stdout",
     "output_type": "stream",
     "text": [
      "!!!!!!!!!!!!!!!!!!!!!!!!!!!!!!!!!!!!!!!\n"
     ]
    },
    {
     "name": "stderr",
     "output_type": "stream",
     "text": [
      " 61%|████████████████████████████████████████████████▉                               | 554/905 [00:55<00:33, 10.40it/s]"
     ]
    },
    {
     "name": "stdout",
     "output_type": "stream",
     "text": [
      "!!!!!!!!!!!!!!!!!!!!!!!!!!!!!!!!!!!!!!!\n"
     ]
    },
    {
     "name": "stderr",
     "output_type": "stream",
     "text": [
      " 65%|███████████████████████████████████████████████████▊                            | 586/905 [00:58<00:35,  8.93it/s]"
     ]
    },
    {
     "name": "stdout",
     "output_type": "stream",
     "text": [
      "!!!!!!!!!!!!!!!!!!!!!!!!!!!!!!!!!!!!!!!\n"
     ]
    },
    {
     "name": "stderr",
     "output_type": "stream",
     "text": [
      " 66%|████████████████████████████████████████████████████▉                           | 599/905 [01:00<00:36,  8.31it/s]"
     ]
    },
    {
     "name": "stdout",
     "output_type": "stream",
     "text": [
      "!!!!!!!!!!!!!!!!!!!!!!!!!!!!!!!!!!!!!!!\n"
     ]
    },
    {
     "name": "stderr",
     "output_type": "stream",
     "text": [
      " 66%|█████████████████████████████████████████████████████▏                          | 601/905 [01:00<00:36,  8.24it/s]"
     ]
    },
    {
     "name": "stdout",
     "output_type": "stream",
     "text": [
      "!!!!!!!!!!!!!!!!!!!!!!!!!!!!!!!!!!!!!!!\n"
     ]
    },
    {
     "name": "stderr",
     "output_type": "stream",
     "text": [
      " 67%|█████████████████████████████████████████████████████▍                          | 604/905 [01:00<00:34,  8.62it/s]"
     ]
    },
    {
     "name": "stdout",
     "output_type": "stream",
     "text": [
      "!!!!!!!!!!!!!!!!!!!!!!!!!!!!!!!!!!!!!!!\n"
     ]
    },
    {
     "name": "stderr",
     "output_type": "stream",
     "text": [
      " 70%|███████████████████████████████████████████████████████▊                        | 632/905 [01:03<00:30,  9.01it/s]"
     ]
    },
    {
     "name": "stdout",
     "output_type": "stream",
     "text": [
      "!!!!!!!!!!!!!!!!!!!!!!!!!!!!!!!!!!!!!!!\n"
     ]
    },
    {
     "name": "stderr",
     "output_type": "stream",
     "text": [
      " 77%|█████████████████████████████████████████████████████████████▎                  | 694/905 [01:10<00:20, 10.44it/s]"
     ]
    },
    {
     "name": "stdout",
     "output_type": "stream",
     "text": [
      "!!!!!!!!!!!!!!!!!!!!!!!!!!!!!!!!!!!!!!!\n"
     ]
    },
    {
     "name": "stderr",
     "output_type": "stream",
     "text": [
      " 78%|██████████████████████████████████████████████████████████████▍                 | 707/905 [01:11<00:17, 11.63it/s]"
     ]
    },
    {
     "name": "stdout",
     "output_type": "stream",
     "text": [
      "!!!!!!!!!!!!!!!!!!!!!!!!!!!!!!!!!!!!!!!\n",
      "!!!!!!!!!!!!!!!!!!!!!!!!!!!!!!!!!!!!!!!\n"
     ]
    },
    {
     "name": "stderr",
     "output_type": "stream",
     "text": [
      " 82%|█████████████████████████████████████████████████████████████████▌              | 741/905 [01:14<00:20,  7.99it/s]"
     ]
    },
    {
     "name": "stdout",
     "output_type": "stream",
     "text": [
      "!!!!!!!!!!!!!!!!!!!!!!!!!!!!!!!!!!!!!!!\n"
     ]
    },
    {
     "name": "stderr",
     "output_type": "stream",
     "text": [
      " 84%|██████████████████████████████████████████████████████████████████▊             | 756/905 [01:16<00:16,  9.20it/s]"
     ]
    },
    {
     "name": "stdout",
     "output_type": "stream",
     "text": [
      "!!!!!!!!!!!!!!!!!!!!!!!!!!!!!!!!!!!!!!!\n"
     ]
    },
    {
     "name": "stderr",
     "output_type": "stream",
     "text": [
      " 84%|███████████████████████████████████████████████████████████████████▏            | 760/905 [01:16<00:15,  9.62it/s]"
     ]
    },
    {
     "name": "stdout",
     "output_type": "stream",
     "text": [
      "!!!!!!!!!!!!!!!!!!!!!!!!!!!!!!!!!!!!!!!\n"
     ]
    },
    {
     "name": "stderr",
     "output_type": "stream",
     "text": [
      " 86%|████████████████████████████████████████████████████████████████████▊           | 778/905 [01:18<00:14,  8.89it/s]"
     ]
    },
    {
     "name": "stdout",
     "output_type": "stream",
     "text": [
      "!!!!!!!!!!!!!!!!!!!!!!!!!!!!!!!!!!!!!!!\n"
     ]
    },
    {
     "name": "stderr",
     "output_type": "stream",
     "text": [
      " 88%|██████████████████████████████████████████████████████████████████████▌         | 798/905 [01:20<00:10, 10.24it/s]"
     ]
    },
    {
     "name": "stdout",
     "output_type": "stream",
     "text": [
      "!!!!!!!!!!!!!!!!!!!!!!!!!!!!!!!!!!!!!!!\n"
     ]
    },
    {
     "name": "stderr",
     "output_type": "stream",
     "text": [
      " 91%|████████████████████████████████████████████████████████████████████████▉       | 825/905 [01:22<00:07, 11.24it/s]"
     ]
    },
    {
     "name": "stdout",
     "output_type": "stream",
     "text": [
      "!!!!!!!!!!!!!!!!!!!!!!!!!!!!!!!!!!!!!!!\n"
     ]
    },
    {
     "name": "stderr",
     "output_type": "stream",
     "text": [
      " 93%|██████████████████████████████████████████████████████████████████████████▌     | 843/905 [01:24<00:05, 10.50it/s]"
     ]
    },
    {
     "name": "stdout",
     "output_type": "stream",
     "text": [
      "!!!!!!!!!!!!!!!!!!!!!!!!!!!!!!!!!!!!!!!\n"
     ]
    },
    {
     "name": "stderr",
     "output_type": "stream",
     "text": [
      " 96%|████████████████████████████████████████████████████████████████████████████▍   | 865/905 [01:26<00:03, 10.64it/s]"
     ]
    },
    {
     "name": "stdout",
     "output_type": "stream",
     "text": [
      "!!!!!!!!!!!!!!!!!!!!!!!!!!!!!!!!!!!!!!!\n",
      "!!!!!!!!!!!!!!!!!!!!!!!!!!!!!!!!!!!!!!!\n"
     ]
    },
    {
     "name": "stderr",
     "output_type": "stream",
     "text": [
      " 97%|█████████████████████████████████████████████████████████████████████████████▌  | 877/905 [01:27<00:02, 11.06it/s]"
     ]
    },
    {
     "name": "stdout",
     "output_type": "stream",
     "text": [
      "!!!!!!!!!!!!!!!!!!!!!!!!!!!!!!!!!!!!!!!\n"
     ]
    },
    {
     "name": "stderr",
     "output_type": "stream",
     "text": [
      " 98%|██████████████████████████████████████████████████████████████████████████████  | 883/905 [01:28<00:01, 11.02it/s]"
     ]
    },
    {
     "name": "stdout",
     "output_type": "stream",
     "text": [
      "!!!!!!!!!!!!!!!!!!!!!!!!!!!!!!!!!!!!!!!\n"
     ]
    },
    {
     "name": "stderr",
     "output_type": "stream",
     "text": [
      " 99%|██████████████████████████████████████████████████████████████████████████████▉ | 893/905 [01:29<00:01, 10.73it/s]"
     ]
    },
    {
     "name": "stdout",
     "output_type": "stream",
     "text": [
      "!!!!!!!!!!!!!!!!!!!!!!!!!!!!!!!!!!!!!!!\n"
     ]
    },
    {
     "name": "stderr",
     "output_type": "stream",
     "text": [
      "100%|████████████████████████████████████████████████████████████████████████████████| 905/905 [01:30<00:00,  9.99it/s]\n"
     ]
    },
    {
     "name": "stdout",
     "output_type": "stream",
     "text": [
      "Level 3\n",
      "Level 4\n",
      "Accuracy: 0.887292817679558\n",
      "Precision: [0.91666667 0.86788991]\n",
      "Recall: [0.82089552 0.94035785]\n",
      "F-Score: [0.86614173 0.90267176]\n",
      "Support: [402 503]\n"
     ]
    },
    {
     "name": "stderr",
     "output_type": "stream",
     "text": [
      "  0%|                                                                                          | 0/467 [00:00<?, ?it/s]"
     ]
    },
    {
     "name": "stdout",
     "output_type": "stream",
     "text": [
      "-----------------------------------------------------------------------------------\n",
      "Level 1\n",
      "Level 2\n"
     ]
    },
    {
     "name": "stderr",
     "output_type": "stream",
     "text": [
      "  3%|██▊                                                                              | 16/467 [00:01<00:45,  9.94it/s]"
     ]
    },
    {
     "name": "stdout",
     "output_type": "stream",
     "text": [
      "!!!!!!!!!!!!!!!!!!!!!!!!!!!!!!!!!!!!!!!\n"
     ]
    },
    {
     "name": "stderr",
     "output_type": "stream",
     "text": [
      "  8%|██████▍                                                                          | 37/467 [00:03<00:42, 10.04it/s]"
     ]
    },
    {
     "name": "stdout",
     "output_type": "stream",
     "text": [
      "!!!!!!!!!!!!!!!!!!!!!!!!!!!!!!!!!!!!!!!\n"
     ]
    },
    {
     "name": "stderr",
     "output_type": "stream",
     "text": [
      "  9%|███████                                                                          | 41/467 [00:03<00:41, 10.35it/s]"
     ]
    },
    {
     "name": "stdout",
     "output_type": "stream",
     "text": [
      "!!!!!!!!!!!!!!!!!!!!!!!!!!!!!!!!!!!!!!!\n"
     ]
    },
    {
     "name": "stderr",
     "output_type": "stream",
     "text": [
      " 12%|█████████▉                                                                       | 57/467 [00:05<00:39, 10.34it/s]"
     ]
    },
    {
     "name": "stdout",
     "output_type": "stream",
     "text": [
      "!!!!!!!!!!!!!!!!!!!!!!!!!!!!!!!!!!!!!!!\n"
     ]
    },
    {
     "name": "stderr",
     "output_type": "stream",
     "text": [
      " 13%|██████████▌                                                                      | 61/467 [00:05<00:38, 10.45it/s]"
     ]
    },
    {
     "name": "stdout",
     "output_type": "stream",
     "text": [
      "!!!!!!!!!!!!!!!!!!!!!!!!!!!!!!!!!!!!!!!\n"
     ]
    },
    {
     "name": "stderr",
     "output_type": "stream",
     "text": [
      " 14%|███████████▎                                                                     | 65/467 [00:06<00:38, 10.37it/s]"
     ]
    },
    {
     "name": "stdout",
     "output_type": "stream",
     "text": [
      "!!!!!!!!!!!!!!!!!!!!!!!!!!!!!!!!!!!!!!!\n",
      "!!!!!!!!!!!!!!!!!!!!!!!!!!!!!!!!!!!!!!!\n"
     ]
    },
    {
     "name": "stderr",
     "output_type": "stream",
     "text": [
      " 16%|█████████████▎                                                                   | 77/467 [00:07<00:37, 10.47it/s]"
     ]
    },
    {
     "name": "stdout",
     "output_type": "stream",
     "text": [
      "!!!!!!!!!!!!!!!!!!!!!!!!!!!!!!!!!!!!!!!\n"
     ]
    },
    {
     "name": "stderr",
     "output_type": "stream",
     "text": [
      " 29%|███████████████████████▎                                                        | 136/467 [00:13<00:30, 10.91it/s]"
     ]
    },
    {
     "name": "stdout",
     "output_type": "stream",
     "text": [
      "!!!!!!!!!!!!!!!!!!!!!!!!!!!!!!!!!!!!!!!\n"
     ]
    },
    {
     "name": "stderr",
     "output_type": "stream",
     "text": [
      " 40%|████████████████████████████████                                                | 187/467 [00:17<00:27, 10.12it/s]"
     ]
    },
    {
     "name": "stdout",
     "output_type": "stream",
     "text": [
      "!!!!!!!!!!!!!!!!!!!!!!!!!!!!!!!!!!!!!!!\n"
     ]
    },
    {
     "name": "stderr",
     "output_type": "stream",
     "text": [
      " 43%|██████████████████████████████████▍                                             | 201/467 [00:19<00:25, 10.50it/s]"
     ]
    },
    {
     "name": "stdout",
     "output_type": "stream",
     "text": [
      "!!!!!!!!!!!!!!!!!!!!!!!!!!!!!!!!!!!!!!!\n"
     ]
    },
    {
     "name": "stderr",
     "output_type": "stream",
     "text": [
      " 45%|███████████████████████████████████▋                                            | 208/467 [00:20<00:26,  9.82it/s]"
     ]
    },
    {
     "name": "stdout",
     "output_type": "stream",
     "text": [
      "!!!!!!!!!!!!!!!!!!!!!!!!!!!!!!!!!!!!!!!\n"
     ]
    },
    {
     "name": "stderr",
     "output_type": "stream",
     "text": [
      " 46%|████████████████████████████████████▋                                           | 214/467 [00:20<00:24, 10.19it/s]"
     ]
    },
    {
     "name": "stdout",
     "output_type": "stream",
     "text": [
      "!!!!!!!!!!!!!!!!!!!!!!!!!!!!!!!!!!!!!!!\n"
     ]
    },
    {
     "name": "stderr",
     "output_type": "stream",
     "text": [
      " 49%|███████████████████████████████████████                                         | 228/467 [00:21<00:22, 10.72it/s]"
     ]
    },
    {
     "name": "stdout",
     "output_type": "stream",
     "text": [
      "!!!!!!!!!!!!!!!!!!!!!!!!!!!!!!!!!!!!!!!\n",
      "!!!!!!!!!!!!!!!!!!!!!!!!!!!!!!!!!!!!!!!\n"
     ]
    },
    {
     "name": "stderr",
     "output_type": "stream",
     "text": [
      " 56%|████████████████████████████████████████████▌                                   | 260/467 [00:24<00:19, 10.69it/s]"
     ]
    },
    {
     "name": "stdout",
     "output_type": "stream",
     "text": [
      "!!!!!!!!!!!!!!!!!!!!!!!!!!!!!!!!!!!!!!!\n"
     ]
    },
    {
     "name": "stderr",
     "output_type": "stream",
     "text": [
      " 61%|████████████████████████████████████████████████▋                               | 284/467 [00:27<00:16, 11.03it/s]"
     ]
    },
    {
     "name": "stdout",
     "output_type": "stream",
     "text": [
      "!!!!!!!!!!!!!!!!!!!!!!!!!!!!!!!!!!!!!!!\n"
     ]
    },
    {
     "name": "stderr",
     "output_type": "stream",
     "text": [
      " 78%|██████████████████████████████████████████████████████████████▌                 | 365/467 [00:34<00:09, 10.58it/s]"
     ]
    },
    {
     "name": "stdout",
     "output_type": "stream",
     "text": [
      "!!!!!!!!!!!!!!!!!!!!!!!!!!!!!!!!!!!!!!!\n"
     ]
    },
    {
     "name": "stderr",
     "output_type": "stream",
     "text": [
      " 79%|███████████████████████████████████████████████████████████████▏                | 369/467 [00:35<00:09, 10.87it/s]"
     ]
    },
    {
     "name": "stdout",
     "output_type": "stream",
     "text": [
      "!!!!!!!!!!!!!!!!!!!!!!!!!!!!!!!!!!!!!!!\n"
     ]
    },
    {
     "name": "stderr",
     "output_type": "stream",
     "text": [
      " 80%|████████████████████████████████████████████████████████████████▏               | 375/467 [00:35<00:08, 10.83it/s]"
     ]
    },
    {
     "name": "stdout",
     "output_type": "stream",
     "text": [
      "!!!!!!!!!!!!!!!!!!!!!!!!!!!!!!!!!!!!!!!\n"
     ]
    },
    {
     "name": "stderr",
     "output_type": "stream",
     "text": [
      " 85%|████████████████████████████████████████████████████████████████████▎           | 399/467 [00:37<00:06, 10.18it/s]"
     ]
    },
    {
     "name": "stdout",
     "output_type": "stream",
     "text": [
      "!!!!!!!!!!!!!!!!!!!!!!!!!!!!!!!!!!!!!!!\n"
     ]
    },
    {
     "name": "stderr",
     "output_type": "stream",
     "text": [
      " 88%|██████████████████████████████████████████████████████████████████████▋         | 413/467 [00:39<00:05, 10.60it/s]"
     ]
    },
    {
     "name": "stdout",
     "output_type": "stream",
     "text": [
      "!!!!!!!!!!!!!!!!!!!!!!!!!!!!!!!!!!!!!!!\n"
     ]
    },
    {
     "name": "stderr",
     "output_type": "stream",
     "text": [
      " 97%|█████████████████████████████████████████████████████████████████████████████▉  | 455/467 [00:43<00:01, 10.75it/s]"
     ]
    },
    {
     "name": "stdout",
     "output_type": "stream",
     "text": [
      "!!!!!!!!!!!!!!!!!!!!!!!!!!!!!!!!!!!!!!!\n"
     ]
    },
    {
     "name": "stderr",
     "output_type": "stream",
     "text": [
      "100%|████████████████████████████████████████████████████████████████████████████████| 467/467 [00:44<00:00, 10.51it/s]\n"
     ]
    },
    {
     "name": "stdout",
     "output_type": "stream",
     "text": [
      "Level 3\n",
      "Level 4\n",
      "Accuracy: 0.8950749464668094\n",
      "Precision: [0.92972973 0.87234043]\n",
      "Recall: [0.82692308 0.94980695]\n",
      "F-Score: [0.87531807 0.90942699]\n",
      "Support: [208 259]\n",
      "Gausses: 9 Adjustment: -1\n",
      "Gaussian Progressive\n",
      "-----------------------------------------------------------------------------------\n"
     ]
    },
    {
     "name": "stderr",
     "output_type": "stream",
     "text": [
      "  0%|                                                                                          | 0/905 [00:00<?, ?it/s]"
     ]
    },
    {
     "name": "stdout",
     "output_type": "stream",
     "text": [
      "Level 1\n",
      "Level 2\n"
     ]
    },
    {
     "name": "stderr",
     "output_type": "stream",
     "text": [
      "100%|████████████████████████████████████████████████████████████████████████████████| 905/905 [05:07<00:00,  2.95it/s]\n"
     ]
    },
    {
     "name": "stdout",
     "output_type": "stream",
     "text": [
      "Level 3\n",
      "Level 4\n",
      "Accuracy: 0.9911602209944751\n",
      "Precision: [0.98284314 0.99798793]\n",
      "Recall: [0.99751244 0.9860835 ]\n",
      "F-Score: [0.99012346 0.992     ]\n",
      "Support: [402 503]\n",
      "-----------------------------------------------------------------------------------\n"
     ]
    },
    {
     "name": "stderr",
     "output_type": "stream",
     "text": [
      "  0%|                                                                                          | 0/467 [00:00<?, ?it/s]"
     ]
    },
    {
     "name": "stdout",
     "output_type": "stream",
     "text": [
      "Level 1\n",
      "Level 2\n"
     ]
    },
    {
     "name": "stderr",
     "output_type": "stream",
     "text": [
      "100%|████████████████████████████████████████████████████████████████████████████████| 467/467 [02:39<00:00,  2.93it/s]\n"
     ]
    },
    {
     "name": "stdout",
     "output_type": "stream",
     "text": [
      "Level 3\n",
      "Level 4\n",
      "Accuracy: 0.9721627408993576\n",
      "Precision: [0.95774648 0.98425197]\n",
      "Recall: [0.98076923 0.96525097]\n",
      "F-Score: [0.96912114 0.97465887]\n",
      "Support: [208 259]\n",
      "Gausses: 9 Adjustment: -2\n",
      "Gaussian Progressive\n",
      "-----------------------------------------------------------------------------------\n"
     ]
    },
    {
     "name": "stderr",
     "output_type": "stream",
     "text": [
      "  0%|                                                                                          | 0/905 [00:00<?, ?it/s]"
     ]
    },
    {
     "name": "stdout",
     "output_type": "stream",
     "text": [
      "Level 1\n",
      "Level 2\n"
     ]
    },
    {
     "name": "stderr",
     "output_type": "stream",
     "text": [
      "100%|████████████████████████████████████████████████████████████████████████████████| 905/905 [03:41<00:00,  4.08it/s]\n"
     ]
    },
    {
     "name": "stdout",
     "output_type": "stream",
     "text": [
      "Level 3\n",
      "Level 4\n",
      "Accuracy: 0.9668508287292817\n",
      "Precision: [0.96733668 0.96646943]\n",
      "Recall: [0.95771144 0.97415507]\n",
      "F-Score: [0.9625     0.97029703]\n",
      "Support: [402 503]\n",
      "-----------------------------------------------------------------------------------\n"
     ]
    },
    {
     "name": "stderr",
     "output_type": "stream",
     "text": [
      "  0%|                                                                                          | 0/467 [00:00<?, ?it/s]"
     ]
    },
    {
     "name": "stdout",
     "output_type": "stream",
     "text": [
      "Level 1\n",
      "Level 2\n"
     ]
    },
    {
     "name": "stderr",
     "output_type": "stream",
     "text": [
      "100%|████████████████████████████████████████████████████████████████████████████████| 467/467 [01:48<00:00,  4.32it/s]\n"
     ]
    },
    {
     "name": "stdout",
     "output_type": "stream",
     "text": [
      "Level 3\n",
      "Level 4\n",
      "Accuracy: 0.9314775160599572\n",
      "Precision: [0.91509434 0.94509804]\n",
      "Recall: [0.93269231 0.93050193]\n",
      "F-Score: [0.92380952 0.93774319]\n",
      "Support: [208 259]\n",
      "Gausses: 9 Adjustment: -1\n",
      "Gaussian Equal\n",
      "-----------------------------------------------------------------------------------\n"
     ]
    },
    {
     "name": "stderr",
     "output_type": "stream",
     "text": [
      "  0%|▏                                                                                 | 2/905 [00:00<01:33,  9.71it/s]"
     ]
    },
    {
     "name": "stdout",
     "output_type": "stream",
     "text": [
      "Level 1\n",
      "Level 2\n"
     ]
    },
    {
     "name": "stderr",
     "output_type": "stream",
     "text": [
      "100%|████████████████████████████████████████████████████████████████████████████████| 905/905 [02:53<00:00,  5.23it/s]\n"
     ]
    },
    {
     "name": "stdout",
     "output_type": "stream",
     "text": [
      "Level 3\n",
      "Level 4\n",
      "Accuracy: 0.9823204419889503\n",
      "Precision: [0.99234694 0.97465887]\n",
      "Recall: [0.96766169 0.99403579]\n",
      "F-Score: [0.97984887 0.98425197]\n",
      "Support: [402 503]\n",
      "-----------------------------------------------------------------------------------\n"
     ]
    },
    {
     "name": "stderr",
     "output_type": "stream",
     "text": [
      "  0%|                                                                                          | 0/467 [00:00<?, ?it/s]"
     ]
    },
    {
     "name": "stdout",
     "output_type": "stream",
     "text": [
      "Level 1\n",
      "Level 2\n"
     ]
    },
    {
     "name": "stderr",
     "output_type": "stream",
     "text": [
      "100%|████████████████████████████████████████████████████████████████████████████████| 467/467 [01:30<00:00,  5.17it/s]\n"
     ]
    },
    {
     "name": "stdout",
     "output_type": "stream",
     "text": [
      "Level 3\n",
      "Level 4\n",
      "Accuracy: 0.9678800856531049\n",
      "Precision: [0.9800995  0.95864662]\n",
      "Recall: [0.94711538 0.98455598]\n",
      "F-Score: [0.96332518 0.97142857]\n",
      "Support: [208 259]\n",
      "Gausses: 9 Adjustment: -2\n",
      "Gaussian Equal\n",
      "-----------------------------------------------------------------------------------\n"
     ]
    },
    {
     "name": "stderr",
     "output_type": "stream",
     "text": [
      "  0%|▏                                                                                 | 2/905 [00:00<01:22, 10.97it/s]"
     ]
    },
    {
     "name": "stdout",
     "output_type": "stream",
     "text": [
      "Level 1\n",
      "Level 2\n"
     ]
    },
    {
     "name": "stderr",
     "output_type": "stream",
     "text": [
      "100%|████████████████████████████████████████████████████████████████████████████████| 905/905 [02:55<00:00,  5.16it/s]\n"
     ]
    },
    {
     "name": "stdout",
     "output_type": "stream",
     "text": [
      "Level 3\n",
      "Level 4\n",
      "Accuracy: 0.9845303867403314\n",
      "Precision: [1.        0.9729207]\n",
      "Recall: [0.96517413 1.        ]\n",
      "F-Score: [0.98227848 0.98627451]\n",
      "Support: [402 503]\n",
      "-----------------------------------------------------------------------------------\n"
     ]
    },
    {
     "name": "stderr",
     "output_type": "stream",
     "text": [
      "  0%|▎                                                                                 | 2/467 [00:00<00:42, 10.82it/s]"
     ]
    },
    {
     "name": "stdout",
     "output_type": "stream",
     "text": [
      "Level 1\n",
      "Level 2\n"
     ]
    },
    {
     "name": "stderr",
     "output_type": "stream",
     "text": [
      "100%|████████████████████████████████████████████████████████████████████████████████| 467/467 [01:28<00:00,  5.26it/s]\n"
     ]
    },
    {
     "name": "stdout",
     "output_type": "stream",
     "text": [
      "Level 3\n",
      "Level 4\n",
      "Accuracy: 0.9828693790149893\n",
      "Precision: [0.9950495  0.97358491]\n",
      "Recall: [0.96634615 0.996139  ]\n",
      "F-Score: [0.9804878  0.98473282]\n",
      "Support: [208 259]\n",
      "Gausses: 11 Adjustment: -1\n",
      "Gaussian Progressive\n",
      "-----------------------------------------------------------------------------------\n"
     ]
    },
    {
     "name": "stderr",
     "output_type": "stream",
     "text": [
      "  0%|                                                                                          | 0/905 [00:00<?, ?it/s]"
     ]
    },
    {
     "name": "stdout",
     "output_type": "stream",
     "text": [
      "Level 1\n",
      "Level 2\n"
     ]
    },
    {
     "name": "stderr",
     "output_type": "stream",
     "text": [
      "100%|████████████████████████████████████████████████████████████████████████████████| 905/905 [07:21<00:00,  2.05it/s]\n"
     ]
    },
    {
     "name": "stdout",
     "output_type": "stream",
     "text": [
      "Level 3\n",
      "Level 4\n",
      "Accuracy: 0.974585635359116\n",
      "Precision: [0.94799054 0.99792531]\n",
      "Recall: [0.99751244 0.95626243]\n",
      "F-Score: [0.97212121 0.97664975]\n",
      "Support: [402 503]\n",
      "-----------------------------------------------------------------------------------\n"
     ]
    },
    {
     "name": "stderr",
     "output_type": "stream",
     "text": [
      "  0%|                                                                                          | 0/467 [00:00<?, ?it/s]"
     ]
    },
    {
     "name": "stdout",
     "output_type": "stream",
     "text": [
      "Level 1\n",
      "Level 2\n"
     ]
    },
    {
     "name": "stderr",
     "output_type": "stream",
     "text": [
      "100%|████████████████████████████████████████████████████████████████████████████████| 467/467 [03:50<00:00,  2.02it/s]\n"
     ]
    },
    {
     "name": "stdout",
     "output_type": "stream",
     "text": [
      "Level 3\n",
      "Level 4\n",
      "Accuracy: 0.9379014989293362\n",
      "Precision: [0.88744589 0.98728814]\n",
      "Recall: [0.98557692 0.8996139 ]\n",
      "F-Score: [0.93394077 0.94141414]\n",
      "Support: [208 259]\n",
      "Gausses: 11 Adjustment: -2\n",
      "Gaussian Progressive\n",
      "-----------------------------------------------------------------------------------\n"
     ]
    },
    {
     "name": "stderr",
     "output_type": "stream",
     "text": [
      "  0%|                                                                                          | 0/905 [00:00<?, ?it/s]"
     ]
    },
    {
     "name": "stdout",
     "output_type": "stream",
     "text": [
      "Level 1\n",
      "Level 2\n"
     ]
    },
    {
     "name": "stderr",
     "output_type": "stream",
     "text": [
      "100%|████████████████████████████████████████████████████████████████████████████████| 905/905 [04:41<00:00,  3.22it/s]\n"
     ]
    },
    {
     "name": "stdout",
     "output_type": "stream",
     "text": [
      "Level 3\n",
      "Level 4\n",
      "Accuracy: 0.9646408839779006\n",
      "Precision: [0.9625     0.96633663]\n",
      "Recall: [0.95771144 0.97017893]\n",
      "F-Score: [0.96009975 0.96825397]\n",
      "Support: [402 503]\n",
      "-----------------------------------------------------------------------------------\n"
     ]
    },
    {
     "name": "stderr",
     "output_type": "stream",
     "text": [
      "  0%|                                                                                          | 0/467 [00:00<?, ?it/s]"
     ]
    },
    {
     "name": "stdout",
     "output_type": "stream",
     "text": [
      "Level 1\n",
      "Level 2\n"
     ]
    },
    {
     "name": "stderr",
     "output_type": "stream",
     "text": [
      "100%|████████████████████████████████████████████████████████████████████████████████| 467/467 [02:26<00:00,  3.18it/s]\n"
     ]
    },
    {
     "name": "stdout",
     "output_type": "stream",
     "text": [
      "Level 3\n",
      "Level 4\n",
      "Accuracy: 0.9400428265524625\n",
      "Precision: [0.93269231 0.94594595]\n",
      "Recall: [0.93269231 0.94594595]\n",
      "F-Score: [0.93269231 0.94594595]\n",
      "Support: [208 259]\n",
      "Gausses: 11 Adjustment: -1\n",
      "Gaussian Equal\n",
      "-----------------------------------------------------------------------------------\n"
     ]
    },
    {
     "name": "stderr",
     "output_type": "stream",
     "text": [
      "  0%|                                                                                          | 0/905 [00:00<?, ?it/s]"
     ]
    },
    {
     "name": "stdout",
     "output_type": "stream",
     "text": [
      "Level 1\n",
      "Level 2\n"
     ]
    },
    {
     "name": "stderr",
     "output_type": "stream",
     "text": [
      "100%|████████████████████████████████████████████████████████████████████████████████| 905/905 [05:02<00:00,  2.99it/s]\n"
     ]
    },
    {
     "name": "stdout",
     "output_type": "stream",
     "text": [
      "Level 3\n",
      "Level 4\n",
      "Accuracy: 0.7348066298342542\n",
      "Precision: [1.        0.6769852]\n",
      "Recall: [0.40298507 1.        ]\n",
      "F-Score: [0.57446809 0.80738363]\n",
      "Support: [402 503]\n",
      "-----------------------------------------------------------------------------------\n"
     ]
    },
    {
     "name": "stderr",
     "output_type": "stream",
     "text": [
      "  0%|                                                                                          | 0/467 [00:00<?, ?it/s]"
     ]
    },
    {
     "name": "stdout",
     "output_type": "stream",
     "text": [
      "Level 1\n",
      "Level 2\n"
     ]
    },
    {
     "name": "stderr",
     "output_type": "stream",
     "text": [
      "100%|████████████████████████████████████████████████████████████████████████████████| 467/467 [02:38<00:00,  2.94it/s]\n"
     ]
    },
    {
     "name": "stdout",
     "output_type": "stream",
     "text": [
      "Level 3\n",
      "Level 4\n",
      "Accuracy: 0.7730192719486081\n",
      "Precision: [1.         0.70958904]\n",
      "Recall: [0.49038462 1.        ]\n",
      "F-Score: [0.65806452 0.83012821]\n",
      "Support: [208 259]\n",
      "Gausses: 11 Adjustment: -2\n",
      "Gaussian Equal\n",
      "-----------------------------------------------------------------------------------\n"
     ]
    },
    {
     "name": "stderr",
     "output_type": "stream",
     "text": [
      "  0%|                                                                                          | 0/905 [00:00<?, ?it/s]"
     ]
    },
    {
     "name": "stdout",
     "output_type": "stream",
     "text": [
      "Level 1\n",
      "Level 2\n"
     ]
    },
    {
     "name": "stderr",
     "output_type": "stream",
     "text": [
      "100%|████████████████████████████████████████████████████████████████████████████████| 905/905 [05:30<00:00,  2.73it/s]\n"
     ]
    },
    {
     "name": "stdout",
     "output_type": "stream",
     "text": [
      "Level 3\n",
      "Level 4\n",
      "Accuracy: 1.0\n",
      "Precision: [1. 1.]\n",
      "Recall: [1. 1.]\n",
      "F-Score: [1. 1.]\n",
      "Support: [402 503]\n",
      "-----------------------------------------------------------------------------------\n"
     ]
    },
    {
     "name": "stderr",
     "output_type": "stream",
     "text": [
      "  0%|                                                                                          | 0/467 [00:00<?, ?it/s]"
     ]
    },
    {
     "name": "stdout",
     "output_type": "stream",
     "text": [
      "Level 1\n",
      "Level 2\n"
     ]
    },
    {
     "name": "stderr",
     "output_type": "stream",
     "text": [
      "100%|████████████████████████████████████████████████████████████████████████████████| 467/467 [02:48<00:00,  2.76it/s]"
     ]
    },
    {
     "name": "stdout",
     "output_type": "stream",
     "text": [
      "Level 3\n",
      "Level 4\n",
      "Accuracy: 0.9978586723768736\n",
      "Precision: [0.99521531 1.        ]\n",
      "Recall: [1.       0.996139]\n",
      "F-Score: [0.99760192 0.99806576]\n",
      "Support: [208 259]\n"
     ]
    },
    {
     "name": "stderr",
     "output_type": "stream",
     "text": [
      "\n"
     ]
    }
   ],
   "source": [
    "import pandas as pd\n",
    "import Settings.GeneralSettings as generalSettings\n",
    "from Settings.SettingsDataBanknoteAuthentication import Settings as Settings\n",
    "\n",
    "helper = Helper()\n",
    "results = pd.DataFrame({\n",
    "            'Fuzzifier Type': pd.Series([], dtype='str'),\n",
    "            'Gausses': pd.Series([], dtype='int'),\n",
    "            'Adjustment': pd.Series([], dtype='str'),\n",
    "            'Accuracy': pd.Series([], dtype='float'),\n",
    "            'F1 Score': pd.Series([], dtype='float')\n",
    "        })\n",
    "\n",
    "for gauss in [3, 5, 7, 9, 11]:\n",
    "    for style in ['Gaussian Progressive', 'Gaussian Equal']:\n",
    "        for adjustment in [-1, -2]:\n",
    "            print(\"Gausses: \" + str(gauss) + \" Adjustment: \" + str(adjustment))\n",
    "            generalSettings.gausses = gauss\n",
    "            generalSettings.style = style\n",
    "            generalSettings.adjustment_value = adjustment\n",
    "            settings = Settings(generalSettings)        \n",
    "\n",
    "            loadCSV = LoadCSV()\n",
    "            samples_stats, train_stats, test_stats, train_samples = loadCSV.worker(settings)\n",
    "\n",
    "            fuzzify = Fuzzify()\n",
    "            changed_decisions, features_number_after_reduct, implicants_number, fuzzify_parameters, times = fuzzify.worker(settings, settings.adjustment_value, sigma_offset=0.1)   \n",
    "\n",
    "            fuzzification_data = [settings.dataset_name, settings.style, settings.gausses, settings.adjustment, samples_stats, train_stats, test_stats, changed_decisions, round(changed_decisions / train_samples, 2), implicants_number, settings.feature_numbers, features_number_after_reduct]\n",
    "            helper.saveFuzzificationStats(fuzzification_data)\n",
    "\n",
    "            valueTest = ValueTest(settings, settings.s_function_width, settings.is_training)\n",
    "            valueTest.sOptymalizationWorker(settings, settings.default_s_value, settings.show_results, center_offset=0.15)\n",
    "\n",
    "            valueTest = ValueTest(settings, settings.s_function_width, not settings.is_training)\n",
    "            valueTest.sOptymalizationWorker(settings, settings.default_s_value, settings.show_results, center_offset=0.15)\n",
    "            results = results.append(valueTest.results, ignore_index=True)\n",
    "            \n",
    "results.to_csv('ResultsIT2\\DataBanknoteIT2ResultsNoOpt.csv', index=None)"
   ]
  },
  {
   "cell_type": "markdown",
   "metadata": {},
   "source": [
    "## Experiment 2 -- S-Function Optymalization"
   ]
  },
  {
   "cell_type": "code",
   "execution_count": null,
   "metadata": {
    "ExecuteTime": {
     "end_time": "2019-05-27T17:41:08.352676Z",
     "start_time": "2019-05-27T11:56:58.680229Z"
    },
    "scrolled": true
   },
   "outputs": [
    {
     "name": "stderr",
     "output_type": "stream",
     "text": [
      "  2%|█▊                                                                                | 4/181 [00:00<00:04, 39.70it/s]"
     ]
    },
    {
     "name": "stdout",
     "output_type": "stream",
     "text": [
      "Level 1\n",
      "Level 2\n"
     ]
    },
    {
     "name": "stderr",
     "output_type": "stream",
     "text": [
      "100%|███████████████████████████████████████████████████████████████████████████████| 181/181 [00:01<00:00, 155.43it/s]\n",
      "  0%|                                                                                          | 0/181 [00:00<?, ?it/s]"
     ]
    },
    {
     "name": "stdout",
     "output_type": "stream",
     "text": [
      "Level 3\n",
      "Level 4\n",
      "Level 1\n",
      "Level 2\n"
     ]
    },
    {
     "name": "stderr",
     "output_type": "stream",
     "text": [
      "100%|███████████████████████████████████████████████████████████████████████████████| 181/181 [00:01<00:00, 155.20it/s]\n",
      "  0%|                                                                                          | 0/181 [00:00<?, ?it/s]"
     ]
    },
    {
     "name": "stdout",
     "output_type": "stream",
     "text": [
      "Level 3\n",
      "Level 4\n",
      "Level 1\n",
      "Level 2\n"
     ]
    },
    {
     "name": "stderr",
     "output_type": "stream",
     "text": [
      "100%|███████████████████████████████████████████████████████████████████████████████| 181/181 [00:01<00:00, 149.85it/s]\n",
      "  0%|                                                                                          | 0/181 [00:00<?, ?it/s]"
     ]
    },
    {
     "name": "stdout",
     "output_type": "stream",
     "text": [
      "Level 3\n",
      "Level 4\n",
      "Level 1\n",
      "Level 2\n"
     ]
    },
    {
     "name": "stderr",
     "output_type": "stream",
     "text": [
      "100%|███████████████████████████████████████████████████████████████████████████████| 181/181 [00:01<00:00, 142.58it/s]\n",
      "  0%|                                                                                          | 0/181 [00:00<?, ?it/s]"
     ]
    },
    {
     "name": "stdout",
     "output_type": "stream",
     "text": [
      "Level 3\n",
      "Level 4\n",
      "Level 1\n",
      "Level 2\n"
     ]
    },
    {
     "name": "stderr",
     "output_type": "stream",
     "text": [
      "100%|███████████████████████████████████████████████████████████████████████████████| 181/181 [00:01<00:00, 150.25it/s]\n",
      "  0%|                                                                                          | 0/181 [00:00<?, ?it/s]"
     ]
    },
    {
     "name": "stdout",
     "output_type": "stream",
     "text": [
      "Level 3\n",
      "Level 4\n",
      "Level 1\n",
      "Level 2\n"
     ]
    },
    {
     "name": "stderr",
     "output_type": "stream",
     "text": [
      "100%|███████████████████████████████████████████████████████████████████████████████| 181/181 [00:01<00:00, 153.51it/s]\n",
      "  0%|                                                                                          | 0/181 [00:00<?, ?it/s]"
     ]
    },
    {
     "name": "stdout",
     "output_type": "stream",
     "text": [
      "Level 3\n",
      "Level 4\n",
      "Level 1\n",
      "Level 2\n"
     ]
    },
    {
     "name": "stderr",
     "output_type": "stream",
     "text": [
      "100%|███████████████████████████████████████████████████████████████████████████████| 181/181 [00:01<00:00, 155.31it/s]\n",
      "  0%|                                                                                          | 0/181 [00:00<?, ?it/s]"
     ]
    },
    {
     "name": "stdout",
     "output_type": "stream",
     "text": [
      "Level 3\n",
      "Level 4\n",
      "Level 1\n",
      "Level 2\n"
     ]
    },
    {
     "name": "stderr",
     "output_type": "stream",
     "text": [
      "100%|███████████████████████████████████████████████████████████████████████████████| 181/181 [00:01<00:00, 161.25it/s]\n",
      "  0%|                                                                                          | 0/181 [00:00<?, ?it/s]"
     ]
    },
    {
     "name": "stdout",
     "output_type": "stream",
     "text": [
      "Level 3\n",
      "Level 4\n",
      "Level 1\n",
      "Level 2\n"
     ]
    },
    {
     "name": "stderr",
     "output_type": "stream",
     "text": [
      "100%|███████████████████████████████████████████████████████████████████████████████| 181/181 [00:01<00:00, 159.56it/s]\n",
      "  0%|                                                                                          | 0/181 [00:00<?, ?it/s]"
     ]
    },
    {
     "name": "stdout",
     "output_type": "stream",
     "text": [
      "Level 3\n",
      "Level 4\n",
      "Level 1\n",
      "Level 2\n"
     ]
    },
    {
     "name": "stderr",
     "output_type": "stream",
     "text": [
      "100%|███████████████████████████████████████████████████████████████████████████████| 181/181 [00:01<00:00, 159.75it/s]\n",
      "  0%|                                                                                          | 0/181 [00:00<?, ?it/s]"
     ]
    },
    {
     "name": "stdout",
     "output_type": "stream",
     "text": [
      "Level 3\n",
      "Level 4\n",
      "Level 1\n",
      "Level 2\n"
     ]
    },
    {
     "name": "stderr",
     "output_type": "stream",
     "text": [
      "100%|███████████████████████████████████████████████████████████████████████████████| 181/181 [00:01<00:00, 163.67it/s]\n",
      "  0%|                                                                                          | 0/181 [00:00<?, ?it/s]"
     ]
    },
    {
     "name": "stdout",
     "output_type": "stream",
     "text": [
      "Level 3\n",
      "Level 4\n",
      "Level 1\n",
      "Level 2\n"
     ]
    },
    {
     "name": "stderr",
     "output_type": "stream",
     "text": [
      "100%|███████████████████████████████████████████████████████████████████████████████| 181/181 [00:01<00:00, 153.56it/s]\n",
      "  0%|                                                                                          | 0/181 [00:00<?, ?it/s]"
     ]
    },
    {
     "name": "stdout",
     "output_type": "stream",
     "text": [
      "Level 3\n",
      "Level 4\n",
      "Level 1\n",
      "Level 2\n"
     ]
    },
    {
     "name": "stderr",
     "output_type": "stream",
     "text": [
      "100%|███████████████████████████████████████████████████████████████████████████████| 181/181 [00:01<00:00, 159.47it/s]\n",
      "  0%|                                                                                          | 0/181 [00:00<?, ?it/s]"
     ]
    },
    {
     "name": "stdout",
     "output_type": "stream",
     "text": [
      "Level 3\n",
      "Level 4\n",
      "Level 1\n",
      "Level 2\n"
     ]
    },
    {
     "name": "stderr",
     "output_type": "stream",
     "text": [
      "100%|███████████████████████████████████████████████████████████████████████████████| 181/181 [00:01<00:00, 154.06it/s]\n",
      "  0%|                                                                                          | 0/181 [00:00<?, ?it/s]"
     ]
    },
    {
     "name": "stdout",
     "output_type": "stream",
     "text": [
      "Level 3\n",
      "Level 4\n",
      "Level 1\n",
      "Level 2\n"
     ]
    },
    {
     "name": "stderr",
     "output_type": "stream",
     "text": [
      "100%|███████████████████████████████████████████████████████████████████████████████| 181/181 [00:01<00:00, 148.62it/s]\n",
      "  0%|                                                                                          | 0/181 [00:00<?, ?it/s]"
     ]
    },
    {
     "name": "stdout",
     "output_type": "stream",
     "text": [
      "Level 3\n",
      "Level 4\n",
      "Level 1\n",
      "Level 2\n"
     ]
    },
    {
     "name": "stderr",
     "output_type": "stream",
     "text": [
      "100%|███████████████████████████████████████████████████████████████████████████████| 181/181 [00:01<00:00, 141.45it/s]\n",
      "  0%|                                                                                          | 0/181 [00:00<?, ?it/s]"
     ]
    },
    {
     "name": "stdout",
     "output_type": "stream",
     "text": [
      "Level 3\n",
      "Level 4\n",
      "Level 1\n",
      "Level 2\n"
     ]
    },
    {
     "name": "stderr",
     "output_type": "stream",
     "text": [
      "100%|███████████████████████████████████████████████████████████████████████████████| 181/181 [00:01<00:00, 136.86it/s]\n",
      "  0%|                                                                                          | 0/181 [00:00<?, ?it/s]"
     ]
    },
    {
     "name": "stdout",
     "output_type": "stream",
     "text": [
      "Level 3\n",
      "Level 4\n",
      "Level 1\n",
      "Level 2\n"
     ]
    },
    {
     "name": "stderr",
     "output_type": "stream",
     "text": [
      "100%|███████████████████████████████████████████████████████████████████████████████| 181/181 [00:01<00:00, 151.61it/s]\n",
      "  0%|                                                                                          | 0/181 [00:00<?, ?it/s]"
     ]
    },
    {
     "name": "stdout",
     "output_type": "stream",
     "text": [
      "Level 3\n",
      "Level 4\n",
      "Level 1\n",
      "Level 2\n"
     ]
    },
    {
     "name": "stderr",
     "output_type": "stream",
     "text": [
      "100%|███████████████████████████████████████████████████████████████████████████████| 181/181 [00:01<00:00, 155.78it/s]\n",
      "  0%|                                                                                          | 0/181 [00:00<?, ?it/s]"
     ]
    },
    {
     "name": "stdout",
     "output_type": "stream",
     "text": [
      "Level 3\n",
      "Level 4\n",
      "Level 1\n",
      "Level 2\n"
     ]
    },
    {
     "name": "stderr",
     "output_type": "stream",
     "text": [
      "100%|███████████████████████████████████████████████████████████████████████████████| 181/181 [00:01<00:00, 158.36it/s]\n",
      "  0%|                                                                                          | 0/181 [00:00<?, ?it/s]"
     ]
    },
    {
     "name": "stdout",
     "output_type": "stream",
     "text": [
      "Level 3\n",
      "Level 4\n",
      "Level 1\n",
      "Level 2\n"
     ]
    },
    {
     "name": "stderr",
     "output_type": "stream",
     "text": [
      "100%|███████████████████████████████████████████████████████████████████████████████| 181/181 [00:01<00:00, 148.67it/s]\n",
      "  0%|                                                                                          | 0/181 [00:00<?, ?it/s]"
     ]
    },
    {
     "name": "stdout",
     "output_type": "stream",
     "text": [
      "Level 3\n",
      "Level 4\n",
      "Level 1\n",
      "Level 2\n"
     ]
    },
    {
     "name": "stderr",
     "output_type": "stream",
     "text": [
      "100%|███████████████████████████████████████████████████████████████████████████████| 181/181 [00:01<00:00, 156.91it/s]\n",
      "  0%|                                                                                          | 0/181 [00:00<?, ?it/s]"
     ]
    },
    {
     "name": "stdout",
     "output_type": "stream",
     "text": [
      "Level 3\n",
      "Level 4\n",
      "Level 1\n",
      "Level 2\n"
     ]
    },
    {
     "name": "stderr",
     "output_type": "stream",
     "text": [
      "100%|███████████████████████████████████████████████████████████████████████████████| 181/181 [00:01<00:00, 155.83it/s]\n",
      "  0%|                                                                                          | 0/181 [00:00<?, ?it/s]"
     ]
    },
    {
     "name": "stdout",
     "output_type": "stream",
     "text": [
      "Level 3\n",
      "Level 4\n",
      "Level 1\n",
      "Level 2\n"
     ]
    },
    {
     "name": "stderr",
     "output_type": "stream",
     "text": [
      "100%|███████████████████████████████████████████████████████████████████████████████| 181/181 [00:01<00:00, 145.54it/s]\n",
      "  0%|                                                                                          | 0/181 [00:00<?, ?it/s]"
     ]
    },
    {
     "name": "stdout",
     "output_type": "stream",
     "text": [
      "Level 3\n",
      "Level 4\n",
      "Level 1\n",
      "Level 2\n"
     ]
    },
    {
     "name": "stderr",
     "output_type": "stream",
     "text": [
      "100%|███████████████████████████████████████████████████████████████████████████████| 181/181 [00:01<00:00, 155.13it/s]\n",
      "  0%|                                                                                          | 0/181 [00:00<?, ?it/s]"
     ]
    },
    {
     "name": "stdout",
     "output_type": "stream",
     "text": [
      "Level 3\n",
      "Level 4\n",
      "Level 1\n",
      "Level 2\n"
     ]
    },
    {
     "name": "stderr",
     "output_type": "stream",
     "text": [
      "100%|███████████████████████████████████████████████████████████████████████████████| 181/181 [00:01<00:00, 157.57it/s]\n",
      "  0%|                                                                                          | 0/181 [00:00<?, ?it/s]"
     ]
    },
    {
     "name": "stdout",
     "output_type": "stream",
     "text": [
      "Level 3\n",
      "Level 4\n",
      "Level 1\n",
      "Level 2\n"
     ]
    },
    {
     "name": "stderr",
     "output_type": "stream",
     "text": [
      "100%|███████████████████████████████████████████████████████████████████████████████| 181/181 [00:01<00:00, 157.54it/s]\n",
      "  0%|                                                                                          | 0/181 [00:00<?, ?it/s]"
     ]
    },
    {
     "name": "stdout",
     "output_type": "stream",
     "text": [
      "Level 3\n",
      "Level 4\n",
      "Level 1\n",
      "Level 2\n"
     ]
    },
    {
     "name": "stderr",
     "output_type": "stream",
     "text": [
      "100%|███████████████████████████████████████████████████████████████████████████████| 181/181 [00:01<00:00, 161.36it/s]\n",
      "  0%|                                                                                          | 0/181 [00:00<?, ?it/s]"
     ]
    },
    {
     "name": "stdout",
     "output_type": "stream",
     "text": [
      "Level 3\n",
      "Level 4\n",
      "Level 1\n",
      "Level 2\n"
     ]
    },
    {
     "name": "stderr",
     "output_type": "stream",
     "text": [
      "100%|███████████████████████████████████████████████████████████████████████████████| 181/181 [00:01<00:00, 150.99it/s]\n",
      "  0%|                                                                                          | 0/181 [00:00<?, ?it/s]"
     ]
    },
    {
     "name": "stdout",
     "output_type": "stream",
     "text": [
      "Level 3\n",
      "Level 4\n",
      "Level 1\n",
      "Level 2\n"
     ]
    },
    {
     "name": "stderr",
     "output_type": "stream",
     "text": [
      "100%|███████████████████████████████████████████████████████████████████████████████| 181/181 [00:01<00:00, 153.77it/s]\n",
      "  0%|                                                                                          | 0/181 [00:00<?, ?it/s]"
     ]
    },
    {
     "name": "stdout",
     "output_type": "stream",
     "text": [
      "Level 3\n",
      "Level 4\n",
      "Level 1\n",
      "Level 2\n"
     ]
    },
    {
     "name": "stderr",
     "output_type": "stream",
     "text": [
      "100%|███████████████████████████████████████████████████████████████████████████████| 181/181 [00:01<00:00, 142.45it/s]\n",
      "  3%|██▎                                                                               | 5/181 [00:00<00:03, 47.75it/s]"
     ]
    },
    {
     "name": "stdout",
     "output_type": "stream",
     "text": [
      "Level 3\n",
      "Level 4\n",
      "Level 1\n",
      "Level 2\n"
     ]
    },
    {
     "name": "stderr",
     "output_type": "stream",
     "text": [
      "100%|███████████████████████████████████████████████████████████████████████████████| 181/181 [00:01<00:00, 158.36it/s]\n",
      "  0%|                                                                                          | 0/181 [00:00<?, ?it/s]"
     ]
    },
    {
     "name": "stdout",
     "output_type": "stream",
     "text": [
      "Level 3\n",
      "Level 4\n",
      "Level 1\n",
      "Level 2\n"
     ]
    },
    {
     "name": "stderr",
     "output_type": "stream",
     "text": [
      "100%|███████████████████████████████████████████████████████████████████████████████| 181/181 [00:01<00:00, 148.27it/s]\n",
      "  0%|                                                                                          | 0/181 [00:00<?, ?it/s]"
     ]
    },
    {
     "name": "stdout",
     "output_type": "stream",
     "text": [
      "Level 3\n",
      "Level 4\n",
      "Level 1\n",
      "Level 2\n"
     ]
    },
    {
     "name": "stderr",
     "output_type": "stream",
     "text": [
      "100%|███████████████████████████████████████████████████████████████████████████████| 181/181 [00:01<00:00, 148.17it/s]\n",
      "  0%|                                                                                          | 0/181 [00:00<?, ?it/s]"
     ]
    },
    {
     "name": "stdout",
     "output_type": "stream",
     "text": [
      "Level 3\n",
      "Level 4\n",
      "Level 1\n",
      "Level 2\n"
     ]
    },
    {
     "name": "stderr",
     "output_type": "stream",
     "text": [
      "100%|███████████████████████████████████████████████████████████████████████████████| 181/181 [00:01<00:00, 151.62it/s]\n",
      "  0%|                                                                                          | 0/181 [00:00<?, ?it/s]"
     ]
    },
    {
     "name": "stdout",
     "output_type": "stream",
     "text": [
      "Level 3\n",
      "Level 4\n",
      "Level 1\n",
      "Level 2\n"
     ]
    },
    {
     "name": "stderr",
     "output_type": "stream",
     "text": [
      "100%|███████████████████████████████████████████████████████████████████████████████| 181/181 [00:01<00:00, 149.85it/s]\n",
      "  0%|                                                                                          | 0/181 [00:00<?, ?it/s]"
     ]
    },
    {
     "name": "stdout",
     "output_type": "stream",
     "text": [
      "Level 3\n",
      "Level 4\n",
      "Level 1\n",
      "Level 2\n"
     ]
    },
    {
     "name": "stderr",
     "output_type": "stream",
     "text": [
      "100%|███████████████████████████████████████████████████████████████████████████████| 181/181 [00:01<00:00, 146.48it/s]\n",
      "  0%|                                                                                          | 0/181 [00:00<?, ?it/s]"
     ]
    },
    {
     "name": "stdout",
     "output_type": "stream",
     "text": [
      "Level 3\n",
      "Level 4\n",
      "Level 1\n",
      "Level 2\n"
     ]
    },
    {
     "name": "stderr",
     "output_type": "stream",
     "text": [
      "100%|███████████████████████████████████████████████████████████████████████████████| 181/181 [00:01<00:00, 146.12it/s]\n"
     ]
    },
    {
     "name": "stdout",
     "output_type": "stream",
     "text": [
      "Level 3\n",
      "Level 4\n"
     ]
    },
    {
     "name": "stderr",
     "output_type": "stream",
     "text": [
      "  2%|█▌                                                                               | 18/905 [00:00<00:23, 38.43it/s]"
     ]
    },
    {
     "name": "stdout",
     "output_type": "stream",
     "text": [
      "Level 1\n",
      "Level 2\n"
     ]
    },
    {
     "name": "stderr",
     "output_type": "stream",
     "text": [
      "100%|███████████████████████████████████████████████████████████████████████████████| 905/905 [00:05<00:00, 162.68it/s]\n",
      "  0%|                                                                                          | 0/724 [00:00<?, ?it/s]"
     ]
    },
    {
     "name": "stdout",
     "output_type": "stream",
     "text": [
      "Level 3\n",
      "Level 4\n",
      "Level 1\n",
      "Level 2\n"
     ]
    },
    {
     "name": "stderr",
     "output_type": "stream",
     "text": [
      "100%|███████████████████████████████████████████████████████████████████████████████| 724/724 [00:04<00:00, 152.26it/s]\n",
      "  0%|                                                                                          | 0/181 [00:00<?, ?it/s]"
     ]
    },
    {
     "name": "stdout",
     "output_type": "stream",
     "text": [
      "Level 3\n",
      "Level 4\n",
      "Level 1\n",
      "Level 2\n"
     ]
    },
    {
     "name": "stderr",
     "output_type": "stream",
     "text": [
      "100%|███████████████████████████████████████████████████████████████████████████████| 181/181 [00:01<00:00, 151.49it/s]\n",
      "  0%|                                                                                          | 0/181 [00:00<?, ?it/s]"
     ]
    },
    {
     "name": "stdout",
     "output_type": "stream",
     "text": [
      "Level 3\n",
      "Level 4\n",
      "------------------------------------- Fold 0 --------------------------------------\n",
      "Center Point: 0.49999999999999994\n",
      "Train Accuracy: 0.9831287867018799\n",
      "Test Accuracy: 0.9834254143646409\n",
      "Test Precision: [1.         0.97115385]\n",
      "Test Recall: [0.9625 1.    ]\n",
      "Test F-Score: [0.98089172 0.98536585]\n",
      "Test Support: [ 80 101]\n",
      "Time: 80.29272174835205\n",
      "-----------------------------------------------------------------------------------\n",
      "Level 1\n",
      "Level 2\n"
     ]
    },
    {
     "name": "stderr",
     "output_type": "stream",
     "text": [
      "100%|███████████████████████████████████████████████████████████████████████████████| 181/181 [00:01<00:00, 149.23it/s]\n"
     ]
    },
    {
     "name": "stdout",
     "output_type": "stream",
     "text": [
      "Level 3\n",
      "Level 4\n",
      "Test Accuracy: 0.9834254143646409\n",
      "Test F-Score: [0.98089172 0.98536585]\n"
     ]
    },
    {
     "name": "stderr",
     "output_type": "stream",
     "text": [
      "  3%|██▋                                                                               | 6/181 [00:00<00:02, 58.40it/s]"
     ]
    },
    {
     "name": "stdout",
     "output_type": "stream",
     "text": [
      "Level 1\n",
      "Level 2\n"
     ]
    },
    {
     "name": "stderr",
     "output_type": "stream",
     "text": [
      "100%|███████████████████████████████████████████████████████████████████████████████| 181/181 [00:01<00:00, 159.64it/s]\n",
      "  0%|                                                                                          | 0/181 [00:00<?, ?it/s]"
     ]
    },
    {
     "name": "stdout",
     "output_type": "stream",
     "text": [
      "Level 3\n",
      "Level 4\n",
      "Level 1\n",
      "Level 2\n"
     ]
    },
    {
     "name": "stderr",
     "output_type": "stream",
     "text": [
      "100%|███████████████████████████████████████████████████████████████████████████████| 181/181 [00:01<00:00, 165.98it/s]\n",
      "  0%|                                                                                          | 0/181 [00:00<?, ?it/s]"
     ]
    },
    {
     "name": "stdout",
     "output_type": "stream",
     "text": [
      "Level 3\n",
      "Level 4\n",
      "Level 1\n",
      "Level 2\n"
     ]
    },
    {
     "name": "stderr",
     "output_type": "stream",
     "text": [
      "100%|███████████████████████████████████████████████████████████████████████████████| 181/181 [00:01<00:00, 164.96it/s]\n",
      "  0%|                                                                                          | 0/181 [00:00<?, ?it/s]"
     ]
    },
    {
     "name": "stdout",
     "output_type": "stream",
     "text": [
      "Level 3\n",
      "Level 4\n",
      "Level 1\n",
      "Level 2\n"
     ]
    },
    {
     "name": "stderr",
     "output_type": "stream",
     "text": [
      "100%|███████████████████████████████████████████████████████████████████████████████| 181/181 [00:01<00:00, 161.36it/s]\n",
      "  0%|                                                                                          | 0/181 [00:00<?, ?it/s]"
     ]
    },
    {
     "name": "stdout",
     "output_type": "stream",
     "text": [
      "Level 3\n",
      "Level 4\n",
      "Level 1\n",
      "Level 2\n"
     ]
    },
    {
     "name": "stderr",
     "output_type": "stream",
     "text": [
      "100%|███████████████████████████████████████████████████████████████████████████████| 181/181 [00:01<00:00, 167.44it/s]\n",
      "  0%|                                                                                          | 0/181 [00:00<?, ?it/s]"
     ]
    },
    {
     "name": "stdout",
     "output_type": "stream",
     "text": [
      "Level 3\n",
      "Level 4\n",
      "Level 1\n",
      "Level 2\n"
     ]
    },
    {
     "name": "stderr",
     "output_type": "stream",
     "text": [
      "100%|███████████████████████████████████████████████████████████████████████████████| 181/181 [00:01<00:00, 155.21it/s]\n",
      "  3%|██▋                                                                               | 6/181 [00:00<00:02, 58.41it/s]"
     ]
    },
    {
     "name": "stdout",
     "output_type": "stream",
     "text": [
      "Level 3\n",
      "Level 4\n",
      "Level 1\n",
      "Level 2\n"
     ]
    },
    {
     "name": "stderr",
     "output_type": "stream",
     "text": [
      "100%|███████████████████████████████████████████████████████████████████████████████| 181/181 [00:01<00:00, 164.96it/s]\n",
      "  0%|                                                                                          | 0/181 [00:00<?, ?it/s]"
     ]
    },
    {
     "name": "stdout",
     "output_type": "stream",
     "text": [
      "Level 3\n",
      "Level 4\n",
      "Level 1\n",
      "Level 2\n"
     ]
    },
    {
     "name": "stderr",
     "output_type": "stream",
     "text": [
      "100%|███████████████████████████████████████████████████████████████████████████████| 181/181 [00:01<00:00, 167.18it/s]\n",
      "  0%|                                                                                          | 0/181 [00:00<?, ?it/s]"
     ]
    },
    {
     "name": "stdout",
     "output_type": "stream",
     "text": [
      "Level 3\n",
      "Level 4\n",
      "Level 1\n",
      "Level 2\n"
     ]
    },
    {
     "name": "stderr",
     "output_type": "stream",
     "text": [
      "100%|███████████████████████████████████████████████████████████████████████████████| 181/181 [00:01<00:00, 166.46it/s]\n",
      "  0%|                                                                                          | 0/181 [00:00<?, ?it/s]"
     ]
    },
    {
     "name": "stdout",
     "output_type": "stream",
     "text": [
      "Level 3\n",
      "Level 4\n",
      "Level 1\n",
      "Level 2\n"
     ]
    },
    {
     "name": "stderr",
     "output_type": "stream",
     "text": [
      "100%|███████████████████████████████████████████████████████████████████████████████| 181/181 [00:01<00:00, 168.98it/s]\n",
      "  0%|                                                                                          | 0/181 [00:00<?, ?it/s]"
     ]
    },
    {
     "name": "stdout",
     "output_type": "stream",
     "text": [
      "Level 3\n",
      "Level 4\n",
      "Level 1\n",
      "Level 2\n"
     ]
    },
    {
     "name": "stderr",
     "output_type": "stream",
     "text": [
      "100%|███████████████████████████████████████████████████████████████████████████████| 181/181 [00:01<00:00, 164.38it/s]\n",
      "  0%|                                                                                          | 0/181 [00:00<?, ?it/s]"
     ]
    },
    {
     "name": "stdout",
     "output_type": "stream",
     "text": [
      "Level 3\n",
      "Level 4\n",
      "Level 1\n",
      "Level 2\n"
     ]
    },
    {
     "name": "stderr",
     "output_type": "stream",
     "text": [
      "100%|███████████████████████████████████████████████████████████████████████████████| 181/181 [00:01<00:00, 166.95it/s]\n",
      "  0%|                                                                                          | 0/181 [00:00<?, ?it/s]"
     ]
    },
    {
     "name": "stdout",
     "output_type": "stream",
     "text": [
      "Level 3\n",
      "Level 4\n",
      "Level 1\n",
      "Level 2\n"
     ]
    },
    {
     "name": "stderr",
     "output_type": "stream",
     "text": [
      "100%|███████████████████████████████████████████████████████████████████████████████| 181/181 [00:01<00:00, 152.12it/s]\n",
      "  0%|                                                                                          | 0/181 [00:00<?, ?it/s]"
     ]
    },
    {
     "name": "stdout",
     "output_type": "stream",
     "text": [
      "Level 3\n",
      "Level 4\n",
      "Level 1\n",
      "Level 2\n"
     ]
    },
    {
     "name": "stderr",
     "output_type": "stream",
     "text": [
      "100%|███████████████████████████████████████████████████████████████████████████████| 181/181 [00:01<00:00, 155.91it/s]\n",
      "  0%|                                                                                          | 0/181 [00:00<?, ?it/s]"
     ]
    },
    {
     "name": "stdout",
     "output_type": "stream",
     "text": [
      "Level 3\n",
      "Level 4\n",
      "Level 1\n",
      "Level 2\n"
     ]
    },
    {
     "name": "stderr",
     "output_type": "stream",
     "text": [
      "100%|███████████████████████████████████████████████████████████████████████████████| 181/181 [00:01<00:00, 158.79it/s]\n",
      "  0%|                                                                                          | 0/181 [00:00<?, ?it/s]"
     ]
    },
    {
     "name": "stdout",
     "output_type": "stream",
     "text": [
      "Level 3\n",
      "Level 4\n",
      "Level 1\n",
      "Level 2\n"
     ]
    },
    {
     "name": "stderr",
     "output_type": "stream",
     "text": [
      "100%|███████████████████████████████████████████████████████████████████████████████| 181/181 [00:01<00:00, 167.73it/s]\n",
      "  0%|                                                                                          | 0/181 [00:00<?, ?it/s]"
     ]
    },
    {
     "name": "stdout",
     "output_type": "stream",
     "text": [
      "Level 3\n",
      "Level 4\n",
      "Level 1\n",
      "Level 2\n"
     ]
    },
    {
     "name": "stderr",
     "output_type": "stream",
     "text": [
      "100%|███████████████████████████████████████████████████████████████████████████████| 181/181 [00:01<00:00, 162.55it/s]\n",
      "  0%|                                                                                          | 0/181 [00:00<?, ?it/s]"
     ]
    },
    {
     "name": "stdout",
     "output_type": "stream",
     "text": [
      "Level 3\n",
      "Level 4\n",
      "Level 1\n",
      "Level 2\n"
     ]
    },
    {
     "name": "stderr",
     "output_type": "stream",
     "text": [
      "100%|███████████████████████████████████████████████████████████████████████████████| 181/181 [00:01<00:00, 164.46it/s]\n",
      "  0%|                                                                                          | 0/181 [00:00<?, ?it/s]"
     ]
    },
    {
     "name": "stdout",
     "output_type": "stream",
     "text": [
      "Level 3\n",
      "Level 4\n",
      "Level 1\n",
      "Level 2\n"
     ]
    },
    {
     "name": "stderr",
     "output_type": "stream",
     "text": [
      "100%|███████████████████████████████████████████████████████████████████████████████| 181/181 [00:01<00:00, 160.47it/s]\n",
      "  0%|                                                                                          | 0/181 [00:00<?, ?it/s]"
     ]
    },
    {
     "name": "stdout",
     "output_type": "stream",
     "text": [
      "Level 3\n",
      "Level 4\n",
      "Level 1\n",
      "Level 2\n"
     ]
    },
    {
     "name": "stderr",
     "output_type": "stream",
     "text": [
      "100%|███████████████████████████████████████████████████████████████████████████████| 181/181 [00:01<00:00, 165.52it/s]\n",
      "  0%|                                                                                          | 0/181 [00:00<?, ?it/s]"
     ]
    },
    {
     "name": "stdout",
     "output_type": "stream",
     "text": [
      "Level 3\n",
      "Level 4\n",
      "Level 1\n",
      "Level 2\n"
     ]
    },
    {
     "name": "stderr",
     "output_type": "stream",
     "text": [
      "100%|███████████████████████████████████████████████████████████████████████████████| 181/181 [00:01<00:00, 167.82it/s]\n",
      "  0%|                                                                                          | 0/181 [00:00<?, ?it/s]"
     ]
    },
    {
     "name": "stdout",
     "output_type": "stream",
     "text": [
      "Level 3\n",
      "Level 4\n",
      "Level 1\n",
      "Level 2\n"
     ]
    },
    {
     "name": "stderr",
     "output_type": "stream",
     "text": [
      "100%|███████████████████████████████████████████████████████████████████████████████| 181/181 [00:01<00:00, 162.12it/s]\n",
      "  0%|                                                                                          | 0/181 [00:00<?, ?it/s]"
     ]
    },
    {
     "name": "stdout",
     "output_type": "stream",
     "text": [
      "Level 3\n",
      "Level 4\n",
      "Level 1\n",
      "Level 2\n"
     ]
    },
    {
     "name": "stderr",
     "output_type": "stream",
     "text": [
      "100%|███████████████████████████████████████████████████████████████████████████████| 181/181 [00:01<00:00, 154.32it/s]\n",
      "  0%|                                                                                          | 0/181 [00:00<?, ?it/s]"
     ]
    },
    {
     "name": "stdout",
     "output_type": "stream",
     "text": [
      "Level 3\n",
      "Level 4\n",
      "Level 1\n",
      "Level 2\n"
     ]
    },
    {
     "name": "stderr",
     "output_type": "stream",
     "text": [
      "100%|███████████████████████████████████████████████████████████████████████████████| 181/181 [00:01<00:00, 156.04it/s]\n",
      "  0%|                                                                                          | 0/181 [00:00<?, ?it/s]"
     ]
    },
    {
     "name": "stdout",
     "output_type": "stream",
     "text": [
      "Level 3\n",
      "Level 4\n",
      "Level 1\n",
      "Level 2\n"
     ]
    },
    {
     "name": "stderr",
     "output_type": "stream",
     "text": [
      "100%|███████████████████████████████████████████████████████████████████████████████| 181/181 [00:01<00:00, 149.34it/s]\n",
      "  0%|                                                                                          | 0/181 [00:00<?, ?it/s]"
     ]
    },
    {
     "name": "stdout",
     "output_type": "stream",
     "text": [
      "Level 3\n",
      "Level 4\n",
      "Level 1\n",
      "Level 2\n"
     ]
    },
    {
     "name": "stderr",
     "output_type": "stream",
     "text": [
      "100%|███████████████████████████████████████████████████████████████████████████████| 181/181 [00:01<00:00, 155.65it/s]\n",
      "  0%|                                                                                          | 0/181 [00:00<?, ?it/s]"
     ]
    },
    {
     "name": "stdout",
     "output_type": "stream",
     "text": [
      "Level 3\n",
      "Level 4\n",
      "Level 1\n",
      "Level 2\n"
     ]
    },
    {
     "name": "stderr",
     "output_type": "stream",
     "text": [
      "100%|███████████████████████████████████████████████████████████████████████████████| 181/181 [00:01<00:00, 151.66it/s]\n",
      "  0%|                                                                                          | 0/181 [00:00<?, ?it/s]"
     ]
    },
    {
     "name": "stdout",
     "output_type": "stream",
     "text": [
      "Level 3\n",
      "Level 4\n",
      "Level 1\n",
      "Level 2\n"
     ]
    },
    {
     "name": "stderr",
     "output_type": "stream",
     "text": [
      "100%|███████████████████████████████████████████████████████████████████████████████| 181/181 [00:01<00:00, 162.33it/s]\n",
      "  0%|                                                                                          | 0/181 [00:00<?, ?it/s]"
     ]
    },
    {
     "name": "stdout",
     "output_type": "stream",
     "text": [
      "Level 3\n",
      "Level 4\n",
      "Level 1\n",
      "Level 2\n"
     ]
    },
    {
     "name": "stderr",
     "output_type": "stream",
     "text": [
      "100%|███████████████████████████████████████████████████████████████████████████████| 181/181 [00:01<00:00, 159.53it/s]\n",
      "  0%|                                                                                          | 0/181 [00:00<?, ?it/s]"
     ]
    },
    {
     "name": "stdout",
     "output_type": "stream",
     "text": [
      "Level 3\n",
      "Level 4\n",
      "Level 1\n",
      "Level 2\n"
     ]
    },
    {
     "name": "stderr",
     "output_type": "stream",
     "text": [
      "100%|███████████████████████████████████████████████████████████████████████████████| 181/181 [00:01<00:00, 166.80it/s]\n",
      "  0%|                                                                                          | 0/181 [00:00<?, ?it/s]"
     ]
    },
    {
     "name": "stdout",
     "output_type": "stream",
     "text": [
      "Level 3\n",
      "Level 4\n",
      "Level 1\n",
      "Level 2\n"
     ]
    },
    {
     "name": "stderr",
     "output_type": "stream",
     "text": [
      "100%|███████████████████████████████████████████████████████████████████████████████| 181/181 [00:01<00:00, 152.25it/s]\n",
      "  0%|                                                                                          | 0/181 [00:00<?, ?it/s]"
     ]
    },
    {
     "name": "stdout",
     "output_type": "stream",
     "text": [
      "Level 3\n",
      "Level 4\n",
      "Level 1\n",
      "Level 2\n"
     ]
    },
    {
     "name": "stderr",
     "output_type": "stream",
     "text": [
      "100%|███████████████████████████████████████████████████████████████████████████████| 181/181 [00:01<00:00, 159.90it/s]\n",
      "  0%|                                                                                          | 0/181 [00:00<?, ?it/s]"
     ]
    },
    {
     "name": "stdout",
     "output_type": "stream",
     "text": [
      "Level 3\n",
      "Level 4\n",
      "Level 1\n",
      "Level 2\n"
     ]
    },
    {
     "name": "stderr",
     "output_type": "stream",
     "text": [
      "100%|███████████████████████████████████████████████████████████████████████████████| 181/181 [00:01<00:00, 163.21it/s]\n",
      "  0%|                                                                                          | 0/181 [00:00<?, ?it/s]"
     ]
    },
    {
     "name": "stdout",
     "output_type": "stream",
     "text": [
      "Level 3\n",
      "Level 4\n",
      "Level 1\n",
      "Level 2\n"
     ]
    },
    {
     "name": "stderr",
     "output_type": "stream",
     "text": [
      "100%|███████████████████████████████████████████████████████████████████████████████| 181/181 [00:01<00:00, 159.34it/s]\n",
      "  0%|                                                                                          | 0/181 [00:00<?, ?it/s]"
     ]
    },
    {
     "name": "stdout",
     "output_type": "stream",
     "text": [
      "Level 3\n",
      "Level 4\n",
      "Level 1\n",
      "Level 2\n"
     ]
    },
    {
     "name": "stderr",
     "output_type": "stream",
     "text": [
      "100%|███████████████████████████████████████████████████████████████████████████████| 181/181 [00:01<00:00, 167.89it/s]\n",
      "  4%|███▏                                                                              | 7/181 [00:00<00:02, 67.49it/s]"
     ]
    },
    {
     "name": "stdout",
     "output_type": "stream",
     "text": [
      "Level 3\n",
      "Level 4\n",
      "Level 1\n",
      "Level 2\n"
     ]
    },
    {
     "name": "stderr",
     "output_type": "stream",
     "text": [
      "100%|███████████████████████████████████████████████████████████████████████████████| 181/181 [00:01<00:00, 167.73it/s]\n",
      "  0%|                                                                                          | 0/181 [00:00<?, ?it/s]"
     ]
    },
    {
     "name": "stdout",
     "output_type": "stream",
     "text": [
      "Level 3\n",
      "Level 4\n",
      "Level 1\n",
      "Level 2\n"
     ]
    },
    {
     "name": "stderr",
     "output_type": "stream",
     "text": [
      "100%|███████████████████████████████████████████████████████████████████████████████| 181/181 [00:01<00:00, 156.72it/s]\n",
      "  0%|                                                                                          | 0/181 [00:00<?, ?it/s]"
     ]
    },
    {
     "name": "stdout",
     "output_type": "stream",
     "text": [
      "Level 3\n",
      "Level 4\n",
      "Level 1\n",
      "Level 2\n"
     ]
    },
    {
     "name": "stderr",
     "output_type": "stream",
     "text": [
      "100%|███████████████████████████████████████████████████████████████████████████████| 181/181 [00:01<00:00, 162.77it/s]\n"
     ]
    },
    {
     "name": "stdout",
     "output_type": "stream",
     "text": [
      "Level 3\n",
      "Level 4\n"
     ]
    },
    {
     "name": "stderr",
     "output_type": "stream",
     "text": [
      "  3%|██▏                                                                              | 24/905 [00:00<00:14, 61.46it/s]"
     ]
    },
    {
     "name": "stdout",
     "output_type": "stream",
     "text": [
      "Level 1\n",
      "Level 2\n"
     ]
    },
    {
     "name": "stderr",
     "output_type": "stream",
     "text": [
      "100%|███████████████████████████████████████████████████████████████████████████████| 905/905 [00:05<00:00, 171.73it/s]\n",
      "  0%|                                                                                          | 0/724 [00:00<?, ?it/s]"
     ]
    },
    {
     "name": "stdout",
     "output_type": "stream",
     "text": [
      "Level 3\n",
      "Level 4\n",
      "Level 1\n",
      "Level 2\n"
     ]
    },
    {
     "name": "stderr",
     "output_type": "stream",
     "text": [
      "100%|███████████████████████████████████████████████████████████████████████████████| 724/724 [00:04<00:00, 164.98it/s]\n",
      "  0%|                                                                                          | 0/181 [00:00<?, ?it/s]"
     ]
    },
    {
     "name": "stdout",
     "output_type": "stream",
     "text": [
      "Level 3\n",
      "Level 4\n",
      "Level 1\n",
      "Level 2\n"
     ]
    },
    {
     "name": "stderr",
     "output_type": "stream",
     "text": [
      "100%|███████████████████████████████████████████████████████████████████████████████| 181/181 [00:01<00:00, 157.81it/s]\n",
      "  0%|                                                                                          | 0/181 [00:00<?, ?it/s]"
     ]
    },
    {
     "name": "stdout",
     "output_type": "stream",
     "text": [
      "Level 3\n",
      "Level 4\n",
      "------------------------------------- Fold 1 --------------------------------------\n",
      "Center Point: 0.44999999999999996\n",
      "Train Accuracy: 0.9546365914786967\n",
      "Test Accuracy: 0.9558011049723757\n",
      "Test Precision: [1.        0.9266055]\n",
      "Test Recall: [0.9 1. ]\n",
      "Test F-Score: [0.94736842 0.96190476]\n",
      "Test Support: [ 80 101]\n",
      "Time: 76.06768846511841\n",
      "-----------------------------------------------------------------------------------\n",
      "Level 1\n",
      "Level 2\n"
     ]
    },
    {
     "name": "stderr",
     "output_type": "stream",
     "text": [
      "100%|███████████████████████████████████████████████████████████████████████████████| 181/181 [00:01<00:00, 149.79it/s]\n"
     ]
    },
    {
     "name": "stdout",
     "output_type": "stream",
     "text": [
      "Level 3\n",
      "Level 4\n",
      "Test Accuracy: 0.9171270718232044\n",
      "Test F-Score: [0.91017964 0.92307692]\n"
     ]
    },
    {
     "name": "stderr",
     "output_type": "stream",
     "text": [
      " 12%|█████████▍                                                                       | 21/181 [00:00<00:04, 39.23it/s]"
     ]
    },
    {
     "name": "stdout",
     "output_type": "stream",
     "text": [
      "Level 1\n",
      "Level 2\n"
     ]
    },
    {
     "name": "stderr",
     "output_type": "stream",
     "text": [
      "100%|███████████████████████████████████████████████████████████████████████████████| 181/181 [00:01<00:00, 155.51it/s]\n",
      "  0%|                                                                                          | 0/181 [00:00<?, ?it/s]"
     ]
    },
    {
     "name": "stdout",
     "output_type": "stream",
     "text": [
      "Level 3\n",
      "Level 4\n",
      "Level 1\n",
      "Level 2\n"
     ]
    },
    {
     "name": "stderr",
     "output_type": "stream",
     "text": [
      "100%|███████████████████████████████████████████████████████████████████████████████| 181/181 [00:01<00:00, 155.25it/s]\n",
      "  0%|                                                                                          | 0/181 [00:00<?, ?it/s]"
     ]
    },
    {
     "name": "stdout",
     "output_type": "stream",
     "text": [
      "Level 3\n",
      "Level 4\n",
      "Level 1\n",
      "Level 2\n"
     ]
    },
    {
     "name": "stderr",
     "output_type": "stream",
     "text": [
      "100%|███████████████████████████████████████████████████████████████████████████████| 181/181 [00:01<00:00, 151.19it/s]\n",
      "  0%|                                                                                          | 0/181 [00:00<?, ?it/s]"
     ]
    },
    {
     "name": "stdout",
     "output_type": "stream",
     "text": [
      "Level 3\n",
      "Level 4\n",
      "Level 1\n",
      "Level 2\n"
     ]
    },
    {
     "name": "stderr",
     "output_type": "stream",
     "text": [
      "100%|███████████████████████████████████████████████████████████████████████████████| 181/181 [00:01<00:00, 154.43it/s]\n",
      "  0%|                                                                                          | 0/181 [00:00<?, ?it/s]"
     ]
    },
    {
     "name": "stdout",
     "output_type": "stream",
     "text": [
      "Level 3\n",
      "Level 4\n",
      "Level 1\n",
      "Level 2\n"
     ]
    },
    {
     "name": "stderr",
     "output_type": "stream",
     "text": [
      "100%|███████████████████████████████████████████████████████████████████████████████| 181/181 [00:01<00:00, 152.97it/s]\n",
      "  0%|                                                                                          | 0/181 [00:00<?, ?it/s]"
     ]
    },
    {
     "name": "stdout",
     "output_type": "stream",
     "text": [
      "Level 3\n",
      "Level 4\n",
      "Level 1\n",
      "Level 2\n"
     ]
    },
    {
     "name": "stderr",
     "output_type": "stream",
     "text": [
      "100%|███████████████████████████████████████████████████████████████████████████████| 181/181 [00:01<00:00, 156.19it/s]\n",
      "  0%|                                                                                          | 0/181 [00:00<?, ?it/s]"
     ]
    },
    {
     "name": "stdout",
     "output_type": "stream",
     "text": [
      "Level 3\n",
      "Level 4\n",
      "Level 1\n",
      "Level 2\n"
     ]
    },
    {
     "name": "stderr",
     "output_type": "stream",
     "text": [
      "100%|███████████████████████████████████████████████████████████████████████████████| 181/181 [00:01<00:00, 155.32it/s]\n",
      "  0%|                                                                                          | 0/181 [00:00<?, ?it/s]"
     ]
    },
    {
     "name": "stdout",
     "output_type": "stream",
     "text": [
      "Level 3\n",
      "Level 4\n",
      "Level 1\n",
      "Level 2\n"
     ]
    },
    {
     "name": "stderr",
     "output_type": "stream",
     "text": [
      "100%|███████████████████████████████████████████████████████████████████████████████| 181/181 [00:01<00:00, 156.72it/s]\n",
      "  0%|                                                                                          | 0/181 [00:00<?, ?it/s]"
     ]
    },
    {
     "name": "stdout",
     "output_type": "stream",
     "text": [
      "Level 3\n",
      "Level 4\n",
      "Level 1\n",
      "Level 2\n"
     ]
    },
    {
     "name": "stderr",
     "output_type": "stream",
     "text": [
      "100%|███████████████████████████████████████████████████████████████████████████████| 181/181 [00:01<00:00, 129.64it/s]\n",
      "  1%|▉                                                                                 | 2/181 [00:00<00:09, 19.85it/s]"
     ]
    },
    {
     "name": "stdout",
     "output_type": "stream",
     "text": [
      "Level 3\n",
      "Level 4\n",
      "Level 1\n",
      "Level 2\n"
     ]
    },
    {
     "name": "stderr",
     "output_type": "stream",
     "text": [
      "100%|███████████████████████████████████████████████████████████████████████████████| 181/181 [00:01<00:00, 148.95it/s]\n",
      "  0%|                                                                                          | 0/181 [00:00<?, ?it/s]"
     ]
    },
    {
     "name": "stdout",
     "output_type": "stream",
     "text": [
      "Level 3\n",
      "Level 4\n",
      "Level 1\n",
      "Level 2\n"
     ]
    },
    {
     "name": "stderr",
     "output_type": "stream",
     "text": [
      "100%|███████████████████████████████████████████████████████████████████████████████| 181/181 [00:01<00:00, 153.80it/s]\n",
      "  0%|                                                                                          | 0/181 [00:00<?, ?it/s]"
     ]
    },
    {
     "name": "stdout",
     "output_type": "stream",
     "text": [
      "Level 3\n",
      "Level 4\n",
      "Level 1\n",
      "Level 2\n"
     ]
    },
    {
     "name": "stderr",
     "output_type": "stream",
     "text": [
      "100%|███████████████████████████████████████████████████████████████████████████████| 181/181 [00:01<00:00, 149.93it/s]\n"
     ]
    },
    {
     "name": "stdout",
     "output_type": "stream",
     "text": [
      "Level 3\n",
      "Level 4\n",
      "Level 1\n",
      "Level 2"
     ]
    },
    {
     "name": "stderr",
     "output_type": "stream",
     "text": [
      "  1%|▉                                                                                 | 2/181 [00:00<00:10, 17.29it/s]"
     ]
    },
    {
     "name": "stdout",
     "output_type": "stream",
     "text": [
      "\n"
     ]
    },
    {
     "name": "stderr",
     "output_type": "stream",
     "text": [
      "100%|███████████████████████████████████████████████████████████████████████████████| 181/181 [00:01<00:00, 142.45it/s]\n",
      "  0%|                                                                                          | 0/181 [00:00<?, ?it/s]"
     ]
    },
    {
     "name": "stdout",
     "output_type": "stream",
     "text": [
      "Level 3\n",
      "Level 4\n",
      "Level 1\n",
      "Level 2\n"
     ]
    },
    {
     "name": "stderr",
     "output_type": "stream",
     "text": [
      "100%|███████████████████████████████████████████████████████████████████████████████| 181/181 [00:01<00:00, 138.17it/s]\n",
      "  0%|                                                                                          | 0/181 [00:00<?, ?it/s]"
     ]
    },
    {
     "name": "stdout",
     "output_type": "stream",
     "text": [
      "Level 3\n",
      "Level 4\n",
      "Level 1\n",
      "Level 2\n"
     ]
    },
    {
     "name": "stderr",
     "output_type": "stream",
     "text": [
      "100%|███████████████████████████████████████████████████████████████████████████████| 181/181 [00:01<00:00, 144.87it/s]\n",
      "  0%|                                                                                          | 0/181 [00:00<?, ?it/s]"
     ]
    },
    {
     "name": "stdout",
     "output_type": "stream",
     "text": [
      "Level 3\n",
      "Level 4\n",
      "Level 1\n",
      "Level 2\n"
     ]
    },
    {
     "name": "stderr",
     "output_type": "stream",
     "text": [
      "100%|███████████████████████████████████████████████████████████████████████████████| 181/181 [00:01<00:00, 139.02it/s]\n",
      "  0%|                                                                                          | 0/181 [00:00<?, ?it/s]"
     ]
    },
    {
     "name": "stdout",
     "output_type": "stream",
     "text": [
      "Level 3\n",
      "Level 4\n",
      "Level 1\n",
      "Level 2\n"
     ]
    },
    {
     "name": "stderr",
     "output_type": "stream",
     "text": [
      "100%|███████████████████████████████████████████████████████████████████████████████| 181/181 [00:01<00:00, 142.90it/s]\n",
      "  0%|                                                                                          | 0/181 [00:00<?, ?it/s]"
     ]
    },
    {
     "name": "stdout",
     "output_type": "stream",
     "text": [
      "Level 3\n",
      "Level 4\n",
      "Level 1\n",
      "Level 2\n"
     ]
    },
    {
     "name": "stderr",
     "output_type": "stream",
     "text": [
      "100%|███████████████████████████████████████████████████████████████████████████████| 181/181 [00:01<00:00, 138.64it/s]\n",
      "  0%|                                                                                          | 0/181 [00:00<?, ?it/s]"
     ]
    },
    {
     "name": "stdout",
     "output_type": "stream",
     "text": [
      "Level 3\n",
      "Level 4\n",
      "Level 1\n",
      "Level 2\n"
     ]
    },
    {
     "name": "stderr",
     "output_type": "stream",
     "text": [
      "100%|███████████████████████████████████████████████████████████████████████████████| 181/181 [00:01<00:00, 141.86it/s]\n",
      "  0%|                                                                                          | 0/181 [00:00<?, ?it/s]"
     ]
    },
    {
     "name": "stdout",
     "output_type": "stream",
     "text": [
      "Level 3\n",
      "Level 4\n",
      "Level 1\n",
      "Level 2\n"
     ]
    },
    {
     "name": "stderr",
     "output_type": "stream",
     "text": [
      "100%|███████████████████████████████████████████████████████████████████████████████| 181/181 [00:01<00:00, 137.17it/s]\n",
      "  0%|                                                                                          | 0/181 [00:00<?, ?it/s]"
     ]
    },
    {
     "name": "stdout",
     "output_type": "stream",
     "text": [
      "Level 3\n",
      "Level 4\n",
      "Level 1\n",
      "Level 2\n"
     ]
    },
    {
     "name": "stderr",
     "output_type": "stream",
     "text": [
      "100%|███████████████████████████████████████████████████████████████████████████████| 181/181 [00:01<00:00, 139.68it/s]\n"
     ]
    },
    {
     "name": "stdout",
     "output_type": "stream",
     "text": [
      "Level 3\n",
      "Level 4\n",
      "Level 1\n",
      "Level 2\n"
     ]
    },
    {
     "name": "stderr",
     "output_type": "stream",
     "text": [
      "100%|███████████████████████████████████████████████████████████████████████████████| 181/181 [00:01<00:00, 149.06it/s]\n",
      "  0%|                                                                                          | 0/181 [00:00<?, ?it/s]"
     ]
    },
    {
     "name": "stdout",
     "output_type": "stream",
     "text": [
      "Level 3\n",
      "Level 4\n",
      "Level 1\n",
      "Level 2\n"
     ]
    },
    {
     "name": "stderr",
     "output_type": "stream",
     "text": [
      "100%|███████████████████████████████████████████████████████████████████████████████| 181/181 [00:01<00:00, 148.88it/s]\n",
      "  0%|                                                                                          | 0/181 [00:00<?, ?it/s]"
     ]
    },
    {
     "name": "stdout",
     "output_type": "stream",
     "text": [
      "Level 3\n",
      "Level 4\n",
      "Level 1\n",
      "Level 2\n"
     ]
    },
    {
     "name": "stderr",
     "output_type": "stream",
     "text": [
      "100%|███████████████████████████████████████████████████████████████████████████████| 181/181 [00:01<00:00, 145.07it/s]\n",
      "  0%|                                                                                          | 0/181 [00:00<?, ?it/s]"
     ]
    },
    {
     "name": "stdout",
     "output_type": "stream",
     "text": [
      "Level 3\n",
      "Level 4\n",
      "Level 1\n",
      "Level 2\n"
     ]
    },
    {
     "name": "stderr",
     "output_type": "stream",
     "text": [
      "100%|███████████████████████████████████████████████████████████████████████████████| 181/181 [00:01<00:00, 129.54it/s]\n",
      "  0%|                                                                                          | 0/181 [00:00<?, ?it/s]"
     ]
    },
    {
     "name": "stdout",
     "output_type": "stream",
     "text": [
      "Level 3\n",
      "Level 4\n",
      "Level 1\n",
      "Level 2\n"
     ]
    },
    {
     "name": "stderr",
     "output_type": "stream",
     "text": [
      "100%|███████████████████████████████████████████████████████████████████████████████| 181/181 [00:01<00:00, 134.92it/s]\n",
      "  0%|                                                                                          | 0/181 [00:00<?, ?it/s]"
     ]
    },
    {
     "name": "stdout",
     "output_type": "stream",
     "text": [
      "Level 3\n",
      "Level 4\n",
      "Level 1\n",
      "Level 2\n"
     ]
    },
    {
     "name": "stderr",
     "output_type": "stream",
     "text": [
      "100%|███████████████████████████████████████████████████████████████████████████████| 181/181 [00:01<00:00, 137.49it/s]\n",
      "  0%|                                                                                          | 0/181 [00:00<?, ?it/s]"
     ]
    },
    {
     "name": "stdout",
     "output_type": "stream",
     "text": [
      "Level 3\n",
      "Level 4\n",
      "Level 1\n",
      "Level 2\n"
     ]
    },
    {
     "name": "stderr",
     "output_type": "stream",
     "text": [
      "100%|███████████████████████████████████████████████████████████████████████████████| 181/181 [00:01<00:00, 137.17it/s]\n",
      "  0%|                                                                                          | 0/181 [00:00<?, ?it/s]"
     ]
    },
    {
     "name": "stdout",
     "output_type": "stream",
     "text": [
      "Level 3\n",
      "Level 4\n",
      "Level 1\n",
      "Level 2\n"
     ]
    },
    {
     "name": "stderr",
     "output_type": "stream",
     "text": [
      "100%|███████████████████████████████████████████████████████████████████████████████| 181/181 [00:01<00:00, 124.30it/s]\n",
      "  0%|                                                                                          | 0/181 [00:00<?, ?it/s]"
     ]
    },
    {
     "name": "stdout",
     "output_type": "stream",
     "text": [
      "Level 3\n",
      "Level 4\n",
      "Level 1\n",
      "Level 2\n"
     ]
    },
    {
     "name": "stderr",
     "output_type": "stream",
     "text": [
      "100%|███████████████████████████████████████████████████████████████████████████████| 181/181 [00:01<00:00, 138.85it/s]\n",
      "  0%|                                                                                          | 0/181 [00:00<?, ?it/s]"
     ]
    },
    {
     "name": "stdout",
     "output_type": "stream",
     "text": [
      "Level 3\n",
      "Level 4\n",
      "Level 1\n",
      "Level 2\n"
     ]
    },
    {
     "name": "stderr",
     "output_type": "stream",
     "text": [
      "100%|███████████████████████████████████████████████████████████████████████████████| 181/181 [00:01<00:00, 136.38it/s]\n",
      "  0%|                                                                                          | 0/181 [00:00<?, ?it/s]"
     ]
    },
    {
     "name": "stdout",
     "output_type": "stream",
     "text": [
      "Level 3\n",
      "Level 4\n",
      "Level 1\n",
      "Level 2\n"
     ]
    },
    {
     "name": "stderr",
     "output_type": "stream",
     "text": [
      "100%|███████████████████████████████████████████████████████████████████████████████| 181/181 [00:01<00:00, 120.94it/s]\n",
      "  0%|                                                                                          | 0/181 [00:00<?, ?it/s]"
     ]
    },
    {
     "name": "stdout",
     "output_type": "stream",
     "text": [
      "Level 3\n",
      "Level 4\n",
      "Level 1\n",
      "Level 2\n"
     ]
    },
    {
     "name": "stderr",
     "output_type": "stream",
     "text": [
      "100%|███████████████████████████████████████████████████████████████████████████████| 181/181 [00:01<00:00, 130.23it/s]\n",
      "  0%|                                                                                          | 0/181 [00:00<?, ?it/s]"
     ]
    },
    {
     "name": "stdout",
     "output_type": "stream",
     "text": [
      "Level 3\n",
      "Level 4\n",
      "Level 1\n",
      "Level 2\n"
     ]
    },
    {
     "name": "stderr",
     "output_type": "stream",
     "text": [
      "100%|███████████████████████████████████████████████████████████████████████████████| 181/181 [00:01<00:00, 126.32it/s]\n",
      "  0%|                                                                                          | 0/181 [00:00<?, ?it/s]"
     ]
    },
    {
     "name": "stdout",
     "output_type": "stream",
     "text": [
      "Level 3\n",
      "Level 4\n",
      "Level 1\n",
      "Level 2\n"
     ]
    },
    {
     "name": "stderr",
     "output_type": "stream",
     "text": [
      "100%|███████████████████████████████████████████████████████████████████████████████| 181/181 [00:01<00:00, 118.17it/s]\n",
      "  0%|                                                                                          | 0/181 [00:00<?, ?it/s]"
     ]
    },
    {
     "name": "stdout",
     "output_type": "stream",
     "text": [
      "Level 3\n",
      "Level 4\n",
      "Level 1\n",
      "Level 2\n"
     ]
    },
    {
     "name": "stderr",
     "output_type": "stream",
     "text": [
      "100%|███████████████████████████████████████████████████████████████████████████████| 181/181 [00:01<00:00, 144.62it/s]\n",
      "  0%|                                                                                          | 0/181 [00:00<?, ?it/s]"
     ]
    },
    {
     "name": "stdout",
     "output_type": "stream",
     "text": [
      "Level 3\n",
      "Level 4\n",
      "Level 1\n",
      "Level 2\n"
     ]
    },
    {
     "name": "stderr",
     "output_type": "stream",
     "text": [
      "100%|███████████████████████████████████████████████████████████████████████████████| 181/181 [00:01<00:00, 137.07it/s]\n",
      "  0%|                                                                                          | 0/181 [00:00<?, ?it/s]"
     ]
    },
    {
     "name": "stdout",
     "output_type": "stream",
     "text": [
      "Level 3\n",
      "Level 4\n",
      "Level 1\n",
      "Level 2\n"
     ]
    },
    {
     "name": "stderr",
     "output_type": "stream",
     "text": [
      "100%|███████████████████████████████████████████████████████████████████████████████| 181/181 [00:01<00:00, 151.61it/s]\n"
     ]
    },
    {
     "name": "stdout",
     "output_type": "stream",
     "text": [
      "Level 3\n",
      "Level 4\n"
     ]
    },
    {
     "name": "stderr",
     "output_type": "stream",
     "text": [
      "  2%|█▉                                                                               | 21/905 [00:00<00:17, 50.56it/s]"
     ]
    },
    {
     "name": "stdout",
     "output_type": "stream",
     "text": [
      "Level 1\n",
      "Level 2\n"
     ]
    },
    {
     "name": "stderr",
     "output_type": "stream",
     "text": [
      "100%|███████████████████████████████████████████████████████████████████████████████| 905/905 [00:05<00:00, 155.03it/s]\n",
      "  0%|                                                                                          | 0/724 [00:00<?, ?it/s]"
     ]
    },
    {
     "name": "stdout",
     "output_type": "stream",
     "text": [
      "Level 3\n",
      "Level 4\n",
      "Level 1\n",
      "Level 2\n"
     ]
    },
    {
     "name": "stderr",
     "output_type": "stream",
     "text": [
      "100%|███████████████████████████████████████████████████████████████████████████████| 724/724 [00:04<00:00, 163.15it/s]\n",
      "  0%|                                                                                          | 0/181 [00:00<?, ?it/s]"
     ]
    },
    {
     "name": "stdout",
     "output_type": "stream",
     "text": [
      "Level 3\n",
      "Level 4\n",
      "Level 1\n",
      "Level 2\n"
     ]
    },
    {
     "name": "stderr",
     "output_type": "stream",
     "text": [
      "100%|███████████████████████████████████████████████████████████████████████████████| 181/181 [00:01<00:00, 155.69it/s]\n",
      "  0%|                                                                                          | 0/181 [00:00<?, ?it/s]"
     ]
    },
    {
     "name": "stdout",
     "output_type": "stream",
     "text": [
      "Level 3\n",
      "Level 4\n",
      "------------------------------------- Fold 2 --------------------------------------\n",
      "Center Point: 0.49999999999999994\n",
      "Train Accuracy: 0.9943922917247576\n",
      "Test Accuracy: 0.994475138121547\n",
      "Test Precision: [1.         0.99019608]\n",
      "Test Recall: [0.9875 1.    ]\n",
      "Test F-Score: [0.99371069 0.99507389]\n",
      "Test Support: [ 80 101]\n",
      "Time: 85.20018815994263\n",
      "-----------------------------------------------------------------------------------\n",
      "Level 1\n",
      "Level 2\n"
     ]
    },
    {
     "name": "stderr",
     "output_type": "stream",
     "text": [
      "100%|███████████████████████████████████████████████████████████████████████████████| 181/181 [00:01<00:00, 153.15it/s]\n"
     ]
    },
    {
     "name": "stdout",
     "output_type": "stream",
     "text": [
      "Level 3\n",
      "Level 4\n",
      "Test Accuracy: 0.994475138121547\n",
      "Test F-Score: [0.99371069 0.99507389]\n"
     ]
    },
    {
     "name": "stderr",
     "output_type": "stream",
     "text": [
      " 11%|████████▉                                                                        | 20/181 [00:00<00:03, 50.64it/s]"
     ]
    },
    {
     "name": "stdout",
     "output_type": "stream",
     "text": [
      "Level 1\n",
      "Level 2\n"
     ]
    },
    {
     "name": "stderr",
     "output_type": "stream",
     "text": [
      "100%|███████████████████████████████████████████████████████████████████████████████| 181/181 [00:01<00:00, 144.84it/s]\n",
      "  0%|                                                                                          | 0/181 [00:00<?, ?it/s]"
     ]
    },
    {
     "name": "stdout",
     "output_type": "stream",
     "text": [
      "Level 3\n",
      "Level 4\n",
      "Level 1\n",
      "Level 2\n"
     ]
    },
    {
     "name": "stderr",
     "output_type": "stream",
     "text": [
      "100%|███████████████████████████████████████████████████████████████████████████████| 181/181 [00:01<00:00, 155.30it/s]\n",
      "  0%|                                                                                          | 0/181 [00:00<?, ?it/s]"
     ]
    },
    {
     "name": "stdout",
     "output_type": "stream",
     "text": [
      "Level 3\n",
      "Level 4\n",
      "Level 1\n",
      "Level 2\n"
     ]
    },
    {
     "name": "stderr",
     "output_type": "stream",
     "text": [
      "100%|███████████████████████████████████████████████████████████████████████████████| 181/181 [00:01<00:00, 152.94it/s]\n",
      "  0%|                                                                                          | 0/181 [00:00<?, ?it/s]"
     ]
    },
    {
     "name": "stdout",
     "output_type": "stream",
     "text": [
      "Level 3\n",
      "Level 4\n",
      "Level 1\n",
      "Level 2\n"
     ]
    },
    {
     "name": "stderr",
     "output_type": "stream",
     "text": [
      "100%|███████████████████████████████████████████████████████████████████████████████| 181/181 [00:01<00:00, 166.42it/s]\n",
      "  0%|                                                                                          | 0/181 [00:00<?, ?it/s]"
     ]
    },
    {
     "name": "stdout",
     "output_type": "stream",
     "text": [
      "Level 3\n",
      "Level 4\n",
      "Level 1\n",
      "Level 2\n"
     ]
    },
    {
     "name": "stderr",
     "output_type": "stream",
     "text": [
      "100%|███████████████████████████████████████████████████████████████████████████████| 181/181 [00:01<00:00, 162.47it/s]\n",
      "  0%|                                                                                          | 0/181 [00:00<?, ?it/s]"
     ]
    },
    {
     "name": "stdout",
     "output_type": "stream",
     "text": [
      "Level 3\n",
      "Level 4\n",
      "Level 1\n",
      "Level 2\n"
     ]
    },
    {
     "name": "stderr",
     "output_type": "stream",
     "text": [
      "100%|███████████████████████████████████████████████████████████████████████████████| 181/181 [00:01<00:00, 161.89it/s]\n",
      "  0%|                                                                                          | 0/181 [00:00<?, ?it/s]"
     ]
    },
    {
     "name": "stdout",
     "output_type": "stream",
     "text": [
      "Level 3\n",
      "Level 4\n",
      "Level 1\n",
      "Level 2\n"
     ]
    },
    {
     "name": "stderr",
     "output_type": "stream",
     "text": [
      "100%|███████████████████████████████████████████████████████████████████████████████| 181/181 [00:01<00:00, 170.55it/s]\n",
      "  0%|                                                                                          | 0/181 [00:00<?, ?it/s]"
     ]
    },
    {
     "name": "stdout",
     "output_type": "stream",
     "text": [
      "Level 3\n",
      "Level 4\n",
      "Level 1\n",
      "Level 2\n"
     ]
    },
    {
     "name": "stderr",
     "output_type": "stream",
     "text": [
      "100%|███████████████████████████████████████████████████████████████████████████████| 181/181 [00:01<00:00, 169.05it/s]\n",
      "  0%|                                                                                          | 0/181 [00:00<?, ?it/s]"
     ]
    },
    {
     "name": "stdout",
     "output_type": "stream",
     "text": [
      "Level 3\n",
      "Level 4\n",
      "Level 1\n",
      "Level 2\n"
     ]
    },
    {
     "name": "stderr",
     "output_type": "stream",
     "text": [
      "100%|███████████████████████████████████████████████████████████████████████████████| 181/181 [00:01<00:00, 168.51it/s]\n",
      "  0%|                                                                                          | 0/181 [00:00<?, ?it/s]"
     ]
    },
    {
     "name": "stdout",
     "output_type": "stream",
     "text": [
      "Level 3\n",
      "Level 4\n",
      "Level 1\n",
      "Level 2\n"
     ]
    },
    {
     "name": "stderr",
     "output_type": "stream",
     "text": [
      "100%|███████████████████████████████████████████████████████████████████████████████| 181/181 [00:01<00:00, 166.59it/s]\n",
      "  0%|                                                                                          | 0/181 [00:00<?, ?it/s]"
     ]
    },
    {
     "name": "stdout",
     "output_type": "stream",
     "text": [
      "Level 3\n",
      "Level 4\n",
      "Level 1\n",
      "Level 2\n"
     ]
    },
    {
     "name": "stderr",
     "output_type": "stream",
     "text": [
      "100%|███████████████████████████████████████████████████████████████████████████████| 181/181 [00:01<00:00, 169.90it/s]\n",
      "  0%|                                                                                          | 0/181 [00:00<?, ?it/s]"
     ]
    },
    {
     "name": "stdout",
     "output_type": "stream",
     "text": [
      "Level 3\n",
      "Level 4\n",
      "Level 1\n",
      "Level 2\n"
     ]
    },
    {
     "name": "stderr",
     "output_type": "stream",
     "text": [
      "100%|███████████████████████████████████████████████████████████████████████████████| 181/181 [00:01<00:00, 168.88it/s]\n",
      "  0%|                                                                                          | 0/181 [00:00<?, ?it/s]"
     ]
    },
    {
     "name": "stdout",
     "output_type": "stream",
     "text": [
      "Level 3\n",
      "Level 4\n",
      "Level 1\n",
      "Level 2\n"
     ]
    },
    {
     "name": "stderr",
     "output_type": "stream",
     "text": [
      "100%|███████████████████████████████████████████████████████████████████████████████| 181/181 [00:01<00:00, 170.01it/s]\n",
      "  0%|                                                                                          | 0/181 [00:00<?, ?it/s]"
     ]
    },
    {
     "name": "stdout",
     "output_type": "stream",
     "text": [
      "Level 3\n",
      "Level 4\n",
      "Level 1\n",
      "Level 2\n"
     ]
    },
    {
     "name": "stderr",
     "output_type": "stream",
     "text": [
      "100%|███████████████████████████████████████████████████████████████████████████████| 181/181 [00:01<00:00, 163.57it/s]\n",
      "  0%|                                                                                          | 0/181 [00:00<?, ?it/s]"
     ]
    },
    {
     "name": "stdout",
     "output_type": "stream",
     "text": [
      "Level 3\n",
      "Level 4\n",
      "Level 1\n",
      "Level 2\n"
     ]
    },
    {
     "name": "stderr",
     "output_type": "stream",
     "text": [
      "100%|███████████████████████████████████████████████████████████████████████████████| 181/181 [00:01<00:00, 168.66it/s]\n",
      "  0%|                                                                                          | 0/181 [00:00<?, ?it/s]"
     ]
    },
    {
     "name": "stdout",
     "output_type": "stream",
     "text": [
      "Level 3\n",
      "Level 4\n",
      "Level 1\n",
      "Level 2\n"
     ]
    },
    {
     "name": "stderr",
     "output_type": "stream",
     "text": [
      "100%|███████████████████████████████████████████████████████████████████████████████| 181/181 [00:01<00:00, 168.35it/s]\n",
      "  0%|                                                                                          | 0/181 [00:00<?, ?it/s]"
     ]
    },
    {
     "name": "stdout",
     "output_type": "stream",
     "text": [
      "Level 3\n",
      "Level 4\n",
      "Level 1\n",
      "Level 2\n"
     ]
    },
    {
     "name": "stderr",
     "output_type": "stream",
     "text": [
      "100%|███████████████████████████████████████████████████████████████████████████████| 181/181 [00:01<00:00, 169.14it/s]\n",
      "  0%|                                                                                          | 0/181 [00:00<?, ?it/s]"
     ]
    },
    {
     "name": "stdout",
     "output_type": "stream",
     "text": [
      "Level 3\n",
      "Level 4\n",
      "Level 1\n",
      "Level 2\n"
     ]
    },
    {
     "name": "stderr",
     "output_type": "stream",
     "text": [
      "100%|███████████████████████████████████████████████████████████████████████████████| 181/181 [00:01<00:00, 161.90it/s]\n",
      "  0%|                                                                                          | 0/181 [00:00<?, ?it/s]"
     ]
    },
    {
     "name": "stdout",
     "output_type": "stream",
     "text": [
      "Level 3\n",
      "Level 4\n",
      "Level 1\n",
      "Level 2\n"
     ]
    },
    {
     "name": "stderr",
     "output_type": "stream",
     "text": [
      "100%|███████████████████████████████████████████████████████████████████████████████| 181/181 [00:01<00:00, 165.88it/s]\n",
      "  3%|██▋                                                                               | 6/181 [00:00<00:03, 56.17it/s]"
     ]
    },
    {
     "name": "stdout",
     "output_type": "stream",
     "text": [
      "Level 3\n",
      "Level 4\n",
      "Level 1\n",
      "Level 2\n"
     ]
    },
    {
     "name": "stderr",
     "output_type": "stream",
     "text": [
      "100%|███████████████████████████████████████████████████████████████████████████████| 181/181 [00:01<00:00, 168.06it/s]\n",
      "  0%|                                                                                          | 0/181 [00:00<?, ?it/s]"
     ]
    },
    {
     "name": "stdout",
     "output_type": "stream",
     "text": [
      "Level 3\n",
      "Level 4\n",
      "Level 1\n",
      "Level 2\n"
     ]
    },
    {
     "name": "stderr",
     "output_type": "stream",
     "text": [
      "100%|███████████████████████████████████████████████████████████████████████████████| 181/181 [00:01<00:00, 167.59it/s]\n",
      "  0%|                                                                                          | 0/181 [00:00<?, ?it/s]"
     ]
    },
    {
     "name": "stdout",
     "output_type": "stream",
     "text": [
      "Level 3\n",
      "Level 4\n",
      "Level 1\n",
      "Level 2\n"
     ]
    },
    {
     "name": "stderr",
     "output_type": "stream",
     "text": [
      "100%|███████████████████████████████████████████████████████████████████████████████| 181/181 [00:01<00:00, 171.05it/s]\n",
      "  0%|                                                                                          | 0/181 [00:00<?, ?it/s]"
     ]
    },
    {
     "name": "stdout",
     "output_type": "stream",
     "text": [
      "Level 3\n",
      "Level 4\n",
      "Level 1\n",
      "Level 2\n"
     ]
    },
    {
     "name": "stderr",
     "output_type": "stream",
     "text": [
      "100%|███████████████████████████████████████████████████████████████████████████████| 181/181 [00:01<00:00, 163.79it/s]\n",
      "  0%|                                                                                          | 0/181 [00:00<?, ?it/s]"
     ]
    },
    {
     "name": "stdout",
     "output_type": "stream",
     "text": [
      "Level 3\n",
      "Level 4\n",
      "Level 1\n",
      "Level 2\n"
     ]
    },
    {
     "name": "stderr",
     "output_type": "stream",
     "text": [
      "100%|███████████████████████████████████████████████████████████████████████████████| 181/181 [00:01<00:00, 171.70it/s]\n",
      "  0%|                                                                                          | 0/181 [00:00<?, ?it/s]"
     ]
    },
    {
     "name": "stdout",
     "output_type": "stream",
     "text": [
      "Level 3\n",
      "Level 4\n",
      "Level 1\n",
      "Level 2\n"
     ]
    },
    {
     "name": "stderr",
     "output_type": "stream",
     "text": [
      "100%|███████████████████████████████████████████████████████████████████████████████| 181/181 [00:01<00:00, 167.88it/s]\n",
      "  0%|                                                                                          | 0/181 [00:00<?, ?it/s]"
     ]
    },
    {
     "name": "stdout",
     "output_type": "stream",
     "text": [
      "Level 3\n",
      "Level 4\n",
      "Level 1\n",
      "Level 2\n"
     ]
    },
    {
     "name": "stderr",
     "output_type": "stream",
     "text": [
      "100%|███████████████████████████████████████████████████████████████████████████████| 181/181 [00:01<00:00, 168.67it/s]\n",
      "  0%|                                                                                          | 0/181 [00:00<?, ?it/s]"
     ]
    },
    {
     "name": "stdout",
     "output_type": "stream",
     "text": [
      "Level 3\n",
      "Level 4\n",
      "Level 1\n",
      "Level 2\n"
     ]
    },
    {
     "name": "stderr",
     "output_type": "stream",
     "text": [
      "100%|███████████████████████████████████████████████████████████████████████████████| 181/181 [00:01<00:00, 149.73it/s]\n",
      "  0%|                                                                                          | 0/181 [00:00<?, ?it/s]"
     ]
    },
    {
     "name": "stdout",
     "output_type": "stream",
     "text": [
      "Level 3\n",
      "Level 4\n",
      "Level 1\n",
      "Level 2\n"
     ]
    },
    {
     "name": "stderr",
     "output_type": "stream",
     "text": [
      "100%|███████████████████████████████████████████████████████████████████████████████| 181/181 [00:01<00:00, 151.43it/s]\n",
      "  0%|                                                                                          | 0/181 [00:00<?, ?it/s]"
     ]
    },
    {
     "name": "stdout",
     "output_type": "stream",
     "text": [
      "Level 3\n",
      "Level 4\n",
      "Level 1\n",
      "Level 2\n"
     ]
    },
    {
     "name": "stderr",
     "output_type": "stream",
     "text": [
      "100%|███████████████████████████████████████████████████████████████████████████████| 181/181 [00:01<00:00, 149.23it/s]\n",
      "  0%|                                                                                          | 0/181 [00:00<?, ?it/s]"
     ]
    },
    {
     "name": "stdout",
     "output_type": "stream",
     "text": [
      "Level 3\n",
      "Level 4\n",
      "Level 1\n",
      "Level 2\n"
     ]
    },
    {
     "name": "stderr",
     "output_type": "stream",
     "text": [
      "100%|███████████████████████████████████████████████████████████████████████████████| 181/181 [00:01<00:00, 170.72it/s]\n",
      "  0%|                                                                                          | 0/181 [00:00<?, ?it/s]"
     ]
    },
    {
     "name": "stdout",
     "output_type": "stream",
     "text": [
      "Level 3\n",
      "Level 4\n",
      "Level 1\n",
      "Level 2\n"
     ]
    },
    {
     "name": "stderr",
     "output_type": "stream",
     "text": [
      "100%|███████████████████████████████████████████████████████████████████████████████| 181/181 [00:01<00:00, 157.27it/s]\n",
      "  0%|                                                                                          | 0/181 [00:00<?, ?it/s]"
     ]
    },
    {
     "name": "stdout",
     "output_type": "stream",
     "text": [
      "Level 3\n",
      "Level 4\n",
      "Level 1\n",
      "Level 2\n"
     ]
    },
    {
     "name": "stderr",
     "output_type": "stream",
     "text": [
      "100%|███████████████████████████████████████████████████████████████████████████████| 181/181 [00:01<00:00, 162.18it/s]\n",
      "  0%|                                                                                          | 0/181 [00:00<?, ?it/s]"
     ]
    },
    {
     "name": "stdout",
     "output_type": "stream",
     "text": [
      "Level 3\n",
      "Level 4\n",
      "Level 1\n",
      "Level 2\n"
     ]
    },
    {
     "name": "stderr",
     "output_type": "stream",
     "text": [
      "100%|███████████████████████████████████████████████████████████████████████████████| 181/181 [00:01<00:00, 150.71it/s]\n",
      "  0%|                                                                                          | 0/181 [00:00<?, ?it/s]"
     ]
    },
    {
     "name": "stdout",
     "output_type": "stream",
     "text": [
      "Level 3\n",
      "Level 4\n",
      "Level 1\n",
      "Level 2\n"
     ]
    },
    {
     "name": "stderr",
     "output_type": "stream",
     "text": [
      "100%|███████████████████████████████████████████████████████████████████████████████| 181/181 [00:01<00:00, 150.46it/s]\n",
      "  0%|                                                                                          | 0/181 [00:00<?, ?it/s]"
     ]
    },
    {
     "name": "stdout",
     "output_type": "stream",
     "text": [
      "Level 3\n",
      "Level 4\n",
      "Level 1\n",
      "Level 2\n"
     ]
    },
    {
     "name": "stderr",
     "output_type": "stream",
     "text": [
      "100%|███████████████████████████████████████████████████████████████████████████████| 181/181 [00:01<00:00, 146.95it/s]\n",
      "  0%|                                                                                          | 0/181 [00:00<?, ?it/s]"
     ]
    },
    {
     "name": "stdout",
     "output_type": "stream",
     "text": [
      "Level 3\n",
      "Level 4\n",
      "Level 1\n",
      "Level 2\n"
     ]
    },
    {
     "name": "stderr",
     "output_type": "stream",
     "text": [
      "100%|███████████████████████████████████████████████████████████████████████████████| 181/181 [00:01<00:00, 151.62it/s]\n",
      "  0%|                                                                                          | 0/181 [00:00<?, ?it/s]"
     ]
    },
    {
     "name": "stdout",
     "output_type": "stream",
     "text": [
      "Level 3\n",
      "Level 4\n",
      "Level 1\n",
      "Level 2\n"
     ]
    },
    {
     "name": "stderr",
     "output_type": "stream",
     "text": [
      "100%|███████████████████████████████████████████████████████████████████████████████| 181/181 [00:01<00:00, 148.64it/s]\n",
      "  0%|                                                                                          | 0/181 [00:00<?, ?it/s]"
     ]
    },
    {
     "name": "stdout",
     "output_type": "stream",
     "text": [
      "Level 3\n",
      "Level 4\n",
      "Level 1\n",
      "Level 2\n"
     ]
    },
    {
     "name": "stderr",
     "output_type": "stream",
     "text": [
      "100%|███████████████████████████████████████████████████████████████████████████████| 181/181 [00:01<00:00, 148.38it/s]\n",
      "  0%|                                                                                          | 0/181 [00:00<?, ?it/s]"
     ]
    },
    {
     "name": "stdout",
     "output_type": "stream",
     "text": [
      "Level 3\n",
      "Level 4\n",
      "Level 1\n",
      "Level 2\n"
     ]
    },
    {
     "name": "stderr",
     "output_type": "stream",
     "text": [
      "100%|███████████████████████████████████████████████████████████████████████████████| 181/181 [00:01<00:00, 154.58it/s]\n",
      "  0%|                                                                                          | 0/181 [00:00<?, ?it/s]"
     ]
    },
    {
     "name": "stdout",
     "output_type": "stream",
     "text": [
      "Level 3\n",
      "Level 4\n",
      "Level 1\n",
      "Level 2\n"
     ]
    },
    {
     "name": "stderr",
     "output_type": "stream",
     "text": [
      "100%|███████████████████████████████████████████████████████████████████████████████| 181/181 [00:01<00:00, 156.83it/s]\n",
      "  0%|                                                                                          | 0/181 [00:00<?, ?it/s]"
     ]
    },
    {
     "name": "stdout",
     "output_type": "stream",
     "text": [
      "Level 3\n",
      "Level 4\n",
      "Level 1\n",
      "Level 2\n"
     ]
    },
    {
     "name": "stderr",
     "output_type": "stream",
     "text": [
      "100%|███████████████████████████████████████████████████████████████████████████████| 181/181 [00:01<00:00, 142.45it/s]\n"
     ]
    },
    {
     "name": "stdout",
     "output_type": "stream",
     "text": [
      "Level 3\n",
      "Level 4\n"
     ]
    },
    {
     "name": "stderr",
     "output_type": "stream",
     "text": [
      "  0%|▏                                                                                 | 2/905 [00:00<00:45, 19.66it/s]"
     ]
    },
    {
     "name": "stdout",
     "output_type": "stream",
     "text": [
      "Level 1\n",
      "Level 2\n"
     ]
    },
    {
     "name": "stderr",
     "output_type": "stream",
     "text": [
      "100%|███████████████████████████████████████████████████████████████████████████████| 905/905 [00:06<00:00, 148.37it/s]\n",
      "  0%|                                                                                          | 0/724 [00:00<?, ?it/s]"
     ]
    },
    {
     "name": "stdout",
     "output_type": "stream",
     "text": [
      "Level 3\n",
      "Level 4\n",
      "Level 1\n",
      "Level 2\n"
     ]
    },
    {
     "name": "stderr",
     "output_type": "stream",
     "text": [
      "100%|███████████████████████████████████████████████████████████████████████████████| 724/724 [00:04<00:00, 179.17it/s]\n",
      "  0%|                                                                                          | 0/181 [00:00<?, ?it/s]"
     ]
    },
    {
     "name": "stdout",
     "output_type": "stream",
     "text": [
      "Level 3\n",
      "Level 4\n",
      "Level 1\n",
      "Level 2\n"
     ]
    },
    {
     "name": "stderr",
     "output_type": "stream",
     "text": [
      "100%|███████████████████████████████████████████████████████████████████████████████| 181/181 [00:01<00:00, 152.89it/s]\n",
      "  0%|                                                                                          | 0/181 [00:00<?, ?it/s]"
     ]
    },
    {
     "name": "stdout",
     "output_type": "stream",
     "text": [
      "Level 3\n",
      "Level 4\n",
      "------------------------------------- Fold 3 --------------------------------------\n",
      "Center Point: 0.4996093749999999\n",
      "Train Accuracy: 0.949884633133364\n",
      "Test Accuracy: 0.9502762430939227\n",
      "Test Precision: [0.92857143 0.96907216]\n",
      "Test Recall: [0.96296296 0.94      ]\n",
      "Test F-Score: [0.94545455 0.95431472]\n",
      "Test Support: [ 81 100]\n",
      "Time: 79.74342322349548\n",
      "-----------------------------------------------------------------------------------\n",
      "Level 1\n",
      "Level 2\n"
     ]
    },
    {
     "name": "stderr",
     "output_type": "stream",
     "text": [
      "100%|███████████████████████████████████████████████████████████████████████████████| 181/181 [00:01<00:00, 168.05it/s]\n"
     ]
    },
    {
     "name": "stdout",
     "output_type": "stream",
     "text": [
      "Level 3\n",
      "Level 4\n",
      "Test Accuracy: 0.9447513812154696\n",
      "Test F-Score: [0.93975904 0.94897959]\n"
     ]
    },
    {
     "name": "stderr",
     "output_type": "stream",
     "text": [
      "  1%|▉                                                                                 | 2/181 [00:00<00:10, 16.30it/s]"
     ]
    },
    {
     "name": "stdout",
     "output_type": "stream",
     "text": [
      "Level 1\n",
      "Level 2\n"
     ]
    },
    {
     "name": "stderr",
     "output_type": "stream",
     "text": [
      "100%|███████████████████████████████████████████████████████████████████████████████| 181/181 [00:01<00:00, 125.34it/s]\n",
      "  0%|                                                                                          | 0/181 [00:00<?, ?it/s]"
     ]
    },
    {
     "name": "stdout",
     "output_type": "stream",
     "text": [
      "Level 3\n",
      "Level 4\n",
      "Level 1\n",
      "Level 2\n"
     ]
    },
    {
     "name": "stderr",
     "output_type": "stream",
     "text": [
      "100%|███████████████████████████████████████████████████████████████████████████████| 181/181 [00:01<00:00, 130.01it/s]\n",
      "  0%|                                                                                          | 0/181 [00:00<?, ?it/s]"
     ]
    },
    {
     "name": "stdout",
     "output_type": "stream",
     "text": [
      "Level 3\n",
      "Level 4\n",
      "Level 1\n",
      "Level 2\n"
     ]
    },
    {
     "name": "stderr",
     "output_type": "stream",
     "text": [
      "100%|███████████████████████████████████████████████████████████████████████████████| 181/181 [00:01<00:00, 140.98it/s]\n",
      "  0%|                                                                                          | 0/181 [00:00<?, ?it/s]"
     ]
    },
    {
     "name": "stdout",
     "output_type": "stream",
     "text": [
      "Level 3\n",
      "Level 4\n",
      "Level 1\n",
      "Level 2\n"
     ]
    },
    {
     "name": "stderr",
     "output_type": "stream",
     "text": [
      "100%|███████████████████████████████████████████████████████████████████████████████| 181/181 [00:01<00:00, 146.39it/s]\n",
      "  0%|                                                                                          | 0/181 [00:00<?, ?it/s]"
     ]
    },
    {
     "name": "stdout",
     "output_type": "stream",
     "text": [
      "Level 3\n",
      "Level 4\n",
      "Level 1\n",
      "Level 2\n"
     ]
    },
    {
     "name": "stderr",
     "output_type": "stream",
     "text": [
      "100%|███████████████████████████████████████████████████████████████████████████████| 181/181 [00:01<00:00, 149.99it/s]\n",
      "  0%|                                                                                          | 0/181 [00:00<?, ?it/s]"
     ]
    },
    {
     "name": "stdout",
     "output_type": "stream",
     "text": [
      "Level 3\n",
      "Level 4\n",
      "Level 1\n",
      "Level 2\n"
     ]
    },
    {
     "name": "stderr",
     "output_type": "stream",
     "text": [
      "100%|███████████████████████████████████████████████████████████████████████████████| 181/181 [00:01<00:00, 138.36it/s]\n",
      "  0%|                                                                                          | 0/181 [00:00<?, ?it/s]"
     ]
    },
    {
     "name": "stdout",
     "output_type": "stream",
     "text": [
      "Level 3\n",
      "Level 4\n",
      "Level 1\n",
      "Level 2\n"
     ]
    },
    {
     "name": "stderr",
     "output_type": "stream",
     "text": [
      "100%|███████████████████████████████████████████████████████████████████████████████| 181/181 [00:01<00:00, 144.38it/s]\n",
      "  0%|                                                                                          | 0/181 [00:00<?, ?it/s]"
     ]
    },
    {
     "name": "stdout",
     "output_type": "stream",
     "text": [
      "Level 3\n",
      "Level 4\n",
      "Level 1\n",
      "Level 2\n"
     ]
    },
    {
     "name": "stderr",
     "output_type": "stream",
     "text": [
      "100%|███████████████████████████████████████████████████████████████████████████████| 181/181 [00:01<00:00, 147.70it/s]\n",
      "  0%|                                                                                          | 0/181 [00:00<?, ?it/s]"
     ]
    },
    {
     "name": "stdout",
     "output_type": "stream",
     "text": [
      "Level 3\n",
      "Level 4\n",
      "Level 1\n",
      "Level 2\n"
     ]
    },
    {
     "name": "stderr",
     "output_type": "stream",
     "text": [
      "100%|███████████████████████████████████████████████████████████████████████████████| 181/181 [00:01<00:00, 141.98it/s]\n",
      "  0%|                                                                                          | 0/181 [00:00<?, ?it/s]"
     ]
    },
    {
     "name": "stdout",
     "output_type": "stream",
     "text": [
      "Level 3\n",
      "Level 4\n",
      "Level 1\n",
      "Level 2\n"
     ]
    },
    {
     "name": "stderr",
     "output_type": "stream",
     "text": [
      "100%|███████████████████████████████████████████████████████████████████████████████| 181/181 [00:01<00:00, 130.76it/s]\n",
      "  0%|                                                                                          | 0/181 [00:00<?, ?it/s]"
     ]
    },
    {
     "name": "stdout",
     "output_type": "stream",
     "text": [
      "Level 3\n",
      "Level 4\n",
      "Level 1\n",
      "Level 2\n"
     ]
    },
    {
     "name": "stderr",
     "output_type": "stream",
     "text": [
      "100%|███████████████████████████████████████████████████████████████████████████████| 181/181 [00:01<00:00, 133.92it/s]\n"
     ]
    },
    {
     "name": "stdout",
     "output_type": "stream",
     "text": [
      "Level 3\n",
      "Level 4\n",
      "Level 1\n"
     ]
    },
    {
     "name": "stderr",
     "output_type": "stream",
     "text": [
      "  1%|▉                                                                                 | 2/181 [00:00<00:09, 18.37it/s]"
     ]
    },
    {
     "name": "stdout",
     "output_type": "stream",
     "text": [
      "Level 2\n"
     ]
    },
    {
     "name": "stderr",
     "output_type": "stream",
     "text": [
      "100%|███████████████████████████████████████████████████████████████████████████████| 181/181 [00:01<00:00, 121.88it/s]\n",
      "  0%|                                                                                          | 0/181 [00:00<?, ?it/s]"
     ]
    },
    {
     "name": "stdout",
     "output_type": "stream",
     "text": [
      "Level 3\n",
      "Level 4\n",
      "Level 1\n",
      "Level 2\n"
     ]
    },
    {
     "name": "stderr",
     "output_type": "stream",
     "text": [
      "100%|███████████████████████████████████████████████████████████████████████████████| 181/181 [00:01<00:00, 124.23it/s]\n",
      "  0%|                                                                                          | 0/181 [00:00<?, ?it/s]"
     ]
    },
    {
     "name": "stdout",
     "output_type": "stream",
     "text": [
      "Level 3\n",
      "Level 4\n",
      "Level 1\n",
      "Level 2\n"
     ]
    },
    {
     "name": "stderr",
     "output_type": "stream",
     "text": [
      "100%|███████████████████████████████████████████████████████████████████████████████| 181/181 [00:01<00:00, 143.85it/s]\n",
      "  0%|                                                                                          | 0/181 [00:00<?, ?it/s]"
     ]
    },
    {
     "name": "stdout",
     "output_type": "stream",
     "text": [
      "Level 3\n",
      "Level 4\n",
      "Level 1\n",
      "Level 2\n"
     ]
    },
    {
     "name": "stderr",
     "output_type": "stream",
     "text": [
      "100%|███████████████████████████████████████████████████████████████████████████████| 181/181 [00:01<00:00, 142.19it/s]\n",
      "  0%|                                                                                          | 0/181 [00:00<?, ?it/s]"
     ]
    },
    {
     "name": "stdout",
     "output_type": "stream",
     "text": [
      "Level 3\n",
      "Level 4\n",
      "Level 1\n",
      "Level 2\n"
     ]
    },
    {
     "name": "stderr",
     "output_type": "stream",
     "text": [
      "100%|███████████████████████████████████████████████████████████████████████████████| 181/181 [00:01<00:00, 147.08it/s]\n",
      "  0%|                                                                                          | 0/181 [00:00<?, ?it/s]"
     ]
    },
    {
     "name": "stdout",
     "output_type": "stream",
     "text": [
      "Level 3\n",
      "Level 4\n",
      "Level 1\n",
      "Level 2\n"
     ]
    },
    {
     "name": "stderr",
     "output_type": "stream",
     "text": [
      "100%|███████████████████████████████████████████████████████████████████████████████| 181/181 [00:01<00:00, 142.21it/s]\n",
      "  0%|                                                                                          | 0/181 [00:00<?, ?it/s]"
     ]
    },
    {
     "name": "stdout",
     "output_type": "stream",
     "text": [
      "Level 3\n",
      "Level 4\n",
      "Level 1\n",
      "Level 2\n"
     ]
    },
    {
     "name": "stderr",
     "output_type": "stream",
     "text": [
      "100%|███████████████████████████████████████████████████████████████████████████████| 181/181 [00:01<00:00, 147.34it/s]\n",
      "  0%|                                                                                          | 0/181 [00:00<?, ?it/s]"
     ]
    },
    {
     "name": "stdout",
     "output_type": "stream",
     "text": [
      "Level 3\n",
      "Level 4\n",
      "Level 1\n",
      "Level 2\n"
     ]
    },
    {
     "name": "stderr",
     "output_type": "stream",
     "text": [
      "100%|███████████████████████████████████████████████████████████████████████████████| 181/181 [00:01<00:00, 113.68it/s]\n",
      "  0%|                                                                                          | 0/181 [00:00<?, ?it/s]"
     ]
    },
    {
     "name": "stdout",
     "output_type": "stream",
     "text": [
      "Level 3\n",
      "Level 4\n",
      "Level 1\n",
      "Level 2\n"
     ]
    },
    {
     "name": "stderr",
     "output_type": "stream",
     "text": [
      "100%|███████████████████████████████████████████████████████████████████████████████| 181/181 [00:01<00:00, 112.09it/s]\n"
     ]
    },
    {
     "name": "stdout",
     "output_type": "stream",
     "text": [
      "Level 3\n",
      "Level 4\n"
     ]
    },
    {
     "name": "stderr",
     "output_type": "stream",
     "text": [
      "  1%|▉                                                                                 | 2/181 [00:00<00:10, 17.14it/s]"
     ]
    },
    {
     "name": "stdout",
     "output_type": "stream",
     "text": [
      "Level 1\n",
      "Level 2\n"
     ]
    },
    {
     "name": "stderr",
     "output_type": "stream",
     "text": [
      "100%|███████████████████████████████████████████████████████████████████████████████| 181/181 [00:01<00:00, 111.68it/s]\n",
      "  0%|                                                                                          | 0/181 [00:00<?, ?it/s]"
     ]
    },
    {
     "name": "stdout",
     "output_type": "stream",
     "text": [
      "Level 3\n",
      "Level 4\n",
      "Level 1\n",
      "Level 2\n"
     ]
    },
    {
     "name": "stderr",
     "output_type": "stream",
     "text": [
      "100%|███████████████████████████████████████████████████████████████████████████████| 181/181 [00:01<00:00, 112.14it/s]\n",
      "  0%|                                                                                          | 0/181 [00:00<?, ?it/s]"
     ]
    },
    {
     "name": "stdout",
     "output_type": "stream",
     "text": [
      "Level 3\n",
      "Level 4\n",
      "Level 1\n",
      "Level 2\n"
     ]
    },
    {
     "name": "stderr",
     "output_type": "stream",
     "text": [
      "100%|███████████████████████████████████████████████████████████████████████████████| 181/181 [00:01<00:00, 113.63it/s]\n"
     ]
    },
    {
     "name": "stdout",
     "output_type": "stream",
     "text": [
      "Level 3\n",
      "Level 4\n"
     ]
    },
    {
     "name": "stderr",
     "output_type": "stream",
     "text": [
      "  2%|█▊                                                                                | 4/181 [00:00<00:04, 38.55it/s]"
     ]
    },
    {
     "name": "stdout",
     "output_type": "stream",
     "text": [
      "Level 1\n",
      "Level 2\n"
     ]
    },
    {
     "name": "stderr",
     "output_type": "stream",
     "text": [
      "100%|███████████████████████████████████████████████████████████████████████████████| 181/181 [00:01<00:00, 115.39it/s]\n",
      "  0%|                                                                                          | 0/181 [00:00<?, ?it/s]"
     ]
    },
    {
     "name": "stdout",
     "output_type": "stream",
     "text": [
      "Level 3\n",
      "Level 4\n",
      "Level 1\n",
      "Level 2\n"
     ]
    },
    {
     "name": "stderr",
     "output_type": "stream",
     "text": [
      "100%|███████████████████████████████████████████████████████████████████████████████| 181/181 [00:01<00:00, 116.75it/s]\n",
      "  0%|                                                                                          | 0/181 [00:00<?, ?it/s]"
     ]
    },
    {
     "name": "stdout",
     "output_type": "stream",
     "text": [
      "Level 3\n",
      "Level 4\n",
      "Level 1\n",
      "Level 2\n"
     ]
    },
    {
     "name": "stderr",
     "output_type": "stream",
     "text": [
      "100%|███████████████████████████████████████████████████████████████████████████████| 181/181 [00:01<00:00, 135.40it/s]\n",
      "  0%|                                                                                          | 0/181 [00:00<?, ?it/s]"
     ]
    },
    {
     "name": "stdout",
     "output_type": "stream",
     "text": [
      "Level 3\n",
      "Level 4\n",
      "Level 1\n",
      "Level 2\n"
     ]
    },
    {
     "name": "stderr",
     "output_type": "stream",
     "text": [
      "100%|███████████████████████████████████████████████████████████████████████████████| 181/181 [00:01<00:00, 127.38it/s]\n",
      "  0%|                                                                                          | 0/181 [00:00<?, ?it/s]"
     ]
    },
    {
     "name": "stdout",
     "output_type": "stream",
     "text": [
      "Level 3\n",
      "Level 4\n",
      "Level 1\n",
      "Level 2\n"
     ]
    },
    {
     "name": "stderr",
     "output_type": "stream",
     "text": [
      "100%|███████████████████████████████████████████████████████████████████████████████| 181/181 [00:01<00:00, 138.95it/s]\n",
      "  0%|                                                                                          | 0/181 [00:00<?, ?it/s]"
     ]
    },
    {
     "name": "stdout",
     "output_type": "stream",
     "text": [
      "Level 3\n",
      "Level 4\n",
      "Level 1\n",
      "Level 2\n"
     ]
    },
    {
     "name": "stderr",
     "output_type": "stream",
     "text": [
      "100%|███████████████████████████████████████████████████████████████████████████████| 181/181 [00:01<00:00, 132.75it/s]\n",
      "  0%|                                                                                          | 0/181 [00:00<?, ?it/s]"
     ]
    },
    {
     "name": "stdout",
     "output_type": "stream",
     "text": [
      "Level 3\n",
      "Level 4\n",
      "Level 1\n",
      "Level 2\n"
     ]
    },
    {
     "name": "stderr",
     "output_type": "stream",
     "text": [
      "100%|███████████████████████████████████████████████████████████████████████████████| 181/181 [00:01<00:00, 131.06it/s]\n",
      "  0%|                                                                                          | 0/181 [00:00<?, ?it/s]"
     ]
    },
    {
     "name": "stdout",
     "output_type": "stream",
     "text": [
      "Level 3\n",
      "Level 4\n",
      "Level 1\n",
      "Level 2\n"
     ]
    },
    {
     "name": "stderr",
     "output_type": "stream",
     "text": [
      "100%|███████████████████████████████████████████████████████████████████████████████| 181/181 [00:01<00:00, 121.26it/s]\n",
      "  0%|                                                                                          | 0/181 [00:00<?, ?it/s]"
     ]
    },
    {
     "name": "stdout",
     "output_type": "stream",
     "text": [
      "Level 3\n",
      "Level 4\n",
      "Level 1\n",
      "Level 2\n"
     ]
    },
    {
     "name": "stderr",
     "output_type": "stream",
     "text": [
      "100%|███████████████████████████████████████████████████████████████████████████████| 181/181 [00:01<00:00, 131.90it/s]\n",
      "  0%|                                                                                          | 0/181 [00:00<?, ?it/s]"
     ]
    },
    {
     "name": "stdout",
     "output_type": "stream",
     "text": [
      "Level 3\n",
      "Level 4\n",
      "Level 1\n",
      "Level 2\n"
     ]
    },
    {
     "name": "stderr",
     "output_type": "stream",
     "text": [
      "100%|███████████████████████████████████████████████████████████████████████████████| 181/181 [00:01<00:00, 128.56it/s]\n",
      "  0%|                                                                                          | 0/181 [00:00<?, ?it/s]"
     ]
    },
    {
     "name": "stdout",
     "output_type": "stream",
     "text": [
      "Level 3\n",
      "Level 4\n",
      "Level 1\n",
      "Level 2\n"
     ]
    },
    {
     "name": "stderr",
     "output_type": "stream",
     "text": [
      "100%|███████████████████████████████████████████████████████████████████████████████| 181/181 [00:01<00:00, 136.83it/s]\n",
      "  0%|                                                                                          | 0/181 [00:00<?, ?it/s]"
     ]
    },
    {
     "name": "stdout",
     "output_type": "stream",
     "text": [
      "Level 3\n",
      "Level 4\n",
      "Level 1\n",
      "Level 2\n"
     ]
    },
    {
     "name": "stderr",
     "output_type": "stream",
     "text": [
      "100%|███████████████████████████████████████████████████████████████████████████████| 181/181 [00:01<00:00, 139.62it/s]\n",
      "  0%|                                                                                          | 0/181 [00:00<?, ?it/s]"
     ]
    },
    {
     "name": "stdout",
     "output_type": "stream",
     "text": [
      "Level 3\n",
      "Level 4\n",
      "Level 1\n",
      "Level 2\n"
     ]
    },
    {
     "name": "stderr",
     "output_type": "stream",
     "text": [
      "100%|███████████████████████████████████████████████████████████████████████████████| 181/181 [00:01<00:00, 138.99it/s]\n",
      "  0%|                                                                                          | 0/181 [00:00<?, ?it/s]"
     ]
    },
    {
     "name": "stdout",
     "output_type": "stream",
     "text": [
      "Level 3\n",
      "Level 4\n",
      "Level 1\n",
      "Level 2\n"
     ]
    },
    {
     "name": "stderr",
     "output_type": "stream",
     "text": [
      "100%|███████████████████████████████████████████████████████████████████████████████| 181/181 [00:01<00:00, 137.98it/s]\n",
      "  0%|                                                                                          | 0/181 [00:00<?, ?it/s]"
     ]
    },
    {
     "name": "stdout",
     "output_type": "stream",
     "text": [
      "Level 3\n",
      "Level 4\n",
      "Level 1\n",
      "Level 2\n"
     ]
    },
    {
     "name": "stderr",
     "output_type": "stream",
     "text": [
      "100%|███████████████████████████████████████████████████████████████████████████████| 181/181 [00:01<00:00, 134.99it/s]\n",
      "  0%|                                                                                          | 0/181 [00:00<?, ?it/s]"
     ]
    },
    {
     "name": "stdout",
     "output_type": "stream",
     "text": [
      "Level 3\n",
      "Level 4\n",
      "Level 1\n",
      "Level 2\n"
     ]
    },
    {
     "name": "stderr",
     "output_type": "stream",
     "text": [
      "100%|███████████████████████████████████████████████████████████████████████████████| 181/181 [00:01<00:00, 136.12it/s]\n",
      "  0%|                                                                                          | 0/181 [00:00<?, ?it/s]"
     ]
    },
    {
     "name": "stdout",
     "output_type": "stream",
     "text": [
      "Level 3\n",
      "Level 4\n",
      "Level 1\n",
      "Level 2\n"
     ]
    },
    {
     "name": "stderr",
     "output_type": "stream",
     "text": [
      "100%|███████████████████████████████████████████████████████████████████████████████| 181/181 [00:01<00:00, 135.35it/s]\n"
     ]
    },
    {
     "name": "stdout",
     "output_type": "stream",
     "text": [
      "Level 3\n",
      "Level 4\n"
     ]
    },
    {
     "name": "stderr",
     "output_type": "stream",
     "text": [
      "  0%|▎                                                                                 | 4/905 [00:00<00:23, 38.19it/s]"
     ]
    },
    {
     "name": "stdout",
     "output_type": "stream",
     "text": [
      "Level 1\n",
      "Level 2\n"
     ]
    },
    {
     "name": "stderr",
     "output_type": "stream",
     "text": [
      "100%|███████████████████████████████████████████████████████████████████████████████| 905/905 [00:06<00:00, 145.24it/s]\n"
     ]
    },
    {
     "name": "stdout",
     "output_type": "stream",
     "text": [
      "Level 3\n",
      "Level 4\n"
     ]
    },
    {
     "name": "stderr",
     "output_type": "stream",
     "text": [
      "  2%|██                                                                               | 18/724 [00:00<00:18, 39.16it/s]"
     ]
    },
    {
     "name": "stdout",
     "output_type": "stream",
     "text": [
      "Level 1\n",
      "Level 2\n"
     ]
    },
    {
     "name": "stderr",
     "output_type": "stream",
     "text": [
      "100%|███████████████████████████████████████████████████████████████████████████████| 724/724 [00:04<00:00, 146.22it/s]\n"
     ]
    },
    {
     "name": "stdout",
     "output_type": "stream",
     "text": [
      "Level 3\n",
      "Level 4\n",
      "Level 1\n",
      "Level 2"
     ]
    },
    {
     "name": "stderr",
     "output_type": "stream",
     "text": [
      "  2%|█▎                                                                                | 3/181 [00:00<00:06, 28.65it/s]"
     ]
    },
    {
     "name": "stdout",
     "output_type": "stream",
     "text": [
      "\n"
     ]
    },
    {
     "name": "stderr",
     "output_type": "stream",
     "text": [
      "100%|███████████████████████████████████████████████████████████████████████████████| 181/181 [00:01<00:00, 139.15it/s]\n",
      "  0%|                                                                                          | 0/181 [00:00<?, ?it/s]"
     ]
    },
    {
     "name": "stdout",
     "output_type": "stream",
     "text": [
      "Level 3\n",
      "Level 4\n",
      "------------------------------------- Fold 4 --------------------------------------\n",
      "Center Point: 0.48749999999999993\n",
      "Train Accuracy: 1.0\n",
      "Test Accuracy: 1.0\n",
      "Test Precision: [1. 1.]\n",
      "Test Recall: [1. 1.]\n",
      "Test F-Score: [1. 1.]\n",
      "Test Support: [ 81 100]\n",
      "Time: 94.63067412376404\n",
      "-----------------------------------------------------------------------------------\n",
      "Level 1\n",
      "Level 2\n"
     ]
    },
    {
     "name": "stderr",
     "output_type": "stream",
     "text": [
      "100%|███████████████████████████████████████████████████████████████████████████████| 181/181 [00:01<00:00, 131.88it/s]\n",
      "  0%|                                                                                          | 0/467 [00:00<?, ?it/s]"
     ]
    },
    {
     "name": "stdout",
     "output_type": "stream",
     "text": [
      "Level 3\n",
      "Level 4\n",
      "Test Accuracy: 0.994475138121547\n",
      "Test F-Score: [0.99386503 0.99497487]\n",
      "-----------------------------------------------------------------------------------\n",
      "Level 1\n",
      "Level 2\n"
     ]
    },
    {
     "name": "stderr",
     "output_type": "stream",
     "text": [
      "100%|███████████████████████████████████████████████████████████████████████████████| 467/467 [00:03<00:00, 143.24it/s]\n"
     ]
    },
    {
     "name": "stdout",
     "output_type": "stream",
     "text": [
      "Level 3\n",
      "Level 4\n",
      "Accuracy: 0.9764453961456103\n",
      "Precision: [1.         0.95925926]\n",
      "Recall: [0.94711538 1.        ]\n",
      "F-Score: [0.97283951 0.97920605]\n",
      "Support: [208 259]\n",
      "-----------------------------------------------------------------------------------\n",
      "Center Point: 0.48749999999999993\n",
      "Time: 3.448849678039551\n",
      "-----------------------------------------------------------------------------------\n"
     ]
    },
    {
     "name": "stderr",
     "output_type": "stream",
     "text": [
      "  0%|▎                                                                                 | 3/905 [00:00<00:30, 29.77it/s]"
     ]
    },
    {
     "name": "stdout",
     "output_type": "stream",
     "text": [
      "Level 1\n",
      "Level 2\n"
     ]
    },
    {
     "name": "stderr",
     "output_type": "stream",
     "text": [
      "100%|███████████████████████████████████████████████████████████████████████████████| 905/905 [00:06<00:00, 146.49it/s]\n"
     ]
    },
    {
     "name": "stdout",
     "output_type": "stream",
     "text": [
      "Level 3\n",
      "Level 4\n"
     ]
    },
    {
     "name": "stderr",
     "output_type": "stream",
     "text": [
      "  2%|█▊                                                                               | 18/814 [00:00<00:29, 26.86it/s]"
     ]
    },
    {
     "name": "stdout",
     "output_type": "stream",
     "text": [
      "Level 1\n",
      "Level 2\n"
     ]
    },
    {
     "name": "stderr",
     "output_type": "stream",
     "text": [
      "100%|███████████████████████████████████████████████████████████████████████████████| 814/814 [00:05<00:00, 145.11it/s]\n"
     ]
    },
    {
     "name": "stdout",
     "output_type": "stream",
     "text": [
      "Level 3\n",
      "Level 4\n",
      "Accuracy: 1.0\n",
      "Precision: [1. 1.]\n",
      "Recall: [1. 1.]\n",
      "F-Score: [1. 1.]\n",
      "Support: [362 452]\n",
      "Level 1\n",
      "Level 2"
     ]
    },
    {
     "name": "stderr",
     "output_type": "stream",
     "text": [
      "  2%|█▊                                                                                 | 2/91 [00:00<00:05, 15.19it/s]"
     ]
    },
    {
     "name": "stdout",
     "output_type": "stream",
     "text": [
      "\n"
     ]
    },
    {
     "name": "stderr",
     "output_type": "stream",
     "text": [
      "100%|█████████████████████████████████████████████████████████████████████████████████| 91/91 [00:00<00:00, 101.85it/s]\n"
     ]
    },
    {
     "name": "stdout",
     "output_type": "stream",
     "text": [
      "Level 3\n",
      "Level 4\n",
      "Accuracy: 0.989010989010989\n",
      "Precision: [1.         0.98076923]\n",
      "Recall: [0.975 1.   ]\n",
      "F-Score: [0.98734177 0.99029126]\n",
      "Support: [40 51]\n",
      "-----------------------------------------------------------------------------------\n",
      "Center Point: 0.48749999999999993\n",
      "Threshold: 0.48778213408504834\n",
      "Train Accuracy: 0.989010989010989\n",
      "Test Accuracy: 0.989010989010989\n",
      "Time: 84.2363634109497\n",
      "-----------------------------------------------------------------------------------\n"
     ]
    },
    {
     "data": {
      "text/html": [
       "<div>\n",
       "<style scoped>\n",
       "    .dataframe tbody tr th:only-of-type {\n",
       "        vertical-align: middle;\n",
       "    }\n",
       "\n",
       "    .dataframe tbody tr th {\n",
       "        vertical-align: top;\n",
       "    }\n",
       "\n",
       "    .dataframe thead th {\n",
       "        text-align: right;\n",
       "    }\n",
       "</style>\n",
       "<table border=\"1\" class=\"dataframe\">\n",
       "  <thead>\n",
       "    <tr style=\"text-align: right;\">\n",
       "      <th></th>\n",
       "      <th>F0</th>\n",
       "      <th>F1</th>\n",
       "      <th>F2</th>\n",
       "      <th>F3</th>\n",
       "      <th>Decision</th>\n",
       "      <th>Decision Fuzzy</th>\n",
       "      <th>Predicted Value</th>\n",
       "    </tr>\n",
       "  </thead>\n",
       "  <tbody>\n",
       "    <tr>\n",
       "      <th>1253</th>\n",
       "      <td>0.179492</td>\n",
       "      <td>0.044442</td>\n",
       "      <td>0.892920</td>\n",
       "      <td>0.641034</td>\n",
       "      <td>One</td>\n",
       "      <td>One</td>\n",
       "      <td>0.220782</td>\n",
       "    </tr>\n",
       "    <tr>\n",
       "      <th>1125</th>\n",
       "      <td>0.248332</td>\n",
       "      <td>0.004258</td>\n",
       "      <td>0.986120</td>\n",
       "      <td>0.550615</td>\n",
       "      <td>One</td>\n",
       "      <td>One</td>\n",
       "      <td>0.220782</td>\n",
       "    </tr>\n",
       "    <tr>\n",
       "      <th>1247</th>\n",
       "      <td>0.184944</td>\n",
       "      <td>0.027795</td>\n",
       "      <td>0.963642</td>\n",
       "      <td>0.501350</td>\n",
       "      <td>One</td>\n",
       "      <td>One</td>\n",
       "      <td>0.220782</td>\n",
       "    </tr>\n",
       "    <tr>\n",
       "      <th>826</th>\n",
       "      <td>0.204162</td>\n",
       "      <td>0.048625</td>\n",
       "      <td>0.872617</td>\n",
       "      <td>0.651027</td>\n",
       "      <td>One</td>\n",
       "      <td>One</td>\n",
       "      <td>0.220782</td>\n",
       "    </tr>\n",
       "    <tr>\n",
       "      <th>863</th>\n",
       "      <td>0.522414</td>\n",
       "      <td>0.587146</td>\n",
       "      <td>0.086299</td>\n",
       "      <td>0.721107</td>\n",
       "      <td>One</td>\n",
       "      <td>One</td>\n",
       "      <td>0.220782</td>\n",
       "    </tr>\n",
       "    <tr>\n",
       "      <th>...</th>\n",
       "      <td>...</td>\n",
       "      <td>...</td>\n",
       "      <td>...</td>\n",
       "      <td>...</td>\n",
       "      <td>...</td>\n",
       "      <td>...</td>\n",
       "      <td>...</td>\n",
       "    </tr>\n",
       "    <tr>\n",
       "      <th>607</th>\n",
       "      <td>0.922174</td>\n",
       "      <td>0.896321</td>\n",
       "      <td>0.021556</td>\n",
       "      <td>0.382953</td>\n",
       "      <td>Zero</td>\n",
       "      <td>Zero</td>\n",
       "      <td>0.767529</td>\n",
       "    </tr>\n",
       "    <tr>\n",
       "      <th>278</th>\n",
       "      <td>0.572425</td>\n",
       "      <td>0.806348</td>\n",
       "      <td>0.109367</td>\n",
       "      <td>0.601298</td>\n",
       "      <td>Zero</td>\n",
       "      <td>Zero</td>\n",
       "      <td>0.767529</td>\n",
       "    </tr>\n",
       "    <tr>\n",
       "      <th>8</th>\n",
       "      <td>0.738831</td>\n",
       "      <td>0.730856</td>\n",
       "      <td>0.195259</td>\n",
       "      <td>0.721577</td>\n",
       "      <td>Zero</td>\n",
       "      <td>Zero</td>\n",
       "      <td>0.767529</td>\n",
       "    </tr>\n",
       "    <tr>\n",
       "      <th>131</th>\n",
       "      <td>0.877795</td>\n",
       "      <td>0.839800</td>\n",
       "      <td>0.103164</td>\n",
       "      <td>0.640097</td>\n",
       "      <td>Zero</td>\n",
       "      <td>Zero</td>\n",
       "      <td>0.767529</td>\n",
       "    </tr>\n",
       "    <tr>\n",
       "      <th>405</th>\n",
       "      <td>0.550370</td>\n",
       "      <td>0.793262</td>\n",
       "      <td>0.280931</td>\n",
       "      <td>0.508170</td>\n",
       "      <td>Zero</td>\n",
       "      <td>Zero</td>\n",
       "      <td>0.767529</td>\n",
       "    </tr>\n",
       "  </tbody>\n",
       "</table>\n",
       "<p>814 rows × 7 columns</p>\n",
       "</div>"
      ],
      "text/plain": [
       "            F0        F1        F2        F3 Decision Decision Fuzzy  \\\n",
       "1253  0.179492  0.044442  0.892920  0.641034      One            One   \n",
       "1125  0.248332  0.004258  0.986120  0.550615      One            One   \n",
       "1247  0.184944  0.027795  0.963642  0.501350      One            One   \n",
       "826   0.204162  0.048625  0.872617  0.651027      One            One   \n",
       "863   0.522414  0.587146  0.086299  0.721107      One            One   \n",
       "...        ...       ...       ...       ...      ...            ...   \n",
       "607   0.922174  0.896321  0.021556  0.382953     Zero           Zero   \n",
       "278   0.572425  0.806348  0.109367  0.601298     Zero           Zero   \n",
       "8     0.738831  0.730856  0.195259  0.721577     Zero           Zero   \n",
       "131   0.877795  0.839800  0.103164  0.640097     Zero           Zero   \n",
       "405   0.550370  0.793262  0.280931  0.508170     Zero           Zero   \n",
       "\n",
       "      Predicted Value  \n",
       "1253         0.220782  \n",
       "1125         0.220782  \n",
       "1247         0.220782  \n",
       "826          0.220782  \n",
       "863          0.220782  \n",
       "...               ...  \n",
       "607          0.767529  \n",
       "278          0.767529  \n",
       "8            0.767529  \n",
       "131          0.767529  \n",
       "405          0.767529  \n",
       "\n",
       "[814 rows x 7 columns]"
      ]
     },
     "metadata": {},
     "output_type": "display_data"
    },
    {
     "name": "stderr",
     "output_type": "stream",
     "text": [
      "  2%|█▌                                                                               | 17/905 [00:00<00:33, 26.79it/s]"
     ]
    },
    {
     "name": "stdout",
     "output_type": "stream",
     "text": [
      "Level 1\n",
      "Level 2\n"
     ]
    },
    {
     "name": "stderr",
     "output_type": "stream",
     "text": [
      "100%|███████████████████████████████████████████████████████████████████████████████| 905/905 [00:06<00:00, 142.91it/s]\n"
     ]
    },
    {
     "name": "stdout",
     "output_type": "stream",
     "text": [
      "Level 3\n",
      "Level 4\n"
     ]
    },
    {
     "name": "stderr",
     "output_type": "stream",
     "text": [
      "  2%|█▊                                                                               | 18/814 [00:00<00:31, 25.01it/s]"
     ]
    },
    {
     "name": "stdout",
     "output_type": "stream",
     "text": [
      "Level 1\n",
      "Level 2\n"
     ]
    },
    {
     "name": "stderr",
     "output_type": "stream",
     "text": [
      "100%|███████████████████████████████████████████████████████████████████████████████| 814/814 [00:05<00:00, 139.30it/s]\n"
     ]
    },
    {
     "name": "stdout",
     "output_type": "stream",
     "text": [
      "Level 3\n",
      "Level 4\n"
     ]
    },
    {
     "name": "stderr",
     "output_type": "stream",
     "text": [
      "  0%|                                                                                           | 0/91 [00:00<?, ?it/s]"
     ]
    },
    {
     "name": "stdout",
     "output_type": "stream",
     "text": [
      "Accuracy: 0.9557739557739557\n",
      "Precision: [0.96571429 0.94827586]\n",
      "Recall: [0.93370166 0.97345133]\n",
      "F-Score: [0.9494382  0.96069869]\n",
      "Support: [362 452]\n",
      "Level 1\n",
      "Level 2\n"
     ]
    },
    {
     "name": "stderr",
     "output_type": "stream",
     "text": [
      "100%|█████████████████████████████████████████████████████████████████████████████████| 91/91 [00:00<00:00, 129.30it/s]"
     ]
    },
    {
     "name": "stdout",
     "output_type": "stream",
     "text": [
      "Level 3\n",
      "Level 4\n",
      "Accuracy: 0.9120879120879121\n",
      "Precision: [0.94444444 0.89090909]\n",
      "Recall: [0.85       0.96078431]\n",
      "F-Score: [0.89473684 0.9245283 ]\n",
      "Support: [40 51]\n",
      "-----------------------------------------------------------------------------------\n",
      "Center Point: 0.48749999999999993\n",
      "Threshold: 0.48778213408504834\n",
      "Train Accuracy: 0.9120879120879121\n",
      "Test Accuracy: 0.9120879120879121\n",
      "Time: 75.38543677330017\n",
      "-----------------------------------------------------------------------------------\n"
     ]
    },
    {
     "name": "stderr",
     "output_type": "stream",
     "text": [
      "\n"
     ]
    },
    {
     "data": {
      "text/html": [
       "<div>\n",
       "<style scoped>\n",
       "    .dataframe tbody tr th:only-of-type {\n",
       "        vertical-align: middle;\n",
       "    }\n",
       "\n",
       "    .dataframe tbody tr th {\n",
       "        vertical-align: top;\n",
       "    }\n",
       "\n",
       "    .dataframe thead th {\n",
       "        text-align: right;\n",
       "    }\n",
       "</style>\n",
       "<table border=\"1\" class=\"dataframe\">\n",
       "  <thead>\n",
       "    <tr style=\"text-align: right;\">\n",
       "      <th></th>\n",
       "      <th>F0</th>\n",
       "      <th>F1</th>\n",
       "      <th>F2</th>\n",
       "      <th>F3</th>\n",
       "      <th>Decision</th>\n",
       "      <th>Decision Fuzzy</th>\n",
       "      <th>Predicted Value</th>\n",
       "    </tr>\n",
       "  </thead>\n",
       "  <tbody>\n",
       "    <tr>\n",
       "      <th>1186</th>\n",
       "      <td>0.201783</td>\n",
       "      <td>0.026556</td>\n",
       "      <td>0.964857</td>\n",
       "      <td>0.522518</td>\n",
       "      <td>One</td>\n",
       "      <td>One</td>\n",
       "      <td>0.220782</td>\n",
       "    </tr>\n",
       "    <tr>\n",
       "      <th>955</th>\n",
       "      <td>0.348585</td>\n",
       "      <td>0.174603</td>\n",
       "      <td>0.615383</td>\n",
       "      <td>0.751443</td>\n",
       "      <td>One</td>\n",
       "      <td>One</td>\n",
       "      <td>0.220782</td>\n",
       "    </tr>\n",
       "    <tr>\n",
       "      <th>861</th>\n",
       "      <td>0.336225</td>\n",
       "      <td>0.461479</td>\n",
       "      <td>0.276279</td>\n",
       "      <td>0.791889</td>\n",
       "      <td>One</td>\n",
       "      <td>One</td>\n",
       "      <td>0.220782</td>\n",
       "    </tr>\n",
       "    <tr>\n",
       "      <th>1212</th>\n",
       "      <td>0.330723</td>\n",
       "      <td>0.506233</td>\n",
       "      <td>0.288203</td>\n",
       "      <td>0.735569</td>\n",
       "      <td>One</td>\n",
       "      <td>One</td>\n",
       "      <td>0.220782</td>\n",
       "    </tr>\n",
       "    <tr>\n",
       "      <th>1125</th>\n",
       "      <td>0.248332</td>\n",
       "      <td>0.004258</td>\n",
       "      <td>0.986120</td>\n",
       "      <td>0.550615</td>\n",
       "      <td>One</td>\n",
       "      <td>One</td>\n",
       "      <td>0.220782</td>\n",
       "    </tr>\n",
       "    <tr>\n",
       "      <th>...</th>\n",
       "      <td>...</td>\n",
       "      <td>...</td>\n",
       "      <td>...</td>\n",
       "      <td>...</td>\n",
       "      <td>...</td>\n",
       "      <td>...</td>\n",
       "      <td>...</td>\n",
       "    </tr>\n",
       "    <tr>\n",
       "      <th>624</th>\n",
       "      <td>0.843613</td>\n",
       "      <td>0.801240</td>\n",
       "      <td>0.123282</td>\n",
       "      <td>0.664666</td>\n",
       "      <td>Zero</td>\n",
       "      <td>Zero</td>\n",
       "      <td>0.767529</td>\n",
       "    </tr>\n",
       "    <tr>\n",
       "      <th>367</th>\n",
       "      <td>0.740721</td>\n",
       "      <td>0.804956</td>\n",
       "      <td>0.211426</td>\n",
       "      <td>0.546269</td>\n",
       "      <td>Zero</td>\n",
       "      <td>Zero</td>\n",
       "      <td>0.767529</td>\n",
       "    </tr>\n",
       "    <tr>\n",
       "      <th>744</th>\n",
       "      <td>0.867339</td>\n",
       "      <td>0.827875</td>\n",
       "      <td>0.118190</td>\n",
       "      <td>0.660675</td>\n",
       "      <td>Zero</td>\n",
       "      <td>Zero</td>\n",
       "      <td>0.767529</td>\n",
       "    </tr>\n",
       "    <tr>\n",
       "      <th>746</th>\n",
       "      <td>0.843159</td>\n",
       "      <td>0.801008</td>\n",
       "      <td>0.144028</td>\n",
       "      <td>0.743212</td>\n",
       "      <td>Zero</td>\n",
       "      <td>Zero</td>\n",
       "      <td>0.767529</td>\n",
       "    </tr>\n",
       "    <tr>\n",
       "      <th>462</th>\n",
       "      <td>0.863805</td>\n",
       "      <td>0.799923</td>\n",
       "      <td>0.126788</td>\n",
       "      <td>0.699708</td>\n",
       "      <td>Zero</td>\n",
       "      <td>Zero</td>\n",
       "      <td>0.767529</td>\n",
       "    </tr>\n",
       "  </tbody>\n",
       "</table>\n",
       "<p>814 rows × 7 columns</p>\n",
       "</div>"
      ],
      "text/plain": [
       "            F0        F1        F2        F3 Decision Decision Fuzzy  \\\n",
       "1186  0.201783  0.026556  0.964857  0.522518      One            One   \n",
       "955   0.348585  0.174603  0.615383  0.751443      One            One   \n",
       "861   0.336225  0.461479  0.276279  0.791889      One            One   \n",
       "1212  0.330723  0.506233  0.288203  0.735569      One            One   \n",
       "1125  0.248332  0.004258  0.986120  0.550615      One            One   \n",
       "...        ...       ...       ...       ...      ...            ...   \n",
       "624   0.843613  0.801240  0.123282  0.664666     Zero           Zero   \n",
       "367   0.740721  0.804956  0.211426  0.546269     Zero           Zero   \n",
       "744   0.867339  0.827875  0.118190  0.660675     Zero           Zero   \n",
       "746   0.843159  0.801008  0.144028  0.743212     Zero           Zero   \n",
       "462   0.863805  0.799923  0.126788  0.699708     Zero           Zero   \n",
       "\n",
       "      Predicted Value  \n",
       "1186         0.220782  \n",
       "955          0.220782  \n",
       "861          0.220782  \n",
       "1212         0.220782  \n",
       "1125         0.220782  \n",
       "...               ...  \n",
       "624          0.767529  \n",
       "367          0.767529  \n",
       "744          0.767529  \n",
       "746          0.767529  \n",
       "462          0.767529  \n",
       "\n",
       "[814 rows x 7 columns]"
      ]
     },
     "metadata": {},
     "output_type": "display_data"
    },
    {
     "name": "stderr",
     "output_type": "stream",
     "text": [
      "  2%|█▉                                                                               | 21/905 [00:00<00:14, 62.38it/s]"
     ]
    },
    {
     "name": "stdout",
     "output_type": "stream",
     "text": [
      "Level 1\n",
      "Level 2\n"
     ]
    },
    {
     "name": "stderr",
     "output_type": "stream",
     "text": [
      "100%|███████████████████████████████████████████████████████████████████████████████| 905/905 [00:06<00:00, 149.54it/s]\n",
      "  0%|                                                                                          | 0/814 [00:00<?, ?it/s]"
     ]
    },
    {
     "name": "stdout",
     "output_type": "stream",
     "text": [
      "Level 3\n",
      "Level 4\n",
      "Level 1\n",
      "Level 2\n"
     ]
    },
    {
     "name": "stderr",
     "output_type": "stream",
     "text": [
      "100%|███████████████████████████████████████████████████████████████████████████████| 814/814 [00:05<00:00, 152.38it/s]\n"
     ]
    },
    {
     "name": "stdout",
     "output_type": "stream",
     "text": [
      "Level 3\n",
      "Level 4\n"
     ]
    },
    {
     "name": "stderr",
     "output_type": "stream",
     "text": [
      "  0%|                                                                                           | 0/91 [00:00<?, ?it/s]"
     ]
    },
    {
     "name": "stdout",
     "output_type": "stream",
     "text": [
      "Accuracy: 0.961916461916462\n",
      "Precision: [0.97150997 0.95464363]\n",
      "Recall: [0.94198895 0.97787611]\n",
      "F-Score: [0.95652174 0.96612022]\n",
      "Support: [362 452]\n",
      "Level 1\n",
      "Level 2\n"
     ]
    },
    {
     "name": "stderr",
     "output_type": "stream",
     "text": [
      "100%|█████████████████████████████████████████████████████████████████████████████████| 91/91 [00:00<00:00, 135.98it/s]\n"
     ]
    },
    {
     "name": "stdout",
     "output_type": "stream",
     "text": [
      "Level 3\n",
      "Level 4\n",
      "Accuracy: 0.9340659340659341\n",
      "Precision: [0.9047619  0.95918367]\n",
      "Recall: [0.95       0.92156863]\n",
      "F-Score: [0.92682927 0.94      ]\n",
      "Support: [40 51]\n",
      "-----------------------------------------------------------------------------------\n",
      "Center Point: 0.48749999999999993\n",
      "Threshold: 0.5003908980427944\n",
      "Train Accuracy: 0.978021978021978\n",
      "Test Accuracy: 0.9340659340659341\n",
      "Time: 73.52006435394287\n",
      "-----------------------------------------------------------------------------------\n"
     ]
    },
    {
     "data": {
      "text/html": [
       "<div>\n",
       "<style scoped>\n",
       "    .dataframe tbody tr th:only-of-type {\n",
       "        vertical-align: middle;\n",
       "    }\n",
       "\n",
       "    .dataframe tbody tr th {\n",
       "        vertical-align: top;\n",
       "    }\n",
       "\n",
       "    .dataframe thead th {\n",
       "        text-align: right;\n",
       "    }\n",
       "</style>\n",
       "<table border=\"1\" class=\"dataframe\">\n",
       "  <thead>\n",
       "    <tr style=\"text-align: right;\">\n",
       "      <th></th>\n",
       "      <th>F0</th>\n",
       "      <th>F1</th>\n",
       "      <th>F2</th>\n",
       "      <th>F3</th>\n",
       "      <th>Decision</th>\n",
       "      <th>Decision Fuzzy</th>\n",
       "      <th>Predicted Value</th>\n",
       "    </tr>\n",
       "  </thead>\n",
       "  <tbody>\n",
       "    <tr>\n",
       "      <th>1247</th>\n",
       "      <td>0.184944</td>\n",
       "      <td>0.027795</td>\n",
       "      <td>0.963642</td>\n",
       "      <td>0.501350</td>\n",
       "      <td>One</td>\n",
       "      <td>One</td>\n",
       "      <td>0.220782</td>\n",
       "    </tr>\n",
       "    <tr>\n",
       "      <th>826</th>\n",
       "      <td>0.204162</td>\n",
       "      <td>0.048625</td>\n",
       "      <td>0.872617</td>\n",
       "      <td>0.651027</td>\n",
       "      <td>One</td>\n",
       "      <td>One</td>\n",
       "      <td>0.220782</td>\n",
       "    </tr>\n",
       "    <tr>\n",
       "      <th>1192</th>\n",
       "      <td>0.190403</td>\n",
       "      <td>0.031282</td>\n",
       "      <td>0.902147</td>\n",
       "      <td>0.624458</td>\n",
       "      <td>One</td>\n",
       "      <td>One</td>\n",
       "      <td>0.220782</td>\n",
       "    </tr>\n",
       "    <tr>\n",
       "      <th>1032</th>\n",
       "      <td>0.519632</td>\n",
       "      <td>0.389703</td>\n",
       "      <td>0.286945</td>\n",
       "      <td>0.900652</td>\n",
       "      <td>One</td>\n",
       "      <td>One</td>\n",
       "      <td>0.220782</td>\n",
       "    </tr>\n",
       "    <tr>\n",
       "      <th>1253</th>\n",
       "      <td>0.179492</td>\n",
       "      <td>0.044442</td>\n",
       "      <td>0.892920</td>\n",
       "      <td>0.641034</td>\n",
       "      <td>One</td>\n",
       "      <td>One</td>\n",
       "      <td>0.220782</td>\n",
       "    </tr>\n",
       "    <tr>\n",
       "      <th>...</th>\n",
       "      <td>...</td>\n",
       "      <td>...</td>\n",
       "      <td>...</td>\n",
       "      <td>...</td>\n",
       "      <td>...</td>\n",
       "      <td>...</td>\n",
       "      <td>...</td>\n",
       "    </tr>\n",
       "    <tr>\n",
       "      <th>451</th>\n",
       "      <td>0.917516</td>\n",
       "      <td>0.807047</td>\n",
       "      <td>0.112060</td>\n",
       "      <td>0.693123</td>\n",
       "      <td>Zero</td>\n",
       "      <td>Zero</td>\n",
       "      <td>0.767529</td>\n",
       "    </tr>\n",
       "    <tr>\n",
       "      <th>196</th>\n",
       "      <td>0.806777</td>\n",
       "      <td>0.786916</td>\n",
       "      <td>0.145209</td>\n",
       "      <td>0.699003</td>\n",
       "      <td>Zero</td>\n",
       "      <td>Zero</td>\n",
       "      <td>0.767529</td>\n",
       "    </tr>\n",
       "    <tr>\n",
       "      <th>595</th>\n",
       "      <td>0.737418</td>\n",
       "      <td>0.785985</td>\n",
       "      <td>0.181567</td>\n",
       "      <td>0.541686</td>\n",
       "      <td>Zero</td>\n",
       "      <td>Zero</td>\n",
       "      <td>0.767529</td>\n",
       "    </tr>\n",
       "    <tr>\n",
       "      <th>385</th>\n",
       "      <td>0.678876</td>\n",
       "      <td>0.795665</td>\n",
       "      <td>0.228405</td>\n",
       "      <td>0.618929</td>\n",
       "      <td>Zero</td>\n",
       "      <td>Zero</td>\n",
       "      <td>0.767529</td>\n",
       "    </tr>\n",
       "    <tr>\n",
       "      <th>405</th>\n",
       "      <td>0.550370</td>\n",
       "      <td>0.793262</td>\n",
       "      <td>0.280931</td>\n",
       "      <td>0.508170</td>\n",
       "      <td>Zero</td>\n",
       "      <td>Zero</td>\n",
       "      <td>0.767529</td>\n",
       "    </tr>\n",
       "  </tbody>\n",
       "</table>\n",
       "<p>814 rows × 7 columns</p>\n",
       "</div>"
      ],
      "text/plain": [
       "            F0        F1        F2        F3 Decision Decision Fuzzy  \\\n",
       "1247  0.184944  0.027795  0.963642  0.501350      One            One   \n",
       "826   0.204162  0.048625  0.872617  0.651027      One            One   \n",
       "1192  0.190403  0.031282  0.902147  0.624458      One            One   \n",
       "1032  0.519632  0.389703  0.286945  0.900652      One            One   \n",
       "1253  0.179492  0.044442  0.892920  0.641034      One            One   \n",
       "...        ...       ...       ...       ...      ...            ...   \n",
       "451   0.917516  0.807047  0.112060  0.693123     Zero           Zero   \n",
       "196   0.806777  0.786916  0.145209  0.699003     Zero           Zero   \n",
       "595   0.737418  0.785985  0.181567  0.541686     Zero           Zero   \n",
       "385   0.678876  0.795665  0.228405  0.618929     Zero           Zero   \n",
       "405   0.550370  0.793262  0.280931  0.508170     Zero           Zero   \n",
       "\n",
       "      Predicted Value  \n",
       "1247         0.220782  \n",
       "826          0.220782  \n",
       "1192         0.220782  \n",
       "1032         0.220782  \n",
       "1253         0.220782  \n",
       "...               ...  \n",
       "451          0.767529  \n",
       "196          0.767529  \n",
       "595          0.767529  \n",
       "385          0.767529  \n",
       "405          0.767529  \n",
       "\n",
       "[814 rows x 7 columns]"
      ]
     },
     "metadata": {},
     "output_type": "display_data"
    },
    {
     "name": "stderr",
     "output_type": "stream",
     "text": [
      "  2%|█▊                                                                               | 20/905 [00:00<00:14, 59.61it/s]"
     ]
    },
    {
     "name": "stdout",
     "output_type": "stream",
     "text": [
      "Level 1\n",
      "Level 2\n"
     ]
    },
    {
     "name": "stderr",
     "output_type": "stream",
     "text": [
      "100%|███████████████████████████████████████████████████████████████████████████████| 905/905 [00:05<00:00, 151.19it/s]\n",
      "  0%|                                                                                          | 0/814 [00:00<?, ?it/s]"
     ]
    },
    {
     "name": "stdout",
     "output_type": "stream",
     "text": [
      "Level 3\n",
      "Level 4\n",
      "Level 1\n",
      "Level 2\n"
     ]
    },
    {
     "name": "stderr",
     "output_type": "stream",
     "text": [
      "100%|███████████████████████████████████████████████████████████████████████████████| 814/814 [00:05<00:00, 149.86it/s]\n"
     ]
    },
    {
     "name": "stdout",
     "output_type": "stream",
     "text": [
      "Level 3\n",
      "Level 4\n",
      "Accuracy: 0.9484029484029484\n",
      "Precision: [0.95184136 0.94577007]\n",
      "Recall: [0.93074792 0.96247241]\n",
      "F-Score: [0.94117647 0.95404814]\n",
      "Support: [361 453]\n",
      "Level 1\n",
      "Level 2"
     ]
    },
    {
     "name": "stderr",
     "output_type": "stream",
     "text": [
      "  2%|█▊                                                                                 | 2/91 [00:00<00:04, 19.19it/s]"
     ]
    },
    {
     "name": "stdout",
     "output_type": "stream",
     "text": [
      "\n"
     ]
    },
    {
     "name": "stderr",
     "output_type": "stream",
     "text": [
      "100%|█████████████████████████████████████████████████████████████████████████████████| 91/91 [00:00<00:00, 113.06it/s]\n"
     ]
    },
    {
     "name": "stdout",
     "output_type": "stream",
     "text": [
      "Level 3\n",
      "Level 4\n",
      "Accuracy: 0.9120879120879121\n",
      "Precision: [0.90243902 0.92      ]\n",
      "Recall: [0.90243902 0.92      ]\n",
      "F-Score: [0.90243902 0.92      ]\n",
      "Support: [41 50]\n",
      "-----------------------------------------------------------------------------------\n",
      "Center Point: 0.48749999999999993\n",
      "Threshold: 0.4996357135379531\n",
      "Train Accuracy: 0.9230769230769231\n",
      "Test Accuracy: 0.9120879120879121\n",
      "Time: 73.51768612861633\n",
      "-----------------------------------------------------------------------------------\n"
     ]
    },
    {
     "data": {
      "text/html": [
       "<div>\n",
       "<style scoped>\n",
       "    .dataframe tbody tr th:only-of-type {\n",
       "        vertical-align: middle;\n",
       "    }\n",
       "\n",
       "    .dataframe tbody tr th {\n",
       "        vertical-align: top;\n",
       "    }\n",
       "\n",
       "    .dataframe thead th {\n",
       "        text-align: right;\n",
       "    }\n",
       "</style>\n",
       "<table border=\"1\" class=\"dataframe\">\n",
       "  <thead>\n",
       "    <tr style=\"text-align: right;\">\n",
       "      <th></th>\n",
       "      <th>F0</th>\n",
       "      <th>F1</th>\n",
       "      <th>F2</th>\n",
       "      <th>F3</th>\n",
       "      <th>Decision</th>\n",
       "      <th>Decision Fuzzy</th>\n",
       "      <th>Predicted Value</th>\n",
       "    </tr>\n",
       "  </thead>\n",
       "  <tbody>\n",
       "    <tr>\n",
       "      <th>1239</th>\n",
       "      <td>0.331458</td>\n",
       "      <td>0.576306</td>\n",
       "      <td>0.189575</td>\n",
       "      <td>0.642680</td>\n",
       "      <td>One</td>\n",
       "      <td>One</td>\n",
       "      <td>0.220782</td>\n",
       "    </tr>\n",
       "    <tr>\n",
       "      <th>955</th>\n",
       "      <td>0.348585</td>\n",
       "      <td>0.174603</td>\n",
       "      <td>0.615383</td>\n",
       "      <td>0.751443</td>\n",
       "      <td>One</td>\n",
       "      <td>One</td>\n",
       "      <td>0.220782</td>\n",
       "    </tr>\n",
       "    <tr>\n",
       "      <th>1064</th>\n",
       "      <td>0.241294</td>\n",
       "      <td>0.003562</td>\n",
       "      <td>0.985013</td>\n",
       "      <td>0.539213</td>\n",
       "      <td>One</td>\n",
       "      <td>One</td>\n",
       "      <td>0.220782</td>\n",
       "    </tr>\n",
       "    <tr>\n",
       "      <th>772</th>\n",
       "      <td>0.333932</td>\n",
       "      <td>0.173517</td>\n",
       "      <td>0.630258</td>\n",
       "      <td>0.717933</td>\n",
       "      <td>One</td>\n",
       "      <td>One</td>\n",
       "      <td>0.220782</td>\n",
       "    </tr>\n",
       "    <tr>\n",
       "      <th>1192</th>\n",
       "      <td>0.190403</td>\n",
       "      <td>0.031282</td>\n",
       "      <td>0.902147</td>\n",
       "      <td>0.624458</td>\n",
       "      <td>One</td>\n",
       "      <td>One</td>\n",
       "      <td>0.220782</td>\n",
       "    </tr>\n",
       "    <tr>\n",
       "      <th>...</th>\n",
       "      <td>...</td>\n",
       "      <td>...</td>\n",
       "      <td>...</td>\n",
       "      <td>...</td>\n",
       "      <td>...</td>\n",
       "      <td>...</td>\n",
       "      <td>...</td>\n",
       "    </tr>\n",
       "    <tr>\n",
       "      <th>597</th>\n",
       "      <td>0.912280</td>\n",
       "      <td>0.900815</td>\n",
       "      <td>0.020927</td>\n",
       "      <td>0.381425</td>\n",
       "      <td>Zero</td>\n",
       "      <td>Zero</td>\n",
       "      <td>0.767529</td>\n",
       "    </tr>\n",
       "    <tr>\n",
       "      <th>196</th>\n",
       "      <td>0.806777</td>\n",
       "      <td>0.786916</td>\n",
       "      <td>0.145209</td>\n",
       "      <td>0.699003</td>\n",
       "      <td>Zero</td>\n",
       "      <td>Zero</td>\n",
       "      <td>0.767529</td>\n",
       "    </tr>\n",
       "    <tr>\n",
       "      <th>32</th>\n",
       "      <td>0.817703</td>\n",
       "      <td>0.800387</td>\n",
       "      <td>0.124871</td>\n",
       "      <td>0.689832</td>\n",
       "      <td>Zero</td>\n",
       "      <td>Zero</td>\n",
       "      <td>0.767529</td>\n",
       "    </tr>\n",
       "    <tr>\n",
       "      <th>434</th>\n",
       "      <td>0.913636</td>\n",
       "      <td>0.892762</td>\n",
       "      <td>0.042777</td>\n",
       "      <td>0.430454</td>\n",
       "      <td>Zero</td>\n",
       "      <td>Zero</td>\n",
       "      <td>0.767529</td>\n",
       "    </tr>\n",
       "    <tr>\n",
       "      <th>737</th>\n",
       "      <td>0.807412</td>\n",
       "      <td>0.787612</td>\n",
       "      <td>0.121029</td>\n",
       "      <td>0.667258</td>\n",
       "      <td>Zero</td>\n",
       "      <td>Zero</td>\n",
       "      <td>0.767529</td>\n",
       "    </tr>\n",
       "  </tbody>\n",
       "</table>\n",
       "<p>814 rows × 7 columns</p>\n",
       "</div>"
      ],
      "text/plain": [
       "            F0        F1        F2        F3 Decision Decision Fuzzy  \\\n",
       "1239  0.331458  0.576306  0.189575  0.642680      One            One   \n",
       "955   0.348585  0.174603  0.615383  0.751443      One            One   \n",
       "1064  0.241294  0.003562  0.985013  0.539213      One            One   \n",
       "772   0.333932  0.173517  0.630258  0.717933      One            One   \n",
       "1192  0.190403  0.031282  0.902147  0.624458      One            One   \n",
       "...        ...       ...       ...       ...      ...            ...   \n",
       "597   0.912280  0.900815  0.020927  0.381425     Zero           Zero   \n",
       "196   0.806777  0.786916  0.145209  0.699003     Zero           Zero   \n",
       "32    0.817703  0.800387  0.124871  0.689832     Zero           Zero   \n",
       "434   0.913636  0.892762  0.042777  0.430454     Zero           Zero   \n",
       "737   0.807412  0.787612  0.121029  0.667258     Zero           Zero   \n",
       "\n",
       "      Predicted Value  \n",
       "1239         0.220782  \n",
       "955          0.220782  \n",
       "1064         0.220782  \n",
       "772          0.220782  \n",
       "1192         0.220782  \n",
       "...               ...  \n",
       "597          0.767529  \n",
       "196          0.767529  \n",
       "32           0.767529  \n",
       "434          0.767529  \n",
       "737          0.767529  \n",
       "\n",
       "[814 rows x 7 columns]"
      ]
     },
     "metadata": {},
     "output_type": "display_data"
    },
    {
     "name": "stderr",
     "output_type": "stream",
     "text": [
      "  0%|▏                                                                                 | 2/905 [00:00<00:59, 15.19it/s]"
     ]
    },
    {
     "name": "stdout",
     "output_type": "stream",
     "text": [
      "Level 1\n",
      "Level 2\n"
     ]
    },
    {
     "name": "stderr",
     "output_type": "stream",
     "text": [
      "100%|███████████████████████████████████████████████████████████████████████████████| 905/905 [00:06<00:00, 131.84it/s]\n"
     ]
    },
    {
     "name": "stdout",
     "output_type": "stream",
     "text": [
      "Level 3\n",
      "Level 4\n"
     ]
    },
    {
     "name": "stderr",
     "output_type": "stream",
     "text": [
      "  0%|▏                                                                                 | 2/814 [00:00<00:52, 15.43it/s]"
     ]
    },
    {
     "name": "stdout",
     "output_type": "stream",
     "text": [
      "Level 1\n",
      "Level 2\n"
     ]
    },
    {
     "name": "stderr",
     "output_type": "stream",
     "text": [
      "100%|███████████████████████████████████████████████████████████████████████████████| 814/814 [00:06<00:00, 127.77it/s]\n"
     ]
    },
    {
     "name": "stdout",
     "output_type": "stream",
     "text": [
      "Level 3\n",
      "Level 4\n",
      "Accuracy: 0.9975429975429976\n",
      "Precision: [1.        0.9956044]\n",
      "Recall: [0.99445983 1.        ]\n",
      "F-Score: [0.99722222 0.99779736]\n",
      "Support: [361 453]\n",
      "Level 1\n",
      "Level 2\n"
     ]
    },
    {
     "name": "stderr",
     "output_type": "stream",
     "text": [
      "100%|██████████████████████████████████████████████████████████████████████████████████| 91/91 [00:00<00:00, 91.53it/s]"
     ]
    },
    {
     "name": "stdout",
     "output_type": "stream",
     "text": [
      "Level 3\n",
      "Level 4\n",
      "Accuracy: 0.967032967032967\n",
      "Precision: [1.         0.94339623]\n",
      "Recall: [0.92682927 1.        ]\n",
      "F-Score: [0.96202532 0.97087379]\n",
      "Support: [41 50]\n",
      "-----------------------------------------------------------------------------------\n",
      "Center Point: 0.48749999999999993\n",
      "Threshold: 0.48878213408504834\n",
      "Train Accuracy: 0.9560439560439561\n",
      "Test Accuracy: 0.967032967032967\n",
      "Time: 87.54219436645508\n",
      "-----------------------------------------------------------------------------------\n"
     ]
    },
    {
     "name": "stderr",
     "output_type": "stream",
     "text": [
      "\n"
     ]
    },
    {
     "data": {
      "text/html": [
       "<div>\n",
       "<style scoped>\n",
       "    .dataframe tbody tr th:only-of-type {\n",
       "        vertical-align: middle;\n",
       "    }\n",
       "\n",
       "    .dataframe tbody tr th {\n",
       "        vertical-align: top;\n",
       "    }\n",
       "\n",
       "    .dataframe thead th {\n",
       "        text-align: right;\n",
       "    }\n",
       "</style>\n",
       "<table border=\"1\" class=\"dataframe\">\n",
       "  <thead>\n",
       "    <tr style=\"text-align: right;\">\n",
       "      <th></th>\n",
       "      <th>F0</th>\n",
       "      <th>F1</th>\n",
       "      <th>F2</th>\n",
       "      <th>F3</th>\n",
       "      <th>Decision</th>\n",
       "      <th>Decision Fuzzy</th>\n",
       "      <th>Predicted Value</th>\n",
       "    </tr>\n",
       "  </thead>\n",
       "  <tbody>\n",
       "    <tr>\n",
       "      <th>1145</th>\n",
       "      <td>0.340379</td>\n",
       "      <td>0.166239</td>\n",
       "      <td>0.625459</td>\n",
       "      <td>0.704646</td>\n",
       "      <td>One</td>\n",
       "      <td>One</td>\n",
       "      <td>0.220782</td>\n",
       "    </tr>\n",
       "    <tr>\n",
       "      <th>1125</th>\n",
       "      <td>0.248332</td>\n",
       "      <td>0.004258</td>\n",
       "      <td>0.986120</td>\n",
       "      <td>0.550615</td>\n",
       "      <td>One</td>\n",
       "      <td>One</td>\n",
       "      <td>0.220782</td>\n",
       "    </tr>\n",
       "    <tr>\n",
       "      <th>772</th>\n",
       "      <td>0.333932</td>\n",
       "      <td>0.173517</td>\n",
       "      <td>0.630258</td>\n",
       "      <td>0.717933</td>\n",
       "      <td>One</td>\n",
       "      <td>One</td>\n",
       "      <td>0.220782</td>\n",
       "    </tr>\n",
       "    <tr>\n",
       "      <th>1192</th>\n",
       "      <td>0.190403</td>\n",
       "      <td>0.031282</td>\n",
       "      <td>0.902147</td>\n",
       "      <td>0.624458</td>\n",
       "      <td>One</td>\n",
       "      <td>One</td>\n",
       "      <td>0.220782</td>\n",
       "    </tr>\n",
       "    <tr>\n",
       "      <th>1064</th>\n",
       "      <td>0.241294</td>\n",
       "      <td>0.003562</td>\n",
       "      <td>0.985013</td>\n",
       "      <td>0.539213</td>\n",
       "      <td>One</td>\n",
       "      <td>One</td>\n",
       "      <td>0.220782</td>\n",
       "    </tr>\n",
       "    <tr>\n",
       "      <th>...</th>\n",
       "      <td>...</td>\n",
       "      <td>...</td>\n",
       "      <td>...</td>\n",
       "      <td>...</td>\n",
       "      <td>...</td>\n",
       "      <td>...</td>\n",
       "      <td>...</td>\n",
       "    </tr>\n",
       "    <tr>\n",
       "      <th>184</th>\n",
       "      <td>0.381210</td>\n",
       "      <td>0.962368</td>\n",
       "      <td>0.361027</td>\n",
       "      <td>0.331924</td>\n",
       "      <td>Zero</td>\n",
       "      <td>Zero</td>\n",
       "      <td>0.767529</td>\n",
       "    </tr>\n",
       "    <tr>\n",
       "      <th>125</th>\n",
       "      <td>0.723745</td>\n",
       "      <td>0.784825</td>\n",
       "      <td>0.175363</td>\n",
       "      <td>0.806469</td>\n",
       "      <td>Zero</td>\n",
       "      <td>Zero</td>\n",
       "      <td>0.767529</td>\n",
       "    </tr>\n",
       "    <tr>\n",
       "      <th>256</th>\n",
       "      <td>0.730913</td>\n",
       "      <td>0.406194</td>\n",
       "      <td>0.323488</td>\n",
       "      <td>0.797533</td>\n",
       "      <td>Zero</td>\n",
       "      <td>Zero</td>\n",
       "      <td>0.767529</td>\n",
       "    </tr>\n",
       "    <tr>\n",
       "      <th>82</th>\n",
       "      <td>0.869740</td>\n",
       "      <td>0.837087</td>\n",
       "      <td>0.101174</td>\n",
       "      <td>0.660793</td>\n",
       "      <td>Zero</td>\n",
       "      <td>Zero</td>\n",
       "      <td>0.767529</td>\n",
       "    </tr>\n",
       "    <tr>\n",
       "      <th>595</th>\n",
       "      <td>0.737418</td>\n",
       "      <td>0.785985</td>\n",
       "      <td>0.181567</td>\n",
       "      <td>0.541686</td>\n",
       "      <td>Zero</td>\n",
       "      <td>Zero</td>\n",
       "      <td>0.767529</td>\n",
       "    </tr>\n",
       "  </tbody>\n",
       "</table>\n",
       "<p>814 rows × 7 columns</p>\n",
       "</div>"
      ],
      "text/plain": [
       "            F0        F1        F2        F3 Decision Decision Fuzzy  \\\n",
       "1145  0.340379  0.166239  0.625459  0.704646      One            One   \n",
       "1125  0.248332  0.004258  0.986120  0.550615      One            One   \n",
       "772   0.333932  0.173517  0.630258  0.717933      One            One   \n",
       "1192  0.190403  0.031282  0.902147  0.624458      One            One   \n",
       "1064  0.241294  0.003562  0.985013  0.539213      One            One   \n",
       "...        ...       ...       ...       ...      ...            ...   \n",
       "184   0.381210  0.962368  0.361027  0.331924     Zero           Zero   \n",
       "125   0.723745  0.784825  0.175363  0.806469     Zero           Zero   \n",
       "256   0.730913  0.406194  0.323488  0.797533     Zero           Zero   \n",
       "82    0.869740  0.837087  0.101174  0.660793     Zero           Zero   \n",
       "595   0.737418  0.785985  0.181567  0.541686     Zero           Zero   \n",
       "\n",
       "      Predicted Value  \n",
       "1145         0.220782  \n",
       "1125         0.220782  \n",
       "772          0.220782  \n",
       "1192         0.220782  \n",
       "1064         0.220782  \n",
       "...               ...  \n",
       "184          0.767529  \n",
       "125          0.767529  \n",
       "256          0.767529  \n",
       "82           0.767529  \n",
       "595          0.767529  \n",
       "\n",
       "[814 rows x 7 columns]"
      ]
     },
     "metadata": {},
     "output_type": "display_data"
    },
    {
     "name": "stderr",
     "output_type": "stream",
     "text": [
      "  0%|▏                                                                                 | 2/905 [00:00<00:58, 15.55it/s]"
     ]
    },
    {
     "name": "stdout",
     "output_type": "stream",
     "text": [
      "Level 1\n",
      "Level 2\n"
     ]
    },
    {
     "name": "stderr",
     "output_type": "stream",
     "text": [
      "100%|███████████████████████████████████████████████████████████████████████████████| 905/905 [00:06<00:00, 144.36it/s]\n",
      "  0%|                                                                                          | 0/815 [00:00<?, ?it/s]"
     ]
    },
    {
     "name": "stdout",
     "output_type": "stream",
     "text": [
      "Level 3\n",
      "Level 4\n",
      "Level 1\n",
      "Level 2\n"
     ]
    },
    {
     "name": "stderr",
     "output_type": "stream",
     "text": [
      "100%|███████████████████████████████████████████████████████████████████████████████| 815/815 [00:05<00:00, 149.12it/s]\n"
     ]
    },
    {
     "name": "stdout",
     "output_type": "stream",
     "text": [
      "Level 3\n",
      "Level 4\n"
     ]
    },
    {
     "name": "stderr",
     "output_type": "stream",
     "text": [
      "  0%|                                                                                           | 0/90 [00:00<?, ?it/s]"
     ]
    },
    {
     "name": "stdout",
     "output_type": "stream",
     "text": [
      "Accuracy: 0.9914110429447853\n",
      "Precision: [1.         0.98478261]\n",
      "Recall: [0.98066298 1.        ]\n",
      "F-Score: [0.9902371  0.99233297]\n",
      "Support: [362 453]\n",
      "Level 1\n",
      "Level 2\n"
     ]
    },
    {
     "name": "stderr",
     "output_type": "stream",
     "text": [
      "100%|█████████████████████████████████████████████████████████████████████████████████| 90/90 [00:00<00:00, 123.96it/s]"
     ]
    },
    {
     "name": "stdout",
     "output_type": "stream",
     "text": [
      "Level 3\n",
      "Level 4\n",
      "Accuracy: 0.9888888888888889\n",
      "Precision: [0.97560976 1.        ]\n",
      "Recall: [1.   0.98]\n",
      "F-Score: [0.98765432 0.98989899]\n",
      "Support: [40 50]\n",
      "-----------------------------------------------------------------------------------\n",
      "Center Point: 0.48749999999999993\n",
      "Threshold: 0.5217821340850484\n",
      "Train Accuracy: 0.9888888888888889\n",
      "Test Accuracy: 0.9888888888888889\n",
      "Time: 78.75695538520813\n",
      "-----------------------------------------------------------------------------------\n"
     ]
    },
    {
     "name": "stderr",
     "output_type": "stream",
     "text": [
      "\n"
     ]
    },
    {
     "data": {
      "text/html": [
       "<div>\n",
       "<style scoped>\n",
       "    .dataframe tbody tr th:only-of-type {\n",
       "        vertical-align: middle;\n",
       "    }\n",
       "\n",
       "    .dataframe tbody tr th {\n",
       "        vertical-align: top;\n",
       "    }\n",
       "\n",
       "    .dataframe thead th {\n",
       "        text-align: right;\n",
       "    }\n",
       "</style>\n",
       "<table border=\"1\" class=\"dataframe\">\n",
       "  <thead>\n",
       "    <tr style=\"text-align: right;\">\n",
       "      <th></th>\n",
       "      <th>F0</th>\n",
       "      <th>F1</th>\n",
       "      <th>F2</th>\n",
       "      <th>F3</th>\n",
       "      <th>Decision</th>\n",
       "      <th>Decision Fuzzy</th>\n",
       "      <th>Predicted Value</th>\n",
       "    </tr>\n",
       "  </thead>\n",
       "  <tbody>\n",
       "    <tr>\n",
       "      <th>1056</th>\n",
       "      <td>0.355970</td>\n",
       "      <td>0.559580</td>\n",
       "      <td>0.204746</td>\n",
       "      <td>0.702060</td>\n",
       "      <td>One</td>\n",
       "      <td>One</td>\n",
       "      <td>0.220782</td>\n",
       "    </tr>\n",
       "    <tr>\n",
       "      <th>826</th>\n",
       "      <td>0.204162</td>\n",
       "      <td>0.048625</td>\n",
       "      <td>0.872617</td>\n",
       "      <td>0.651027</td>\n",
       "      <td>One</td>\n",
       "      <td>One</td>\n",
       "      <td>0.220782</td>\n",
       "    </tr>\n",
       "    <tr>\n",
       "      <th>1186</th>\n",
       "      <td>0.201783</td>\n",
       "      <td>0.026556</td>\n",
       "      <td>0.964857</td>\n",
       "      <td>0.522518</td>\n",
       "      <td>One</td>\n",
       "      <td>One</td>\n",
       "      <td>0.220782</td>\n",
       "    </tr>\n",
       "    <tr>\n",
       "      <th>1336</th>\n",
       "      <td>0.359677</td>\n",
       "      <td>0.108708</td>\n",
       "      <td>0.636642</td>\n",
       "      <td>0.648918</td>\n",
       "      <td>One</td>\n",
       "      <td>One</td>\n",
       "      <td>0.220782</td>\n",
       "    </tr>\n",
       "    <tr>\n",
       "      <th>1253</th>\n",
       "      <td>0.179492</td>\n",
       "      <td>0.044442</td>\n",
       "      <td>0.892920</td>\n",
       "      <td>0.641034</td>\n",
       "      <td>One</td>\n",
       "      <td>One</td>\n",
       "      <td>0.220782</td>\n",
       "    </tr>\n",
       "    <tr>\n",
       "      <th>...</th>\n",
       "      <td>...</td>\n",
       "      <td>...</td>\n",
       "      <td>...</td>\n",
       "      <td>...</td>\n",
       "      <td>...</td>\n",
       "      <td>...</td>\n",
       "      <td>...</td>\n",
       "    </tr>\n",
       "    <tr>\n",
       "      <th>685</th>\n",
       "      <td>0.801448</td>\n",
       "      <td>0.801240</td>\n",
       "      <td>0.138010</td>\n",
       "      <td>0.670904</td>\n",
       "      <td>Zero</td>\n",
       "      <td>Zero</td>\n",
       "      <td>0.767529</td>\n",
       "    </tr>\n",
       "    <tr>\n",
       "      <th>689</th>\n",
       "      <td>0.725923</td>\n",
       "      <td>0.390474</td>\n",
       "      <td>0.339139</td>\n",
       "      <td>0.727457</td>\n",
       "      <td>Zero</td>\n",
       "      <td>Zero</td>\n",
       "      <td>0.767529</td>\n",
       "    </tr>\n",
       "    <tr>\n",
       "      <th>726</th>\n",
       "      <td>0.510756</td>\n",
       "      <td>0.834303</td>\n",
       "      <td>0.290012</td>\n",
       "      <td>0.419870</td>\n",
       "      <td>Zero</td>\n",
       "      <td>Zero</td>\n",
       "      <td>0.767529</td>\n",
       "    </tr>\n",
       "    <tr>\n",
       "      <th>737</th>\n",
       "      <td>0.807412</td>\n",
       "      <td>0.787612</td>\n",
       "      <td>0.121029</td>\n",
       "      <td>0.667258</td>\n",
       "      <td>Zero</td>\n",
       "      <td>Zero</td>\n",
       "      <td>0.767529</td>\n",
       "    </tr>\n",
       "    <tr>\n",
       "      <th>8</th>\n",
       "      <td>0.738831</td>\n",
       "      <td>0.730856</td>\n",
       "      <td>0.195259</td>\n",
       "      <td>0.721577</td>\n",
       "      <td>Zero</td>\n",
       "      <td>Zero</td>\n",
       "      <td>0.767529</td>\n",
       "    </tr>\n",
       "  </tbody>\n",
       "</table>\n",
       "<p>815 rows × 7 columns</p>\n",
       "</div>"
      ],
      "text/plain": [
       "            F0        F1        F2        F3 Decision Decision Fuzzy  \\\n",
       "1056  0.355970  0.559580  0.204746  0.702060      One            One   \n",
       "826   0.204162  0.048625  0.872617  0.651027      One            One   \n",
       "1186  0.201783  0.026556  0.964857  0.522518      One            One   \n",
       "1336  0.359677  0.108708  0.636642  0.648918      One            One   \n",
       "1253  0.179492  0.044442  0.892920  0.641034      One            One   \n",
       "...        ...       ...       ...       ...      ...            ...   \n",
       "685   0.801448  0.801240  0.138010  0.670904     Zero           Zero   \n",
       "689   0.725923  0.390474  0.339139  0.727457     Zero           Zero   \n",
       "726   0.510756  0.834303  0.290012  0.419870     Zero           Zero   \n",
       "737   0.807412  0.787612  0.121029  0.667258     Zero           Zero   \n",
       "8     0.738831  0.730856  0.195259  0.721577     Zero           Zero   \n",
       "\n",
       "      Predicted Value  \n",
       "1056         0.220782  \n",
       "826          0.220782  \n",
       "1186         0.220782  \n",
       "1336         0.220782  \n",
       "1253         0.220782  \n",
       "...               ...  \n",
       "685          0.767529  \n",
       "689          0.767529  \n",
       "726          0.767529  \n",
       "737          0.767529  \n",
       "8            0.767529  \n",
       "\n",
       "[815 rows x 7 columns]"
      ]
     },
     "metadata": {},
     "output_type": "display_data"
    },
    {
     "name": "stderr",
     "output_type": "stream",
     "text": [
      "  2%|█▍                                                                               | 16/905 [00:00<00:33, 26.22it/s]"
     ]
    },
    {
     "name": "stdout",
     "output_type": "stream",
     "text": [
      "Level 1\n",
      "Level 2\n"
     ]
    },
    {
     "name": "stderr",
     "output_type": "stream",
     "text": [
      "100%|███████████████████████████████████████████████████████████████████████████████| 905/905 [00:06<00:00, 138.32it/s]\n"
     ]
    },
    {
     "name": "stdout",
     "output_type": "stream",
     "text": [
      "Level 3\n",
      "Level 4\n",
      "Level 1\n",
      "Level 2"
     ]
    },
    {
     "name": "stderr",
     "output_type": "stream",
     "text": [
      "  2%|█▋                                                                               | 17/815 [00:00<00:20, 38.26it/s]"
     ]
    },
    {
     "name": "stdout",
     "output_type": "stream",
     "text": [
      "\n"
     ]
    },
    {
     "name": "stderr",
     "output_type": "stream",
     "text": [
      "100%|███████████████████████████████████████████████████████████████████████████████| 815/815 [00:06<00:00, 124.20it/s]\n"
     ]
    },
    {
     "name": "stdout",
     "output_type": "stream",
     "text": [
      "Level 3\n",
      "Level 4\n"
     ]
    },
    {
     "name": "stderr",
     "output_type": "stream",
     "text": [
      "  0%|                                                                                           | 0/90 [00:00<?, ?it/s]"
     ]
    },
    {
     "name": "stdout",
     "output_type": "stream",
     "text": [
      "Accuracy: 0.9656441717791411\n",
      "Precision: [0.99408284 0.94549266]\n",
      "Recall: [0.9281768  0.99558499]\n",
      "F-Score: [0.96       0.96989247]\n",
      "Support: [362 453]\n",
      "Level 1\n",
      "Level 2\n"
     ]
    },
    {
     "name": "stderr",
     "output_type": "stream",
     "text": [
      "100%|█████████████████████████████████████████████████████████████████████████████████| 90/90 [00:00<00:00, 125.37it/s]"
     ]
    },
    {
     "name": "stdout",
     "output_type": "stream",
     "text": [
      "Level 3\n",
      "Level 4\n",
      "Accuracy: 0.9666666666666667\n",
      "Precision: [0.97435897 0.96078431]\n",
      "Recall: [0.95 0.98]\n",
      "F-Score: [0.96202532 0.97029703]\n",
      "Support: [40 50]\n",
      "-----------------------------------------------------------------------------------\n",
      "Center Point: 0.48749999999999993\n",
      "Threshold: 0.49578213408504834\n",
      "Train Accuracy: 0.9555555555555556\n",
      "Test Accuracy: 0.9666666666666667\n",
      "Time: 81.29791760444641\n",
      "-----------------------------------------------------------------------------------\n"
     ]
    },
    {
     "name": "stderr",
     "output_type": "stream",
     "text": [
      "\n"
     ]
    },
    {
     "data": {
      "text/html": [
       "<div>\n",
       "<style scoped>\n",
       "    .dataframe tbody tr th:only-of-type {\n",
       "        vertical-align: middle;\n",
       "    }\n",
       "\n",
       "    .dataframe tbody tr th {\n",
       "        vertical-align: top;\n",
       "    }\n",
       "\n",
       "    .dataframe thead th {\n",
       "        text-align: right;\n",
       "    }\n",
       "</style>\n",
       "<table border=\"1\" class=\"dataframe\">\n",
       "  <thead>\n",
       "    <tr style=\"text-align: right;\">\n",
       "      <th></th>\n",
       "      <th>F0</th>\n",
       "      <th>F1</th>\n",
       "      <th>F2</th>\n",
       "      <th>F3</th>\n",
       "      <th>Decision</th>\n",
       "      <th>Decision Fuzzy</th>\n",
       "      <th>Predicted Value</th>\n",
       "    </tr>\n",
       "  </thead>\n",
       "  <tbody>\n",
       "    <tr>\n",
       "      <th>809</th>\n",
       "      <td>0.385133</td>\n",
       "      <td>0.514982</td>\n",
       "      <td>0.184924</td>\n",
       "      <td>0.728985</td>\n",
       "      <td>One</td>\n",
       "      <td>One</td>\n",
       "      <td>0.220782</td>\n",
       "    </tr>\n",
       "    <tr>\n",
       "      <th>861</th>\n",
       "      <td>0.336225</td>\n",
       "      <td>0.461479</td>\n",
       "      <td>0.276279</td>\n",
       "      <td>0.791889</td>\n",
       "      <td>One</td>\n",
       "      <td>One</td>\n",
       "      <td>0.220782</td>\n",
       "    </tr>\n",
       "    <tr>\n",
       "      <th>1032</th>\n",
       "      <td>0.519632</td>\n",
       "      <td>0.389703</td>\n",
       "      <td>0.286945</td>\n",
       "      <td>0.900652</td>\n",
       "      <td>One</td>\n",
       "      <td>One</td>\n",
       "      <td>0.220782</td>\n",
       "    </tr>\n",
       "    <tr>\n",
       "      <th>881</th>\n",
       "      <td>0.184324</td>\n",
       "      <td>0.018118</td>\n",
       "      <td>0.973347</td>\n",
       "      <td>0.484538</td>\n",
       "      <td>One</td>\n",
       "      <td>One</td>\n",
       "      <td>0.220782</td>\n",
       "    </tr>\n",
       "    <tr>\n",
       "      <th>846</th>\n",
       "      <td>0.353475</td>\n",
       "      <td>0.509098</td>\n",
       "      <td>0.284623</td>\n",
       "      <td>0.758262</td>\n",
       "      <td>One</td>\n",
       "      <td>One</td>\n",
       "      <td>0.220782</td>\n",
       "    </tr>\n",
       "    <tr>\n",
       "      <th>...</th>\n",
       "      <td>...</td>\n",
       "      <td>...</td>\n",
       "      <td>...</td>\n",
       "      <td>...</td>\n",
       "      <td>...</td>\n",
       "      <td>...</td>\n",
       "      <td>...</td>\n",
       "    </tr>\n",
       "    <tr>\n",
       "      <th>565</th>\n",
       "      <td>0.621062</td>\n",
       "      <td>0.811459</td>\n",
       "      <td>0.240217</td>\n",
       "      <td>0.577657</td>\n",
       "      <td>Zero</td>\n",
       "      <td>Zero</td>\n",
       "      <td>0.767529</td>\n",
       "    </tr>\n",
       "    <tr>\n",
       "      <th>83</th>\n",
       "      <td>0.642429</td>\n",
       "      <td>0.806348</td>\n",
       "      <td>0.217443</td>\n",
       "      <td>0.507815</td>\n",
       "      <td>Zero</td>\n",
       "      <td>Zero</td>\n",
       "      <td>0.767529</td>\n",
       "    </tr>\n",
       "    <tr>\n",
       "      <th>403</th>\n",
       "      <td>0.730408</td>\n",
       "      <td>0.418661</td>\n",
       "      <td>0.323820</td>\n",
       "      <td>0.805411</td>\n",
       "      <td>Zero</td>\n",
       "      <td>Zero</td>\n",
       "      <td>0.767529</td>\n",
       "    </tr>\n",
       "    <tr>\n",
       "      <th>723</th>\n",
       "      <td>0.561806</td>\n",
       "      <td>0.787612</td>\n",
       "      <td>0.277274</td>\n",
       "      <td>0.728280</td>\n",
       "      <td>Zero</td>\n",
       "      <td>Zero</td>\n",
       "      <td>0.767529</td>\n",
       "    </tr>\n",
       "    <tr>\n",
       "      <th>724</th>\n",
       "      <td>0.877154</td>\n",
       "      <td>0.835542</td>\n",
       "      <td>0.081608</td>\n",
       "      <td>0.636569</td>\n",
       "      <td>Zero</td>\n",
       "      <td>Zero</td>\n",
       "      <td>0.767529</td>\n",
       "    </tr>\n",
       "  </tbody>\n",
       "</table>\n",
       "<p>815 rows × 7 columns</p>\n",
       "</div>"
      ],
      "text/plain": [
       "            F0        F1        F2        F3 Decision Decision Fuzzy  \\\n",
       "809   0.385133  0.514982  0.184924  0.728985      One            One   \n",
       "861   0.336225  0.461479  0.276279  0.791889      One            One   \n",
       "1032  0.519632  0.389703  0.286945  0.900652      One            One   \n",
       "881   0.184324  0.018118  0.973347  0.484538      One            One   \n",
       "846   0.353475  0.509098  0.284623  0.758262      One            One   \n",
       "...        ...       ...       ...       ...      ...            ...   \n",
       "565   0.621062  0.811459  0.240217  0.577657     Zero           Zero   \n",
       "83    0.642429  0.806348  0.217443  0.507815     Zero           Zero   \n",
       "403   0.730408  0.418661  0.323820  0.805411     Zero           Zero   \n",
       "723   0.561806  0.787612  0.277274  0.728280     Zero           Zero   \n",
       "724   0.877154  0.835542  0.081608  0.636569     Zero           Zero   \n",
       "\n",
       "      Predicted Value  \n",
       "809          0.220782  \n",
       "861          0.220782  \n",
       "1032         0.220782  \n",
       "881          0.220782  \n",
       "846          0.220782  \n",
       "...               ...  \n",
       "565          0.767529  \n",
       "83           0.767529  \n",
       "403          0.767529  \n",
       "723          0.767529  \n",
       "724          0.767529  \n",
       "\n",
       "[815 rows x 7 columns]"
      ]
     },
     "metadata": {},
     "output_type": "display_data"
    },
    {
     "name": "stderr",
     "output_type": "stream",
     "text": [
      "  2%|█▎                                                                               | 15/905 [00:00<00:24, 36.87it/s]"
     ]
    },
    {
     "name": "stdout",
     "output_type": "stream",
     "text": [
      "Level 1\n",
      "Level 2\n"
     ]
    },
    {
     "name": "stderr",
     "output_type": "stream",
     "text": [
      "100%|███████████████████████████████████████████████████████████████████████████████| 905/905 [00:06<00:00, 144.33it/s]\n"
     ]
    },
    {
     "name": "stdout",
     "output_type": "stream",
     "text": [
      "Level 3\n",
      "Level 4\n"
     ]
    },
    {
     "name": "stderr",
     "output_type": "stream",
     "text": [
      "  0%|▏                                                                                 | 2/815 [00:00<00:42, 19.28it/s]"
     ]
    },
    {
     "name": "stdout",
     "output_type": "stream",
     "text": [
      "Level 1\n",
      "Level 2\n"
     ]
    },
    {
     "name": "stderr",
     "output_type": "stream",
     "text": [
      "100%|███████████████████████████████████████████████████████████████████████████████| 815/815 [00:05<00:00, 142.25it/s]\n"
     ]
    },
    {
     "name": "stdout",
     "output_type": "stream",
     "text": [
      "Level 3\n",
      "Level 4\n"
     ]
    },
    {
     "name": "stderr",
     "output_type": "stream",
     "text": [
      "  0%|                                                                                           | 0/90 [00:00<?, ?it/s]"
     ]
    },
    {
     "name": "stdout",
     "output_type": "stream",
     "text": [
      "Accuracy: 0.9901840490797545\n",
      "Precision: [1.         0.98264642]\n",
      "Recall: [0.97790055 1.        ]\n",
      "F-Score: [0.98882682 0.99124726]\n",
      "Support: [362 453]\n",
      "Level 1\n",
      "Level 2\n"
     ]
    },
    {
     "name": "stderr",
     "output_type": "stream",
     "text": [
      "100%|█████████████████████████████████████████████████████████████████████████████████| 90/90 [00:00<00:00, 122.04it/s]"
     ]
    },
    {
     "name": "stdout",
     "output_type": "stream",
     "text": [
      "Level 3\n",
      "Level 4\n",
      "Accuracy: 1.0\n",
      "Precision: [1. 1.]\n",
      "Recall: [1. 1.]\n",
      "F-Score: [1. 1.]\n",
      "Support: [40 50]\n",
      "-----------------------------------------------------------------------------------\n",
      "Center Point: 0.48749999999999993\n",
      "Threshold: 0.5097821340850484\n",
      "Train Accuracy: 1.0\n",
      "Test Accuracy: 1.0\n",
      "Time: 76.82301092147827\n",
      "-----------------------------------------------------------------------------------\n"
     ]
    },
    {
     "name": "stderr",
     "output_type": "stream",
     "text": [
      "\n"
     ]
    },
    {
     "data": {
      "text/html": [
       "<div>\n",
       "<style scoped>\n",
       "    .dataframe tbody tr th:only-of-type {\n",
       "        vertical-align: middle;\n",
       "    }\n",
       "\n",
       "    .dataframe tbody tr th {\n",
       "        vertical-align: top;\n",
       "    }\n",
       "\n",
       "    .dataframe thead th {\n",
       "        text-align: right;\n",
       "    }\n",
       "</style>\n",
       "<table border=\"1\" class=\"dataframe\">\n",
       "  <thead>\n",
       "    <tr style=\"text-align: right;\">\n",
       "      <th></th>\n",
       "      <th>F0</th>\n",
       "      <th>F1</th>\n",
       "      <th>F2</th>\n",
       "      <th>F3</th>\n",
       "      <th>Decision</th>\n",
       "      <th>Decision Fuzzy</th>\n",
       "      <th>Predicted Value</th>\n",
       "    </tr>\n",
       "  </thead>\n",
       "  <tbody>\n",
       "    <tr>\n",
       "      <th>1145</th>\n",
       "      <td>0.340379</td>\n",
       "      <td>0.166239</td>\n",
       "      <td>0.625459</td>\n",
       "      <td>0.704646</td>\n",
       "      <td>One</td>\n",
       "      <td>One</td>\n",
       "      <td>0.220782</td>\n",
       "    </tr>\n",
       "    <tr>\n",
       "      <th>772</th>\n",
       "      <td>0.333932</td>\n",
       "      <td>0.173517</td>\n",
       "      <td>0.630258</td>\n",
       "      <td>0.717933</td>\n",
       "      <td>One</td>\n",
       "      <td>One</td>\n",
       "      <td>0.220782</td>\n",
       "    </tr>\n",
       "    <tr>\n",
       "      <th>1125</th>\n",
       "      <td>0.248332</td>\n",
       "      <td>0.004258</td>\n",
       "      <td>0.986120</td>\n",
       "      <td>0.550615</td>\n",
       "      <td>One</td>\n",
       "      <td>One</td>\n",
       "      <td>0.220782</td>\n",
       "    </tr>\n",
       "    <tr>\n",
       "      <th>1192</th>\n",
       "      <td>0.190403</td>\n",
       "      <td>0.031282</td>\n",
       "      <td>0.902147</td>\n",
       "      <td>0.624458</td>\n",
       "      <td>One</td>\n",
       "      <td>One</td>\n",
       "      <td>0.220782</td>\n",
       "    </tr>\n",
       "    <tr>\n",
       "      <th>826</th>\n",
       "      <td>0.204162</td>\n",
       "      <td>0.048625</td>\n",
       "      <td>0.872617</td>\n",
       "      <td>0.651027</td>\n",
       "      <td>One</td>\n",
       "      <td>One</td>\n",
       "      <td>0.220782</td>\n",
       "    </tr>\n",
       "    <tr>\n",
       "      <th>...</th>\n",
       "      <td>...</td>\n",
       "      <td>...</td>\n",
       "      <td>...</td>\n",
       "      <td>...</td>\n",
       "      <td>...</td>\n",
       "      <td>...</td>\n",
       "      <td>...</td>\n",
       "    </tr>\n",
       "    <tr>\n",
       "      <th>82</th>\n",
       "      <td>0.869740</td>\n",
       "      <td>0.837087</td>\n",
       "      <td>0.101174</td>\n",
       "      <td>0.660793</td>\n",
       "      <td>Zero</td>\n",
       "      <td>Zero</td>\n",
       "      <td>0.767529</td>\n",
       "    </tr>\n",
       "    <tr>\n",
       "      <th>138</th>\n",
       "      <td>0.885843</td>\n",
       "      <td>0.909716</td>\n",
       "      <td>0.050346</td>\n",
       "      <td>0.388127</td>\n",
       "      <td>Zero</td>\n",
       "      <td>Zero</td>\n",
       "      <td>0.767529</td>\n",
       "    </tr>\n",
       "    <tr>\n",
       "      <th>319</th>\n",
       "      <td>0.720565</td>\n",
       "      <td>0.599535</td>\n",
       "      <td>0.285692</td>\n",
       "      <td>0.773900</td>\n",
       "      <td>Zero</td>\n",
       "      <td>Zero</td>\n",
       "      <td>0.767529</td>\n",
       "    </tr>\n",
       "    <tr>\n",
       "      <th>168</th>\n",
       "      <td>0.377813</td>\n",
       "      <td>0.959970</td>\n",
       "      <td>0.315846</td>\n",
       "      <td>0.297826</td>\n",
       "      <td>Zero</td>\n",
       "      <td>Zero</td>\n",
       "      <td>0.767529</td>\n",
       "    </tr>\n",
       "    <tr>\n",
       "      <th>184</th>\n",
       "      <td>0.381210</td>\n",
       "      <td>0.962368</td>\n",
       "      <td>0.361027</td>\n",
       "      <td>0.331924</td>\n",
       "      <td>Zero</td>\n",
       "      <td>Zero</td>\n",
       "      <td>0.767529</td>\n",
       "    </tr>\n",
       "  </tbody>\n",
       "</table>\n",
       "<p>815 rows × 7 columns</p>\n",
       "</div>"
      ],
      "text/plain": [
       "            F0        F1        F2        F3 Decision Decision Fuzzy  \\\n",
       "1145  0.340379  0.166239  0.625459  0.704646      One            One   \n",
       "772   0.333932  0.173517  0.630258  0.717933      One            One   \n",
       "1125  0.248332  0.004258  0.986120  0.550615      One            One   \n",
       "1192  0.190403  0.031282  0.902147  0.624458      One            One   \n",
       "826   0.204162  0.048625  0.872617  0.651027      One            One   \n",
       "...        ...       ...       ...       ...      ...            ...   \n",
       "82    0.869740  0.837087  0.101174  0.660793     Zero           Zero   \n",
       "138   0.885843  0.909716  0.050346  0.388127     Zero           Zero   \n",
       "319   0.720565  0.599535  0.285692  0.773900     Zero           Zero   \n",
       "168   0.377813  0.959970  0.315846  0.297826     Zero           Zero   \n",
       "184   0.381210  0.962368  0.361027  0.331924     Zero           Zero   \n",
       "\n",
       "      Predicted Value  \n",
       "1145         0.220782  \n",
       "772          0.220782  \n",
       "1125         0.220782  \n",
       "1192         0.220782  \n",
       "826          0.220782  \n",
       "...               ...  \n",
       "82           0.767529  \n",
       "138          0.767529  \n",
       "319          0.767529  \n",
       "168          0.767529  \n",
       "184          0.767529  \n",
       "\n",
       "[815 rows x 7 columns]"
      ]
     },
     "metadata": {},
     "output_type": "display_data"
    },
    {
     "name": "stderr",
     "output_type": "stream",
     "text": [
      "  0%|▎                                                                                 | 3/905 [00:00<00:30, 29.20it/s]"
     ]
    },
    {
     "name": "stdout",
     "output_type": "stream",
     "text": [
      "Level 1\n",
      "Level 2\n"
     ]
    },
    {
     "name": "stderr",
     "output_type": "stream",
     "text": [
      "100%|███████████████████████████████████████████████████████████████████████████████| 905/905 [00:06<00:00, 140.94it/s]\n"
     ]
    },
    {
     "name": "stdout",
     "output_type": "stream",
     "text": [
      "Level 3\n",
      "Level 4\n"
     ]
    },
    {
     "name": "stderr",
     "output_type": "stream",
     "text": [
      "  0%|▎                                                                                 | 3/815 [00:00<00:28, 28.38it/s]"
     ]
    },
    {
     "name": "stdout",
     "output_type": "stream",
     "text": [
      "Level 1\n",
      "Level 2\n"
     ]
    },
    {
     "name": "stderr",
     "output_type": "stream",
     "text": [
      "100%|███████████████████████████████████████████████████████████████████████████████| 815/815 [00:05<00:00, 143.27it/s]\n"
     ]
    },
    {
     "name": "stdout",
     "output_type": "stream",
     "text": [
      "Level 3\n",
      "Level 4\n"
     ]
    },
    {
     "name": "stderr",
     "output_type": "stream",
     "text": [
      "  0%|                                                                                           | 0/90 [00:00<?, ?it/s]"
     ]
    },
    {
     "name": "stdout",
     "output_type": "stream",
     "text": [
      "Accuracy: 0.992638036809816\n",
      "Precision: [0.99444444 0.99120879]\n",
      "Recall: [0.98895028 0.99558499]\n",
      "F-Score: [0.99168975 0.99339207]\n",
      "Support: [362 453]\n",
      "Level 1\n",
      "Level 2\n"
     ]
    },
    {
     "name": "stderr",
     "output_type": "stream",
     "text": [
      "100%|█████████████████████████████████████████████████████████████████████████████████| 90/90 [00:00<00:00, 141.88it/s]"
     ]
    },
    {
     "name": "stdout",
     "output_type": "stream",
     "text": [
      "Level 3\n",
      "Level 4\n",
      "Accuracy: 0.9888888888888889\n",
      "Precision: [1.         0.98039216]\n",
      "Recall: [0.975 1.   ]\n",
      "F-Score: [0.98734177 0.99009901]\n",
      "Support: [40 50]\n",
      "-----------------------------------------------------------------------------------\n",
      "Center Point: 0.48749999999999993\n",
      "Threshold: 0.5447821340850484\n",
      "Train Accuracy: 0.9555555555555556\n",
      "Test Accuracy: 0.9888888888888889\n",
      "Time: 75.17666602134705\n",
      "-----------------------------------------------------------------------------------\n"
     ]
    },
    {
     "name": "stderr",
     "output_type": "stream",
     "text": [
      "\n"
     ]
    },
    {
     "data": {
      "text/html": [
       "<div>\n",
       "<style scoped>\n",
       "    .dataframe tbody tr th:only-of-type {\n",
       "        vertical-align: middle;\n",
       "    }\n",
       "\n",
       "    .dataframe tbody tr th {\n",
       "        vertical-align: top;\n",
       "    }\n",
       "\n",
       "    .dataframe thead th {\n",
       "        text-align: right;\n",
       "    }\n",
       "</style>\n",
       "<table border=\"1\" class=\"dataframe\">\n",
       "  <thead>\n",
       "    <tr style=\"text-align: right;\">\n",
       "      <th></th>\n",
       "      <th>F0</th>\n",
       "      <th>F1</th>\n",
       "      <th>F2</th>\n",
       "      <th>F3</th>\n",
       "      <th>Decision</th>\n",
       "      <th>Decision Fuzzy</th>\n",
       "      <th>Predicted Value</th>\n",
       "    </tr>\n",
       "  </thead>\n",
       "  <tbody>\n",
       "    <tr>\n",
       "      <th>1186</th>\n",
       "      <td>0.201783</td>\n",
       "      <td>0.026556</td>\n",
       "      <td>0.964857</td>\n",
       "      <td>0.522518</td>\n",
       "      <td>One</td>\n",
       "      <td>One</td>\n",
       "      <td>0.220782</td>\n",
       "    </tr>\n",
       "    <tr>\n",
       "      <th>1064</th>\n",
       "      <td>0.241294</td>\n",
       "      <td>0.003562</td>\n",
       "      <td>0.985013</td>\n",
       "      <td>0.539213</td>\n",
       "      <td>One</td>\n",
       "      <td>One</td>\n",
       "      <td>0.220782</td>\n",
       "    </tr>\n",
       "    <tr>\n",
       "      <th>772</th>\n",
       "      <td>0.333932</td>\n",
       "      <td>0.173517</td>\n",
       "      <td>0.630258</td>\n",
       "      <td>0.717933</td>\n",
       "      <td>One</td>\n",
       "      <td>One</td>\n",
       "      <td>0.220782</td>\n",
       "    </tr>\n",
       "    <tr>\n",
       "      <th>1192</th>\n",
       "      <td>0.190403</td>\n",
       "      <td>0.031282</td>\n",
       "      <td>0.902147</td>\n",
       "      <td>0.624458</td>\n",
       "      <td>One</td>\n",
       "      <td>One</td>\n",
       "      <td>0.220782</td>\n",
       "    </tr>\n",
       "    <tr>\n",
       "      <th>1267</th>\n",
       "      <td>0.330766</td>\n",
       "      <td>0.177080</td>\n",
       "      <td>0.609477</td>\n",
       "      <td>0.698180</td>\n",
       "      <td>One</td>\n",
       "      <td>One</td>\n",
       "      <td>0.220782</td>\n",
       "    </tr>\n",
       "    <tr>\n",
       "      <th>...</th>\n",
       "      <td>...</td>\n",
       "      <td>...</td>\n",
       "      <td>...</td>\n",
       "      <td>...</td>\n",
       "      <td>...</td>\n",
       "      <td>...</td>\n",
       "      <td>...</td>\n",
       "    </tr>\n",
       "    <tr>\n",
       "      <th>125</th>\n",
       "      <td>0.723745</td>\n",
       "      <td>0.784825</td>\n",
       "      <td>0.175363</td>\n",
       "      <td>0.806469</td>\n",
       "      <td>Zero</td>\n",
       "      <td>Zero</td>\n",
       "      <td>0.767529</td>\n",
       "    </tr>\n",
       "    <tr>\n",
       "      <th>184</th>\n",
       "      <td>0.381210</td>\n",
       "      <td>0.962368</td>\n",
       "      <td>0.361027</td>\n",
       "      <td>0.331924</td>\n",
       "      <td>Zero</td>\n",
       "      <td>Zero</td>\n",
       "      <td>0.767529</td>\n",
       "    </tr>\n",
       "    <tr>\n",
       "      <th>256</th>\n",
       "      <td>0.730913</td>\n",
       "      <td>0.406194</td>\n",
       "      <td>0.323488</td>\n",
       "      <td>0.797533</td>\n",
       "      <td>Zero</td>\n",
       "      <td>Zero</td>\n",
       "      <td>0.767529</td>\n",
       "    </tr>\n",
       "    <tr>\n",
       "      <th>367</th>\n",
       "      <td>0.740721</td>\n",
       "      <td>0.804956</td>\n",
       "      <td>0.211426</td>\n",
       "      <td>0.546269</td>\n",
       "      <td>Zero</td>\n",
       "      <td>Zero</td>\n",
       "      <td>0.767529</td>\n",
       "    </tr>\n",
       "    <tr>\n",
       "      <th>403</th>\n",
       "      <td>0.730408</td>\n",
       "      <td>0.418661</td>\n",
       "      <td>0.323820</td>\n",
       "      <td>0.805411</td>\n",
       "      <td>Zero</td>\n",
       "      <td>Zero</td>\n",
       "      <td>0.767529</td>\n",
       "    </tr>\n",
       "  </tbody>\n",
       "</table>\n",
       "<p>815 rows × 7 columns</p>\n",
       "</div>"
      ],
      "text/plain": [
       "            F0        F1        F2        F3 Decision Decision Fuzzy  \\\n",
       "1186  0.201783  0.026556  0.964857  0.522518      One            One   \n",
       "1064  0.241294  0.003562  0.985013  0.539213      One            One   \n",
       "772   0.333932  0.173517  0.630258  0.717933      One            One   \n",
       "1192  0.190403  0.031282  0.902147  0.624458      One            One   \n",
       "1267  0.330766  0.177080  0.609477  0.698180      One            One   \n",
       "...        ...       ...       ...       ...      ...            ...   \n",
       "125   0.723745  0.784825  0.175363  0.806469     Zero           Zero   \n",
       "184   0.381210  0.962368  0.361027  0.331924     Zero           Zero   \n",
       "256   0.730913  0.406194  0.323488  0.797533     Zero           Zero   \n",
       "367   0.740721  0.804956  0.211426  0.546269     Zero           Zero   \n",
       "403   0.730408  0.418661  0.323820  0.805411     Zero           Zero   \n",
       "\n",
       "      Predicted Value  \n",
       "1186         0.220782  \n",
       "1064         0.220782  \n",
       "772          0.220782  \n",
       "1192         0.220782  \n",
       "1267         0.220782  \n",
       "...               ...  \n",
       "125          0.767529  \n",
       "184          0.767529  \n",
       "256          0.767529  \n",
       "367          0.767529  \n",
       "403          0.767529  \n",
       "\n",
       "[815 rows x 7 columns]"
      ]
     },
     "metadata": {},
     "output_type": "display_data"
    },
    {
     "name": "stderr",
     "output_type": "stream",
     "text": [
      "  2%|█▌                                                                               | 18/905 [00:00<00:35, 24.81it/s]"
     ]
    },
    {
     "name": "stdout",
     "output_type": "stream",
     "text": [
      "Level 1\n",
      "Level 2\n"
     ]
    },
    {
     "name": "stderr",
     "output_type": "stream",
     "text": [
      "100%|███████████████████████████████████████████████████████████████████████████████| 905/905 [00:05<00:00, 159.09it/s]\n"
     ]
    },
    {
     "name": "stdout",
     "output_type": "stream",
     "text": [
      "Level 3\n",
      "Level 4\n",
      "Level 1\n",
      "Level 2\n"
     ]
    },
    {
     "name": "stderr",
     "output_type": "stream",
     "text": [
      "100%|███████████████████████████████████████████████████████████████████████████████| 815/815 [00:05<00:00, 161.90it/s]\n"
     ]
    },
    {
     "name": "stdout",
     "output_type": "stream",
     "text": [
      "Level 3\n",
      "Level 4\n"
     ]
    },
    {
     "name": "stderr",
     "output_type": "stream",
     "text": [
      "  0%|                                                                                           | 0/90 [00:00<?, ?it/s]"
     ]
    },
    {
     "name": "stdout",
     "output_type": "stream",
     "text": [
      "Accuracy: 1.0\n",
      "Precision: [1. 1.]\n",
      "Recall: [1. 1.]\n",
      "F-Score: [1. 1.]\n",
      "Support: [362 453]\n",
      "Level 1\n",
      "Level 2\n"
     ]
    },
    {
     "name": "stderr",
     "output_type": "stream",
     "text": [
      "100%|█████████████████████████████████████████████████████████████████████████████████| 90/90 [00:00<00:00, 139.91it/s]"
     ]
    },
    {
     "name": "stdout",
     "output_type": "stream",
     "text": [
      "Level 3\n",
      "Level 4\n",
      "Accuracy: 0.9888888888888889\n",
      "Precision: [0.97560976 1.        ]\n",
      "Recall: [1.   0.98]\n",
      "F-Score: [0.98765432 0.98989899]\n",
      "Support: [40 50]\n",
      "-----------------------------------------------------------------------------------\n",
      "Center Point: 0.48749999999999993\n",
      "Threshold: 0.49778213408504834\n",
      "Train Accuracy: 1.0\n",
      "Test Accuracy: 0.9888888888888889\n",
      "Time: 70.96537494659424\n",
      "-----------------------------------------------------------------------------------\n"
     ]
    },
    {
     "name": "stderr",
     "output_type": "stream",
     "text": [
      "\n"
     ]
    },
    {
     "data": {
      "text/html": [
       "<div>\n",
       "<style scoped>\n",
       "    .dataframe tbody tr th:only-of-type {\n",
       "        vertical-align: middle;\n",
       "    }\n",
       "\n",
       "    .dataframe tbody tr th {\n",
       "        vertical-align: top;\n",
       "    }\n",
       "\n",
       "    .dataframe thead th {\n",
       "        text-align: right;\n",
       "    }\n",
       "</style>\n",
       "<table border=\"1\" class=\"dataframe\">\n",
       "  <thead>\n",
       "    <tr style=\"text-align: right;\">\n",
       "      <th></th>\n",
       "      <th>F0</th>\n",
       "      <th>F1</th>\n",
       "      <th>F2</th>\n",
       "      <th>F3</th>\n",
       "      <th>Decision</th>\n",
       "      <th>Decision Fuzzy</th>\n",
       "      <th>Predicted Value</th>\n",
       "    </tr>\n",
       "  </thead>\n",
       "  <tbody>\n",
       "    <tr>\n",
       "      <th>772</th>\n",
       "      <td>0.333932</td>\n",
       "      <td>0.173517</td>\n",
       "      <td>0.630258</td>\n",
       "      <td>0.717933</td>\n",
       "      <td>One</td>\n",
       "      <td>One</td>\n",
       "      <td>0.220782</td>\n",
       "    </tr>\n",
       "    <tr>\n",
       "      <th>1064</th>\n",
       "      <td>0.241294</td>\n",
       "      <td>0.003562</td>\n",
       "      <td>0.985013</td>\n",
       "      <td>0.539213</td>\n",
       "      <td>One</td>\n",
       "      <td>One</td>\n",
       "      <td>0.220782</td>\n",
       "    </tr>\n",
       "    <tr>\n",
       "      <th>826</th>\n",
       "      <td>0.204162</td>\n",
       "      <td>0.048625</td>\n",
       "      <td>0.872617</td>\n",
       "      <td>0.651027</td>\n",
       "      <td>One</td>\n",
       "      <td>One</td>\n",
       "      <td>0.220782</td>\n",
       "    </tr>\n",
       "    <tr>\n",
       "      <th>863</th>\n",
       "      <td>0.522414</td>\n",
       "      <td>0.587146</td>\n",
       "      <td>0.086299</td>\n",
       "      <td>0.721107</td>\n",
       "      <td>One</td>\n",
       "      <td>One</td>\n",
       "      <td>0.220782</td>\n",
       "    </tr>\n",
       "    <tr>\n",
       "      <th>881</th>\n",
       "      <td>0.184324</td>\n",
       "      <td>0.018118</td>\n",
       "      <td>0.973347</td>\n",
       "      <td>0.484538</td>\n",
       "      <td>One</td>\n",
       "      <td>One</td>\n",
       "      <td>0.220782</td>\n",
       "    </tr>\n",
       "    <tr>\n",
       "      <th>...</th>\n",
       "      <td>...</td>\n",
       "      <td>...</td>\n",
       "      <td>...</td>\n",
       "      <td>...</td>\n",
       "      <td>...</td>\n",
       "      <td>...</td>\n",
       "      <td>...</td>\n",
       "    </tr>\n",
       "    <tr>\n",
       "      <th>278</th>\n",
       "      <td>0.572425</td>\n",
       "      <td>0.806348</td>\n",
       "      <td>0.109367</td>\n",
       "      <td>0.601298</td>\n",
       "      <td>Zero</td>\n",
       "      <td>Zero</td>\n",
       "      <td>0.767529</td>\n",
       "    </tr>\n",
       "    <tr>\n",
       "      <th>8</th>\n",
       "      <td>0.738831</td>\n",
       "      <td>0.730856</td>\n",
       "      <td>0.195259</td>\n",
       "      <td>0.721577</td>\n",
       "      <td>Zero</td>\n",
       "      <td>Zero</td>\n",
       "      <td>0.767529</td>\n",
       "    </tr>\n",
       "    <tr>\n",
       "      <th>624</th>\n",
       "      <td>0.843613</td>\n",
       "      <td>0.801240</td>\n",
       "      <td>0.123282</td>\n",
       "      <td>0.664666</td>\n",
       "      <td>Zero</td>\n",
       "      <td>Zero</td>\n",
       "      <td>0.767529</td>\n",
       "    </tr>\n",
       "    <tr>\n",
       "      <th>462</th>\n",
       "      <td>0.863805</td>\n",
       "      <td>0.799923</td>\n",
       "      <td>0.126788</td>\n",
       "      <td>0.699708</td>\n",
       "      <td>Zero</td>\n",
       "      <td>Zero</td>\n",
       "      <td>0.767529</td>\n",
       "    </tr>\n",
       "    <tr>\n",
       "      <th>377</th>\n",
       "      <td>0.364169</td>\n",
       "      <td>0.951453</td>\n",
       "      <td>0.342055</td>\n",
       "      <td>0.303473</td>\n",
       "      <td>Zero</td>\n",
       "      <td>Zero</td>\n",
       "      <td>0.767529</td>\n",
       "    </tr>\n",
       "  </tbody>\n",
       "</table>\n",
       "<p>815 rows × 7 columns</p>\n",
       "</div>"
      ],
      "text/plain": [
       "            F0        F1        F2        F3 Decision Decision Fuzzy  \\\n",
       "772   0.333932  0.173517  0.630258  0.717933      One            One   \n",
       "1064  0.241294  0.003562  0.985013  0.539213      One            One   \n",
       "826   0.204162  0.048625  0.872617  0.651027      One            One   \n",
       "863   0.522414  0.587146  0.086299  0.721107      One            One   \n",
       "881   0.184324  0.018118  0.973347  0.484538      One            One   \n",
       "...        ...       ...       ...       ...      ...            ...   \n",
       "278   0.572425  0.806348  0.109367  0.601298     Zero           Zero   \n",
       "8     0.738831  0.730856  0.195259  0.721577     Zero           Zero   \n",
       "624   0.843613  0.801240  0.123282  0.664666     Zero           Zero   \n",
       "462   0.863805  0.799923  0.126788  0.699708     Zero           Zero   \n",
       "377   0.364169  0.951453  0.342055  0.303473     Zero           Zero   \n",
       "\n",
       "      Predicted Value  \n",
       "772          0.220782  \n",
       "1064         0.220782  \n",
       "826          0.220782  \n",
       "863          0.220782  \n",
       "881          0.220782  \n",
       "...               ...  \n",
       "278          0.767529  \n",
       "8            0.767529  \n",
       "624          0.767529  \n",
       "462          0.767529  \n",
       "377          0.767529  \n",
       "\n",
       "[815 rows x 7 columns]"
      ]
     },
     "metadata": {},
     "output_type": "display_data"
    },
    {
     "name": "stdout",
     "output_type": "stream",
     "text": [
      "-----------------------------------------------------------------------------------\n"
     ]
    },
    {
     "name": "stderr",
     "output_type": "stream",
     "text": [
      "  0%|                                                                                          | 0/467 [00:00<?, ?it/s]"
     ]
    },
    {
     "name": "stdout",
     "output_type": "stream",
     "text": [
      "Level 1\n",
      "Level 2\n"
     ]
    },
    {
     "name": "stderr",
     "output_type": "stream",
     "text": [
      "100%|███████████████████████████████████████████████████████████████████████████████| 467/467 [00:02<00:00, 161.14it/s]\n"
     ]
    },
    {
     "name": "stdout",
     "output_type": "stream",
     "text": [
      "Level 3\n",
      "Level 4\n",
      "Accuracy: 0.9764453961456103\n",
      "Precision: [1.         0.95925926]\n",
      "Recall: [0.94711538 1.        ]\n",
      "F-Score: [0.97283951 0.97920605]\n",
      "Support: [208 259]\n",
      "-----------------------------------------------------------------------------------\n",
      "Center Point: 0.48749999999999993\n",
      "Threshold: 0.49778213408504834\n",
      "Test Accuracy: 0.9764453961456103\n",
      "Time: 3.0965194702148438\n",
      "-----------------------------------------------------------------------------------\n"
     ]
    },
    {
     "data": {
      "text/html": [
       "<style  type=\"text/css\" >\n",
       "#T_49ab1195_3b06_11eb_bb5f_4ccc6acf21berow0_col4,#T_49ab1195_3b06_11eb_bb5f_4ccc6acf21berow0_col5,#T_49ab1195_3b06_11eb_bb5f_4ccc6acf21berow1_col4,#T_49ab1195_3b06_11eb_bb5f_4ccc6acf21berow1_col5,#T_49ab1195_3b06_11eb_bb5f_4ccc6acf21berow2_col4,#T_49ab1195_3b06_11eb_bb5f_4ccc6acf21berow2_col5,#T_49ab1195_3b06_11eb_bb5f_4ccc6acf21berow3_col4,#T_49ab1195_3b06_11eb_bb5f_4ccc6acf21berow3_col5,#T_49ab1195_3b06_11eb_bb5f_4ccc6acf21berow4_col4,#T_49ab1195_3b06_11eb_bb5f_4ccc6acf21berow4_col5,#T_49ab1195_3b06_11eb_bb5f_4ccc6acf21berow5_col4,#T_49ab1195_3b06_11eb_bb5f_4ccc6acf21berow5_col5,#T_49ab1195_3b06_11eb_bb5f_4ccc6acf21berow6_col4,#T_49ab1195_3b06_11eb_bb5f_4ccc6acf21berow6_col5,#T_49ab1195_3b06_11eb_bb5f_4ccc6acf21berow7_col4,#T_49ab1195_3b06_11eb_bb5f_4ccc6acf21berow7_col5,#T_49ab1195_3b06_11eb_bb5f_4ccc6acf21berow8_col4,#T_49ab1195_3b06_11eb_bb5f_4ccc6acf21berow8_col5,#T_49ab1195_3b06_11eb_bb5f_4ccc6acf21berow9_col4,#T_49ab1195_3b06_11eb_bb5f_4ccc6acf21berow9_col5,#T_49ab1195_3b06_11eb_bb5f_4ccc6acf21berow10_col4,#T_49ab1195_3b06_11eb_bb5f_4ccc6acf21berow10_col5,#T_49ab1195_3b06_11eb_bb5f_4ccc6acf21berow11_col4,#T_49ab1195_3b06_11eb_bb5f_4ccc6acf21berow11_col5,#T_49ab1195_3b06_11eb_bb5f_4ccc6acf21berow12_col4,#T_49ab1195_3b06_11eb_bb5f_4ccc6acf21berow12_col5,#T_49ab1195_3b06_11eb_bb5f_4ccc6acf21berow13_col4,#T_49ab1195_3b06_11eb_bb5f_4ccc6acf21berow13_col5,#T_49ab1195_3b06_11eb_bb5f_4ccc6acf21berow14_col4,#T_49ab1195_3b06_11eb_bb5f_4ccc6acf21berow14_col5,#T_49ab1195_3b06_11eb_bb5f_4ccc6acf21berow15_col4,#T_49ab1195_3b06_11eb_bb5f_4ccc6acf21berow15_col5,#T_49ab1195_3b06_11eb_bb5f_4ccc6acf21berow16_col4,#T_49ab1195_3b06_11eb_bb5f_4ccc6acf21berow16_col5,#T_49ab1195_3b06_11eb_bb5f_4ccc6acf21berow17_col4,#T_49ab1195_3b06_11eb_bb5f_4ccc6acf21berow17_col5,#T_49ab1195_3b06_11eb_bb5f_4ccc6acf21berow18_col4,#T_49ab1195_3b06_11eb_bb5f_4ccc6acf21berow18_col5,#T_49ab1195_3b06_11eb_bb5f_4ccc6acf21berow19_col4,#T_49ab1195_3b06_11eb_bb5f_4ccc6acf21berow19_col5,#T_49ab1195_3b06_11eb_bb5f_4ccc6acf21berow20_col4,#T_49ab1195_3b06_11eb_bb5f_4ccc6acf21berow20_col5,#T_49ab1195_3b06_11eb_bb5f_4ccc6acf21berow21_col4,#T_49ab1195_3b06_11eb_bb5f_4ccc6acf21berow21_col5,#T_49ab1195_3b06_11eb_bb5f_4ccc6acf21berow22_col4,#T_49ab1195_3b06_11eb_bb5f_4ccc6acf21berow22_col5,#T_49ab1195_3b06_11eb_bb5f_4ccc6acf21berow23_col4,#T_49ab1195_3b06_11eb_bb5f_4ccc6acf21berow23_col5,#T_49ab1195_3b06_11eb_bb5f_4ccc6acf21berow24_col4,#T_49ab1195_3b06_11eb_bb5f_4ccc6acf21berow24_col5,#T_49ab1195_3b06_11eb_bb5f_4ccc6acf21berow25_col4,#T_49ab1195_3b06_11eb_bb5f_4ccc6acf21berow25_col5,#T_49ab1195_3b06_11eb_bb5f_4ccc6acf21berow26_col4,#T_49ab1195_3b06_11eb_bb5f_4ccc6acf21berow26_col5,#T_49ab1195_3b06_11eb_bb5f_4ccc6acf21berow27_col4,#T_49ab1195_3b06_11eb_bb5f_4ccc6acf21berow27_col5,#T_49ab1195_3b06_11eb_bb5f_4ccc6acf21berow28_col4,#T_49ab1195_3b06_11eb_bb5f_4ccc6acf21berow28_col5,#T_49ab1195_3b06_11eb_bb5f_4ccc6acf21berow29_col4,#T_49ab1195_3b06_11eb_bb5f_4ccc6acf21berow29_col5,#T_49ab1195_3b06_11eb_bb5f_4ccc6acf21berow30_col4,#T_49ab1195_3b06_11eb_bb5f_4ccc6acf21berow30_col5,#T_49ab1195_3b06_11eb_bb5f_4ccc6acf21berow31_col4,#T_49ab1195_3b06_11eb_bb5f_4ccc6acf21berow31_col5,#T_49ab1195_3b06_11eb_bb5f_4ccc6acf21berow32_col4,#T_49ab1195_3b06_11eb_bb5f_4ccc6acf21berow32_col5,#T_49ab1195_3b06_11eb_bb5f_4ccc6acf21berow33_col4,#T_49ab1195_3b06_11eb_bb5f_4ccc6acf21berow33_col5,#T_49ab1195_3b06_11eb_bb5f_4ccc6acf21berow34_col4,#T_49ab1195_3b06_11eb_bb5f_4ccc6acf21berow34_col5,#T_49ab1195_3b06_11eb_bb5f_4ccc6acf21berow35_col4,#T_49ab1195_3b06_11eb_bb5f_4ccc6acf21berow35_col5,#T_49ab1195_3b06_11eb_bb5f_4ccc6acf21berow36_col4,#T_49ab1195_3b06_11eb_bb5f_4ccc6acf21berow36_col5,#T_49ab1195_3b06_11eb_bb5f_4ccc6acf21berow37_col4,#T_49ab1195_3b06_11eb_bb5f_4ccc6acf21berow37_col5,#T_49ab1195_3b06_11eb_bb5f_4ccc6acf21berow38_col4,#T_49ab1195_3b06_11eb_bb5f_4ccc6acf21berow38_col5,#T_49ab1195_3b06_11eb_bb5f_4ccc6acf21berow39_col4,#T_49ab1195_3b06_11eb_bb5f_4ccc6acf21berow39_col5,#T_49ab1195_3b06_11eb_bb5f_4ccc6acf21berow40_col4,#T_49ab1195_3b06_11eb_bb5f_4ccc6acf21berow40_col5,#T_49ab1195_3b06_11eb_bb5f_4ccc6acf21berow41_col4,#T_49ab1195_3b06_11eb_bb5f_4ccc6acf21berow41_col5,#T_49ab1195_3b06_11eb_bb5f_4ccc6acf21berow42_col4,#T_49ab1195_3b06_11eb_bb5f_4ccc6acf21berow42_col5,#T_49ab1195_3b06_11eb_bb5f_4ccc6acf21berow43_col4,#T_49ab1195_3b06_11eb_bb5f_4ccc6acf21berow43_col5,#T_49ab1195_3b06_11eb_bb5f_4ccc6acf21berow44_col4,#T_49ab1195_3b06_11eb_bb5f_4ccc6acf21berow44_col5,#T_49ab1195_3b06_11eb_bb5f_4ccc6acf21berow45_col4,#T_49ab1195_3b06_11eb_bb5f_4ccc6acf21berow45_col5,#T_49ab1195_3b06_11eb_bb5f_4ccc6acf21berow46_col4,#T_49ab1195_3b06_11eb_bb5f_4ccc6acf21berow46_col5,#T_49ab1195_3b06_11eb_bb5f_4ccc6acf21berow47_col4,#T_49ab1195_3b06_11eb_bb5f_4ccc6acf21berow47_col5,#T_49ab1195_3b06_11eb_bb5f_4ccc6acf21berow48_col4,#T_49ab1195_3b06_11eb_bb5f_4ccc6acf21berow48_col5,#T_49ab1195_3b06_11eb_bb5f_4ccc6acf21berow49_col4,#T_49ab1195_3b06_11eb_bb5f_4ccc6acf21berow49_col5,#T_49ab1195_3b06_11eb_bb5f_4ccc6acf21berow50_col4,#T_49ab1195_3b06_11eb_bb5f_4ccc6acf21berow50_col5,#T_49ab1195_3b06_11eb_bb5f_4ccc6acf21berow51_col4,#T_49ab1195_3b06_11eb_bb5f_4ccc6acf21berow51_col5,#T_49ab1195_3b06_11eb_bb5f_4ccc6acf21berow52_col4,#T_49ab1195_3b06_11eb_bb5f_4ccc6acf21berow52_col5,#T_49ab1195_3b06_11eb_bb5f_4ccc6acf21berow53_col4,#T_49ab1195_3b06_11eb_bb5f_4ccc6acf21berow53_col5,#T_49ab1195_3b06_11eb_bb5f_4ccc6acf21berow54_col4,#T_49ab1195_3b06_11eb_bb5f_4ccc6acf21berow54_col5,#T_49ab1195_3b06_11eb_bb5f_4ccc6acf21berow55_col4,#T_49ab1195_3b06_11eb_bb5f_4ccc6acf21berow55_col5,#T_49ab1195_3b06_11eb_bb5f_4ccc6acf21berow56_col4,#T_49ab1195_3b06_11eb_bb5f_4ccc6acf21berow56_col5,#T_49ab1195_3b06_11eb_bb5f_4ccc6acf21berow57_col4,#T_49ab1195_3b06_11eb_bb5f_4ccc6acf21berow57_col5,#T_49ab1195_3b06_11eb_bb5f_4ccc6acf21berow58_col4,#T_49ab1195_3b06_11eb_bb5f_4ccc6acf21berow58_col5,#T_49ab1195_3b06_11eb_bb5f_4ccc6acf21berow59_col4,#T_49ab1195_3b06_11eb_bb5f_4ccc6acf21berow59_col5,#T_49ab1195_3b06_11eb_bb5f_4ccc6acf21berow60_col4,#T_49ab1195_3b06_11eb_bb5f_4ccc6acf21berow60_col5,#T_49ab1195_3b06_11eb_bb5f_4ccc6acf21berow61_col4,#T_49ab1195_3b06_11eb_bb5f_4ccc6acf21berow61_col5,#T_49ab1195_3b06_11eb_bb5f_4ccc6acf21berow62_col4,#T_49ab1195_3b06_11eb_bb5f_4ccc6acf21berow62_col5,#T_49ab1195_3b06_11eb_bb5f_4ccc6acf21berow63_col4,#T_49ab1195_3b06_11eb_bb5f_4ccc6acf21berow63_col5,#T_49ab1195_3b06_11eb_bb5f_4ccc6acf21berow64_col4,#T_49ab1195_3b06_11eb_bb5f_4ccc6acf21berow64_col5,#T_49ab1195_3b06_11eb_bb5f_4ccc6acf21berow65_col4,#T_49ab1195_3b06_11eb_bb5f_4ccc6acf21berow65_col5,#T_49ab1195_3b06_11eb_bb5f_4ccc6acf21berow66_col4,#T_49ab1195_3b06_11eb_bb5f_4ccc6acf21berow66_col5,#T_49ab1195_3b06_11eb_bb5f_4ccc6acf21berow67_col4,#T_49ab1195_3b06_11eb_bb5f_4ccc6acf21berow67_col5,#T_49ab1195_3b06_11eb_bb5f_4ccc6acf21berow68_col4,#T_49ab1195_3b06_11eb_bb5f_4ccc6acf21berow68_col5,#T_49ab1195_3b06_11eb_bb5f_4ccc6acf21berow69_col4,#T_49ab1195_3b06_11eb_bb5f_4ccc6acf21berow69_col5,#T_49ab1195_3b06_11eb_bb5f_4ccc6acf21berow70_col4,#T_49ab1195_3b06_11eb_bb5f_4ccc6acf21berow70_col5,#T_49ab1195_3b06_11eb_bb5f_4ccc6acf21berow71_col4,#T_49ab1195_3b06_11eb_bb5f_4ccc6acf21berow71_col5,#T_49ab1195_3b06_11eb_bb5f_4ccc6acf21berow72_col4,#T_49ab1195_3b06_11eb_bb5f_4ccc6acf21berow72_col5,#T_49ab1195_3b06_11eb_bb5f_4ccc6acf21berow73_col4,#T_49ab1195_3b06_11eb_bb5f_4ccc6acf21berow73_col5,#T_49ab1195_3b06_11eb_bb5f_4ccc6acf21berow74_col4,#T_49ab1195_3b06_11eb_bb5f_4ccc6acf21berow74_col5,#T_49ab1195_3b06_11eb_bb5f_4ccc6acf21berow75_col4,#T_49ab1195_3b06_11eb_bb5f_4ccc6acf21berow75_col5,#T_49ab1195_3b06_11eb_bb5f_4ccc6acf21berow76_col4,#T_49ab1195_3b06_11eb_bb5f_4ccc6acf21berow76_col5,#T_49ab1195_3b06_11eb_bb5f_4ccc6acf21berow77_col4,#T_49ab1195_3b06_11eb_bb5f_4ccc6acf21berow77_col5,#T_49ab1195_3b06_11eb_bb5f_4ccc6acf21berow78_col4,#T_49ab1195_3b06_11eb_bb5f_4ccc6acf21berow78_col5,#T_49ab1195_3b06_11eb_bb5f_4ccc6acf21berow79_col4,#T_49ab1195_3b06_11eb_bb5f_4ccc6acf21berow79_col5,#T_49ab1195_3b06_11eb_bb5f_4ccc6acf21berow80_col4,#T_49ab1195_3b06_11eb_bb5f_4ccc6acf21berow80_col5,#T_49ab1195_3b06_11eb_bb5f_4ccc6acf21berow81_col4,#T_49ab1195_3b06_11eb_bb5f_4ccc6acf21berow81_col5,#T_49ab1195_3b06_11eb_bb5f_4ccc6acf21berow82_col4,#T_49ab1195_3b06_11eb_bb5f_4ccc6acf21berow82_col5,#T_49ab1195_3b06_11eb_bb5f_4ccc6acf21berow83_col4,#T_49ab1195_3b06_11eb_bb5f_4ccc6acf21berow83_col5,#T_49ab1195_3b06_11eb_bb5f_4ccc6acf21berow84_col4,#T_49ab1195_3b06_11eb_bb5f_4ccc6acf21berow84_col5,#T_49ab1195_3b06_11eb_bb5f_4ccc6acf21berow85_col4,#T_49ab1195_3b06_11eb_bb5f_4ccc6acf21berow85_col5,#T_49ab1195_3b06_11eb_bb5f_4ccc6acf21berow86_col4,#T_49ab1195_3b06_11eb_bb5f_4ccc6acf21berow86_col5,#T_49ab1195_3b06_11eb_bb5f_4ccc6acf21berow87_col4,#T_49ab1195_3b06_11eb_bb5f_4ccc6acf21berow87_col5,#T_49ab1195_3b06_11eb_bb5f_4ccc6acf21berow88_col4,#T_49ab1195_3b06_11eb_bb5f_4ccc6acf21berow88_col5,#T_49ab1195_3b06_11eb_bb5f_4ccc6acf21berow89_col4,#T_49ab1195_3b06_11eb_bb5f_4ccc6acf21berow89_col5,#T_49ab1195_3b06_11eb_bb5f_4ccc6acf21berow90_col4,#T_49ab1195_3b06_11eb_bb5f_4ccc6acf21berow90_col5,#T_49ab1195_3b06_11eb_bb5f_4ccc6acf21berow91_col4,#T_49ab1195_3b06_11eb_bb5f_4ccc6acf21berow91_col5,#T_49ab1195_3b06_11eb_bb5f_4ccc6acf21berow92_col4,#T_49ab1195_3b06_11eb_bb5f_4ccc6acf21berow92_col5,#T_49ab1195_3b06_11eb_bb5f_4ccc6acf21berow93_col4,#T_49ab1195_3b06_11eb_bb5f_4ccc6acf21berow93_col5,#T_49ab1195_3b06_11eb_bb5f_4ccc6acf21berow94_col4,#T_49ab1195_3b06_11eb_bb5f_4ccc6acf21berow94_col5,#T_49ab1195_3b06_11eb_bb5f_4ccc6acf21berow95_col4,#T_49ab1195_3b06_11eb_bb5f_4ccc6acf21berow95_col5,#T_49ab1195_3b06_11eb_bb5f_4ccc6acf21berow96_col4,#T_49ab1195_3b06_11eb_bb5f_4ccc6acf21berow96_col5,#T_49ab1195_3b06_11eb_bb5f_4ccc6acf21berow97_col4,#T_49ab1195_3b06_11eb_bb5f_4ccc6acf21berow97_col5,#T_49ab1195_3b06_11eb_bb5f_4ccc6acf21berow98_col4,#T_49ab1195_3b06_11eb_bb5f_4ccc6acf21berow98_col5,#T_49ab1195_3b06_11eb_bb5f_4ccc6acf21berow99_col4,#T_49ab1195_3b06_11eb_bb5f_4ccc6acf21berow99_col5,#T_49ab1195_3b06_11eb_bb5f_4ccc6acf21berow100_col4,#T_49ab1195_3b06_11eb_bb5f_4ccc6acf21berow100_col5,#T_49ab1195_3b06_11eb_bb5f_4ccc6acf21berow101_col4,#T_49ab1195_3b06_11eb_bb5f_4ccc6acf21berow101_col5,#T_49ab1195_3b06_11eb_bb5f_4ccc6acf21berow102_col4,#T_49ab1195_3b06_11eb_bb5f_4ccc6acf21berow102_col5,#T_49ab1195_3b06_11eb_bb5f_4ccc6acf21berow103_col4,#T_49ab1195_3b06_11eb_bb5f_4ccc6acf21berow103_col5,#T_49ab1195_3b06_11eb_bb5f_4ccc6acf21berow104_col4,#T_49ab1195_3b06_11eb_bb5f_4ccc6acf21berow104_col5,#T_49ab1195_3b06_11eb_bb5f_4ccc6acf21berow105_col4,#T_49ab1195_3b06_11eb_bb5f_4ccc6acf21berow105_col5,#T_49ab1195_3b06_11eb_bb5f_4ccc6acf21berow106_col4,#T_49ab1195_3b06_11eb_bb5f_4ccc6acf21berow106_col5,#T_49ab1195_3b06_11eb_bb5f_4ccc6acf21berow107_col4,#T_49ab1195_3b06_11eb_bb5f_4ccc6acf21berow107_col5,#T_49ab1195_3b06_11eb_bb5f_4ccc6acf21berow108_col4,#T_49ab1195_3b06_11eb_bb5f_4ccc6acf21berow108_col5,#T_49ab1195_3b06_11eb_bb5f_4ccc6acf21berow109_col4,#T_49ab1195_3b06_11eb_bb5f_4ccc6acf21berow109_col5,#T_49ab1195_3b06_11eb_bb5f_4ccc6acf21berow110_col4,#T_49ab1195_3b06_11eb_bb5f_4ccc6acf21berow110_col5,#T_49ab1195_3b06_11eb_bb5f_4ccc6acf21berow111_col4,#T_49ab1195_3b06_11eb_bb5f_4ccc6acf21berow111_col5,#T_49ab1195_3b06_11eb_bb5f_4ccc6acf21berow112_col4,#T_49ab1195_3b06_11eb_bb5f_4ccc6acf21berow112_col5,#T_49ab1195_3b06_11eb_bb5f_4ccc6acf21berow113_col4,#T_49ab1195_3b06_11eb_bb5f_4ccc6acf21berow113_col5,#T_49ab1195_3b06_11eb_bb5f_4ccc6acf21berow114_col4,#T_49ab1195_3b06_11eb_bb5f_4ccc6acf21berow114_col5,#T_49ab1195_3b06_11eb_bb5f_4ccc6acf21berow115_col4,#T_49ab1195_3b06_11eb_bb5f_4ccc6acf21berow115_col5,#T_49ab1195_3b06_11eb_bb5f_4ccc6acf21berow116_col4,#T_49ab1195_3b06_11eb_bb5f_4ccc6acf21berow116_col5,#T_49ab1195_3b06_11eb_bb5f_4ccc6acf21berow117_col4,#T_49ab1195_3b06_11eb_bb5f_4ccc6acf21berow117_col5,#T_49ab1195_3b06_11eb_bb5f_4ccc6acf21berow118_col4,#T_49ab1195_3b06_11eb_bb5f_4ccc6acf21berow118_col5,#T_49ab1195_3b06_11eb_bb5f_4ccc6acf21berow119_col4,#T_49ab1195_3b06_11eb_bb5f_4ccc6acf21berow119_col5,#T_49ab1195_3b06_11eb_bb5f_4ccc6acf21berow120_col4,#T_49ab1195_3b06_11eb_bb5f_4ccc6acf21berow120_col5,#T_49ab1195_3b06_11eb_bb5f_4ccc6acf21berow121_col4,#T_49ab1195_3b06_11eb_bb5f_4ccc6acf21berow121_col5,#T_49ab1195_3b06_11eb_bb5f_4ccc6acf21berow122_col4,#T_49ab1195_3b06_11eb_bb5f_4ccc6acf21berow122_col5,#T_49ab1195_3b06_11eb_bb5f_4ccc6acf21berow123_col4,#T_49ab1195_3b06_11eb_bb5f_4ccc6acf21berow123_col5,#T_49ab1195_3b06_11eb_bb5f_4ccc6acf21berow124_col4,#T_49ab1195_3b06_11eb_bb5f_4ccc6acf21berow124_col5,#T_49ab1195_3b06_11eb_bb5f_4ccc6acf21berow125_col4,#T_49ab1195_3b06_11eb_bb5f_4ccc6acf21berow125_col5,#T_49ab1195_3b06_11eb_bb5f_4ccc6acf21berow126_col4,#T_49ab1195_3b06_11eb_bb5f_4ccc6acf21berow126_col5,#T_49ab1195_3b06_11eb_bb5f_4ccc6acf21berow127_col4,#T_49ab1195_3b06_11eb_bb5f_4ccc6acf21berow127_col5,#T_49ab1195_3b06_11eb_bb5f_4ccc6acf21berow128_col4,#T_49ab1195_3b06_11eb_bb5f_4ccc6acf21berow128_col5,#T_49ab1195_3b06_11eb_bb5f_4ccc6acf21berow129_col4,#T_49ab1195_3b06_11eb_bb5f_4ccc6acf21berow129_col5,#T_49ab1195_3b06_11eb_bb5f_4ccc6acf21berow130_col4,#T_49ab1195_3b06_11eb_bb5f_4ccc6acf21berow130_col5,#T_49ab1195_3b06_11eb_bb5f_4ccc6acf21berow131_col4,#T_49ab1195_3b06_11eb_bb5f_4ccc6acf21berow131_col5,#T_49ab1195_3b06_11eb_bb5f_4ccc6acf21berow132_col4,#T_49ab1195_3b06_11eb_bb5f_4ccc6acf21berow132_col5,#T_49ab1195_3b06_11eb_bb5f_4ccc6acf21berow133_col4,#T_49ab1195_3b06_11eb_bb5f_4ccc6acf21berow133_col5,#T_49ab1195_3b06_11eb_bb5f_4ccc6acf21berow134_col4,#T_49ab1195_3b06_11eb_bb5f_4ccc6acf21berow134_col5,#T_49ab1195_3b06_11eb_bb5f_4ccc6acf21berow135_col4,#T_49ab1195_3b06_11eb_bb5f_4ccc6acf21berow135_col5,#T_49ab1195_3b06_11eb_bb5f_4ccc6acf21berow136_col4,#T_49ab1195_3b06_11eb_bb5f_4ccc6acf21berow136_col5,#T_49ab1195_3b06_11eb_bb5f_4ccc6acf21berow137_col4,#T_49ab1195_3b06_11eb_bb5f_4ccc6acf21berow137_col5,#T_49ab1195_3b06_11eb_bb5f_4ccc6acf21berow138_col4,#T_49ab1195_3b06_11eb_bb5f_4ccc6acf21berow138_col5,#T_49ab1195_3b06_11eb_bb5f_4ccc6acf21berow139_col4,#T_49ab1195_3b06_11eb_bb5f_4ccc6acf21berow139_col5,#T_49ab1195_3b06_11eb_bb5f_4ccc6acf21berow140_col4,#T_49ab1195_3b06_11eb_bb5f_4ccc6acf21berow140_col5,#T_49ab1195_3b06_11eb_bb5f_4ccc6acf21berow141_col4,#T_49ab1195_3b06_11eb_bb5f_4ccc6acf21berow141_col5,#T_49ab1195_3b06_11eb_bb5f_4ccc6acf21berow142_col4,#T_49ab1195_3b06_11eb_bb5f_4ccc6acf21berow142_col5,#T_49ab1195_3b06_11eb_bb5f_4ccc6acf21berow143_col4,#T_49ab1195_3b06_11eb_bb5f_4ccc6acf21berow143_col5,#T_49ab1195_3b06_11eb_bb5f_4ccc6acf21berow144_col4,#T_49ab1195_3b06_11eb_bb5f_4ccc6acf21berow144_col5,#T_49ab1195_3b06_11eb_bb5f_4ccc6acf21berow145_col4,#T_49ab1195_3b06_11eb_bb5f_4ccc6acf21berow145_col5,#T_49ab1195_3b06_11eb_bb5f_4ccc6acf21berow146_col4,#T_49ab1195_3b06_11eb_bb5f_4ccc6acf21berow146_col5,#T_49ab1195_3b06_11eb_bb5f_4ccc6acf21berow147_col4,#T_49ab1195_3b06_11eb_bb5f_4ccc6acf21berow147_col5,#T_49ab1195_3b06_11eb_bb5f_4ccc6acf21berow148_col4,#T_49ab1195_3b06_11eb_bb5f_4ccc6acf21berow148_col5,#T_49ab1195_3b06_11eb_bb5f_4ccc6acf21berow149_col4,#T_49ab1195_3b06_11eb_bb5f_4ccc6acf21berow149_col5,#T_49ab1195_3b06_11eb_bb5f_4ccc6acf21berow150_col4,#T_49ab1195_3b06_11eb_bb5f_4ccc6acf21berow150_col5,#T_49ab1195_3b06_11eb_bb5f_4ccc6acf21berow151_col4,#T_49ab1195_3b06_11eb_bb5f_4ccc6acf21berow151_col5,#T_49ab1195_3b06_11eb_bb5f_4ccc6acf21berow152_col4,#T_49ab1195_3b06_11eb_bb5f_4ccc6acf21berow152_col5,#T_49ab1195_3b06_11eb_bb5f_4ccc6acf21berow153_col4,#T_49ab1195_3b06_11eb_bb5f_4ccc6acf21berow153_col5,#T_49ab1195_3b06_11eb_bb5f_4ccc6acf21berow154_col4,#T_49ab1195_3b06_11eb_bb5f_4ccc6acf21berow154_col5,#T_49ab1195_3b06_11eb_bb5f_4ccc6acf21berow155_col4,#T_49ab1195_3b06_11eb_bb5f_4ccc6acf21berow155_col5,#T_49ab1195_3b06_11eb_bb5f_4ccc6acf21berow156_col4,#T_49ab1195_3b06_11eb_bb5f_4ccc6acf21berow156_col5,#T_49ab1195_3b06_11eb_bb5f_4ccc6acf21berow157_col4,#T_49ab1195_3b06_11eb_bb5f_4ccc6acf21berow157_col5,#T_49ab1195_3b06_11eb_bb5f_4ccc6acf21berow158_col4,#T_49ab1195_3b06_11eb_bb5f_4ccc6acf21berow158_col5,#T_49ab1195_3b06_11eb_bb5f_4ccc6acf21berow159_col4,#T_49ab1195_3b06_11eb_bb5f_4ccc6acf21berow159_col5,#T_49ab1195_3b06_11eb_bb5f_4ccc6acf21berow160_col4,#T_49ab1195_3b06_11eb_bb5f_4ccc6acf21berow160_col5,#T_49ab1195_3b06_11eb_bb5f_4ccc6acf21berow161_col4,#T_49ab1195_3b06_11eb_bb5f_4ccc6acf21berow161_col5,#T_49ab1195_3b06_11eb_bb5f_4ccc6acf21berow162_col4,#T_49ab1195_3b06_11eb_bb5f_4ccc6acf21berow162_col5,#T_49ab1195_3b06_11eb_bb5f_4ccc6acf21berow163_col4,#T_49ab1195_3b06_11eb_bb5f_4ccc6acf21berow163_col5,#T_49ab1195_3b06_11eb_bb5f_4ccc6acf21berow164_col4,#T_49ab1195_3b06_11eb_bb5f_4ccc6acf21berow164_col5,#T_49ab1195_3b06_11eb_bb5f_4ccc6acf21berow165_col4,#T_49ab1195_3b06_11eb_bb5f_4ccc6acf21berow165_col5,#T_49ab1195_3b06_11eb_bb5f_4ccc6acf21berow166_col4,#T_49ab1195_3b06_11eb_bb5f_4ccc6acf21berow166_col5,#T_49ab1195_3b06_11eb_bb5f_4ccc6acf21berow167_col4,#T_49ab1195_3b06_11eb_bb5f_4ccc6acf21berow167_col5,#T_49ab1195_3b06_11eb_bb5f_4ccc6acf21berow168_col4,#T_49ab1195_3b06_11eb_bb5f_4ccc6acf21berow168_col5,#T_49ab1195_3b06_11eb_bb5f_4ccc6acf21berow169_col4,#T_49ab1195_3b06_11eb_bb5f_4ccc6acf21berow169_col5,#T_49ab1195_3b06_11eb_bb5f_4ccc6acf21berow170_col4,#T_49ab1195_3b06_11eb_bb5f_4ccc6acf21berow170_col5,#T_49ab1195_3b06_11eb_bb5f_4ccc6acf21berow171_col4,#T_49ab1195_3b06_11eb_bb5f_4ccc6acf21berow171_col5,#T_49ab1195_3b06_11eb_bb5f_4ccc6acf21berow172_col4,#T_49ab1195_3b06_11eb_bb5f_4ccc6acf21berow172_col5,#T_49ab1195_3b06_11eb_bb5f_4ccc6acf21berow173_col4,#T_49ab1195_3b06_11eb_bb5f_4ccc6acf21berow173_col5,#T_49ab1195_3b06_11eb_bb5f_4ccc6acf21berow174_col4,#T_49ab1195_3b06_11eb_bb5f_4ccc6acf21berow174_col5,#T_49ab1195_3b06_11eb_bb5f_4ccc6acf21berow175_col4,#T_49ab1195_3b06_11eb_bb5f_4ccc6acf21berow175_col5,#T_49ab1195_3b06_11eb_bb5f_4ccc6acf21berow176_col4,#T_49ab1195_3b06_11eb_bb5f_4ccc6acf21berow176_col5,#T_49ab1195_3b06_11eb_bb5f_4ccc6acf21berow177_col4,#T_49ab1195_3b06_11eb_bb5f_4ccc6acf21berow177_col5,#T_49ab1195_3b06_11eb_bb5f_4ccc6acf21berow178_col4,#T_49ab1195_3b06_11eb_bb5f_4ccc6acf21berow178_col5,#T_49ab1195_3b06_11eb_bb5f_4ccc6acf21berow179_col4,#T_49ab1195_3b06_11eb_bb5f_4ccc6acf21berow179_col5,#T_49ab1195_3b06_11eb_bb5f_4ccc6acf21berow180_col4,#T_49ab1195_3b06_11eb_bb5f_4ccc6acf21berow180_col5,#T_49ab1195_3b06_11eb_bb5f_4ccc6acf21berow181_col4,#T_49ab1195_3b06_11eb_bb5f_4ccc6acf21berow181_col5,#T_49ab1195_3b06_11eb_bb5f_4ccc6acf21berow182_col4,#T_49ab1195_3b06_11eb_bb5f_4ccc6acf21berow182_col5,#T_49ab1195_3b06_11eb_bb5f_4ccc6acf21berow183_col4,#T_49ab1195_3b06_11eb_bb5f_4ccc6acf21berow183_col5,#T_49ab1195_3b06_11eb_bb5f_4ccc6acf21berow184_col4,#T_49ab1195_3b06_11eb_bb5f_4ccc6acf21berow184_col5,#T_49ab1195_3b06_11eb_bb5f_4ccc6acf21berow185_col4,#T_49ab1195_3b06_11eb_bb5f_4ccc6acf21berow185_col5,#T_49ab1195_3b06_11eb_bb5f_4ccc6acf21berow186_col4,#T_49ab1195_3b06_11eb_bb5f_4ccc6acf21berow186_col5,#T_49ab1195_3b06_11eb_bb5f_4ccc6acf21berow187_col4,#T_49ab1195_3b06_11eb_bb5f_4ccc6acf21berow187_col5,#T_49ab1195_3b06_11eb_bb5f_4ccc6acf21berow188_col4,#T_49ab1195_3b06_11eb_bb5f_4ccc6acf21berow188_col5,#T_49ab1195_3b06_11eb_bb5f_4ccc6acf21berow189_col4,#T_49ab1195_3b06_11eb_bb5f_4ccc6acf21berow189_col5,#T_49ab1195_3b06_11eb_bb5f_4ccc6acf21berow190_col4,#T_49ab1195_3b06_11eb_bb5f_4ccc6acf21berow190_col5,#T_49ab1195_3b06_11eb_bb5f_4ccc6acf21berow191_col4,#T_49ab1195_3b06_11eb_bb5f_4ccc6acf21berow191_col5,#T_49ab1195_3b06_11eb_bb5f_4ccc6acf21berow192_col4,#T_49ab1195_3b06_11eb_bb5f_4ccc6acf21berow192_col5,#T_49ab1195_3b06_11eb_bb5f_4ccc6acf21berow193_col4,#T_49ab1195_3b06_11eb_bb5f_4ccc6acf21berow193_col5,#T_49ab1195_3b06_11eb_bb5f_4ccc6acf21berow194_col4,#T_49ab1195_3b06_11eb_bb5f_4ccc6acf21berow194_col5,#T_49ab1195_3b06_11eb_bb5f_4ccc6acf21berow195_col4,#T_49ab1195_3b06_11eb_bb5f_4ccc6acf21berow195_col5,#T_49ab1195_3b06_11eb_bb5f_4ccc6acf21berow196_col4,#T_49ab1195_3b06_11eb_bb5f_4ccc6acf21berow196_col5,#T_49ab1195_3b06_11eb_bb5f_4ccc6acf21berow197_col4,#T_49ab1195_3b06_11eb_bb5f_4ccc6acf21berow198_col4,#T_49ab1195_3b06_11eb_bb5f_4ccc6acf21berow199_col4,#T_49ab1195_3b06_11eb_bb5f_4ccc6acf21berow200_col4,#T_49ab1195_3b06_11eb_bb5f_4ccc6acf21berow201_col4,#T_49ab1195_3b06_11eb_bb5f_4ccc6acf21berow204_col4,#T_49ab1195_3b06_11eb_bb5f_4ccc6acf21berow205_col4,#T_49ab1195_3b06_11eb_bb5f_4ccc6acf21berow206_col4,#T_49ab1195_3b06_11eb_bb5f_4ccc6acf21berow209_col4,#T_49ab1195_3b06_11eb_bb5f_4ccc6acf21berow216_col4,#T_49ab1195_3b06_11eb_bb5f_4ccc6acf21berow249_col4{\n",
       "            background-color:  green;\n",
       "        }</style><table id=\"T_49ab1195_3b06_11eb_bb5f_4ccc6acf21be\" ><thead>    <tr>        <th class=\"blank level0\" ></th>        <th class=\"col_heading level0 col0\" >F0</th>        <th class=\"col_heading level0 col1\" >F1</th>        <th class=\"col_heading level0 col2\" >F2</th>        <th class=\"col_heading level0 col3\" >F3</th>        <th class=\"col_heading level0 col4\" >Decision</th>        <th class=\"col_heading level0 col5\" >Decision Fuzzy</th>        <th class=\"col_heading level0 col6\" >Predicted Value</th>    </tr></thead><tbody>\n",
       "                <tr>\n",
       "                        <th id=\"T_49ab1195_3b06_11eb_bb5f_4ccc6acf21belevel0_row0\" class=\"row_heading level0 row0\" >1308</th>\n",
       "                        <td id=\"T_49ab1195_3b06_11eb_bb5f_4ccc6acf21berow0_col0\" class=\"data row0 col0\" >0.173673</td>\n",
       "                        <td id=\"T_49ab1195_3b06_11eb_bb5f_4ccc6acf21berow0_col1\" class=\"data row0 col1\" >0.038249</td>\n",
       "                        <td id=\"T_49ab1195_3b06_11eb_bb5f_4ccc6acf21berow0_col2\" class=\"data row0 col2\" >0.947841</td>\n",
       "                        <td id=\"T_49ab1195_3b06_11eb_bb5f_4ccc6acf21berow0_col3\" class=\"data row0 col3\" >0.484774</td>\n",
       "                        <td id=\"T_49ab1195_3b06_11eb_bb5f_4ccc6acf21berow0_col4\" class=\"data row0 col4\" >One</td>\n",
       "                        <td id=\"T_49ab1195_3b06_11eb_bb5f_4ccc6acf21berow0_col5\" class=\"data row0 col5\" >One</td>\n",
       "                        <td id=\"T_49ab1195_3b06_11eb_bb5f_4ccc6acf21berow0_col6\" class=\"data row0 col6\" >0.220782</td>\n",
       "            </tr>\n",
       "            <tr>\n",
       "                        <th id=\"T_49ab1195_3b06_11eb_bb5f_4ccc6acf21belevel0_row1\" class=\"row_heading level0 row1\" >942</th>\n",
       "                        <td id=\"T_49ab1195_3b06_11eb_bb5f_4ccc6acf21berow1_col0\" class=\"data row1 col0\" >0.264140</td>\n",
       "                        <td id=\"T_49ab1195_3b06_11eb_bb5f_4ccc6acf21berow1_col1\" class=\"data row1 col1\" >0.000000</td>\n",
       "                        <td id=\"T_49ab1195_3b06_11eb_bb5f_4ccc6acf21berow1_col2\" class=\"data row1 col2\" >1.000000</td>\n",
       "                        <td id=\"T_49ab1195_3b06_11eb_bb5f_4ccc6acf21berow1_col3\" class=\"data row1 col3\" >0.592478</td>\n",
       "                        <td id=\"T_49ab1195_3b06_11eb_bb5f_4ccc6acf21berow1_col4\" class=\"data row1 col4\" >One</td>\n",
       "                        <td id=\"T_49ab1195_3b06_11eb_bb5f_4ccc6acf21berow1_col5\" class=\"data row1 col5\" >One</td>\n",
       "                        <td id=\"T_49ab1195_3b06_11eb_bb5f_4ccc6acf21berow1_col6\" class=\"data row1 col6\" >0.220782</td>\n",
       "            </tr>\n",
       "            <tr>\n",
       "                        <th id=\"T_49ab1195_3b06_11eb_bb5f_4ccc6acf21belevel0_row2\" class=\"row_heading level0 row2\" >840</th>\n",
       "                        <td id=\"T_49ab1195_3b06_11eb_bb5f_4ccc6acf21berow2_col0\" class=\"data row2 col0\" >0.345001</td>\n",
       "                        <td id=\"T_49ab1195_3b06_11eb_bb5f_4ccc6acf21berow2_col1\" class=\"data row2 col1\" >0.166393</td>\n",
       "                        <td id=\"T_49ab1195_3b06_11eb_bb5f_4ccc6acf21berow2_col2\" class=\"data row2 col2\" >0.631477</td>\n",
       "                        <td id=\"T_49ab1195_3b06_11eb_bb5f_4ccc6acf21berow2_col3\" class=\"data row2 col3\" >0.699120</td>\n",
       "                        <td id=\"T_49ab1195_3b06_11eb_bb5f_4ccc6acf21berow2_col4\" class=\"data row2 col4\" >One</td>\n",
       "                        <td id=\"T_49ab1195_3b06_11eb_bb5f_4ccc6acf21berow2_col5\" class=\"data row2 col5\" >One</td>\n",
       "                        <td id=\"T_49ab1195_3b06_11eb_bb5f_4ccc6acf21berow2_col6\" class=\"data row2 col6\" >0.220782</td>\n",
       "            </tr>\n",
       "            <tr>\n",
       "                        <th id=\"T_49ab1195_3b06_11eb_bb5f_4ccc6acf21belevel0_row3\" class=\"row_heading level0 row3\" >1206</th>\n",
       "                        <td id=\"T_49ab1195_3b06_11eb_bb5f_4ccc6acf21berow3_col0\" class=\"data row3 col0\" >0.332244</td>\n",
       "                        <td id=\"T_49ab1195_3b06_11eb_bb5f_4ccc6acf21berow3_col1\" class=\"data row3 col1\" >0.169259</td>\n",
       "                        <td id=\"T_49ab1195_3b06_11eb_bb5f_4ccc6acf21berow3_col2\" class=\"data row3 col2\" >0.615086</td>\n",
       "                        <td id=\"T_49ab1195_3b06_11eb_bb5f_4ccc6acf21berow3_col3\" class=\"data row3 col3\" >0.731807</td>\n",
       "                        <td id=\"T_49ab1195_3b06_11eb_bb5f_4ccc6acf21berow3_col4\" class=\"data row3 col4\" >One</td>\n",
       "                        <td id=\"T_49ab1195_3b06_11eb_bb5f_4ccc6acf21berow3_col5\" class=\"data row3 col5\" >One</td>\n",
       "                        <td id=\"T_49ab1195_3b06_11eb_bb5f_4ccc6acf21berow3_col6\" class=\"data row3 col6\" >0.220782</td>\n",
       "            </tr>\n",
       "            <tr>\n",
       "                        <th id=\"T_49ab1195_3b06_11eb_bb5f_4ccc6acf21belevel0_row4\" class=\"row_heading level0 row4\" >802</th>\n",
       "                        <td id=\"T_49ab1195_3b06_11eb_bb5f_4ccc6acf21berow4_col0\" class=\"data row4 col0\" >0.551140</td>\n",
       "                        <td id=\"T_49ab1195_3b06_11eb_bb5f_4ccc6acf21berow4_col1\" class=\"data row4 col1\" >0.587689</td>\n",
       "                        <td id=\"T_49ab1195_3b06_11eb_bb5f_4ccc6acf21berow4_col2\" class=\"data row4 col2\" >0.086040</td>\n",
       "                        <td id=\"T_49ab1195_3b06_11eb_bb5f_4ccc6acf21berow4_col3\" class=\"data row4 col3\" >0.747797</td>\n",
       "                        <td id=\"T_49ab1195_3b06_11eb_bb5f_4ccc6acf21berow4_col4\" class=\"data row4 col4\" >One</td>\n",
       "                        <td id=\"T_49ab1195_3b06_11eb_bb5f_4ccc6acf21berow4_col5\" class=\"data row4 col5\" >One</td>\n",
       "                        <td id=\"T_49ab1195_3b06_11eb_bb5f_4ccc6acf21berow4_col6\" class=\"data row4 col6\" >0.220790</td>\n",
       "            </tr>\n",
       "            <tr>\n",
       "                        <th id=\"T_49ab1195_3b06_11eb_bb5f_4ccc6acf21belevel0_row5\" class=\"row_heading level0 row5\" >985</th>\n",
       "                        <td id=\"T_49ab1195_3b06_11eb_bb5f_4ccc6acf21berow5_col0\" class=\"data row5 col0\" >0.561999</td>\n",
       "                        <td id=\"T_49ab1195_3b06_11eb_bb5f_4ccc6acf21berow5_col1\" class=\"data row5 col1\" >0.587067</td>\n",
       "                        <td id=\"T_49ab1195_3b06_11eb_bb5f_4ccc6acf21berow5_col2\" class=\"data row5 col2\" >0.093751</td>\n",
       "                        <td id=\"T_49ab1195_3b06_11eb_bb5f_4ccc6acf21berow5_col3\" class=\"data row5 col3\" >0.758615</td>\n",
       "                        <td id=\"T_49ab1195_3b06_11eb_bb5f_4ccc6acf21berow5_col4\" class=\"data row5 col4\" >One</td>\n",
       "                        <td id=\"T_49ab1195_3b06_11eb_bb5f_4ccc6acf21berow5_col5\" class=\"data row5 col5\" >One</td>\n",
       "                        <td id=\"T_49ab1195_3b06_11eb_bb5f_4ccc6acf21berow5_col6\" class=\"data row5 col6\" >0.220804</td>\n",
       "            </tr>\n",
       "            <tr>\n",
       "                        <th id=\"T_49ab1195_3b06_11eb_bb5f_4ccc6acf21belevel0_row6\" class=\"row_heading level0 row6\" >1255</th>\n",
       "                        <td id=\"T_49ab1195_3b06_11eb_bb5f_4ccc6acf21berow6_col0\" class=\"data row6 col0\" >0.326944</td>\n",
       "                        <td id=\"T_49ab1195_3b06_11eb_bb5f_4ccc6acf21berow6_col1\" class=\"data row6 col1\" >0.506852</td>\n",
       "                        <td id=\"T_49ab1195_3b06_11eb_bb5f_4ccc6acf21berow6_col2\" class=\"data row6 col2\" >0.291817</td>\n",
       "                        <td id=\"T_49ab1195_3b06_11eb_bb5f_4ccc6acf21berow6_col3\" class=\"data row6 col3\" >0.887013</td>\n",
       "                        <td id=\"T_49ab1195_3b06_11eb_bb5f_4ccc6acf21berow6_col4\" class=\"data row6 col4\" >One</td>\n",
       "                        <td id=\"T_49ab1195_3b06_11eb_bb5f_4ccc6acf21berow6_col5\" class=\"data row6 col5\" >One</td>\n",
       "                        <td id=\"T_49ab1195_3b06_11eb_bb5f_4ccc6acf21berow6_col6\" class=\"data row6 col6\" >0.221065</td>\n",
       "            </tr>\n",
       "            <tr>\n",
       "                        <th id=\"T_49ab1195_3b06_11eb_bb5f_4ccc6acf21belevel0_row7\" class=\"row_heading level0 row7\" >1138</th>\n",
       "                        <td id=\"T_49ab1195_3b06_11eb_bb5f_4ccc6acf21berow7_col0\" class=\"data row7 col0\" >0.320620</td>\n",
       "                        <td id=\"T_49ab1195_3b06_11eb_bb5f_4ccc6acf21berow7_col1\" class=\"data row7 col1\" >0.165543</td>\n",
       "                        <td id=\"T_49ab1195_3b06_11eb_bb5f_4ccc6acf21berow7_col2\" class=\"data row7 col2\" >0.649635</td>\n",
       "                        <td id=\"T_49ab1195_3b06_11eb_bb5f_4ccc6acf21berow7_col3\" class=\"data row7 col3\" >0.751795</td>\n",
       "                        <td id=\"T_49ab1195_3b06_11eb_bb5f_4ccc6acf21berow7_col4\" class=\"data row7 col4\" >One</td>\n",
       "                        <td id=\"T_49ab1195_3b06_11eb_bb5f_4ccc6acf21berow7_col5\" class=\"data row7 col5\" >One</td>\n",
       "                        <td id=\"T_49ab1195_3b06_11eb_bb5f_4ccc6acf21berow7_col6\" class=\"data row7 col6\" >0.221571</td>\n",
       "            </tr>\n",
       "            <tr>\n",
       "                        <th id=\"T_49ab1195_3b06_11eb_bb5f_4ccc6acf21belevel0_row8\" class=\"row_heading level0 row8\" >1194</th>\n",
       "                        <td id=\"T_49ab1195_3b06_11eb_bb5f_4ccc6acf21berow8_col0\" class=\"data row8 col0\" >0.329533</td>\n",
       "                        <td id=\"T_49ab1195_3b06_11eb_bb5f_4ccc6acf21berow8_col1\" class=\"data row8 col1\" >0.500348</td>\n",
       "                        <td id=\"T_49ab1195_3b06_11eb_bb5f_4ccc6acf21berow8_col2\" class=\"data row8 col2\" >0.291710</td>\n",
       "                        <td id=\"T_49ab1195_3b06_11eb_bb5f_4ccc6acf21berow8_col3\" class=\"data row8 col3\" >0.879011</td>\n",
       "                        <td id=\"T_49ab1195_3b06_11eb_bb5f_4ccc6acf21berow8_col4\" class=\"data row8 col4\" >One</td>\n",
       "                        <td id=\"T_49ab1195_3b06_11eb_bb5f_4ccc6acf21berow8_col5\" class=\"data row8 col5\" >One</td>\n",
       "                        <td id=\"T_49ab1195_3b06_11eb_bb5f_4ccc6acf21berow8_col6\" class=\"data row8 col6\" >0.221985</td>\n",
       "            </tr>\n",
       "            <tr>\n",
       "                        <th id=\"T_49ab1195_3b06_11eb_bb5f_4ccc6acf21belevel0_row9\" class=\"row_heading level0 row9\" >1003</th>\n",
       "                        <td id=\"T_49ab1195_3b06_11eb_bb5f_4ccc6acf21berow9_col0\" class=\"data row9 col0\" >0.232337</td>\n",
       "                        <td id=\"T_49ab1195_3b06_11eb_bb5f_4ccc6acf21berow9_col1\" class=\"data row9 col1\" >0.026867</td>\n",
       "                        <td id=\"T_49ab1195_3b06_11eb_bb5f_4ccc6acf21berow9_col2\" class=\"data row9 col2\" >0.958253</td>\n",
       "                        <td id=\"T_49ab1195_3b06_11eb_bb5f_4ccc6acf21berow9_col3\" class=\"data row9 col3\" >0.567664</td>\n",
       "                        <td id=\"T_49ab1195_3b06_11eb_bb5f_4ccc6acf21berow9_col4\" class=\"data row9 col4\" >One</td>\n",
       "                        <td id=\"T_49ab1195_3b06_11eb_bb5f_4ccc6acf21berow9_col5\" class=\"data row9 col5\" >One</td>\n",
       "                        <td id=\"T_49ab1195_3b06_11eb_bb5f_4ccc6acf21berow9_col6\" class=\"data row9 col6\" >0.222076</td>\n",
       "            </tr>\n",
       "            <tr>\n",
       "                        <th id=\"T_49ab1195_3b06_11eb_bb5f_4ccc6acf21belevel0_row10\" class=\"row_heading level0 row10\" >1229</th>\n",
       "                        <td id=\"T_49ab1195_3b06_11eb_bb5f_4ccc6acf21berow10_col0\" class=\"data row10 col0\" >0.525052</td>\n",
       "                        <td id=\"T_49ab1195_3b06_11eb_bb5f_4ccc6acf21berow10_col1\" class=\"data row10 col1\" >0.593496</td>\n",
       "                        <td id=\"T_49ab1195_3b06_11eb_bb5f_4ccc6acf21berow10_col2\" class=\"data row10 col2\" >0.083309</td>\n",
       "                        <td id=\"T_49ab1195_3b06_11eb_bb5f_4ccc6acf21berow10_col3\" class=\"data row10 col3\" >0.716756</td>\n",
       "                        <td id=\"T_49ab1195_3b06_11eb_bb5f_4ccc6acf21berow10_col4\" class=\"data row10 col4\" >One</td>\n",
       "                        <td id=\"T_49ab1195_3b06_11eb_bb5f_4ccc6acf21berow10_col5\" class=\"data row10 col5\" >One</td>\n",
       "                        <td id=\"T_49ab1195_3b06_11eb_bb5f_4ccc6acf21berow10_col6\" class=\"data row10 col6\" >0.222580</td>\n",
       "            </tr>\n",
       "            <tr>\n",
       "                        <th id=\"T_49ab1195_3b06_11eb_bb5f_4ccc6acf21belevel0_row11\" class=\"row_heading level0 row11\" >1321</th>\n",
       "                        <td id=\"T_49ab1195_3b06_11eb_bb5f_4ccc6acf21berow11_col0\" class=\"data row11 col0\" >0.363852</td>\n",
       "                        <td id=\"T_49ab1195_3b06_11eb_bb5f_4ccc6acf21berow11_col1\" class=\"data row11 col1\" >0.159890</td>\n",
       "                        <td id=\"T_49ab1195_3b06_11eb_bb5f_4ccc6acf21berow11_col2\" class=\"data row11 col2\" >0.644802</td>\n",
       "                        <td id=\"T_49ab1195_3b06_11eb_bb5f_4ccc6acf21berow11_col3\" class=\"data row11 col3\" >0.765552</td>\n",
       "                        <td id=\"T_49ab1195_3b06_11eb_bb5f_4ccc6acf21berow11_col4\" class=\"data row11 col4\" >One</td>\n",
       "                        <td id=\"T_49ab1195_3b06_11eb_bb5f_4ccc6acf21berow11_col5\" class=\"data row11 col5\" >One</td>\n",
       "                        <td id=\"T_49ab1195_3b06_11eb_bb5f_4ccc6acf21berow11_col6\" class=\"data row11 col6\" >0.222784</td>\n",
       "            </tr>\n",
       "            <tr>\n",
       "                        <th id=\"T_49ab1195_3b06_11eb_bb5f_4ccc6acf21belevel0_row12\" class=\"row_heading level0 row12\" >1268</th>\n",
       "                        <td id=\"T_49ab1195_3b06_11eb_bb5f_4ccc6acf21berow12_col0\" class=\"data row12 col0\" >0.223626</td>\n",
       "                        <td id=\"T_49ab1195_3b06_11eb_bb5f_4ccc6acf21berow12_col1\" class=\"data row12 col1\" >0.033448</td>\n",
       "                        <td id=\"T_49ab1195_3b06_11eb_bb5f_4ccc6acf21berow12_col2\" class=\"data row12 col2\" >0.790307</td>\n",
       "                        <td id=\"T_49ab1195_3b06_11eb_bb5f_4ccc6acf21berow12_col3\" class=\"data row12 col3\" >0.476072</td>\n",
       "                        <td id=\"T_49ab1195_3b06_11eb_bb5f_4ccc6acf21berow12_col4\" class=\"data row12 col4\" >One</td>\n",
       "                        <td id=\"T_49ab1195_3b06_11eb_bb5f_4ccc6acf21berow12_col5\" class=\"data row12 col5\" >One</td>\n",
       "                        <td id=\"T_49ab1195_3b06_11eb_bb5f_4ccc6acf21berow12_col6\" class=\"data row12 col6\" >0.223245</td>\n",
       "            </tr>\n",
       "            <tr>\n",
       "                        <th id=\"T_49ab1195_3b06_11eb_bb5f_4ccc6acf21belevel0_row13\" class=\"row_heading level0 row13\" >765</th>\n",
       "                        <td id=\"T_49ab1195_3b06_11eb_bb5f_4ccc6acf21berow13_col0\" class=\"data row13 col0\" >0.230318</td>\n",
       "                        <td id=\"T_49ab1195_3b06_11eb_bb5f_4ccc6acf21berow13_col1\" class=\"data row13 col1\" >0.036236</td>\n",
       "                        <td id=\"T_49ab1195_3b06_11eb_bb5f_4ccc6acf21berow13_col2\" class=\"data row13 col2\" >0.903289</td>\n",
       "                        <td id=\"T_49ab1195_3b06_11eb_bb5f_4ccc6acf21berow13_col3\" class=\"data row13 col3\" >0.660793</td>\n",
       "                        <td id=\"T_49ab1195_3b06_11eb_bb5f_4ccc6acf21berow13_col4\" class=\"data row13 col4\" >One</td>\n",
       "                        <td id=\"T_49ab1195_3b06_11eb_bb5f_4ccc6acf21berow13_col5\" class=\"data row13 col5\" >One</td>\n",
       "                        <td id=\"T_49ab1195_3b06_11eb_bb5f_4ccc6acf21berow13_col6\" class=\"data row13 col6\" >0.223854</td>\n",
       "            </tr>\n",
       "            <tr>\n",
       "                        <th id=\"T_49ab1195_3b06_11eb_bb5f_4ccc6acf21belevel0_row14\" class=\"row_heading level0 row14\" >873</th>\n",
       "                        <td id=\"T_49ab1195_3b06_11eb_bb5f_4ccc6acf21berow14_col0\" class=\"data row14 col0\" >0.347936</td>\n",
       "                        <td id=\"T_49ab1195_3b06_11eb_bb5f_4ccc6acf21berow14_col1\" class=\"data row14 col1\" >0.570266</td>\n",
       "                        <td id=\"T_49ab1195_3b06_11eb_bb5f_4ccc6acf21berow14_col2\" class=\"data row14 col2\" >0.196403</td>\n",
       "                        <td id=\"T_49ab1195_3b06_11eb_bb5f_4ccc6acf21berow14_col3\" class=\"data row14 col3\" >0.670668</td>\n",
       "                        <td id=\"T_49ab1195_3b06_11eb_bb5f_4ccc6acf21berow14_col4\" class=\"data row14 col4\" >One</td>\n",
       "                        <td id=\"T_49ab1195_3b06_11eb_bb5f_4ccc6acf21berow14_col5\" class=\"data row14 col5\" >One</td>\n",
       "                        <td id=\"T_49ab1195_3b06_11eb_bb5f_4ccc6acf21berow14_col6\" class=\"data row14 col6\" >0.224406</td>\n",
       "            </tr>\n",
       "            <tr>\n",
       "                        <th id=\"T_49ab1195_3b06_11eb_bb5f_4ccc6acf21belevel0_row15\" class=\"row_heading level0 row15\" >1207</th>\n",
       "                        <td id=\"T_49ab1195_3b06_11eb_bb5f_4ccc6acf21berow15_col0\" class=\"data row15 col0\" >0.234306</td>\n",
       "                        <td id=\"T_49ab1195_3b06_11eb_bb5f_4ccc6acf21berow15_col1\" class=\"data row15 col1\" >0.039798</td>\n",
       "                        <td id=\"T_49ab1195_3b06_11eb_bb5f_4ccc6acf21berow15_col2\" class=\"data row15 col2\" >0.778935</td>\n",
       "                        <td id=\"T_49ab1195_3b06_11eb_bb5f_4ccc6acf21berow15_col3\" class=\"data row15 col3\" >0.520400</td>\n",
       "                        <td id=\"T_49ab1195_3b06_11eb_bb5f_4ccc6acf21berow15_col4\" class=\"data row15 col4\" >One</td>\n",
       "                        <td id=\"T_49ab1195_3b06_11eb_bb5f_4ccc6acf21berow15_col5\" class=\"data row15 col5\" >One</td>\n",
       "                        <td id=\"T_49ab1195_3b06_11eb_bb5f_4ccc6acf21berow15_col6\" class=\"data row15 col6\" >0.224727</td>\n",
       "            </tr>\n",
       "            <tr>\n",
       "                        <th id=\"T_49ab1195_3b06_11eb_bb5f_4ccc6acf21belevel0_row16\" class=\"row_heading level0 row16\" >1187</th>\n",
       "                        <td id=\"T_49ab1195_3b06_11eb_bb5f_4ccc6acf21berow16_col0\" class=\"data row16 col0\" >0.217806</td>\n",
       "                        <td id=\"T_49ab1195_3b06_11eb_bb5f_4ccc6acf21berow16_col1\" class=\"data row16 col1\" >0.204646</td>\n",
       "                        <td id=\"T_49ab1195_3b06_11eb_bb5f_4ccc6acf21berow16_col2\" class=\"data row16 col2\" >0.768566</td>\n",
       "                        <td id=\"T_49ab1195_3b06_11eb_bb5f_4ccc6acf21berow16_col3\" class=\"data row16 col3\" >0.639979</td>\n",
       "                        <td id=\"T_49ab1195_3b06_11eb_bb5f_4ccc6acf21berow16_col4\" class=\"data row16 col4\" >One</td>\n",
       "                        <td id=\"T_49ab1195_3b06_11eb_bb5f_4ccc6acf21berow16_col5\" class=\"data row16 col5\" >One</td>\n",
       "                        <td id=\"T_49ab1195_3b06_11eb_bb5f_4ccc6acf21berow16_col6\" class=\"data row16 col6\" >0.225840</td>\n",
       "            </tr>\n",
       "            <tr>\n",
       "                        <th id=\"T_49ab1195_3b06_11eb_bb5f_4ccc6acf21belevel0_row17\" class=\"row_heading level0 row17\" >898</th>\n",
       "                        <td id=\"T_49ab1195_3b06_11eb_bb5f_4ccc6acf21berow17_col0\" class=\"data row17 col0\" >0.129914</td>\n",
       "                        <td id=\"T_49ab1195_3b06_11eb_bb5f_4ccc6acf21berow17_col1\" class=\"data row17 col1\" >0.763298</td>\n",
       "                        <td id=\"T_49ab1195_3b06_11eb_bb5f_4ccc6acf21berow17_col2\" class=\"data row17 col2\" >0.219141</td>\n",
       "                        <td id=\"T_49ab1195_3b06_11eb_bb5f_4ccc6acf21berow17_col3\" class=\"data row17 col3\" >0.153441</td>\n",
       "                        <td id=\"T_49ab1195_3b06_11eb_bb5f_4ccc6acf21berow17_col4\" class=\"data row17 col4\" >One</td>\n",
       "                        <td id=\"T_49ab1195_3b06_11eb_bb5f_4ccc6acf21berow17_col5\" class=\"data row17 col5\" >One</td>\n",
       "                        <td id=\"T_49ab1195_3b06_11eb_bb5f_4ccc6acf21berow17_col6\" class=\"data row17 col6\" >0.226234</td>\n",
       "            </tr>\n",
       "            <tr>\n",
       "                        <th id=\"T_49ab1195_3b06_11eb_bb5f_4ccc6acf21belevel0_row18\" class=\"row_heading level0 row18\" >1008</th>\n",
       "                        <td id=\"T_49ab1195_3b06_11eb_bb5f_4ccc6acf21berow18_col0\" class=\"data row18 col0\" >0.367869</td>\n",
       "                        <td id=\"T_49ab1195_3b06_11eb_bb5f_4ccc6acf21berow18_col1\" class=\"data row18 col1\" >0.190397</td>\n",
       "                        <td id=\"T_49ab1195_3b06_11eb_bb5f_4ccc6acf21berow18_col2\" class=\"data row18 col2\" >0.622099</td>\n",
       "                        <td id=\"T_49ab1195_3b06_11eb_bb5f_4ccc6acf21berow18_col3\" class=\"data row18 col3\" >0.862789</td>\n",
       "                        <td id=\"T_49ab1195_3b06_11eb_bb5f_4ccc6acf21berow18_col4\" class=\"data row18 col4\" >One</td>\n",
       "                        <td id=\"T_49ab1195_3b06_11eb_bb5f_4ccc6acf21berow18_col5\" class=\"data row18 col5\" >One</td>\n",
       "                        <td id=\"T_49ab1195_3b06_11eb_bb5f_4ccc6acf21berow18_col6\" class=\"data row18 col6\" >0.226476</td>\n",
       "            </tr>\n",
       "            <tr>\n",
       "                        <th id=\"T_49ab1195_3b06_11eb_bb5f_4ccc6acf21belevel0_row19\" class=\"row_heading level0 row19\" >1307</th>\n",
       "                        <td id=\"T_49ab1195_3b06_11eb_bb5f_4ccc6acf21berow19_col0\" class=\"data row19 col0\" >0.317411</td>\n",
       "                        <td id=\"T_49ab1195_3b06_11eb_bb5f_4ccc6acf21berow19_col1\" class=\"data row19 col1\" >0.350133</td>\n",
       "                        <td id=\"T_49ab1195_3b06_11eb_bb5f_4ccc6acf21berow19_col2\" class=\"data row19 col2\" >0.485455</td>\n",
       "                        <td id=\"T_49ab1195_3b06_11eb_bb5f_4ccc6acf21berow19_col3\" class=\"data row19 col3\" >0.764611</td>\n",
       "                        <td id=\"T_49ab1195_3b06_11eb_bb5f_4ccc6acf21berow19_col4\" class=\"data row19 col4\" >One</td>\n",
       "                        <td id=\"T_49ab1195_3b06_11eb_bb5f_4ccc6acf21berow19_col5\" class=\"data row19 col5\" >One</td>\n",
       "                        <td id=\"T_49ab1195_3b06_11eb_bb5f_4ccc6acf21berow19_col6\" class=\"data row19 col6\" >0.227096</td>\n",
       "            </tr>\n",
       "            <tr>\n",
       "                        <th id=\"T_49ab1195_3b06_11eb_bb5f_4ccc6acf21belevel0_row20\" class=\"row_heading level0 row20\" >1009</th>\n",
       "                        <td id=\"T_49ab1195_3b06_11eb_bb5f_4ccc6acf21berow20_col0\" class=\"data row20 col0\" >0.250294</td>\n",
       "                        <td id=\"T_49ab1195_3b06_11eb_bb5f_4ccc6acf21berow20_col1\" class=\"data row20 col1\" >0.047929</td>\n",
       "                        <td id=\"T_49ab1195_3b06_11eb_bb5f_4ccc6acf21berow20_col2\" class=\"data row20 col2\" >0.869072</td>\n",
       "                        <td id=\"T_49ab1195_3b06_11eb_bb5f_4ccc6acf21berow20_col3\" class=\"data row20 col3\" >0.734511</td>\n",
       "                        <td id=\"T_49ab1195_3b06_11eb_bb5f_4ccc6acf21berow20_col4\" class=\"data row20 col4\" >One</td>\n",
       "                        <td id=\"T_49ab1195_3b06_11eb_bb5f_4ccc6acf21berow20_col5\" class=\"data row20 col5\" >One</td>\n",
       "                        <td id=\"T_49ab1195_3b06_11eb_bb5f_4ccc6acf21berow20_col6\" class=\"data row20 col6\" >0.227103</td>\n",
       "            </tr>\n",
       "            <tr>\n",
       "                        <th id=\"T_49ab1195_3b06_11eb_bb5f_4ccc6acf21belevel0_row21\" class=\"row_heading level0 row21\" >833</th>\n",
       "                        <td id=\"T_49ab1195_3b06_11eb_bb5f_4ccc6acf21berow21_col0\" class=\"data row21 col0\" >0.303990</td>\n",
       "                        <td id=\"T_49ab1195_3b06_11eb_bb5f_4ccc6acf21berow21_col1\" class=\"data row21 col1\" >0.177080</td>\n",
       "                        <td id=\"T_49ab1195_3b06_11eb_bb5f_4ccc6acf21berow21_col2\" class=\"data row21 col2\" >0.618412</td>\n",
       "                        <td id=\"T_49ab1195_3b06_11eb_bb5f_4ccc6acf21berow21_col3\" class=\"data row21 col3\" >0.687950</td>\n",
       "                        <td id=\"T_49ab1195_3b06_11eb_bb5f_4ccc6acf21berow21_col4\" class=\"data row21 col4\" >One</td>\n",
       "                        <td id=\"T_49ab1195_3b06_11eb_bb5f_4ccc6acf21berow21_col5\" class=\"data row21 col5\" >One</td>\n",
       "                        <td id=\"T_49ab1195_3b06_11eb_bb5f_4ccc6acf21berow21_col6\" class=\"data row21 col6\" >0.228547</td>\n",
       "            </tr>\n",
       "            <tr>\n",
       "                        <th id=\"T_49ab1195_3b06_11eb_bb5f_4ccc6acf21belevel0_row22\" class=\"row_heading level0 row22\" >1248</th>\n",
       "                        <td id=\"T_49ab1195_3b06_11eb_bb5f_4ccc6acf21berow22_col0\" class=\"data row22 col0\" >0.205259</td>\n",
       "                        <td id=\"T_49ab1195_3b06_11eb_bb5f_4ccc6acf21berow22_col1\" class=\"data row22 col1\" >0.209215</td>\n",
       "                        <td id=\"T_49ab1195_3b06_11eb_bb5f_4ccc6acf21berow22_col2\" class=\"data row22 col2\" >0.750219</td>\n",
       "                        <td id=\"T_49ab1195_3b06_11eb_bb5f_4ccc6acf21berow22_col3\" class=\"data row22 col3\" >0.631632</td>\n",
       "                        <td id=\"T_49ab1195_3b06_11eb_bb5f_4ccc6acf21berow22_col4\" class=\"data row22 col4\" >One</td>\n",
       "                        <td id=\"T_49ab1195_3b06_11eb_bb5f_4ccc6acf21berow22_col5\" class=\"data row22 col5\" >One</td>\n",
       "                        <td id=\"T_49ab1195_3b06_11eb_bb5f_4ccc6acf21berow22_col6\" class=\"data row22 col6\" >0.229944</td>\n",
       "            </tr>\n",
       "            <tr>\n",
       "                        <th id=\"T_49ab1195_3b06_11eb_bb5f_4ccc6acf21belevel0_row23\" class=\"row_heading level0 row23\" >999</th>\n",
       "                        <td id=\"T_49ab1195_3b06_11eb_bb5f_4ccc6acf21berow23_col0\" class=\"data row23 col0\" >0.166512</td>\n",
       "                        <td id=\"T_49ab1195_3b06_11eb_bb5f_4ccc6acf21berow23_col1\" class=\"data row23 col1\" >0.284164</td>\n",
       "                        <td id=\"T_49ab1195_3b06_11eb_bb5f_4ccc6acf21berow23_col2\" class=\"data row23 col2\" >0.718293</td>\n",
       "                        <td id=\"T_49ab1195_3b06_11eb_bb5f_4ccc6acf21berow23_col3\" class=\"data row23 col3\" >0.679606</td>\n",
       "                        <td id=\"T_49ab1195_3b06_11eb_bb5f_4ccc6acf21berow23_col4\" class=\"data row23 col4\" >One</td>\n",
       "                        <td id=\"T_49ab1195_3b06_11eb_bb5f_4ccc6acf21berow23_col5\" class=\"data row23 col5\" >One</td>\n",
       "                        <td id=\"T_49ab1195_3b06_11eb_bb5f_4ccc6acf21berow23_col6\" class=\"data row23 col6\" >0.231501</td>\n",
       "            </tr>\n",
       "            <tr>\n",
       "                        <th id=\"T_49ab1195_3b06_11eb_bb5f_4ccc6acf21belevel0_row24\" class=\"row_heading level0 row24\" >1004</th>\n",
       "                        <td id=\"T_49ab1195_3b06_11eb_bb5f_4ccc6acf21berow24_col0\" class=\"data row24 col0\" >0.239708</td>\n",
       "                        <td id=\"T_49ab1195_3b06_11eb_bb5f_4ccc6acf21berow24_col1\" class=\"data row24 col1\" >0.196979</td>\n",
       "                        <td id=\"T_49ab1195_3b06_11eb_bb5f_4ccc6acf21berow24_col2\" class=\"data row24 col2\" >0.760295</td>\n",
       "                        <td id=\"T_49ab1195_3b06_11eb_bb5f_4ccc6acf21berow24_col3\" class=\"data row24 col3\" >0.690419</td>\n",
       "                        <td id=\"T_49ab1195_3b06_11eb_bb5f_4ccc6acf21berow24_col4\" class=\"data row24 col4\" >One</td>\n",
       "                        <td id=\"T_49ab1195_3b06_11eb_bb5f_4ccc6acf21berow24_col5\" class=\"data row24 col5\" >One</td>\n",
       "                        <td id=\"T_49ab1195_3b06_11eb_bb5f_4ccc6acf21berow24_col6\" class=\"data row24 col6\" >0.232148</td>\n",
       "            </tr>\n",
       "            <tr>\n",
       "                        <th id=\"T_49ab1195_3b06_11eb_bb5f_4ccc6acf21belevel0_row25\" class=\"row_heading level0 row25\" >1208</th>\n",
       "                        <td id=\"T_49ab1195_3b06_11eb_bb5f_4ccc6acf21berow25_col0\" class=\"data row25 col0\" >0.366845</td>\n",
       "                        <td id=\"T_49ab1195_3b06_11eb_bb5f_4ccc6acf21berow25_col1\" class=\"data row25 col1\" >0.254353</td>\n",
       "                        <td id=\"T_49ab1195_3b06_11eb_bb5f_4ccc6acf21berow25_col2\" class=\"data row25 col2\" >0.466298</td>\n",
       "                        <td id=\"T_49ab1195_3b06_11eb_bb5f_4ccc6acf21berow25_col3\" class=\"data row25 col3\" >0.765552</td>\n",
       "                        <td id=\"T_49ab1195_3b06_11eb_bb5f_4ccc6acf21berow25_col4\" class=\"data row25 col4\" >One</td>\n",
       "                        <td id=\"T_49ab1195_3b06_11eb_bb5f_4ccc6acf21berow25_col5\" class=\"data row25 col5\" >One</td>\n",
       "                        <td id=\"T_49ab1195_3b06_11eb_bb5f_4ccc6acf21berow25_col6\" class=\"data row25 col6\" >0.232812</td>\n",
       "            </tr>\n",
       "            <tr>\n",
       "                        <th id=\"T_49ab1195_3b06_11eb_bb5f_4ccc6acf21belevel0_row26\" class=\"row_heading level0 row26\" >921</th>\n",
       "                        <td id=\"T_49ab1195_3b06_11eb_bb5f_4ccc6acf21berow26_col0\" class=\"data row26 col0\" >0.299908</td>\n",
       "                        <td id=\"T_49ab1195_3b06_11eb_bb5f_4ccc6acf21berow26_col1\" class=\"data row26 col1\" >0.581649</td>\n",
       "                        <td id=\"T_49ab1195_3b06_11eb_bb5f_4ccc6acf21berow26_col2\" class=\"data row26 col2\" >0.257417</td>\n",
       "                        <td id=\"T_49ab1195_3b06_11eb_bb5f_4ccc6acf21berow26_col3\" class=\"data row26 col3\" >0.735099</td>\n",
       "                        <td id=\"T_49ab1195_3b06_11eb_bb5f_4ccc6acf21berow26_col4\" class=\"data row26 col4\" >One</td>\n",
       "                        <td id=\"T_49ab1195_3b06_11eb_bb5f_4ccc6acf21berow26_col5\" class=\"data row26 col5\" >One</td>\n",
       "                        <td id=\"T_49ab1195_3b06_11eb_bb5f_4ccc6acf21berow26_col6\" class=\"data row26 col6\" >0.232872</td>\n",
       "            </tr>\n",
       "            <tr>\n",
       "                        <th id=\"T_49ab1195_3b06_11eb_bb5f_4ccc6acf21belevel0_row27\" class=\"row_heading level0 row27\" >911</th>\n",
       "                        <td id=\"T_49ab1195_3b06_11eb_bb5f_4ccc6acf21berow27_col0\" class=\"data row27 col0\" >0.654299</td>\n",
       "                        <td id=\"T_49ab1195_3b06_11eb_bb5f_4ccc6acf21berow27_col1\" class=\"data row27 col1\" >0.584669</td>\n",
       "                        <td id=\"T_49ab1195_3b06_11eb_bb5f_4ccc6acf21berow27_col2\" class=\"data row27 col2\" >0.097960</td>\n",
       "                        <td id=\"T_49ab1195_3b06_11eb_bb5f_4ccc6acf21berow27_col3\" class=\"data row27 col3\" >0.777545</td>\n",
       "                        <td id=\"T_49ab1195_3b06_11eb_bb5f_4ccc6acf21berow27_col4\" class=\"data row27 col4\" >One</td>\n",
       "                        <td id=\"T_49ab1195_3b06_11eb_bb5f_4ccc6acf21berow27_col5\" class=\"data row27 col5\" >One</td>\n",
       "                        <td id=\"T_49ab1195_3b06_11eb_bb5f_4ccc6acf21berow27_col6\" class=\"data row27 col6\" >0.233862</td>\n",
       "            </tr>\n",
       "            <tr>\n",
       "                        <th id=\"T_49ab1195_3b06_11eb_bb5f_4ccc6acf21belevel0_row28\" class=\"row_heading level0 row28\" >976</th>\n",
       "                        <td id=\"T_49ab1195_3b06_11eb_bb5f_4ccc6acf21berow28_col0\" class=\"data row28 col0\" >0.342066</td>\n",
       "                        <td id=\"T_49ab1195_3b06_11eb_bb5f_4ccc6acf21berow28_col1\" class=\"data row28 col1\" >0.319783</td>\n",
       "                        <td id=\"T_49ab1195_3b06_11eb_bb5f_4ccc6acf21berow28_col2\" class=\"data row28 col2\" >0.470248</td>\n",
       "                        <td id=\"T_49ab1195_3b06_11eb_bb5f_4ccc6acf21berow28_col3\" class=\"data row28 col3\" >0.860673</td>\n",
       "                        <td id=\"T_49ab1195_3b06_11eb_bb5f_4ccc6acf21berow28_col4\" class=\"data row28 col4\" >One</td>\n",
       "                        <td id=\"T_49ab1195_3b06_11eb_bb5f_4ccc6acf21berow28_col5\" class=\"data row28 col5\" >One</td>\n",
       "                        <td id=\"T_49ab1195_3b06_11eb_bb5f_4ccc6acf21berow28_col6\" class=\"data row28 col6\" >0.235116</td>\n",
       "            </tr>\n",
       "            <tr>\n",
       "                        <th id=\"T_49ab1195_3b06_11eb_bb5f_4ccc6acf21belevel0_row29\" class=\"row_heading level0 row29\" >1066</th>\n",
       "                        <td id=\"T_49ab1195_3b06_11eb_bb5f_4ccc6acf21berow29_col0\" class=\"data row29 col0\" >0.318276</td>\n",
       "                        <td id=\"T_49ab1195_3b06_11eb_bb5f_4ccc6acf21berow29_col1\" class=\"data row29 col1\" >0.522106</td>\n",
       "                        <td id=\"T_49ab1195_3b06_11eb_bb5f_4ccc6acf21berow29_col2\" class=\"data row29 col2\" >0.305068</td>\n",
       "                        <td id=\"T_49ab1195_3b06_11eb_bb5f_4ccc6acf21berow29_col3\" class=\"data row29 col3\" >0.865728</td>\n",
       "                        <td id=\"T_49ab1195_3b06_11eb_bb5f_4ccc6acf21berow29_col4\" class=\"data row29 col4\" >One</td>\n",
       "                        <td id=\"T_49ab1195_3b06_11eb_bb5f_4ccc6acf21berow29_col5\" class=\"data row29 col5\" >One</td>\n",
       "                        <td id=\"T_49ab1195_3b06_11eb_bb5f_4ccc6acf21berow29_col6\" class=\"data row29 col6\" >0.236201</td>\n",
       "            </tr>\n",
       "            <tr>\n",
       "                        <th id=\"T_49ab1195_3b06_11eb_bb5f_4ccc6acf21belevel0_row30\" class=\"row_heading level0 row30\" >1031</th>\n",
       "                        <td id=\"T_49ab1195_3b06_11eb_bb5f_4ccc6acf21berow30_col0\" class=\"data row30 col0\" >0.374035</td>\n",
       "                        <td id=\"T_49ab1195_3b06_11eb_bb5f_4ccc6acf21berow30_col1\" class=\"data row30 col1\" >0.156020</td>\n",
       "                        <td id=\"T_49ab1195_3b06_11eb_bb5f_4ccc6acf21berow30_col2\" class=\"data row30 col2\" >0.562711</td>\n",
       "                        <td id=\"T_49ab1195_3b06_11eb_bb5f_4ccc6acf21berow30_col3\" class=\"data row30 col3\" >0.688420</td>\n",
       "                        <td id=\"T_49ab1195_3b06_11eb_bb5f_4ccc6acf21berow30_col4\" class=\"data row30 col4\" >One</td>\n",
       "                        <td id=\"T_49ab1195_3b06_11eb_bb5f_4ccc6acf21berow30_col5\" class=\"data row30 col5\" >One</td>\n",
       "                        <td id=\"T_49ab1195_3b06_11eb_bb5f_4ccc6acf21berow30_col6\" class=\"data row30 col6\" >0.236345</td>\n",
       "            </tr>\n",
       "            <tr>\n",
       "                        <th id=\"T_49ab1195_3b06_11eb_bb5f_4ccc6acf21belevel0_row31\" class=\"row_heading level0 row31\" >1325</th>\n",
       "                        <td id=\"T_49ab1195_3b06_11eb_bb5f_4ccc6acf21berow31_col0\" class=\"data row31 col0\" >0.109404</td>\n",
       "                        <td id=\"T_49ab1195_3b06_11eb_bb5f_4ccc6acf21berow31_col1\" class=\"data row31 col1\" >0.752072</td>\n",
       "                        <td id=\"T_49ab1195_3b06_11eb_bb5f_4ccc6acf21berow31_col2\" class=\"data row31 col2\" >0.266387</td>\n",
       "                        <td id=\"T_49ab1195_3b06_11eb_bb5f_4ccc6acf21berow31_col3\" class=\"data row31 col3\" >0.174955</td>\n",
       "                        <td id=\"T_49ab1195_3b06_11eb_bb5f_4ccc6acf21berow31_col4\" class=\"data row31 col4\" >One</td>\n",
       "                        <td id=\"T_49ab1195_3b06_11eb_bb5f_4ccc6acf21berow31_col5\" class=\"data row31 col5\" >One</td>\n",
       "                        <td id=\"T_49ab1195_3b06_11eb_bb5f_4ccc6acf21berow31_col6\" class=\"data row31 col6\" >0.237266</td>\n",
       "            </tr>\n",
       "            <tr>\n",
       "                        <th id=\"T_49ab1195_3b06_11eb_bb5f_4ccc6acf21belevel0_row32\" class=\"row_heading level0 row32\" >974</th>\n",
       "                        <td id=\"T_49ab1195_3b06_11eb_bb5f_4ccc6acf21berow32_col0\" class=\"data row32 col0\" >0.145094</td>\n",
       "                        <td id=\"T_49ab1195_3b06_11eb_bb5f_4ccc6acf21berow32_col1\" class=\"data row32 col1\" >0.796129</td>\n",
       "                        <td id=\"T_49ab1195_3b06_11eb_bb5f_4ccc6acf21berow32_col2\" class=\"data row32 col2\" >0.221946</td>\n",
       "                        <td id=\"T_49ab1195_3b06_11eb_bb5f_4ccc6acf21berow32_col3\" class=\"data row32 col3\" >0.095002</td>\n",
       "                        <td id=\"T_49ab1195_3b06_11eb_bb5f_4ccc6acf21berow32_col4\" class=\"data row32 col4\" >One</td>\n",
       "                        <td id=\"T_49ab1195_3b06_11eb_bb5f_4ccc6acf21berow32_col5\" class=\"data row32 col5\" >One</td>\n",
       "                        <td id=\"T_49ab1195_3b06_11eb_bb5f_4ccc6acf21berow32_col6\" class=\"data row32 col6\" >0.237532</td>\n",
       "            </tr>\n",
       "            <tr>\n",
       "                        <th id=\"T_49ab1195_3b06_11eb_bb5f_4ccc6acf21belevel0_row33\" class=\"row_heading level0 row33\" >932</th>\n",
       "                        <td id=\"T_49ab1195_3b06_11eb_bb5f_4ccc6acf21berow33_col0\" class=\"data row33 col0\" >0.526958</td>\n",
       "                        <td id=\"T_49ab1195_3b06_11eb_bb5f_4ccc6acf21berow33_col1\" class=\"data row33 col1\" >0.605421</td>\n",
       "                        <td id=\"T_49ab1195_3b06_11eb_bb5f_4ccc6acf21berow33_col2\" class=\"data row33 col2\" >0.105305</td>\n",
       "                        <td id=\"T_49ab1195_3b06_11eb_bb5f_4ccc6acf21berow33_col3\" class=\"data row33 col3\" >0.722753</td>\n",
       "                        <td id=\"T_49ab1195_3b06_11eb_bb5f_4ccc6acf21berow33_col4\" class=\"data row33 col4\" >One</td>\n",
       "                        <td id=\"T_49ab1195_3b06_11eb_bb5f_4ccc6acf21berow33_col5\" class=\"data row33 col5\" >One</td>\n",
       "                        <td id=\"T_49ab1195_3b06_11eb_bb5f_4ccc6acf21berow33_col6\" class=\"data row33 col6\" >0.238264</td>\n",
       "            </tr>\n",
       "            <tr>\n",
       "                        <th id=\"T_49ab1195_3b06_11eb_bb5f_4ccc6acf21belevel0_row34\" class=\"row_heading level0 row34\" >1157</th>\n",
       "                        <td id=\"T_49ab1195_3b06_11eb_bb5f_4ccc6acf21berow34_col0\" class=\"data row34 col0\" >0.132488</td>\n",
       "                        <td id=\"T_49ab1195_3b06_11eb_bb5f_4ccc6acf21berow34_col1\" class=\"data row34 col1\" >0.786991</td>\n",
       "                        <td id=\"T_49ab1195_3b06_11eb_bb5f_4ccc6acf21berow34_col2\" class=\"data row34 col2\" >0.230768</td>\n",
       "                        <td id=\"T_49ab1195_3b06_11eb_bb5f_4ccc6acf21berow34_col3\" class=\"data row34 col3\" >0.113460</td>\n",
       "                        <td id=\"T_49ab1195_3b06_11eb_bb5f_4ccc6acf21berow34_col4\" class=\"data row34 col4\" >One</td>\n",
       "                        <td id=\"T_49ab1195_3b06_11eb_bb5f_4ccc6acf21berow34_col5\" class=\"data row34 col5\" >One</td>\n",
       "                        <td id=\"T_49ab1195_3b06_11eb_bb5f_4ccc6acf21berow34_col6\" class=\"data row34 col6\" >0.238939</td>\n",
       "            </tr>\n",
       "            <tr>\n",
       "                        <th id=\"T_49ab1195_3b06_11eb_bb5f_4ccc6acf21belevel0_row35\" class=\"row_heading level0 row35\" >793</th>\n",
       "                        <td id=\"T_49ab1195_3b06_11eb_bb5f_4ccc6acf21berow35_col0\" class=\"data row35 col0\" >0.342982</td>\n",
       "                        <td id=\"T_49ab1195_3b06_11eb_bb5f_4ccc6acf21berow35_col1\" class=\"data row35 col1\" >0.311498</td>\n",
       "                        <td id=\"T_49ab1195_3b06_11eb_bb5f_4ccc6acf21berow35_col2\" class=\"data row35 col2\" >0.477739</td>\n",
       "                        <td id=\"T_49ab1195_3b06_11eb_bb5f_4ccc6acf21berow35_col3\" class=\"data row35 col3\" >0.857498</td>\n",
       "                        <td id=\"T_49ab1195_3b06_11eb_bb5f_4ccc6acf21berow35_col4\" class=\"data row35 col4\" >One</td>\n",
       "                        <td id=\"T_49ab1195_3b06_11eb_bb5f_4ccc6acf21berow35_col5\" class=\"data row35 col5\" >One</td>\n",
       "                        <td id=\"T_49ab1195_3b06_11eb_bb5f_4ccc6acf21berow35_col6\" class=\"data row35 col6\" >0.239142</td>\n",
       "            </tr>\n",
       "            <tr>\n",
       "                        <th id=\"T_49ab1195_3b06_11eb_bb5f_4ccc6acf21belevel0_row36\" class=\"row_heading level0 row36\" >1275</th>\n",
       "                        <td id=\"T_49ab1195_3b06_11eb_bb5f_4ccc6acf21berow36_col0\" class=\"data row36 col0\" >0.284382</td>\n",
       "                        <td id=\"T_49ab1195_3b06_11eb_bb5f_4ccc6acf21berow36_col1\" class=\"data row36 col1\" >0.123964</td>\n",
       "                        <td id=\"T_49ab1195_3b06_11eb_bb5f_4ccc6acf21berow36_col2\" class=\"data row36 col2\" >0.614203</td>\n",
       "                        <td id=\"T_49ab1195_3b06_11eb_bb5f_4ccc6acf21berow36_col3\" class=\"data row36 col3\" >0.564254</td>\n",
       "                        <td id=\"T_49ab1195_3b06_11eb_bb5f_4ccc6acf21berow36_col4\" class=\"data row36 col4\" >One</td>\n",
       "                        <td id=\"T_49ab1195_3b06_11eb_bb5f_4ccc6acf21berow36_col5\" class=\"data row36 col5\" >One</td>\n",
       "                        <td id=\"T_49ab1195_3b06_11eb_bb5f_4ccc6acf21berow36_col6\" class=\"data row36 col6\" >0.239384</td>\n",
       "            </tr>\n",
       "            <tr>\n",
       "                        <th id=\"T_49ab1195_3b06_11eb_bb5f_4ccc6acf21belevel0_row37\" class=\"row_heading level0 row37\" >949</th>\n",
       "                        <td id=\"T_49ab1195_3b06_11eb_bb5f_4ccc6acf21berow37_col0\" class=\"data row37 col0\" >0.283142</td>\n",
       "                        <td id=\"T_49ab1195_3b06_11eb_bb5f_4ccc6acf21berow37_col1\" class=\"data row37 col1\" >0.192489</td>\n",
       "                        <td id=\"T_49ab1195_3b06_11eb_bb5f_4ccc6acf21berow37_col2\" class=\"data row37 col2\" >0.677468</td>\n",
       "                        <td id=\"T_49ab1195_3b06_11eb_bb5f_4ccc6acf21berow37_col3\" class=\"data row37 col3\" >0.865611</td>\n",
       "                        <td id=\"T_49ab1195_3b06_11eb_bb5f_4ccc6acf21berow37_col4\" class=\"data row37 col4\" >One</td>\n",
       "                        <td id=\"T_49ab1195_3b06_11eb_bb5f_4ccc6acf21berow37_col5\" class=\"data row37 col5\" >One</td>\n",
       "                        <td id=\"T_49ab1195_3b06_11eb_bb5f_4ccc6acf21berow37_col6\" class=\"data row37 col6\" >0.239963</td>\n",
       "            </tr>\n",
       "            <tr>\n",
       "                        <th id=\"T_49ab1195_3b06_11eb_bb5f_4ccc6acf21belevel0_row38\" class=\"row_heading level0 row38\" >779</th>\n",
       "                        <td id=\"T_49ab1195_3b06_11eb_bb5f_4ccc6acf21berow38_col0\" class=\"data row38 col0\" >0.376681</td>\n",
       "                        <td id=\"T_49ab1195_3b06_11eb_bb5f_4ccc6acf21berow38_col1\" class=\"data row38 col1\" >0.177233</td>\n",
       "                        <td id=\"T_49ab1195_3b06_11eb_bb5f_4ccc6acf21berow38_col2\" class=\"data row38 col2\" >0.616120</td>\n",
       "                        <td id=\"T_49ab1195_3b06_11eb_bb5f_4ccc6acf21berow38_col3\" class=\"data row38 col3\" >0.766139</td>\n",
       "                        <td id=\"T_49ab1195_3b06_11eb_bb5f_4ccc6acf21berow38_col4\" class=\"data row38 col4\" >One</td>\n",
       "                        <td id=\"T_49ab1195_3b06_11eb_bb5f_4ccc6acf21berow38_col5\" class=\"data row38 col5\" >One</td>\n",
       "                        <td id=\"T_49ab1195_3b06_11eb_bb5f_4ccc6acf21berow38_col6\" class=\"data row38 col6\" >0.240989</td>\n",
       "            </tr>\n",
       "            <tr>\n",
       "                        <th id=\"T_49ab1195_3b06_11eb_bb5f_4ccc6acf21belevel0_row39\" class=\"row_heading level0 row39\" >842</th>\n",
       "                        <td id=\"T_49ab1195_3b06_11eb_bb5f_4ccc6acf21berow39_col0\" class=\"data row39 col0\" >0.371042</td>\n",
       "                        <td id=\"T_49ab1195_3b06_11eb_bb5f_4ccc6acf21berow39_col1\" class=\"data row39 col1\" >0.261324</td>\n",
       "                        <td id=\"T_49ab1195_3b06_11eb_bb5f_4ccc6acf21berow39_col2\" class=\"data row39 col2\" >0.455002</td>\n",
       "                        <td id=\"T_49ab1195_3b06_11eb_bb5f_4ccc6acf21berow39_col3\" class=\"data row39 col3\" >0.747680</td>\n",
       "                        <td id=\"T_49ab1195_3b06_11eb_bb5f_4ccc6acf21berow39_col4\" class=\"data row39 col4\" >One</td>\n",
       "                        <td id=\"T_49ab1195_3b06_11eb_bb5f_4ccc6acf21berow39_col5\" class=\"data row39 col5\" >One</td>\n",
       "                        <td id=\"T_49ab1195_3b06_11eb_bb5f_4ccc6acf21berow39_col6\" class=\"data row39 col6\" >0.242311</td>\n",
       "            </tr>\n",
       "            <tr>\n",
       "                        <th id=\"T_49ab1195_3b06_11eb_bb5f_4ccc6acf21belevel0_row40\" class=\"row_heading level0 row40\" >871</th>\n",
       "                        <td id=\"T_49ab1195_3b06_11eb_bb5f_4ccc6acf21berow40_col0\" class=\"data row40 col0\" >0.453178</td>\n",
       "                        <td id=\"T_49ab1195_3b06_11eb_bb5f_4ccc6acf21berow40_col1\" class=\"data row40 col1\" >0.610222</td>\n",
       "                        <td id=\"T_49ab1195_3b06_11eb_bb5f_4ccc6acf21berow40_col2\" class=\"data row40 col2\" >0.096483</td>\n",
       "                        <td id=\"T_49ab1195_3b06_11eb_bb5f_4ccc6acf21berow40_col3\" class=\"data row40 col3\" >0.662439</td>\n",
       "                        <td id=\"T_49ab1195_3b06_11eb_bb5f_4ccc6acf21berow40_col4\" class=\"data row40 col4\" >One</td>\n",
       "                        <td id=\"T_49ab1195_3b06_11eb_bb5f_4ccc6acf21berow40_col5\" class=\"data row40 col5\" >One</td>\n",
       "                        <td id=\"T_49ab1195_3b06_11eb_bb5f_4ccc6acf21berow40_col6\" class=\"data row40 col6\" >0.245895</td>\n",
       "            </tr>\n",
       "            <tr>\n",
       "                        <th id=\"T_49ab1195_3b06_11eb_bb5f_4ccc6acf21belevel0_row41\" class=\"row_heading level0 row41\" >1011</th>\n",
       "                        <td id=\"T_49ab1195_3b06_11eb_bb5f_4ccc6acf21berow41_col0\" class=\"data row41 col0\" >0.374547</td>\n",
       "                        <td id=\"T_49ab1195_3b06_11eb_bb5f_4ccc6acf21berow41_col1\" class=\"data row41 col1\" >0.526984</td>\n",
       "                        <td id=\"T_49ab1195_3b06_11eb_bb5f_4ccc6acf21berow41_col2\" class=\"data row41 col2\" >0.261035</td>\n",
       "                        <td id=\"T_49ab1195_3b06_11eb_bb5f_4ccc6acf21berow41_col3\" class=\"data row41 col3\" >0.906289</td>\n",
       "                        <td id=\"T_49ab1195_3b06_11eb_bb5f_4ccc6acf21berow41_col4\" class=\"data row41 col4\" >One</td>\n",
       "                        <td id=\"T_49ab1195_3b06_11eb_bb5f_4ccc6acf21berow41_col5\" class=\"data row41 col5\" >One</td>\n",
       "                        <td id=\"T_49ab1195_3b06_11eb_bb5f_4ccc6acf21berow41_col6\" class=\"data row41 col6\" >0.246305</td>\n",
       "            </tr>\n",
       "            <tr>\n",
       "                        <th id=\"T_49ab1195_3b06_11eb_bb5f_4ccc6acf21belevel0_row42\" class=\"row_heading level0 row42\" >1165</th>\n",
       "                        <td id=\"T_49ab1195_3b06_11eb_bb5f_4ccc6acf21berow42_col0\" class=\"data row42 col0\" >0.233419</td>\n",
       "                        <td id=\"T_49ab1195_3b06_11eb_bb5f_4ccc6acf21berow42_col1\" class=\"data row42 col1\" >0.606196</td>\n",
       "                        <td id=\"T_49ab1195_3b06_11eb_bb5f_4ccc6acf21berow42_col2\" class=\"data row42 col2\" >0.257049</td>\n",
       "                        <td id=\"T_49ab1195_3b06_11eb_bb5f_4ccc6acf21berow42_col3\" class=\"data row42 col3\" >0.678424</td>\n",
       "                        <td id=\"T_49ab1195_3b06_11eb_bb5f_4ccc6acf21berow42_col4\" class=\"data row42 col4\" >One</td>\n",
       "                        <td id=\"T_49ab1195_3b06_11eb_bb5f_4ccc6acf21berow42_col5\" class=\"data row42 col5\" >One</td>\n",
       "                        <td id=\"T_49ab1195_3b06_11eb_bb5f_4ccc6acf21berow42_col6\" class=\"data row42 col6\" >0.246518</td>\n",
       "            </tr>\n",
       "            <tr>\n",
       "                        <th id=\"T_49ab1195_3b06_11eb_bb5f_4ccc6acf21belevel0_row43\" class=\"row_heading level0 row43\" >766</th>\n",
       "                        <td id=\"T_49ab1195_3b06_11eb_bb5f_4ccc6acf21berow43_col0\" class=\"data row43 col0\" >0.250525</td>\n",
       "                        <td id=\"T_49ab1195_3b06_11eb_bb5f_4ccc6acf21berow43_col1\" class=\"data row43 col1\" >0.208051</td>\n",
       "                        <td id=\"T_49ab1195_3b06_11eb_bb5f_4ccc6acf21berow43_col2\" class=\"data row43 col2\" >0.662076</td>\n",
       "                        <td id=\"T_49ab1195_3b06_11eb_bb5f_4ccc6acf21berow43_col3\" class=\"data row43 col3\" >0.865258</td>\n",
       "                        <td id=\"T_49ab1195_3b06_11eb_bb5f_4ccc6acf21berow43_col4\" class=\"data row43 col4\" >One</td>\n",
       "                        <td id=\"T_49ab1195_3b06_11eb_bb5f_4ccc6acf21berow43_col5\" class=\"data row43 col5\" >One</td>\n",
       "                        <td id=\"T_49ab1195_3b06_11eb_bb5f_4ccc6acf21berow43_col6\" class=\"data row43 col6\" >0.246950</td>\n",
       "            </tr>\n",
       "            <tr>\n",
       "                        <th id=\"T_49ab1195_3b06_11eb_bb5f_4ccc6acf21belevel0_row44\" class=\"row_heading level0 row44\" >1118</th>\n",
       "                        <td id=\"T_49ab1195_3b06_11eb_bb5f_4ccc6acf21berow44_col0\" class=\"data row44 col0\" >0.368013</td>\n",
       "                        <td id=\"T_49ab1195_3b06_11eb_bb5f_4ccc6acf21berow44_col1\" class=\"data row44 col1\" >0.574139</td>\n",
       "                        <td id=\"T_49ab1195_3b06_11eb_bb5f_4ccc6acf21berow44_col2\" class=\"data row44 col2\" >0.229697</td>\n",
       "                        <td id=\"T_49ab1195_3b06_11eb_bb5f_4ccc6acf21berow44_col3\" class=\"data row44 col3\" >0.675250</td>\n",
       "                        <td id=\"T_49ab1195_3b06_11eb_bb5f_4ccc6acf21berow44_col4\" class=\"data row44 col4\" >One</td>\n",
       "                        <td id=\"T_49ab1195_3b06_11eb_bb5f_4ccc6acf21berow44_col5\" class=\"data row44 col5\" >One</td>\n",
       "                        <td id=\"T_49ab1195_3b06_11eb_bb5f_4ccc6acf21berow44_col6\" class=\"data row44 col6\" >0.247897</td>\n",
       "            </tr>\n",
       "            <tr>\n",
       "                        <th id=\"T_49ab1195_3b06_11eb_bb5f_4ccc6acf21belevel0_row45\" class=\"row_heading level0 row45\" >924</th>\n",
       "                        <td id=\"T_49ab1195_3b06_11eb_bb5f_4ccc6acf21berow45_col0\" class=\"data row45 col0\" >0.622526</td>\n",
       "                        <td id=\"T_49ab1195_3b06_11eb_bb5f_4ccc6acf21berow45_col1\" class=\"data row45 col1\" >0.598143</td>\n",
       "                        <td id=\"T_49ab1195_3b06_11eb_bb5f_4ccc6acf21berow45_col2\" class=\"data row45 col2\" >0.093385</td>\n",
       "                        <td id=\"T_49ab1195_3b06_11eb_bb5f_4ccc6acf21berow45_col3\" class=\"data row45 col3\" >0.766610</td>\n",
       "                        <td id=\"T_49ab1195_3b06_11eb_bb5f_4ccc6acf21berow45_col4\" class=\"data row45 col4\" >One</td>\n",
       "                        <td id=\"T_49ab1195_3b06_11eb_bb5f_4ccc6acf21berow45_col5\" class=\"data row45 col5\" >One</td>\n",
       "                        <td id=\"T_49ab1195_3b06_11eb_bb5f_4ccc6acf21berow45_col6\" class=\"data row45 col6\" >0.250522</td>\n",
       "            </tr>\n",
       "            <tr>\n",
       "                        <th id=\"T_49ab1195_3b06_11eb_bb5f_4ccc6acf21belevel0_row46\" class=\"row_heading level0 row46\" >1221</th>\n",
       "                        <td id=\"T_49ab1195_3b06_11eb_bb5f_4ccc6acf21berow46_col0\" class=\"data row46 col0\" >0.375462</td>\n",
       "                        <td id=\"T_49ab1195_3b06_11eb_bb5f_4ccc6acf21berow46_col1\" class=\"data row46 col1\" >0.262562</td>\n",
       "                        <td id=\"T_49ab1195_3b06_11eb_bb5f_4ccc6acf21berow46_col2\" class=\"data row46 col2\" >0.445629</td>\n",
       "                        <td id=\"T_49ab1195_3b06_11eb_bb5f_4ccc6acf21berow46_col3\" class=\"data row46 col3\" >0.727221</td>\n",
       "                        <td id=\"T_49ab1195_3b06_11eb_bb5f_4ccc6acf21berow46_col4\" class=\"data row46 col4\" >One</td>\n",
       "                        <td id=\"T_49ab1195_3b06_11eb_bb5f_4ccc6acf21berow46_col5\" class=\"data row46 col5\" >One</td>\n",
       "                        <td id=\"T_49ab1195_3b06_11eb_bb5f_4ccc6acf21berow46_col6\" class=\"data row46 col6\" >0.251332</td>\n",
       "            </tr>\n",
       "            <tr>\n",
       "                        <th id=\"T_49ab1195_3b06_11eb_bb5f_4ccc6acf21belevel0_row47\" class=\"row_heading level0 row47\" >1261</th>\n",
       "                        <td id=\"T_49ab1195_3b06_11eb_bb5f_4ccc6acf21berow47_col0\" class=\"data row47 col0\" >0.369982</td>\n",
       "                        <td id=\"T_49ab1195_3b06_11eb_bb5f_4ccc6acf21berow47_col1\" class=\"data row47 col1\" >0.284860</td>\n",
       "                        <td id=\"T_49ab1195_3b06_11eb_bb5f_4ccc6acf21berow47_col2\" class=\"data row47 col2\" >0.469214</td>\n",
       "                        <td id=\"T_49ab1195_3b06_11eb_bb5f_4ccc6acf21berow47_col3\" class=\"data row47 col3\" >0.821402</td>\n",
       "                        <td id=\"T_49ab1195_3b06_11eb_bb5f_4ccc6acf21berow47_col4\" class=\"data row47 col4\" >One</td>\n",
       "                        <td id=\"T_49ab1195_3b06_11eb_bb5f_4ccc6acf21berow47_col5\" class=\"data row47 col5\" >One</td>\n",
       "                        <td id=\"T_49ab1195_3b06_11eb_bb5f_4ccc6acf21berow47_col6\" class=\"data row47 col6\" >0.253102</td>\n",
       "            </tr>\n",
       "            <tr>\n",
       "                        <th id=\"T_49ab1195_3b06_11eb_bb5f_4ccc6acf21belevel0_row48\" class=\"row_heading level0 row48\" >1132</th>\n",
       "                        <td id=\"T_49ab1195_3b06_11eb_bb5f_4ccc6acf21berow48_col0\" class=\"data row48 col0\" >0.263484</td>\n",
       "                        <td id=\"T_49ab1195_3b06_11eb_bb5f_4ccc6acf21berow48_col1\" class=\"data row48 col1\" >0.207976</td>\n",
       "                        <td id=\"T_49ab1195_3b06_11eb_bb5f_4ccc6acf21berow48_col2\" class=\"data row48 col2\" >0.672781</td>\n",
       "                        <td id=\"T_49ab1195_3b06_11eb_bb5f_4ccc6acf21berow48_col3\" class=\"data row48 col3\" >0.866551</td>\n",
       "                        <td id=\"T_49ab1195_3b06_11eb_bb5f_4ccc6acf21berow48_col4\" class=\"data row48 col4\" >One</td>\n",
       "                        <td id=\"T_49ab1195_3b06_11eb_bb5f_4ccc6acf21berow48_col5\" class=\"data row48 col5\" >One</td>\n",
       "                        <td id=\"T_49ab1195_3b06_11eb_bb5f_4ccc6acf21berow48_col6\" class=\"data row48 col6\" >0.253161</td>\n",
       "            </tr>\n",
       "            <tr>\n",
       "                        <th id=\"T_49ab1195_3b06_11eb_bb5f_4ccc6acf21belevel0_row49\" class=\"row_heading level0 row49\" >1051</th>\n",
       "                        <td id=\"T_49ab1195_3b06_11eb_bb5f_4ccc6acf21berow49_col0\" class=\"data row49 col0\" >0.235626</td>\n",
       "                        <td id=\"T_49ab1195_3b06_11eb_bb5f_4ccc6acf21berow49_col1\" class=\"data row49 col1\" >0.609522</td>\n",
       "                        <td id=\"T_49ab1195_3b06_11eb_bb5f_4ccc6acf21berow49_col2\" class=\"data row49 col2\" >0.263619</td>\n",
       "                        <td id=\"T_49ab1195_3b06_11eb_bb5f_4ccc6acf21berow49_col3\" class=\"data row49 col3\" >0.749090</td>\n",
       "                        <td id=\"T_49ab1195_3b06_11eb_bb5f_4ccc6acf21berow49_col4\" class=\"data row49 col4\" >One</td>\n",
       "                        <td id=\"T_49ab1195_3b06_11eb_bb5f_4ccc6acf21berow49_col5\" class=\"data row49 col5\" >One</td>\n",
       "                        <td id=\"T_49ab1195_3b06_11eb_bb5f_4ccc6acf21berow49_col6\" class=\"data row49 col6\" >0.254555</td>\n",
       "            </tr>\n",
       "            <tr>\n",
       "                        <th id=\"T_49ab1195_3b06_11eb_bb5f_4ccc6acf21belevel0_row50\" class=\"row_heading level0 row50\" >1287</th>\n",
       "                        <td id=\"T_49ab1195_3b06_11eb_bb5f_4ccc6acf21berow50_col0\" class=\"data row50 col0\" >0.219862</td>\n",
       "                        <td id=\"T_49ab1195_3b06_11eb_bb5f_4ccc6acf21berow50_col1\" class=\"data row50 col1\" >0.613474</td>\n",
       "                        <td id=\"T_49ab1195_3b06_11eb_bb5f_4ccc6acf21berow50_col2\" class=\"data row50 col2\" >0.254797</td>\n",
       "                        <td id=\"T_49ab1195_3b06_11eb_bb5f_4ccc6acf21berow50_col3\" class=\"data row50 col3\" >0.671840</td>\n",
       "                        <td id=\"T_49ab1195_3b06_11eb_bb5f_4ccc6acf21berow50_col4\" class=\"data row50 col4\" >One</td>\n",
       "                        <td id=\"T_49ab1195_3b06_11eb_bb5f_4ccc6acf21berow50_col5\" class=\"data row50 col5\" >One</td>\n",
       "                        <td id=\"T_49ab1195_3b06_11eb_bb5f_4ccc6acf21berow50_col6\" class=\"data row50 col6\" >0.254792</td>\n",
       "            </tr>\n",
       "            <tr>\n",
       "                        <th id=\"T_49ab1195_3b06_11eb_bb5f_4ccc6acf21belevel0_row51\" class=\"row_heading level0 row51\" >1200</th>\n",
       "                        <td id=\"T_49ab1195_3b06_11eb_bb5f_4ccc6acf21berow51_col0\" class=\"data row51 col0\" >0.375556</td>\n",
       "                        <td id=\"T_49ab1195_3b06_11eb_bb5f_4ccc6acf21berow51_col1\" class=\"data row51 col1\" >0.268755</td>\n",
       "                        <td id=\"T_49ab1195_3b06_11eb_bb5f_4ccc6acf21berow51_col2\" class=\"data row51 col2\" >0.470804</td>\n",
       "                        <td id=\"T_49ab1195_3b06_11eb_bb5f_4ccc6acf21berow51_col3\" class=\"data row51 col3\" >0.827280</td>\n",
       "                        <td id=\"T_49ab1195_3b06_11eb_bb5f_4ccc6acf21berow51_col4\" class=\"data row51 col4\" >One</td>\n",
       "                        <td id=\"T_49ab1195_3b06_11eb_bb5f_4ccc6acf21berow51_col5\" class=\"data row51 col5\" >One</td>\n",
       "                        <td id=\"T_49ab1195_3b06_11eb_bb5f_4ccc6acf21berow51_col6\" class=\"data row51 col6\" >0.255442</td>\n",
       "            </tr>\n",
       "            <tr>\n",
       "                        <th id=\"T_49ab1195_3b06_11eb_bb5f_4ccc6acf21belevel0_row52\" class=\"row_heading level0 row52\" >1298</th>\n",
       "                        <td id=\"T_49ab1195_3b06_11eb_bb5f_4ccc6acf21berow52_col0\" class=\"data row52 col0\" >0.438555</td>\n",
       "                        <td id=\"T_49ab1195_3b06_11eb_bb5f_4ccc6acf21berow52_col1\" class=\"data row52 col1\" >0.616261</td>\n",
       "                        <td id=\"T_49ab1195_3b06_11eb_bb5f_4ccc6acf21berow52_col2\" class=\"data row52 col2\" >0.093200</td>\n",
       "                        <td id=\"T_49ab1195_3b06_11eb_bb5f_4ccc6acf21berow52_col3\" class=\"data row52 col3\" >0.657965</td>\n",
       "                        <td id=\"T_49ab1195_3b06_11eb_bb5f_4ccc6acf21berow52_col4\" class=\"data row52 col4\" >One</td>\n",
       "                        <td id=\"T_49ab1195_3b06_11eb_bb5f_4ccc6acf21berow52_col5\" class=\"data row52 col5\" >One</td>\n",
       "                        <td id=\"T_49ab1195_3b06_11eb_bb5f_4ccc6acf21berow52_col6\" class=\"data row52 col6\" >0.259597</td>\n",
       "            </tr>\n",
       "            <tr>\n",
       "                        <th id=\"T_49ab1195_3b06_11eb_bb5f_4ccc6acf21belevel0_row53\" class=\"row_heading level0 row53\" >1099</th>\n",
       "                        <td id=\"T_49ab1195_3b06_11eb_bb5f_4ccc6acf21berow53_col0\" class=\"data row53 col0\" >0.456008</td>\n",
       "                        <td id=\"T_49ab1195_3b06_11eb_bb5f_4ccc6acf21berow53_col1\" class=\"data row53 col1\" >0.301508</td>\n",
       "                        <td id=\"T_49ab1195_3b06_11eb_bb5f_4ccc6acf21berow53_col2\" class=\"data row53 col2\" >0.392698</td>\n",
       "                        <td id=\"T_49ab1195_3b06_11eb_bb5f_4ccc6acf21berow53_col3\" class=\"data row53 col3\" >0.870318</td>\n",
       "                        <td id=\"T_49ab1195_3b06_11eb_bb5f_4ccc6acf21berow53_col4\" class=\"data row53 col4\" >One</td>\n",
       "                        <td id=\"T_49ab1195_3b06_11eb_bb5f_4ccc6acf21berow53_col5\" class=\"data row53 col5\" >One</td>\n",
       "                        <td id=\"T_49ab1195_3b06_11eb_bb5f_4ccc6acf21berow53_col6\" class=\"data row53 col6\" >0.260225</td>\n",
       "            </tr>\n",
       "            <tr>\n",
       "                        <th id=\"T_49ab1195_3b06_11eb_bb5f_4ccc6acf21belevel0_row54\" class=\"row_heading level0 row54\" >815</th>\n",
       "                        <td id=\"T_49ab1195_3b06_11eb_bb5f_4ccc6acf21berow54_col0\" class=\"data row54 col0\" >0.283358</td>\n",
       "                        <td id=\"T_49ab1195_3b06_11eb_bb5f_4ccc6acf21berow54_col1\" class=\"data row54 col1\" >0.259389</td>\n",
       "                        <td id=\"T_49ab1195_3b06_11eb_bb5f_4ccc6acf21berow54_col2\" class=\"data row54 col2\" >0.690387</td>\n",
       "                        <td id=\"T_49ab1195_3b06_11eb_bb5f_4ccc6acf21berow54_col3\" class=\"data row54 col3\" >0.684780</td>\n",
       "                        <td id=\"T_49ab1195_3b06_11eb_bb5f_4ccc6acf21berow54_col4\" class=\"data row54 col4\" >One</td>\n",
       "                        <td id=\"T_49ab1195_3b06_11eb_bb5f_4ccc6acf21berow54_col5\" class=\"data row54 col5\" >One</td>\n",
       "                        <td id=\"T_49ab1195_3b06_11eb_bb5f_4ccc6acf21berow54_col6\" class=\"data row54 col6\" >0.261461</td>\n",
       "            </tr>\n",
       "            <tr>\n",
       "                        <th id=\"T_49ab1195_3b06_11eb_bb5f_4ccc6acf21belevel0_row55\" class=\"row_heading level0 row55\" >777</th>\n",
       "                        <td id=\"T_49ab1195_3b06_11eb_bb5f_4ccc6acf21berow55_col0\" class=\"data row55 col0\" >0.376479</td>\n",
       "                        <td id=\"T_49ab1195_3b06_11eb_bb5f_4ccc6acf21berow55_col1\" class=\"data row55 col1\" >0.618349</td>\n",
       "                        <td id=\"T_49ab1195_3b06_11eb_bb5f_4ccc6acf21berow55_col2\" class=\"data row55 col2\" >0.196588</td>\n",
       "                        <td id=\"T_49ab1195_3b06_11eb_bb5f_4ccc6acf21berow55_col3\" class=\"data row55 col3\" >0.563318</td>\n",
       "                        <td id=\"T_49ab1195_3b06_11eb_bb5f_4ccc6acf21berow55_col4\" class=\"data row55 col4\" >One</td>\n",
       "                        <td id=\"T_49ab1195_3b06_11eb_bb5f_4ccc6acf21berow55_col5\" class=\"data row55 col5\" >One</td>\n",
       "                        <td id=\"T_49ab1195_3b06_11eb_bb5f_4ccc6acf21berow55_col6\" class=\"data row55 col6\" >0.264797</td>\n",
       "            </tr>\n",
       "            <tr>\n",
       "                        <th id=\"T_49ab1195_3b06_11eb_bb5f_4ccc6acf21belevel0_row56\" class=\"row_heading level0 row56\" >996</th>\n",
       "                        <td id=\"T_49ab1195_3b06_11eb_bb5f_4ccc6acf21berow56_col0\" class=\"data row56 col0\" >0.340949</td>\n",
       "                        <td id=\"T_49ab1195_3b06_11eb_bb5f_4ccc6acf21berow56_col1\" class=\"data row56 col1\" >0.593342</td>\n",
       "                        <td id=\"T_49ab1195_3b06_11eb_bb5f_4ccc6acf21berow56_col2\" class=\"data row56 col2\" >0.207550</td>\n",
       "                        <td id=\"T_49ab1195_3b06_11eb_bb5f_4ccc6acf21berow56_col3\" class=\"data row56 col3\" >0.624812</td>\n",
       "                        <td id=\"T_49ab1195_3b06_11eb_bb5f_4ccc6acf21berow56_col4\" class=\"data row56 col4\" >One</td>\n",
       "                        <td id=\"T_49ab1195_3b06_11eb_bb5f_4ccc6acf21berow56_col5\" class=\"data row56 col5\" >One</td>\n",
       "                        <td id=\"T_49ab1195_3b06_11eb_bb5f_4ccc6acf21berow56_col6\" class=\"data row56 col6\" >0.265557</td>\n",
       "            </tr>\n",
       "            <tr>\n",
       "                        <th id=\"T_49ab1195_3b06_11eb_bb5f_4ccc6acf21belevel0_row57\" class=\"row_heading level0 row57\" >768</th>\n",
       "                        <td id=\"T_49ab1195_3b06_11eb_bb5f_4ccc6acf21berow57_col0\" class=\"data row57 col0\" >0.381044</td>\n",
       "                        <td id=\"T_49ab1195_3b06_11eb_bb5f_4ccc6acf21berow57_col1\" class=\"data row57 col1\" >0.617885</td>\n",
       "                        <td id=\"T_49ab1195_3b06_11eb_bb5f_4ccc6acf21berow57_col2\" class=\"data row57 col2\" >0.118629</td>\n",
       "                        <td id=\"T_49ab1195_3b06_11eb_bb5f_4ccc6acf21berow57_col3\" class=\"data row57 col3\" >0.574138</td>\n",
       "                        <td id=\"T_49ab1195_3b06_11eb_bb5f_4ccc6acf21berow57_col4\" class=\"data row57 col4\" >One</td>\n",
       "                        <td id=\"T_49ab1195_3b06_11eb_bb5f_4ccc6acf21berow57_col5\" class=\"data row57 col5\" >One</td>\n",
       "                        <td id=\"T_49ab1195_3b06_11eb_bb5f_4ccc6acf21berow57_col6\" class=\"data row57 col6\" >0.265884</td>\n",
       "            </tr>\n",
       "            <tr>\n",
       "                        <th id=\"T_49ab1195_3b06_11eb_bb5f_4ccc6acf21belevel0_row58\" class=\"row_heading level0 row58\" >1243</th>\n",
       "                        <td id=\"T_49ab1195_3b06_11eb_bb5f_4ccc6acf21berow58_col0\" class=\"data row58 col0\" >0.142389</td>\n",
       "                        <td id=\"T_49ab1195_3b06_11eb_bb5f_4ccc6acf21berow58_col1\" class=\"data row58 col1\" >0.321253</td>\n",
       "                        <td id=\"T_49ab1195_3b06_11eb_bb5f_4ccc6acf21berow58_col2\" class=\"data row58 col2\" >0.676878</td>\n",
       "                        <td id=\"T_49ab1195_3b06_11eb_bb5f_4ccc6acf21berow58_col3\" class=\"data row58 col3\" >0.698414</td>\n",
       "                        <td id=\"T_49ab1195_3b06_11eb_bb5f_4ccc6acf21berow58_col4\" class=\"data row58 col4\" >One</td>\n",
       "                        <td id=\"T_49ab1195_3b06_11eb_bb5f_4ccc6acf21berow58_col5\" class=\"data row58 col5\" >One</td>\n",
       "                        <td id=\"T_49ab1195_3b06_11eb_bb5f_4ccc6acf21berow58_col6\" class=\"data row58 col6\" >0.266544</td>\n",
       "            </tr>\n",
       "            <tr>\n",
       "                        <th id=\"T_49ab1195_3b06_11eb_bb5f_4ccc6acf21belevel0_row59\" class=\"row_heading level0 row59\" >797</th>\n",
       "                        <td id=\"T_49ab1195_3b06_11eb_bb5f_4ccc6acf21berow59_col0\" class=\"data row59 col0\" >0.566668</td>\n",
       "                        <td id=\"T_49ab1195_3b06_11eb_bb5f_4ccc6acf21berow59_col1\" class=\"data row59 col1\" >0.696476</td>\n",
       "                        <td id=\"T_49ab1195_3b06_11eb_bb5f_4ccc6acf21berow59_col2\" class=\"data row59 col2\" >0.001068</td>\n",
       "                        <td id=\"T_49ab1195_3b06_11eb_bb5f_4ccc6acf21berow59_col3\" class=\"data row59 col3\" >0.224220</td>\n",
       "                        <td id=\"T_49ab1195_3b06_11eb_bb5f_4ccc6acf21berow59_col4\" class=\"data row59 col4\" >One</td>\n",
       "                        <td id=\"T_49ab1195_3b06_11eb_bb5f_4ccc6acf21berow59_col5\" class=\"data row59 col5\" >One</td>\n",
       "                        <td id=\"T_49ab1195_3b06_11eb_bb5f_4ccc6acf21berow59_col6\" class=\"data row59 col6\" >0.268020</td>\n",
       "            </tr>\n",
       "            <tr>\n",
       "                        <th id=\"T_49ab1195_3b06_11eb_bb5f_4ccc6acf21belevel0_row60\" class=\"row_heading level0 row60\" >1002</th>\n",
       "                        <td id=\"T_49ab1195_3b06_11eb_bb5f_4ccc6acf21berow60_col0\" class=\"data row60 col0\" >0.384491</td>\n",
       "                        <td id=\"T_49ab1195_3b06_11eb_bb5f_4ccc6acf21berow60_col1\" class=\"data row60 col1\" >0.336584</td>\n",
       "                        <td id=\"T_49ab1195_3b06_11eb_bb5f_4ccc6acf21berow60_col2\" class=\"data row60 col2\" >0.495272</td>\n",
       "                        <td id=\"T_49ab1195_3b06_11eb_bb5f_4ccc6acf21berow60_col3\" class=\"data row60 col3\" >0.813406</td>\n",
       "                        <td id=\"T_49ab1195_3b06_11eb_bb5f_4ccc6acf21berow60_col4\" class=\"data row60 col4\" >One</td>\n",
       "                        <td id=\"T_49ab1195_3b06_11eb_bb5f_4ccc6acf21berow60_col5\" class=\"data row60 col5\" >One</td>\n",
       "                        <td id=\"T_49ab1195_3b06_11eb_bb5f_4ccc6acf21berow60_col6\" class=\"data row60 col6\" >0.268190</td>\n",
       "            </tr>\n",
       "            <tr>\n",
       "                        <th id=\"T_49ab1195_3b06_11eb_bb5f_4ccc6acf21belevel0_row61\" class=\"row_heading level0 row61\" >1340</th>\n",
       "                        <td id=\"T_49ab1195_3b06_11eb_bb5f_4ccc6acf21berow61_col0\" class=\"data row61 col0\" >0.208713</td>\n",
       "                        <td id=\"T_49ab1195_3b06_11eb_bb5f_4ccc6acf21berow61_col1\" class=\"data row61 col1\" >0.781883</td>\n",
       "                        <td id=\"T_49ab1195_3b06_11eb_bb5f_4ccc6acf21berow61_col2\" class=\"data row61 col2\" >0.224124</td>\n",
       "                        <td id=\"T_49ab1195_3b06_11eb_bb5f_4ccc6acf21berow61_col3\" class=\"data row61 col3\" >0.193768</td>\n",
       "                        <td id=\"T_49ab1195_3b06_11eb_bb5f_4ccc6acf21berow61_col4\" class=\"data row61 col4\" >One</td>\n",
       "                        <td id=\"T_49ab1195_3b06_11eb_bb5f_4ccc6acf21berow61_col5\" class=\"data row61 col5\" >One</td>\n",
       "                        <td id=\"T_49ab1195_3b06_11eb_bb5f_4ccc6acf21berow61_col6\" class=\"data row61 col6\" >0.269020</td>\n",
       "            </tr>\n",
       "            <tr>\n",
       "                        <th id=\"T_49ab1195_3b06_11eb_bb5f_4ccc6acf21belevel0_row62\" class=\"row_heading level0 row62\" >866</th>\n",
       "                        <td id=\"T_49ab1195_3b06_11eb_bb5f_4ccc6acf21berow62_col0\" class=\"data row62 col0\" >0.209218</td>\n",
       "                        <td id=\"T_49ab1195_3b06_11eb_bb5f_4ccc6acf21berow62_col1\" class=\"data row62 col1\" >0.644909</td>\n",
       "                        <td id=\"T_49ab1195_3b06_11eb_bb5f_4ccc6acf21berow62_col2\" class=\"data row62 col2\" >0.207108</td>\n",
       "                        <td id=\"T_49ab1195_3b06_11eb_bb5f_4ccc6acf21berow62_col3\" class=\"data row62 col3\" >0.423752</td>\n",
       "                        <td id=\"T_49ab1195_3b06_11eb_bb5f_4ccc6acf21berow62_col4\" class=\"data row62 col4\" >One</td>\n",
       "                        <td id=\"T_49ab1195_3b06_11eb_bb5f_4ccc6acf21berow62_col5\" class=\"data row62 col5\" >One</td>\n",
       "                        <td id=\"T_49ab1195_3b06_11eb_bb5f_4ccc6acf21berow62_col6\" class=\"data row62 col6\" >0.270464</td>\n",
       "            </tr>\n",
       "            <tr>\n",
       "                        <th id=\"T_49ab1195_3b06_11eb_bb5f_4ccc6acf21belevel0_row63\" class=\"row_heading level0 row63\" >1175</th>\n",
       "                        <td id=\"T_49ab1195_3b06_11eb_bb5f_4ccc6acf21berow63_col0\" class=\"data row63 col0\" >0.381282</td>\n",
       "                        <td id=\"T_49ab1195_3b06_11eb_bb5f_4ccc6acf21berow63_col1\" class=\"data row63 col1\" >0.512350</td>\n",
       "                        <td id=\"T_49ab1195_3b06_11eb_bb5f_4ccc6acf21berow63_col2\" class=\"data row63 col2\" >0.195074</td>\n",
       "                        <td id=\"T_49ab1195_3b06_11eb_bb5f_4ccc6acf21berow63_col3\" class=\"data row63 col3\" >0.743565</td>\n",
       "                        <td id=\"T_49ab1195_3b06_11eb_bb5f_4ccc6acf21berow63_col4\" class=\"data row63 col4\" >One</td>\n",
       "                        <td id=\"T_49ab1195_3b06_11eb_bb5f_4ccc6acf21berow63_col5\" class=\"data row63 col5\" >One</td>\n",
       "                        <td id=\"T_49ab1195_3b06_11eb_bb5f_4ccc6acf21berow63_col6\" class=\"data row63 col6\" >0.271233</td>\n",
       "            </tr>\n",
       "            <tr>\n",
       "                        <th id=\"T_49ab1195_3b06_11eb_bb5f_4ccc6acf21belevel0_row64\" class=\"row_heading level0 row64\" >816</th>\n",
       "                        <td id=\"T_49ab1195_3b06_11eb_bb5f_4ccc6acf21berow64_col0\" class=\"data row64 col0\" >0.157692</td>\n",
       "                        <td id=\"T_49ab1195_3b06_11eb_bb5f_4ccc6acf21berow64_col1\" class=\"data row64 col1\" >0.294462</td>\n",
       "                        <td id=\"T_49ab1195_3b06_11eb_bb5f_4ccc6acf21berow64_col2\" class=\"data row64 col2\" >0.700795</td>\n",
       "                        <td id=\"T_49ab1195_3b06_11eb_bb5f_4ccc6acf21berow64_col3\" class=\"data row64 col3\" >0.702530</td>\n",
       "                        <td id=\"T_49ab1195_3b06_11eb_bb5f_4ccc6acf21berow64_col4\" class=\"data row64 col4\" >One</td>\n",
       "                        <td id=\"T_49ab1195_3b06_11eb_bb5f_4ccc6acf21berow64_col5\" class=\"data row64 col5\" >One</td>\n",
       "                        <td id=\"T_49ab1195_3b06_11eb_bb5f_4ccc6acf21berow64_col6\" class=\"data row64 col6\" >0.275471</td>\n",
       "            </tr>\n",
       "            <tr>\n",
       "                        <th id=\"T_49ab1195_3b06_11eb_bb5f_4ccc6acf21belevel0_row65\" class=\"row_heading level0 row65\" >1079</th>\n",
       "                        <td id=\"T_49ab1195_3b06_11eb_bb5f_4ccc6acf21berow65_col0\" class=\"data row65 col0\" >0.516580</td>\n",
       "                        <td id=\"T_49ab1195_3b06_11eb_bb5f_4ccc6acf21berow65_col1\" class=\"data row65 col1\" >0.523732</td>\n",
       "                        <td id=\"T_49ab1195_3b06_11eb_bb5f_4ccc6acf21berow65_col2\" class=\"data row65 col2\" >0.207329</td>\n",
       "                        <td id=\"T_49ab1195_3b06_11eb_bb5f_4ccc6acf21berow65_col3\" class=\"data row65 col3\" >0.865494</td>\n",
       "                        <td id=\"T_49ab1195_3b06_11eb_bb5f_4ccc6acf21berow65_col4\" class=\"data row65 col4\" >One</td>\n",
       "                        <td id=\"T_49ab1195_3b06_11eb_bb5f_4ccc6acf21berow65_col5\" class=\"data row65 col5\" >One</td>\n",
       "                        <td id=\"T_49ab1195_3b06_11eb_bb5f_4ccc6acf21berow65_col6\" class=\"data row65 col6\" >0.276860</td>\n",
       "            </tr>\n",
       "            <tr>\n",
       "                        <th id=\"T_49ab1195_3b06_11eb_bb5f_4ccc6acf21belevel0_row66\" class=\"row_heading level0 row66\" >1224</th>\n",
       "                        <td id=\"T_49ab1195_3b06_11eb_bb5f_4ccc6acf21berow66_col0\" class=\"data row66 col0\" >0.527217</td>\n",
       "                        <td id=\"T_49ab1195_3b06_11eb_bb5f_4ccc6acf21berow66_col1\" class=\"data row66 col1\" >0.701976</td>\n",
       "                        <td id=\"T_49ab1195_3b06_11eb_bb5f_4ccc6acf21berow66_col2\" class=\"data row66 col2\" >0.005829</td>\n",
       "                        <td id=\"T_49ab1195_3b06_11eb_bb5f_4ccc6acf21berow66_col3\" class=\"data row66 col3\" >0.196123</td>\n",
       "                        <td id=\"T_49ab1195_3b06_11eb_bb5f_4ccc6acf21berow66_col4\" class=\"data row66 col4\" >One</td>\n",
       "                        <td id=\"T_49ab1195_3b06_11eb_bb5f_4ccc6acf21berow66_col5\" class=\"data row66 col5\" >One</td>\n",
       "                        <td id=\"T_49ab1195_3b06_11eb_bb5f_4ccc6acf21berow66_col6\" class=\"data row66 col6\" >0.277266</td>\n",
       "            </tr>\n",
       "            <tr>\n",
       "                        <th id=\"T_49ab1195_3b06_11eb_bb5f_4ccc6acf21belevel0_row67\" class=\"row_heading level0 row67\" >1285</th>\n",
       "                        <td id=\"T_49ab1195_3b06_11eb_bb5f_4ccc6acf21berow67_col0\" class=\"data row67 col0\" >0.529123</td>\n",
       "                        <td id=\"T_49ab1195_3b06_11eb_bb5f_4ccc6acf21berow67_col1\" class=\"data row67 col1\" >0.698182</td>\n",
       "                        <td id=\"T_49ab1195_3b06_11eb_bb5f_4ccc6acf21berow67_col2\" class=\"data row67 col2\" >0.005906</td>\n",
       "                        <td id=\"T_49ab1195_3b06_11eb_bb5f_4ccc6acf21berow67_col3\" class=\"data row67 col3\" >0.210580</td>\n",
       "                        <td id=\"T_49ab1195_3b06_11eb_bb5f_4ccc6acf21berow67_col4\" class=\"data row67 col4\" >One</td>\n",
       "                        <td id=\"T_49ab1195_3b06_11eb_bb5f_4ccc6acf21berow67_col5\" class=\"data row67 col5\" >One</td>\n",
       "                        <td id=\"T_49ab1195_3b06_11eb_bb5f_4ccc6acf21berow67_col6\" class=\"data row67 col6\" >0.277478</td>\n",
       "            </tr>\n",
       "            <tr>\n",
       "                        <th id=\"T_49ab1195_3b06_11eb_bb5f_4ccc6acf21belevel0_row68\" class=\"row_heading level0 row68\" >915</th>\n",
       "                        <td id=\"T_49ab1195_3b06_11eb_bb5f_4ccc6acf21berow68_col0\" class=\"data row68 col0\" >0.381708</td>\n",
       "                        <td id=\"T_49ab1195_3b06_11eb_bb5f_4ccc6acf21berow68_col1\" class=\"data row68 col1\" >0.278435</td>\n",
       "                        <td id=\"T_49ab1195_3b06_11eb_bb5f_4ccc6acf21berow68_col2\" class=\"data row68 col2\" >0.490439</td>\n",
       "                        <td id=\"T_49ab1195_3b06_11eb_bb5f_4ccc6acf21berow68_col3\" class=\"data row68 col3\" >0.790243</td>\n",
       "                        <td id=\"T_49ab1195_3b06_11eb_bb5f_4ccc6acf21berow68_col4\" class=\"data row68 col4\" >One</td>\n",
       "                        <td id=\"T_49ab1195_3b06_11eb_bb5f_4ccc6acf21berow68_col5\" class=\"data row68 col5\" >One</td>\n",
       "                        <td id=\"T_49ab1195_3b06_11eb_bb5f_4ccc6acf21berow68_col6\" class=\"data row68 col6\" >0.277675</td>\n",
       "            </tr>\n",
       "            <tr>\n",
       "                        <th id=\"T_49ab1195_3b06_11eb_bb5f_4ccc6acf21belevel0_row69\" class=\"row_heading level0 row69\" >1188</th>\n",
       "                        <td id=\"T_49ab1195_3b06_11eb_bb5f_4ccc6acf21berow69_col0\" class=\"data row69 col0\" >0.290043</td>\n",
       "                        <td id=\"T_49ab1195_3b06_11eb_bb5f_4ccc6acf21berow69_col1\" class=\"data row69 col1\" >0.490205</td>\n",
       "                        <td id=\"T_49ab1195_3b06_11eb_bb5f_4ccc6acf21berow69_col2\" class=\"data row69 col2\" >0.344269</td>\n",
       "                        <td id=\"T_49ab1195_3b06_11eb_bb5f_4ccc6acf21berow69_col3\" class=\"data row69 col3\" >0.855264</td>\n",
       "                        <td id=\"T_49ab1195_3b06_11eb_bb5f_4ccc6acf21berow69_col4\" class=\"data row69 col4\" >One</td>\n",
       "                        <td id=\"T_49ab1195_3b06_11eb_bb5f_4ccc6acf21berow69_col5\" class=\"data row69 col5\" >One</td>\n",
       "                        <td id=\"T_49ab1195_3b06_11eb_bb5f_4ccc6acf21berow69_col6\" class=\"data row69 col6\" >0.278136</td>\n",
       "            </tr>\n",
       "            <tr>\n",
       "                        <th id=\"T_49ab1195_3b06_11eb_bb5f_4ccc6acf21belevel0_row70\" class=\"row_heading level0 row70\" >1117</th>\n",
       "                        <td id=\"T_49ab1195_3b06_11eb_bb5f_4ccc6acf21berow70_col0\" class=\"data row70 col0\" >0.364465</td>\n",
       "                        <td id=\"T_49ab1195_3b06_11eb_bb5f_4ccc6acf21berow70_col1\" class=\"data row70 col1\" >0.552768</td>\n",
       "                        <td id=\"T_49ab1195_3b06_11eb_bb5f_4ccc6acf21berow70_col2\" class=\"data row70 col2\" >0.215413</td>\n",
       "                        <td id=\"T_49ab1195_3b06_11eb_bb5f_4ccc6acf21berow70_col3\" class=\"data row70 col3\" >0.713582</td>\n",
       "                        <td id=\"T_49ab1195_3b06_11eb_bb5f_4ccc6acf21berow70_col4\" class=\"data row70 col4\" >One</td>\n",
       "                        <td id=\"T_49ab1195_3b06_11eb_bb5f_4ccc6acf21berow70_col5\" class=\"data row70 col5\" >One</td>\n",
       "                        <td id=\"T_49ab1195_3b06_11eb_bb5f_4ccc6acf21berow70_col6\" class=\"data row70 col6\" >0.278694</td>\n",
       "            </tr>\n",
       "            <tr>\n",
       "                        <th id=\"T_49ab1195_3b06_11eb_bb5f_4ccc6acf21belevel0_row71\" class=\"row_heading level0 row71\" >1059</th>\n",
       "                        <td id=\"T_49ab1195_3b06_11eb_bb5f_4ccc6acf21berow71_col0\" class=\"data row71 col0\" >0.274870</td>\n",
       "                        <td id=\"T_49ab1195_3b06_11eb_bb5f_4ccc6acf21berow71_col1\" class=\"data row71 col1\" >0.245451</td>\n",
       "                        <td id=\"T_49ab1195_3b06_11eb_bb5f_4ccc6acf21berow71_col2\" class=\"data row71 col2\" >0.729291</td>\n",
       "                        <td id=\"T_49ab1195_3b06_11eb_bb5f_4ccc6acf21berow71_col3\" class=\"data row71 col3\" >0.691242</td>\n",
       "                        <td id=\"T_49ab1195_3b06_11eb_bb5f_4ccc6acf21berow71_col4\" class=\"data row71 col4\" >One</td>\n",
       "                        <td id=\"T_49ab1195_3b06_11eb_bb5f_4ccc6acf21berow71_col5\" class=\"data row71 col5\" >One</td>\n",
       "                        <td id=\"T_49ab1195_3b06_11eb_bb5f_4ccc6acf21berow71_col6\" class=\"data row71 col6\" >0.281377</td>\n",
       "            </tr>\n",
       "            <tr>\n",
       "                        <th id=\"T_49ab1195_3b06_11eb_bb5f_4ccc6acf21belevel0_row72\" class=\"row_heading level0 row72\" >1356</th>\n",
       "                        <td id=\"T_49ab1195_3b06_11eb_bb5f_4ccc6acf21berow72_col0\" class=\"data row72 col0\" >0.213710</td>\n",
       "                        <td id=\"T_49ab1195_3b06_11eb_bb5f_4ccc6acf21berow72_col1\" class=\"data row72 col1\" >0.624778</td>\n",
       "                        <td id=\"T_49ab1195_3b06_11eb_bb5f_4ccc6acf21berow72_col2\" class=\"data row72 col2\" >0.265206</td>\n",
       "                        <td id=\"T_49ab1195_3b06_11eb_bb5f_4ccc6acf21berow72_col3\" class=\"data row72 col3\" >0.717815</td>\n",
       "                        <td id=\"T_49ab1195_3b06_11eb_bb5f_4ccc6acf21berow72_col4\" class=\"data row72 col4\" >One</td>\n",
       "                        <td id=\"T_49ab1195_3b06_11eb_bb5f_4ccc6acf21berow72_col5\" class=\"data row72 col5\" >One</td>\n",
       "                        <td id=\"T_49ab1195_3b06_11eb_bb5f_4ccc6acf21berow72_col6\" class=\"data row72 col6\" >0.282164</td>\n",
       "            </tr>\n",
       "            <tr>\n",
       "                        <th id=\"T_49ab1195_3b06_11eb_bb5f_4ccc6acf21belevel0_row73\" class=\"row_heading level0 row73\" >914</th>\n",
       "                        <td id=\"T_49ab1195_3b06_11eb_bb5f_4ccc6acf21berow73_col0\" class=\"data row73 col0\" >0.325055</td>\n",
       "                        <td id=\"T_49ab1195_3b06_11eb_bb5f_4ccc6acf21berow73_col1\" class=\"data row73 col1\" >0.486411</td>\n",
       "                        <td id=\"T_49ab1195_3b06_11eb_bb5f_4ccc6acf21berow73_col2\" class=\"data row73 col2\" >0.372469</td>\n",
       "                        <td id=\"T_49ab1195_3b06_11eb_bb5f_4ccc6acf21berow73_col3\" class=\"data row73 col3\" >0.777427</td>\n",
       "                        <td id=\"T_49ab1195_3b06_11eb_bb5f_4ccc6acf21berow73_col4\" class=\"data row73 col4\" >One</td>\n",
       "                        <td id=\"T_49ab1195_3b06_11eb_bb5f_4ccc6acf21berow73_col5\" class=\"data row73 col5\" >One</td>\n",
       "                        <td id=\"T_49ab1195_3b06_11eb_bb5f_4ccc6acf21berow73_col6\" class=\"data row73 col6\" >0.283957</td>\n",
       "            </tr>\n",
       "            <tr>\n",
       "                        <th id=\"T_49ab1195_3b06_11eb_bb5f_4ccc6acf21belevel0_row74\" class=\"row_heading level0 row74\" >1057</th>\n",
       "                        <td id=\"T_49ab1195_3b06_11eb_bb5f_4ccc6acf21berow74_col0\" class=\"data row74 col0\" >0.360427</td>\n",
       "                        <td id=\"T_49ab1195_3b06_11eb_bb5f_4ccc6acf21berow74_col1\" class=\"data row74 col1\" >0.561286</td>\n",
       "                        <td id=\"T_49ab1195_3b06_11eb_bb5f_4ccc6acf21berow74_col2\" class=\"data row74 col2\" >0.235714</td>\n",
       "                        <td id=\"T_49ab1195_3b06_11eb_bb5f_4ccc6acf21berow74_col3\" class=\"data row74 col3\" >0.678069</td>\n",
       "                        <td id=\"T_49ab1195_3b06_11eb_bb5f_4ccc6acf21berow74_col4\" class=\"data row74 col4\" >One</td>\n",
       "                        <td id=\"T_49ab1195_3b06_11eb_bb5f_4ccc6acf21berow74_col5\" class=\"data row74 col5\" >One</td>\n",
       "                        <td id=\"T_49ab1195_3b06_11eb_bb5f_4ccc6acf21berow74_col6\" class=\"data row74 col6\" >0.284015</td>\n",
       "            </tr>\n",
       "            <tr>\n",
       "                        <th id=\"T_49ab1195_3b06_11eb_bb5f_4ccc6acf21belevel0_row75\" class=\"row_heading level0 row75\" >1342</th>\n",
       "                        <td id=\"T_49ab1195_3b06_11eb_bb5f_4ccc6acf21berow75_col0\" class=\"data row75 col0\" >0.381787</td>\n",
       "                        <td id=\"T_49ab1195_3b06_11eb_bb5f_4ccc6acf21berow75_col1\" class=\"data row75 col1\" >0.297481</td>\n",
       "                        <td id=\"T_49ab1195_3b06_11eb_bb5f_4ccc6acf21berow75_col2\" class=\"data row75 col2\" >0.480582</td>\n",
       "                        <td id=\"T_49ab1195_3b06_11eb_bb5f_4ccc6acf21berow75_col3\" class=\"data row75 col3\" >0.887476</td>\n",
       "                        <td id=\"T_49ab1195_3b06_11eb_bb5f_4ccc6acf21berow75_col4\" class=\"data row75 col4\" >One</td>\n",
       "                        <td id=\"T_49ab1195_3b06_11eb_bb5f_4ccc6acf21berow75_col5\" class=\"data row75 col5\" >One</td>\n",
       "                        <td id=\"T_49ab1195_3b06_11eb_bb5f_4ccc6acf21berow75_col6\" class=\"data row75 col6\" >0.285977</td>\n",
       "            </tr>\n",
       "            <tr>\n",
       "                        <th id=\"T_49ab1195_3b06_11eb_bb5f_4ccc6acf21belevel0_row76\" class=\"row_heading level0 row76\" >1349</th>\n",
       "                        <td id=\"T_49ab1195_3b06_11eb_bb5f_4ccc6acf21berow76_col0\" class=\"data row76 col0\" >0.393527</td>\n",
       "                        <td id=\"T_49ab1195_3b06_11eb_bb5f_4ccc6acf21berow76_col1\" class=\"data row76 col1\" >0.434688</td>\n",
       "                        <td id=\"T_49ab1195_3b06_11eb_bb5f_4ccc6acf21berow76_col2\" class=\"data row76 col2\" >0.301303</td>\n",
       "                        <td id=\"T_49ab1195_3b06_11eb_bb5f_4ccc6acf21berow76_col3\" class=\"data row76 col3\" >0.859261</td>\n",
       "                        <td id=\"T_49ab1195_3b06_11eb_bb5f_4ccc6acf21berow76_col4\" class=\"data row76 col4\" >One</td>\n",
       "                        <td id=\"T_49ab1195_3b06_11eb_bb5f_4ccc6acf21berow76_col5\" class=\"data row76 col5\" >One</td>\n",
       "                        <td id=\"T_49ab1195_3b06_11eb_bb5f_4ccc6acf21berow76_col6\" class=\"data row76 col6\" >0.286178</td>\n",
       "            </tr>\n",
       "            <tr>\n",
       "                        <th id=\"T_49ab1195_3b06_11eb_bb5f_4ccc6acf21belevel0_row77\" class=\"row_heading level0 row77\" >860</th>\n",
       "                        <td id=\"T_49ab1195_3b06_11eb_bb5f_4ccc6acf21berow77_col0\" class=\"data row77 col0\" >0.258284</td>\n",
       "                        <td id=\"T_49ab1195_3b06_11eb_bb5f_4ccc6acf21berow77_col1\" class=\"data row77 col1\" >0.616029</td>\n",
       "                        <td id=\"T_49ab1195_3b06_11eb_bb5f_4ccc6acf21berow77_col2\" class=\"data row77 col2\" >0.234680</td>\n",
       "                        <td id=\"T_49ab1195_3b06_11eb_bb5f_4ccc6acf21berow77_col3\" class=\"data row77 col3\" >0.684307</td>\n",
       "                        <td id=\"T_49ab1195_3b06_11eb_bb5f_4ccc6acf21berow77_col4\" class=\"data row77 col4\" >One</td>\n",
       "                        <td id=\"T_49ab1195_3b06_11eb_bb5f_4ccc6acf21berow77_col5\" class=\"data row77 col5\" >One</td>\n",
       "                        <td id=\"T_49ab1195_3b06_11eb_bb5f_4ccc6acf21berow77_col6\" class=\"data row77 col6\" >0.288338</td>\n",
       "            </tr>\n",
       "            <tr>\n",
       "                        <th id=\"T_49ab1195_3b06_11eb_bb5f_4ccc6acf21belevel0_row78\" class=\"row_heading level0 row78\" >1299</th>\n",
       "                        <td id=\"T_49ab1195_3b06_11eb_bb5f_4ccc6acf21berow78_col0\" class=\"data row78 col0\" >0.429937</td>\n",
       "                        <td id=\"T_49ab1195_3b06_11eb_bb5f_4ccc6acf21berow78_col1\" class=\"data row78 col1\" >0.597676</td>\n",
       "                        <td id=\"T_49ab1195_3b06_11eb_bb5f_4ccc6acf21berow78_col2\" class=\"data row78 col2\" >0.116307</td>\n",
       "                        <td id=\"T_49ab1195_3b06_11eb_bb5f_4ccc6acf21berow78_col3\" class=\"data row78 col3\" >0.661256</td>\n",
       "                        <td id=\"T_49ab1195_3b06_11eb_bb5f_4ccc6acf21berow78_col4\" class=\"data row78 col4\" >One</td>\n",
       "                        <td id=\"T_49ab1195_3b06_11eb_bb5f_4ccc6acf21berow78_col5\" class=\"data row78 col5\" >One</td>\n",
       "                        <td id=\"T_49ab1195_3b06_11eb_bb5f_4ccc6acf21berow78_col6\" class=\"data row78 col6\" >0.293778</td>\n",
       "            </tr>\n",
       "            <tr>\n",
       "                        <th id=\"T_49ab1195_3b06_11eb_bb5f_4ccc6acf21belevel0_row79\" class=\"row_heading level0 row79\" >1242</th>\n",
       "                        <td id=\"T_49ab1195_3b06_11eb_bb5f_4ccc6acf21berow79_col0\" class=\"data row79 col0\" >0.247842</td>\n",
       "                        <td id=\"T_49ab1195_3b06_11eb_bb5f_4ccc6acf21berow79_col1\" class=\"data row79 col1\" >0.291831</td>\n",
       "                        <td id=\"T_49ab1195_3b06_11eb_bb5f_4ccc6acf21berow79_col2\" class=\"data row79 col2\" >0.662446</td>\n",
       "                        <td id=\"T_49ab1195_3b06_11eb_bb5f_4ccc6acf21berow79_col3\" class=\"data row79 col3\" >0.701941</td>\n",
       "                        <td id=\"T_49ab1195_3b06_11eb_bb5f_4ccc6acf21berow79_col4\" class=\"data row79 col4\" >One</td>\n",
       "                        <td id=\"T_49ab1195_3b06_11eb_bb5f_4ccc6acf21berow79_col5\" class=\"data row79 col5\" >One</td>\n",
       "                        <td id=\"T_49ab1195_3b06_11eb_bb5f_4ccc6acf21berow79_col6\" class=\"data row79 col6\" >0.295993</td>\n",
       "            </tr>\n",
       "            <tr>\n",
       "                        <th id=\"T_49ab1195_3b06_11eb_bb5f_4ccc6acf21belevel0_row80\" class=\"row_heading level0 row80\" >1362</th>\n",
       "                        <td id=\"T_49ab1195_3b06_11eb_bb5f_4ccc6acf21berow80_col0\" class=\"data row80 col0\" >0.351578</td>\n",
       "                        <td id=\"T_49ab1195_3b06_11eb_bb5f_4ccc6acf21berow80_col1\" class=\"data row80 col1\" >0.574989</td>\n",
       "                        <td id=\"T_49ab1195_3b06_11eb_bb5f_4ccc6acf21berow80_col2\" class=\"data row80 col2\" >0.229660</td>\n",
       "                        <td id=\"T_49ab1195_3b06_11eb_bb5f_4ccc6acf21berow80_col3\" class=\"data row80 col3\" >0.624694</td>\n",
       "                        <td id=\"T_49ab1195_3b06_11eb_bb5f_4ccc6acf21berow80_col4\" class=\"data row80 col4\" >One</td>\n",
       "                        <td id=\"T_49ab1195_3b06_11eb_bb5f_4ccc6acf21berow80_col5\" class=\"data row80 col5\" >One</td>\n",
       "                        <td id=\"T_49ab1195_3b06_11eb_bb5f_4ccc6acf21berow80_col6\" class=\"data row80 col6\" >0.296703</td>\n",
       "            </tr>\n",
       "            <tr>\n",
       "                        <th id=\"T_49ab1195_3b06_11eb_bb5f_4ccc6acf21belevel0_row81\" class=\"row_heading level0 row81\" >1265</th>\n",
       "                        <td id=\"T_49ab1195_3b06_11eb_bb5f_4ccc6acf21berow81_col0\" class=\"data row81 col0\" >0.324211</td>\n",
       "                        <td id=\"T_49ab1195_3b06_11eb_bb5f_4ccc6acf21berow81_col1\" class=\"data row81 col1\" >0.631745</td>\n",
       "                        <td id=\"T_49ab1195_3b06_11eb_bb5f_4ccc6acf21berow81_col2\" class=\"data row81 col2\" >0.191863</td>\n",
       "                        <td id=\"T_49ab1195_3b06_11eb_bb5f_4ccc6acf21berow81_col3\" class=\"data row81 col3\" >0.501232</td>\n",
       "                        <td id=\"T_49ab1195_3b06_11eb_bb5f_4ccc6acf21berow81_col4\" class=\"data row81 col4\" >One</td>\n",
       "                        <td id=\"T_49ab1195_3b06_11eb_bb5f_4ccc6acf21berow81_col5\" class=\"data row81 col5\" >One</td>\n",
       "                        <td id=\"T_49ab1195_3b06_11eb_bb5f_4ccc6acf21berow81_col6\" class=\"data row81 col6\" >0.303496</td>\n",
       "            </tr>\n",
       "            <tr>\n",
       "                        <th id=\"T_49ab1195_3b06_11eb_bb5f_4ccc6acf21belevel0_row82\" class=\"row_heading level0 row82\" >804</th>\n",
       "                        <td id=\"T_49ab1195_3b06_11eb_bb5f_4ccc6acf21berow82_col0\" class=\"data row82 col0\" >0.487632</td>\n",
       "                        <td id=\"T_49ab1195_3b06_11eb_bb5f_4ccc6acf21berow82_col1\" class=\"data row82 col1\" >0.630353</td>\n",
       "                        <td id=\"T_49ab1195_3b06_11eb_bb5f_4ccc6acf21berow82_col2\" class=\"data row82 col2\" >0.081866</td>\n",
       "                        <td id=\"T_49ab1195_3b06_11eb_bb5f_4ccc6acf21berow82_col3\" class=\"data row82 col3\" >0.512171</td>\n",
       "                        <td id=\"T_49ab1195_3b06_11eb_bb5f_4ccc6acf21berow82_col4\" class=\"data row82 col4\" >One</td>\n",
       "                        <td id=\"T_49ab1195_3b06_11eb_bb5f_4ccc6acf21berow82_col5\" class=\"data row82 col5\" >One</td>\n",
       "                        <td id=\"T_49ab1195_3b06_11eb_bb5f_4ccc6acf21berow82_col6\" class=\"data row82 col6\" >0.304613</td>\n",
       "            </tr>\n",
       "            <tr>\n",
       "                        <th id=\"T_49ab1195_3b06_11eb_bb5f_4ccc6acf21belevel0_row83\" class=\"row_heading level0 row83\" >982</th>\n",
       "                        <td id=\"T_49ab1195_3b06_11eb_bb5f_4ccc6acf21berow83_col0\" class=\"data row83 col0\" >0.254138</td>\n",
       "                        <td id=\"T_49ab1195_3b06_11eb_bb5f_4ccc6acf21berow83_col1\" class=\"data row83 col1\" >0.622997</td>\n",
       "                        <td id=\"T_49ab1195_3b06_11eb_bb5f_4ccc6acf21berow83_col2\" class=\"data row83 col2\" >0.234385</td>\n",
       "                        <td id=\"T_49ab1195_3b06_11eb_bb5f_4ccc6acf21berow83_col3\" class=\"data row83 col3\" >0.667376</td>\n",
       "                        <td id=\"T_49ab1195_3b06_11eb_bb5f_4ccc6acf21berow83_col4\" class=\"data row83 col4\" >One</td>\n",
       "                        <td id=\"T_49ab1195_3b06_11eb_bb5f_4ccc6acf21berow83_col5\" class=\"data row83 col5\" >One</td>\n",
       "                        <td id=\"T_49ab1195_3b06_11eb_bb5f_4ccc6acf21berow83_col6\" class=\"data row83 col6\" >0.305428</td>\n",
       "            </tr>\n",
       "            <tr>\n",
       "                        <th id=\"T_49ab1195_3b06_11eb_bb5f_4ccc6acf21belevel0_row84\" class=\"row_heading level0 row84\" >794</th>\n",
       "                        <td id=\"T_49ab1195_3b06_11eb_bb5f_4ccc6acf21berow84_col0\" class=\"data row84 col0\" >0.390693</td>\n",
       "                        <td id=\"T_49ab1195_3b06_11eb_bb5f_4ccc6acf21berow84_col1\" class=\"data row84 col1\" >0.277971</td>\n",
       "                        <td id=\"T_49ab1195_3b06_11eb_bb5f_4ccc6acf21berow84_col2\" class=\"data row84 col2\" >0.428354</td>\n",
       "                        <td id=\"T_49ab1195_3b06_11eb_bb5f_4ccc6acf21berow84_col3\" class=\"data row84 col3\" >0.792712</td>\n",
       "                        <td id=\"T_49ab1195_3b06_11eb_bb5f_4ccc6acf21berow84_col4\" class=\"data row84 col4\" >One</td>\n",
       "                        <td id=\"T_49ab1195_3b06_11eb_bb5f_4ccc6acf21berow84_col5\" class=\"data row84 col5\" >One</td>\n",
       "                        <td id=\"T_49ab1195_3b06_11eb_bb5f_4ccc6acf21berow84_col6\" class=\"data row84 col6\" >0.305781</td>\n",
       "            </tr>\n",
       "            <tr>\n",
       "                        <th id=\"T_49ab1195_3b06_11eb_bb5f_4ccc6acf21belevel0_row85\" class=\"row_heading level0 row85\" >1313</th>\n",
       "                        <td id=\"T_49ab1195_3b06_11eb_bb5f_4ccc6acf21berow85_col0\" class=\"data row85 col0\" >0.399101</td>\n",
       "                        <td id=\"T_49ab1195_3b06_11eb_bb5f_4ccc6acf21berow85_col1\" class=\"data row85 col1\" >0.241499</td>\n",
       "                        <td id=\"T_49ab1195_3b06_11eb_bb5f_4ccc6acf21berow85_col2\" class=\"data row85 col2\" >0.567954</td>\n",
       "                        <td id=\"T_49ab1195_3b06_11eb_bb5f_4ccc6acf21berow85_col3\" class=\"data row85 col3\" >0.889013</td>\n",
       "                        <td id=\"T_49ab1195_3b06_11eb_bb5f_4ccc6acf21berow85_col4\" class=\"data row85 col4\" >One</td>\n",
       "                        <td id=\"T_49ab1195_3b06_11eb_bb5f_4ccc6acf21berow85_col5\" class=\"data row85 col5\" >One</td>\n",
       "                        <td id=\"T_49ab1195_3b06_11eb_bb5f_4ccc6acf21berow85_col6\" class=\"data row85 col6\" >0.308528</td>\n",
       "            </tr>\n",
       "            <tr>\n",
       "                        <th id=\"T_49ab1195_3b06_11eb_bb5f_4ccc6acf21belevel0_row86\" class=\"row_heading level0 row86\" >1018</th>\n",
       "                        <td id=\"T_49ab1195_3b06_11eb_bb5f_4ccc6acf21berow86_col0\" class=\"data row86 col0\" >0.478410</td>\n",
       "                        <td id=\"T_49ab1195_3b06_11eb_bb5f_4ccc6acf21berow86_col1\" class=\"data row86 col1\" >0.535656</td>\n",
       "                        <td id=\"T_49ab1195_3b06_11eb_bb5f_4ccc6acf21berow86_col2\" class=\"data row86 col2\" >0.205004</td>\n",
       "                        <td id=\"T_49ab1195_3b06_11eb_bb5f_4ccc6acf21berow86_col3\" class=\"data row86 col3\" >0.837157</td>\n",
       "                        <td id=\"T_49ab1195_3b06_11eb_bb5f_4ccc6acf21berow86_col4\" class=\"data row86 col4\" >One</td>\n",
       "                        <td id=\"T_49ab1195_3b06_11eb_bb5f_4ccc6acf21berow86_col5\" class=\"data row86 col5\" >One</td>\n",
       "                        <td id=\"T_49ab1195_3b06_11eb_bb5f_4ccc6acf21berow86_col6\" class=\"data row86 col6\" >0.309562</td>\n",
       "            </tr>\n",
       "            <tr>\n",
       "                        <th id=\"T_49ab1195_3b06_11eb_bb5f_4ccc6acf21belevel0_row87\" class=\"row_heading level0 row87\" >847</th>\n",
       "                        <td id=\"T_49ab1195_3b06_11eb_bb5f_4ccc6acf21berow87_col0\" class=\"data row87 col0\" >0.328819</td>\n",
       "                        <td id=\"T_49ab1195_3b06_11eb_bb5f_4ccc6acf21berow87_col1\" class=\"data row87 col1\" >0.242042</td>\n",
       "                        <td id=\"T_49ab1195_3b06_11eb_bb5f_4ccc6acf21berow87_col2\" class=\"data row87 col2\" >0.522330</td>\n",
       "                        <td id=\"T_49ab1195_3b06_11eb_bb5f_4ccc6acf21berow87_col3\" class=\"data row87 col3\" >0.723576</td>\n",
       "                        <td id=\"T_49ab1195_3b06_11eb_bb5f_4ccc6acf21berow87_col4\" class=\"data row87 col4\" >One</td>\n",
       "                        <td id=\"T_49ab1195_3b06_11eb_bb5f_4ccc6acf21berow87_col5\" class=\"data row87 col5\" >One</td>\n",
       "                        <td id=\"T_49ab1195_3b06_11eb_bb5f_4ccc6acf21berow87_col6\" class=\"data row87 col6\" >0.310325</td>\n",
       "            </tr>\n",
       "            <tr>\n",
       "                        <th id=\"T_49ab1195_3b06_11eb_bb5f_4ccc6acf21belevel0_row88\" class=\"row_heading level0 row88\" >838</th>\n",
       "                        <td id=\"T_49ab1195_3b06_11eb_bb5f_4ccc6acf21berow88_col0\" class=\"data row88 col0\" >0.340451</td>\n",
       "                        <td id=\"T_49ab1195_3b06_11eb_bb5f_4ccc6acf21berow88_col1\" class=\"data row88 col1\" >0.633837</td>\n",
       "                        <td id=\"T_49ab1195_3b06_11eb_bb5f_4ccc6acf21berow88_col2\" class=\"data row88 col2\" >0.184630</td>\n",
       "                        <td id=\"T_49ab1195_3b06_11eb_bb5f_4ccc6acf21berow88_col3\" class=\"data row88 col3\" >0.530393</td>\n",
       "                        <td id=\"T_49ab1195_3b06_11eb_bb5f_4ccc6acf21berow88_col4\" class=\"data row88 col4\" >One</td>\n",
       "                        <td id=\"T_49ab1195_3b06_11eb_bb5f_4ccc6acf21berow88_col5\" class=\"data row88 col5\" >One</td>\n",
       "                        <td id=\"T_49ab1195_3b06_11eb_bb5f_4ccc6acf21berow88_col6\" class=\"data row88 col6\" >0.310378</td>\n",
       "            </tr>\n",
       "            <tr>\n",
       "                        <th id=\"T_49ab1195_3b06_11eb_bb5f_4ccc6acf21belevel0_row89\" class=\"row_heading level0 row89\" >1041</th>\n",
       "                        <td id=\"T_49ab1195_3b06_11eb_bb5f_4ccc6acf21berow89_col0\" class=\"data row89 col0\" >0.527545</td>\n",
       "                        <td id=\"T_49ab1195_3b06_11eb_bb5f_4ccc6acf21berow89_col1\" class=\"data row89 col1\" >0.697871</td>\n",
       "                        <td id=\"T_49ab1195_3b06_11eb_bb5f_4ccc6acf21berow89_col2\" class=\"data row89 col2\" >0.015797</td>\n",
       "                        <td id=\"T_49ab1195_3b06_11eb_bb5f_4ccc6acf21berow89_col3\" class=\"data row89 col3\" >0.248088</td>\n",
       "                        <td id=\"T_49ab1195_3b06_11eb_bb5f_4ccc6acf21berow89_col4\" class=\"data row89 col4\" >One</td>\n",
       "                        <td id=\"T_49ab1195_3b06_11eb_bb5f_4ccc6acf21berow89_col5\" class=\"data row89 col5\" >One</td>\n",
       "                        <td id=\"T_49ab1195_3b06_11eb_bb5f_4ccc6acf21berow89_col6\" class=\"data row89 col6\" >0.311240</td>\n",
       "            </tr>\n",
       "            <tr>\n",
       "                        <th id=\"T_49ab1195_3b06_11eb_bb5f_4ccc6acf21belevel0_row90\" class=\"row_heading level0 row90\" >1120</th>\n",
       "                        <td id=\"T_49ab1195_3b06_11eb_bb5f_4ccc6acf21berow90_col0\" class=\"data row90 col0\" >0.277971</td>\n",
       "                        <td id=\"T_49ab1195_3b06_11eb_bb5f_4ccc6acf21berow90_col1\" class=\"data row90 col1\" >0.231902</td>\n",
       "                        <td id=\"T_49ab1195_3b06_11eb_bb5f_4ccc6acf21berow90_col2\" class=\"data row90 col2\" >0.738962</td>\n",
       "                        <td id=\"T_49ab1195_3b06_11eb_bb5f_4ccc6acf21berow90_col3\" class=\"data row90 col3\" >0.724634</td>\n",
       "                        <td id=\"T_49ab1195_3b06_11eb_bb5f_4ccc6acf21berow90_col4\" class=\"data row90 col4\" >One</td>\n",
       "                        <td id=\"T_49ab1195_3b06_11eb_bb5f_4ccc6acf21berow90_col5\" class=\"data row90 col5\" >One</td>\n",
       "                        <td id=\"T_49ab1195_3b06_11eb_bb5f_4ccc6acf21berow90_col6\" class=\"data row90 col6\" >0.313076</td>\n",
       "            </tr>\n",
       "            <tr>\n",
       "                        <th id=\"T_49ab1195_3b06_11eb_bb5f_4ccc6acf21belevel0_row91\" class=\"row_heading level0 row91\" >1109</th>\n",
       "                        <td id=\"T_49ab1195_3b06_11eb_bb5f_4ccc6acf21berow91_col0\" class=\"data row91 col0\" >0.478372</td>\n",
       "                        <td id=\"T_49ab1195_3b06_11eb_bb5f_4ccc6acf21berow91_col1\" class=\"data row91 col1\" >0.631281</td>\n",
       "                        <td id=\"T_49ab1195_3b06_11eb_bb5f_4ccc6acf21berow91_col2\" class=\"data row91 col2\" >0.100174</td>\n",
       "                        <td id=\"T_49ab1195_3b06_11eb_bb5f_4ccc6acf21berow91_col3\" class=\"data row91 col3\" >0.532748</td>\n",
       "                        <td id=\"T_49ab1195_3b06_11eb_bb5f_4ccc6acf21berow91_col4\" class=\"data row91 col4\" >One</td>\n",
       "                        <td id=\"T_49ab1195_3b06_11eb_bb5f_4ccc6acf21berow91_col5\" class=\"data row91 col5\" >One</td>\n",
       "                        <td id=\"T_49ab1195_3b06_11eb_bb5f_4ccc6acf21berow91_col6\" class=\"data row91 col6\" >0.314822</td>\n",
       "            </tr>\n",
       "            <tr>\n",
       "                        <th id=\"T_49ab1195_3b06_11eb_bb5f_4ccc6acf21belevel0_row92\" class=\"row_heading level0 row92\" >1048</th>\n",
       "                        <td id=\"T_49ab1195_3b06_11eb_bb5f_4ccc6acf21berow92_col0\" class=\"data row92 col0\" >0.446747</td>\n",
       "                        <td id=\"T_49ab1195_3b06_11eb_bb5f_4ccc6acf21berow92_col1\" class=\"data row92 col1\" >0.632598</td>\n",
       "                        <td id=\"T_49ab1195_3b06_11eb_bb5f_4ccc6acf21berow92_col2\" class=\"data row92 col2\" >0.097999</td>\n",
       "                        <td id=\"T_49ab1195_3b06_11eb_bb5f_4ccc6acf21berow92_col3\" class=\"data row92 col3\" >0.510052</td>\n",
       "                        <td id=\"T_49ab1195_3b06_11eb_bb5f_4ccc6acf21berow92_col4\" class=\"data row92 col4\" >One</td>\n",
       "                        <td id=\"T_49ab1195_3b06_11eb_bb5f_4ccc6acf21berow92_col5\" class=\"data row92 col5\" >One</td>\n",
       "                        <td id=\"T_49ab1195_3b06_11eb_bb5f_4ccc6acf21berow92_col6\" class=\"data row92 col6\" >0.315136</td>\n",
       "            </tr>\n",
       "            <tr>\n",
       "                        <th id=\"T_49ab1195_3b06_11eb_bb5f_4ccc6acf21belevel0_row93\" class=\"row_heading level0 row93\" >1353</th>\n",
       "                        <td id=\"T_49ab1195_3b06_11eb_bb5f_4ccc6acf21berow93_col0\" class=\"data row93 col0\" >0.516195</td>\n",
       "                        <td id=\"T_49ab1195_3b06_11eb_bb5f_4ccc6acf21berow93_col1\" class=\"data row93 col1\" >0.635929</td>\n",
       "                        <td id=\"T_49ab1195_3b06_11eb_bb5f_4ccc6acf21berow93_col2\" class=\"data row93 col2\" >0.079949</td>\n",
       "                        <td id=\"T_49ab1195_3b06_11eb_bb5f_4ccc6acf21berow93_col3\" class=\"data row93 col3\" >0.518518</td>\n",
       "                        <td id=\"T_49ab1195_3b06_11eb_bb5f_4ccc6acf21berow93_col4\" class=\"data row93 col4\" >One</td>\n",
       "                        <td id=\"T_49ab1195_3b06_11eb_bb5f_4ccc6acf21berow93_col5\" class=\"data row93 col5\" >One</td>\n",
       "                        <td id=\"T_49ab1195_3b06_11eb_bb5f_4ccc6acf21berow93_col6\" class=\"data row93 col6\" >0.317429</td>\n",
       "            </tr>\n",
       "            <tr>\n",
       "                        <th id=\"T_49ab1195_3b06_11eb_bb5f_4ccc6acf21belevel0_row94\" class=\"row_heading level0 row94\" >1148</th>\n",
       "                        <td id=\"T_49ab1195_3b06_11eb_bb5f_4ccc6acf21berow94_col0\" class=\"data row94 col0\" >0.488614</td>\n",
       "                        <td id=\"T_49ab1195_3b06_11eb_bb5f_4ccc6acf21berow94_col1\" class=\"data row94 col1\" >0.491212</td>\n",
       "                        <td id=\"T_49ab1195_3b06_11eb_bb5f_4ccc6acf21berow94_col2\" class=\"data row94 col2\" >0.209618</td>\n",
       "                        <td id=\"T_49ab1195_3b06_11eb_bb5f_4ccc6acf21berow94_col3\" class=\"data row94 col3\" >0.858321</td>\n",
       "                        <td id=\"T_49ab1195_3b06_11eb_bb5f_4ccc6acf21berow94_col4\" class=\"data row94 col4\" >One</td>\n",
       "                        <td id=\"T_49ab1195_3b06_11eb_bb5f_4ccc6acf21berow94_col5\" class=\"data row94 col5\" >One</td>\n",
       "                        <td id=\"T_49ab1195_3b06_11eb_bb5f_4ccc6acf21berow94_col6\" class=\"data row94 col6\" >0.318436</td>\n",
       "            </tr>\n",
       "            <tr>\n",
       "                        <th id=\"T_49ab1195_3b06_11eb_bb5f_4ccc6acf21belevel0_row95\" class=\"row_heading level0 row95\" >865</th>\n",
       "                        <td id=\"T_49ab1195_3b06_11eb_bb5f_4ccc6acf21berow95_col0\" class=\"data row95 col0\" >0.451590</td>\n",
       "                        <td id=\"T_49ab1195_3b06_11eb_bb5f_4ccc6acf21berow95_col1\" class=\"data row95 col1\" >0.636314</td>\n",
       "                        <td id=\"T_49ab1195_3b06_11eb_bb5f_4ccc6acf21berow95_col2\" class=\"data row95 col2\" >0.086333</td>\n",
       "                        <td id=\"T_49ab1195_3b06_11eb_bb5f_4ccc6acf21berow95_col3\" class=\"data row95 col3\" >0.495358</td>\n",
       "                        <td id=\"T_49ab1195_3b06_11eb_bb5f_4ccc6acf21berow95_col4\" class=\"data row95 col4\" >One</td>\n",
       "                        <td id=\"T_49ab1195_3b06_11eb_bb5f_4ccc6acf21berow95_col5\" class=\"data row95 col5\" >One</td>\n",
       "                        <td id=\"T_49ab1195_3b06_11eb_bb5f_4ccc6acf21berow95_col6\" class=\"data row95 col6\" >0.318749</td>\n",
       "            </tr>\n",
       "            <tr>\n",
       "                        <th id=\"T_49ab1195_3b06_11eb_bb5f_4ccc6acf21belevel0_row96\" class=\"row_heading level0 row96\" >1331</th>\n",
       "                        <td id=\"T_49ab1195_3b06_11eb_bb5f_4ccc6acf21berow96_col0\" class=\"data row96 col0\" >0.524012</td>\n",
       "                        <td id=\"T_49ab1195_3b06_11eb_bb5f_4ccc6acf21berow96_col1\" class=\"data row96 col1\" >0.495857</td>\n",
       "                        <td id=\"T_49ab1195_3b06_11eb_bb5f_4ccc6acf21berow96_col2\" class=\"data row96 col2\" >0.210319</td>\n",
       "                        <td id=\"T_49ab1195_3b06_11eb_bb5f_4ccc6acf21berow96_col3\" class=\"data row96 col3\" >0.886540</td>\n",
       "                        <td id=\"T_49ab1195_3b06_11eb_bb5f_4ccc6acf21berow96_col4\" class=\"data row96 col4\" >One</td>\n",
       "                        <td id=\"T_49ab1195_3b06_11eb_bb5f_4ccc6acf21berow96_col5\" class=\"data row96 col5\" >One</td>\n",
       "                        <td id=\"T_49ab1195_3b06_11eb_bb5f_4ccc6acf21berow96_col6\" class=\"data row96 col6\" >0.318882</td>\n",
       "            </tr>\n",
       "            <tr>\n",
       "                        <th id=\"T_49ab1195_3b06_11eb_bb5f_4ccc6acf21belevel0_row97\" class=\"row_heading level0 row97\" >832</th>\n",
       "                        <td id=\"T_49ab1195_3b06_11eb_bb5f_4ccc6acf21berow97_col0\" class=\"data row97 col0\" >0.398077</td>\n",
       "                        <td id=\"T_49ab1195_3b06_11eb_bb5f_4ccc6acf21berow97_col1\" class=\"data row97 col1\" >0.266974</td>\n",
       "                        <td id=\"T_49ab1195_3b06_11eb_bb5f_4ccc6acf21berow97_col2\" class=\"data row97 col2\" >0.475379</td>\n",
       "                        <td id=\"T_49ab1195_3b06_11eb_bb5f_4ccc6acf21berow97_col3\" class=\"data row97 col3\" >0.767550</td>\n",
       "                        <td id=\"T_49ab1195_3b06_11eb_bb5f_4ccc6acf21berow97_col4\" class=\"data row97 col4\" >One</td>\n",
       "                        <td id=\"T_49ab1195_3b06_11eb_bb5f_4ccc6acf21berow97_col5\" class=\"data row97 col5\" >One</td>\n",
       "                        <td id=\"T_49ab1195_3b06_11eb_bb5f_4ccc6acf21berow97_col6\" class=\"data row97 col6\" >0.320214</td>\n",
       "            </tr>\n",
       "            <tr>\n",
       "                        <th id=\"T_49ab1195_3b06_11eb_bb5f_4ccc6acf21belevel0_row98\" class=\"row_heading level0 row98\" >926</th>\n",
       "                        <td id=\"T_49ab1195_3b06_11eb_bb5f_4ccc6acf21berow98_col0\" class=\"data row98 col0\" >0.490992</td>\n",
       "                        <td id=\"T_49ab1195_3b06_11eb_bb5f_4ccc6acf21berow98_col1\" class=\"data row98 col1\" >0.636625</td>\n",
       "                        <td id=\"T_49ab1195_3b06_11eb_bb5f_4ccc6acf21berow98_col2\" class=\"data row98 col2\" >0.095600</td>\n",
       "                        <td id=\"T_49ab1195_3b06_11eb_bb5f_4ccc6acf21berow98_col3\" class=\"data row98 col3\" >0.524637</td>\n",
       "                        <td id=\"T_49ab1195_3b06_11eb_bb5f_4ccc6acf21berow98_col4\" class=\"data row98 col4\" >One</td>\n",
       "                        <td id=\"T_49ab1195_3b06_11eb_bb5f_4ccc6acf21berow98_col5\" class=\"data row98 col5\" >One</td>\n",
       "                        <td id=\"T_49ab1195_3b06_11eb_bb5f_4ccc6acf21berow98_col6\" class=\"data row98 col6\" >0.320801</td>\n",
       "            </tr>\n",
       "            <tr>\n",
       "                        <th id=\"T_49ab1195_3b06_11eb_bb5f_4ccc6acf21belevel0_row99\" class=\"row_heading level0 row99\" >1084</th>\n",
       "                        <td id=\"T_49ab1195_3b06_11eb_bb5f_4ccc6acf21berow99_col0\" class=\"data row99 col0\" >0.401106</td>\n",
       "                        <td id=\"T_49ab1195_3b06_11eb_bb5f_4ccc6acf21berow99_col1\" class=\"data row99 col1\" >0.121562</td>\n",
       "                        <td id=\"T_49ab1195_3b06_11eb_bb5f_4ccc6acf21berow99_col2\" class=\"data row99 col2\" >0.654951</td>\n",
       "                        <td id=\"T_49ab1195_3b06_11eb_bb5f_4ccc6acf21berow99_col3\" class=\"data row99 col3\" >0.731571</td>\n",
       "                        <td id=\"T_49ab1195_3b06_11eb_bb5f_4ccc6acf21berow99_col4\" class=\"data row99 col4\" >One</td>\n",
       "                        <td id=\"T_49ab1195_3b06_11eb_bb5f_4ccc6acf21berow99_col5\" class=\"data row99 col5\" >One</td>\n",
       "                        <td id=\"T_49ab1195_3b06_11eb_bb5f_4ccc6acf21berow99_col6\" class=\"data row99 col6\" >0.320972</td>\n",
       "            </tr>\n",
       "            <tr>\n",
       "                        <th id=\"T_49ab1195_3b06_11eb_bb5f_4ccc6acf21belevel0_row100\" class=\"row_heading level0 row100\" >1263</th>\n",
       "                        <td id=\"T_49ab1195_3b06_11eb_bb5f_4ccc6acf21berow100_col0\" class=\"data row100 col0\" >0.444494</td>\n",
       "                        <td id=\"T_49ab1195_3b06_11eb_bb5f_4ccc6acf21berow100_col1\" class=\"data row100 col1\" >0.637242</td>\n",
       "                        <td id=\"T_49ab1195_3b06_11eb_bb5f_4ccc6acf21berow100_col2\" class=\"data row100 col2\" >0.069283</td>\n",
       "                        <td id=\"T_49ab1195_3b06_11eb_bb5f_4ccc6acf21berow100_col3\" class=\"data row100 col3\" >0.477718</td>\n",
       "                        <td id=\"T_49ab1195_3b06_11eb_bb5f_4ccc6acf21berow100_col4\" class=\"data row100 col4\" >One</td>\n",
       "                        <td id=\"T_49ab1195_3b06_11eb_bb5f_4ccc6acf21berow100_col5\" class=\"data row100 col5\" >One</td>\n",
       "                        <td id=\"T_49ab1195_3b06_11eb_bb5f_4ccc6acf21berow100_col6\" class=\"data row100 col6\" >0.321938</td>\n",
       "            </tr>\n",
       "            <tr>\n",
       "                        <th id=\"T_49ab1195_3b06_11eb_bb5f_4ccc6acf21belevel0_row101\" class=\"row_heading level0 row101\" >1295</th>\n",
       "                        <td id=\"T_49ab1195_3b06_11eb_bb5f_4ccc6acf21berow101_col0\" class=\"data row101 col0\" >0.151252</td>\n",
       "                        <td id=\"T_49ab1195_3b06_11eb_bb5f_4ccc6acf21berow101_col1\" class=\"data row101 col1\" >0.638870</td>\n",
       "                        <td id=\"T_49ab1195_3b06_11eb_bb5f_4ccc6acf21berow101_col2\" class=\"data row101 col2\" >0.273509</td>\n",
       "                        <td id=\"T_49ab1195_3b06_11eb_bb5f_4ccc6acf21berow101_col3\" class=\"data row101 col3\" >0.645971</td>\n",
       "                        <td id=\"T_49ab1195_3b06_11eb_bb5f_4ccc6acf21berow101_col4\" class=\"data row101 col4\" >One</td>\n",
       "                        <td id=\"T_49ab1195_3b06_11eb_bb5f_4ccc6acf21berow101_col5\" class=\"data row101 col5\" >One</td>\n",
       "                        <td id=\"T_49ab1195_3b06_11eb_bb5f_4ccc6acf21berow101_col6\" class=\"data row101 col6\" >0.322371</td>\n",
       "            </tr>\n",
       "            <tr>\n",
       "                        <th id=\"T_49ab1195_3b06_11eb_bb5f_4ccc6acf21belevel0_row102\" class=\"row_heading level0 row102\" >1080</th>\n",
       "                        <td id=\"T_49ab1195_3b06_11eb_bb5f_4ccc6acf21berow102_col0\" class=\"data row102 col0\" >0.488315</td>\n",
       "                        <td id=\"T_49ab1195_3b06_11eb_bb5f_4ccc6acf21berow102_col1\" class=\"data row102 col1\" >0.637631</td>\n",
       "                        <td id=\"T_49ab1195_3b06_11eb_bb5f_4ccc6acf21berow102_col2\" class=\"data row102 col2\" >0.074521</td>\n",
       "                        <td id=\"T_49ab1195_3b06_11eb_bb5f_4ccc6acf21berow102_col3\" class=\"data row102 col3\" >0.496413</td>\n",
       "                        <td id=\"T_49ab1195_3b06_11eb_bb5f_4ccc6acf21berow102_col4\" class=\"data row102 col4\" >One</td>\n",
       "                        <td id=\"T_49ab1195_3b06_11eb_bb5f_4ccc6acf21berow102_col5\" class=\"data row102 col5\" >One</td>\n",
       "                        <td id=\"T_49ab1195_3b06_11eb_bb5f_4ccc6acf21berow102_col6\" class=\"data row102 col6\" >0.323285</td>\n",
       "            </tr>\n",
       "            <tr>\n",
       "                        <th id=\"T_49ab1195_3b06_11eb_bb5f_4ccc6acf21belevel0_row103\" class=\"row_heading level0 row103\" >919</th>\n",
       "                        <td id=\"T_49ab1195_3b06_11eb_bb5f_4ccc6acf21berow103_col0\" class=\"data row103 col0\" >0.572386</td>\n",
       "                        <td id=\"T_49ab1195_3b06_11eb_bb5f_4ccc6acf21berow103_col1\" class=\"data row103 col1\" >0.693998</td>\n",
       "                        <td id=\"T_49ab1195_3b06_11eb_bb5f_4ccc6acf21berow103_col2\" class=\"data row103 col2\" >0.019084</td>\n",
       "                        <td id=\"T_49ab1195_3b06_11eb_bb5f_4ccc6acf21berow103_col3\" class=\"data row103 col3\" >0.268902</td>\n",
       "                        <td id=\"T_49ab1195_3b06_11eb_bb5f_4ccc6acf21berow103_col4\" class=\"data row103 col4\" >One</td>\n",
       "                        <td id=\"T_49ab1195_3b06_11eb_bb5f_4ccc6acf21berow103_col5\" class=\"data row103 col5\" >One</td>\n",
       "                        <td id=\"T_49ab1195_3b06_11eb_bb5f_4ccc6acf21berow103_col6\" class=\"data row103 col6\" >0.325219</td>\n",
       "            </tr>\n",
       "            <tr>\n",
       "                        <th id=\"T_49ab1195_3b06_11eb_bb5f_4ccc6acf21belevel0_row104\" class=\"row_heading level0 row104\" >830</th>\n",
       "                        <td id=\"T_49ab1195_3b06_11eb_bb5f_4ccc6acf21berow104_col0\" class=\"data row104 col0\" >0.403796</td>\n",
       "                        <td id=\"T_49ab1195_3b06_11eb_bb5f_4ccc6acf21berow104_col1\" class=\"data row104 col1\" >0.638559</td>\n",
       "                        <td id=\"T_49ab1195_3b06_11eb_bb5f_4ccc6acf21berow104_col2\" class=\"data row104 col2\" >0.142844</td>\n",
       "                        <td id=\"T_49ab1195_3b06_11eb_bb5f_4ccc6acf21berow104_col3\" class=\"data row104 col3\" >0.464552</td>\n",
       "                        <td id=\"T_49ab1195_3b06_11eb_bb5f_4ccc6acf21berow104_col4\" class=\"data row104 col4\" >One</td>\n",
       "                        <td id=\"T_49ab1195_3b06_11eb_bb5f_4ccc6acf21berow104_col5\" class=\"data row104 col5\" >One</td>\n",
       "                        <td id=\"T_49ab1195_3b06_11eb_bb5f_4ccc6acf21berow104_col6\" class=\"data row104 col6\" >0.326512</td>\n",
       "            </tr>\n",
       "            <tr>\n",
       "                        <th id=\"T_49ab1195_3b06_11eb_bb5f_4ccc6acf21belevel0_row105\" class=\"row_heading level0 row105\" >992</th>\n",
       "                        <td id=\"T_49ab1195_3b06_11eb_bb5f_4ccc6acf21berow105_col0\" class=\"data row105 col0\" >0.401243</td>\n",
       "                        <td id=\"T_49ab1195_3b06_11eb_bb5f_4ccc6acf21berow105_col1\" class=\"data row105 col1\" >0.520712</td>\n",
       "                        <td id=\"T_49ab1195_3b06_11eb_bb5f_4ccc6acf21berow105_col2\" class=\"data row105 col2\" >0.177651</td>\n",
       "                        <td id=\"T_49ab1195_3b06_11eb_bb5f_4ccc6acf21berow105_col3\" class=\"data row105 col3\" >0.733100</td>\n",
       "                        <td id=\"T_49ab1195_3b06_11eb_bb5f_4ccc6acf21berow105_col4\" class=\"data row105 col4\" >One</td>\n",
       "                        <td id=\"T_49ab1195_3b06_11eb_bb5f_4ccc6acf21berow105_col5\" class=\"data row105 col5\" >One</td>\n",
       "                        <td id=\"T_49ab1195_3b06_11eb_bb5f_4ccc6acf21berow105_col6\" class=\"data row105 col6\" >0.326915</td>\n",
       "            </tr>\n",
       "            <tr>\n",
       "                        <th id=\"T_49ab1195_3b06_11eb_bb5f_4ccc6acf21belevel0_row106\" class=\"row_heading level0 row106\" >1360</th>\n",
       "                        <td id=\"T_49ab1195_3b06_11eb_bb5f_4ccc6acf21berow106_col0\" class=\"data row106 col0\" >0.489991</td>\n",
       "                        <td id=\"T_49ab1195_3b06_11eb_bb5f_4ccc6acf21berow106_col1\" class=\"data row106 col1\" >0.587842</td>\n",
       "                        <td id=\"T_49ab1195_3b06_11eb_bb5f_4ccc6acf21berow106_col2\" class=\"data row106 col2\" >0.121326</td>\n",
       "                        <td id=\"T_49ab1195_3b06_11eb_bb5f_4ccc6acf21berow106_col3\" class=\"data row106 col3\" >0.704058</td>\n",
       "                        <td id=\"T_49ab1195_3b06_11eb_bb5f_4ccc6acf21berow106_col4\" class=\"data row106 col4\" >One</td>\n",
       "                        <td id=\"T_49ab1195_3b06_11eb_bb5f_4ccc6acf21berow106_col5\" class=\"data row106 col5\" >One</td>\n",
       "                        <td id=\"T_49ab1195_3b06_11eb_bb5f_4ccc6acf21berow106_col6\" class=\"data row106 col6\" >0.327723</td>\n",
       "            </tr>\n",
       "            <tr>\n",
       "                        <th id=\"T_49ab1195_3b06_11eb_bb5f_4ccc6acf21belevel0_row107\" class=\"row_heading level0 row107\" >960</th>\n",
       "                        <td id=\"T_49ab1195_3b06_11eb_bb5f_4ccc6acf21berow107_col0\" class=\"data row107 col0\" >0.345571</td>\n",
       "                        <td id=\"T_49ab1195_3b06_11eb_bb5f_4ccc6acf21berow107_col1\" class=\"data row107 col1\" >0.639334</td>\n",
       "                        <td id=\"T_49ab1195_3b06_11eb_bb5f_4ccc6acf21berow107_col2\" class=\"data row107 col2\" >0.189649</td>\n",
       "                        <td id=\"T_49ab1195_3b06_11eb_bb5f_4ccc6acf21berow107_col3\" class=\"data row107 col3\" >0.513817</td>\n",
       "                        <td id=\"T_49ab1195_3b06_11eb_bb5f_4ccc6acf21berow107_col4\" class=\"data row107 col4\" >One</td>\n",
       "                        <td id=\"T_49ab1195_3b06_11eb_bb5f_4ccc6acf21berow107_col5\" class=\"data row107 col5\" >One</td>\n",
       "                        <td id=\"T_49ab1195_3b06_11eb_bb5f_4ccc6acf21berow107_col6\" class=\"data row107 col6\" >0.329224</td>\n",
       "            </tr>\n",
       "            <tr>\n",
       "                        <th id=\"T_49ab1195_3b06_11eb_bb5f_4ccc6acf21belevel0_row108\" class=\"row_heading level0 row108\" >1039</th>\n",
       "                        <td id=\"T_49ab1195_3b06_11eb_bb5f_4ccc6acf21berow108_col0\" class=\"data row108 col0\" >0.581348</td>\n",
       "                        <td id=\"T_49ab1195_3b06_11eb_bb5f_4ccc6acf21berow108_col1\" class=\"data row108 col1\" >0.556639</td>\n",
       "                        <td id=\"T_49ab1195_3b06_11eb_bb5f_4ccc6acf21berow108_col2\" class=\"data row108 col2\" >0.128636</td>\n",
       "                        <td id=\"T_49ab1195_3b06_11eb_bb5f_4ccc6acf21berow108_col3\" class=\"data row108 col3\" >0.831278</td>\n",
       "                        <td id=\"T_49ab1195_3b06_11eb_bb5f_4ccc6acf21berow108_col4\" class=\"data row108 col4\" >One</td>\n",
       "                        <td id=\"T_49ab1195_3b06_11eb_bb5f_4ccc6acf21berow108_col5\" class=\"data row108 col5\" >One</td>\n",
       "                        <td id=\"T_49ab1195_3b06_11eb_bb5f_4ccc6acf21berow108_col6\" class=\"data row108 col6\" >0.329303</td>\n",
       "            </tr>\n",
       "            <tr>\n",
       "                        <th id=\"T_49ab1195_3b06_11eb_bb5f_4ccc6acf21belevel0_row109\" class=\"row_heading level0 row109\" >1350</th>\n",
       "                        <td id=\"T_49ab1195_3b06_11eb_bb5f_4ccc6acf21berow109_col0\" class=\"data row109 col0\" >0.492051</td>\n",
       "                        <td id=\"T_49ab1195_3b06_11eb_bb5f_4ccc6acf21berow109_col1\" class=\"data row109 col1\" >0.432907</td>\n",
       "                        <td id=\"T_49ab1195_3b06_11eb_bb5f_4ccc6acf21berow109_col2\" class=\"data row109 col2\" >0.223607</td>\n",
       "                        <td id=\"T_49ab1195_3b06_11eb_bb5f_4ccc6acf21berow109_col3\" class=\"data row109 col3\" >0.828574</td>\n",
       "                        <td id=\"T_49ab1195_3b06_11eb_bb5f_4ccc6acf21berow109_col4\" class=\"data row109 col4\" >One</td>\n",
       "                        <td id=\"T_49ab1195_3b06_11eb_bb5f_4ccc6acf21berow109_col5\" class=\"data row109 col5\" >One</td>\n",
       "                        <td id=\"T_49ab1195_3b06_11eb_bb5f_4ccc6acf21berow109_col6\" class=\"data row109 col6\" >0.331573</td>\n",
       "            </tr>\n",
       "            <tr>\n",
       "                        <th id=\"T_49ab1195_3b06_11eb_bb5f_4ccc6acf21belevel0_row110\" class=\"row_heading level0 row110\" >1045</th>\n",
       "                        <td id=\"T_49ab1195_3b06_11eb_bb5f_4ccc6acf21berow110_col0\" class=\"data row110 col0\" >0.506761</td>\n",
       "                        <td id=\"T_49ab1195_3b06_11eb_bb5f_4ccc6acf21berow110_col1\" class=\"data row110 col1\" >0.477042</td>\n",
       "                        <td id=\"T_49ab1195_3b06_11eb_bb5f_4ccc6acf21berow110_col2\" class=\"data row110 col2\" >0.187213</td>\n",
       "                        <td id=\"T_49ab1195_3b06_11eb_bb5f_4ccc6acf21berow110_col3\" class=\"data row110 col3\" >0.836334</td>\n",
       "                        <td id=\"T_49ab1195_3b06_11eb_bb5f_4ccc6acf21berow110_col4\" class=\"data row110 col4\" >One</td>\n",
       "                        <td id=\"T_49ab1195_3b06_11eb_bb5f_4ccc6acf21berow110_col5\" class=\"data row110 col5\" >One</td>\n",
       "                        <td id=\"T_49ab1195_3b06_11eb_bb5f_4ccc6acf21berow110_col6\" class=\"data row110 col6\" >0.331872</td>\n",
       "            </tr>\n",
       "            <tr>\n",
       "                        <th id=\"T_49ab1195_3b06_11eb_bb5f_4ccc6acf21belevel0_row111\" class=\"row_heading level0 row111\" >1083</th>\n",
       "                        <td id=\"T_49ab1195_3b06_11eb_bb5f_4ccc6acf21berow111_col0\" class=\"data row111 col0\" >0.457443</td>\n",
       "                        <td id=\"T_49ab1195_3b06_11eb_bb5f_4ccc6acf21berow111_col1\" class=\"data row111 col1\" >0.389003</td>\n",
       "                        <td id=\"T_49ab1195_3b06_11eb_bb5f_4ccc6acf21berow111_col2\" class=\"data row111 col2\" >0.405247</td>\n",
       "                        <td id=\"T_49ab1195_3b06_11eb_bb5f_4ccc6acf21berow111_col3\" class=\"data row111 col3\" >0.914055</td>\n",
       "                        <td id=\"T_49ab1195_3b06_11eb_bb5f_4ccc6acf21berow111_col4\" class=\"data row111 col4\" >One</td>\n",
       "                        <td id=\"T_49ab1195_3b06_11eb_bb5f_4ccc6acf21berow111_col5\" class=\"data row111 col5\" >One</td>\n",
       "                        <td id=\"T_49ab1195_3b06_11eb_bb5f_4ccc6acf21berow111_col6\" class=\"data row111 col6\" >0.331926</td>\n",
       "            </tr>\n",
       "            <tr>\n",
       "                        <th id=\"T_49ab1195_3b06_11eb_bb5f_4ccc6acf21belevel0_row112\" class=\"row_heading level0 row112\" >1102</th>\n",
       "                        <td id=\"T_49ab1195_3b06_11eb_bb5f_4ccc6acf21berow112_col0\" class=\"data row112 col0\" >0.561027</td>\n",
       "                        <td id=\"T_49ab1195_3b06_11eb_bb5f_4ccc6acf21berow112_col1\" class=\"data row112 col1\" >0.696943</td>\n",
       "                        <td id=\"T_49ab1195_3b06_11eb_bb5f_4ccc6acf21berow112_col2\" class=\"data row112 col2\" >0.021001</td>\n",
       "                        <td id=\"T_49ab1195_3b06_11eb_bb5f_4ccc6acf21berow112_col3\" class=\"data row112 col3\" >0.262082</td>\n",
       "                        <td id=\"T_49ab1195_3b06_11eb_bb5f_4ccc6acf21berow112_col4\" class=\"data row112 col4\" >One</td>\n",
       "                        <td id=\"T_49ab1195_3b06_11eb_bb5f_4ccc6acf21berow112_col5\" class=\"data row112 col5\" >One</td>\n",
       "                        <td id=\"T_49ab1195_3b06_11eb_bb5f_4ccc6acf21berow112_col6\" class=\"data row112 col6\" >0.333996</td>\n",
       "            </tr>\n",
       "            <tr>\n",
       "                        <th id=\"T_49ab1195_3b06_11eb_bb5f_4ccc6acf21belevel0_row113\" class=\"row_heading level0 row113\" >773</th>\n",
       "                        <td id=\"T_49ab1195_3b06_11eb_bb5f_4ccc6acf21berow113_col0\" class=\"data row113 col0\" >0.397847</td>\n",
       "                        <td id=\"T_49ab1195_3b06_11eb_bb5f_4ccc6acf21berow113_col1\" class=\"data row113 col1\" >0.281376</td>\n",
       "                        <td id=\"T_49ab1195_3b06_11eb_bb5f_4ccc6acf21berow113_col2\" class=\"data row113 col2\" >0.458289</td>\n",
       "                        <td id=\"T_49ab1195_3b06_11eb_bb5f_4ccc6acf21berow113_col3\" class=\"data row113 col3\" >0.831748</td>\n",
       "                        <td id=\"T_49ab1195_3b06_11eb_bb5f_4ccc6acf21berow113_col4\" class=\"data row113 col4\" >One</td>\n",
       "                        <td id=\"T_49ab1195_3b06_11eb_bb5f_4ccc6acf21berow113_col5\" class=\"data row113 col5\" >One</td>\n",
       "                        <td id=\"T_49ab1195_3b06_11eb_bb5f_4ccc6acf21berow113_col6\" class=\"data row113 col6\" >0.334218</td>\n",
       "            </tr>\n",
       "            <tr>\n",
       "                        <th id=\"T_49ab1195_3b06_11eb_bb5f_4ccc6acf21belevel0_row114\" class=\"row_heading level0 row114\" >762</th>\n",
       "                        <td id=\"T_49ab1195_3b06_11eb_bb5f_4ccc6acf21berow114_col0\" class=\"data row114 col0\" >0.407084</td>\n",
       "                        <td id=\"T_49ab1195_3b06_11eb_bb5f_4ccc6acf21berow114_col1\" class=\"data row114 col1\" >0.639566</td>\n",
       "                        <td id=\"T_49ab1195_3b06_11eb_bb5f_4ccc6acf21berow114_col2\" class=\"data row114 col2\" >0.167721</td>\n",
       "                        <td id=\"T_49ab1195_3b06_11eb_bb5f_4ccc6acf21berow114_col3\" class=\"data row114 col3\" >0.595888</td>\n",
       "                        <td id=\"T_49ab1195_3b06_11eb_bb5f_4ccc6acf21berow114_col4\" class=\"data row114 col4\" >One</td>\n",
       "                        <td id=\"T_49ab1195_3b06_11eb_bb5f_4ccc6acf21berow114_col5\" class=\"data row114 col5\" >One</td>\n",
       "                        <td id=\"T_49ab1195_3b06_11eb_bb5f_4ccc6acf21berow114_col6\" class=\"data row114 col6\" >0.335124</td>\n",
       "            </tr>\n",
       "            <tr>\n",
       "                        <th id=\"T_49ab1195_3b06_11eb_bb5f_4ccc6acf21belevel0_row115\" class=\"row_heading level0 row115\" >849</th>\n",
       "                        <td id=\"T_49ab1195_3b06_11eb_bb5f_4ccc6acf21berow115_col0\" class=\"data row115 col0\" >0.463864</td>\n",
       "                        <td id=\"T_49ab1195_3b06_11eb_bb5f_4ccc6acf21berow115_col1\" class=\"data row115 col1\" >0.365621</td>\n",
       "                        <td id=\"T_49ab1195_3b06_11eb_bb5f_4ccc6acf21berow115_col2\" class=\"data row115 col2\" >0.307287</td>\n",
       "                        <td id=\"T_49ab1195_3b06_11eb_bb5f_4ccc6acf21berow115_col3\" class=\"data row115 col3\" >0.831983</td>\n",
       "                        <td id=\"T_49ab1195_3b06_11eb_bb5f_4ccc6acf21berow115_col4\" class=\"data row115 col4\" >One</td>\n",
       "                        <td id=\"T_49ab1195_3b06_11eb_bb5f_4ccc6acf21berow115_col5\" class=\"data row115 col5\" >One</td>\n",
       "                        <td id=\"T_49ab1195_3b06_11eb_bb5f_4ccc6acf21berow115_col6\" class=\"data row115 col6\" >0.339052</td>\n",
       "            </tr>\n",
       "            <tr>\n",
       "                        <th id=\"T_49ab1195_3b06_11eb_bb5f_4ccc6acf21belevel0_row116\" class=\"row_heading level0 row116\" >782</th>\n",
       "                        <td id=\"T_49ab1195_3b06_11eb_bb5f_4ccc6acf21berow116_col0\" class=\"data row116 col0\" >0.482732</td>\n",
       "                        <td id=\"T_49ab1195_3b06_11eb_bb5f_4ccc6acf21berow116_col1\" class=\"data row116 col1\" >0.500890</td>\n",
       "                        <td id=\"T_49ab1195_3b06_11eb_bb5f_4ccc6acf21berow116_col2\" class=\"data row116 col2\" >0.207108</td>\n",
       "                        <td id=\"T_49ab1195_3b06_11eb_bb5f_4ccc6acf21berow116_col3\" class=\"data row116 col3\" >0.834217</td>\n",
       "                        <td id=\"T_49ab1195_3b06_11eb_bb5f_4ccc6acf21berow116_col4\" class=\"data row116 col4\" >One</td>\n",
       "                        <td id=\"T_49ab1195_3b06_11eb_bb5f_4ccc6acf21berow116_col5\" class=\"data row116 col5\" >One</td>\n",
       "                        <td id=\"T_49ab1195_3b06_11eb_bb5f_4ccc6acf21berow116_col6\" class=\"data row116 col6\" >0.339710</td>\n",
       "            </tr>\n",
       "            <tr>\n",
       "                        <th id=\"T_49ab1195_3b06_11eb_bb5f_4ccc6acf21belevel0_row117\" class=\"row_heading level0 row117\" >890</th>\n",
       "                        <td id=\"T_49ab1195_3b06_11eb_bb5f_4ccc6acf21berow117_col0\" class=\"data row117 col0\" >0.387859</td>\n",
       "                        <td id=\"T_49ab1195_3b06_11eb_bb5f_4ccc6acf21berow117_col1\" class=\"data row117 col1\" >0.638406</td>\n",
       "                        <td id=\"T_49ab1195_3b06_11eb_bb5f_4ccc6acf21berow117_col2\" class=\"data row117 col2\" >0.129924</td>\n",
       "                        <td id=\"T_49ab1195_3b06_11eb_bb5f_4ccc6acf21berow117_col3\" class=\"data row117 col3\" >0.575193</td>\n",
       "                        <td id=\"T_49ab1195_3b06_11eb_bb5f_4ccc6acf21berow117_col4\" class=\"data row117 col4\" >One</td>\n",
       "                        <td id=\"T_49ab1195_3b06_11eb_bb5f_4ccc6acf21berow117_col5\" class=\"data row117 col5\" >One</td>\n",
       "                        <td id=\"T_49ab1195_3b06_11eb_bb5f_4ccc6acf21berow117_col6\" class=\"data row117 col6\" >0.340072</td>\n",
       "            </tr>\n",
       "            <tr>\n",
       "                        <th id=\"T_49ab1195_3b06_11eb_bb5f_4ccc6acf21belevel0_row118\" class=\"row_heading level0 row118\" >801</th>\n",
       "                        <td id=\"T_49ab1195_3b06_11eb_bb5f_4ccc6acf21berow118_col0\" class=\"data row118 col0\" >0.441982</td>\n",
       "                        <td id=\"T_49ab1195_3b06_11eb_bb5f_4ccc6acf21berow118_col1\" class=\"data row118 col1\" >0.440110</td>\n",
       "                        <td id=\"T_49ab1195_3b06_11eb_bb5f_4ccc6acf21berow118_col2\" class=\"data row118 col2\" >0.219288</td>\n",
       "                        <td id=\"T_49ab1195_3b06_11eb_bb5f_4ccc6acf21berow118_col3\" class=\"data row118 col3\" >0.783306</td>\n",
       "                        <td id=\"T_49ab1195_3b06_11eb_bb5f_4ccc6acf21berow118_col4\" class=\"data row118 col4\" >One</td>\n",
       "                        <td id=\"T_49ab1195_3b06_11eb_bb5f_4ccc6acf21berow118_col5\" class=\"data row118 col5\" >One</td>\n",
       "                        <td id=\"T_49ab1195_3b06_11eb_bb5f_4ccc6acf21berow118_col6\" class=\"data row118 col6\" >0.340649</td>\n",
       "            </tr>\n",
       "            <tr>\n",
       "                        <th id=\"T_49ab1195_3b06_11eb_bb5f_4ccc6acf21belevel0_row119\" class=\"row_heading level0 row119\" >1368</th>\n",
       "                        <td id=\"T_49ab1195_3b06_11eb_bb5f_4ccc6acf21berow119_col0\" class=\"data row119 col0\" >0.407690</td>\n",
       "                        <td id=\"T_49ab1195_3b06_11eb_bb5f_4ccc6acf21berow119_col1\" class=\"data row119 col1\" >0.332868</td>\n",
       "                        <td id=\"T_49ab1195_3b06_11eb_bb5f_4ccc6acf21berow119_col2\" class=\"data row119 col2\" >0.506753</td>\n",
       "                        <td id=\"T_49ab1195_3b06_11eb_bb5f_4ccc6acf21berow119_col3\" class=\"data row119 col3\" >0.808350</td>\n",
       "                        <td id=\"T_49ab1195_3b06_11eb_bb5f_4ccc6acf21berow119_col4\" class=\"data row119 col4\" >One</td>\n",
       "                        <td id=\"T_49ab1195_3b06_11eb_bb5f_4ccc6acf21berow119_col5\" class=\"data row119 col5\" >One</td>\n",
       "                        <td id=\"T_49ab1195_3b06_11eb_bb5f_4ccc6acf21berow119_col6\" class=\"data row119 col6\" >0.341051</td>\n",
       "            </tr>\n",
       "            <tr>\n",
       "                        <th id=\"T_49ab1195_3b06_11eb_bb5f_4ccc6acf21belevel0_row120\" class=\"row_heading level0 row120\" >1231</th>\n",
       "                        <td id=\"T_49ab1195_3b06_11eb_bb5f_4ccc6acf21berow120_col0\" class=\"data row120 col0\" >0.451696</td>\n",
       "                        <td id=\"T_49ab1195_3b06_11eb_bb5f_4ccc6acf21berow120_col1\" class=\"data row120 col1\" >0.642664</td>\n",
       "                        <td id=\"T_49ab1195_3b06_11eb_bb5f_4ccc6acf21berow120_col2\" class=\"data row120 col2\" >0.077550</td>\n",
       "                        <td id=\"T_49ab1195_3b06_11eb_bb5f_4ccc6acf21berow120_col3\" class=\"data row120 col3\" >0.453849</td>\n",
       "                        <td id=\"T_49ab1195_3b06_11eb_bb5f_4ccc6acf21berow120_col4\" class=\"data row120 col4\" >One</td>\n",
       "                        <td id=\"T_49ab1195_3b06_11eb_bb5f_4ccc6acf21berow120_col5\" class=\"data row120 col5\" >One</td>\n",
       "                        <td id=\"T_49ab1195_3b06_11eb_bb5f_4ccc6acf21berow120_col6\" class=\"data row120 col6\" >0.341063</td>\n",
       "            </tr>\n",
       "            <tr>\n",
       "                        <th id=\"T_49ab1195_3b06_11eb_bb5f_4ccc6acf21belevel0_row121\" class=\"row_heading level0 row121\" >1317</th>\n",
       "                        <td id=\"T_49ab1195_3b06_11eb_bb5f_4ccc6acf21berow121_col0\" class=\"data row121 col0\" >0.416488</td>\n",
       "                        <td id=\"T_49ab1195_3b06_11eb_bb5f_4ccc6acf21berow121_col1\" class=\"data row121 col1\" >0.620826</td>\n",
       "                        <td id=\"T_49ab1195_3b06_11eb_bb5f_4ccc6acf21berow121_col2\" class=\"data row121 col2\" >0.123208</td>\n",
       "                        <td id=\"T_49ab1195_3b06_11eb_bb5f_4ccc6acf21berow121_col3\" class=\"data row121 col3\" >0.605763</td>\n",
       "                        <td id=\"T_49ab1195_3b06_11eb_bb5f_4ccc6acf21berow121_col4\" class=\"data row121 col4\" >One</td>\n",
       "                        <td id=\"T_49ab1195_3b06_11eb_bb5f_4ccc6acf21berow121_col5\" class=\"data row121 col5\" >One</td>\n",
       "                        <td id=\"T_49ab1195_3b06_11eb_bb5f_4ccc6acf21berow121_col6\" class=\"data row121 col6\" >0.341330</td>\n",
       "            </tr>\n",
       "            <tr>\n",
       "                        <th id=\"T_49ab1195_3b06_11eb_bb5f_4ccc6acf21belevel0_row122\" class=\"row_heading level0 row122\" >1365</th>\n",
       "                        <td id=\"T_49ab1195_3b06_11eb_bb5f_4ccc6acf21berow122_col0\" class=\"data row122 col0\" >0.182990</td>\n",
       "                        <td id=\"T_49ab1195_3b06_11eb_bb5f_4ccc6acf21berow122_col1\" class=\"data row122 col1\" >0.297871</td>\n",
       "                        <td id=\"T_49ab1195_3b06_11eb_bb5f_4ccc6acf21berow122_col2\" class=\"data row122 col2\" >0.696698</td>\n",
       "                        <td id=\"T_49ab1195_3b06_11eb_bb5f_4ccc6acf21berow122_col3\" class=\"data row122 col3\" >0.729220</td>\n",
       "                        <td id=\"T_49ab1195_3b06_11eb_bb5f_4ccc6acf21berow122_col4\" class=\"data row122 col4\" >One</td>\n",
       "                        <td id=\"T_49ab1195_3b06_11eb_bb5f_4ccc6acf21berow122_col5\" class=\"data row122 col5\" >One</td>\n",
       "                        <td id=\"T_49ab1195_3b06_11eb_bb5f_4ccc6acf21berow122_col6\" class=\"data row122 col6\" >0.343046</td>\n",
       "            </tr>\n",
       "            <tr>\n",
       "                        <th id=\"T_49ab1195_3b06_11eb_bb5f_4ccc6acf21belevel0_row123\" class=\"row_heading level0 row123\" >868</th>\n",
       "                        <td id=\"T_49ab1195_3b06_11eb_bb5f_4ccc6acf21berow123_col0\" class=\"data row123 col0\" >0.183350</td>\n",
       "                        <td id=\"T_49ab1195_3b06_11eb_bb5f_4ccc6acf21berow123_col1\" class=\"data row123 col1\" >0.643670</td>\n",
       "                        <td id=\"T_49ab1195_3b06_11eb_bb5f_4ccc6acf21berow123_col2\" class=\"data row123 col2\" >0.251955</td>\n",
       "                        <td id=\"T_49ab1195_3b06_11eb_bb5f_4ccc6acf21berow123_col3\" class=\"data row123 col3\" >0.671140</td>\n",
       "                        <td id=\"T_49ab1195_3b06_11eb_bb5f_4ccc6acf21berow123_col4\" class=\"data row123 col4\" >One</td>\n",
       "                        <td id=\"T_49ab1195_3b06_11eb_bb5f_4ccc6acf21berow123_col5\" class=\"data row123 col5\" >One</td>\n",
       "                        <td id=\"T_49ab1195_3b06_11eb_bb5f_4ccc6acf21berow123_col6\" class=\"data row123 col6\" >0.344691</td>\n",
       "            </tr>\n",
       "            <tr>\n",
       "                        <th id=\"T_49ab1195_3b06_11eb_bb5f_4ccc6acf21belevel0_row124\" class=\"row_heading level0 row124\" >1106</th>\n",
       "                        <td id=\"T_49ab1195_3b06_11eb_bb5f_4ccc6acf21berow124_col0\" class=\"data row124 col0\" >0.498684</td>\n",
       "                        <td id=\"T_49ab1195_3b06_11eb_bb5f_4ccc6acf21berow124_col1\" class=\"data row124 col1\" >0.472320</td>\n",
       "                        <td id=\"T_49ab1195_3b06_11eb_bb5f_4ccc6acf21berow124_col2\" class=\"data row124 col2\" >0.186733</td>\n",
       "                        <td id=\"T_49ab1195_3b06_11eb_bb5f_4ccc6acf21berow124_col3\" class=\"data row124 col3\" >0.829867</td>\n",
       "                        <td id=\"T_49ab1195_3b06_11eb_bb5f_4ccc6acf21berow124_col4\" class=\"data row124 col4\" >One</td>\n",
       "                        <td id=\"T_49ab1195_3b06_11eb_bb5f_4ccc6acf21berow124_col5\" class=\"data row124 col5\" >One</td>\n",
       "                        <td id=\"T_49ab1195_3b06_11eb_bb5f_4ccc6acf21berow124_col6\" class=\"data row124 col6\" >0.345093</td>\n",
       "            </tr>\n",
       "            <tr>\n",
       "                        <th id=\"T_49ab1195_3b06_11eb_bb5f_4ccc6acf21belevel0_row125\" class=\"row_heading level0 row125\" >986</th>\n",
       "                        <td id=\"T_49ab1195_3b06_11eb_bb5f_4ccc6acf21berow125_col0\" class=\"data row125 col0\" >0.568805</td>\n",
       "                        <td id=\"T_49ab1195_3b06_11eb_bb5f_4ccc6acf21berow125_col1\" class=\"data row125 col1\" >0.645684</td>\n",
       "                        <td id=\"T_49ab1195_3b06_11eb_bb5f_4ccc6acf21berow125_col2\" class=\"data row125 col2\" >0.071312</td>\n",
       "                        <td id=\"T_49ab1195_3b06_11eb_bb5f_4ccc6acf21berow125_col3\" class=\"data row125 col3\" >0.650327</td>\n",
       "                        <td id=\"T_49ab1195_3b06_11eb_bb5f_4ccc6acf21berow125_col4\" class=\"data row125 col4\" >One</td>\n",
       "                        <td id=\"T_49ab1195_3b06_11eb_bb5f_4ccc6acf21berow125_col5\" class=\"data row125 col5\" >One</td>\n",
       "                        <td id=\"T_49ab1195_3b06_11eb_bb5f_4ccc6acf21berow125_col6\" class=\"data row125 col6\" >0.352004</td>\n",
       "            </tr>\n",
       "            <tr>\n",
       "                        <th id=\"T_49ab1195_3b06_11eb_bb5f_4ccc6acf21belevel0_row126\" class=\"row_heading level0 row126\" >989</th>\n",
       "                        <td id=\"T_49ab1195_3b06_11eb_bb5f_4ccc6acf21berow126_col0\" class=\"data row126 col0\" >0.020877</td>\n",
       "                        <td id=\"T_49ab1195_3b06_11eb_bb5f_4ccc6acf21berow126_col1\" class=\"data row126 col1\" >0.845297</td>\n",
       "                        <td id=\"T_49ab1195_3b06_11eb_bb5f_4ccc6acf21berow126_col2\" class=\"data row126 col2\" >0.225047</td>\n",
       "                        <td id=\"T_49ab1195_3b06_11eb_bb5f_4ccc6acf21berow126_col3\" class=\"data row126 col3\" >0.438564</td>\n",
       "                        <td id=\"T_49ab1195_3b06_11eb_bb5f_4ccc6acf21berow126_col4\" class=\"data row126 col4\" >One</td>\n",
       "                        <td id=\"T_49ab1195_3b06_11eb_bb5f_4ccc6acf21berow126_col5\" class=\"data row126 col5\" >One</td>\n",
       "                        <td id=\"T_49ab1195_3b06_11eb_bb5f_4ccc6acf21berow126_col6\" class=\"data row126 col6\" >0.353353</td>\n",
       "            </tr>\n",
       "            <tr>\n",
       "                        <th id=\"T_49ab1195_3b06_11eb_bb5f_4ccc6acf21belevel0_row127\" class=\"row_heading level0 row127\" >967</th>\n",
       "                        <td id=\"T_49ab1195_3b06_11eb_bb5f_4ccc6acf21berow127_col0\" class=\"data row127 col0\" >0.232597</td>\n",
       "                        <td id=\"T_49ab1195_3b06_11eb_bb5f_4ccc6acf21berow127_col1\" class=\"data row127 col1\" >0.707705</td>\n",
       "                        <td id=\"T_49ab1195_3b06_11eb_bb5f_4ccc6acf21berow127_col2\" class=\"data row127 col2\" >0.199689</td>\n",
       "                        <td id=\"T_49ab1195_3b06_11eb_bb5f_4ccc6acf21berow127_col3\" class=\"data row127 col3\" >0.283477</td>\n",
       "                        <td id=\"T_49ab1195_3b06_11eb_bb5f_4ccc6acf21berow127_col4\" class=\"data row127 col4\" >One</td>\n",
       "                        <td id=\"T_49ab1195_3b06_11eb_bb5f_4ccc6acf21berow127_col5\" class=\"data row127 col5\" >One</td>\n",
       "                        <td id=\"T_49ab1195_3b06_11eb_bb5f_4ccc6acf21berow127_col6\" class=\"data row127 col6\" >0.353546</td>\n",
       "            </tr>\n",
       "            <tr>\n",
       "                        <th id=\"T_49ab1195_3b06_11eb_bb5f_4ccc6acf21belevel0_row128\" class=\"row_heading level0 row128\" >883</th>\n",
       "                        <td id=\"T_49ab1195_3b06_11eb_bb5f_4ccc6acf21berow128_col0\" class=\"data row128 col0\" >0.265503</td>\n",
       "                        <td id=\"T_49ab1195_3b06_11eb_bb5f_4ccc6acf21berow128_col1\" class=\"data row128 col1\" >0.503135</td>\n",
       "                        <td id=\"T_49ab1195_3b06_11eb_bb5f_4ccc6acf21berow128_col2\" class=\"data row128 col2\" >0.319577</td>\n",
       "                        <td id=\"T_49ab1195_3b06_11eb_bb5f_4ccc6acf21berow128_col3\" class=\"data row128 col3\" >0.831983</td>\n",
       "                        <td id=\"T_49ab1195_3b06_11eb_bb5f_4ccc6acf21berow128_col4\" class=\"data row128 col4\" >One</td>\n",
       "                        <td id=\"T_49ab1195_3b06_11eb_bb5f_4ccc6acf21berow128_col5\" class=\"data row128 col5\" >One</td>\n",
       "                        <td id=\"T_49ab1195_3b06_11eb_bb5f_4ccc6acf21berow128_col6\" class=\"data row128 col6\" >0.355442</td>\n",
       "            </tr>\n",
       "            <tr>\n",
       "                        <th id=\"T_49ab1195_3b06_11eb_bb5f_4ccc6acf21belevel0_row129\" class=\"row_heading level0 row129\" >1234</th>\n",
       "                        <td id=\"T_49ab1195_3b06_11eb_bb5f_4ccc6acf21berow129_col0\" class=\"data row129 col0\" >0.151144</td>\n",
       "                        <td id=\"T_49ab1195_3b06_11eb_bb5f_4ccc6acf21berow129_col1\" class=\"data row129 col1\" >0.649014</td>\n",
       "                        <td id=\"T_49ab1195_3b06_11eb_bb5f_4ccc6acf21berow129_col2\" class=\"data row129 col2\" >0.263361</td>\n",
       "                        <td id=\"T_49ab1195_3b06_11eb_bb5f_4ccc6acf21berow129_col3\" class=\"data row129 col3\" >0.641270</td>\n",
       "                        <td id=\"T_49ab1195_3b06_11eb_bb5f_4ccc6acf21berow129_col4\" class=\"data row129 col4\" >One</td>\n",
       "                        <td id=\"T_49ab1195_3b06_11eb_bb5f_4ccc6acf21berow129_col5\" class=\"data row129 col5\" >One</td>\n",
       "                        <td id=\"T_49ab1195_3b06_11eb_bb5f_4ccc6acf21berow129_col6\" class=\"data row129 col6\" >0.356728</td>\n",
       "            </tr>\n",
       "            <tr>\n",
       "                        <th id=\"T_49ab1195_3b06_11eb_bb5f_4ccc6acf21belevel0_row130\" class=\"row_heading level0 row130\" >769</th>\n",
       "                        <td id=\"T_49ab1195_3b06_11eb_bb5f_4ccc6acf21berow130_col0\" class=\"data row130 col0\" >0.443359</td>\n",
       "                        <td id=\"T_49ab1195_3b06_11eb_bb5f_4ccc6acf21berow130_col1\" class=\"data row130 col1\" >0.635075</td>\n",
       "                        <td id=\"T_49ab1195_3b06_11eb_bb5f_4ccc6acf21berow130_col2\" class=\"data row130 col2\" >0.149232</td>\n",
       "                        <td id=\"T_49ab1195_3b06_11eb_bb5f_4ccc6acf21berow130_col3\" class=\"data row130 col3\" >0.509470</td>\n",
       "                        <td id=\"T_49ab1195_3b06_11eb_bb5f_4ccc6acf21berow130_col4\" class=\"data row130 col4\" >One</td>\n",
       "                        <td id=\"T_49ab1195_3b06_11eb_bb5f_4ccc6acf21berow130_col5\" class=\"data row130 col5\" >One</td>\n",
       "                        <td id=\"T_49ab1195_3b06_11eb_bb5f_4ccc6acf21berow130_col6\" class=\"data row130 col6\" >0.357801</td>\n",
       "            </tr>\n",
       "            <tr>\n",
       "                        <th id=\"T_49ab1195_3b06_11eb_bb5f_4ccc6acf21belevel0_row131\" class=\"row_heading level0 row131\" >811</th>\n",
       "                        <td id=\"T_49ab1195_3b06_11eb_bb5f_4ccc6acf21berow131_col0\" class=\"data row131 col0\" >0.445573</td>\n",
       "                        <td id=\"T_49ab1195_3b06_11eb_bb5f_4ccc6acf21berow131_col1\" class=\"data row131 col1\" >0.587767</td>\n",
       "                        <td id=\"T_49ab1195_3b06_11eb_bb5f_4ccc6acf21berow131_col2\" class=\"data row131 col2\" >0.125496</td>\n",
       "                        <td id=\"T_49ab1195_3b06_11eb_bb5f_4ccc6acf21berow131_col3\" class=\"data row131 col3\" >0.678187</td>\n",
       "                        <td id=\"T_49ab1195_3b06_11eb_bb5f_4ccc6acf21berow131_col4\" class=\"data row131 col4\" >One</td>\n",
       "                        <td id=\"T_49ab1195_3b06_11eb_bb5f_4ccc6acf21berow131_col5\" class=\"data row131 col5\" >One</td>\n",
       "                        <td id=\"T_49ab1195_3b06_11eb_bb5f_4ccc6acf21berow131_col6\" class=\"data row131 col6\" >0.358286</td>\n",
       "            </tr>\n",
       "            <tr>\n",
       "                        <th id=\"T_49ab1195_3b06_11eb_bb5f_4ccc6acf21belevel0_row132\" class=\"row_heading level0 row132\" >1357</th>\n",
       "                        <td id=\"T_49ab1195_3b06_11eb_bb5f_4ccc6acf21berow132_col0\" class=\"data row132 col0\" >0.321067</td>\n",
       "                        <td id=\"T_49ab1195_3b06_11eb_bb5f_4ccc6acf21berow132_col1\" class=\"data row132 col1\" >0.500735</td>\n",
       "                        <td id=\"T_49ab1195_3b06_11eb_bb5f_4ccc6acf21berow132_col2\" class=\"data row132 col2\" >0.267974</td>\n",
       "                        <td id=\"T_49ab1195_3b06_11eb_bb5f_4ccc6acf21berow132_col3\" class=\"data row132 col3\" >0.816345</td>\n",
       "                        <td id=\"T_49ab1195_3b06_11eb_bb5f_4ccc6acf21berow132_col4\" class=\"data row132 col4\" >One</td>\n",
       "                        <td id=\"T_49ab1195_3b06_11eb_bb5f_4ccc6acf21berow132_col5\" class=\"data row132 col5\" >One</td>\n",
       "                        <td id=\"T_49ab1195_3b06_11eb_bb5f_4ccc6acf21berow132_col6\" class=\"data row132 col6\" >0.360386</td>\n",
       "            </tr>\n",
       "            <tr>\n",
       "                        <th id=\"T_49ab1195_3b06_11eb_bb5f_4ccc6acf21belevel0_row133\" class=\"row_heading level0 row133\" >774</th>\n",
       "                        <td id=\"T_49ab1195_3b06_11eb_bb5f_4ccc6acf21berow133_col0\" class=\"data row133 col0\" >0.463527</td>\n",
       "                        <td id=\"T_49ab1195_3b06_11eb_bb5f_4ccc6acf21berow133_col1\" class=\"data row133 col1\" >0.511962</td>\n",
       "                        <td id=\"T_49ab1195_3b06_11eb_bb5f_4ccc6acf21berow133_col2\" class=\"data row133 col2\" >0.214010</td>\n",
       "                        <td id=\"T_49ab1195_3b06_11eb_bb5f_4ccc6acf21berow133_col3\" class=\"data row133 col3\" >0.822930</td>\n",
       "                        <td id=\"T_49ab1195_3b06_11eb_bb5f_4ccc6acf21berow133_col4\" class=\"data row133 col4\" >One</td>\n",
       "                        <td id=\"T_49ab1195_3b06_11eb_bb5f_4ccc6acf21berow133_col5\" class=\"data row133 col5\" >One</td>\n",
       "                        <td id=\"T_49ab1195_3b06_11eb_bb5f_4ccc6acf21berow133_col6\" class=\"data row133 col6\" >0.364772</td>\n",
       "            </tr>\n",
       "            <tr>\n",
       "                        <th id=\"T_49ab1195_3b06_11eb_bb5f_4ccc6acf21belevel0_row134\" class=\"row_heading level0 row134\" >1052</th>\n",
       "                        <td id=\"T_49ab1195_3b06_11eb_bb5f_4ccc6acf21berow134_col0\" class=\"data row134 col0\" >0.333333</td>\n",
       "                        <td id=\"T_49ab1195_3b06_11eb_bb5f_4ccc6acf21berow134_col1\" class=\"data row134 col1\" >0.506233</td>\n",
       "                        <td id=\"T_49ab1195_3b06_11eb_bb5f_4ccc6acf21berow134_col2\" class=\"data row134 col2\" >0.257934</td>\n",
       "                        <td id=\"T_49ab1195_3b06_11eb_bb5f_4ccc6acf21berow134_col3\" class=\"data row134 col3\" >0.815288</td>\n",
       "                        <td id=\"T_49ab1195_3b06_11eb_bb5f_4ccc6acf21berow134_col4\" class=\"data row134 col4\" >One</td>\n",
       "                        <td id=\"T_49ab1195_3b06_11eb_bb5f_4ccc6acf21berow134_col5\" class=\"data row134 col5\" >One</td>\n",
       "                        <td id=\"T_49ab1195_3b06_11eb_bb5f_4ccc6acf21berow134_col6\" class=\"data row134 col6\" >0.364786</td>\n",
       "            </tr>\n",
       "            <tr>\n",
       "                        <th id=\"T_49ab1195_3b06_11eb_bb5f_4ccc6acf21belevel0_row135\" class=\"row_heading level0 row135\" >1330</th>\n",
       "                        <td id=\"T_49ab1195_3b06_11eb_bb5f_4ccc6acf21berow135_col0\" class=\"data row135 col0\" >0.428474</td>\n",
       "                        <td id=\"T_49ab1195_3b06_11eb_bb5f_4ccc6acf21berow135_col1\" class=\"data row135 col1\" >0.244055</td>\n",
       "                        <td id=\"T_49ab1195_3b06_11eb_bb5f_4ccc6acf21berow135_col2\" class=\"data row135 col2\" >0.486786</td>\n",
       "                        <td id=\"T_49ab1195_3b06_11eb_bb5f_4ccc6acf21berow135_col3\" class=\"data row135 col3\" >0.810820</td>\n",
       "                        <td id=\"T_49ab1195_3b06_11eb_bb5f_4ccc6acf21berow135_col4\" class=\"data row135 col4\" >One</td>\n",
       "                        <td id=\"T_49ab1195_3b06_11eb_bb5f_4ccc6acf21berow135_col5\" class=\"data row135 col5\" >One</td>\n",
       "                        <td id=\"T_49ab1195_3b06_11eb_bb5f_4ccc6acf21berow135_col6\" class=\"data row135 col6\" >0.365595</td>\n",
       "            </tr>\n",
       "            <tr>\n",
       "                        <th id=\"T_49ab1195_3b06_11eb_bb5f_4ccc6acf21belevel0_row136\" class=\"row_heading level0 row136\" >1191</th>\n",
       "                        <td id=\"T_49ab1195_3b06_11eb_bb5f_4ccc6acf21berow136_col0\" class=\"data row136 col0\" >0.322754</td>\n",
       "                        <td id=\"T_49ab1195_3b06_11eb_bb5f_4ccc6acf21berow136_col1\" class=\"data row136 col1\" >0.257840</td>\n",
       "                        <td id=\"T_49ab1195_3b06_11eb_bb5f_4ccc6acf21berow136_col2\" class=\"data row136 col2\" >0.552597</td>\n",
       "                        <td id=\"T_49ab1195_3b06_11eb_bb5f_4ccc6acf21berow136_col3\" class=\"data row136 col3\" >0.841625</td>\n",
       "                        <td id=\"T_49ab1195_3b06_11eb_bb5f_4ccc6acf21berow136_col4\" class=\"data row136 col4\" >One</td>\n",
       "                        <td id=\"T_49ab1195_3b06_11eb_bb5f_4ccc6acf21berow136_col5\" class=\"data row136 col5\" >One</td>\n",
       "                        <td id=\"T_49ab1195_3b06_11eb_bb5f_4ccc6acf21berow136_col6\" class=\"data row136 col6\" >0.366484</td>\n",
       "            </tr>\n",
       "            <tr>\n",
       "                        <th id=\"T_49ab1195_3b06_11eb_bb5f_4ccc6acf21belevel0_row137\" class=\"row_heading level0 row137\" >1250</th>\n",
       "                        <td id=\"T_49ab1195_3b06_11eb_bb5f_4ccc6acf21berow137_col0\" class=\"data row137 col0\" >0.332129</td>\n",
       "                        <td id=\"T_49ab1195_3b06_11eb_bb5f_4ccc6acf21berow137_col1\" class=\"data row137 col1\" >0.650174</td>\n",
       "                        <td id=\"T_49ab1195_3b06_11eb_bb5f_4ccc6acf21berow137_col2\" class=\"data row137 col2\" >0.166692</td>\n",
       "                        <td id=\"T_49ab1195_3b06_11eb_bb5f_4ccc6acf21berow137_col3\" class=\"data row137 col3\" >0.514053</td>\n",
       "                        <td id=\"T_49ab1195_3b06_11eb_bb5f_4ccc6acf21berow137_col4\" class=\"data row137 col4\" >One</td>\n",
       "                        <td id=\"T_49ab1195_3b06_11eb_bb5f_4ccc6acf21berow137_col5\" class=\"data row137 col5\" >One</td>\n",
       "                        <td id=\"T_49ab1195_3b06_11eb_bb5f_4ccc6acf21berow137_col6\" class=\"data row137 col6\" >0.368538</td>\n",
       "            </tr>\n",
       "            <tr>\n",
       "                        <th id=\"T_49ab1195_3b06_11eb_bb5f_4ccc6acf21belevel0_row138\" class=\"row_heading level0 row138\" >1021</th>\n",
       "                        <td id=\"T_49ab1195_3b06_11eb_bb5f_4ccc6acf21berow138_col0\" class=\"data row138 col0\" >0.415587</td>\n",
       "                        <td id=\"T_49ab1195_3b06_11eb_bb5f_4ccc6acf21berow138_col1\" class=\"data row138 col1\" >0.595356</td>\n",
       "                        <td id=\"T_49ab1195_3b06_11eb_bb5f_4ccc6acf21berow138_col2\" class=\"data row138 col2\" >0.207218</td>\n",
       "                        <td id=\"T_49ab1195_3b06_11eb_bb5f_4ccc6acf21berow138_col3\" class=\"data row138 col3\" >0.650209</td>\n",
       "                        <td id=\"T_49ab1195_3b06_11eb_bb5f_4ccc6acf21berow138_col4\" class=\"data row138 col4\" >One</td>\n",
       "                        <td id=\"T_49ab1195_3b06_11eb_bb5f_4ccc6acf21berow138_col5\" class=\"data row138 col5\" >One</td>\n",
       "                        <td id=\"T_49ab1195_3b06_11eb_bb5f_4ccc6acf21berow138_col6\" class=\"data row138 col6\" >0.369007</td>\n",
       "            </tr>\n",
       "            <tr>\n",
       "                        <th id=\"T_49ab1195_3b06_11eb_bb5f_4ccc6acf21belevel0_row139\" class=\"row_heading level0 row139\" >904</th>\n",
       "                        <td id=\"T_49ab1195_3b06_11eb_bb5f_4ccc6acf21berow139_col0\" class=\"data row139 col0\" >0.544055</td>\n",
       "                        <td id=\"T_49ab1195_3b06_11eb_bb5f_4ccc6acf21berow139_col1\" class=\"data row139 col1\" >0.539837</td>\n",
       "                        <td id=\"T_49ab1195_3b06_11eb_bb5f_4ccc6acf21berow139_col2\" class=\"data row139 col2\" >0.176914</td>\n",
       "                        <td id=\"T_49ab1195_3b06_11eb_bb5f_4ccc6acf21berow139_col3\" class=\"data row139 col3\" >0.813641</td>\n",
       "                        <td id=\"T_49ab1195_3b06_11eb_bb5f_4ccc6acf21berow139_col4\" class=\"data row139 col4\" >One</td>\n",
       "                        <td id=\"T_49ab1195_3b06_11eb_bb5f_4ccc6acf21berow139_col5\" class=\"data row139 col5\" >One</td>\n",
       "                        <td id=\"T_49ab1195_3b06_11eb_bb5f_4ccc6acf21berow139_col6\" class=\"data row139 col6\" >0.369247</td>\n",
       "            </tr>\n",
       "            <tr>\n",
       "                        <th id=\"T_49ab1195_3b06_11eb_bb5f_4ccc6acf21belevel0_row140\" class=\"row_heading level0 row140\" >1222</th>\n",
       "                        <td id=\"T_49ab1195_3b06_11eb_bb5f_4ccc6acf21berow140_col0\" class=\"data row140 col0\" >0.529528</td>\n",
       "                        <td id=\"T_49ab1195_3b06_11eb_bb5f_4ccc6acf21berow140_col1\" class=\"data row140 col1\" >0.521873</td>\n",
       "                        <td id=\"T_49ab1195_3b06_11eb_bb5f_4ccc6acf21berow140_col2\" class=\"data row140 col2\" >0.152149</td>\n",
       "                        <td id=\"T_49ab1195_3b06_11eb_bb5f_4ccc6acf21berow140_col3\" class=\"data row140 col3\" >0.821755</td>\n",
       "                        <td id=\"T_49ab1195_3b06_11eb_bb5f_4ccc6acf21berow140_col4\" class=\"data row140 col4\" >One</td>\n",
       "                        <td id=\"T_49ab1195_3b06_11eb_bb5f_4ccc6acf21berow140_col5\" class=\"data row140 col5\" >One</td>\n",
       "                        <td id=\"T_49ab1195_3b06_11eb_bb5f_4ccc6acf21berow140_col6\" class=\"data row140 col6\" >0.369277</td>\n",
       "            </tr>\n",
       "            <tr>\n",
       "                        <th id=\"T_49ab1195_3b06_11eb_bb5f_4ccc6acf21belevel0_row141\" class=\"row_heading level0 row141\" >1310</th>\n",
       "                        <td id=\"T_49ab1195_3b06_11eb_bb5f_4ccc6acf21berow141_col0\" class=\"data row141 col0\" >0.266556</td>\n",
       "                        <td id=\"T_49ab1195_3b06_11eb_bb5f_4ccc6acf21berow141_col1\" class=\"data row141 col1\" >0.496477</td>\n",
       "                        <td id=\"T_49ab1195_3b06_11eb_bb5f_4ccc6acf21berow141_col2\" class=\"data row141 col2\" >0.341133</td>\n",
       "                        <td id=\"T_49ab1195_3b06_11eb_bb5f_4ccc6acf21berow141_col3\" class=\"data row141 col3\" >0.826105</td>\n",
       "                        <td id=\"T_49ab1195_3b06_11eb_bb5f_4ccc6acf21berow141_col4\" class=\"data row141 col4\" >One</td>\n",
       "                        <td id=\"T_49ab1195_3b06_11eb_bb5f_4ccc6acf21berow141_col5\" class=\"data row141 col5\" >One</td>\n",
       "                        <td id=\"T_49ab1195_3b06_11eb_bb5f_4ccc6acf21berow141_col6\" class=\"data row141 col6\" >0.374814</td>\n",
       "            </tr>\n",
       "            <tr>\n",
       "                        <th id=\"T_49ab1195_3b06_11eb_bb5f_4ccc6acf21belevel0_row142\" class=\"row_heading level0 row142\" >1098</th>\n",
       "                        <td id=\"T_49ab1195_3b06_11eb_bb5f_4ccc6acf21berow142_col0\" class=\"data row142 col0\" >0.377698</td>\n",
       "                        <td id=\"T_49ab1195_3b06_11eb_bb5f_4ccc6acf21berow142_col1\" class=\"data row142 col1\" >0.260396</td>\n",
       "                        <td id=\"T_49ab1195_3b06_11eb_bb5f_4ccc6acf21berow142_col2\" class=\"data row142 col2\" >0.516424</td>\n",
       "                        <td id=\"T_49ab1195_3b06_11eb_bb5f_4ccc6acf21berow142_col3\" class=\"data row142 col3\" >0.883485</td>\n",
       "                        <td id=\"T_49ab1195_3b06_11eb_bb5f_4ccc6acf21berow142_col4\" class=\"data row142 col4\" >One</td>\n",
       "                        <td id=\"T_49ab1195_3b06_11eb_bb5f_4ccc6acf21berow142_col5\" class=\"data row142 col5\" >One</td>\n",
       "                        <td id=\"T_49ab1195_3b06_11eb_bb5f_4ccc6acf21berow142_col6\" class=\"data row142 col6\" >0.375986</td>\n",
       "            </tr>\n",
       "            <tr>\n",
       "                        <th id=\"T_49ab1195_3b06_11eb_bb5f_4ccc6acf21belevel0_row143\" class=\"row_heading level0 row143\" >1061</th>\n",
       "                        <td id=\"T_49ab1195_3b06_11eb_bb5f_4ccc6acf21berow143_col0\" class=\"data row143 col0\" >0.340913</td>\n",
       "                        <td id=\"T_49ab1195_3b06_11eb_bb5f_4ccc6acf21berow143_col1\" class=\"data row143 col1\" >0.652576</td>\n",
       "                        <td id=\"T_49ab1195_3b06_11eb_bb5f_4ccc6acf21berow143_col2\" class=\"data row143 col2\" >0.197695</td>\n",
       "                        <td id=\"T_49ab1195_3b06_11eb_bb5f_4ccc6acf21berow143_col3\" class=\"data row143 col3\" >0.663848</td>\n",
       "                        <td id=\"T_49ab1195_3b06_11eb_bb5f_4ccc6acf21berow143_col4\" class=\"data row143 col4\" >One</td>\n",
       "                        <td id=\"T_49ab1195_3b06_11eb_bb5f_4ccc6acf21berow143_col5\" class=\"data row143 col5\" >One</td>\n",
       "                        <td id=\"T_49ab1195_3b06_11eb_bb5f_4ccc6acf21berow143_col6\" class=\"data row143 col6\" >0.377481</td>\n",
       "            </tr>\n",
       "            <tr>\n",
       "                        <th id=\"T_49ab1195_3b06_11eb_bb5f_4ccc6acf21belevel0_row144\" class=\"row_heading level0 row144\" >864</th>\n",
       "                        <td id=\"T_49ab1195_3b06_11eb_bb5f_4ccc6acf21berow144_col0\" class=\"data row144 col0\" >0.550976</td>\n",
       "                        <td id=\"T_49ab1195_3b06_11eb_bb5f_4ccc6acf21berow144_col1\" class=\"data row144 col1\" >0.646380</td>\n",
       "                        <td id=\"T_49ab1195_3b06_11eb_bb5f_4ccc6acf21berow144_col2\" class=\"data row144 col2\" >0.056286</td>\n",
       "                        <td id=\"T_49ab1195_3b06_11eb_bb5f_4ccc6acf21berow144_col3\" class=\"data row144 col3\" >0.615047</td>\n",
       "                        <td id=\"T_49ab1195_3b06_11eb_bb5f_4ccc6acf21berow144_col4\" class=\"data row144 col4\" >One</td>\n",
       "                        <td id=\"T_49ab1195_3b06_11eb_bb5f_4ccc6acf21berow144_col5\" class=\"data row144 col5\" >One</td>\n",
       "                        <td id=\"T_49ab1195_3b06_11eb_bb5f_4ccc6acf21berow144_col6\" class=\"data row144 col6\" >0.378266</td>\n",
       "            </tr>\n",
       "            <tr>\n",
       "                        <th id=\"T_49ab1195_3b06_11eb_bb5f_4ccc6acf21belevel0_row145\" class=\"row_heading level0 row145\" >1156</th>\n",
       "                        <td id=\"T_49ab1195_3b06_11eb_bb5f_4ccc6acf21berow145_col0\" class=\"data row145 col0\" >0.577575</td>\n",
       "                        <td id=\"T_49ab1195_3b06_11eb_bb5f_4ccc6acf21berow145_col1\" class=\"data row145 col1\" >0.659154</td>\n",
       "                        <td id=\"T_49ab1195_3b06_11eb_bb5f_4ccc6acf21berow145_col2\" class=\"data row145 col2\" >0.015280</td>\n",
       "                        <td id=\"T_49ab1195_3b06_11eb_bb5f_4ccc6acf21berow145_col3\" class=\"data row145 col3\" >0.401529</td>\n",
       "                        <td id=\"T_49ab1195_3b06_11eb_bb5f_4ccc6acf21berow145_col4\" class=\"data row145 col4\" >One</td>\n",
       "                        <td id=\"T_49ab1195_3b06_11eb_bb5f_4ccc6acf21berow145_col5\" class=\"data row145 col5\" >One</td>\n",
       "                        <td id=\"T_49ab1195_3b06_11eb_bb5f_4ccc6acf21berow145_col6\" class=\"data row145 col6\" >0.381007</td>\n",
       "            </tr>\n",
       "            <tr>\n",
       "                        <th id=\"T_49ab1195_3b06_11eb_bb5f_4ccc6acf21belevel0_row146\" class=\"row_heading level0 row146\" >1227</th>\n",
       "                        <td id=\"T_49ab1195_3b06_11eb_bb5f_4ccc6acf21berow146_col0\" class=\"data row146 col0\" >0.322934</td>\n",
       "                        <td id=\"T_49ab1195_3b06_11eb_bb5f_4ccc6acf21berow146_col1\" class=\"data row146 col1\" >0.451567</td>\n",
       "                        <td id=\"T_49ab1195_3b06_11eb_bb5f_4ccc6acf21berow146_col2\" class=\"data row146 col2\" >0.292446</td>\n",
       "                        <td id=\"T_49ab1195_3b06_11eb_bb5f_4ccc6acf21berow146_col3\" class=\"data row146 col3\" >0.807057</td>\n",
       "                        <td id=\"T_49ab1195_3b06_11eb_bb5f_4ccc6acf21berow146_col4\" class=\"data row146 col4\" >One</td>\n",
       "                        <td id=\"T_49ab1195_3b06_11eb_bb5f_4ccc6acf21berow146_col5\" class=\"data row146 col5\" >One</td>\n",
       "                        <td id=\"T_49ab1195_3b06_11eb_bb5f_4ccc6acf21berow146_col6\" class=\"data row146 col6\" >0.382537</td>\n",
       "            </tr>\n",
       "            <tr>\n",
       "                        <th id=\"T_49ab1195_3b06_11eb_bb5f_4ccc6acf21belevel0_row147\" class=\"row_heading level0 row147\" >1201</th>\n",
       "                        <td id=\"T_49ab1195_3b06_11eb_bb5f_4ccc6acf21berow147_col0\" class=\"data row147 col0\" >0.444851</td>\n",
       "                        <td id=\"T_49ab1195_3b06_11eb_bb5f_4ccc6acf21berow147_col1\" class=\"data row147 col1\" >0.514130</td>\n",
       "                        <td id=\"T_49ab1195_3b06_11eb_bb5f_4ccc6acf21berow147_col2\" class=\"data row147 col2\" >0.219030</td>\n",
       "                        <td id=\"T_49ab1195_3b06_11eb_bb5f_4ccc6acf21berow147_col3\" class=\"data row147 col3\" >0.827986</td>\n",
       "                        <td id=\"T_49ab1195_3b06_11eb_bb5f_4ccc6acf21berow147_col4\" class=\"data row147 col4\" >One</td>\n",
       "                        <td id=\"T_49ab1195_3b06_11eb_bb5f_4ccc6acf21berow147_col5\" class=\"data row147 col5\" >One</td>\n",
       "                        <td id=\"T_49ab1195_3b06_11eb_bb5f_4ccc6acf21berow147_col6\" class=\"data row147 col6\" >0.382558</td>\n",
       "            </tr>\n",
       "            <tr>\n",
       "                        <th id=\"T_49ab1195_3b06_11eb_bb5f_4ccc6acf21belevel0_row148\" class=\"row_heading level0 row148\" >1320</th>\n",
       "                        <td id=\"T_49ab1195_3b06_11eb_bb5f_4ccc6acf21berow148_col0\" class=\"data row148 col0\" >0.455864</td>\n",
       "                        <td id=\"T_49ab1195_3b06_11eb_bb5f_4ccc6acf21berow148_col1\" class=\"data row148 col1\" >0.262484</td>\n",
       "                        <td id=\"T_49ab1195_3b06_11eb_bb5f_4ccc6acf21berow148_col2\" class=\"data row148 col2\" >0.479329</td>\n",
       "                        <td id=\"T_49ab1195_3b06_11eb_bb5f_4ccc6acf21berow148_col3\" class=\"data row148 col3\" >0.833983</td>\n",
       "                        <td id=\"T_49ab1195_3b06_11eb_bb5f_4ccc6acf21berow148_col4\" class=\"data row148 col4\" >One</td>\n",
       "                        <td id=\"T_49ab1195_3b06_11eb_bb5f_4ccc6acf21berow148_col5\" class=\"data row148 col5\" >One</td>\n",
       "                        <td id=\"T_49ab1195_3b06_11eb_bb5f_4ccc6acf21berow148_col6\" class=\"data row148 col6\" >0.383789</td>\n",
       "            </tr>\n",
       "            <tr>\n",
       "                        <th id=\"T_49ab1195_3b06_11eb_bb5f_4ccc6acf21belevel0_row149\" class=\"row_heading level0 row149\" >1235</th>\n",
       "                        <td id=\"T_49ab1195_3b06_11eb_bb5f_4ccc6acf21berow149_col0\" class=\"data row149 col0\" >0.252847</td>\n",
       "                        <td id=\"T_49ab1195_3b06_11eb_bb5f_4ccc6acf21berow149_col1\" class=\"data row149 col1\" >0.526751</td>\n",
       "                        <td id=\"T_49ab1195_3b06_11eb_bb5f_4ccc6acf21berow149_col2\" class=\"data row149 col2\" >0.256015</td>\n",
       "                        <td id=\"T_49ab1195_3b06_11eb_bb5f_4ccc6acf21berow149_col3\" class=\"data row149 col3\" >0.750384</td>\n",
       "                        <td id=\"T_49ab1195_3b06_11eb_bb5f_4ccc6acf21berow149_col4\" class=\"data row149 col4\" >One</td>\n",
       "                        <td id=\"T_49ab1195_3b06_11eb_bb5f_4ccc6acf21berow149_col5\" class=\"data row149 col5\" >One</td>\n",
       "                        <td id=\"T_49ab1195_3b06_11eb_bb5f_4ccc6acf21berow149_col6\" class=\"data row149 col6\" >0.384002</td>\n",
       "            </tr>\n",
       "            <tr>\n",
       "                        <th id=\"T_49ab1195_3b06_11eb_bb5f_4ccc6acf21belevel0_row150\" class=\"row_heading level0 row150\" >1209</th>\n",
       "                        <td id=\"T_49ab1195_3b06_11eb_bb5f_4ccc6acf21berow150_col0\" class=\"data row150 col0\" >0.458020</td>\n",
       "                        <td id=\"T_49ab1195_3b06_11eb_bb5f_4ccc6acf21berow150_col1\" class=\"data row150 col1\" >0.496632</td>\n",
       "                        <td id=\"T_49ab1195_3b06_11eb_bb5f_4ccc6acf21berow150_col2\" class=\"data row150 col2\" >0.212460</td>\n",
       "                        <td id=\"T_49ab1195_3b06_11eb_bb5f_4ccc6acf21berow150_col3\" class=\"data row150 col3\" >0.820461</td>\n",
       "                        <td id=\"T_49ab1195_3b06_11eb_bb5f_4ccc6acf21berow150_col4\" class=\"data row150 col4\" >One</td>\n",
       "                        <td id=\"T_49ab1195_3b06_11eb_bb5f_4ccc6acf21berow150_col5\" class=\"data row150 col5\" >One</td>\n",
       "                        <td id=\"T_49ab1195_3b06_11eb_bb5f_4ccc6acf21berow150_col6\" class=\"data row150 col6\" >0.385006</td>\n",
       "            </tr>\n",
       "            <tr>\n",
       "                        <th id=\"T_49ab1195_3b06_11eb_bb5f_4ccc6acf21belevel0_row151\" class=\"row_heading level0 row151\" >1306</th>\n",
       "                        <td id=\"T_49ab1195_3b06_11eb_bb5f_4ccc6acf21berow151_col0\" class=\"data row151 col0\" >0.419539</td>\n",
       "                        <td id=\"T_49ab1195_3b06_11eb_bb5f_4ccc6acf21berow151_col1\" class=\"data row151 col1\" >0.580796</td>\n",
       "                        <td id=\"T_49ab1195_3b06_11eb_bb5f_4ccc6acf21berow151_col2\" class=\"data row151 col2\" >0.163956</td>\n",
       "                        <td id=\"T_49ab1195_3b06_11eb_bb5f_4ccc6acf21berow151_col3\" class=\"data row151 col3\" >0.648326</td>\n",
       "                        <td id=\"T_49ab1195_3b06_11eb_bb5f_4ccc6acf21berow151_col4\" class=\"data row151 col4\" >One</td>\n",
       "                        <td id=\"T_49ab1195_3b06_11eb_bb5f_4ccc6acf21berow151_col5\" class=\"data row151 col5\" >One</td>\n",
       "                        <td id=\"T_49ab1195_3b06_11eb_bb5f_4ccc6acf21berow151_col6\" class=\"data row151 col6\" >0.385127</td>\n",
       "            </tr>\n",
       "            <tr>\n",
       "                        <th id=\"T_49ab1195_3b06_11eb_bb5f_4ccc6acf21belevel0_row152\" class=\"row_heading level0 row152\" >1296</th>\n",
       "                        <td id=\"T_49ab1195_3b06_11eb_bb5f_4ccc6acf21berow152_col0\" class=\"data row152 col0\" >0.248707</td>\n",
       "                        <td id=\"T_49ab1195_3b06_11eb_bb5f_4ccc6acf21berow152_col1\" class=\"data row152 col1\" >0.523964</td>\n",
       "                        <td id=\"T_49ab1195_3b06_11eb_bb5f_4ccc6acf21berow152_col2\" class=\"data row152 col2\" >0.258414</td>\n",
       "                        <td id=\"T_49ab1195_3b06_11eb_bb5f_4ccc6acf21berow152_col3\" class=\"data row152 col3\" >0.746974</td>\n",
       "                        <td id=\"T_49ab1195_3b06_11eb_bb5f_4ccc6acf21berow152_col4\" class=\"data row152 col4\" >One</td>\n",
       "                        <td id=\"T_49ab1195_3b06_11eb_bb5f_4ccc6acf21berow152_col5\" class=\"data row152 col5\" >One</td>\n",
       "                        <td id=\"T_49ab1195_3b06_11eb_bb5f_4ccc6acf21berow152_col6\" class=\"data row152 col6\" >0.386413</td>\n",
       "            </tr>\n",
       "            <tr>\n",
       "                        <th id=\"T_49ab1195_3b06_11eb_bb5f_4ccc6acf21belevel0_row153\" class=\"row_heading level0 row153\" >1027</th>\n",
       "                        <td id=\"T_49ab1195_3b06_11eb_bb5f_4ccc6acf21berow153_col0\" class=\"data row153 col0\" >0.516262</td>\n",
       "                        <td id=\"T_49ab1195_3b06_11eb_bb5f_4ccc6acf21berow153_col1\" class=\"data row153 col1\" >0.655128</td>\n",
       "                        <td id=\"T_49ab1195_3b06_11eb_bb5f_4ccc6acf21berow153_col2\" class=\"data row153 col2\" >0.036539</td>\n",
       "                        <td id=\"T_49ab1195_3b06_11eb_bb5f_4ccc6acf21berow153_col3\" class=\"data row153 col3\" >0.379543</td>\n",
       "                        <td id=\"T_49ab1195_3b06_11eb_bb5f_4ccc6acf21berow153_col4\" class=\"data row153 col4\" >One</td>\n",
       "                        <td id=\"T_49ab1195_3b06_11eb_bb5f_4ccc6acf21berow153_col5\" class=\"data row153 col5\" >One</td>\n",
       "                        <td id=\"T_49ab1195_3b06_11eb_bb5f_4ccc6acf21berow153_col6\" class=\"data row153 col6\" >0.387026</td>\n",
       "            </tr>\n",
       "            <tr>\n",
       "                        <th id=\"T_49ab1195_3b06_11eb_bb5f_4ccc6acf21belevel0_row154\" class=\"row_heading level0 row154\" >1366</th>\n",
       "                        <td id=\"T_49ab1195_3b06_11eb_bb5f_4ccc6acf21berow154_col0\" class=\"data row154 col0\" >0.334040</td>\n",
       "                        <td id=\"T_49ab1195_3b06_11eb_bb5f_4ccc6acf21berow154_col1\" class=\"data row154 col1\" >0.655439</td>\n",
       "                        <td id=\"T_49ab1195_3b06_11eb_bb5f_4ccc6acf21berow154_col2\" class=\"data row154 col2\" >0.210393</td>\n",
       "                        <td id=\"T_49ab1195_3b06_11eb_bb5f_4ccc6acf21berow154_col3\" class=\"data row154 col3\" >0.659492</td>\n",
       "                        <td id=\"T_49ab1195_3b06_11eb_bb5f_4ccc6acf21berow154_col4\" class=\"data row154 col4\" >One</td>\n",
       "                        <td id=\"T_49ab1195_3b06_11eb_bb5f_4ccc6acf21berow154_col5\" class=\"data row154 col5\" >One</td>\n",
       "                        <td id=\"T_49ab1195_3b06_11eb_bb5f_4ccc6acf21berow154_col6\" class=\"data row154 col6\" >0.388191</td>\n",
       "            </tr>\n",
       "            <tr>\n",
       "                        <th id=\"T_49ab1195_3b06_11eb_bb5f_4ccc6acf21belevel0_row155\" class=\"row_heading level0 row155\" >1233</th>\n",
       "                        <td id=\"T_49ab1195_3b06_11eb_bb5f_4ccc6acf21berow155_col0\" class=\"data row155 col0\" >0.000000</td>\n",
       "                        <td id=\"T_49ab1195_3b06_11eb_bb5f_4ccc6acf21berow155_col1\" class=\"data row155 col1\" >0.859621</td>\n",
       "                        <td id=\"T_49ab1195_3b06_11eb_bb5f_4ccc6acf21berow155_col2\" class=\"data row155 col2\" >0.238888</td>\n",
       "                        <td id=\"T_49ab1195_3b06_11eb_bb5f_4ccc6acf21berow155_col3\" class=\"data row155 col3\" >0.351437</td>\n",
       "                        <td id=\"T_49ab1195_3b06_11eb_bb5f_4ccc6acf21berow155_col4\" class=\"data row155 col4\" >One</td>\n",
       "                        <td id=\"T_49ab1195_3b06_11eb_bb5f_4ccc6acf21berow155_col5\" class=\"data row155 col5\" >One</td>\n",
       "                        <td id=\"T_49ab1195_3b06_11eb_bb5f_4ccc6acf21berow155_col6\" class=\"data row155 col6\" >0.389739</td>\n",
       "            </tr>\n",
       "            <tr>\n",
       "                        <th id=\"T_49ab1195_3b06_11eb_bb5f_4ccc6acf21belevel0_row156\" class=\"row_heading level0 row156\" >997</th>\n",
       "                        <td id=\"T_49ab1195_3b06_11eb_bb5f_4ccc6acf21berow156_col0\" class=\"data row156 col0\" >0.405195</td>\n",
       "                        <td id=\"T_49ab1195_3b06_11eb_bb5f_4ccc6acf21berow156_col1\" class=\"data row156 col1\" >0.478358</td>\n",
       "                        <td id=\"T_49ab1195_3b06_11eb_bb5f_4ccc6acf21berow156_col2\" class=\"data row156 col2\" >0.329321</td>\n",
       "                        <td id=\"T_49ab1195_3b06_11eb_bb5f_4ccc6acf21berow156_col3\" class=\"data row156 col3\" >0.813171</td>\n",
       "                        <td id=\"T_49ab1195_3b06_11eb_bb5f_4ccc6acf21berow156_col4\" class=\"data row156 col4\" >One</td>\n",
       "                        <td id=\"T_49ab1195_3b06_11eb_bb5f_4ccc6acf21berow156_col5\" class=\"data row156 col5\" >One</td>\n",
       "                        <td id=\"T_49ab1195_3b06_11eb_bb5f_4ccc6acf21berow156_col6\" class=\"data row156 col6\" >0.393765</td>\n",
       "            </tr>\n",
       "            <tr>\n",
       "                        <th id=\"T_49ab1195_3b06_11eb_bb5f_4ccc6acf21belevel0_row157\" class=\"row_heading level0 row157\" >819</th>\n",
       "                        <td id=\"T_49ab1195_3b06_11eb_bb5f_4ccc6acf21berow157_col0\" class=\"data row157 col0\" >0.397342</td>\n",
       "                        <td id=\"T_49ab1195_3b06_11eb_bb5f_4ccc6acf21berow157_col1\" class=\"data row157 col1\" >0.324662</td>\n",
       "                        <td id=\"T_49ab1195_3b06_11eb_bb5f_4ccc6acf21berow157_col2\" class=\"data row157 col2\" >0.515390</td>\n",
       "                        <td id=\"T_49ab1195_3b06_11eb_bb5f_4ccc6acf21berow157_col3\" class=\"data row157 col3\" >0.793182</td>\n",
       "                        <td id=\"T_49ab1195_3b06_11eb_bb5f_4ccc6acf21berow157_col4\" class=\"data row157 col4\" >One</td>\n",
       "                        <td id=\"T_49ab1195_3b06_11eb_bb5f_4ccc6acf21berow157_col5\" class=\"data row157 col5\" >One</td>\n",
       "                        <td id=\"T_49ab1195_3b06_11eb_bb5f_4ccc6acf21berow157_col6\" class=\"data row157 col6\" >0.394268</td>\n",
       "            </tr>\n",
       "            <tr>\n",
       "                        <th id=\"T_49ab1195_3b06_11eb_bb5f_4ccc6acf21belevel0_row158\" class=\"row_heading level0 row158\" >1339</th>\n",
       "                        <td id=\"T_49ab1195_3b06_11eb_bb5f_4ccc6acf21berow158_col0\" class=\"data row158 col0\" >0.619713</td>\n",
       "                        <td id=\"T_49ab1195_3b06_11eb_bb5f_4ccc6acf21berow158_col1\" class=\"data row158 col1\" >0.657609</td>\n",
       "                        <td id=\"T_49ab1195_3b06_11eb_bb5f_4ccc6acf21berow158_col2\" class=\"data row158 col2\" >0.016017</td>\n",
       "                        <td id=\"T_49ab1195_3b06_11eb_bb5f_4ccc6acf21berow158_col3\" class=\"data row158 col3\" >0.436446</td>\n",
       "                        <td id=\"T_49ab1195_3b06_11eb_bb5f_4ccc6acf21berow158_col4\" class=\"data row158 col4\" >One</td>\n",
       "                        <td id=\"T_49ab1195_3b06_11eb_bb5f_4ccc6acf21berow158_col5\" class=\"data row158 col5\" >One</td>\n",
       "                        <td id=\"T_49ab1195_3b06_11eb_bb5f_4ccc6acf21berow158_col6\" class=\"data row158 col6\" >0.396335</td>\n",
       "            </tr>\n",
       "            <tr>\n",
       "                        <th id=\"T_49ab1195_3b06_11eb_bb5f_4ccc6acf21belevel0_row159\" class=\"row_heading level0 row159\" >851</th>\n",
       "                        <td id=\"T_49ab1195_3b06_11eb_bb5f_4ccc6acf21berow159_col0\" class=\"data row159 col0\" >0.551631</td>\n",
       "                        <td id=\"T_49ab1195_3b06_11eb_bb5f_4ccc6acf21berow159_col1\" class=\"data row159 col1\" >0.663338</td>\n",
       "                        <td id=\"T_49ab1195_3b06_11eb_bb5f_4ccc6acf21berow159_col2\" class=\"data row159 col2\" >0.022147</td>\n",
       "                        <td id=\"T_49ab1195_3b06_11eb_bb5f_4ccc6acf21berow159_col3\" class=\"data row159 col3\" >0.369432</td>\n",
       "                        <td id=\"T_49ab1195_3b06_11eb_bb5f_4ccc6acf21berow159_col4\" class=\"data row159 col4\" >One</td>\n",
       "                        <td id=\"T_49ab1195_3b06_11eb_bb5f_4ccc6acf21berow159_col5\" class=\"data row159 col5\" >One</td>\n",
       "                        <td id=\"T_49ab1195_3b06_11eb_bb5f_4ccc6acf21berow159_col6\" class=\"data row159 col6\" >0.396530</td>\n",
       "            </tr>\n",
       "            <tr>\n",
       "                        <th id=\"T_49ab1195_3b06_11eb_bb5f_4ccc6acf21belevel0_row160\" class=\"row_heading level0 row160\" >771</th>\n",
       "                        <td id=\"T_49ab1195_3b06_11eb_bb5f_4ccc6acf21berow160_col0\" class=\"data row160 col0\" >0.436774</td>\n",
       "                        <td id=\"T_49ab1195_3b06_11eb_bb5f_4ccc6acf21berow160_col1\" class=\"data row160 col1\" >0.266125</td>\n",
       "                        <td id=\"T_49ab1195_3b06_11eb_bb5f_4ccc6acf21berow160_col2\" class=\"data row160 col2\" >0.478627</td>\n",
       "                        <td id=\"T_49ab1195_3b06_11eb_bb5f_4ccc6acf21berow160_col3\" class=\"data row160 col3\" >0.826927</td>\n",
       "                        <td id=\"T_49ab1195_3b06_11eb_bb5f_4ccc6acf21berow160_col4\" class=\"data row160 col4\" >One</td>\n",
       "                        <td id=\"T_49ab1195_3b06_11eb_bb5f_4ccc6acf21berow160_col5\" class=\"data row160 col5\" >One</td>\n",
       "                        <td id=\"T_49ab1195_3b06_11eb_bb5f_4ccc6acf21berow160_col6\" class=\"data row160 col6\" >0.397443</td>\n",
       "            </tr>\n",
       "            <tr>\n",
       "                        <th id=\"T_49ab1195_3b06_11eb_bb5f_4ccc6acf21belevel0_row161\" class=\"row_heading level0 row161\" >1280</th>\n",
       "                        <td id=\"T_49ab1195_3b06_11eb_bb5f_4ccc6acf21berow161_col0\" class=\"data row161 col0\" >0.265871</td>\n",
       "                        <td id=\"T_49ab1195_3b06_11eb_bb5f_4ccc6acf21berow161_col1\" class=\"data row161 col1\" >0.528687</td>\n",
       "                        <td id=\"T_49ab1195_3b06_11eb_bb5f_4ccc6acf21berow161_col2\" class=\"data row161 col2\" >0.341758</td>\n",
       "                        <td id=\"T_49ab1195_3b06_11eb_bb5f_4ccc6acf21berow161_col3\" class=\"data row161 col3\" >0.742859</td>\n",
       "                        <td id=\"T_49ab1195_3b06_11eb_bb5f_4ccc6acf21berow161_col4\" class=\"data row161 col4\" >One</td>\n",
       "                        <td id=\"T_49ab1195_3b06_11eb_bb5f_4ccc6acf21berow161_col5\" class=\"data row161 col5\" >One</td>\n",
       "                        <td id=\"T_49ab1195_3b06_11eb_bb5f_4ccc6acf21berow161_col6\" class=\"data row161 col6\" >0.397886</td>\n",
       "            </tr>\n",
       "            <tr>\n",
       "                        <th id=\"T_49ab1195_3b06_11eb_bb5f_4ccc6acf21belevel0_row162\" class=\"row_heading level0 row162\" >1363</th>\n",
       "                        <td id=\"T_49ab1195_3b06_11eb_bb5f_4ccc6acf21berow162_col0\" class=\"data row162 col0\" >0.423700</td>\n",
       "                        <td id=\"T_49ab1195_3b06_11eb_bb5f_4ccc6acf21berow162_col1\" class=\"data row162 col1\" >0.462097</td>\n",
       "                        <td id=\"T_49ab1195_3b06_11eb_bb5f_4ccc6acf21berow162_col2\" class=\"data row162 col2\" >0.353682</td>\n",
       "                        <td id=\"T_49ab1195_3b06_11eb_bb5f_4ccc6acf21berow162_col3\" class=\"data row162 col3\" >0.837392</td>\n",
       "                        <td id=\"T_49ab1195_3b06_11eb_bb5f_4ccc6acf21berow162_col4\" class=\"data row162 col4\" >One</td>\n",
       "                        <td id=\"T_49ab1195_3b06_11eb_bb5f_4ccc6acf21berow162_col5\" class=\"data row162 col5\" >One</td>\n",
       "                        <td id=\"T_49ab1195_3b06_11eb_bb5f_4ccc6acf21berow162_col6\" class=\"data row162 col6\" >0.399105</td>\n",
       "            </tr>\n",
       "            <tr>\n",
       "                        <th id=\"T_49ab1195_3b06_11eb_bb5f_4ccc6acf21belevel0_row163\" class=\"row_heading level0 row163\" >1116</th>\n",
       "                        <td id=\"T_49ab1195_3b06_11eb_bb5f_4ccc6acf21berow163_col0\" class=\"data row163 col0\" >0.471816</td>\n",
       "                        <td id=\"T_49ab1195_3b06_11eb_bb5f_4ccc6acf21berow163_col1\" class=\"data row163 col1\" >0.581728</td>\n",
       "                        <td id=\"T_49ab1195_3b06_11eb_bb5f_4ccc6acf21berow163_col2\" class=\"data row163 col2\" >0.130924</td>\n",
       "                        <td id=\"T_49ab1195_3b06_11eb_bb5f_4ccc6acf21berow163_col3\" class=\"data row163 col3\" >0.715346</td>\n",
       "                        <td id=\"T_49ab1195_3b06_11eb_bb5f_4ccc6acf21berow163_col4\" class=\"data row163 col4\" >One</td>\n",
       "                        <td id=\"T_49ab1195_3b06_11eb_bb5f_4ccc6acf21berow163_col5\" class=\"data row163 col5\" >One</td>\n",
       "                        <td id=\"T_49ab1195_3b06_11eb_bb5f_4ccc6acf21berow163_col6\" class=\"data row163 col6\" >0.399497</td>\n",
       "            </tr>\n",
       "            <tr>\n",
       "                        <th id=\"T_49ab1195_3b06_11eb_bb5f_4ccc6acf21belevel0_row164\" class=\"row_heading level0 row164\" >961</th>\n",
       "                        <td id=\"T_49ab1195_3b06_11eb_bb5f_4ccc6acf21berow164_col0\" class=\"data row164 col0\" >0.422315</td>\n",
       "                        <td id=\"T_49ab1195_3b06_11eb_bb5f_4ccc6acf21berow164_col1\" class=\"data row164 col1\" >0.468525</td>\n",
       "                        <td id=\"T_49ab1195_3b06_11eb_bb5f_4ccc6acf21berow164_col2\" class=\"data row164 col2\" >0.325225</td>\n",
       "                        <td id=\"T_49ab1195_3b06_11eb_bb5f_4ccc6acf21berow164_col3\" class=\"data row164 col3\" >0.847504</td>\n",
       "                        <td id=\"T_49ab1195_3b06_11eb_bb5f_4ccc6acf21berow164_col4\" class=\"data row164 col4\" >One</td>\n",
       "                        <td id=\"T_49ab1195_3b06_11eb_bb5f_4ccc6acf21berow164_col5\" class=\"data row164 col5\" >One</td>\n",
       "                        <td id=\"T_49ab1195_3b06_11eb_bb5f_4ccc6acf21berow164_col6\" class=\"data row164 col6\" >0.402121</td>\n",
       "            </tr>\n",
       "            <tr>\n",
       "                        <th id=\"T_49ab1195_3b06_11eb_bb5f_4ccc6acf21belevel0_row165\" class=\"row_heading level0 row165\" >1305</th>\n",
       "                        <td id=\"T_49ab1195_3b06_11eb_bb5f_4ccc6acf21berow165_col0\" class=\"data row165 col0\" >0.226929</td>\n",
       "                        <td id=\"T_49ab1195_3b06_11eb_bb5f_4ccc6acf21berow165_col1\" class=\"data row165 col1\" >0.666511</td>\n",
       "                        <td id=\"T_49ab1195_3b06_11eb_bb5f_4ccc6acf21berow165_col2\" class=\"data row165 col2\" >0.214711</td>\n",
       "                        <td id=\"T_49ab1195_3b06_11eb_bb5f_4ccc6acf21berow165_col3\" class=\"data row165 col3\" >0.578721</td>\n",
       "                        <td id=\"T_49ab1195_3b06_11eb_bb5f_4ccc6acf21berow165_col4\" class=\"data row165 col4\" >One</td>\n",
       "                        <td id=\"T_49ab1195_3b06_11eb_bb5f_4ccc6acf21berow165_col5\" class=\"data row165 col5\" >One</td>\n",
       "                        <td id=\"T_49ab1195_3b06_11eb_bb5f_4ccc6acf21berow165_col6\" class=\"data row165 col6\" >0.402527</td>\n",
       "            </tr>\n",
       "            <tr>\n",
       "                        <th id=\"T_49ab1195_3b06_11eb_bb5f_4ccc6acf21belevel0_row166\" class=\"row_heading level0 row166\" >1050</th>\n",
       "                        <td id=\"T_49ab1195_3b06_11eb_bb5f_4ccc6acf21berow166_col0\" class=\"data row166 col0\" >0.083674</td>\n",
       "                        <td id=\"T_49ab1195_3b06_11eb_bb5f_4ccc6acf21berow166_col1\" class=\"data row166 col1\" >0.801936</td>\n",
       "                        <td id=\"T_49ab1195_3b06_11eb_bb5f_4ccc6acf21berow166_col2\" class=\"data row166 col2\" >0.251660</td>\n",
       "                        <td id=\"T_49ab1195_3b06_11eb_bb5f_4ccc6acf21berow166_col3\" class=\"data row166 col3\" >0.512171</td>\n",
       "                        <td id=\"T_49ab1195_3b06_11eb_bb5f_4ccc6acf21berow166_col4\" class=\"data row166 col4\" >One</td>\n",
       "                        <td id=\"T_49ab1195_3b06_11eb_bb5f_4ccc6acf21berow166_col5\" class=\"data row166 col5\" >One</td>\n",
       "                        <td id=\"T_49ab1195_3b06_11eb_bb5f_4ccc6acf21berow166_col6\" class=\"data row166 col6\" >0.402533</td>\n",
       "            </tr>\n",
       "            <tr>\n",
       "                        <th id=\"T_49ab1195_3b06_11eb_bb5f_4ccc6acf21belevel0_row167\" class=\"row_heading level0 row167\" >1122</th>\n",
       "                        <td id=\"T_49ab1195_3b06_11eb_bb5f_4ccc6acf21berow167_col0\" class=\"data row167 col0\" >0.361552</td>\n",
       "                        <td id=\"T_49ab1195_3b06_11eb_bb5f_4ccc6acf21berow167_col1\" class=\"data row167 col1\" >0.659311</td>\n",
       "                        <td id=\"T_49ab1195_3b06_11eb_bb5f_4ccc6acf21berow167_col2\" class=\"data row167 col2\" >0.200390</td>\n",
       "                        <td id=\"T_49ab1195_3b06_11eb_bb5f_4ccc6acf21berow167_col3\" class=\"data row167 col3\" >0.670431</td>\n",
       "                        <td id=\"T_49ab1195_3b06_11eb_bb5f_4ccc6acf21berow167_col4\" class=\"data row167 col4\" >One</td>\n",
       "                        <td id=\"T_49ab1195_3b06_11eb_bb5f_4ccc6acf21berow167_col5\" class=\"data row167 col5\" >One</td>\n",
       "                        <td id=\"T_49ab1195_3b06_11eb_bb5f_4ccc6acf21berow167_col6\" class=\"data row167 col6\" >0.402730</td>\n",
       "            </tr>\n",
       "            <tr>\n",
       "                        <th id=\"T_49ab1195_3b06_11eb_bb5f_4ccc6acf21belevel0_row168\" class=\"row_heading level0 row168\" >763</th>\n",
       "                        <td id=\"T_49ab1195_3b06_11eb_bb5f_4ccc6acf21berow168_col0\" class=\"data row168 col0\" >0.535968</td>\n",
       "                        <td id=\"T_49ab1195_3b06_11eb_bb5f_4ccc6acf21berow168_col1\" class=\"data row168 col1\" >0.510027</td>\n",
       "                        <td id=\"T_49ab1195_3b06_11eb_bb5f_4ccc6acf21berow168_col2\" class=\"data row168 col2\" >0.226338</td>\n",
       "                        <td id=\"T_49ab1195_3b06_11eb_bb5f_4ccc6acf21berow168_col3\" class=\"data row168 col3\" >0.809173</td>\n",
       "                        <td id=\"T_49ab1195_3b06_11eb_bb5f_4ccc6acf21berow168_col4\" class=\"data row168 col4\" >One</td>\n",
       "                        <td id=\"T_49ab1195_3b06_11eb_bb5f_4ccc6acf21berow168_col5\" class=\"data row168 col5\" >One</td>\n",
       "                        <td id=\"T_49ab1195_3b06_11eb_bb5f_4ccc6acf21berow168_col6\" class=\"data row168 col6\" >0.403736</td>\n",
       "            </tr>\n",
       "            <tr>\n",
       "                        <th id=\"T_49ab1195_3b06_11eb_bb5f_4ccc6acf21belevel0_row169\" class=\"row_heading level0 row169\" >888</th>\n",
       "                        <td id=\"T_49ab1195_3b06_11eb_bb5f_4ccc6acf21berow169_col0\" class=\"data row169 col0\" >0.322495</td>\n",
       "                        <td id=\"T_49ab1195_3b06_11eb_bb5f_4ccc6acf21berow169_col1\" class=\"data row169 col1\" >0.259232</td>\n",
       "                        <td id=\"T_49ab1195_3b06_11eb_bb5f_4ccc6acf21berow169_col2\" class=\"data row169 col2\" >0.615418</td>\n",
       "                        <td id=\"T_49ab1195_3b06_11eb_bb5f_4ccc6acf21berow169_col3\" class=\"data row169 col3\" >0.971430</td>\n",
       "                        <td id=\"T_49ab1195_3b06_11eb_bb5f_4ccc6acf21berow169_col4\" class=\"data row169 col4\" >One</td>\n",
       "                        <td id=\"T_49ab1195_3b06_11eb_bb5f_4ccc6acf21berow169_col5\" class=\"data row169 col5\" >One</td>\n",
       "                        <td id=\"T_49ab1195_3b06_11eb_bb5f_4ccc6acf21berow169_col6\" class=\"data row169 col6\" >0.407470</td>\n",
       "            </tr>\n",
       "            <tr>\n",
       "                        <th id=\"T_49ab1195_3b06_11eb_bb5f_4ccc6acf21belevel0_row170\" class=\"row_heading level0 row170\" >933</th>\n",
       "                        <td id=\"T_49ab1195_3b06_11eb_bb5f_4ccc6acf21berow170_col0\" class=\"data row170 col0\" >0.500455</td>\n",
       "                        <td id=\"T_49ab1195_3b06_11eb_bb5f_4ccc6acf21berow170_col1\" class=\"data row170 col1\" >0.583430</td>\n",
       "                        <td id=\"T_49ab1195_3b06_11eb_bb5f_4ccc6acf21berow170_col2\" class=\"data row170 col2\" >0.132216</td>\n",
       "                        <td id=\"T_49ab1195_3b06_11eb_bb5f_4ccc6acf21berow170_col3\" class=\"data row170 col3\" >0.725693</td>\n",
       "                        <td id=\"T_49ab1195_3b06_11eb_bb5f_4ccc6acf21berow170_col4\" class=\"data row170 col4\" >One</td>\n",
       "                        <td id=\"T_49ab1195_3b06_11eb_bb5f_4ccc6acf21berow170_col5\" class=\"data row170 col5\" >One</td>\n",
       "                        <td id=\"T_49ab1195_3b06_11eb_bb5f_4ccc6acf21berow170_col6\" class=\"data row170 col6\" >0.409389</td>\n",
       "            </tr>\n",
       "            <tr>\n",
       "                        <th id=\"T_49ab1195_3b06_11eb_bb5f_4ccc6acf21belevel0_row171\" class=\"row_heading level0 row171\" >1216</th>\n",
       "                        <td id=\"T_49ab1195_3b06_11eb_bb5f_4ccc6acf21berow171_col0\" class=\"data row171 col0\" >0.551140</td>\n",
       "                        <td id=\"T_49ab1195_3b06_11eb_bb5f_4ccc6acf21berow171_col1\" class=\"data row171 col1\" >0.552768</td>\n",
       "                        <td id=\"T_49ab1195_3b06_11eb_bb5f_4ccc6acf21berow171_col2\" class=\"data row171 col2\" >0.132401</td>\n",
       "                        <td id=\"T_49ab1195_3b06_11eb_bb5f_4ccc6acf21berow171_col3\" class=\"data row171 col3\" >0.786128</td>\n",
       "                        <td id=\"T_49ab1195_3b06_11eb_bb5f_4ccc6acf21berow171_col4\" class=\"data row171 col4\" >One</td>\n",
       "                        <td id=\"T_49ab1195_3b06_11eb_bb5f_4ccc6acf21berow171_col5\" class=\"data row171 col5\" >One</td>\n",
       "                        <td id=\"T_49ab1195_3b06_11eb_bb5f_4ccc6acf21berow171_col6\" class=\"data row171 col6\" >0.410808</td>\n",
       "            </tr>\n",
       "            <tr>\n",
       "                        <th id=\"T_49ab1195_3b06_11eb_bb5f_4ccc6acf21belevel0_row172\" class=\"row_heading level0 row172\" >1164</th>\n",
       "                        <td id=\"T_49ab1195_3b06_11eb_bb5f_4ccc6acf21berow172_col0\" class=\"data row172 col0\" >0.050891</td>\n",
       "                        <td id=\"T_49ab1195_3b06_11eb_bb5f_4ccc6acf21berow172_col1\" class=\"data row172 col1\" >0.862794</td>\n",
       "                        <td id=\"T_49ab1195_3b06_11eb_bb5f_4ccc6acf21berow172_col2\" class=\"data row172 col2\" >0.228332</td>\n",
       "                        <td id=\"T_49ab1195_3b06_11eb_bb5f_4ccc6acf21berow172_col3\" class=\"data row172 col3\" >0.160379</td>\n",
       "                        <td id=\"T_49ab1195_3b06_11eb_bb5f_4ccc6acf21berow172_col4\" class=\"data row172 col4\" >One</td>\n",
       "                        <td id=\"T_49ab1195_3b06_11eb_bb5f_4ccc6acf21berow172_col5\" class=\"data row172 col5\" >One</td>\n",
       "                        <td id=\"T_49ab1195_3b06_11eb_bb5f_4ccc6acf21berow172_col6\" class=\"data row172 col6\" >0.411100</td>\n",
       "            </tr>\n",
       "            <tr>\n",
       "                        <th id=\"T_49ab1195_3b06_11eb_bb5f_4ccc6acf21belevel0_row173\" class=\"row_heading level0 row173\" >912</th>\n",
       "                        <td id=\"T_49ab1195_3b06_11eb_bb5f_4ccc6acf21berow173_col0\" class=\"data row173 col0\" >0.596384</td>\n",
       "                        <td id=\"T_49ab1195_3b06_11eb_bb5f_4ccc6acf21berow173_col1\" class=\"data row173 col1\" >0.666200</td>\n",
       "                        <td id=\"T_49ab1195_3b06_11eb_bb5f_4ccc6acf21berow173_col2\" class=\"data row173 col2\" >0.027682</td>\n",
       "                        <td id=\"T_49ab1195_3b06_11eb_bb5f_4ccc6acf21berow173_col3\" class=\"data row173 col3\" >0.421515</td>\n",
       "                        <td id=\"T_49ab1195_3b06_11eb_bb5f_4ccc6acf21berow173_col4\" class=\"data row173 col4\" >One</td>\n",
       "                        <td id=\"T_49ab1195_3b06_11eb_bb5f_4ccc6acf21berow173_col5\" class=\"data row173 col5\" >One</td>\n",
       "                        <td id=\"T_49ab1195_3b06_11eb_bb5f_4ccc6acf21berow173_col6\" class=\"data row173 col6\" >0.411952</td>\n",
       "            </tr>\n",
       "            <tr>\n",
       "                        <th id=\"T_49ab1195_3b06_11eb_bb5f_4ccc6acf21belevel0_row174\" class=\"row_heading level0 row174\" >1338</th>\n",
       "                        <td id=\"T_49ab1195_3b06_11eb_bb5f_4ccc6acf21berow174_col0\" class=\"data row174 col0\" >0.621848</td>\n",
       "                        <td id=\"T_49ab1195_3b06_11eb_bb5f_4ccc6acf21berow174_col1\" class=\"data row174 col1\" >0.547890</td>\n",
       "                        <td id=\"T_49ab1195_3b06_11eb_bb5f_4ccc6acf21berow174_col2\" class=\"data row174 col2\" >0.128042</td>\n",
       "                        <td id=\"T_49ab1195_3b06_11eb_bb5f_4ccc6acf21berow174_col3\" class=\"data row174 col3\" >0.852207</td>\n",
       "                        <td id=\"T_49ab1195_3b06_11eb_bb5f_4ccc6acf21berow174_col4\" class=\"data row174 col4\" >One</td>\n",
       "                        <td id=\"T_49ab1195_3b06_11eb_bb5f_4ccc6acf21berow174_col5\" class=\"data row174 col5\" >One</td>\n",
       "                        <td id=\"T_49ab1195_3b06_11eb_bb5f_4ccc6acf21berow174_col6\" class=\"data row174 col6\" >0.412217</td>\n",
       "            </tr>\n",
       "            <tr>\n",
       "                        <th id=\"T_49ab1195_3b06_11eb_bb5f_4ccc6acf21belevel0_row175\" class=\"row_heading level0 row175\" >1319</th>\n",
       "                        <td id=\"T_49ab1195_3b06_11eb_bb5f_4ccc6acf21berow175_col0\" class=\"data row175 col0\" >0.555694</td>\n",
       "                        <td id=\"T_49ab1195_3b06_11eb_bb5f_4ccc6acf21berow175_col1\" class=\"data row175 col1\" >0.513666</td>\n",
       "                        <td id=\"T_49ab1195_3b06_11eb_bb5f_4ccc6acf21berow175_col2\" class=\"data row175 col2\" >0.219620</td>\n",
       "                        <td id=\"T_49ab1195_3b06_11eb_bb5f_4ccc6acf21berow175_col3\" class=\"data row175 col3\" >0.798592</td>\n",
       "                        <td id=\"T_49ab1195_3b06_11eb_bb5f_4ccc6acf21berow175_col4\" class=\"data row175 col4\" >One</td>\n",
       "                        <td id=\"T_49ab1195_3b06_11eb_bb5f_4ccc6acf21berow175_col5\" class=\"data row175 col5\" >One</td>\n",
       "                        <td id=\"T_49ab1195_3b06_11eb_bb5f_4ccc6acf21berow175_col6\" class=\"data row175 col6\" >0.419205</td>\n",
       "            </tr>\n",
       "            <tr>\n",
       "                        <th id=\"T_49ab1195_3b06_11eb_bb5f_4ccc6acf21belevel0_row176\" class=\"row_heading level0 row176\" >1345</th>\n",
       "                        <td id=\"T_49ab1195_3b06_11eb_bb5f_4ccc6acf21berow176_col0\" class=\"data row176 col0\" >0.668498</td>\n",
       "                        <td id=\"T_49ab1195_3b06_11eb_bb5f_4ccc6acf21berow176_col1\" class=\"data row176 col1\" >0.668602</td>\n",
       "                        <td id=\"T_49ab1195_3b06_11eb_bb5f_4ccc6acf21berow176_col2\" class=\"data row176 col2\" >0.020781</td>\n",
       "                        <td id=\"T_49ab1195_3b06_11eb_bb5f_4ccc6acf21berow176_col3\" class=\"data row176 col3\" >0.585304</td>\n",
       "                        <td id=\"T_49ab1195_3b06_11eb_bb5f_4ccc6acf21berow176_col4\" class=\"data row176 col4\" >One</td>\n",
       "                        <td id=\"T_49ab1195_3b06_11eb_bb5f_4ccc6acf21berow176_col5\" class=\"data row176 col5\" >One</td>\n",
       "                        <td id=\"T_49ab1195_3b06_11eb_bb5f_4ccc6acf21berow176_col6\" class=\"data row176 col6\" >0.422541</td>\n",
       "            </tr>\n",
       "            <tr>\n",
       "                        <th id=\"T_49ab1195_3b06_11eb_bb5f_4ccc6acf21belevel0_row177\" class=\"row_heading level0 row177\" >1124</th>\n",
       "                        <td id=\"T_49ab1195_3b06_11eb_bb5f_4ccc6acf21berow177_col0\" class=\"data row177 col0\" >0.380994</td>\n",
       "                        <td id=\"T_49ab1195_3b06_11eb_bb5f_4ccc6acf21berow177_col1\" class=\"data row177 col1\" >0.273556</td>\n",
       "                        <td id=\"T_49ab1195_3b06_11eb_bb5f_4ccc6acf21berow177_col2\" class=\"data row177 col2\" >0.592905</td>\n",
       "                        <td id=\"T_49ab1195_3b06_11eb_bb5f_4ccc6acf21berow177_col3\" class=\"data row177 col3\" >0.806351</td>\n",
       "                        <td id=\"T_49ab1195_3b06_11eb_bb5f_4ccc6acf21berow177_col4\" class=\"data row177 col4\" >One</td>\n",
       "                        <td id=\"T_49ab1195_3b06_11eb_bb5f_4ccc6acf21berow177_col5\" class=\"data row177 col5\" >One</td>\n",
       "                        <td id=\"T_49ab1195_3b06_11eb_bb5f_4ccc6acf21berow177_col6\" class=\"data row177 col6\" >0.425341</td>\n",
       "            </tr>\n",
       "            <tr>\n",
       "                        <th id=\"T_49ab1195_3b06_11eb_bb5f_4ccc6acf21belevel0_row178\" class=\"row_heading level0 row178\" >1334</th>\n",
       "                        <td id=\"T_49ab1195_3b06_11eb_bb5f_4ccc6acf21berow178_col0\" class=\"data row178 col0\" >0.429714</td>\n",
       "                        <td id=\"T_49ab1195_3b06_11eb_bb5f_4ccc6acf21berow178_col1\" class=\"data row178 col1\" >0.503677</td>\n",
       "                        <td id=\"T_49ab1195_3b06_11eb_bb5f_4ccc6acf21berow178_col2\" class=\"data row178 col2\" >0.282922</td>\n",
       "                        <td id=\"T_49ab1195_3b06_11eb_bb5f_4ccc6acf21berow178_col3\" class=\"data row178 col3\" >0.814817</td>\n",
       "                        <td id=\"T_49ab1195_3b06_11eb_bb5f_4ccc6acf21berow178_col4\" class=\"data row178 col4\" >One</td>\n",
       "                        <td id=\"T_49ab1195_3b06_11eb_bb5f_4ccc6acf21berow178_col5\" class=\"data row178 col5\" >One</td>\n",
       "                        <td id=\"T_49ab1195_3b06_11eb_bb5f_4ccc6acf21berow178_col6\" class=\"data row178 col6\" >0.426880</td>\n",
       "            </tr>\n",
       "            <tr>\n",
       "                        <th id=\"T_49ab1195_3b06_11eb_bb5f_4ccc6acf21belevel0_row179\" class=\"row_heading level0 row179\" >1286</th>\n",
       "                        <td id=\"T_49ab1195_3b06_11eb_bb5f_4ccc6acf21berow179_col0\" class=\"data row179 col0\" >0.044523</td>\n",
       "                        <td id=\"T_49ab1195_3b06_11eb_bb5f_4ccc6acf21berow179_col1\" class=\"data row179 col1\" >0.872010</td>\n",
       "                        <td id=\"T_49ab1195_3b06_11eb_bb5f_4ccc6acf21berow179_col2\" class=\"data row179 col2\" >0.228701</td>\n",
       "                        <td id=\"T_49ab1195_3b06_11eb_bb5f_4ccc6acf21berow179_col3\" class=\"data row179 col3\" >0.154260</td>\n",
       "                        <td id=\"T_49ab1195_3b06_11eb_bb5f_4ccc6acf21berow179_col4\" class=\"data row179 col4\" >One</td>\n",
       "                        <td id=\"T_49ab1195_3b06_11eb_bb5f_4ccc6acf21berow179_col5\" class=\"data row179 col5\" >One</td>\n",
       "                        <td id=\"T_49ab1195_3b06_11eb_bb5f_4ccc6acf21berow179_col6\" class=\"data row179 col6\" >0.427116</td>\n",
       "            </tr>\n",
       "            <tr>\n",
       "                        <th id=\"T_49ab1195_3b06_11eb_bb5f_4ccc6acf21belevel0_row180\" class=\"row_heading level0 row180\" >1015</th>\n",
       "                        <td id=\"T_49ab1195_3b06_11eb_bb5f_4ccc6acf21berow180_col0\" class=\"data row180 col0\" >0.442367</td>\n",
       "                        <td id=\"T_49ab1195_3b06_11eb_bb5f_4ccc6acf21berow180_col1\" class=\"data row180 col1\" >0.219666</td>\n",
       "                        <td id=\"T_49ab1195_3b06_11eb_bb5f_4ccc6acf21berow180_col2\" class=\"data row180 col2\" >0.519818</td>\n",
       "                        <td id=\"T_49ab1195_3b06_11eb_bb5f_4ccc6acf21berow180_col3\" class=\"data row180 col3\" >0.808350</td>\n",
       "                        <td id=\"T_49ab1195_3b06_11eb_bb5f_4ccc6acf21berow180_col4\" class=\"data row180 col4\" >One</td>\n",
       "                        <td id=\"T_49ab1195_3b06_11eb_bb5f_4ccc6acf21berow180_col5\" class=\"data row180 col5\" >One</td>\n",
       "                        <td id=\"T_49ab1195_3b06_11eb_bb5f_4ccc6acf21berow180_col6\" class=\"data row180 col6\" >0.431596</td>\n",
       "            </tr>\n",
       "            <tr>\n",
       "                        <th id=\"T_49ab1195_3b06_11eb_bb5f_4ccc6acf21belevel0_row181\" class=\"row_heading level0 row181\" >1322</th>\n",
       "                        <td id=\"T_49ab1195_3b06_11eb_bb5f_4ccc6acf21berow181_col0\" class=\"data row181 col0\" >0.437650</td>\n",
       "                        <td id=\"T_49ab1195_3b06_11eb_bb5f_4ccc6acf21berow181_col1\" class=\"data row181 col1\" >0.275262</td>\n",
       "                        <td id=\"T_49ab1195_3b06_11eb_bb5f_4ccc6acf21berow181_col2\" class=\"data row181 col2\" >0.469068</td>\n",
       "                        <td id=\"T_49ab1195_3b06_11eb_bb5f_4ccc6acf21berow181_col3\" class=\"data row181 col3\" >0.871137</td>\n",
       "                        <td id=\"T_49ab1195_3b06_11eb_bb5f_4ccc6acf21berow181_col4\" class=\"data row181 col4\" >One</td>\n",
       "                        <td id=\"T_49ab1195_3b06_11eb_bb5f_4ccc6acf21berow181_col5\" class=\"data row181 col5\" >One</td>\n",
       "                        <td id=\"T_49ab1195_3b06_11eb_bb5f_4ccc6acf21berow181_col6\" class=\"data row181 col6\" >0.431723</td>\n",
       "            </tr>\n",
       "            <tr>\n",
       "                        <th id=\"T_49ab1195_3b06_11eb_bb5f_4ccc6acf21belevel0_row182\" class=\"row_heading level0 row182\" >1007</th>\n",
       "                        <td id=\"T_49ab1195_3b06_11eb_bb5f_4ccc6acf21berow182_col0\" class=\"data row182 col0\" >0.495362</td>\n",
       "                        <td id=\"T_49ab1195_3b06_11eb_bb5f_4ccc6acf21berow182_col1\" class=\"data row182 col1\" >0.471156</td>\n",
       "                        <td id=\"T_49ab1195_3b06_11eb_bb5f_4ccc6acf21berow182_col2\" class=\"data row182 col2\" >0.287242</td>\n",
       "                        <td id=\"T_49ab1195_3b06_11eb_bb5f_4ccc6acf21berow182_col3\" class=\"data row182 col3\" >0.843976</td>\n",
       "                        <td id=\"T_49ab1195_3b06_11eb_bb5f_4ccc6acf21berow182_col4\" class=\"data row182 col4\" >One</td>\n",
       "                        <td id=\"T_49ab1195_3b06_11eb_bb5f_4ccc6acf21berow182_col5\" class=\"data row182 col5\" >One</td>\n",
       "                        <td id=\"T_49ab1195_3b06_11eb_bb5f_4ccc6acf21berow182_col6\" class=\"data row182 col6\" >0.431737</td>\n",
       "            </tr>\n",
       "            <tr>\n",
       "                        <th id=\"T_49ab1195_3b06_11eb_bb5f_4ccc6acf21belevel0_row183\" class=\"row_heading level0 row183\" >981</th>\n",
       "                        <td id=\"T_49ab1195_3b06_11eb_bb5f_4ccc6acf21berow183_col0\" class=\"data row183 col0\" >0.070838</td>\n",
       "                        <td id=\"T_49ab1195_3b06_11eb_bb5f_4ccc6acf21berow183_col1\" class=\"data row183 col1\" >0.863183</td>\n",
       "                        <td id=\"T_49ab1195_3b06_11eb_bb5f_4ccc6acf21berow183_col2\" class=\"data row183 col2\" >0.208916</td>\n",
       "                        <td id=\"T_49ab1195_3b06_11eb_bb5f_4ccc6acf21berow183_col3\" class=\"data row183 col3\" >0.198114</td>\n",
       "                        <td id=\"T_49ab1195_3b06_11eb_bb5f_4ccc6acf21berow183_col4\" class=\"data row183 col4\" >One</td>\n",
       "                        <td id=\"T_49ab1195_3b06_11eb_bb5f_4ccc6acf21berow183_col5\" class=\"data row183 col5\" >One</td>\n",
       "                        <td id=\"T_49ab1195_3b06_11eb_bb5f_4ccc6acf21berow183_col6\" class=\"data row183 col6\" >0.431808</td>\n",
       "            </tr>\n",
       "            <tr>\n",
       "                        <th id=\"T_49ab1195_3b06_11eb_bb5f_4ccc6acf21belevel0_row184\" class=\"row_heading level0 row184\" >954</th>\n",
       "                        <td id=\"T_49ab1195_3b06_11eb_bb5f_4ccc6acf21berow184_col0\" class=\"data row184 col0\" >0.433615</td>\n",
       "                        <td id=\"T_49ab1195_3b06_11eb_bb5f_4ccc6acf21berow184_col1\" class=\"data row184 col1\" >0.276344</td>\n",
       "                        <td id=\"T_49ab1195_3b06_11eb_bb5f_4ccc6acf21berow184_col2\" class=\"data row184 col2\" >0.465746</td>\n",
       "                        <td id=\"T_49ab1195_3b06_11eb_bb5f_4ccc6acf21berow184_col3\" class=\"data row184 col3\" >0.849973</td>\n",
       "                        <td id=\"T_49ab1195_3b06_11eb_bb5f_4ccc6acf21berow184_col4\" class=\"data row184 col4\" >One</td>\n",
       "                        <td id=\"T_49ab1195_3b06_11eb_bb5f_4ccc6acf21berow184_col5\" class=\"data row184 col5\" >One</td>\n",
       "                        <td id=\"T_49ab1195_3b06_11eb_bb5f_4ccc6acf21berow184_col6\" class=\"data row184 col6\" >0.435760</td>\n",
       "            </tr>\n",
       "            <tr>\n",
       "                        <th id=\"T_49ab1195_3b06_11eb_bb5f_4ccc6acf21belevel0_row185\" class=\"row_heading level0 row185\" >956</th>\n",
       "                        <td id=\"T_49ab1195_3b06_11eb_bb5f_4ccc6acf21berow185_col0\" class=\"data row185 col0\" >0.430356</td>\n",
       "                        <td id=\"T_49ab1195_3b06_11eb_bb5f_4ccc6acf21berow185_col1\" class=\"data row185 col1\" >0.279210</td>\n",
       "                        <td id=\"T_49ab1195_3b06_11eb_bb5f_4ccc6acf21berow185_col2\" class=\"data row185 col2\" >0.458401</td>\n",
       "                        <td id=\"T_49ab1195_3b06_11eb_bb5f_4ccc6acf21berow185_col3\" class=\"data row185 col3\" >0.850443</td>\n",
       "                        <td id=\"T_49ab1195_3b06_11eb_bb5f_4ccc6acf21berow185_col4\" class=\"data row185 col4\" >One</td>\n",
       "                        <td id=\"T_49ab1195_3b06_11eb_bb5f_4ccc6acf21berow185_col5\" class=\"data row185 col5\" >One</td>\n",
       "                        <td id=\"T_49ab1195_3b06_11eb_bb5f_4ccc6acf21berow185_col6\" class=\"data row185 col6\" >0.435858</td>\n",
       "            </tr>\n",
       "            <tr>\n",
       "                        <th id=\"T_49ab1195_3b06_11eb_bb5f_4ccc6acf21belevel0_row186\" class=\"row_heading level0 row186\" >1174</th>\n",
       "                        <td id=\"T_49ab1195_3b06_11eb_bb5f_4ccc6acf21berow186_col0\" class=\"data row186 col0\" >0.276702</td>\n",
       "                        <td id=\"T_49ab1195_3b06_11eb_bb5f_4ccc6acf21berow186_col1\" class=\"data row186 col1\" >0.510027</td>\n",
       "                        <td id=\"T_49ab1195_3b06_11eb_bb5f_4ccc6acf21berow186_col2\" class=\"data row186 col2\" >0.269746</td>\n",
       "                        <td id=\"T_49ab1195_3b06_11eb_bb5f_4ccc6acf21berow186_col3\" class=\"data row186 col3\" >0.781425</td>\n",
       "                        <td id=\"T_49ab1195_3b06_11eb_bb5f_4ccc6acf21berow186_col4\" class=\"data row186 col4\" >One</td>\n",
       "                        <td id=\"T_49ab1195_3b06_11eb_bb5f_4ccc6acf21berow186_col5\" class=\"data row186 col5\" >One</td>\n",
       "                        <td id=\"T_49ab1195_3b06_11eb_bb5f_4ccc6acf21berow186_col6\" class=\"data row186 col6\" >0.441989</td>\n",
       "            </tr>\n",
       "            <tr>\n",
       "                        <th id=\"T_49ab1195_3b06_11eb_bb5f_4ccc6acf21belevel0_row187\" class=\"row_heading level0 row187\" >1017</th>\n",
       "                        <td id=\"T_49ab1195_3b06_11eb_bb5f_4ccc6acf21berow187_col0\" class=\"data row187 col0\" >0.440346</td>\n",
       "                        <td id=\"T_49ab1195_3b06_11eb_bb5f_4ccc6acf21berow187_col1\" class=\"data row187 col1\" >0.324505</td>\n",
       "                        <td id=\"T_49ab1195_3b06_11eb_bb5f_4ccc6acf21berow187_col2\" class=\"data row187 col2\" >0.423150</td>\n",
       "                        <td id=\"T_49ab1195_3b06_11eb_bb5f_4ccc6acf21berow187_col3\" class=\"data row187 col3\" >0.903353</td>\n",
       "                        <td id=\"T_49ab1195_3b06_11eb_bb5f_4ccc6acf21berow187_col4\" class=\"data row187 col4\" >One</td>\n",
       "                        <td id=\"T_49ab1195_3b06_11eb_bb5f_4ccc6acf21berow187_col5\" class=\"data row187 col5\" >One</td>\n",
       "                        <td id=\"T_49ab1195_3b06_11eb_bb5f_4ccc6acf21berow187_col6\" class=\"data row187 col6\" >0.444423</td>\n",
       "            </tr>\n",
       "            <tr>\n",
       "                        <th id=\"T_49ab1195_3b06_11eb_bb5f_4ccc6acf21belevel0_row188\" class=\"row_heading level0 row188\" >785</th>\n",
       "                        <td id=\"T_49ab1195_3b06_11eb_bb5f_4ccc6acf21berow188_col0\" class=\"data row188 col0\" >0.387679</td>\n",
       "                        <td id=\"T_49ab1195_3b06_11eb_bb5f_4ccc6acf21berow188_col1\" class=\"data row188 col1\" >0.504142</td>\n",
       "                        <td id=\"T_49ab1195_3b06_11eb_bb5f_4ccc6acf21berow188_col2\" class=\"data row188 col2\" >0.289052</td>\n",
       "                        <td id=\"T_49ab1195_3b06_11eb_bb5f_4ccc6acf21berow188_col3\" class=\"data row188 col3\" >0.779544</td>\n",
       "                        <td id=\"T_49ab1195_3b06_11eb_bb5f_4ccc6acf21berow188_col4\" class=\"data row188 col4\" >One</td>\n",
       "                        <td id=\"T_49ab1195_3b06_11eb_bb5f_4ccc6acf21berow188_col5\" class=\"data row188 col5\" >One</td>\n",
       "                        <td id=\"T_49ab1195_3b06_11eb_bb5f_4ccc6acf21berow188_col6\" class=\"data row188 col6\" >0.447188</td>\n",
       "            </tr>\n",
       "            <tr>\n",
       "                        <th id=\"T_49ab1195_3b06_11eb_bb5f_4ccc6acf21belevel0_row189\" class=\"row_heading level0 row189\" >1333</th>\n",
       "                        <td id=\"T_49ab1195_3b06_11eb_bb5f_4ccc6acf21berow189_col0\" class=\"data row189 col0\" >0.301452</td>\n",
       "                        <td id=\"T_49ab1195_3b06_11eb_bb5f_4ccc6acf21berow189_col1\" class=\"data row189 col1\" >0.684475</td>\n",
       "                        <td id=\"T_49ab1195_3b06_11eb_bb5f_4ccc6acf21berow189_col2\" class=\"data row189 col2\" >0.202678</td>\n",
       "                        <td id=\"T_49ab1195_3b06_11eb_bb5f_4ccc6acf21berow189_col3\" class=\"data row189 col3\" >0.389654</td>\n",
       "                        <td id=\"T_49ab1195_3b06_11eb_bb5f_4ccc6acf21berow189_col4\" class=\"data row189 col4\" >One</td>\n",
       "                        <td id=\"T_49ab1195_3b06_11eb_bb5f_4ccc6acf21berow189_col5\" class=\"data row189 col5\" >One</td>\n",
       "                        <td id=\"T_49ab1195_3b06_11eb_bb5f_4ccc6acf21berow189_col6\" class=\"data row189 col6\" >0.447845</td>\n",
       "            </tr>\n",
       "            <tr>\n",
       "                        <th id=\"T_49ab1195_3b06_11eb_bb5f_4ccc6acf21belevel0_row190\" class=\"row_heading level0 row190\" >1151</th>\n",
       "                        <td id=\"T_49ab1195_3b06_11eb_bb5f_4ccc6acf21berow190_col0\" class=\"data row190 col0\" >0.340949</td>\n",
       "                        <td id=\"T_49ab1195_3b06_11eb_bb5f_4ccc6acf21berow190_col1\" class=\"data row190 col1\" >0.489740</td>\n",
       "                        <td id=\"T_49ab1195_3b06_11eb_bb5f_4ccc6acf21berow190_col2\" class=\"data row190 col2\" >0.313154</td>\n",
       "                        <td id=\"T_49ab1195_3b06_11eb_bb5f_4ccc6acf21berow190_col3\" class=\"data row190 col3\" >0.736509</td>\n",
       "                        <td id=\"T_49ab1195_3b06_11eb_bb5f_4ccc6acf21berow190_col4\" class=\"data row190 col4\" >One</td>\n",
       "                        <td id=\"T_49ab1195_3b06_11eb_bb5f_4ccc6acf21berow190_col5\" class=\"data row190 col5\" >One</td>\n",
       "                        <td id=\"T_49ab1195_3b06_11eb_bb5f_4ccc6acf21berow190_col6\" class=\"data row190 col6\" >0.452517</td>\n",
       "            </tr>\n",
       "            <tr>\n",
       "                        <th id=\"T_49ab1195_3b06_11eb_bb5f_4ccc6acf21belevel0_row191\" class=\"row_heading level0 row191\" >878</th>\n",
       "                        <td id=\"T_49ab1195_3b06_11eb_bb5f_4ccc6acf21berow191_col0\" class=\"data row191 col0\" >0.270911</td>\n",
       "                        <td id=\"T_49ab1195_3b06_11eb_bb5f_4ccc6acf21berow191_col1\" class=\"data row191 col1\" >0.666436</td>\n",
       "                        <td id=\"T_49ab1195_3b06_11eb_bb5f_4ccc6acf21berow191_col2\" class=\"data row191 col2\" >0.208178</td>\n",
       "                        <td id=\"T_49ab1195_3b06_11eb_bb5f_4ccc6acf21berow191_col3\" class=\"data row191 col3\" >0.611528</td>\n",
       "                        <td id=\"T_49ab1195_3b06_11eb_bb5f_4ccc6acf21berow191_col4\" class=\"data row191 col4\" >One</td>\n",
       "                        <td id=\"T_49ab1195_3b06_11eb_bb5f_4ccc6acf21berow191_col5\" class=\"data row191 col5\" >One</td>\n",
       "                        <td id=\"T_49ab1195_3b06_11eb_bb5f_4ccc6acf21berow191_col6\" class=\"data row191 col6\" >0.455055</td>\n",
       "            </tr>\n",
       "            <tr>\n",
       "                        <th id=\"T_49ab1195_3b06_11eb_bb5f_4ccc6acf21belevel0_row192\" class=\"row_heading level0 row192\" >1006</th>\n",
       "                        <td id=\"T_49ab1195_3b06_11eb_bb5f_4ccc6acf21berow192_col0\" class=\"data row192 col0\" >0.437024</td>\n",
       "                        <td id=\"T_49ab1195_3b06_11eb_bb5f_4ccc6acf21berow192_col1\" class=\"data row192 col1\" >0.619977</td>\n",
       "                        <td id=\"T_49ab1195_3b06_11eb_bb5f_4ccc6acf21berow192_col2\" class=\"data row192 col2\" >0.174554</td>\n",
       "                        <td id=\"T_49ab1195_3b06_11eb_bb5f_4ccc6acf21berow192_col3\" class=\"data row192 col3\" >0.634805</td>\n",
       "                        <td id=\"T_49ab1195_3b06_11eb_bb5f_4ccc6acf21berow192_col4\" class=\"data row192 col4\" >One</td>\n",
       "                        <td id=\"T_49ab1195_3b06_11eb_bb5f_4ccc6acf21berow192_col5\" class=\"data row192 col5\" >One</td>\n",
       "                        <td id=\"T_49ab1195_3b06_11eb_bb5f_4ccc6acf21berow192_col6\" class=\"data row192 col6\" >0.456587</td>\n",
       "            </tr>\n",
       "            <tr>\n",
       "                        <th id=\"T_49ab1195_3b06_11eb_bb5f_4ccc6acf21belevel0_row193\" class=\"row_heading level0 row193\" >1068</th>\n",
       "                        <td id=\"T_49ab1195_3b06_11eb_bb5f_4ccc6acf21berow193_col0\" class=\"data row193 col0\" >0.530770</td>\n",
       "                        <td id=\"T_49ab1195_3b06_11eb_bb5f_4ccc6acf21berow193_col1\" class=\"data row193 col1\" >0.478203</td>\n",
       "                        <td id=\"T_49ab1195_3b06_11eb_bb5f_4ccc6acf21berow193_col2\" class=\"data row193 col2\" >0.274875</td>\n",
       "                        <td id=\"T_49ab1195_3b06_11eb_bb5f_4ccc6acf21berow193_col3\" class=\"data row193 col3\" >0.857851</td>\n",
       "                        <td id=\"T_49ab1195_3b06_11eb_bb5f_4ccc6acf21berow193_col4\" class=\"data row193 col4\" >One</td>\n",
       "                        <td id=\"T_49ab1195_3b06_11eb_bb5f_4ccc6acf21berow193_col5\" class=\"data row193 col5\" >One</td>\n",
       "                        <td id=\"T_49ab1195_3b06_11eb_bb5f_4ccc6acf21berow193_col6\" class=\"data row193 col6\" >0.457888</td>\n",
       "            </tr>\n",
       "            <tr>\n",
       "                        <th id=\"T_49ab1195_3b06_11eb_bb5f_4ccc6acf21belevel0_row194\" class=\"row_heading level0 row194\" >1312</th>\n",
       "                        <td id=\"T_49ab1195_3b06_11eb_bb5f_4ccc6acf21berow194_col0\" class=\"data row194 col0\" >0.548175</td>\n",
       "                        <td id=\"T_49ab1195_3b06_11eb_bb5f_4ccc6acf21berow194_col1\" class=\"data row194 col1\" >0.503755</td>\n",
       "                        <td id=\"T_49ab1195_3b06_11eb_bb5f_4ccc6acf21berow194_col2\" class=\"data row194 col2\" >0.235603</td>\n",
       "                        <td id=\"T_49ab1195_3b06_11eb_bb5f_4ccc6acf21berow194_col3\" class=\"data row194 col3\" >0.817874</td>\n",
       "                        <td id=\"T_49ab1195_3b06_11eb_bb5f_4ccc6acf21berow194_col4\" class=\"data row194 col4\" >One</td>\n",
       "                        <td id=\"T_49ab1195_3b06_11eb_bb5f_4ccc6acf21berow194_col5\" class=\"data row194 col5\" >One</td>\n",
       "                        <td id=\"T_49ab1195_3b06_11eb_bb5f_4ccc6acf21berow194_col6\" class=\"data row194 col6\" >0.464064</td>\n",
       "            </tr>\n",
       "            <tr>\n",
       "                        <th id=\"T_49ab1195_3b06_11eb_bb5f_4ccc6acf21belevel0_row195\" class=\"row_heading level0 row195\" >875</th>\n",
       "                        <td id=\"T_49ab1195_3b06_11eb_bb5f_4ccc6acf21berow195_col0\" class=\"data row195 col0\" >0.373494</td>\n",
       "                        <td id=\"T_49ab1195_3b06_11eb_bb5f_4ccc6acf21berow195_col1\" class=\"data row195 col1\" >0.483623</td>\n",
       "                        <td id=\"T_49ab1195_3b06_11eb_bb5f_4ccc6acf21berow195_col2\" class=\"data row195 col2\" >0.337037</td>\n",
       "                        <td id=\"T_49ab1195_3b06_11eb_bb5f_4ccc6acf21berow195_col3\" class=\"data row195 col3\" >0.786128</td>\n",
       "                        <td id=\"T_49ab1195_3b06_11eb_bb5f_4ccc6acf21berow195_col4\" class=\"data row195 col4\" >One</td>\n",
       "                        <td id=\"T_49ab1195_3b06_11eb_bb5f_4ccc6acf21berow195_col5\" class=\"data row195 col5\" >One</td>\n",
       "                        <td id=\"T_49ab1195_3b06_11eb_bb5f_4ccc6acf21berow195_col6\" class=\"data row195 col6\" >0.467884</td>\n",
       "            </tr>\n",
       "            <tr>\n",
       "                        <th id=\"T_49ab1195_3b06_11eb_bb5f_4ccc6acf21belevel0_row196\" class=\"row_heading level0 row196\" >1179</th>\n",
       "                        <td id=\"T_49ab1195_3b06_11eb_bb5f_4ccc6acf21berow196_col0\" class=\"data row196 col0\" >0.271459</td>\n",
       "                        <td id=\"T_49ab1195_3b06_11eb_bb5f_4ccc6acf21berow196_col1\" class=\"data row196 col1\" >0.582809</td>\n",
       "                        <td id=\"T_49ab1195_3b06_11eb_bb5f_4ccc6acf21berow196_col2\" class=\"data row196 col2\" >0.235492</td>\n",
       "                        <td id=\"T_49ab1195_3b06_11eb_bb5f_4ccc6acf21berow196_col3\" class=\"data row196 col3\" >0.559672</td>\n",
       "                        <td id=\"T_49ab1195_3b06_11eb_bb5f_4ccc6acf21berow196_col4\" class=\"data row196 col4\" >One</td>\n",
       "                        <td id=\"T_49ab1195_3b06_11eb_bb5f_4ccc6acf21berow196_col5\" class=\"data row196 col5\" >One</td>\n",
       "                        <td id=\"T_49ab1195_3b06_11eb_bb5f_4ccc6acf21berow196_col6\" class=\"data row196 col6\" >0.474822</td>\n",
       "            </tr>\n",
       "            <tr>\n",
       "                        <th id=\"T_49ab1195_3b06_11eb_bb5f_4ccc6acf21belevel0_row197\" class=\"row_heading level0 row197\" >892</th>\n",
       "                        <td id=\"T_49ab1195_3b06_11eb_bb5f_4ccc6acf21berow197_col0\" class=\"data row197 col0\" >0.523290</td>\n",
       "                        <td id=\"T_49ab1195_3b06_11eb_bb5f_4ccc6acf21berow197_col1\" class=\"data row197 col1\" >0.489353</td>\n",
       "                        <td id=\"T_49ab1195_3b06_11eb_bb5f_4ccc6acf21berow197_col2\" class=\"data row197 col2\" >0.265501</td>\n",
       "                        <td id=\"T_49ab1195_3b06_11eb_bb5f_4ccc6acf21berow197_col3\" class=\"data row197 col3\" >0.804235</td>\n",
       "                        <td id=\"T_49ab1195_3b06_11eb_bb5f_4ccc6acf21berow197_col4\" class=\"data row197 col4\" >One</td>\n",
       "                        <td id=\"T_49ab1195_3b06_11eb_bb5f_4ccc6acf21berow197_col5\" class=\"data row197 col5\" >Zero</td>\n",
       "                        <td id=\"T_49ab1195_3b06_11eb_bb5f_4ccc6acf21berow197_col6\" class=\"data row197 col6\" >0.498185</td>\n",
       "            </tr>\n",
       "            <tr>\n",
       "                        <th id=\"T_49ab1195_3b06_11eb_bb5f_4ccc6acf21belevel0_row198\" class=\"row_heading level0 row198\" >1053</th>\n",
       "                        <td id=\"T_49ab1195_3b06_11eb_bb5f_4ccc6acf21berow198_col0\" class=\"data row198 col0\" >0.447595</td>\n",
       "                        <td id=\"T_49ab1195_3b06_11eb_bb5f_4ccc6acf21berow198_col1\" class=\"data row198 col1\" >0.545489</td>\n",
       "                        <td id=\"T_49ab1195_3b06_11eb_bb5f_4ccc6acf21berow198_col2\" class=\"data row198 col2\" >0.157021</td>\n",
       "                        <td id=\"T_49ab1195_3b06_11eb_bb5f_4ccc6acf21berow198_col3\" class=\"data row198 col3\" >0.759791</td>\n",
       "                        <td id=\"T_49ab1195_3b06_11eb_bb5f_4ccc6acf21berow198_col4\" class=\"data row198 col4\" >One</td>\n",
       "                        <td id=\"T_49ab1195_3b06_11eb_bb5f_4ccc6acf21berow198_col5\" class=\"data row198 col5\" >Zero</td>\n",
       "                        <td id=\"T_49ab1195_3b06_11eb_bb5f_4ccc6acf21berow198_col6\" class=\"data row198 col6\" >0.498379</td>\n",
       "            </tr>\n",
       "            <tr>\n",
       "                        <th id=\"T_49ab1195_3b06_11eb_bb5f_4ccc6acf21belevel0_row199\" class=\"row_heading level0 row199\" >1067</th>\n",
       "                        <td id=\"T_49ab1195_3b06_11eb_bb5f_4ccc6acf21berow199_col0\" class=\"data row199 col0\" >0.448268</td>\n",
       "                        <td id=\"T_49ab1195_3b06_11eb_bb5f_4ccc6acf21berow199_col1\" class=\"data row199 col1\" >0.626170</td>\n",
       "                        <td id=\"T_49ab1195_3b06_11eb_bb5f_4ccc6acf21berow199_col2\" class=\"data row199 col2\" >0.172301</td>\n",
       "                        <td id=\"T_49ab1195_3b06_11eb_bb5f_4ccc6acf21berow199_col3\" class=\"data row199 col3\" >0.644089</td>\n",
       "                        <td id=\"T_49ab1195_3b06_11eb_bb5f_4ccc6acf21berow199_col4\" class=\"data row199 col4\" >One</td>\n",
       "                        <td id=\"T_49ab1195_3b06_11eb_bb5f_4ccc6acf21berow199_col5\" class=\"data row199 col5\" >Zero</td>\n",
       "                        <td id=\"T_49ab1195_3b06_11eb_bb5f_4ccc6acf21berow199_col6\" class=\"data row199 col6\" >0.500986</td>\n",
       "            </tr>\n",
       "            <tr>\n",
       "                        <th id=\"T_49ab1195_3b06_11eb_bb5f_4ccc6acf21belevel0_row200\" class=\"row_heading level0 row200\" >1078</th>\n",
       "                        <td id=\"T_49ab1195_3b06_11eb_bb5f_4ccc6acf21berow200_col0\" class=\"data row200 col0\" >0.481144</td>\n",
       "                        <td id=\"T_49ab1195_3b06_11eb_bb5f_4ccc6acf21berow200_col1\" class=\"data row200 col1\" >0.307547</td>\n",
       "                        <td id=\"T_49ab1195_3b06_11eb_bb5f_4ccc6acf21berow200_col2\" class=\"data row200 col2\" >0.433412</td>\n",
       "                        <td id=\"T_49ab1195_3b06_11eb_bb5f_4ccc6acf21berow200_col3\" class=\"data row200 col3\" >0.917937</td>\n",
       "                        <td id=\"T_49ab1195_3b06_11eb_bb5f_4ccc6acf21berow200_col4\" class=\"data row200 col4\" >One</td>\n",
       "                        <td id=\"T_49ab1195_3b06_11eb_bb5f_4ccc6acf21berow200_col5\" class=\"data row200 col5\" >Zero</td>\n",
       "                        <td id=\"T_49ab1195_3b06_11eb_bb5f_4ccc6acf21berow200_col6\" class=\"data row200 col6\" >0.504062</td>\n",
       "            </tr>\n",
       "            <tr>\n",
       "                        <th id=\"T_49ab1195_3b06_11eb_bb5f_4ccc6acf21belevel0_row201\" class=\"row_heading level0 row201\" >891</th>\n",
       "                        <td id=\"T_49ab1195_3b06_11eb_bb5f_4ccc6acf21berow201_col0\" class=\"data row201 col0\" >0.468167</td>\n",
       "                        <td id=\"T_49ab1195_3b06_11eb_bb5f_4ccc6acf21berow201_col1\" class=\"data row201 col1\" >0.622608</td>\n",
       "                        <td id=\"T_49ab1195_3b06_11eb_bb5f_4ccc6acf21berow201_col2\" class=\"data row201 col2\" >0.156689</td>\n",
       "                        <td id=\"T_49ab1195_3b06_11eb_bb5f_4ccc6acf21berow201_col3\" class=\"data row201 col3\" >0.556144</td>\n",
       "                        <td id=\"T_49ab1195_3b06_11eb_bb5f_4ccc6acf21berow201_col4\" class=\"data row201 col4\" >One</td>\n",
       "                        <td id=\"T_49ab1195_3b06_11eb_bb5f_4ccc6acf21berow201_col5\" class=\"data row201 col5\" >Zero</td>\n",
       "                        <td id=\"T_49ab1195_3b06_11eb_bb5f_4ccc6acf21berow201_col6\" class=\"data row201 col6\" >0.510166</td>\n",
       "            </tr>\n",
       "            <tr>\n",
       "                        <th id=\"T_49ab1195_3b06_11eb_bb5f_4ccc6acf21belevel0_row202\" class=\"row_heading level0 row202\" >640</th>\n",
       "                        <td id=\"T_49ab1195_3b06_11eb_bb5f_4ccc6acf21berow202_col0\" class=\"data row202 col0\" >0.808299</td>\n",
       "                        <td id=\"T_49ab1195_3b06_11eb_bb5f_4ccc6acf21berow202_col1\" class=\"data row202 col1\" >0.498722</td>\n",
       "                        <td id=\"T_49ab1195_3b06_11eb_bb5f_4ccc6acf21berow202_col2\" class=\"data row202 col2\" >0.237818</td>\n",
       "                        <td id=\"T_49ab1195_3b06_11eb_bb5f_4ccc6acf21berow202_col3\" class=\"data row202 col3\" >0.802589</td>\n",
       "                        <td id=\"T_49ab1195_3b06_11eb_bb5f_4ccc6acf21berow202_col4\" class=\"data row202 col4\" >Zero</td>\n",
       "                        <td id=\"T_49ab1195_3b06_11eb_bb5f_4ccc6acf21berow202_col5\" class=\"data row202 col5\" >Zero</td>\n",
       "                        <td id=\"T_49ab1195_3b06_11eb_bb5f_4ccc6acf21berow202_col6\" class=\"data row202 col6\" >0.520700</td>\n",
       "            </tr>\n",
       "            <tr>\n",
       "                        <th id=\"T_49ab1195_3b06_11eb_bb5f_4ccc6acf21belevel0_row203\" class=\"row_heading level0 row203\" >216</th>\n",
       "                        <td id=\"T_49ab1195_3b06_11eb_bb5f_4ccc6acf21berow203_col0\" class=\"data row203 col0\" >0.603271</td>\n",
       "                        <td id=\"T_49ab1195_3b06_11eb_bb5f_4ccc6acf21berow203_col1\" class=\"data row203 col1\" >0.638716</td>\n",
       "                        <td id=\"T_49ab1195_3b06_11eb_bb5f_4ccc6acf21berow203_col2\" class=\"data row203 col2\" >0.237892</td>\n",
       "                        <td id=\"T_49ab1195_3b06_11eb_bb5f_4ccc6acf21berow203_col3\" class=\"data row203 col3\" >0.766375</td>\n",
       "                        <td id=\"T_49ab1195_3b06_11eb_bb5f_4ccc6acf21berow203_col4\" class=\"data row203 col4\" >Zero</td>\n",
       "                        <td id=\"T_49ab1195_3b06_11eb_bb5f_4ccc6acf21berow203_col5\" class=\"data row203 col5\" >Zero</td>\n",
       "                        <td id=\"T_49ab1195_3b06_11eb_bb5f_4ccc6acf21berow203_col6\" class=\"data row203 col6\" >0.520773</td>\n",
       "            </tr>\n",
       "            <tr>\n",
       "                        <th id=\"T_49ab1195_3b06_11eb_bb5f_4ccc6acf21belevel0_row204\" class=\"row_heading level0 row204\" >953</th>\n",
       "                        <td id=\"T_49ab1195_3b06_11eb_bb5f_4ccc6acf21berow204_col0\" class=\"data row204 col0\" >0.501187</td>\n",
       "                        <td id=\"T_49ab1195_3b06_11eb_bb5f_4ccc6acf21berow204_col1\" class=\"data row204 col1\" >0.530081</td>\n",
       "                        <td id=\"T_49ab1195_3b06_11eb_bb5f_4ccc6acf21berow204_col2\" class=\"data row204 col2\" >0.213567</td>\n",
       "                        <td id=\"T_49ab1195_3b06_11eb_bb5f_4ccc6acf21berow204_col3\" class=\"data row204 col3\" >0.764729</td>\n",
       "                        <td id=\"T_49ab1195_3b06_11eb_bb5f_4ccc6acf21berow204_col4\" class=\"data row204 col4\" >One</td>\n",
       "                        <td id=\"T_49ab1195_3b06_11eb_bb5f_4ccc6acf21berow204_col5\" class=\"data row204 col5\" >Zero</td>\n",
       "                        <td id=\"T_49ab1195_3b06_11eb_bb5f_4ccc6acf21berow204_col6\" class=\"data row204 col6\" >0.528433</td>\n",
       "            </tr>\n",
       "            <tr>\n",
       "                        <th id=\"T_49ab1195_3b06_11eb_bb5f_4ccc6acf21belevel0_row205\" class=\"row_heading level0 row205\" >1040</th>\n",
       "                        <td id=\"T_49ab1195_3b06_11eb_bb5f_4ccc6acf21berow205_col0\" class=\"data row205 col0\" >0.636739</td>\n",
       "                        <td id=\"T_49ab1195_3b06_11eb_bb5f_4ccc6acf21berow205_col1\" class=\"data row205 col1\" >0.694230</td>\n",
       "                        <td id=\"T_49ab1195_3b06_11eb_bb5f_4ccc6acf21berow205_col2\" class=\"data row205 col2\" >0.006457</td>\n",
       "                        <td id=\"T_49ab1195_3b06_11eb_bb5f_4ccc6acf21berow205_col3\" class=\"data row205 col3\" >0.483010</td>\n",
       "                        <td id=\"T_49ab1195_3b06_11eb_bb5f_4ccc6acf21berow205_col4\" class=\"data row205 col4\" >One</td>\n",
       "                        <td id=\"T_49ab1195_3b06_11eb_bb5f_4ccc6acf21berow205_col5\" class=\"data row205 col5\" >Zero</td>\n",
       "                        <td id=\"T_49ab1195_3b06_11eb_bb5f_4ccc6acf21berow205_col6\" class=\"data row205 col6\" >0.530355</td>\n",
       "            </tr>\n",
       "            <tr>\n",
       "                        <th id=\"T_49ab1195_3b06_11eb_bb5f_4ccc6acf21belevel0_row206\" class=\"row_heading level0 row206\" >824</th>\n",
       "                        <td id=\"T_49ab1195_3b06_11eb_bb5f_4ccc6acf21berow206_col0\" class=\"data row206 col0\" >0.476869</td>\n",
       "                        <td id=\"T_49ab1195_3b06_11eb_bb5f_4ccc6acf21berow206_col1\" class=\"data row206 col1\" >0.509872</td>\n",
       "                        <td id=\"T_49ab1195_3b06_11eb_bb5f_4ccc6acf21berow206_col2\" class=\"data row206 col2\" >0.229623</td>\n",
       "                        <td id=\"T_49ab1195_3b06_11eb_bb5f_4ccc6acf21berow206_col3\" class=\"data row206 col3\" >0.763082</td>\n",
       "                        <td id=\"T_49ab1195_3b06_11eb_bb5f_4ccc6acf21berow206_col4\" class=\"data row206 col4\" >One</td>\n",
       "                        <td id=\"T_49ab1195_3b06_11eb_bb5f_4ccc6acf21berow206_col5\" class=\"data row206 col5\" >Zero</td>\n",
       "                        <td id=\"T_49ab1195_3b06_11eb_bb5f_4ccc6acf21berow206_col6\" class=\"data row206 col6\" >0.533721</td>\n",
       "            </tr>\n",
       "            <tr>\n",
       "                        <th id=\"T_49ab1195_3b06_11eb_bb5f_4ccc6acf21belevel0_row207\" class=\"row_heading level0 row207\" >374</th>\n",
       "                        <td id=\"T_49ab1195_3b06_11eb_bb5f_4ccc6acf21berow207_col0\" class=\"data row207 col0\" >0.399267</td>\n",
       "                        <td id=\"T_49ab1195_3b06_11eb_bb5f_4ccc6acf21berow207_col1\" class=\"data row207 col1\" >0.518002</td>\n",
       "                        <td id=\"T_49ab1195_3b06_11eb_bb5f_4ccc6acf21berow207_col2\" class=\"data row207 col2\" >0.523583</td>\n",
       "                        <td id=\"T_49ab1195_3b06_11eb_bb5f_4ccc6acf21berow207_col3\" class=\"data row207 col3\" >0.731218</td>\n",
       "                        <td id=\"T_49ab1195_3b06_11eb_bb5f_4ccc6acf21berow207_col4\" class=\"data row207 col4\" >Zero</td>\n",
       "                        <td id=\"T_49ab1195_3b06_11eb_bb5f_4ccc6acf21berow207_col5\" class=\"data row207 col5\" >Zero</td>\n",
       "                        <td id=\"T_49ab1195_3b06_11eb_bb5f_4ccc6acf21berow207_col6\" class=\"data row207 col6\" >0.538790</td>\n",
       "            </tr>\n",
       "            <tr>\n",
       "                        <th id=\"T_49ab1195_3b06_11eb_bb5f_4ccc6acf21belevel0_row208\" class=\"row_heading level0 row208\" >30</th>\n",
       "                        <td id=\"T_49ab1195_3b06_11eb_bb5f_4ccc6acf21berow208_col0\" class=\"data row208 col0\" >0.489943</td>\n",
       "                        <td id=\"T_49ab1195_3b06_11eb_bb5f_4ccc6acf21berow208_col1\" class=\"data row208 col1\" >0.508710</td>\n",
       "                        <td id=\"T_49ab1195_3b06_11eb_bb5f_4ccc6acf21berow208_col2\" class=\"data row208 col2\" >0.439094</td>\n",
       "                        <td id=\"T_49ab1195_3b06_11eb_bb5f_4ccc6acf21berow208_col3\" class=\"data row208 col3\" >0.791301</td>\n",
       "                        <td id=\"T_49ab1195_3b06_11eb_bb5f_4ccc6acf21berow208_col4\" class=\"data row208 col4\" >Zero</td>\n",
       "                        <td id=\"T_49ab1195_3b06_11eb_bb5f_4ccc6acf21berow208_col5\" class=\"data row208 col5\" >Zero</td>\n",
       "                        <td id=\"T_49ab1195_3b06_11eb_bb5f_4ccc6acf21berow208_col6\" class=\"data row208 col6\" >0.559594</td>\n",
       "            </tr>\n",
       "            <tr>\n",
       "                        <th id=\"T_49ab1195_3b06_11eb_bb5f_4ccc6acf21belevel0_row209\" class=\"row_heading level0 row209\" >1258</th>\n",
       "                        <td id=\"T_49ab1195_3b06_11eb_bb5f_4ccc6acf21berow209_col0\" class=\"data row209 col0\" >0.463093</td>\n",
       "                        <td id=\"T_49ab1195_3b06_11eb_bb5f_4ccc6acf21berow209_col1\" class=\"data row209 col1\" >0.536275</td>\n",
       "                        <td id=\"T_49ab1195_3b06_11eb_bb5f_4ccc6acf21berow209_col2\" class=\"data row209 col2\" >0.211094</td>\n",
       "                        <td id=\"T_49ab1195_3b06_11eb_bb5f_4ccc6acf21berow209_col3\" class=\"data row209 col3\" >0.716874</td>\n",
       "                        <td id=\"T_49ab1195_3b06_11eb_bb5f_4ccc6acf21berow209_col4\" class=\"data row209 col4\" >One</td>\n",
       "                        <td id=\"T_49ab1195_3b06_11eb_bb5f_4ccc6acf21berow209_col5\" class=\"data row209 col5\" >Zero</td>\n",
       "                        <td id=\"T_49ab1195_3b06_11eb_bb5f_4ccc6acf21berow209_col6\" class=\"data row209 col6\" >0.559611</td>\n",
       "            </tr>\n",
       "            <tr>\n",
       "                        <th id=\"T_49ab1195_3b06_11eb_bb5f_4ccc6acf21belevel0_row210\" class=\"row_heading level0 row210\" >293</th>\n",
       "                        <td id=\"T_49ab1195_3b06_11eb_bb5f_4ccc6acf21berow210_col0\" class=\"data row210 col0\" >0.647304</td>\n",
       "                        <td id=\"T_49ab1195_3b06_11eb_bb5f_4ccc6acf21berow210_col1\" class=\"data row210 col1\" >0.515369</td>\n",
       "                        <td id=\"T_49ab1195_3b06_11eb_bb5f_4ccc6acf21berow210_col2\" class=\"data row210 col2\" >0.435182</td>\n",
       "                        <td id=\"T_49ab1195_3b06_11eb_bb5f_4ccc6acf21berow210_col3\" class=\"data row210 col3\" >0.746386</td>\n",
       "                        <td id=\"T_49ab1195_3b06_11eb_bb5f_4ccc6acf21berow210_col4\" class=\"data row210 col4\" >Zero</td>\n",
       "                        <td id=\"T_49ab1195_3b06_11eb_bb5f_4ccc6acf21berow210_col5\" class=\"data row210 col5\" >Zero</td>\n",
       "                        <td id=\"T_49ab1195_3b06_11eb_bb5f_4ccc6acf21berow210_col6\" class=\"data row210 col6\" >0.563933</td>\n",
       "            </tr>\n",
       "            <tr>\n",
       "                        <th id=\"T_49ab1195_3b06_11eb_bb5f_4ccc6acf21belevel0_row211\" class=\"row_heading level0 row211\" >635</th>\n",
       "                        <td id=\"T_49ab1195_3b06_11eb_bb5f_4ccc6acf21berow211_col0\" class=\"data row211 col0\" >0.644614</td>\n",
       "                        <td id=\"T_49ab1195_3b06_11eb_bb5f_4ccc6acf21berow211_col1\" class=\"data row211 col1\" >0.421213</td>\n",
       "                        <td id=\"T_49ab1195_3b06_11eb_bb5f_4ccc6acf21berow211_col2\" class=\"data row211 col2\" >0.348737</td>\n",
       "                        <td id=\"T_49ab1195_3b06_11eb_bb5f_4ccc6acf21berow211_col3\" class=\"data row211 col3\" >0.704764</td>\n",
       "                        <td id=\"T_49ab1195_3b06_11eb_bb5f_4ccc6acf21berow211_col4\" class=\"data row211 col4\" >Zero</td>\n",
       "                        <td id=\"T_49ab1195_3b06_11eb_bb5f_4ccc6acf21berow211_col5\" class=\"data row211 col5\" >Zero</td>\n",
       "                        <td id=\"T_49ab1195_3b06_11eb_bb5f_4ccc6acf21berow211_col6\" class=\"data row211 col6\" >0.582363</td>\n",
       "            </tr>\n",
       "            <tr>\n",
       "                        <th id=\"T_49ab1195_3b06_11eb_bb5f_4ccc6acf21belevel0_row212\" class=\"row_heading level0 row212\" >464</th>\n",
       "                        <td id=\"T_49ab1195_3b06_11eb_bb5f_4ccc6acf21berow212_col0\" class=\"data row212 col0\" >0.921792</td>\n",
       "                        <td id=\"T_49ab1195_3b06_11eb_bb5f_4ccc6acf21berow212_col1\" class=\"data row212 col1\" >0.498799</td>\n",
       "                        <td id=\"T_49ab1195_3b06_11eb_bb5f_4ccc6acf21berow212_col2\" class=\"data row212 col2\" >0.244093</td>\n",
       "                        <td id=\"T_49ab1195_3b06_11eb_bb5f_4ccc6acf21berow212_col3\" class=\"data row212 col3\" >0.902416</td>\n",
       "                        <td id=\"T_49ab1195_3b06_11eb_bb5f_4ccc6acf21berow212_col4\" class=\"data row212 col4\" >Zero</td>\n",
       "                        <td id=\"T_49ab1195_3b06_11eb_bb5f_4ccc6acf21berow212_col5\" class=\"data row212 col5\" >Zero</td>\n",
       "                        <td id=\"T_49ab1195_3b06_11eb_bb5f_4ccc6acf21berow212_col6\" class=\"data row212 col6\" >0.582407</td>\n",
       "            </tr>\n",
       "            <tr>\n",
       "                        <th id=\"T_49ab1195_3b06_11eb_bb5f_4ccc6acf21belevel0_row213\" class=\"row_heading level0 row213\" >727</th>\n",
       "                        <td id=\"T_49ab1195_3b06_11eb_bb5f_4ccc6acf21berow213_col0\" class=\"data row213 col0\" >0.316884</td>\n",
       "                        <td id=\"T_49ab1195_3b06_11eb_bb5f_4ccc6acf21berow213_col1\" class=\"data row213 col1\" >0.894697</td>\n",
       "                        <td id=\"T_49ab1195_3b06_11eb_bb5f_4ccc6acf21berow213_col2\" class=\"data row213 col2\" >0.170379</td>\n",
       "                        <td id=\"T_49ab1195_3b06_11eb_bb5f_4ccc6acf21berow213_col3\" class=\"data row213 col3\" >0.279831</td>\n",
       "                        <td id=\"T_49ab1195_3b06_11eb_bb5f_4ccc6acf21berow213_col4\" class=\"data row213 col4\" >Zero</td>\n",
       "                        <td id=\"T_49ab1195_3b06_11eb_bb5f_4ccc6acf21berow213_col5\" class=\"data row213 col5\" >Zero</td>\n",
       "                        <td id=\"T_49ab1195_3b06_11eb_bb5f_4ccc6acf21berow213_col6\" class=\"data row213 col6\" >0.583689</td>\n",
       "            </tr>\n",
       "            <tr>\n",
       "                        <th id=\"T_49ab1195_3b06_11eb_bb5f_4ccc6acf21belevel0_row214\" class=\"row_heading level0 row214\" >227</th>\n",
       "                        <td id=\"T_49ab1195_3b06_11eb_bb5f_4ccc6acf21berow214_col0\" class=\"data row214 col0\" >0.316884</td>\n",
       "                        <td id=\"T_49ab1195_3b06_11eb_bb5f_4ccc6acf21berow214_col1\" class=\"data row214 col1\" >0.894697</td>\n",
       "                        <td id=\"T_49ab1195_3b06_11eb_bb5f_4ccc6acf21berow214_col2\" class=\"data row214 col2\" >0.170379</td>\n",
       "                        <td id=\"T_49ab1195_3b06_11eb_bb5f_4ccc6acf21berow214_col3\" class=\"data row214 col3\" >0.279831</td>\n",
       "                        <td id=\"T_49ab1195_3b06_11eb_bb5f_4ccc6acf21berow214_col4\" class=\"data row214 col4\" >Zero</td>\n",
       "                        <td id=\"T_49ab1195_3b06_11eb_bb5f_4ccc6acf21berow214_col5\" class=\"data row214 col5\" >Zero</td>\n",
       "                        <td id=\"T_49ab1195_3b06_11eb_bb5f_4ccc6acf21berow214_col6\" class=\"data row214 col6\" >0.583689</td>\n",
       "            </tr>\n",
       "            <tr>\n",
       "                        <th id=\"T_49ab1195_3b06_11eb_bb5f_4ccc6acf21belevel0_row215\" class=\"row_heading level0 row215\" >418</th>\n",
       "                        <td id=\"T_49ab1195_3b06_11eb_bb5f_4ccc6acf21berow215_col0\" class=\"data row215 col0\" >0.417144</td>\n",
       "                        <td id=\"T_49ab1195_3b06_11eb_bb5f_4ccc6acf21berow215_col1\" class=\"data row215 col1\" >0.574835</td>\n",
       "                        <td id=\"T_49ab1195_3b06_11eb_bb5f_4ccc6acf21berow215_col2\" class=\"data row215 col2\" >0.529601</td>\n",
       "                        <td id=\"T_49ab1195_3b06_11eb_bb5f_4ccc6acf21berow215_col3\" class=\"data row215 col3\" >0.815875</td>\n",
       "                        <td id=\"T_49ab1195_3b06_11eb_bb5f_4ccc6acf21berow215_col4\" class=\"data row215 col4\" >Zero</td>\n",
       "                        <td id=\"T_49ab1195_3b06_11eb_bb5f_4ccc6acf21berow215_col5\" class=\"data row215 col5\" >Zero</td>\n",
       "                        <td id=\"T_49ab1195_3b06_11eb_bb5f_4ccc6acf21berow215_col6\" class=\"data row215 col6\" >0.591230</td>\n",
       "            </tr>\n",
       "            <tr>\n",
       "                        <th id=\"T_49ab1195_3b06_11eb_bb5f_4ccc6acf21belevel0_row216\" class=\"row_heading level0 row216\" >931</th>\n",
       "                        <td id=\"T_49ab1195_3b06_11eb_bb5f_4ccc6acf21berow216_col0\" class=\"data row216 col0\" >0.472325</td>\n",
       "                        <td id=\"T_49ab1195_3b06_11eb_bb5f_4ccc6acf21berow216_col1\" class=\"data row216 col1\" >0.548819</td>\n",
       "                        <td id=\"T_49ab1195_3b06_11eb_bb5f_4ccc6acf21berow216_col2\" class=\"data row216 col2\" >0.157572</td>\n",
       "                        <td id=\"T_49ab1195_3b06_11eb_bb5f_4ccc6acf21berow216_col3\" class=\"data row216 col3\" >0.725575</td>\n",
       "                        <td id=\"T_49ab1195_3b06_11eb_bb5f_4ccc6acf21berow216_col4\" class=\"data row216 col4\" >One</td>\n",
       "                        <td id=\"T_49ab1195_3b06_11eb_bb5f_4ccc6acf21berow216_col5\" class=\"data row216 col5\" >Zero</td>\n",
       "                        <td id=\"T_49ab1195_3b06_11eb_bb5f_4ccc6acf21berow216_col6\" class=\"data row216 col6\" >0.596742</td>\n",
       "            </tr>\n",
       "            <tr>\n",
       "                        <th id=\"T_49ab1195_3b06_11eb_bb5f_4ccc6acf21belevel0_row217\" class=\"row_heading level0 row217\" >202</th>\n",
       "                        <td id=\"T_49ab1195_3b06_11eb_bb5f_4ccc6acf21berow217_col0\" class=\"data row217 col0\" >0.451089</td>\n",
       "                        <td id=\"T_49ab1195_3b06_11eb_bb5f_4ccc6acf21berow217_col1\" class=\"data row217 col1\" >0.873327</td>\n",
       "                        <td id=\"T_49ab1195_3b06_11eb_bb5f_4ccc6acf21berow217_col2\" class=\"data row217 col2\" >0.064592</td>\n",
       "                        <td id=\"T_49ab1195_3b06_11eb_bb5f_4ccc6acf21berow217_col3\" class=\"data row217 col3\" >0.095002</td>\n",
       "                        <td id=\"T_49ab1195_3b06_11eb_bb5f_4ccc6acf21berow217_col4\" class=\"data row217 col4\" >Zero</td>\n",
       "                        <td id=\"T_49ab1195_3b06_11eb_bb5f_4ccc6acf21berow217_col5\" class=\"data row217 col5\" >Zero</td>\n",
       "                        <td id=\"T_49ab1195_3b06_11eb_bb5f_4ccc6acf21berow217_col6\" class=\"data row217 col6\" >0.597582</td>\n",
       "            </tr>\n",
       "            <tr>\n",
       "                        <th id=\"T_49ab1195_3b06_11eb_bb5f_4ccc6acf21belevel0_row218\" class=\"row_heading level0 row218\" >502</th>\n",
       "                        <td id=\"T_49ab1195_3b06_11eb_bb5f_4ccc6acf21berow218_col0\" class=\"data row218 col0\" >0.652431</td>\n",
       "                        <td id=\"T_49ab1195_3b06_11eb_bb5f_4ccc6acf21berow218_col1\" class=\"data row218 col1\" >0.258536</td>\n",
       "                        <td id=\"T_49ab1195_3b06_11eb_bb5f_4ccc6acf21berow218_col2\" class=\"data row218 col2\" >0.578030</td>\n",
       "                        <td id=\"T_49ab1195_3b06_11eb_bb5f_4ccc6acf21berow218_col3\" class=\"data row218 col3\" >0.755440</td>\n",
       "                        <td id=\"T_49ab1195_3b06_11eb_bb5f_4ccc6acf21berow218_col4\" class=\"data row218 col4\" >Zero</td>\n",
       "                        <td id=\"T_49ab1195_3b06_11eb_bb5f_4ccc6acf21berow218_col5\" class=\"data row218 col5\" >Zero</td>\n",
       "                        <td id=\"T_49ab1195_3b06_11eb_bb5f_4ccc6acf21berow218_col6\" class=\"data row218 col6\" >0.600562</td>\n",
       "            </tr>\n",
       "            <tr>\n",
       "                        <th id=\"T_49ab1195_3b06_11eb_bb5f_4ccc6acf21belevel0_row219\" class=\"row_heading level0 row219\" >729</th>\n",
       "                        <td id=\"T_49ab1195_3b06_11eb_bb5f_4ccc6acf21berow219_col0\" class=\"data row219 col0\" >0.438661</td>\n",
       "                        <td id=\"T_49ab1195_3b06_11eb_bb5f_4ccc6acf21berow219_col1\" class=\"data row219 col1\" >0.518776</td>\n",
       "                        <td id=\"T_49ab1195_3b06_11eb_bb5f_4ccc6acf21berow219_col2\" class=\"data row219 col2\" >0.495681</td>\n",
       "                        <td id=\"T_49ab1195_3b06_11eb_bb5f_4ccc6acf21berow219_col3\" class=\"data row219 col3\" >0.642443</td>\n",
       "                        <td id=\"T_49ab1195_3b06_11eb_bb5f_4ccc6acf21berow219_col4\" class=\"data row219 col4\" >Zero</td>\n",
       "                        <td id=\"T_49ab1195_3b06_11eb_bb5f_4ccc6acf21berow219_col5\" class=\"data row219 col5\" >Zero</td>\n",
       "                        <td id=\"T_49ab1195_3b06_11eb_bb5f_4ccc6acf21berow219_col6\" class=\"data row219 col6\" >0.605275</td>\n",
       "            </tr>\n",
       "            <tr>\n",
       "                        <th id=\"T_49ab1195_3b06_11eb_bb5f_4ccc6acf21belevel0_row220\" class=\"row_heading level0 row220\" >691</th>\n",
       "                        <td id=\"T_49ab1195_3b06_11eb_bb5f_4ccc6acf21berow220_col0\" class=\"data row220 col0\" >0.548984</td>\n",
       "                        <td id=\"T_49ab1195_3b06_11eb_bb5f_4ccc6acf21berow220_col1\" class=\"data row220 col1\" >0.514442</td>\n",
       "                        <td id=\"T_49ab1195_3b06_11eb_bb5f_4ccc6acf21berow220_col2\" class=\"data row220 col2\" >0.281224</td>\n",
       "                        <td id=\"T_49ab1195_3b06_11eb_bb5f_4ccc6acf21berow220_col3\" class=\"data row220 col3\" >0.726161</td>\n",
       "                        <td id=\"T_49ab1195_3b06_11eb_bb5f_4ccc6acf21berow220_col4\" class=\"data row220 col4\" >Zero</td>\n",
       "                        <td id=\"T_49ab1195_3b06_11eb_bb5f_4ccc6acf21berow220_col5\" class=\"data row220 col5\" >Zero</td>\n",
       "                        <td id=\"T_49ab1195_3b06_11eb_bb5f_4ccc6acf21berow220_col6\" class=\"data row220 col6\" >0.607060</td>\n",
       "            </tr>\n",
       "            <tr>\n",
       "                        <th id=\"T_49ab1195_3b06_11eb_bb5f_4ccc6acf21belevel0_row221\" class=\"row_heading level0 row221\" >498</th>\n",
       "                        <td id=\"T_49ab1195_3b06_11eb_bb5f_4ccc6acf21berow221_col0\" class=\"data row221 col0\" >0.548984</td>\n",
       "                        <td id=\"T_49ab1195_3b06_11eb_bb5f_4ccc6acf21berow221_col1\" class=\"data row221 col1\" >0.514442</td>\n",
       "                        <td id=\"T_49ab1195_3b06_11eb_bb5f_4ccc6acf21berow221_col2\" class=\"data row221 col2\" >0.281224</td>\n",
       "                        <td id=\"T_49ab1195_3b06_11eb_bb5f_4ccc6acf21berow221_col3\" class=\"data row221 col3\" >0.726161</td>\n",
       "                        <td id=\"T_49ab1195_3b06_11eb_bb5f_4ccc6acf21berow221_col4\" class=\"data row221 col4\" >Zero</td>\n",
       "                        <td id=\"T_49ab1195_3b06_11eb_bb5f_4ccc6acf21berow221_col5\" class=\"data row221 col5\" >Zero</td>\n",
       "                        <td id=\"T_49ab1195_3b06_11eb_bb5f_4ccc6acf21berow221_col6\" class=\"data row221 col6\" >0.607060</td>\n",
       "            </tr>\n",
       "            <tr>\n",
       "                        <th id=\"T_49ab1195_3b06_11eb_bb5f_4ccc6acf21belevel0_row222\" class=\"row_heading level0 row222\" >642</th>\n",
       "                        <td id=\"T_49ab1195_3b06_11eb_bb5f_4ccc6acf21berow222_col0\" class=\"data row222 col0\" >0.877932</td>\n",
       "                        <td id=\"T_49ab1195_3b06_11eb_bb5f_4ccc6acf21berow222_col1\" class=\"data row222 col1\" >0.514208</td>\n",
       "                        <td id=\"T_49ab1195_3b06_11eb_bb5f_4ccc6acf21berow222_col2\" class=\"data row222 col2\" >0.241767</td>\n",
       "                        <td id=\"T_49ab1195_3b06_11eb_bb5f_4ccc6acf21berow222_col3\" class=\"data row222 col3\" >0.878666</td>\n",
       "                        <td id=\"T_49ab1195_3b06_11eb_bb5f_4ccc6acf21berow222_col4\" class=\"data row222 col4\" >Zero</td>\n",
       "                        <td id=\"T_49ab1195_3b06_11eb_bb5f_4ccc6acf21berow222_col5\" class=\"data row222 col5\" >Zero</td>\n",
       "                        <td id=\"T_49ab1195_3b06_11eb_bb5f_4ccc6acf21berow222_col6\" class=\"data row222 col6\" >0.616313</td>\n",
       "            </tr>\n",
       "            <tr>\n",
       "                        <th id=\"T_49ab1195_3b06_11eb_bb5f_4ccc6acf21belevel0_row223\" class=\"row_heading level0 row223\" >251</th>\n",
       "                        <td id=\"T_49ab1195_3b06_11eb_bb5f_4ccc6acf21berow223_col0\" class=\"data row223 col0\" >0.549273</td>\n",
       "                        <td id=\"T_49ab1195_3b06_11eb_bb5f_4ccc6acf21berow223_col1\" class=\"data row223 col1\" >0.893690</td>\n",
       "                        <td id=\"T_49ab1195_3b06_11eb_bb5f_4ccc6acf21berow223_col2\" class=\"data row223 col2\" >0.154841</td>\n",
       "                        <td id=\"T_49ab1195_3b06_11eb_bb5f_4ccc6acf21berow223_col3\" class=\"data row223 col3\" >0.377897</td>\n",
       "                        <td id=\"T_49ab1195_3b06_11eb_bb5f_4ccc6acf21berow223_col4\" class=\"data row223 col4\" >Zero</td>\n",
       "                        <td id=\"T_49ab1195_3b06_11eb_bb5f_4ccc6acf21berow223_col5\" class=\"data row223 col5\" >Zero</td>\n",
       "                        <td id=\"T_49ab1195_3b06_11eb_bb5f_4ccc6acf21berow223_col6\" class=\"data row223 col6\" >0.617627</td>\n",
       "            </tr>\n",
       "            <tr>\n",
       "                        <th id=\"T_49ab1195_3b06_11eb_bb5f_4ccc6acf21belevel0_row224\" class=\"row_heading level0 row224\" >569</th>\n",
       "                        <td id=\"T_49ab1195_3b06_11eb_bb5f_4ccc6acf21berow224_col0\" class=\"data row224 col0\" >0.639357</td>\n",
       "                        <td id=\"T_49ab1195_3b06_11eb_bb5f_4ccc6acf21berow224_col1\" class=\"data row224 col1\" >0.261866</td>\n",
       "                        <td id=\"T_49ab1195_3b06_11eb_bb5f_4ccc6acf21berow224_col2\" class=\"data row224 col2\" >0.589028</td>\n",
       "                        <td id=\"T_49ab1195_3b06_11eb_bb5f_4ccc6acf21berow224_col3\" class=\"data row224 col3\" >0.728044</td>\n",
       "                        <td id=\"T_49ab1195_3b06_11eb_bb5f_4ccc6acf21berow224_col4\" class=\"data row224 col4\" >Zero</td>\n",
       "                        <td id=\"T_49ab1195_3b06_11eb_bb5f_4ccc6acf21berow224_col5\" class=\"data row224 col5\" >Zero</td>\n",
       "                        <td id=\"T_49ab1195_3b06_11eb_bb5f_4ccc6acf21berow224_col6\" class=\"data row224 col6\" >0.618143</td>\n",
       "            </tr>\n",
       "            <tr>\n",
       "                        <th id=\"T_49ab1195_3b06_11eb_bb5f_4ccc6acf21belevel0_row225\" class=\"row_heading level0 row225\" >627</th>\n",
       "                        <td id=\"T_49ab1195_3b06_11eb_bb5f_4ccc6acf21berow225_col0\" class=\"data row225 col0\" >0.653167</td>\n",
       "                        <td id=\"T_49ab1195_3b06_11eb_bb5f_4ccc6acf21berow225_col1\" class=\"data row225 col1\" >0.531707</td>\n",
       "                        <td id=\"T_49ab1195_3b06_11eb_bb5f_4ccc6acf21berow225_col2\" class=\"data row225 col2\" >0.425291</td>\n",
       "                        <td id=\"T_49ab1195_3b06_11eb_bb5f_4ccc6acf21berow225_col3\" class=\"data row225 col3\" >0.748620</td>\n",
       "                        <td id=\"T_49ab1195_3b06_11eb_bb5f_4ccc6acf21berow225_col4\" class=\"data row225 col4\" >Zero</td>\n",
       "                        <td id=\"T_49ab1195_3b06_11eb_bb5f_4ccc6acf21berow225_col5\" class=\"data row225 col5\" >Zero</td>\n",
       "                        <td id=\"T_49ab1195_3b06_11eb_bb5f_4ccc6acf21berow225_col6\" class=\"data row225 col6\" >0.624502</td>\n",
       "            </tr>\n",
       "            <tr>\n",
       "                        <th id=\"T_49ab1195_3b06_11eb_bb5f_4ccc6acf21belevel0_row226\" class=\"row_heading level0 row226\" >232</th>\n",
       "                        <td id=\"T_49ab1195_3b06_11eb_bb5f_4ccc6acf21berow226_col0\" class=\"data row226 col0\" >0.670784</td>\n",
       "                        <td id=\"T_49ab1195_3b06_11eb_bb5f_4ccc6acf21berow226_col1\" class=\"data row226 col1\" >0.514130</td>\n",
       "                        <td id=\"T_49ab1195_3b06_11eb_bb5f_4ccc6acf21berow226_col2\" class=\"data row226 col2\" >0.431714</td>\n",
       "                        <td id=\"T_49ab1195_3b06_11eb_bb5f_4ccc6acf21berow226_col3\" class=\"data row226 col3\" >0.752030</td>\n",
       "                        <td id=\"T_49ab1195_3b06_11eb_bb5f_4ccc6acf21berow226_col4\" class=\"data row226 col4\" >Zero</td>\n",
       "                        <td id=\"T_49ab1195_3b06_11eb_bb5f_4ccc6acf21berow226_col5\" class=\"data row226 col5\" >Zero</td>\n",
       "                        <td id=\"T_49ab1195_3b06_11eb_bb5f_4ccc6acf21berow226_col6\" class=\"data row226 col6\" >0.626018</td>\n",
       "            </tr>\n",
       "            <tr>\n",
       "                        <th id=\"T_49ab1195_3b06_11eb_bb5f_4ccc6acf21belevel0_row227\" class=\"row_heading level0 row227\" >656</th>\n",
       "                        <td id=\"T_49ab1195_3b06_11eb_bb5f_4ccc6acf21berow227_col0\" class=\"data row227 col0\" >0.409673</td>\n",
       "                        <td id=\"T_49ab1195_3b06_11eb_bb5f_4ccc6acf21berow227_col1\" class=\"data row227 col1\" >0.915524</td>\n",
       "                        <td id=\"T_49ab1195_3b06_11eb_bb5f_4ccc6acf21berow227_col2\" class=\"data row227 col2\" >0.301045</td>\n",
       "                        <td id=\"T_49ab1195_3b06_11eb_bb5f_4ccc6acf21berow227_col3\" class=\"data row227 col3\" >0.513344</td>\n",
       "                        <td id=\"T_49ab1195_3b06_11eb_bb5f_4ccc6acf21berow227_col4\" class=\"data row227 col4\" >Zero</td>\n",
       "                        <td id=\"T_49ab1195_3b06_11eb_bb5f_4ccc6acf21berow227_col5\" class=\"data row227 col5\" >Zero</td>\n",
       "                        <td id=\"T_49ab1195_3b06_11eb_bb5f_4ccc6acf21berow227_col6\" class=\"data row227 col6\" >0.626596</td>\n",
       "            </tr>\n",
       "            <tr>\n",
       "                        <th id=\"T_49ab1195_3b06_11eb_bb5f_4ccc6acf21belevel0_row228\" class=\"row_heading level0 row228\" >694</th>\n",
       "                        <td id=\"T_49ab1195_3b06_11eb_bb5f_4ccc6acf21berow228_col0\" class=\"data row228 col0\" >0.561239</td>\n",
       "                        <td id=\"T_49ab1195_3b06_11eb_bb5f_4ccc6acf21berow228_col1\" class=\"data row228 col1\" >0.529074</td>\n",
       "                        <td id=\"T_49ab1195_3b06_11eb_bb5f_4ccc6acf21berow228_col2\" class=\"data row228 col2\" >0.322455</td>\n",
       "                        <td id=\"T_49ab1195_3b06_11eb_bb5f_4ccc6acf21berow228_col3\" class=\"data row228 col3\" >0.821284</td>\n",
       "                        <td id=\"T_49ab1195_3b06_11eb_bb5f_4ccc6acf21berow228_col4\" class=\"data row228 col4\" >Zero</td>\n",
       "                        <td id=\"T_49ab1195_3b06_11eb_bb5f_4ccc6acf21berow228_col5\" class=\"data row228 col5\" >Zero</td>\n",
       "                        <td id=\"T_49ab1195_3b06_11eb_bb5f_4ccc6acf21berow228_col6\" class=\"data row228 col6\" >0.632579</td>\n",
       "            </tr>\n",
       "            <tr>\n",
       "                        <th id=\"T_49ab1195_3b06_11eb_bb5f_4ccc6acf21belevel0_row229\" class=\"row_heading level0 row229\" >523</th>\n",
       "                        <td id=\"T_49ab1195_3b06_11eb_bb5f_4ccc6acf21berow229_col0\" class=\"data row229 col0\" >0.661575</td>\n",
       "                        <td id=\"T_49ab1195_3b06_11eb_bb5f_4ccc6acf21berow229_col1\" class=\"data row229 col1\" >0.439025</td>\n",
       "                        <td id=\"T_49ab1195_3b06_11eb_bb5f_4ccc6acf21berow229_col2\" class=\"data row229 col2\" >0.337885</td>\n",
       "                        <td id=\"T_49ab1195_3b06_11eb_bb5f_4ccc6acf21berow229_col3\" class=\"data row229 col3\" >0.771666</td>\n",
       "                        <td id=\"T_49ab1195_3b06_11eb_bb5f_4ccc6acf21berow229_col4\" class=\"data row229 col4\" >Zero</td>\n",
       "                        <td id=\"T_49ab1195_3b06_11eb_bb5f_4ccc6acf21berow229_col5\" class=\"data row229 col5\" >Zero</td>\n",
       "                        <td id=\"T_49ab1195_3b06_11eb_bb5f_4ccc6acf21berow229_col6\" class=\"data row229 col6\" >0.636801</td>\n",
       "            </tr>\n",
       "            <tr>\n",
       "                        <th id=\"T_49ab1195_3b06_11eb_bb5f_4ccc6acf21belevel0_row230\" class=\"row_heading level0 row230\" >13</th>\n",
       "                        <td id=\"T_49ab1195_3b06_11eb_bb5f_4ccc6acf21berow230_col0\" class=\"data row230 col0\" >0.394126</td>\n",
       "                        <td id=\"T_49ab1195_3b06_11eb_bb5f_4ccc6acf21berow230_col1\" class=\"data row230 col1\" >0.921099</td>\n",
       "                        <td id=\"T_49ab1195_3b06_11eb_bb5f_4ccc6acf21berow230_col2\" class=\"data row230 col2\" >0.337403</td>\n",
       "                        <td id=\"T_49ab1195_3b06_11eb_bb5f_4ccc6acf21berow230_col3\" class=\"data row230 col3\" >0.510289</td>\n",
       "                        <td id=\"T_49ab1195_3b06_11eb_bb5f_4ccc6acf21berow230_col4\" class=\"data row230 col4\" >Zero</td>\n",
       "                        <td id=\"T_49ab1195_3b06_11eb_bb5f_4ccc6acf21berow230_col5\" class=\"data row230 col5\" >Zero</td>\n",
       "                        <td id=\"T_49ab1195_3b06_11eb_bb5f_4ccc6acf21berow230_col6\" class=\"data row230 col6\" >0.637967</td>\n",
       "            </tr>\n",
       "            <tr>\n",
       "                        <th id=\"T_49ab1195_3b06_11eb_bb5f_4ccc6acf21belevel0_row231\" class=\"row_heading level0 row231\" >551</th>\n",
       "                        <td id=\"T_49ab1195_3b06_11eb_bb5f_4ccc6acf21berow231_col0\" class=\"data row231 col0\" >0.762687</td>\n",
       "                        <td id=\"T_49ab1195_3b06_11eb_bb5f_4ccc6acf21berow231_col1\" class=\"data row231 col1\" >0.865660</td>\n",
       "                        <td id=\"T_49ab1195_3b06_11eb_bb5f_4ccc6acf21berow231_col2\" class=\"data row231 col2\" >0.071273</td>\n",
       "                        <td id=\"T_49ab1195_3b06_11eb_bb5f_4ccc6acf21berow231_col3\" class=\"data row231 col3\" >0.663966</td>\n",
       "                        <td id=\"T_49ab1195_3b06_11eb_bb5f_4ccc6acf21berow231_col4\" class=\"data row231 col4\" >Zero</td>\n",
       "                        <td id=\"T_49ab1195_3b06_11eb_bb5f_4ccc6acf21berow231_col5\" class=\"data row231 col5\" >Zero</td>\n",
       "                        <td id=\"T_49ab1195_3b06_11eb_bb5f_4ccc6acf21berow231_col6\" class=\"data row231 col6\" >0.640838</td>\n",
       "            </tr>\n",
       "            <tr>\n",
       "                        <th id=\"T_49ab1195_3b06_11eb_bb5f_4ccc6acf21belevel0_row232\" class=\"row_heading level0 row232\" >176</th>\n",
       "                        <td id=\"T_49ab1195_3b06_11eb_bb5f_4ccc6acf21berow232_col0\" class=\"data row232 col0\" >0.521595</td>\n",
       "                        <td id=\"T_49ab1195_3b06_11eb_bb5f_4ccc6acf21berow232_col1\" class=\"data row232 col1\" >0.856990</td>\n",
       "                        <td id=\"T_49ab1195_3b06_11eb_bb5f_4ccc6acf21berow232_col2\" class=\"data row232 col2\" >0.067250</td>\n",
       "                        <td id=\"T_49ab1195_3b06_11eb_bb5f_4ccc6acf21berow232_col3\" class=\"data row232 col3\" >0.247852</td>\n",
       "                        <td id=\"T_49ab1195_3b06_11eb_bb5f_4ccc6acf21berow232_col4\" class=\"data row232 col4\" >Zero</td>\n",
       "                        <td id=\"T_49ab1195_3b06_11eb_bb5f_4ccc6acf21berow232_col5\" class=\"data row232 col5\" >Zero</td>\n",
       "                        <td id=\"T_49ab1195_3b06_11eb_bb5f_4ccc6acf21berow232_col6\" class=\"data row232 col6\" >0.641297</td>\n",
       "            </tr>\n",
       "            <tr>\n",
       "                        <th id=\"T_49ab1195_3b06_11eb_bb5f_4ccc6acf21belevel0_row233\" class=\"row_heading level0 row233\" >636</th>\n",
       "                        <td id=\"T_49ab1195_3b06_11eb_bb5f_4ccc6acf21berow233_col0\" class=\"data row233 col0\" >0.663068</td>\n",
       "                        <td id=\"T_49ab1195_3b06_11eb_bb5f_4ccc6acf21berow233_col1\" class=\"data row233 col1\" >0.284628</td>\n",
       "                        <td id=\"T_49ab1195_3b06_11eb_bb5f_4ccc6acf21berow233_col2\" class=\"data row233 col2\" >0.575923</td>\n",
       "                        <td id=\"T_49ab1195_3b06_11eb_bb5f_4ccc6acf21berow233_col3\" class=\"data row233 col3\" >0.746033</td>\n",
       "                        <td id=\"T_49ab1195_3b06_11eb_bb5f_4ccc6acf21berow233_col4\" class=\"data row233 col4\" >Zero</td>\n",
       "                        <td id=\"T_49ab1195_3b06_11eb_bb5f_4ccc6acf21berow233_col5\" class=\"data row233 col5\" >Zero</td>\n",
       "                        <td id=\"T_49ab1195_3b06_11eb_bb5f_4ccc6acf21berow233_col6\" class=\"data row233 col6\" >0.642596</td>\n",
       "            </tr>\n",
       "            <tr>\n",
       "                        <th id=\"T_49ab1195_3b06_11eb_bb5f_4ccc6acf21belevel0_row234\" class=\"row_heading level0 row234\" >429</th>\n",
       "                        <td id=\"T_49ab1195_3b06_11eb_bb5f_4ccc6acf21berow234_col0\" class=\"data row234 col0\" >0.691748</td>\n",
       "                        <td id=\"T_49ab1195_3b06_11eb_bb5f_4ccc6acf21berow234_col1\" class=\"data row234 col1\" >0.330080</td>\n",
       "                        <td id=\"T_49ab1195_3b06_11eb_bb5f_4ccc6acf21berow234_col2\" class=\"data row234 col2\" >0.502251</td>\n",
       "                        <td id=\"T_49ab1195_3b06_11eb_bb5f_4ccc6acf21berow234_col3\" class=\"data row234 col3\" >0.739449</td>\n",
       "                        <td id=\"T_49ab1195_3b06_11eb_bb5f_4ccc6acf21berow234_col4\" class=\"data row234 col4\" >Zero</td>\n",
       "                        <td id=\"T_49ab1195_3b06_11eb_bb5f_4ccc6acf21berow234_col5\" class=\"data row234 col5\" >Zero</td>\n",
       "                        <td id=\"T_49ab1195_3b06_11eb_bb5f_4ccc6acf21berow234_col6\" class=\"data row234 col6\" >0.643560</td>\n",
       "            </tr>\n",
       "            <tr>\n",
       "                        <th id=\"T_49ab1195_3b06_11eb_bb5f_4ccc6acf21belevel0_row235\" class=\"row_heading level0 row235\" >573</th>\n",
       "                        <td id=\"T_49ab1195_3b06_11eb_bb5f_4ccc6acf21berow235_col0\" class=\"data row235 col0\" >0.713512</td>\n",
       "                        <td id=\"T_49ab1195_3b06_11eb_bb5f_4ccc6acf21berow235_col1\" class=\"data row235 col1\" >0.858535</td>\n",
       "                        <td id=\"T_49ab1195_3b06_11eb_bb5f_4ccc6acf21berow235_col2\" class=\"data row235 col2\" >0.070649</td>\n",
       "                        <td id=\"T_49ab1195_3b06_11eb_bb5f_4ccc6acf21berow235_col3\" class=\"data row235 col3\" >0.667731</td>\n",
       "                        <td id=\"T_49ab1195_3b06_11eb_bb5f_4ccc6acf21berow235_col4\" class=\"data row235 col4\" >Zero</td>\n",
       "                        <td id=\"T_49ab1195_3b06_11eb_bb5f_4ccc6acf21berow235_col5\" class=\"data row235 col5\" >Zero</td>\n",
       "                        <td id=\"T_49ab1195_3b06_11eb_bb5f_4ccc6acf21berow235_col6\" class=\"data row235 col6\" >0.645085</td>\n",
       "            </tr>\n",
       "            <tr>\n",
       "                        <th id=\"T_49ab1195_3b06_11eb_bb5f_4ccc6acf21belevel0_row236\" class=\"row_heading level0 row236\" >97</th>\n",
       "                        <td id=\"T_49ab1195_3b06_11eb_bb5f_4ccc6acf21berow236_col0\" class=\"data row236 col0\" >0.663717</td>\n",
       "                        <td id=\"T_49ab1195_3b06_11eb_bb5f_4ccc6acf21berow236_col1\" class=\"data row236 col1\" >0.257915</td>\n",
       "                        <td id=\"T_49ab1195_3b06_11eb_bb5f_4ccc6acf21berow236_col2\" class=\"data row236 col2\" >0.578879</td>\n",
       "                        <td id=\"T_49ab1195_3b06_11eb_bb5f_4ccc6acf21berow236_col3\" class=\"data row236 col3\" >0.769902</td>\n",
       "                        <td id=\"T_49ab1195_3b06_11eb_bb5f_4ccc6acf21berow236_col4\" class=\"data row236 col4\" >Zero</td>\n",
       "                        <td id=\"T_49ab1195_3b06_11eb_bb5f_4ccc6acf21berow236_col5\" class=\"data row236 col5\" >Zero</td>\n",
       "                        <td id=\"T_49ab1195_3b06_11eb_bb5f_4ccc6acf21berow236_col6\" class=\"data row236 col6\" >0.645097</td>\n",
       "            </tr>\n",
       "            <tr>\n",
       "                        <th id=\"T_49ab1195_3b06_11eb_bb5f_4ccc6acf21belevel0_row237\" class=\"row_heading level0 row237\" >395</th>\n",
       "                        <td id=\"T_49ab1195_3b06_11eb_bb5f_4ccc6acf21berow237_col0\" class=\"data row237 col0\" >0.598814</td>\n",
       "                        <td id=\"T_49ab1195_3b06_11eb_bb5f_4ccc6acf21berow237_col1\" class=\"data row237 col1\" >0.681145</td>\n",
       "                        <td id=\"T_49ab1195_3b06_11eb_bb5f_4ccc6acf21berow237_col2\" class=\"data row237 col2\" >0.170272</td>\n",
       "                        <td id=\"T_49ab1195_3b06_11eb_bb5f_4ccc6acf21berow237_col3\" class=\"data row237 col3\" >0.617993</td>\n",
       "                        <td id=\"T_49ab1195_3b06_11eb_bb5f_4ccc6acf21berow237_col4\" class=\"data row237 col4\" >Zero</td>\n",
       "                        <td id=\"T_49ab1195_3b06_11eb_bb5f_4ccc6acf21berow237_col5\" class=\"data row237 col5\" >Zero</td>\n",
       "                        <td id=\"T_49ab1195_3b06_11eb_bb5f_4ccc6acf21berow237_col6\" class=\"data row237 col6\" >0.645595</td>\n",
       "            </tr>\n",
       "            <tr>\n",
       "                        <th id=\"T_49ab1195_3b06_11eb_bb5f_4ccc6acf21belevel0_row238\" class=\"row_heading level0 row238\" >728</th>\n",
       "                        <td id=\"T_49ab1195_3b06_11eb_bb5f_4ccc6acf21berow238_col0\" class=\"data row238 col0\" >0.535227</td>\n",
       "                        <td id=\"T_49ab1195_3b06_11eb_bb5f_4ccc6acf21berow238_col1\" class=\"data row238 col1\" >0.541928</td>\n",
       "                        <td id=\"T_49ab1195_3b06_11eb_bb5f_4ccc6acf21berow238_col2\" class=\"data row238 col2\" >0.260334</td>\n",
       "                        <td id=\"T_49ab1195_3b06_11eb_bb5f_4ccc6acf21berow238_col3\" class=\"data row238 col3\" >0.736862</td>\n",
       "                        <td id=\"T_49ab1195_3b06_11eb_bb5f_4ccc6acf21berow238_col4\" class=\"data row238 col4\" >Zero</td>\n",
       "                        <td id=\"T_49ab1195_3b06_11eb_bb5f_4ccc6acf21berow238_col5\" class=\"data row238 col5\" >Zero</td>\n",
       "                        <td id=\"T_49ab1195_3b06_11eb_bb5f_4ccc6acf21berow238_col6\" class=\"data row238 col6\" >0.646593</td>\n",
       "            </tr>\n",
       "            <tr>\n",
       "                        <th id=\"T_49ab1195_3b06_11eb_bb5f_4ccc6acf21belevel0_row239\" class=\"row_heading level0 row239\" >436</th>\n",
       "                        <td id=\"T_49ab1195_3b06_11eb_bb5f_4ccc6acf21berow239_col0\" class=\"data row239 col0\" >0.535224</td>\n",
       "                        <td id=\"T_49ab1195_3b06_11eb_bb5f_4ccc6acf21berow239_col1\" class=\"data row239 col1\" >0.541929</td>\n",
       "                        <td id=\"T_49ab1195_3b06_11eb_bb5f_4ccc6acf21berow239_col2\" class=\"data row239 col2\" >0.260336</td>\n",
       "                        <td id=\"T_49ab1195_3b06_11eb_bb5f_4ccc6acf21berow239_col3\" class=\"data row239 col3\" >0.736863</td>\n",
       "                        <td id=\"T_49ab1195_3b06_11eb_bb5f_4ccc6acf21berow239_col4\" class=\"data row239 col4\" >Zero</td>\n",
       "                        <td id=\"T_49ab1195_3b06_11eb_bb5f_4ccc6acf21berow239_col5\" class=\"data row239 col5\" >Zero</td>\n",
       "                        <td id=\"T_49ab1195_3b06_11eb_bb5f_4ccc6acf21berow239_col6\" class=\"data row239 col6\" >0.646605</td>\n",
       "            </tr>\n",
       "            <tr>\n",
       "                        <th id=\"T_49ab1195_3b06_11eb_bb5f_4ccc6acf21belevel0_row240\" class=\"row_heading level0 row240\" >476</th>\n",
       "                        <td id=\"T_49ab1195_3b06_11eb_bb5f_4ccc6acf21berow240_col0\" class=\"data row240 col0\" >0.535224</td>\n",
       "                        <td id=\"T_49ab1195_3b06_11eb_bb5f_4ccc6acf21berow240_col1\" class=\"data row240 col1\" >0.541929</td>\n",
       "                        <td id=\"T_49ab1195_3b06_11eb_bb5f_4ccc6acf21berow240_col2\" class=\"data row240 col2\" >0.260336</td>\n",
       "                        <td id=\"T_49ab1195_3b06_11eb_bb5f_4ccc6acf21berow240_col3\" class=\"data row240 col3\" >0.736863</td>\n",
       "                        <td id=\"T_49ab1195_3b06_11eb_bb5f_4ccc6acf21berow240_col4\" class=\"data row240 col4\" >Zero</td>\n",
       "                        <td id=\"T_49ab1195_3b06_11eb_bb5f_4ccc6acf21berow240_col5\" class=\"data row240 col5\" >Zero</td>\n",
       "                        <td id=\"T_49ab1195_3b06_11eb_bb5f_4ccc6acf21berow240_col6\" class=\"data row240 col6\" >0.646605</td>\n",
       "            </tr>\n",
       "            <tr>\n",
       "                        <th id=\"T_49ab1195_3b06_11eb_bb5f_4ccc6acf21belevel0_row241\" class=\"row_heading level0 row241\" >214</th>\n",
       "                        <td id=\"T_49ab1195_3b06_11eb_bb5f_4ccc6acf21berow241_col0\" class=\"data row241 col0\" >0.810441</td>\n",
       "                        <td id=\"T_49ab1195_3b06_11eb_bb5f_4ccc6acf21berow241_col1\" class=\"data row241 col1\" >0.543244</td>\n",
       "                        <td id=\"T_49ab1195_3b06_11eb_bb5f_4ccc6acf21berow241_col2\" class=\"data row241 col2\" >0.263582</td>\n",
       "                        <td id=\"T_49ab1195_3b06_11eb_bb5f_4ccc6acf21berow241_col3\" class=\"data row241 col3\" >0.845740</td>\n",
       "                        <td id=\"T_49ab1195_3b06_11eb_bb5f_4ccc6acf21berow241_col4\" class=\"data row241 col4\" >Zero</td>\n",
       "                        <td id=\"T_49ab1195_3b06_11eb_bb5f_4ccc6acf21berow241_col5\" class=\"data row241 col5\" >Zero</td>\n",
       "                        <td id=\"T_49ab1195_3b06_11eb_bb5f_4ccc6acf21berow241_col6\" class=\"data row241 col6\" >0.647562</td>\n",
       "            </tr>\n",
       "            <tr>\n",
       "                        <th id=\"T_49ab1195_3b06_11eb_bb5f_4ccc6acf21belevel0_row242\" class=\"row_heading level0 row242\" >342</th>\n",
       "                        <td id=\"T_49ab1195_3b06_11eb_bb5f_4ccc6acf21berow242_col0\" class=\"data row242 col0\" >0.798664</td>\n",
       "                        <td id=\"T_49ab1195_3b06_11eb_bb5f_4ccc6acf21berow242_col1\" class=\"data row242 col1\" >0.524041</td>\n",
       "                        <td id=\"T_49ab1195_3b06_11eb_bb5f_4ccc6acf21berow242_col2\" class=\"data row242 col2\" >0.266092</td>\n",
       "                        <td id=\"T_49ab1195_3b06_11eb_bb5f_4ccc6acf21berow242_col3\" class=\"data row242 col3\" >0.884776</td>\n",
       "                        <td id=\"T_49ab1195_3b06_11eb_bb5f_4ccc6acf21berow242_col4\" class=\"data row242 col4\" >Zero</td>\n",
       "                        <td id=\"T_49ab1195_3b06_11eb_bb5f_4ccc6acf21berow242_col5\" class=\"data row242 col5\" >Zero</td>\n",
       "                        <td id=\"T_49ab1195_3b06_11eb_bb5f_4ccc6acf21berow242_col6\" class=\"data row242 col6\" >0.647587</td>\n",
       "            </tr>\n",
       "            <tr>\n",
       "                        <th id=\"T_49ab1195_3b06_11eb_bb5f_4ccc6acf21belevel0_row243\" class=\"row_heading level0 row243\" >134</th>\n",
       "                        <td id=\"T_49ab1195_3b06_11eb_bb5f_4ccc6acf21berow243_col0\" class=\"data row243 col0\" >0.432829</td>\n",
       "                        <td id=\"T_49ab1195_3b06_11eb_bb5f_4ccc6acf21berow243_col1\" class=\"data row243 col1\" >0.867056</td>\n",
       "                        <td id=\"T_49ab1195_3b06_11eb_bb5f_4ccc6acf21berow243_col2\" class=\"data row243 col2\" >0.264763</td>\n",
       "                        <td id=\"T_49ab1195_3b06_11eb_bb5f_4ccc6acf21berow243_col3\" class=\"data row243 col3\" >0.292297</td>\n",
       "                        <td id=\"T_49ab1195_3b06_11eb_bb5f_4ccc6acf21berow243_col4\" class=\"data row243 col4\" >Zero</td>\n",
       "                        <td id=\"T_49ab1195_3b06_11eb_bb5f_4ccc6acf21berow243_col5\" class=\"data row243 col5\" >Zero</td>\n",
       "                        <td id=\"T_49ab1195_3b06_11eb_bb5f_4ccc6acf21berow243_col6\" class=\"data row243 col6\" >0.648552</td>\n",
       "            </tr>\n",
       "            <tr>\n",
       "                        <th id=\"T_49ab1195_3b06_11eb_bb5f_4ccc6acf21belevel0_row244\" class=\"row_heading level0 row244\" >571</th>\n",
       "                        <td id=\"T_49ab1195_3b06_11eb_bb5f_4ccc6acf21berow244_col0\" class=\"data row244 col0\" >0.670215</td>\n",
       "                        <td id=\"T_49ab1195_3b06_11eb_bb5f_4ccc6acf21berow244_col1\" class=\"data row244 col1\" >0.322956</td>\n",
       "                        <td id=\"T_49ab1195_3b06_11eb_bb5f_4ccc6acf21berow244_col2\" class=\"data row244 col2\" >0.412592</td>\n",
       "                        <td id=\"T_49ab1195_3b06_11eb_bb5f_4ccc6acf21berow244_col3\" class=\"data row244 col3\" >0.663730</td>\n",
       "                        <td id=\"T_49ab1195_3b06_11eb_bb5f_4ccc6acf21berow244_col4\" class=\"data row244 col4\" >Zero</td>\n",
       "                        <td id=\"T_49ab1195_3b06_11eb_bb5f_4ccc6acf21berow244_col5\" class=\"data row244 col5\" >Zero</td>\n",
       "                        <td id=\"T_49ab1195_3b06_11eb_bb5f_4ccc6acf21berow244_col6\" class=\"data row244 col6\" >0.648645</td>\n",
       "            </tr>\n",
       "            <tr>\n",
       "                        <th id=\"T_49ab1195_3b06_11eb_bb5f_4ccc6acf21belevel0_row245\" class=\"row_heading level0 row245\" >177</th>\n",
       "                        <td id=\"T_49ab1195_3b06_11eb_bb5f_4ccc6acf21berow245_col0\" class=\"data row245 col0\" >0.771643</td>\n",
       "                        <td id=\"T_49ab1195_3b06_11eb_bb5f_4ccc6acf21berow245_col1\" class=\"data row245 col1\" >0.728147</td>\n",
       "                        <td id=\"T_49ab1195_3b06_11eb_bb5f_4ccc6acf21berow245_col2\" class=\"data row245 col2\" >0.153807</td>\n",
       "                        <td id=\"T_49ab1195_3b06_11eb_bb5f_4ccc6acf21berow245_col3\" class=\"data row245 col3\" >0.755675</td>\n",
       "                        <td id=\"T_49ab1195_3b06_11eb_bb5f_4ccc6acf21berow245_col4\" class=\"data row245 col4\" >Zero</td>\n",
       "                        <td id=\"T_49ab1195_3b06_11eb_bb5f_4ccc6acf21berow245_col5\" class=\"data row245 col5\" >Zero</td>\n",
       "                        <td id=\"T_49ab1195_3b06_11eb_bb5f_4ccc6acf21berow245_col6\" class=\"data row245 col6\" >0.649836</td>\n",
       "            </tr>\n",
       "            <tr>\n",
       "                        <th id=\"T_49ab1195_3b06_11eb_bb5f_4ccc6acf21belevel0_row246\" class=\"row_heading level0 row246\" >57</th>\n",
       "                        <td id=\"T_49ab1195_3b06_11eb_bb5f_4ccc6acf21berow246_col0\" class=\"data row246 col0\" >0.926602</td>\n",
       "                        <td id=\"T_49ab1195_3b06_11eb_bb5f_4ccc6acf21berow246_col1\" class=\"data row246 col1\" >0.702825</td>\n",
       "                        <td id=\"T_49ab1195_3b06_11eb_bb5f_4ccc6acf21berow246_col2\" class=\"data row246 col2\" >0.131290</td>\n",
       "                        <td id=\"T_49ab1195_3b06_11eb_bb5f_4ccc6acf21berow246_col3\" class=\"data row246 col3\" >0.817169</td>\n",
       "                        <td id=\"T_49ab1195_3b06_11eb_bb5f_4ccc6acf21berow246_col4\" class=\"data row246 col4\" >Zero</td>\n",
       "                        <td id=\"T_49ab1195_3b06_11eb_bb5f_4ccc6acf21berow246_col5\" class=\"data row246 col5\" >Zero</td>\n",
       "                        <td id=\"T_49ab1195_3b06_11eb_bb5f_4ccc6acf21berow246_col6\" class=\"data row246 col6\" >0.651547</td>\n",
       "            </tr>\n",
       "            <tr>\n",
       "                        <th id=\"T_49ab1195_3b06_11eb_bb5f_4ccc6acf21belevel0_row247\" class=\"row_heading level0 row247\" >364</th>\n",
       "                        <td id=\"T_49ab1195_3b06_11eb_bb5f_4ccc6acf21berow247_col0\" class=\"data row247 col0\" >0.924821</td>\n",
       "                        <td id=\"T_49ab1195_3b06_11eb_bb5f_4ccc6acf21berow247_col1\" class=\"data row247 col1\" >0.724120</td>\n",
       "                        <td id=\"T_49ab1195_3b06_11eb_bb5f_4ccc6acf21berow247_col2\" class=\"data row247 col2\" >0.123945</td>\n",
       "                        <td id=\"T_49ab1195_3b06_11eb_bb5f_4ccc6acf21berow247_col3\" class=\"data row247 col3\" >0.772136</td>\n",
       "                        <td id=\"T_49ab1195_3b06_11eb_bb5f_4ccc6acf21berow247_col4\" class=\"data row247 col4\" >Zero</td>\n",
       "                        <td id=\"T_49ab1195_3b06_11eb_bb5f_4ccc6acf21berow247_col5\" class=\"data row247 col5\" >Zero</td>\n",
       "                        <td id=\"T_49ab1195_3b06_11eb_bb5f_4ccc6acf21berow247_col6\" class=\"data row247 col6\" >0.651943</td>\n",
       "            </tr>\n",
       "            <tr>\n",
       "                        <th id=\"T_49ab1195_3b06_11eb_bb5f_4ccc6acf21belevel0_row248\" class=\"row_heading level0 row248\" >7</th>\n",
       "                        <td id=\"T_49ab1195_3b06_11eb_bb5f_4ccc6acf21berow248_col0\" class=\"data row248 col0\" >0.658712</td>\n",
       "                        <td id=\"T_49ab1195_3b06_11eb_bb5f_4ccc6acf21berow248_col1\" class=\"data row248 col1\" >0.260549</td>\n",
       "                        <td id=\"T_49ab1195_3b06_11eb_bb5f_4ccc6acf21berow248_col2\" class=\"data row248 col2\" >0.592315</td>\n",
       "                        <td id=\"T_49ab1195_3b06_11eb_bb5f_4ccc6acf21berow248_col3\" class=\"data row248 col3\" >0.722518</td>\n",
       "                        <td id=\"T_49ab1195_3b06_11eb_bb5f_4ccc6acf21berow248_col4\" class=\"data row248 col4\" >Zero</td>\n",
       "                        <td id=\"T_49ab1195_3b06_11eb_bb5f_4ccc6acf21berow248_col5\" class=\"data row248 col5\" >Zero</td>\n",
       "                        <td id=\"T_49ab1195_3b06_11eb_bb5f_4ccc6acf21berow248_col6\" class=\"data row248 col6\" >0.655318</td>\n",
       "            </tr>\n",
       "            <tr>\n",
       "                        <th id=\"T_49ab1195_3b06_11eb_bb5f_4ccc6acf21belevel0_row249\" class=\"row_heading level0 row249\" >818</th>\n",
       "                        <td id=\"T_49ab1195_3b06_11eb_bb5f_4ccc6acf21berow249_col0\" class=\"data row249 col0\" >0.525427</td>\n",
       "                        <td id=\"T_49ab1195_3b06_11eb_bb5f_4ccc6acf21berow249_col1\" class=\"data row249 col1\" >0.570498</td>\n",
       "                        <td id=\"T_49ab1195_3b06_11eb_bb5f_4ccc6acf21berow249_col2\" class=\"data row249 col2\" >0.166580</td>\n",
       "                        <td id=\"T_49ab1195_3b06_11eb_bb5f_4ccc6acf21berow249_col3\" class=\"data row249 col3\" >0.724047</td>\n",
       "                        <td id=\"T_49ab1195_3b06_11eb_bb5f_4ccc6acf21berow249_col4\" class=\"data row249 col4\" >One</td>\n",
       "                        <td id=\"T_49ab1195_3b06_11eb_bb5f_4ccc6acf21berow249_col5\" class=\"data row249 col5\" >Zero</td>\n",
       "                        <td id=\"T_49ab1195_3b06_11eb_bb5f_4ccc6acf21berow249_col6\" class=\"data row249 col6\" >0.659091</td>\n",
       "            </tr>\n",
       "            <tr>\n",
       "                        <th id=\"T_49ab1195_3b06_11eb_bb5f_4ccc6acf21belevel0_row250\" class=\"row_heading level0 row250\" >104</th>\n",
       "                        <td id=\"T_49ab1195_3b06_11eb_bb5f_4ccc6acf21berow250_col0\" class=\"data row250 col0\" >0.810909</td>\n",
       "                        <td id=\"T_49ab1195_3b06_11eb_bb5f_4ccc6acf21berow250_col1\" class=\"data row250 col1\" >0.523887</td>\n",
       "                        <td id=\"T_49ab1195_3b06_11eb_bb5f_4ccc6acf21berow250_col2\" class=\"data row250 col2\" >0.269118</td>\n",
       "                        <td id=\"T_49ab1195_3b06_11eb_bb5f_4ccc6acf21berow250_col3\" class=\"data row250 col3\" >0.865728</td>\n",
       "                        <td id=\"T_49ab1195_3b06_11eb_bb5f_4ccc6acf21berow250_col4\" class=\"data row250 col4\" >Zero</td>\n",
       "                        <td id=\"T_49ab1195_3b06_11eb_bb5f_4ccc6acf21berow250_col5\" class=\"data row250 col5\" >Zero</td>\n",
       "                        <td id=\"T_49ab1195_3b06_11eb_bb5f_4ccc6acf21berow250_col6\" class=\"data row250 col6\" >0.663967</td>\n",
       "            </tr>\n",
       "            <tr>\n",
       "                        <th id=\"T_49ab1195_3b06_11eb_bb5f_4ccc6acf21belevel0_row251\" class=\"row_heading level0 row251\" >300</th>\n",
       "                        <td id=\"T_49ab1195_3b06_11eb_bb5f_4ccc6acf21berow251_col0\" class=\"data row251 col0\" >0.531575</td>\n",
       "                        <td id=\"T_49ab1195_3b06_11eb_bb5f_4ccc6acf21berow251_col1\" class=\"data row251 col1\" >0.348662</td>\n",
       "                        <td id=\"T_49ab1195_3b06_11eb_bb5f_4ccc6acf21berow251_col2\" class=\"data row251 col2\" >0.424662</td>\n",
       "                        <td id=\"T_49ab1195_3b06_11eb_bb5f_4ccc6acf21berow251_col3\" class=\"data row251 col3\" >0.687362</td>\n",
       "                        <td id=\"T_49ab1195_3b06_11eb_bb5f_4ccc6acf21berow251_col4\" class=\"data row251 col4\" >Zero</td>\n",
       "                        <td id=\"T_49ab1195_3b06_11eb_bb5f_4ccc6acf21berow251_col5\" class=\"data row251 col5\" >Zero</td>\n",
       "                        <td id=\"T_49ab1195_3b06_11eb_bb5f_4ccc6acf21berow251_col6\" class=\"data row251 col6\" >0.664515</td>\n",
       "            </tr>\n",
       "            <tr>\n",
       "                        <th id=\"T_49ab1195_3b06_11eb_bb5f_4ccc6acf21belevel0_row252\" class=\"row_heading level0 row252\" >617</th>\n",
       "                        <td id=\"T_49ab1195_3b06_11eb_bb5f_4ccc6acf21berow252_col0\" class=\"data row252 col0\" >0.487787</td>\n",
       "                        <td id=\"T_49ab1195_3b06_11eb_bb5f_4ccc6acf21berow252_col1\" class=\"data row252 col1\" >0.821757</td>\n",
       "                        <td id=\"T_49ab1195_3b06_11eb_bb5f_4ccc6acf21berow252_col2\" class=\"data row252 col2\" >0.092718</td>\n",
       "                        <td id=\"T_49ab1195_3b06_11eb_bb5f_4ccc6acf21berow252_col3\" class=\"data row252 col3\" >0.547442</td>\n",
       "                        <td id=\"T_49ab1195_3b06_11eb_bb5f_4ccc6acf21berow252_col4\" class=\"data row252 col4\" >Zero</td>\n",
       "                        <td id=\"T_49ab1195_3b06_11eb_bb5f_4ccc6acf21berow252_col5\" class=\"data row252 col5\" >Zero</td>\n",
       "                        <td id=\"T_49ab1195_3b06_11eb_bb5f_4ccc6acf21berow252_col6\" class=\"data row252 col6\" >0.665030</td>\n",
       "            </tr>\n",
       "            <tr>\n",
       "                        <th id=\"T_49ab1195_3b06_11eb_bb5f_4ccc6acf21belevel0_row253\" class=\"row_heading level0 row253\" >700</th>\n",
       "                        <td id=\"T_49ab1195_3b06_11eb_bb5f_4ccc6acf21berow253_col0\" class=\"data row253 col0\" >0.790970</td>\n",
       "                        <td id=\"T_49ab1195_3b06_11eb_bb5f_4ccc6acf21berow253_col1\" class=\"data row253 col1\" >0.741000</td>\n",
       "                        <td id=\"T_49ab1195_3b06_11eb_bb5f_4ccc6acf21berow253_col2\" class=\"data row253 col2\" >0.140888</td>\n",
       "                        <td id=\"T_49ab1195_3b06_11eb_bb5f_4ccc6acf21berow253_col3\" class=\"data row253 col3\" >0.771313</td>\n",
       "                        <td id=\"T_49ab1195_3b06_11eb_bb5f_4ccc6acf21berow253_col4\" class=\"data row253 col4\" >Zero</td>\n",
       "                        <td id=\"T_49ab1195_3b06_11eb_bb5f_4ccc6acf21berow253_col5\" class=\"data row253 col5\" >Zero</td>\n",
       "                        <td id=\"T_49ab1195_3b06_11eb_bb5f_4ccc6acf21berow253_col6\" class=\"data row253 col6\" >0.666306</td>\n",
       "            </tr>\n",
       "            <tr>\n",
       "                        <th id=\"T_49ab1195_3b06_11eb_bb5f_4ccc6acf21belevel0_row254\" class=\"row_heading level0 row254\" >754</th>\n",
       "                        <td id=\"T_49ab1195_3b06_11eb_bb5f_4ccc6acf21berow254_col0\" class=\"data row254 col0\" >0.680686</td>\n",
       "                        <td id=\"T_49ab1195_3b06_11eb_bb5f_4ccc6acf21berow254_col1\" class=\"data row254 col1\" >0.524196</td>\n",
       "                        <td id=\"T_49ab1195_3b06_11eb_bb5f_4ccc6acf21berow254_col2\" class=\"data row254 col2\" >0.436548</td>\n",
       "                        <td id=\"T_49ab1195_3b06_11eb_bb5f_4ccc6acf21berow254_col3\" class=\"data row254 col3\" >0.907935</td>\n",
       "                        <td id=\"T_49ab1195_3b06_11eb_bb5f_4ccc6acf21berow254_col4\" class=\"data row254 col4\" >Zero</td>\n",
       "                        <td id=\"T_49ab1195_3b06_11eb_bb5f_4ccc6acf21berow254_col5\" class=\"data row254 col5\" >Zero</td>\n",
       "                        <td id=\"T_49ab1195_3b06_11eb_bb5f_4ccc6acf21berow254_col6\" class=\"data row254 col6\" >0.667219</td>\n",
       "            </tr>\n",
       "            <tr>\n",
       "                        <th id=\"T_49ab1195_3b06_11eb_bb5f_4ccc6acf21belevel0_row255\" class=\"row_heading level0 row255\" >546</th>\n",
       "                        <td id=\"T_49ab1195_3b06_11eb_bb5f_4ccc6acf21berow255_col0\" class=\"data row255 col0\" >0.612451</td>\n",
       "                        <td id=\"T_49ab1195_3b06_11eb_bb5f_4ccc6acf21berow255_col1\" class=\"data row255 col1\" >0.844290</td>\n",
       "                        <td id=\"T_49ab1195_3b06_11eb_bb5f_4ccc6acf21berow255_col2\" class=\"data row255 col2\" >0.131548</td>\n",
       "                        <td id=\"T_49ab1195_3b06_11eb_bb5f_4ccc6acf21berow255_col3\" class=\"data row255 col3\" >0.717933</td>\n",
       "                        <td id=\"T_49ab1195_3b06_11eb_bb5f_4ccc6acf21berow255_col4\" class=\"data row255 col4\" >Zero</td>\n",
       "                        <td id=\"T_49ab1195_3b06_11eb_bb5f_4ccc6acf21berow255_col5\" class=\"data row255 col5\" >Zero</td>\n",
       "                        <td id=\"T_49ab1195_3b06_11eb_bb5f_4ccc6acf21berow255_col6\" class=\"data row255 col6\" >0.668892</td>\n",
       "            </tr>\n",
       "            <tr>\n",
       "                        <th id=\"T_49ab1195_3b06_11eb_bb5f_4ccc6acf21belevel0_row256\" class=\"row_heading level0 row256\" >5</th>\n",
       "                        <td id=\"T_49ab1195_3b06_11eb_bb5f_4ccc6acf21berow256_col0\" class=\"data row256 col0\" >0.822859</td>\n",
       "                        <td id=\"T_49ab1195_3b06_11eb_bb5f_4ccc6acf21berow256_col1\" class=\"data row256 col1\" >0.877275</td>\n",
       "                        <td id=\"T_49ab1195_3b06_11eb_bb5f_4ccc6acf21berow256_col2\" class=\"data row256 col2\" >0.057100</td>\n",
       "                        <td id=\"T_49ab1195_3b06_11eb_bb5f_4ccc6acf21berow256_col3\" class=\"data row256 col3\" >0.489711</td>\n",
       "                        <td id=\"T_49ab1195_3b06_11eb_bb5f_4ccc6acf21berow256_col4\" class=\"data row256 col4\" >Zero</td>\n",
       "                        <td id=\"T_49ab1195_3b06_11eb_bb5f_4ccc6acf21berow256_col5\" class=\"data row256 col5\" >Zero</td>\n",
       "                        <td id=\"T_49ab1195_3b06_11eb_bb5f_4ccc6acf21berow256_col6\" class=\"data row256 col6\" >0.669295</td>\n",
       "            </tr>\n",
       "            <tr>\n",
       "                        <th id=\"T_49ab1195_3b06_11eb_bb5f_4ccc6acf21belevel0_row257\" class=\"row_heading level0 row257\" >446</th>\n",
       "                        <td id=\"T_49ab1195_3b06_11eb_bb5f_4ccc6acf21berow257_col0\" class=\"data row257 col0\" >0.684710</td>\n",
       "                        <td id=\"T_49ab1195_3b06_11eb_bb5f_4ccc6acf21berow257_col1\" class=\"data row257 col1\" >0.626327</td>\n",
       "                        <td id=\"T_49ab1195_3b06_11eb_bb5f_4ccc6acf21berow257_col2\" class=\"data row257 col2\" >0.236341</td>\n",
       "                        <td id=\"T_49ab1195_3b06_11eb_bb5f_4ccc6acf21berow257_col3\" class=\"data row257 col3\" >0.772136</td>\n",
       "                        <td id=\"T_49ab1195_3b06_11eb_bb5f_4ccc6acf21berow257_col4\" class=\"data row257 col4\" >Zero</td>\n",
       "                        <td id=\"T_49ab1195_3b06_11eb_bb5f_4ccc6acf21berow257_col5\" class=\"data row257 col5\" >Zero</td>\n",
       "                        <td id=\"T_49ab1195_3b06_11eb_bb5f_4ccc6acf21berow257_col6\" class=\"data row257 col6\" >0.681411</td>\n",
       "            </tr>\n",
       "            <tr>\n",
       "                        <th id=\"T_49ab1195_3b06_11eb_bb5f_4ccc6acf21belevel0_row258\" class=\"row_heading level0 row258\" >401</th>\n",
       "                        <td id=\"T_49ab1195_3b06_11eb_bb5f_4ccc6acf21berow258_col0\" class=\"data row258 col0\" >0.667373</td>\n",
       "                        <td id=\"T_49ab1195_3b06_11eb_bb5f_4ccc6acf21berow258_col1\" class=\"data row258 col1\" >0.296864</td>\n",
       "                        <td id=\"T_49ab1195_3b06_11eb_bb5f_4ccc6acf21berow258_col2\" class=\"data row258 col2\" >0.562380</td>\n",
       "                        <td id=\"T_49ab1195_3b06_11eb_bb5f_4ccc6acf21berow258_col3\" class=\"data row258 col3\" >0.699708</td>\n",
       "                        <td id=\"T_49ab1195_3b06_11eb_bb5f_4ccc6acf21berow258_col4\" class=\"data row258 col4\" >Zero</td>\n",
       "                        <td id=\"T_49ab1195_3b06_11eb_bb5f_4ccc6acf21berow258_col5\" class=\"data row258 col5\" >Zero</td>\n",
       "                        <td id=\"T_49ab1195_3b06_11eb_bb5f_4ccc6acf21berow258_col6\" class=\"data row258 col6\" >0.683164</td>\n",
       "            </tr>\n",
       "            <tr>\n",
       "                        <th id=\"T_49ab1195_3b06_11eb_bb5f_4ccc6acf21belevel0_row259\" class=\"row_heading level0 row259\" >557</th>\n",
       "                        <td id=\"T_49ab1195_3b06_11eb_bb5f_4ccc6acf21berow259_col0\" class=\"data row259 col0\" >0.799213</td>\n",
       "                        <td id=\"T_49ab1195_3b06_11eb_bb5f_4ccc6acf21berow259_col1\" class=\"data row259 col1\" >0.534649</td>\n",
       "                        <td id=\"T_49ab1195_3b06_11eb_bb5f_4ccc6acf21berow259_col2\" class=\"data row259 col2\" >0.271997</td>\n",
       "                        <td id=\"T_49ab1195_3b06_11eb_bb5f_4ccc6acf21berow259_col3\" class=\"data row259 col3\" >0.877838</td>\n",
       "                        <td id=\"T_49ab1195_3b06_11eb_bb5f_4ccc6acf21berow259_col4\" class=\"data row259 col4\" >Zero</td>\n",
       "                        <td id=\"T_49ab1195_3b06_11eb_bb5f_4ccc6acf21berow259_col5\" class=\"data row259 col5\" >Zero</td>\n",
       "                        <td id=\"T_49ab1195_3b06_11eb_bb5f_4ccc6acf21berow259_col6\" class=\"data row259 col6\" >0.684514</td>\n",
       "            </tr>\n",
       "            <tr>\n",
       "                        <th id=\"T_49ab1195_3b06_11eb_bb5f_4ccc6acf21belevel0_row260\" class=\"row_heading level0 row260\" >672</th>\n",
       "                        <td id=\"T_49ab1195_3b06_11eb_bb5f_4ccc6acf21berow260_col0\" class=\"data row260 col0\" >0.674880</td>\n",
       "                        <td id=\"T_49ab1195_3b06_11eb_bb5f_4ccc6acf21berow260_col1\" class=\"data row260 col1\" >0.417034</td>\n",
       "                        <td id=\"T_49ab1195_3b06_11eb_bb5f_4ccc6acf21berow260_col2\" class=\"data row260 col2\" >0.363538</td>\n",
       "                        <td id=\"T_49ab1195_3b06_11eb_bb5f_4ccc6acf21berow260_col3\" class=\"data row260 col3\" >0.769432</td>\n",
       "                        <td id=\"T_49ab1195_3b06_11eb_bb5f_4ccc6acf21berow260_col4\" class=\"data row260 col4\" >Zero</td>\n",
       "                        <td id=\"T_49ab1195_3b06_11eb_bb5f_4ccc6acf21berow260_col5\" class=\"data row260 col5\" >Zero</td>\n",
       "                        <td id=\"T_49ab1195_3b06_11eb_bb5f_4ccc6acf21berow260_col6\" class=\"data row260 col6\" >0.686146</td>\n",
       "            </tr>\n",
       "            <tr>\n",
       "                        <th id=\"T_49ab1195_3b06_11eb_bb5f_4ccc6acf21belevel0_row261\" class=\"row_heading level0 row261\" >515</th>\n",
       "                        <td id=\"T_49ab1195_3b06_11eb_bb5f_4ccc6acf21berow261_col0\" class=\"data row261 col0\" >0.931737</td>\n",
       "                        <td id=\"T_49ab1195_3b06_11eb_bb5f_4ccc6acf21berow261_col1\" class=\"data row261 col1\" >0.737670</td>\n",
       "                        <td id=\"T_49ab1195_3b06_11eb_bb5f_4ccc6acf21berow261_col2\" class=\"data row261 col2\" >0.104754</td>\n",
       "                        <td id=\"T_49ab1195_3b06_11eb_bb5f_4ccc6acf21berow261_col3\" class=\"data row261 col3\" >0.721930</td>\n",
       "                        <td id=\"T_49ab1195_3b06_11eb_bb5f_4ccc6acf21berow261_col4\" class=\"data row261 col4\" >Zero</td>\n",
       "                        <td id=\"T_49ab1195_3b06_11eb_bb5f_4ccc6acf21berow261_col5\" class=\"data row261 col5\" >Zero</td>\n",
       "                        <td id=\"T_49ab1195_3b06_11eb_bb5f_4ccc6acf21berow261_col6\" class=\"data row261 col6\" >0.687667</td>\n",
       "            </tr>\n",
       "            <tr>\n",
       "                        <th id=\"T_49ab1195_3b06_11eb_bb5f_4ccc6acf21belevel0_row262\" class=\"row_heading level0 row262\" >421</th>\n",
       "                        <td id=\"T_49ab1195_3b06_11eb_bb5f_4ccc6acf21berow262_col0\" class=\"data row262 col0\" >0.424926</td>\n",
       "                        <td id=\"T_49ab1195_3b06_11eb_bb5f_4ccc6acf21berow262_col1\" class=\"data row262 col1\" >0.563842</td>\n",
       "                        <td id=\"T_49ab1195_3b06_11eb_bb5f_4ccc6acf21berow262_col2\" class=\"data row262 col2\" >0.559463</td>\n",
       "                        <td id=\"T_49ab1195_3b06_11eb_bb5f_4ccc6acf21berow262_col3\" class=\"data row262 col3\" >0.834217</td>\n",
       "                        <td id=\"T_49ab1195_3b06_11eb_bb5f_4ccc6acf21berow262_col4\" class=\"data row262 col4\" >Zero</td>\n",
       "                        <td id=\"T_49ab1195_3b06_11eb_bb5f_4ccc6acf21berow262_col5\" class=\"data row262 col5\" >Zero</td>\n",
       "                        <td id=\"T_49ab1195_3b06_11eb_bb5f_4ccc6acf21berow262_col6\" class=\"data row262 col6\" >0.687870</td>\n",
       "            </tr>\n",
       "            <tr>\n",
       "                        <th id=\"T_49ab1195_3b06_11eb_bb5f_4ccc6acf21belevel0_row263\" class=\"row_heading level0 row263\" >257</th>\n",
       "                        <td id=\"T_49ab1195_3b06_11eb_bb5f_4ccc6acf21berow263_col0\" class=\"data row263 col0\" >0.666732</td>\n",
       "                        <td id=\"T_49ab1195_3b06_11eb_bb5f_4ccc6acf21berow263_col1\" class=\"data row263 col1\" >0.739683</td>\n",
       "                        <td id=\"T_49ab1195_3b06_11eb_bb5f_4ccc6acf21berow263_col2\" class=\"data row263 col2\" >0.250552</td>\n",
       "                        <td id=\"T_49ab1195_3b06_11eb_bb5f_4ccc6acf21berow263_col3\" class=\"data row263 col3\" >0.854559</td>\n",
       "                        <td id=\"T_49ab1195_3b06_11eb_bb5f_4ccc6acf21berow263_col4\" class=\"data row263 col4\" >Zero</td>\n",
       "                        <td id=\"T_49ab1195_3b06_11eb_bb5f_4ccc6acf21berow263_col5\" class=\"data row263 col5\" >Zero</td>\n",
       "                        <td id=\"T_49ab1195_3b06_11eb_bb5f_4ccc6acf21berow263_col6\" class=\"data row263 col6\" >0.691631</td>\n",
       "            </tr>\n",
       "            <tr>\n",
       "                        <th id=\"T_49ab1195_3b06_11eb_bb5f_4ccc6acf21belevel0_row264\" class=\"row_heading level0 row264\" >574</th>\n",
       "                        <td id=\"T_49ab1195_3b06_11eb_bb5f_4ccc6acf21berow264_col0\" class=\"data row264 col0\" >0.592036</td>\n",
       "                        <td id=\"T_49ab1195_3b06_11eb_bb5f_4ccc6acf21berow264_col1\" class=\"data row264 col1\" >0.857997</td>\n",
       "                        <td id=\"T_49ab1195_3b06_11eb_bb5f_4ccc6acf21berow264_col2\" class=\"data row264 col2\" >0.137825</td>\n",
       "                        <td id=\"T_49ab1195_3b06_11eb_bb5f_4ccc6acf21berow264_col3\" class=\"data row264 col3\" >0.703941</td>\n",
       "                        <td id=\"T_49ab1195_3b06_11eb_bb5f_4ccc6acf21berow264_col4\" class=\"data row264 col4\" >Zero</td>\n",
       "                        <td id=\"T_49ab1195_3b06_11eb_bb5f_4ccc6acf21berow264_col5\" class=\"data row264 col5\" >Zero</td>\n",
       "                        <td id=\"T_49ab1195_3b06_11eb_bb5f_4ccc6acf21berow264_col6\" class=\"data row264 col6\" >0.691715</td>\n",
       "            </tr>\n",
       "            <tr>\n",
       "                        <th id=\"T_49ab1195_3b06_11eb_bb5f_4ccc6acf21belevel0_row265\" class=\"row_heading level0 row265\" >430</th>\n",
       "                        <td id=\"T_49ab1195_3b06_11eb_bb5f_4ccc6acf21berow265_col0\" class=\"data row265 col0\" >0.620990</td>\n",
       "                        <td id=\"T_49ab1195_3b06_11eb_bb5f_4ccc6acf21berow265_col1\" class=\"data row265 col1\" >0.752847</td>\n",
       "                        <td id=\"T_49ab1195_3b06_11eb_bb5f_4ccc6acf21berow265_col2\" class=\"data row265 col2\" >0.219842</td>\n",
       "                        <td id=\"T_49ab1195_3b06_11eb_bb5f_4ccc6acf21berow265_col3\" class=\"data row265 col3\" >0.558144</td>\n",
       "                        <td id=\"T_49ab1195_3b06_11eb_bb5f_4ccc6acf21berow265_col4\" class=\"data row265 col4\" >Zero</td>\n",
       "                        <td id=\"T_49ab1195_3b06_11eb_bb5f_4ccc6acf21berow265_col5\" class=\"data row265 col5\" >Zero</td>\n",
       "                        <td id=\"T_49ab1195_3b06_11eb_bb5f_4ccc6acf21berow265_col6\" class=\"data row265 col6\" >0.692393</td>\n",
       "            </tr>\n",
       "            <tr>\n",
       "                        <th id=\"T_49ab1195_3b06_11eb_bb5f_4ccc6acf21belevel0_row266\" class=\"row_heading level0 row266\" >626</th>\n",
       "                        <td id=\"T_49ab1195_3b06_11eb_bb5f_4ccc6acf21berow266_col0\" class=\"data row266 col0\" >0.640410</td>\n",
       "                        <td id=\"T_49ab1195_3b06_11eb_bb5f_4ccc6acf21berow266_col1\" class=\"data row266 col1\" >0.742238</td>\n",
       "                        <td id=\"T_49ab1195_3b06_11eb_bb5f_4ccc6acf21berow266_col2\" class=\"data row266 col2\" >0.251290</td>\n",
       "                        <td id=\"T_49ab1195_3b06_11eb_bb5f_4ccc6acf21berow266_col3\" class=\"data row266 col3\" >0.823870</td>\n",
       "                        <td id=\"T_49ab1195_3b06_11eb_bb5f_4ccc6acf21berow266_col4\" class=\"data row266 col4\" >Zero</td>\n",
       "                        <td id=\"T_49ab1195_3b06_11eb_bb5f_4ccc6acf21berow266_col5\" class=\"data row266 col5\" >Zero</td>\n",
       "                        <td id=\"T_49ab1195_3b06_11eb_bb5f_4ccc6acf21berow266_col6\" class=\"data row266 col6\" >0.693473</td>\n",
       "            </tr>\n",
       "            <tr>\n",
       "                        <th id=\"T_49ab1195_3b06_11eb_bb5f_4ccc6acf21belevel0_row267\" class=\"row_heading level0 row267\" >178</th>\n",
       "                        <td id=\"T_49ab1195_3b06_11eb_bb5f_4ccc6acf21berow267_col0\" class=\"data row267 col0\" >0.498357</td>\n",
       "                        <td id=\"T_49ab1195_3b06_11eb_bb5f_4ccc6acf21berow267_col1\" class=\"data row267 col1\" >0.448858</td>\n",
       "                        <td id=\"T_49ab1195_3b06_11eb_bb5f_4ccc6acf21berow267_col2\" class=\"data row267 col2\" >0.586628</td>\n",
       "                        <td id=\"T_49ab1195_3b06_11eb_bb5f_4ccc6acf21berow267_col3\" class=\"data row267 col3\" >0.809291</td>\n",
       "                        <td id=\"T_49ab1195_3b06_11eb_bb5f_4ccc6acf21berow267_col4\" class=\"data row267 col4\" >Zero</td>\n",
       "                        <td id=\"T_49ab1195_3b06_11eb_bb5f_4ccc6acf21berow267_col5\" class=\"data row267 col5\" >Zero</td>\n",
       "                        <td id=\"T_49ab1195_3b06_11eb_bb5f_4ccc6acf21berow267_col6\" class=\"data row267 col6\" >0.695053</td>\n",
       "            </tr>\n",
       "            <tr>\n",
       "                        <th id=\"T_49ab1195_3b06_11eb_bb5f_4ccc6acf21belevel0_row268\" class=\"row_heading level0 row268\" >42</th>\n",
       "                        <td id=\"T_49ab1195_3b06_11eb_bb5f_4ccc6acf21berow268_col0\" class=\"data row268 col0\" >0.507338</td>\n",
       "                        <td id=\"T_49ab1195_3b06_11eb_bb5f_4ccc6acf21berow268_col1\" class=\"data row268 col1\" >0.863104</td>\n",
       "                        <td id=\"T_49ab1195_3b06_11eb_bb5f_4ccc6acf21berow268_col2\" class=\"data row268 col2\" >0.209950</td>\n",
       "                        <td id=\"T_49ab1195_3b06_11eb_bb5f_4ccc6acf21berow268_col3\" class=\"data row268 col3\" >0.598707</td>\n",
       "                        <td id=\"T_49ab1195_3b06_11eb_bb5f_4ccc6acf21berow268_col4\" class=\"data row268 col4\" >Zero</td>\n",
       "                        <td id=\"T_49ab1195_3b06_11eb_bb5f_4ccc6acf21berow268_col5\" class=\"data row268 col5\" >Zero</td>\n",
       "                        <td id=\"T_49ab1195_3b06_11eb_bb5f_4ccc6acf21berow268_col6\" class=\"data row268 col6\" >0.695752</td>\n",
       "            </tr>\n",
       "            <tr>\n",
       "                        <th id=\"T_49ab1195_3b06_11eb_bb5f_4ccc6acf21belevel0_row269\" class=\"row_heading level0 row269\" >661</th>\n",
       "                        <td id=\"T_49ab1195_3b06_11eb_bb5f_4ccc6acf21berow269_col0\" class=\"data row269 col0\" >0.499184</td>\n",
       "                        <td id=\"T_49ab1195_3b06_11eb_bb5f_4ccc6acf21berow269_col1\" class=\"data row269 col1\" >0.772589</td>\n",
       "                        <td id=\"T_49ab1195_3b06_11eb_bb5f_4ccc6acf21berow269_col2\" class=\"data row269 col2\" >0.267347</td>\n",
       "                        <td id=\"T_49ab1195_3b06_11eb_bb5f_4ccc6acf21berow269_col3\" class=\"data row269 col3\" >0.716404</td>\n",
       "                        <td id=\"T_49ab1195_3b06_11eb_bb5f_4ccc6acf21berow269_col4\" class=\"data row269 col4\" >Zero</td>\n",
       "                        <td id=\"T_49ab1195_3b06_11eb_bb5f_4ccc6acf21berow269_col5\" class=\"data row269 col5\" >Zero</td>\n",
       "                        <td id=\"T_49ab1195_3b06_11eb_bb5f_4ccc6acf21berow269_col6\" class=\"data row269 col6\" >0.697338</td>\n",
       "            </tr>\n",
       "            <tr>\n",
       "                        <th id=\"T_49ab1195_3b06_11eb_bb5f_4ccc6acf21belevel0_row270\" class=\"row_heading level0 row270\" >48</th>\n",
       "                        <td id=\"T_49ab1195_3b06_11eb_bb5f_4ccc6acf21berow270_col0\" class=\"data row270 col0\" >0.789816</td>\n",
       "                        <td id=\"T_49ab1195_3b06_11eb_bb5f_4ccc6acf21berow270_col1\" class=\"data row270 col1\" >0.742313</td>\n",
       "                        <td id=\"T_49ab1195_3b06_11eb_bb5f_4ccc6acf21berow270_col2\" class=\"data row270 col2\" >0.122028</td>\n",
       "                        <td id=\"T_49ab1195_3b06_11eb_bb5f_4ccc6acf21berow270_col3\" class=\"data row270 col3\" >0.715228</td>\n",
       "                        <td id=\"T_49ab1195_3b06_11eb_bb5f_4ccc6acf21berow270_col4\" class=\"data row270 col4\" >Zero</td>\n",
       "                        <td id=\"T_49ab1195_3b06_11eb_bb5f_4ccc6acf21berow270_col5\" class=\"data row270 col5\" >Zero</td>\n",
       "                        <td id=\"T_49ab1195_3b06_11eb_bb5f_4ccc6acf21berow270_col6\" class=\"data row270 col6\" >0.697788</td>\n",
       "            </tr>\n",
       "            <tr>\n",
       "                        <th id=\"T_49ab1195_3b06_11eb_bb5f_4ccc6acf21belevel0_row271\" class=\"row_heading level0 row271\" >181</th>\n",
       "                        <td id=\"T_49ab1195_3b06_11eb_bb5f_4ccc6acf21berow271_col0\" class=\"data row271 col0\" >0.499338</td>\n",
       "                        <td id=\"T_49ab1195_3b06_11eb_bb5f_4ccc6acf21berow271_col1\" class=\"data row271 col1\" >0.456289</td>\n",
       "                        <td id=\"T_49ab1195_3b06_11eb_bb5f_4ccc6acf21berow271_col2\" class=\"data row271 col2\" >0.573636</td>\n",
       "                        <td id=\"T_49ab1195_3b06_11eb_bb5f_4ccc6acf21berow271_col3\" class=\"data row271 col3\" >0.774723</td>\n",
       "                        <td id=\"T_49ab1195_3b06_11eb_bb5f_4ccc6acf21berow271_col4\" class=\"data row271 col4\" >Zero</td>\n",
       "                        <td id=\"T_49ab1195_3b06_11eb_bb5f_4ccc6acf21berow271_col5\" class=\"data row271 col5\" >Zero</td>\n",
       "                        <td id=\"T_49ab1195_3b06_11eb_bb5f_4ccc6acf21berow271_col6\" class=\"data row271 col6\" >0.698282</td>\n",
       "            </tr>\n",
       "            <tr>\n",
       "                        <th id=\"T_49ab1195_3b06_11eb_bb5f_4ccc6acf21belevel0_row272\" class=\"row_heading level0 row272\" >292</th>\n",
       "                        <td id=\"T_49ab1195_3b06_11eb_bb5f_4ccc6acf21berow272_col0\" class=\"data row272 col0\" >0.806020</td>\n",
       "                        <td id=\"T_49ab1195_3b06_11eb_bb5f_4ccc6acf21berow272_col1\" class=\"data row272 col1\" >0.744330</td>\n",
       "                        <td id=\"T_49ab1195_3b06_11eb_bb5f_4ccc6acf21berow272_col2\" class=\"data row272 col2\" >0.123062</td>\n",
       "                        <td id=\"T_49ab1195_3b06_11eb_bb5f_4ccc6acf21berow272_col3\" class=\"data row272 col3\" >0.759438</td>\n",
       "                        <td id=\"T_49ab1195_3b06_11eb_bb5f_4ccc6acf21berow272_col4\" class=\"data row272 col4\" >Zero</td>\n",
       "                        <td id=\"T_49ab1195_3b06_11eb_bb5f_4ccc6acf21berow272_col5\" class=\"data row272 col5\" >Zero</td>\n",
       "                        <td id=\"T_49ab1195_3b06_11eb_bb5f_4ccc6acf21berow272_col6\" class=\"data row272 col6\" >0.698344</td>\n",
       "            </tr>\n",
       "            <tr>\n",
       "                        <th id=\"T_49ab1195_3b06_11eb_bb5f_4ccc6acf21belevel0_row273\" class=\"row_heading level0 row273\" >537</th>\n",
       "                        <td id=\"T_49ab1195_3b06_11eb_bb5f_4ccc6acf21berow273_col0\" class=\"data row273 col0\" >0.500156</td>\n",
       "                        <td id=\"T_49ab1195_3b06_11eb_bb5f_4ccc6acf21berow273_col1\" class=\"data row273 col1\" >0.486643</td>\n",
       "                        <td id=\"T_49ab1195_3b06_11eb_bb5f_4ccc6acf21berow273_col2\" class=\"data row273 col2\" >0.561897</td>\n",
       "                        <td id=\"T_49ab1195_3b06_11eb_bb5f_4ccc6acf21berow273_col3\" class=\"data row273 col3\" >0.835628</td>\n",
       "                        <td id=\"T_49ab1195_3b06_11eb_bb5f_4ccc6acf21berow273_col4\" class=\"data row273 col4\" >Zero</td>\n",
       "                        <td id=\"T_49ab1195_3b06_11eb_bb5f_4ccc6acf21berow273_col5\" class=\"data row273 col5\" >Zero</td>\n",
       "                        <td id=\"T_49ab1195_3b06_11eb_bb5f_4ccc6acf21berow273_col6\" class=\"data row273 col6\" >0.699162</td>\n",
       "            </tr>\n",
       "            <tr>\n",
       "                        <th id=\"T_49ab1195_3b06_11eb_bb5f_4ccc6acf21belevel0_row274\" class=\"row_heading level0 row274\" >187</th>\n",
       "                        <td id=\"T_49ab1195_3b06_11eb_bb5f_4ccc6acf21berow274_col0\" class=\"data row274 col0\" >0.639905</td>\n",
       "                        <td id=\"T_49ab1195_3b06_11eb_bb5f_4ccc6acf21berow274_col1\" class=\"data row274 col1\" >0.753621</td>\n",
       "                        <td id=\"T_49ab1195_3b06_11eb_bb5f_4ccc6acf21berow274_col2\" class=\"data row274 col2\" >0.226154</td>\n",
       "                        <td id=\"T_49ab1195_3b06_11eb_bb5f_4ccc6acf21berow274_col3\" class=\"data row274 col3\" >0.781777</td>\n",
       "                        <td id=\"T_49ab1195_3b06_11eb_bb5f_4ccc6acf21berow274_col4\" class=\"data row274 col4\" >Zero</td>\n",
       "                        <td id=\"T_49ab1195_3b06_11eb_bb5f_4ccc6acf21berow274_col5\" class=\"data row274 col5\" >Zero</td>\n",
       "                        <td id=\"T_49ab1195_3b06_11eb_bb5f_4ccc6acf21berow274_col6\" class=\"data row274 col6\" >0.700375</td>\n",
       "            </tr>\n",
       "            <tr>\n",
       "                        <th id=\"T_49ab1195_3b06_11eb_bb5f_4ccc6acf21belevel0_row275\" class=\"row_heading level0 row275\" >544</th>\n",
       "                        <td id=\"T_49ab1195_3b06_11eb_bb5f_4ccc6acf21berow275_col0\" class=\"data row275 col0\" >0.814018</td>\n",
       "                        <td id=\"T_49ab1195_3b06_11eb_bb5f_4ccc6acf21berow275_col1\" class=\"data row275 col1\" >0.560201</td>\n",
       "                        <td id=\"T_49ab1195_3b06_11eb_bb5f_4ccc6acf21berow275_col2\" class=\"data row275 col2\" >0.256421</td>\n",
       "                        <td id=\"T_49ab1195_3b06_11eb_bb5f_4ccc6acf21berow275_col3\" class=\"data row275 col3\" >0.863377</td>\n",
       "                        <td id=\"T_49ab1195_3b06_11eb_bb5f_4ccc6acf21berow275_col4\" class=\"data row275 col4\" >Zero</td>\n",
       "                        <td id=\"T_49ab1195_3b06_11eb_bb5f_4ccc6acf21berow275_col5\" class=\"data row275 col5\" >Zero</td>\n",
       "                        <td id=\"T_49ab1195_3b06_11eb_bb5f_4ccc6acf21berow275_col6\" class=\"data row275 col6\" >0.702931</td>\n",
       "            </tr>\n",
       "            <tr>\n",
       "                        <th id=\"T_49ab1195_3b06_11eb_bb5f_4ccc6acf21belevel0_row276\" class=\"row_heading level0 row276\" >10</th>\n",
       "                        <td id=\"T_49ab1195_3b06_11eb_bb5f_4ccc6acf21berow276_col0\" class=\"data row276 col0\" >0.596153</td>\n",
       "                        <td id=\"T_49ab1195_3b06_11eb_bb5f_4ccc6acf21berow276_col1\" class=\"data row276 col1\" >0.843826</td>\n",
       "                        <td id=\"T_49ab1195_3b06_11eb_bb5f_4ccc6acf21berow276_col2\" class=\"data row276 col2\" >0.132363</td>\n",
       "                        <td id=\"T_49ab1195_3b06_11eb_bb5f_4ccc6acf21berow276_col3\" class=\"data row276 col3\" >0.703941</td>\n",
       "                        <td id=\"T_49ab1195_3b06_11eb_bb5f_4ccc6acf21berow276_col4\" class=\"data row276 col4\" >Zero</td>\n",
       "                        <td id=\"T_49ab1195_3b06_11eb_bb5f_4ccc6acf21berow276_col5\" class=\"data row276 col5\" >Zero</td>\n",
       "                        <td id=\"T_49ab1195_3b06_11eb_bb5f_4ccc6acf21berow276_col6\" class=\"data row276 col6\" >0.703100</td>\n",
       "            </tr>\n",
       "            <tr>\n",
       "                        <th id=\"T_49ab1195_3b06_11eb_bb5f_4ccc6acf21belevel0_row277\" class=\"row_heading level0 row277\" >209</th>\n",
       "                        <td id=\"T_49ab1195_3b06_11eb_bb5f_4ccc6acf21berow277_col0\" class=\"data row277 col0\" >0.664474</td>\n",
       "                        <td id=\"T_49ab1195_3b06_11eb_bb5f_4ccc6acf21berow277_col1\" class=\"data row277 col1\" >0.487727</td>\n",
       "                        <td id=\"T_49ab1195_3b06_11eb_bb5f_4ccc6acf21berow277_col2\" class=\"data row277 col2\" >0.463235</td>\n",
       "                        <td id=\"T_49ab1195_3b06_11eb_bb5f_4ccc6acf21berow277_col3\" class=\"data row277 col3\" >0.711466</td>\n",
       "                        <td id=\"T_49ab1195_3b06_11eb_bb5f_4ccc6acf21berow277_col4\" class=\"data row277 col4\" >Zero</td>\n",
       "                        <td id=\"T_49ab1195_3b06_11eb_bb5f_4ccc6acf21berow277_col5\" class=\"data row277 col5\" >Zero</td>\n",
       "                        <td id=\"T_49ab1195_3b06_11eb_bb5f_4ccc6acf21berow277_col6\" class=\"data row277 col6\" >0.705559</td>\n",
       "            </tr>\n",
       "            <tr>\n",
       "                        <th id=\"T_49ab1195_3b06_11eb_bb5f_4ccc6acf21belevel0_row278\" class=\"row_heading level0 row278\" >425</th>\n",
       "                        <td id=\"T_49ab1195_3b06_11eb_bb5f_4ccc6acf21berow278_col0\" class=\"data row278 col0\" >0.633458</td>\n",
       "                        <td id=\"T_49ab1195_3b06_11eb_bb5f_4ccc6acf21berow278_col1\" class=\"data row278 col1\" >0.335424</td>\n",
       "                        <td id=\"T_49ab1195_3b06_11eb_bb5f_4ccc6acf21berow278_col2\" class=\"data row278 col2\" >0.581571</td>\n",
       "                        <td id=\"T_49ab1195_3b06_11eb_bb5f_4ccc6acf21berow278_col3\" class=\"data row278 col3\" >0.589423</td>\n",
       "                        <td id=\"T_49ab1195_3b06_11eb_bb5f_4ccc6acf21berow278_col4\" class=\"data row278 col4\" >Zero</td>\n",
       "                        <td id=\"T_49ab1195_3b06_11eb_bb5f_4ccc6acf21berow278_col5\" class=\"data row278 col5\" >Zero</td>\n",
       "                        <td id=\"T_49ab1195_3b06_11eb_bb5f_4ccc6acf21berow278_col6\" class=\"data row278 col6\" >0.705701</td>\n",
       "            </tr>\n",
       "            <tr>\n",
       "                        <th id=\"T_49ab1195_3b06_11eb_bb5f_4ccc6acf21belevel0_row279\" class=\"row_heading level0 row279\" >59</th>\n",
       "                        <td id=\"T_49ab1195_3b06_11eb_bb5f_4ccc6acf21berow279_col0\" class=\"data row279 col0\" >0.451378</td>\n",
       "                        <td id=\"T_49ab1195_3b06_11eb_bb5f_4ccc6acf21berow279_col1\" class=\"data row279 col1\" >0.940456</td>\n",
       "                        <td id=\"T_49ab1195_3b06_11eb_bb5f_4ccc6acf21berow279_col2\" class=\"data row279 col2\" >0.211500</td>\n",
       "                        <td id=\"T_49ab1195_3b06_11eb_bb5f_4ccc6acf21berow279_col3\" class=\"data row279 col3\" >0.136274</td>\n",
       "                        <td id=\"T_49ab1195_3b06_11eb_bb5f_4ccc6acf21berow279_col4\" class=\"data row279 col4\" >Zero</td>\n",
       "                        <td id=\"T_49ab1195_3b06_11eb_bb5f_4ccc6acf21berow279_col5\" class=\"data row279 col5\" >Zero</td>\n",
       "                        <td id=\"T_49ab1195_3b06_11eb_bb5f_4ccc6acf21berow279_col6\" class=\"data row279 col6\" >0.706118</td>\n",
       "            </tr>\n",
       "            <tr>\n",
       "                        <th id=\"T_49ab1195_3b06_11eb_bb5f_4ccc6acf21belevel0_row280\" class=\"row_heading level0 row280\" >286</th>\n",
       "                        <td id=\"T_49ab1195_3b06_11eb_bb5f_4ccc6acf21berow280_col0\" class=\"data row280 col0\" >0.604605</td>\n",
       "                        <td id=\"T_49ab1195_3b06_11eb_bb5f_4ccc6acf21berow280_col1\" class=\"data row280 col1\" >0.349901</td>\n",
       "                        <td id=\"T_49ab1195_3b06_11eb_bb5f_4ccc6acf21berow280_col2\" class=\"data row280 col2\" >0.576221</td>\n",
       "                        <td id=\"T_49ab1195_3b06_11eb_bb5f_4ccc6acf21berow280_col3\" class=\"data row280 col3\" >0.619520</td>\n",
       "                        <td id=\"T_49ab1195_3b06_11eb_bb5f_4ccc6acf21berow280_col4\" class=\"data row280 col4\" >Zero</td>\n",
       "                        <td id=\"T_49ab1195_3b06_11eb_bb5f_4ccc6acf21berow280_col5\" class=\"data row280 col5\" >Zero</td>\n",
       "                        <td id=\"T_49ab1195_3b06_11eb_bb5f_4ccc6acf21berow280_col6\" class=\"data row280 col6\" >0.706893</td>\n",
       "            </tr>\n",
       "            <tr>\n",
       "                        <th id=\"T_49ab1195_3b06_11eb_bb5f_4ccc6acf21belevel0_row281\" class=\"row_heading level0 row281\" >169</th>\n",
       "                        <td id=\"T_49ab1195_3b06_11eb_bb5f_4ccc6acf21berow281_col0\" class=\"data row281 col0\" >0.516301</td>\n",
       "                        <td id=\"T_49ab1195_3b06_11eb_bb5f_4ccc6acf21berow281_col1\" class=\"data row281 col1\" >0.750212</td>\n",
       "                        <td id=\"T_49ab1195_3b06_11eb_bb5f_4ccc6acf21berow281_col2\" class=\"data row281 col2\" >0.160967</td>\n",
       "                        <td id=\"T_49ab1195_3b06_11eb_bb5f_4ccc6acf21berow281_col3\" class=\"data row281 col3\" >0.552261</td>\n",
       "                        <td id=\"T_49ab1195_3b06_11eb_bb5f_4ccc6acf21berow281_col4\" class=\"data row281 col4\" >Zero</td>\n",
       "                        <td id=\"T_49ab1195_3b06_11eb_bb5f_4ccc6acf21berow281_col5\" class=\"data row281 col5\" >Zero</td>\n",
       "                        <td id=\"T_49ab1195_3b06_11eb_bb5f_4ccc6acf21berow281_col6\" class=\"data row281 col6\" >0.707288</td>\n",
       "            </tr>\n",
       "            <tr>\n",
       "                        <th id=\"T_49ab1195_3b06_11eb_bb5f_4ccc6acf21belevel0_row282\" class=\"row_heading level0 row282\" >96</th>\n",
       "                        <td id=\"T_49ab1195_3b06_11eb_bb5f_4ccc6acf21berow282_col0\" class=\"data row282 col0\" >0.720882</td>\n",
       "                        <td id=\"T_49ab1195_3b06_11eb_bb5f_4ccc6acf21berow282_col1\" class=\"data row282 col1\" >0.555632</td>\n",
       "                        <td id=\"T_49ab1195_3b06_11eb_bb5f_4ccc6acf21berow282_col2\" class=\"data row282 col2\" >0.255535</td>\n",
       "                        <td id=\"T_49ab1195_3b06_11eb_bb5f_4ccc6acf21berow282_col3\" class=\"data row282 col3\" >0.858556</td>\n",
       "                        <td id=\"T_49ab1195_3b06_11eb_bb5f_4ccc6acf21berow282_col4\" class=\"data row282 col4\" >Zero</td>\n",
       "                        <td id=\"T_49ab1195_3b06_11eb_bb5f_4ccc6acf21berow282_col5\" class=\"data row282 col5\" >Zero</td>\n",
       "                        <td id=\"T_49ab1195_3b06_11eb_bb5f_4ccc6acf21berow282_col6\" class=\"data row282 col6\" >0.708151</td>\n",
       "            </tr>\n",
       "            <tr>\n",
       "                        <th id=\"T_49ab1195_3b06_11eb_bb5f_4ccc6acf21belevel0_row283\" class=\"row_heading level0 row283\" >653</th>\n",
       "                        <td id=\"T_49ab1195_3b06_11eb_bb5f_4ccc6acf21berow283_col0\" class=\"data row283 col0\" >0.749973</td>\n",
       "                        <td id=\"T_49ab1195_3b06_11eb_bb5f_4ccc6acf21berow283_col1\" class=\"data row283 col1\" >0.354238</td>\n",
       "                        <td id=\"T_49ab1195_3b06_11eb_bb5f_4ccc6acf21berow283_col2\" class=\"data row283 col2\" >0.487225</td>\n",
       "                        <td id=\"T_49ab1195_3b06_11eb_bb5f_4ccc6acf21berow283_col3\" class=\"data row283 col3\" >0.793888</td>\n",
       "                        <td id=\"T_49ab1195_3b06_11eb_bb5f_4ccc6acf21berow283_col4\" class=\"data row283 col4\" >Zero</td>\n",
       "                        <td id=\"T_49ab1195_3b06_11eb_bb5f_4ccc6acf21berow283_col5\" class=\"data row283 col5\" >Zero</td>\n",
       "                        <td id=\"T_49ab1195_3b06_11eb_bb5f_4ccc6acf21berow283_col6\" class=\"data row283 col6\" >0.710360</td>\n",
       "            </tr>\n",
       "            <tr>\n",
       "                        <th id=\"T_49ab1195_3b06_11eb_bb5f_4ccc6acf21belevel0_row284\" class=\"row_heading level0 row284\" >695</th>\n",
       "                        <td id=\"T_49ab1195_3b06_11eb_bb5f_4ccc6acf21berow284_col0\" class=\"data row284 col0\" >0.543583</td>\n",
       "                        <td id=\"T_49ab1195_3b06_11eb_bb5f_4ccc6acf21berow284_col1\" class=\"data row284 col1\" >0.897948</td>\n",
       "                        <td id=\"T_49ab1195_3b06_11eb_bb5f_4ccc6acf21berow284_col2\" class=\"data row284 col2\" >0.180460</td>\n",
       "                        <td id=\"T_49ab1195_3b06_11eb_bb5f_4ccc6acf21berow284_col3\" class=\"data row284 col3\" >0.412113</td>\n",
       "                        <td id=\"T_49ab1195_3b06_11eb_bb5f_4ccc6acf21berow284_col4\" class=\"data row284 col4\" >Zero</td>\n",
       "                        <td id=\"T_49ab1195_3b06_11eb_bb5f_4ccc6acf21berow284_col5\" class=\"data row284 col5\" >Zero</td>\n",
       "                        <td id=\"T_49ab1195_3b06_11eb_bb5f_4ccc6acf21berow284_col6\" class=\"data row284 col6\" >0.710694</td>\n",
       "            </tr>\n",
       "            <tr>\n",
       "                        <th id=\"T_49ab1195_3b06_11eb_bb5f_4ccc6acf21belevel0_row285\" class=\"row_heading level0 row285\" >407</th>\n",
       "                        <td id=\"T_49ab1195_3b06_11eb_bb5f_4ccc6acf21berow285_col0\" class=\"data row285 col0\" >0.503362</td>\n",
       "                        <td id=\"T_49ab1195_3b06_11eb_bb5f_4ccc6acf21berow285_col1\" class=\"data row285 col1\" >0.747271</td>\n",
       "                        <td id=\"T_49ab1195_3b06_11eb_bb5f_4ccc6acf21berow285_col2\" class=\"data row285 col2\" >0.275060</td>\n",
       "                        <td id=\"T_49ab1195_3b06_11eb_bb5f_4ccc6acf21berow285_col3\" class=\"data row285 col3\" >0.674432</td>\n",
       "                        <td id=\"T_49ab1195_3b06_11eb_bb5f_4ccc6acf21berow285_col4\" class=\"data row285 col4\" >Zero</td>\n",
       "                        <td id=\"T_49ab1195_3b06_11eb_bb5f_4ccc6acf21berow285_col5\" class=\"data row285 col5\" >Zero</td>\n",
       "                        <td id=\"T_49ab1195_3b06_11eb_bb5f_4ccc6acf21berow285_col6\" class=\"data row285 col6\" >0.711045</td>\n",
       "            </tr>\n",
       "            <tr>\n",
       "                        <th id=\"T_49ab1195_3b06_11eb_bb5f_4ccc6acf21belevel0_row286\" class=\"row_heading level0 row286\" >241</th>\n",
       "                        <td id=\"T_49ab1195_3b06_11eb_bb5f_4ccc6acf21berow286_col0\" class=\"data row286 col0\" >0.407373</td>\n",
       "                        <td id=\"T_49ab1195_3b06_11eb_bb5f_4ccc6acf21berow286_col1\" class=\"data row286 col1\" >0.573982</td>\n",
       "                        <td id=\"T_49ab1195_3b06_11eb_bb5f_4ccc6acf21berow286_col2\" class=\"data row286 col2\" >0.552450</td>\n",
       "                        <td id=\"T_49ab1195_3b06_11eb_bb5f_4ccc6acf21berow286_col3\" class=\"data row286 col3\" >0.848562</td>\n",
       "                        <td id=\"T_49ab1195_3b06_11eb_bb5f_4ccc6acf21berow286_col4\" class=\"data row286 col4\" >Zero</td>\n",
       "                        <td id=\"T_49ab1195_3b06_11eb_bb5f_4ccc6acf21berow286_col5\" class=\"data row286 col5\" >Zero</td>\n",
       "                        <td id=\"T_49ab1195_3b06_11eb_bb5f_4ccc6acf21berow286_col6\" class=\"data row286 col6\" >0.715447</td>\n",
       "            </tr>\n",
       "            <tr>\n",
       "                        <th id=\"T_49ab1195_3b06_11eb_bb5f_4ccc6acf21belevel0_row287\" class=\"row_heading level0 row287\" >124</th>\n",
       "                        <td id=\"T_49ab1195_3b06_11eb_bb5f_4ccc6acf21berow287_col0\" class=\"data row287 col0\" >0.441694</td>\n",
       "                        <td id=\"T_49ab1195_3b06_11eb_bb5f_4ccc6acf21berow287_col1\" class=\"data row287 col1\" >0.889121</td>\n",
       "                        <td id=\"T_49ab1195_3b06_11eb_bb5f_4ccc6acf21berow287_col2\" class=\"data row287 col2\" >0.278566</td>\n",
       "                        <td id=\"T_49ab1195_3b06_11eb_bb5f_4ccc6acf21berow287_col3\" class=\"data row287 col3\" >0.302054</td>\n",
       "                        <td id=\"T_49ab1195_3b06_11eb_bb5f_4ccc6acf21berow287_col4\" class=\"data row287 col4\" >Zero</td>\n",
       "                        <td id=\"T_49ab1195_3b06_11eb_bb5f_4ccc6acf21berow287_col5\" class=\"data row287 col5\" >Zero</td>\n",
       "                        <td id=\"T_49ab1195_3b06_11eb_bb5f_4ccc6acf21berow287_col6\" class=\"data row287 col6\" >0.720156</td>\n",
       "            </tr>\n",
       "            <tr>\n",
       "                        <th id=\"T_49ab1195_3b06_11eb_bb5f_4ccc6acf21belevel0_row288\" class=\"row_heading level0 row288\" >155</th>\n",
       "                        <td id=\"T_49ab1195_3b06_11eb_bb5f_4ccc6acf21berow288_col0\" class=\"data row288 col0\" >0.687111</td>\n",
       "                        <td id=\"T_49ab1195_3b06_11eb_bb5f_4ccc6acf21berow288_col1\" class=\"data row288 col1\" >0.478126</td>\n",
       "                        <td id=\"T_49ab1195_3b06_11eb_bb5f_4ccc6acf21berow288_col2\" class=\"data row288 col2\" >0.457772</td>\n",
       "                        <td id=\"T_49ab1195_3b06_11eb_bb5f_4ccc6acf21berow288_col3\" class=\"data row288 col3\" >0.763200</td>\n",
       "                        <td id=\"T_49ab1195_3b06_11eb_bb5f_4ccc6acf21berow288_col4\" class=\"data row288 col4\" >Zero</td>\n",
       "                        <td id=\"T_49ab1195_3b06_11eb_bb5f_4ccc6acf21berow288_col5\" class=\"data row288 col5\" >Zero</td>\n",
       "                        <td id=\"T_49ab1195_3b06_11eb_bb5f_4ccc6acf21berow288_col6\" class=\"data row288 col6\" >0.720266</td>\n",
       "            </tr>\n",
       "            <tr>\n",
       "                        <th id=\"T_49ab1195_3b06_11eb_bb5f_4ccc6acf21belevel0_row289\" class=\"row_heading level0 row289\" >360</th>\n",
       "                        <td id=\"T_49ab1195_3b06_11eb_bb5f_4ccc6acf21berow289_col0\" class=\"data row289 col0\" >0.703705</td>\n",
       "                        <td id=\"T_49ab1195_3b06_11eb_bb5f_4ccc6acf21berow289_col1\" class=\"data row289 col1\" >0.358189</td>\n",
       "                        <td id=\"T_49ab1195_3b06_11eb_bb5f_4ccc6acf21berow289_col2\" class=\"data row289 col2\" >0.408275</td>\n",
       "                        <td id=\"T_49ab1195_3b06_11eb_bb5f_4ccc6acf21berow289_col3\" class=\"data row289 col3\" >0.792712</td>\n",
       "                        <td id=\"T_49ab1195_3b06_11eb_bb5f_4ccc6acf21berow289_col4\" class=\"data row289 col4\" >Zero</td>\n",
       "                        <td id=\"T_49ab1195_3b06_11eb_bb5f_4ccc6acf21berow289_col5\" class=\"data row289 col5\" >Zero</td>\n",
       "                        <td id=\"T_49ab1195_3b06_11eb_bb5f_4ccc6acf21berow289_col6\" class=\"data row289 col6\" >0.720559</td>\n",
       "            </tr>\n",
       "            <tr>\n",
       "                        <th id=\"T_49ab1195_3b06_11eb_bb5f_4ccc6acf21belevel0_row290\" class=\"row_heading level0 row290\" >341</th>\n",
       "                        <td id=\"T_49ab1195_3b06_11eb_bb5f_4ccc6acf21berow290_col0\" class=\"data row290 col0\" >0.422712</td>\n",
       "                        <td id=\"T_49ab1195_3b06_11eb_bb5f_4ccc6acf21berow290_col1\" class=\"data row290 col1\" >0.946031</td>\n",
       "                        <td id=\"T_49ab1195_3b06_11eb_bb5f_4ccc6acf21berow290_col2\" class=\"data row290 col2\" >0.234422</td>\n",
       "                        <td id=\"T_49ab1195_3b06_11eb_bb5f_4ccc6acf21berow290_col3\" class=\"data row290 col3\" >0.157197</td>\n",
       "                        <td id=\"T_49ab1195_3b06_11eb_bb5f_4ccc6acf21berow290_col4\" class=\"data row290 col4\" >Zero</td>\n",
       "                        <td id=\"T_49ab1195_3b06_11eb_bb5f_4ccc6acf21berow290_col5\" class=\"data row290 col5\" >Zero</td>\n",
       "                        <td id=\"T_49ab1195_3b06_11eb_bb5f_4ccc6acf21berow290_col6\" class=\"data row290 col6\" >0.720993</td>\n",
       "            </tr>\n",
       "            <tr>\n",
       "                        <th id=\"T_49ab1195_3b06_11eb_bb5f_4ccc6acf21belevel0_row291\" class=\"row_heading level0 row291\" >290</th>\n",
       "                        <td id=\"T_49ab1195_3b06_11eb_bb5f_4ccc6acf21berow291_col0\" class=\"data row291 col0\" >0.693010</td>\n",
       "                        <td id=\"T_49ab1195_3b06_11eb_bb5f_4ccc6acf21berow291_col1\" class=\"data row291 col1\" >0.646844</td>\n",
       "                        <td id=\"T_49ab1195_3b06_11eb_bb5f_4ccc6acf21berow291_col2\" class=\"data row291 col2\" >0.254169</td>\n",
       "                        <td id=\"T_49ab1195_3b06_11eb_bb5f_4ccc6acf21berow291_col3\" class=\"data row291 col3\" >0.740272</td>\n",
       "                        <td id=\"T_49ab1195_3b06_11eb_bb5f_4ccc6acf21berow291_col4\" class=\"data row291 col4\" >Zero</td>\n",
       "                        <td id=\"T_49ab1195_3b06_11eb_bb5f_4ccc6acf21berow291_col5\" class=\"data row291 col5\" >Zero</td>\n",
       "                        <td id=\"T_49ab1195_3b06_11eb_bb5f_4ccc6acf21berow291_col6\" class=\"data row291 col6\" >0.721107</td>\n",
       "            </tr>\n",
       "            <tr>\n",
       "                        <th id=\"T_49ab1195_3b06_11eb_bb5f_4ccc6acf21belevel0_row292\" class=\"row_heading level0 row292\" >378</th>\n",
       "                        <td id=\"T_49ab1195_3b06_11eb_bb5f_4ccc6acf21berow292_col0\" class=\"data row292 col0\" >0.713526</td>\n",
       "                        <td id=\"T_49ab1195_3b06_11eb_bb5f_4ccc6acf21berow292_col1\" class=\"data row292 col1\" >0.852496</td>\n",
       "                        <td id=\"T_49ab1195_3b06_11eb_bb5f_4ccc6acf21berow292_col2\" class=\"data row292 col2\" >0.065699</td>\n",
       "                        <td id=\"T_49ab1195_3b06_11eb_bb5f_4ccc6acf21berow292_col3\" class=\"data row292 col3\" >0.473835</td>\n",
       "                        <td id=\"T_49ab1195_3b06_11eb_bb5f_4ccc6acf21berow292_col4\" class=\"data row292 col4\" >Zero</td>\n",
       "                        <td id=\"T_49ab1195_3b06_11eb_bb5f_4ccc6acf21berow292_col5\" class=\"data row292 col5\" >Zero</td>\n",
       "                        <td id=\"T_49ab1195_3b06_11eb_bb5f_4ccc6acf21berow292_col6\" class=\"data row292 col6\" >0.721561</td>\n",
       "            </tr>\n",
       "            <tr>\n",
       "                        <th id=\"T_49ab1195_3b06_11eb_bb5f_4ccc6acf21belevel0_row293\" class=\"row_heading level0 row293\" >366</th>\n",
       "                        <td id=\"T_49ab1195_3b06_11eb_bb5f_4ccc6acf21berow293_col0\" class=\"data row293 col0\" >0.761598</td>\n",
       "                        <td id=\"T_49ab1195_3b06_11eb_bb5f_4ccc6acf21berow293_col1\" class=\"data row293 col1\" >0.752304</td>\n",
       "                        <td id=\"T_49ab1195_3b06_11eb_bb5f_4ccc6acf21berow293_col2\" class=\"data row293 col2\" >0.151076</td>\n",
       "                        <td id=\"T_49ab1195_3b06_11eb_bb5f_4ccc6acf21berow293_col3\" class=\"data row293 col3\" >0.775428</td>\n",
       "                        <td id=\"T_49ab1195_3b06_11eb_bb5f_4ccc6acf21berow293_col4\" class=\"data row293 col4\" >Zero</td>\n",
       "                        <td id=\"T_49ab1195_3b06_11eb_bb5f_4ccc6acf21berow293_col5\" class=\"data row293 col5\" >Zero</td>\n",
       "                        <td id=\"T_49ab1195_3b06_11eb_bb5f_4ccc6acf21berow293_col6\" class=\"data row293 col6\" >0.721669</td>\n",
       "            </tr>\n",
       "            <tr>\n",
       "                        <th id=\"T_49ab1195_3b06_11eb_bb5f_4ccc6acf21belevel0_row294\" class=\"row_heading level0 row294\" >388</th>\n",
       "                        <td id=\"T_49ab1195_3b06_11eb_bb5f_4ccc6acf21berow294_col0\" class=\"data row294 col0\" >0.345384</td>\n",
       "                        <td id=\"T_49ab1195_3b06_11eb_bb5f_4ccc6acf21berow294_col1\" class=\"data row294 col1\" >0.946884</td>\n",
       "                        <td id=\"T_49ab1195_3b06_11eb_bb5f_4ccc6acf21berow294_col2\" class=\"data row294 col2\" >0.339285</td>\n",
       "                        <td id=\"T_49ab1195_3b06_11eb_bb5f_4ccc6acf21berow294_col3\" class=\"data row294 col3\" >0.479600</td>\n",
       "                        <td id=\"T_49ab1195_3b06_11eb_bb5f_4ccc6acf21berow294_col4\" class=\"data row294 col4\" >Zero</td>\n",
       "                        <td id=\"T_49ab1195_3b06_11eb_bb5f_4ccc6acf21berow294_col5\" class=\"data row294 col5\" >Zero</td>\n",
       "                        <td id=\"T_49ab1195_3b06_11eb_bb5f_4ccc6acf21berow294_col6\" class=\"data row294 col6\" >0.721705</td>\n",
       "            </tr>\n",
       "            <tr>\n",
       "                        <th id=\"T_49ab1195_3b06_11eb_bb5f_4ccc6acf21belevel0_row295\" class=\"row_heading level0 row295\" >482</th>\n",
       "                        <td id=\"T_49ab1195_3b06_11eb_bb5f_4ccc6acf21berow295_col0\" class=\"data row295 col0\" >0.508349</td>\n",
       "                        <td id=\"T_49ab1195_3b06_11eb_bb5f_4ccc6acf21berow295_col1\" class=\"data row295 col1\" >0.828417</td>\n",
       "                        <td id=\"T_49ab1195_3b06_11eb_bb5f_4ccc6acf21berow295_col2\" class=\"data row295 col2\" >0.249592</td>\n",
       "                        <td id=\"T_49ab1195_3b06_11eb_bb5f_4ccc6acf21berow295_col3\" class=\"data row295 col3\" >0.430335</td>\n",
       "                        <td id=\"T_49ab1195_3b06_11eb_bb5f_4ccc6acf21berow295_col4\" class=\"data row295 col4\" >Zero</td>\n",
       "                        <td id=\"T_49ab1195_3b06_11eb_bb5f_4ccc6acf21berow295_col5\" class=\"data row295 col5\" >Zero</td>\n",
       "                        <td id=\"T_49ab1195_3b06_11eb_bb5f_4ccc6acf21berow295_col6\" class=\"data row295 col6\" >0.722201</td>\n",
       "            </tr>\n",
       "            <tr>\n",
       "                        <th id=\"T_49ab1195_3b06_11eb_bb5f_4ccc6acf21belevel0_row296\" class=\"row_heading level0 row296\" >396</th>\n",
       "                        <td id=\"T_49ab1195_3b06_11eb_bb5f_4ccc6acf21berow296_col0\" class=\"data row296 col0\" >0.701094</td>\n",
       "                        <td id=\"T_49ab1195_3b06_11eb_bb5f_4ccc6acf21berow296_col1\" class=\"data row296 col1\" >0.632673</td>\n",
       "                        <td id=\"T_49ab1195_3b06_11eb_bb5f_4ccc6acf21berow296_col2\" class=\"data row296 col2\" >0.242395</td>\n",
       "                        <td id=\"T_49ab1195_3b06_11eb_bb5f_4ccc6acf21berow296_col3\" class=\"data row296 col3\" >0.830455</td>\n",
       "                        <td id=\"T_49ab1195_3b06_11eb_bb5f_4ccc6acf21berow296_col4\" class=\"data row296 col4\" >Zero</td>\n",
       "                        <td id=\"T_49ab1195_3b06_11eb_bb5f_4ccc6acf21berow296_col5\" class=\"data row296 col5\" >Zero</td>\n",
       "                        <td id=\"T_49ab1195_3b06_11eb_bb5f_4ccc6acf21berow296_col6\" class=\"data row296 col6\" >0.725624</td>\n",
       "            </tr>\n",
       "            <tr>\n",
       "                        <th id=\"T_49ab1195_3b06_11eb_bb5f_4ccc6acf21belevel0_row297\" class=\"row_heading level0 row297\" >356</th>\n",
       "                        <td id=\"T_49ab1195_3b06_11eb_bb5f_4ccc6acf21berow297_col0\" class=\"data row297 col0\" >0.704029</td>\n",
       "                        <td id=\"T_49ab1195_3b06_11eb_bb5f_4ccc6acf21berow297_col1\" class=\"data row297 col1\" >0.855209</td>\n",
       "                        <td id=\"T_49ab1195_3b06_11eb_bb5f_4ccc6acf21berow297_col2\" class=\"data row297 col2\" >0.085080</td>\n",
       "                        <td id=\"T_49ab1195_3b06_11eb_bb5f_4ccc6acf21berow297_col3\" class=\"data row297 col3\" >0.689243</td>\n",
       "                        <td id=\"T_49ab1195_3b06_11eb_bb5f_4ccc6acf21berow297_col4\" class=\"data row297 col4\" >Zero</td>\n",
       "                        <td id=\"T_49ab1195_3b06_11eb_bb5f_4ccc6acf21berow297_col5\" class=\"data row297 col5\" >Zero</td>\n",
       "                        <td id=\"T_49ab1195_3b06_11eb_bb5f_4ccc6acf21berow297_col6\" class=\"data row297 col6\" >0.726918</td>\n",
       "            </tr>\n",
       "            <tr>\n",
       "                        <th id=\"T_49ab1195_3b06_11eb_bb5f_4ccc6acf21belevel0_row298\" class=\"row_heading level0 row298\" >424</th>\n",
       "                        <td id=\"T_49ab1195_3b06_11eb_bb5f_4ccc6acf21berow298_col0\" class=\"data row298 col0\" >0.647946</td>\n",
       "                        <td id=\"T_49ab1195_3b06_11eb_bb5f_4ccc6acf21berow298_col1\" class=\"data row298 col1\" >0.754703</td>\n",
       "                        <td id=\"T_49ab1195_3b06_11eb_bb5f_4ccc6acf21berow298_col2\" class=\"data row298 col2\" >0.231691</td>\n",
       "                        <td id=\"T_49ab1195_3b06_11eb_bb5f_4ccc6acf21berow298_col3\" class=\"data row298 col3\" >0.830103</td>\n",
       "                        <td id=\"T_49ab1195_3b06_11eb_bb5f_4ccc6acf21berow298_col4\" class=\"data row298 col4\" >Zero</td>\n",
       "                        <td id=\"T_49ab1195_3b06_11eb_bb5f_4ccc6acf21berow298_col5\" class=\"data row298 col5\" >Zero</td>\n",
       "                        <td id=\"T_49ab1195_3b06_11eb_bb5f_4ccc6acf21berow298_col6\" class=\"data row298 col6\" >0.727754</td>\n",
       "            </tr>\n",
       "            <tr>\n",
       "                        <th id=\"T_49ab1195_3b06_11eb_bb5f_4ccc6acf21belevel0_row299\" class=\"row_heading level0 row299\" >539</th>\n",
       "                        <td id=\"T_49ab1195_3b06_11eb_bb5f_4ccc6acf21berow299_col0\" class=\"data row299 col0\" >0.814140</td>\n",
       "                        <td id=\"T_49ab1195_3b06_11eb_bb5f_4ccc6acf21berow299_col1\" class=\"data row299 col1\" >0.570809</td>\n",
       "                        <td id=\"T_49ab1195_3b06_11eb_bb5f_4ccc6acf21berow299_col2\" class=\"data row299 col2\" >0.206886</td>\n",
       "                        <td id=\"T_49ab1195_3b06_11eb_bb5f_4ccc6acf21berow299_col3\" class=\"data row299 col3\" >0.863965</td>\n",
       "                        <td id=\"T_49ab1195_3b06_11eb_bb5f_4ccc6acf21berow299_col4\" class=\"data row299 col4\" >Zero</td>\n",
       "                        <td id=\"T_49ab1195_3b06_11eb_bb5f_4ccc6acf21berow299_col5\" class=\"data row299 col5\" >Zero</td>\n",
       "                        <td id=\"T_49ab1195_3b06_11eb_bb5f_4ccc6acf21berow299_col6\" class=\"data row299 col6\" >0.727777</td>\n",
       "            </tr>\n",
       "            <tr>\n",
       "                        <th id=\"T_49ab1195_3b06_11eb_bb5f_4ccc6acf21belevel0_row300\" class=\"row_heading level0 row300\" >58</th>\n",
       "                        <td id=\"T_49ab1195_3b06_11eb_bb5f_4ccc6acf21berow300_col0\" class=\"data row300 col0\" >0.734108</td>\n",
       "                        <td id=\"T_49ab1195_3b06_11eb_bb5f_4ccc6acf21berow300_col1\" class=\"data row300 col1\" >0.361594</td>\n",
       "                        <td id=\"T_49ab1195_3b06_11eb_bb5f_4ccc6acf21berow300_col2\" class=\"data row300 col2\" >0.424589</td>\n",
       "                        <td id=\"T_49ab1195_3b06_11eb_bb5f_4ccc6acf21berow300_col3\" class=\"data row300 col3\" >0.867257</td>\n",
       "                        <td id=\"T_49ab1195_3b06_11eb_bb5f_4ccc6acf21berow300_col4\" class=\"data row300 col4\" >Zero</td>\n",
       "                        <td id=\"T_49ab1195_3b06_11eb_bb5f_4ccc6acf21berow300_col5\" class=\"data row300 col5\" >Zero</td>\n",
       "                        <td id=\"T_49ab1195_3b06_11eb_bb5f_4ccc6acf21berow300_col6\" class=\"data row300 col6\" >0.728683</td>\n",
       "            </tr>\n",
       "            <tr>\n",
       "                        <th id=\"T_49ab1195_3b06_11eb_bb5f_4ccc6acf21belevel0_row301\" class=\"row_heading level0 row301\" >69</th>\n",
       "                        <td id=\"T_49ab1195_3b06_11eb_bb5f_4ccc6acf21berow301_col0\" class=\"data row301 col0\" >0.516724</td>\n",
       "                        <td id=\"T_49ab1195_3b06_11eb_bb5f_4ccc6acf21berow301_col1\" class=\"data row301 col1\" >0.851568</td>\n",
       "                        <td id=\"T_49ab1195_3b06_11eb_bb5f_4ccc6acf21berow301_col2\" class=\"data row301 col2\" >0.187434</td>\n",
       "                        <td id=\"T_49ab1195_3b06_11eb_bb5f_4ccc6acf21berow301_col3\" class=\"data row301 col3\" >0.556025</td>\n",
       "                        <td id=\"T_49ab1195_3b06_11eb_bb5f_4ccc6acf21berow301_col4\" class=\"data row301 col4\" >Zero</td>\n",
       "                        <td id=\"T_49ab1195_3b06_11eb_bb5f_4ccc6acf21berow301_col5\" class=\"data row301 col5\" >Zero</td>\n",
       "                        <td id=\"T_49ab1195_3b06_11eb_bb5f_4ccc6acf21berow301_col6\" class=\"data row301 col6\" >0.729221</td>\n",
       "            </tr>\n",
       "            <tr>\n",
       "                        <th id=\"T_49ab1195_3b06_11eb_bb5f_4ccc6acf21belevel0_row302\" class=\"row_heading level0 row302\" >244</th>\n",
       "                        <td id=\"T_49ab1195_3b06_11eb_bb5f_4ccc6acf21berow302_col0\" class=\"data row302 col0\" >0.682979</td>\n",
       "                        <td id=\"T_49ab1195_3b06_11eb_bb5f_4ccc6acf21berow302_col1\" class=\"data row302 col1\" >0.866434</td>\n",
       "                        <td id=\"T_49ab1195_3b06_11eb_bb5f_4ccc6acf21berow302_col2\" class=\"data row302 col2\" >0.087811</td>\n",
       "                        <td id=\"T_49ab1195_3b06_11eb_bb5f_4ccc6acf21berow302_col3\" class=\"data row302 col3\" >0.645035</td>\n",
       "                        <td id=\"T_49ab1195_3b06_11eb_bb5f_4ccc6acf21berow302_col4\" class=\"data row302 col4\" >Zero</td>\n",
       "                        <td id=\"T_49ab1195_3b06_11eb_bb5f_4ccc6acf21berow302_col5\" class=\"data row302 col5\" >Zero</td>\n",
       "                        <td id=\"T_49ab1195_3b06_11eb_bb5f_4ccc6acf21berow302_col6\" class=\"data row302 col6\" >0.730682</td>\n",
       "            </tr>\n",
       "            <tr>\n",
       "                        <th id=\"T_49ab1195_3b06_11eb_bb5f_4ccc6acf21belevel0_row303\" class=\"row_heading level0 row303\" >294</th>\n",
       "                        <td id=\"T_49ab1195_3b06_11eb_bb5f_4ccc6acf21berow303_col0\" class=\"data row303 col0\" >0.688611</td>\n",
       "                        <td id=\"T_49ab1195_3b06_11eb_bb5f_4ccc6acf21berow303_col1\" class=\"data row303 col1\" >0.558730</td>\n",
       "                        <td id=\"T_49ab1195_3b06_11eb_bb5f_4ccc6acf21berow303_col2\" class=\"data row303 col2\" >0.396795</td>\n",
       "                        <td id=\"T_49ab1195_3b06_11eb_bb5f_4ccc6acf21berow303_col3\" class=\"data row303 col3\" >0.788715</td>\n",
       "                        <td id=\"T_49ab1195_3b06_11eb_bb5f_4ccc6acf21berow303_col4\" class=\"data row303 col4\" >Zero</td>\n",
       "                        <td id=\"T_49ab1195_3b06_11eb_bb5f_4ccc6acf21berow303_col5\" class=\"data row303 col5\" >Zero</td>\n",
       "                        <td id=\"T_49ab1195_3b06_11eb_bb5f_4ccc6acf21berow303_col6\" class=\"data row303 col6\" >0.731521</td>\n",
       "            </tr>\n",
       "            <tr>\n",
       "                        <th id=\"T_49ab1195_3b06_11eb_bb5f_4ccc6acf21belevel0_row304\" class=\"row_heading level0 row304\" >533</th>\n",
       "                        <td id=\"T_49ab1195_3b06_11eb_bb5f_4ccc6acf21berow304_col0\" class=\"data row304 col0\" >0.511102</td>\n",
       "                        <td id=\"T_49ab1195_3b06_11eb_bb5f_4ccc6acf21berow304_col1\" class=\"data row304 col1\" >0.767324</td>\n",
       "                        <td id=\"T_49ab1195_3b06_11eb_bb5f_4ccc6acf21berow304_col2\" class=\"data row304 col2\" >0.273845</td>\n",
       "                        <td id=\"T_49ab1195_3b06_11eb_bb5f_4ccc6acf21berow304_col3\" class=\"data row304 col3\" >0.692418</td>\n",
       "                        <td id=\"T_49ab1195_3b06_11eb_bb5f_4ccc6acf21berow304_col4\" class=\"data row304 col4\" >Zero</td>\n",
       "                        <td id=\"T_49ab1195_3b06_11eb_bb5f_4ccc6acf21berow304_col5\" class=\"data row304 col5\" >Zero</td>\n",
       "                        <td id=\"T_49ab1195_3b06_11eb_bb5f_4ccc6acf21berow304_col6\" class=\"data row304 col6\" >0.731789</td>\n",
       "            </tr>\n",
       "            <tr>\n",
       "                        <th id=\"T_49ab1195_3b06_11eb_bb5f_4ccc6acf21belevel0_row305\" class=\"row_heading level0 row305\" >230</th>\n",
       "                        <td id=\"T_49ab1195_3b06_11eb_bb5f_4ccc6acf21berow305_col0\" class=\"data row305 col0\" >0.411282</td>\n",
       "                        <td id=\"T_49ab1195_3b06_11eb_bb5f_4ccc6acf21berow305_col1\" class=\"data row305 col1\" >0.573443</td>\n",
       "                        <td id=\"T_49ab1195_3b06_11eb_bb5f_4ccc6acf21berow305_col2\" class=\"data row305 col2\" >0.532737</td>\n",
       "                        <td id=\"T_49ab1195_3b06_11eb_bb5f_4ccc6acf21berow305_col3\" class=\"data row305 col3\" >0.871018</td>\n",
       "                        <td id=\"T_49ab1195_3b06_11eb_bb5f_4ccc6acf21berow305_col4\" class=\"data row305 col4\" >Zero</td>\n",
       "                        <td id=\"T_49ab1195_3b06_11eb_bb5f_4ccc6acf21berow305_col5\" class=\"data row305 col5\" >Zero</td>\n",
       "                        <td id=\"T_49ab1195_3b06_11eb_bb5f_4ccc6acf21berow305_col6\" class=\"data row305 col6\" >0.731969</td>\n",
       "            </tr>\n",
       "            <tr>\n",
       "                        <th id=\"T_49ab1195_3b06_11eb_bb5f_4ccc6acf21belevel0_row306\" class=\"row_heading level0 row306\" >115</th>\n",
       "                        <td id=\"T_49ab1195_3b06_11eb_bb5f_4ccc6acf21berow306_col0\" class=\"data row306 col0\" >0.690508</td>\n",
       "                        <td id=\"T_49ab1195_3b06_11eb_bb5f_4ccc6acf21berow306_col1\" class=\"data row306 col1\" >0.624389</td>\n",
       "                        <td id=\"T_49ab1195_3b06_11eb_bb5f_4ccc6acf21berow306_col2\" class=\"data row306 col2\" >0.192306</td>\n",
       "                        <td id=\"T_49ab1195_3b06_11eb_bb5f_4ccc6acf21berow306_col3\" class=\"data row306 col3\" >0.766139</td>\n",
       "                        <td id=\"T_49ab1195_3b06_11eb_bb5f_4ccc6acf21berow306_col4\" class=\"data row306 col4\" >Zero</td>\n",
       "                        <td id=\"T_49ab1195_3b06_11eb_bb5f_4ccc6acf21berow306_col5\" class=\"data row306 col5\" >Zero</td>\n",
       "                        <td id=\"T_49ab1195_3b06_11eb_bb5f_4ccc6acf21berow306_col6\" class=\"data row306 col6\" >0.732397</td>\n",
       "            </tr>\n",
       "            <tr>\n",
       "                        <th id=\"T_49ab1195_3b06_11eb_bb5f_4ccc6acf21belevel0_row307\" class=\"row_heading level0 row307\" >688</th>\n",
       "                        <td id=\"T_49ab1195_3b06_11eb_bb5f_4ccc6acf21berow307_col0\" class=\"data row307 col0\" >0.696868</td>\n",
       "                        <td id=\"T_49ab1195_3b06_11eb_bb5f_4ccc6acf21berow307_col1\" class=\"data row307 col1\" >0.732094</td>\n",
       "                        <td id=\"T_49ab1195_3b06_11eb_bb5f_4ccc6acf21berow307_col2\" class=\"data row307 col2\" >0.230546</td>\n",
       "                        <td id=\"T_49ab1195_3b06_11eb_bb5f_4ccc6acf21berow307_col3\" class=\"data row307 col3\" >0.633978</td>\n",
       "                        <td id=\"T_49ab1195_3b06_11eb_bb5f_4ccc6acf21berow307_col4\" class=\"data row307 col4\" >Zero</td>\n",
       "                        <td id=\"T_49ab1195_3b06_11eb_bb5f_4ccc6acf21berow307_col5\" class=\"data row307 col5\" >Zero</td>\n",
       "                        <td id=\"T_49ab1195_3b06_11eb_bb5f_4ccc6acf21berow307_col6\" class=\"data row307 col6\" >0.732459</td>\n",
       "            </tr>\n",
       "            <tr>\n",
       "                        <th id=\"T_49ab1195_3b06_11eb_bb5f_4ccc6acf21belevel0_row308\" class=\"row_heading level0 row308\" >499</th>\n",
       "                        <td id=\"T_49ab1195_3b06_11eb_bb5f_4ccc6acf21berow308_col0\" class=\"data row308 col0\" >0.571616</td>\n",
       "                        <td id=\"T_49ab1195_3b06_11eb_bb5f_4ccc6acf21berow308_col1\" class=\"data row308 col1\" >0.761980</td>\n",
       "                        <td id=\"T_49ab1195_3b06_11eb_bb5f_4ccc6acf21berow308_col2\" class=\"data row308 col2\" >0.251770</td>\n",
       "                        <td id=\"T_49ab1195_3b06_11eb_bb5f_4ccc6acf21berow308_col3\" class=\"data row308 col3\" >0.737098</td>\n",
       "                        <td id=\"T_49ab1195_3b06_11eb_bb5f_4ccc6acf21berow308_col4\" class=\"data row308 col4\" >Zero</td>\n",
       "                        <td id=\"T_49ab1195_3b06_11eb_bb5f_4ccc6acf21berow308_col5\" class=\"data row308 col5\" >Zero</td>\n",
       "                        <td id=\"T_49ab1195_3b06_11eb_bb5f_4ccc6acf21berow308_col6\" class=\"data row308 col6\" >0.733154</td>\n",
       "            </tr>\n",
       "            <tr>\n",
       "                        <th id=\"T_49ab1195_3b06_11eb_bb5f_4ccc6acf21belevel0_row309\" class=\"row_heading level0 row309\" >221</th>\n",
       "                        <td id=\"T_49ab1195_3b06_11eb_bb5f_4ccc6acf21berow309_col0\" class=\"data row309 col0\" >0.682323</td>\n",
       "                        <td id=\"T_49ab1195_3b06_11eb_bb5f_4ccc6acf21berow309_col1\" class=\"data row309 col1\" >0.757337</td>\n",
       "                        <td id=\"T_49ab1195_3b06_11eb_bb5f_4ccc6acf21berow309_col2\" class=\"data row309 col2\" >0.195111</td>\n",
       "                        <td id=\"T_49ab1195_3b06_11eb_bb5f_4ccc6acf21berow309_col3\" class=\"data row309 col3\" >0.798003</td>\n",
       "                        <td id=\"T_49ab1195_3b06_11eb_bb5f_4ccc6acf21berow309_col4\" class=\"data row309 col4\" >Zero</td>\n",
       "                        <td id=\"T_49ab1195_3b06_11eb_bb5f_4ccc6acf21berow309_col5\" class=\"data row309 col5\" >Zero</td>\n",
       "                        <td id=\"T_49ab1195_3b06_11eb_bb5f_4ccc6acf21berow309_col6\" class=\"data row309 col6\" >0.736957</td>\n",
       "            </tr>\n",
       "            <tr>\n",
       "                        <th id=\"T_49ab1195_3b06_11eb_bb5f_4ccc6acf21belevel0_row310\" class=\"row_heading level0 row310\" >516</th>\n",
       "                        <td id=\"T_49ab1195_3b06_11eb_bb5f_4ccc6acf21berow310_col0\" class=\"data row310 col0\" >0.334884</td>\n",
       "                        <td id=\"T_49ab1195_3b06_11eb_bb5f_4ccc6acf21berow310_col1\" class=\"data row310 col1\" >0.987068</td>\n",
       "                        <td id=\"T_49ab1195_3b06_11eb_bb5f_4ccc6acf21berow310_col2\" class=\"data row310 col2\" >0.354643</td>\n",
       "                        <td id=\"T_49ab1195_3b06_11eb_bb5f_4ccc6acf21berow310_col3\" class=\"data row310 col3\" >0.250907</td>\n",
       "                        <td id=\"T_49ab1195_3b06_11eb_bb5f_4ccc6acf21berow310_col4\" class=\"data row310 col4\" >Zero</td>\n",
       "                        <td id=\"T_49ab1195_3b06_11eb_bb5f_4ccc6acf21berow310_col5\" class=\"data row310 col5\" >Zero</td>\n",
       "                        <td id=\"T_49ab1195_3b06_11eb_bb5f_4ccc6acf21berow310_col6\" class=\"data row310 col6\" >0.738723</td>\n",
       "            </tr>\n",
       "            <tr>\n",
       "                        <th id=\"T_49ab1195_3b06_11eb_bb5f_4ccc6acf21belevel0_row311\" class=\"row_heading level0 row311\" >234</th>\n",
       "                        <td id=\"T_49ab1195_3b06_11eb_bb5f_4ccc6acf21berow311_col0\" class=\"data row311 col0\" >0.704678</td>\n",
       "                        <td id=\"T_49ab1195_3b06_11eb_bb5f_4ccc6acf21berow311_col1\" class=\"data row311 col1\" >0.622765</td>\n",
       "                        <td id=\"T_49ab1195_3b06_11eb_bb5f_4ccc6acf21berow311_col2\" class=\"data row311 col2\" >0.249740</td>\n",
       "                        <td id=\"T_49ab1195_3b06_11eb_bb5f_4ccc6acf21berow311_col3\" class=\"data row311 col3\" >0.823636</td>\n",
       "                        <td id=\"T_49ab1195_3b06_11eb_bb5f_4ccc6acf21berow311_col4\" class=\"data row311 col4\" >Zero</td>\n",
       "                        <td id=\"T_49ab1195_3b06_11eb_bb5f_4ccc6acf21berow311_col5\" class=\"data row311 col5\" >Zero</td>\n",
       "                        <td id=\"T_49ab1195_3b06_11eb_bb5f_4ccc6acf21berow311_col6\" class=\"data row311 col6\" >0.739183</td>\n",
       "            </tr>\n",
       "            <tr>\n",
       "                        <th id=\"T_49ab1195_3b06_11eb_bb5f_4ccc6acf21belevel0_row312\" class=\"row_heading level0 row312\" >299</th>\n",
       "                        <td id=\"T_49ab1195_3b06_11eb_bb5f_4ccc6acf21berow312_col0\" class=\"data row312 col0\" >0.673179</td>\n",
       "                        <td id=\"T_49ab1195_3b06_11eb_bb5f_4ccc6acf21berow312_col1\" class=\"data row312 col1\" >0.853581</td>\n",
       "                        <td id=\"T_49ab1195_3b06_11eb_bb5f_4ccc6acf21berow312_col2\" class=\"data row312 col2\" >0.088069</td>\n",
       "                        <td id=\"T_49ab1195_3b06_11eb_bb5f_4ccc6acf21berow312_col3\" class=\"data row312 col3\" >0.659147</td>\n",
       "                        <td id=\"T_49ab1195_3b06_11eb_bb5f_4ccc6acf21berow312_col4\" class=\"data row312 col4\" >Zero</td>\n",
       "                        <td id=\"T_49ab1195_3b06_11eb_bb5f_4ccc6acf21berow312_col5\" class=\"data row312 col5\" >Zero</td>\n",
       "                        <td id=\"T_49ab1195_3b06_11eb_bb5f_4ccc6acf21berow312_col6\" class=\"data row312 col6\" >0.739250</td>\n",
       "            </tr>\n",
       "            <tr>\n",
       "                        <th id=\"T_49ab1195_3b06_11eb_bb5f_4ccc6acf21belevel0_row313\" class=\"row_heading level0 row313\" >419</th>\n",
       "                        <td id=\"T_49ab1195_3b06_11eb_bb5f_4ccc6acf21berow313_col0\" class=\"data row313 col0\" >0.648977</td>\n",
       "                        <td id=\"T_49ab1195_3b06_11eb_bb5f_4ccc6acf21berow313_col1\" class=\"data row313 col1\" >0.323962</td>\n",
       "                        <td id=\"T_49ab1195_3b06_11eb_bb5f_4ccc6acf21berow313_col2\" class=\"data row313 col2\" >0.598738</td>\n",
       "                        <td id=\"T_49ab1195_3b06_11eb_bb5f_4ccc6acf21berow313_col3\" class=\"data row313 col3\" >0.647272</td>\n",
       "                        <td id=\"T_49ab1195_3b06_11eb_bb5f_4ccc6acf21berow313_col4\" class=\"data row313 col4\" >Zero</td>\n",
       "                        <td id=\"T_49ab1195_3b06_11eb_bb5f_4ccc6acf21berow313_col5\" class=\"data row313 col5\" >Zero</td>\n",
       "                        <td id=\"T_49ab1195_3b06_11eb_bb5f_4ccc6acf21berow313_col6\" class=\"data row313 col6\" >0.739647</td>\n",
       "            </tr>\n",
       "            <tr>\n",
       "                        <th id=\"T_49ab1195_3b06_11eb_bb5f_4ccc6acf21belevel0_row314\" class=\"row_heading level0 row314\" >629</th>\n",
       "                        <td id=\"T_49ab1195_3b06_11eb_bb5f_4ccc6acf21berow314_col0\" class=\"data row314 col0\" >0.778768</td>\n",
       "                        <td id=\"T_49ab1195_3b06_11eb_bb5f_4ccc6acf21berow314_col1\" class=\"data row314 col1\" >0.312426</td>\n",
       "                        <td id=\"T_49ab1195_3b06_11eb_bb5f_4ccc6acf21berow314_col2\" class=\"data row314 col2\" >0.392513</td>\n",
       "                        <td id=\"T_49ab1195_3b06_11eb_bb5f_4ccc6acf21berow314_col3\" class=\"data row314 col3\" >0.663375</td>\n",
       "                        <td id=\"T_49ab1195_3b06_11eb_bb5f_4ccc6acf21berow314_col4\" class=\"data row314 col4\" >Zero</td>\n",
       "                        <td id=\"T_49ab1195_3b06_11eb_bb5f_4ccc6acf21berow314_col5\" class=\"data row314 col5\" >Zero</td>\n",
       "                        <td id=\"T_49ab1195_3b06_11eb_bb5f_4ccc6acf21berow314_col6\" class=\"data row314 col6\" >0.741387</td>\n",
       "            </tr>\n",
       "            <tr>\n",
       "                        <th id=\"T_49ab1195_3b06_11eb_bb5f_4ccc6acf21belevel0_row315\" class=\"row_heading level0 row315\" >547</th>\n",
       "                        <td id=\"T_49ab1195_3b06_11eb_bb5f_4ccc6acf21berow315_col0\" class=\"data row315 col0\" >0.757689</td>\n",
       "                        <td id=\"T_49ab1195_3b06_11eb_bb5f_4ccc6acf21berow315_col1\" class=\"data row315 col1\" >0.368794</td>\n",
       "                        <td id=\"T_49ab1195_3b06_11eb_bb5f_4ccc6acf21berow315_col2\" class=\"data row315 col2\" >0.398936</td>\n",
       "                        <td id=\"T_49ab1195_3b06_11eb_bb5f_4ccc6acf21berow315_col3\" class=\"data row315 col3\" >0.810114</td>\n",
       "                        <td id=\"T_49ab1195_3b06_11eb_bb5f_4ccc6acf21berow315_col4\" class=\"data row315 col4\" >Zero</td>\n",
       "                        <td id=\"T_49ab1195_3b06_11eb_bb5f_4ccc6acf21berow315_col5\" class=\"data row315 col5\" >Zero</td>\n",
       "                        <td id=\"T_49ab1195_3b06_11eb_bb5f_4ccc6acf21berow315_col6\" class=\"data row315 col6\" >0.741449</td>\n",
       "            </tr>\n",
       "            <tr>\n",
       "                        <th id=\"T_49ab1195_3b06_11eb_bb5f_4ccc6acf21belevel0_row316\" class=\"row_heading level0 row316\" >412</th>\n",
       "                        <td id=\"T_49ab1195_3b06_11eb_bb5f_4ccc6acf21berow316_col0\" class=\"data row316 col0\" >0.780189</td>\n",
       "                        <td id=\"T_49ab1195_3b06_11eb_bb5f_4ccc6acf21berow316_col1\" class=\"data row316 col1\" >0.881301</td>\n",
       "                        <td id=\"T_49ab1195_3b06_11eb_bb5f_4ccc6acf21berow316_col2\" class=\"data row316 col2\" >0.059388</td>\n",
       "                        <td id=\"T_49ab1195_3b06_11eb_bb5f_4ccc6acf21berow316_col3\" class=\"data row316 col3\" >0.456086</td>\n",
       "                        <td id=\"T_49ab1195_3b06_11eb_bb5f_4ccc6acf21berow316_col4\" class=\"data row316 col4\" >Zero</td>\n",
       "                        <td id=\"T_49ab1195_3b06_11eb_bb5f_4ccc6acf21berow316_col5\" class=\"data row316 col5\" >Zero</td>\n",
       "                        <td id=\"T_49ab1195_3b06_11eb_bb5f_4ccc6acf21berow316_col6\" class=\"data row316 col6\" >0.742438</td>\n",
       "            </tr>\n",
       "            <tr>\n",
       "                        <th id=\"T_49ab1195_3b06_11eb_bb5f_4ccc6acf21belevel0_row317\" class=\"row_heading level0 row317\" >489</th>\n",
       "                        <td id=\"T_49ab1195_3b06_11eb_bb5f_4ccc6acf21berow317_col0\" class=\"data row317 col0\" >0.711464</td>\n",
       "                        <td id=\"T_49ab1195_3b06_11eb_bb5f_4ccc6acf21berow317_col1\" class=\"data row317 col1\" >0.622376</td>\n",
       "                        <td id=\"T_49ab1195_3b06_11eb_bb5f_4ccc6acf21berow317_col2\" class=\"data row317 col2\" >0.236194</td>\n",
       "                        <td id=\"T_49ab1195_3b06_11eb_bb5f_4ccc6acf21berow317_col3\" class=\"data row317 col3\" >0.829279</td>\n",
       "                        <td id=\"T_49ab1195_3b06_11eb_bb5f_4ccc6acf21berow317_col4\" class=\"data row317 col4\" >Zero</td>\n",
       "                        <td id=\"T_49ab1195_3b06_11eb_bb5f_4ccc6acf21berow317_col5\" class=\"data row317 col5\" >Zero</td>\n",
       "                        <td id=\"T_49ab1195_3b06_11eb_bb5f_4ccc6acf21berow317_col6\" class=\"data row317 col6\" >0.742573</td>\n",
       "            </tr>\n",
       "            <tr>\n",
       "                        <th id=\"T_49ab1195_3b06_11eb_bb5f_4ccc6acf21belevel0_row318\" class=\"row_heading level0 row318\" >417</th>\n",
       "                        <td id=\"T_49ab1195_3b06_11eb_bb5f_4ccc6acf21berow318_col0\" class=\"data row318 col0\" >0.590896</td>\n",
       "                        <td id=\"T_49ab1195_3b06_11eb_bb5f_4ccc6acf21berow318_col1\" class=\"data row318 col1\" >0.567247</td>\n",
       "                        <td id=\"T_49ab1195_3b06_11eb_bb5f_4ccc6acf21berow318_col2\" class=\"data row318 col2\" >0.454856</td>\n",
       "                        <td id=\"T_49ab1195_3b06_11eb_bb5f_4ccc6acf21berow318_col3\" class=\"data row318 col3\" >0.737685</td>\n",
       "                        <td id=\"T_49ab1195_3b06_11eb_bb5f_4ccc6acf21berow318_col4\" class=\"data row318 col4\" >Zero</td>\n",
       "                        <td id=\"T_49ab1195_3b06_11eb_bb5f_4ccc6acf21berow318_col5\" class=\"data row318 col5\" >Zero</td>\n",
       "                        <td id=\"T_49ab1195_3b06_11eb_bb5f_4ccc6acf21berow318_col6\" class=\"data row318 col6\" >0.742617</td>\n",
       "            </tr>\n",
       "            <tr>\n",
       "                        <th id=\"T_49ab1195_3b06_11eb_bb5f_4ccc6acf21belevel0_row319\" class=\"row_heading level0 row319\" >161</th>\n",
       "                        <td id=\"T_49ab1195_3b06_11eb_bb5f_4ccc6acf21berow319_col0\" class=\"data row319 col0\" >0.763833</td>\n",
       "                        <td id=\"T_49ab1195_3b06_11eb_bb5f_4ccc6acf21berow319_col1\" class=\"data row319 col1\" >0.837787</td>\n",
       "                        <td id=\"T_49ab1195_3b06_11eb_bb5f_4ccc6acf21berow319_col2\" class=\"data row319 col2\" >0.086445</td>\n",
       "                        <td id=\"T_49ab1195_3b06_11eb_bb5f_4ccc6acf21berow319_col3\" class=\"data row319 col3\" >0.668076</td>\n",
       "                        <td id=\"T_49ab1195_3b06_11eb_bb5f_4ccc6acf21berow319_col4\" class=\"data row319 col4\" >Zero</td>\n",
       "                        <td id=\"T_49ab1195_3b06_11eb_bb5f_4ccc6acf21berow319_col5\" class=\"data row319 col5\" >Zero</td>\n",
       "                        <td id=\"T_49ab1195_3b06_11eb_bb5f_4ccc6acf21berow319_col6\" class=\"data row319 col6\" >0.743011</td>\n",
       "            </tr>\n",
       "            <tr>\n",
       "                        <th id=\"T_49ab1195_3b06_11eb_bb5f_4ccc6acf21belevel0_row320\" class=\"row_heading level0 row320\" >242</th>\n",
       "                        <td id=\"T_49ab1195_3b06_11eb_bb5f_4ccc6acf21berow320_col0\" class=\"data row320 col0\" >0.626146</td>\n",
       "                        <td id=\"T_49ab1195_3b06_11eb_bb5f_4ccc6acf21berow320_col1\" class=\"data row320 col1\" >0.648161</td>\n",
       "                        <td id=\"T_49ab1195_3b06_11eb_bb5f_4ccc6acf21berow320_col2\" class=\"data row320 col2\" >0.287871</td>\n",
       "                        <td id=\"T_49ab1195_3b06_11eb_bb5f_4ccc6acf21berow320_col3\" class=\"data row320 col3\" >0.744152</td>\n",
       "                        <td id=\"T_49ab1195_3b06_11eb_bb5f_4ccc6acf21berow320_col4\" class=\"data row320 col4\" >Zero</td>\n",
       "                        <td id=\"T_49ab1195_3b06_11eb_bb5f_4ccc6acf21berow320_col5\" class=\"data row320 col5\" >Zero</td>\n",
       "                        <td id=\"T_49ab1195_3b06_11eb_bb5f_4ccc6acf21berow320_col6\" class=\"data row320 col6\" >0.743119</td>\n",
       "            </tr>\n",
       "            <tr>\n",
       "                        <th id=\"T_49ab1195_3b06_11eb_bb5f_4ccc6acf21belevel0_row321\" class=\"row_heading level0 row321\" >265</th>\n",
       "                        <td id=\"T_49ab1195_3b06_11eb_bb5f_4ccc6acf21berow321_col0\" class=\"data row321 col0\" >0.622785</td>\n",
       "                        <td id=\"T_49ab1195_3b06_11eb_bb5f_4ccc6acf21berow321_col1\" class=\"data row321 col1\" >0.691443</td>\n",
       "                        <td id=\"T_49ab1195_3b06_11eb_bb5f_4ccc6acf21berow321_col2\" class=\"data row321 col2\" >0.286984</td>\n",
       "                        <td id=\"T_49ab1195_3b06_11eb_bb5f_4ccc6acf21berow321_col3\" class=\"data row321 col3\" >0.784717</td>\n",
       "                        <td id=\"T_49ab1195_3b06_11eb_bb5f_4ccc6acf21berow321_col4\" class=\"data row321 col4\" >Zero</td>\n",
       "                        <td id=\"T_49ab1195_3b06_11eb_bb5f_4ccc6acf21berow321_col5\" class=\"data row321 col5\" >Zero</td>\n",
       "                        <td id=\"T_49ab1195_3b06_11eb_bb5f_4ccc6acf21berow321_col6\" class=\"data row321 col6\" >0.743238</td>\n",
       "            </tr>\n",
       "            <tr>\n",
       "                        <th id=\"T_49ab1195_3b06_11eb_bb5f_4ccc6acf21belevel0_row322\" class=\"row_heading level0 row322\" >305</th>\n",
       "                        <td id=\"T_49ab1195_3b06_11eb_bb5f_4ccc6acf21berow322_col0\" class=\"data row322 col0\" >0.581997</td>\n",
       "                        <td id=\"T_49ab1195_3b06_11eb_bb5f_4ccc6acf21berow322_col1\" class=\"data row322 col1\" >0.880837</td>\n",
       "                        <td id=\"T_49ab1195_3b06_11eb_bb5f_4ccc6acf21berow322_col2\" class=\"data row322 col2\" >0.168755</td>\n",
       "                        <td id=\"T_49ab1195_3b06_11eb_bb5f_4ccc6acf21berow322_col3\" class=\"data row322 col3\" >0.614938</td>\n",
       "                        <td id=\"T_49ab1195_3b06_11eb_bb5f_4ccc6acf21berow322_col4\" class=\"data row322 col4\" >Zero</td>\n",
       "                        <td id=\"T_49ab1195_3b06_11eb_bb5f_4ccc6acf21berow322_col5\" class=\"data row322 col5\" >Zero</td>\n",
       "                        <td id=\"T_49ab1195_3b06_11eb_bb5f_4ccc6acf21berow322_col6\" class=\"data row322 col6\" >0.743259</td>\n",
       "            </tr>\n",
       "            <tr>\n",
       "                        <th id=\"T_49ab1195_3b06_11eb_bb5f_4ccc6acf21belevel0_row323\" class=\"row_heading level0 row323\" >371</th>\n",
       "                        <td id=\"T_49ab1195_3b06_11eb_bb5f_4ccc6acf21berow323_col0\" class=\"data row323 col0\" >0.807318</td>\n",
       "                        <td id=\"T_49ab1195_3b06_11eb_bb5f_4ccc6acf21berow323_col1\" class=\"data row323 col1\" >0.368098</td>\n",
       "                        <td id=\"T_49ab1195_3b06_11eb_bb5f_4ccc6acf21berow323_col2\" class=\"data row323 col2\" >0.351063</td>\n",
       "                        <td id=\"T_49ab1195_3b06_11eb_bb5f_4ccc6acf21berow323_col3\" class=\"data row323 col3\" >0.775663</td>\n",
       "                        <td id=\"T_49ab1195_3b06_11eb_bb5f_4ccc6acf21berow323_col4\" class=\"data row323 col4\" >Zero</td>\n",
       "                        <td id=\"T_49ab1195_3b06_11eb_bb5f_4ccc6acf21berow323_col5\" class=\"data row323 col5\" >Zero</td>\n",
       "                        <td id=\"T_49ab1195_3b06_11eb_bb5f_4ccc6acf21berow323_col6\" class=\"data row323 col6\" >0.743280</td>\n",
       "            </tr>\n",
       "            <tr>\n",
       "                        <th id=\"T_49ab1195_3b06_11eb_bb5f_4ccc6acf21belevel0_row324\" class=\"row_heading level0 row324\" >73</th>\n",
       "                        <td id=\"T_49ab1195_3b06_11eb_bb5f_4ccc6acf21berow324_col0\" class=\"data row324 col0\" >0.808220</td>\n",
       "                        <td id=\"T_49ab1195_3b06_11eb_bb5f_4ccc6acf21berow324_col1\" class=\"data row324 col1\" >0.386294</td>\n",
       "                        <td id=\"T_49ab1195_3b06_11eb_bb5f_4ccc6acf21berow324_col2\" class=\"data row324 col2\" >0.384651</td>\n",
       "                        <td id=\"T_49ab1195_3b06_11eb_bb5f_4ccc6acf21berow324_col3\" class=\"data row324 col3\" >0.876192</td>\n",
       "                        <td id=\"T_49ab1195_3b06_11eb_bb5f_4ccc6acf21berow324_col4\" class=\"data row324 col4\" >Zero</td>\n",
       "                        <td id=\"T_49ab1195_3b06_11eb_bb5f_4ccc6acf21berow324_col5\" class=\"data row324 col5\" >Zero</td>\n",
       "                        <td id=\"T_49ab1195_3b06_11eb_bb5f_4ccc6acf21berow324_col6\" class=\"data row324 col6\" >0.743328</td>\n",
       "            </tr>\n",
       "            <tr>\n",
       "                        <th id=\"T_49ab1195_3b06_11eb_bb5f_4ccc6acf21belevel0_row325\" class=\"row_heading level0 row325\" >625</th>\n",
       "                        <td id=\"T_49ab1195_3b06_11eb_bb5f_4ccc6acf21berow325_col0\" class=\"data row325 col0\" >0.803128</td>\n",
       "                        <td id=\"T_49ab1195_3b06_11eb_bb5f_4ccc6acf21berow325_col1\" class=\"data row325 col1\" >0.404334</td>\n",
       "                        <td id=\"T_49ab1195_3b06_11eb_bb5f_4ccc6acf21berow325_col2\" class=\"data row325 col2\" >0.329765</td>\n",
       "                        <td id=\"T_49ab1195_3b06_11eb_bb5f_4ccc6acf21berow325_col3\" class=\"data row325 col3\" >0.845858</td>\n",
       "                        <td id=\"T_49ab1195_3b06_11eb_bb5f_4ccc6acf21berow325_col4\" class=\"data row325 col4\" >Zero</td>\n",
       "                        <td id=\"T_49ab1195_3b06_11eb_bb5f_4ccc6acf21berow325_col5\" class=\"data row325 col5\" >Zero</td>\n",
       "                        <td id=\"T_49ab1195_3b06_11eb_bb5f_4ccc6acf21berow325_col6\" class=\"data row325 col6\" >0.743462</td>\n",
       "            </tr>\n",
       "            <tr>\n",
       "                        <th id=\"T_49ab1195_3b06_11eb_bb5f_4ccc6acf21belevel0_row326\" class=\"row_heading level0 row326\" >329</th>\n",
       "                        <td id=\"T_49ab1195_3b06_11eb_bb5f_4ccc6acf21berow326_col0\" class=\"data row326 col0\" >0.630343</td>\n",
       "                        <td id=\"T_49ab1195_3b06_11eb_bb5f_4ccc6acf21berow326_col1\" class=\"data row326 col1\" >0.624235</td>\n",
       "                        <td id=\"T_49ab1195_3b06_11eb_bb5f_4ccc6acf21berow326_col2\" class=\"data row326 col2\" >0.352833</td>\n",
       "                        <td id=\"T_49ab1195_3b06_11eb_bb5f_4ccc6acf21berow326_col3\" class=\"data row326 col3\" >0.787304</td>\n",
       "                        <td id=\"T_49ab1195_3b06_11eb_bb5f_4ccc6acf21berow326_col4\" class=\"data row326 col4\" >Zero</td>\n",
       "                        <td id=\"T_49ab1195_3b06_11eb_bb5f_4ccc6acf21berow326_col5\" class=\"data row326 col5\" >Zero</td>\n",
       "                        <td id=\"T_49ab1195_3b06_11eb_bb5f_4ccc6acf21berow326_col6\" class=\"data row326 col6\" >0.743495</td>\n",
       "            </tr>\n",
       "            <tr>\n",
       "                        <th id=\"T_49ab1195_3b06_11eb_bb5f_4ccc6acf21belevel0_row327\" class=\"row_heading level0 row327\" >312</th>\n",
       "                        <td id=\"T_49ab1195_3b06_11eb_bb5f_4ccc6acf21berow327_col0\" class=\"data row327 col0\" >0.622511</td>\n",
       "                        <td id=\"T_49ab1195_3b06_11eb_bb5f_4ccc6acf21berow327_col1\" class=\"data row327 col1\" >0.601238</td>\n",
       "                        <td id=\"T_49ab1195_3b06_11eb_bb5f_4ccc6acf21berow327_col2\" class=\"data row327 col2\" >0.367304</td>\n",
       "                        <td id=\"T_49ab1195_3b06_11eb_bb5f_4ccc6acf21berow327_col3\" class=\"data row327 col3\" >0.794006</td>\n",
       "                        <td id=\"T_49ab1195_3b06_11eb_bb5f_4ccc6acf21berow327_col4\" class=\"data row327 col4\" >Zero</td>\n",
       "                        <td id=\"T_49ab1195_3b06_11eb_bb5f_4ccc6acf21berow327_col5\" class=\"data row327 col5\" >Zero</td>\n",
       "                        <td id=\"T_49ab1195_3b06_11eb_bb5f_4ccc6acf21berow327_col6\" class=\"data row327 col6\" >0.743700</td>\n",
       "            </tr>\n",
       "            <tr>\n",
       "                        <th id=\"T_49ab1195_3b06_11eb_bb5f_4ccc6acf21belevel0_row328\" class=\"row_heading level0 row328\" >91</th>\n",
       "                        <td id=\"T_49ab1195_3b06_11eb_bb5f_4ccc6acf21berow328_col0\" class=\"data row328 col0\" >0.800850</td>\n",
       "                        <td id=\"T_49ab1195_3b06_11eb_bb5f_4ccc6acf21berow328_col1\" class=\"data row328 col1\" >0.649478</td>\n",
       "                        <td id=\"T_49ab1195_3b06_11eb_bb5f_4ccc6acf21berow328_col2\" class=\"data row328 col2\" >0.258968</td>\n",
       "                        <td id=\"T_49ab1195_3b06_11eb_bb5f_4ccc6acf21berow328_col3\" class=\"data row328 col3\" >0.813171</td>\n",
       "                        <td id=\"T_49ab1195_3b06_11eb_bb5f_4ccc6acf21berow328_col4\" class=\"data row328 col4\" >Zero</td>\n",
       "                        <td id=\"T_49ab1195_3b06_11eb_bb5f_4ccc6acf21berow328_col5\" class=\"data row328 col5\" >Zero</td>\n",
       "                        <td id=\"T_49ab1195_3b06_11eb_bb5f_4ccc6acf21berow328_col6\" class=\"data row328 col6\" >0.743868</td>\n",
       "            </tr>\n",
       "            <tr>\n",
       "                        <th id=\"T_49ab1195_3b06_11eb_bb5f_4ccc6acf21belevel0_row329\" class=\"row_heading level0 row329\" >411</th>\n",
       "                        <td id=\"T_49ab1195_3b06_11eb_bb5f_4ccc6acf21berow329_col0\" class=\"data row329 col0\" >0.796631</td>\n",
       "                        <td id=\"T_49ab1195_3b06_11eb_bb5f_4ccc6acf21berow329_col1\" class=\"data row329 col1\" >0.532559</td>\n",
       "                        <td id=\"T_49ab1195_3b06_11eb_bb5f_4ccc6acf21berow329_col2\" class=\"data row329 col2\" >0.286394</td>\n",
       "                        <td id=\"T_49ab1195_3b06_11eb_bb5f_4ccc6acf21berow329_col3\" class=\"data row329 col3\" >0.924402</td>\n",
       "                        <td id=\"T_49ab1195_3b06_11eb_bb5f_4ccc6acf21berow329_col4\" class=\"data row329 col4\" >Zero</td>\n",
       "                        <td id=\"T_49ab1195_3b06_11eb_bb5f_4ccc6acf21berow329_col5\" class=\"data row329 col5\" >Zero</td>\n",
       "                        <td id=\"T_49ab1195_3b06_11eb_bb5f_4ccc6acf21berow329_col6\" class=\"data row329 col6\" >0.743890</td>\n",
       "            </tr>\n",
       "            <tr>\n",
       "                        <th id=\"T_49ab1195_3b06_11eb_bb5f_4ccc6acf21belevel0_row330\" class=\"row_heading level0 row330\" >171</th>\n",
       "                        <td id=\"T_49ab1195_3b06_11eb_bb5f_4ccc6acf21berow330_col0\" class=\"data row330 col0\" >0.800273</td>\n",
       "                        <td id=\"T_49ab1195_3b06_11eb_bb5f_4ccc6acf21berow330_col1\" class=\"data row330 col1\" >0.423384</td>\n",
       "                        <td id=\"T_49ab1195_3b06_11eb_bb5f_4ccc6acf21berow330_col2\" class=\"data row330 col2\" >0.325961</td>\n",
       "                        <td id=\"T_49ab1195_3b06_11eb_bb5f_4ccc6acf21berow330_col3\" class=\"data row330 col3\" >0.871137</td>\n",
       "                        <td id=\"T_49ab1195_3b06_11eb_bb5f_4ccc6acf21berow330_col4\" class=\"data row330 col4\" >Zero</td>\n",
       "                        <td id=\"T_49ab1195_3b06_11eb_bb5f_4ccc6acf21berow330_col5\" class=\"data row330 col5\" >Zero</td>\n",
       "                        <td id=\"T_49ab1195_3b06_11eb_bb5f_4ccc6acf21berow330_col6\" class=\"data row330 col6\" >0.744000</td>\n",
       "            </tr>\n",
       "            <tr>\n",
       "                        <th id=\"T_49ab1195_3b06_11eb_bb5f_4ccc6acf21belevel0_row331\" class=\"row_heading level0 row331\" >518</th>\n",
       "                        <td id=\"T_49ab1195_3b06_11eb_bb5f_4ccc6acf21berow331_col0\" class=\"data row331 col0\" >0.813643</td>\n",
       "                        <td id=\"T_49ab1195_3b06_11eb_bb5f_4ccc6acf21berow331_col1\" class=\"data row331 col1\" >0.422377</td>\n",
       "                        <td id=\"T_49ab1195_3b06_11eb_bb5f_4ccc6acf21berow331_col2\" class=\"data row331 col2\" >0.296987</td>\n",
       "                        <td id=\"T_49ab1195_3b06_11eb_bb5f_4ccc6acf21berow331_col3\" class=\"data row331 col3\" >0.842331</td>\n",
       "                        <td id=\"T_49ab1195_3b06_11eb_bb5f_4ccc6acf21berow331_col4\" class=\"data row331 col4\" >Zero</td>\n",
       "                        <td id=\"T_49ab1195_3b06_11eb_bb5f_4ccc6acf21berow331_col5\" class=\"data row331 col5\" >Zero</td>\n",
       "                        <td id=\"T_49ab1195_3b06_11eb_bb5f_4ccc6acf21berow331_col6\" class=\"data row331 col6\" >0.744406</td>\n",
       "            </tr>\n",
       "            <tr>\n",
       "                        <th id=\"T_49ab1195_3b06_11eb_bb5f_4ccc6acf21belevel0_row332\" class=\"row_heading level0 row332\" >517</th>\n",
       "                        <td id=\"T_49ab1195_3b06_11eb_bb5f_4ccc6acf21berow332_col0\" class=\"data row332 col0\" >0.634900</td>\n",
       "                        <td id=\"T_49ab1195_3b06_11eb_bb5f_4ccc6acf21berow332_col1\" class=\"data row332 col1\" >0.678821</td>\n",
       "                        <td id=\"T_49ab1195_3b06_11eb_bb5f_4ccc6acf21berow332_col2\" class=\"data row332 col2\" >0.319835</td>\n",
       "                        <td id=\"T_49ab1195_3b06_11eb_bb5f_4ccc6acf21berow332_col3\" class=\"data row332 col3\" >0.845858</td>\n",
       "                        <td id=\"T_49ab1195_3b06_11eb_bb5f_4ccc6acf21berow332_col4\" class=\"data row332 col4\" >Zero</td>\n",
       "                        <td id=\"T_49ab1195_3b06_11eb_bb5f_4ccc6acf21berow332_col5\" class=\"data row332 col5\" >Zero</td>\n",
       "                        <td id=\"T_49ab1195_3b06_11eb_bb5f_4ccc6acf21berow332_col6\" class=\"data row332 col6\" >0.744527</td>\n",
       "            </tr>\n",
       "            <tr>\n",
       "                        <th id=\"T_49ab1195_3b06_11eb_bb5f_4ccc6acf21belevel0_row333\" class=\"row_heading level0 row333\" >198</th>\n",
       "                        <td id=\"T_49ab1195_3b06_11eb_bb5f_4ccc6acf21berow333_col0\" class=\"data row333 col0\" >0.797842</td>\n",
       "                        <td id=\"T_49ab1195_3b06_11eb_bb5f_4ccc6acf21berow333_col1\" class=\"data row333 col1\" >0.433371</td>\n",
       "                        <td id=\"T_49ab1195_3b06_11eb_bb5f_4ccc6acf21berow333_col2\" class=\"data row333 col2\" >0.333896</td>\n",
       "                        <td id=\"T_49ab1195_3b06_11eb_bb5f_4ccc6acf21berow333_col3\" class=\"data row333 col3\" >0.881011</td>\n",
       "                        <td id=\"T_49ab1195_3b06_11eb_bb5f_4ccc6acf21berow333_col4\" class=\"data row333 col4\" >Zero</td>\n",
       "                        <td id=\"T_49ab1195_3b06_11eb_bb5f_4ccc6acf21berow333_col5\" class=\"data row333 col5\" >Zero</td>\n",
       "                        <td id=\"T_49ab1195_3b06_11eb_bb5f_4ccc6acf21berow333_col6\" class=\"data row333 col6\" >0.744678</td>\n",
       "            </tr>\n",
       "            <tr>\n",
       "                        <th id=\"T_49ab1195_3b06_11eb_bb5f_4ccc6acf21belevel0_row334\" class=\"row_heading level0 row334\" >456</th>\n",
       "                        <td id=\"T_49ab1195_3b06_11eb_bb5f_4ccc6acf21berow334_col0\" class=\"data row334 col0\" >0.652114</td>\n",
       "                        <td id=\"T_49ab1195_3b06_11eb_bb5f_4ccc6acf21berow334_col1\" class=\"data row334 col1\" >0.585133</td>\n",
       "                        <td id=\"T_49ab1195_3b06_11eb_bb5f_4ccc6acf21berow334_col2\" class=\"data row334 col2\" >0.341836</td>\n",
       "                        <td id=\"T_49ab1195_3b06_11eb_bb5f_4ccc6acf21berow334_col3\" class=\"data row334 col3\" >0.820343</td>\n",
       "                        <td id=\"T_49ab1195_3b06_11eb_bb5f_4ccc6acf21berow334_col4\" class=\"data row334 col4\" >Zero</td>\n",
       "                        <td id=\"T_49ab1195_3b06_11eb_bb5f_4ccc6acf21berow334_col5\" class=\"data row334 col5\" >Zero</td>\n",
       "                        <td id=\"T_49ab1195_3b06_11eb_bb5f_4ccc6acf21berow334_col6\" class=\"data row334 col6\" >0.744750</td>\n",
       "            </tr>\n",
       "            <tr>\n",
       "                        <th id=\"T_49ab1195_3b06_11eb_bb5f_4ccc6acf21belevel0_row335\" class=\"row_heading level0 row335\" >362</th>\n",
       "                        <td id=\"T_49ab1195_3b06_11eb_bb5f_4ccc6acf21berow335_col0\" class=\"data row335 col0\" >0.633689</td>\n",
       "                        <td id=\"T_49ab1195_3b06_11eb_bb5f_4ccc6acf21berow335_col1\" class=\"data row335 col1\" >0.695084</td>\n",
       "                        <td id=\"T_49ab1195_3b06_11eb_bb5f_4ccc6acf21berow335_col2\" class=\"data row335 col2\" >0.317656</td>\n",
       "                        <td id=\"T_49ab1195_3b06_11eb_bb5f_4ccc6acf21berow335_col3\" class=\"data row335 col3\" >0.834217</td>\n",
       "                        <td id=\"T_49ab1195_3b06_11eb_bb5f_4ccc6acf21berow335_col4\" class=\"data row335 col4\" >Zero</td>\n",
       "                        <td id=\"T_49ab1195_3b06_11eb_bb5f_4ccc6acf21berow335_col5\" class=\"data row335 col5\" >Zero</td>\n",
       "                        <td id=\"T_49ab1195_3b06_11eb_bb5f_4ccc6acf21berow335_col6\" class=\"data row335 col6\" >0.744777</td>\n",
       "            </tr>\n",
       "            <tr>\n",
       "                        <th id=\"T_49ab1195_3b06_11eb_bb5f_4ccc6acf21belevel0_row336\" class=\"row_heading level0 row336\" >736</th>\n",
       "                        <td id=\"T_49ab1195_3b06_11eb_bb5f_4ccc6acf21berow336_col0\" class=\"data row336 col0\" >0.456951</td>\n",
       "                        <td id=\"T_49ab1195_3b06_11eb_bb5f_4ccc6acf21berow336_col1\" class=\"data row336 col1\" >0.841813</td>\n",
       "                        <td id=\"T_49ab1195_3b06_11eb_bb5f_4ccc6acf21berow336_col2\" class=\"data row336 col2\" >0.323415</td>\n",
       "                        <td id=\"T_49ab1195_3b06_11eb_bb5f_4ccc6acf21berow336_col3\" class=\"data row336 col3\" >0.359321</td>\n",
       "                        <td id=\"T_49ab1195_3b06_11eb_bb5f_4ccc6acf21berow336_col4\" class=\"data row336 col4\" >Zero</td>\n",
       "                        <td id=\"T_49ab1195_3b06_11eb_bb5f_4ccc6acf21berow336_col5\" class=\"data row336 col5\" >Zero</td>\n",
       "                        <td id=\"T_49ab1195_3b06_11eb_bb5f_4ccc6acf21berow336_col6\" class=\"data row336 col6\" >0.744912</td>\n",
       "            </tr>\n",
       "            <tr>\n",
       "                        <th id=\"T_49ab1195_3b06_11eb_bb5f_4ccc6acf21belevel0_row337\" class=\"row_heading level0 row337\" >182</th>\n",
       "                        <td id=\"T_49ab1195_3b06_11eb_bb5f_4ccc6acf21berow337_col0\" class=\"data row337 col0\" >0.457664</td>\n",
       "                        <td id=\"T_49ab1195_3b06_11eb_bb5f_4ccc6acf21berow337_col1\" class=\"data row337 col1\" >0.837787</td>\n",
       "                        <td id=\"T_49ab1195_3b06_11eb_bb5f_4ccc6acf21berow337_col2\" class=\"data row337 col2\" >0.307063</td>\n",
       "                        <td id=\"T_49ab1195_3b06_11eb_bb5f_4ccc6acf21berow337_col3\" class=\"data row337 col3\" >0.383653</td>\n",
       "                        <td id=\"T_49ab1195_3b06_11eb_bb5f_4ccc6acf21berow337_col4\" class=\"data row337 col4\" >Zero</td>\n",
       "                        <td id=\"T_49ab1195_3b06_11eb_bb5f_4ccc6acf21berow337_col5\" class=\"data row337 col5\" >Zero</td>\n",
       "                        <td id=\"T_49ab1195_3b06_11eb_bb5f_4ccc6acf21berow337_col6\" class=\"data row337 col6\" >0.745158</td>\n",
       "            </tr>\n",
       "            <tr>\n",
       "                        <th id=\"T_49ab1195_3b06_11eb_bb5f_4ccc6acf21belevel0_row338\" class=\"row_heading level0 row338\" >581</th>\n",
       "                        <td id=\"T_49ab1195_3b06_11eb_bb5f_4ccc6acf21berow338_col0\" class=\"data row338 col0\" >0.366008</td>\n",
       "                        <td id=\"T_49ab1195_3b06_11eb_bb5f_4ccc6acf21berow338_col1\" class=\"data row338 col1\" >0.957103</td>\n",
       "                        <td id=\"T_49ab1195_3b06_11eb_bb5f_4ccc6acf21berow338_col2\" class=\"data row338 col2\" >0.210282</td>\n",
       "                        <td id=\"T_49ab1195_3b06_11eb_bb5f_4ccc6acf21berow338_col3\" class=\"data row338 col3\" >0.061495</td>\n",
       "                        <td id=\"T_49ab1195_3b06_11eb_bb5f_4ccc6acf21berow338_col4\" class=\"data row338 col4\" >Zero</td>\n",
       "                        <td id=\"T_49ab1195_3b06_11eb_bb5f_4ccc6acf21berow338_col5\" class=\"data row338 col5\" >Zero</td>\n",
       "                        <td id=\"T_49ab1195_3b06_11eb_bb5f_4ccc6acf21berow338_col6\" class=\"data row338 col6\" >0.745190</td>\n",
       "            </tr>\n",
       "            <tr>\n",
       "                        <th id=\"T_49ab1195_3b06_11eb_bb5f_4ccc6acf21belevel0_row339\" class=\"row_heading level0 row339\" >660</th>\n",
       "                        <td id=\"T_49ab1195_3b06_11eb_bb5f_4ccc6acf21berow339_col0\" class=\"data row339 col0\" >0.816167</td>\n",
       "                        <td id=\"T_49ab1195_3b06_11eb_bb5f_4ccc6acf21berow339_col1\" class=\"data row339 col1\" >0.416106</td>\n",
       "                        <td id=\"T_49ab1195_3b06_11eb_bb5f_4ccc6acf21berow339_col2\" class=\"data row339 col2\" >0.319797</td>\n",
       "                        <td id=\"T_49ab1195_3b06_11eb_bb5f_4ccc6acf21berow339_col3\" class=\"data row339 col3\" >0.863141</td>\n",
       "                        <td id=\"T_49ab1195_3b06_11eb_bb5f_4ccc6acf21berow339_col4\" class=\"data row339 col4\" >Zero</td>\n",
       "                        <td id=\"T_49ab1195_3b06_11eb_bb5f_4ccc6acf21berow339_col5\" class=\"data row339 col5\" >Zero</td>\n",
       "                        <td id=\"T_49ab1195_3b06_11eb_bb5f_4ccc6acf21berow339_col6\" class=\"data row339 col6\" >0.745228</td>\n",
       "            </tr>\n",
       "            <tr>\n",
       "                        <th id=\"T_49ab1195_3b06_11eb_bb5f_4ccc6acf21belevel0_row340\" class=\"row_heading level0 row340\" >706</th>\n",
       "                        <td id=\"T_49ab1195_3b06_11eb_bb5f_4ccc6acf21berow340_col0\" class=\"data row340 col0\" >0.766213</td>\n",
       "                        <td id=\"T_49ab1195_3b06_11eb_bb5f_4ccc6acf21berow340_col1\" class=\"data row340 col1\" >0.569338</td>\n",
       "                        <td id=\"T_49ab1195_3b06_11eb_bb5f_4ccc6acf21berow340_col2\" class=\"data row340 col2\" >0.271738</td>\n",
       "                        <td id=\"T_49ab1195_3b06_11eb_bb5f_4ccc6acf21berow340_col3\" class=\"data row340 col3\" >0.904644</td>\n",
       "                        <td id=\"T_49ab1195_3b06_11eb_bb5f_4ccc6acf21berow340_col4\" class=\"data row340 col4\" >Zero</td>\n",
       "                        <td id=\"T_49ab1195_3b06_11eb_bb5f_4ccc6acf21berow340_col5\" class=\"data row340 col5\" >Zero</td>\n",
       "                        <td id=\"T_49ab1195_3b06_11eb_bb5f_4ccc6acf21berow340_col6\" class=\"data row340 col6\" >0.745564</td>\n",
       "            </tr>\n",
       "            <tr>\n",
       "                        <th id=\"T_49ab1195_3b06_11eb_bb5f_4ccc6acf21belevel0_row341\" class=\"row_heading level0 row341\" >31</th>\n",
       "                        <td id=\"T_49ab1195_3b06_11eb_bb5f_4ccc6acf21berow341_col0\" class=\"data row341 col0\" >0.615170</td>\n",
       "                        <td id=\"T_49ab1195_3b06_11eb_bb5f_4ccc6acf21berow341_col1\" class=\"data row341 col1\" >0.651102</td>\n",
       "                        <td id=\"T_49ab1195_3b06_11eb_bb5f_4ccc6acf21berow341_col2\" class=\"data row341 col2\" >0.370220</td>\n",
       "                        <td id=\"T_49ab1195_3b06_11eb_bb5f_4ccc6acf21berow341_col3\" class=\"data row341 col3\" >0.821755</td>\n",
       "                        <td id=\"T_49ab1195_3b06_11eb_bb5f_4ccc6acf21berow341_col4\" class=\"data row341 col4\" >Zero</td>\n",
       "                        <td id=\"T_49ab1195_3b06_11eb_bb5f_4ccc6acf21berow341_col5\" class=\"data row341 col5\" >Zero</td>\n",
       "                        <td id=\"T_49ab1195_3b06_11eb_bb5f_4ccc6acf21berow341_col6\" class=\"data row341 col6\" >0.745955</td>\n",
       "            </tr>\n",
       "            <tr>\n",
       "                        <th id=\"T_49ab1195_3b06_11eb_bb5f_4ccc6acf21belevel0_row342\" class=\"row_heading level0 row342\" >756</th>\n",
       "                        <td id=\"T_49ab1195_3b06_11eb_bb5f_4ccc6acf21berow342_col0\" class=\"data row342 col0\" >0.797208</td>\n",
       "                        <td id=\"T_49ab1195_3b06_11eb_bb5f_4ccc6acf21berow342_col1\" class=\"data row342 col1\" >0.895082</td>\n",
       "                        <td id=\"T_49ab1195_3b06_11eb_bb5f_4ccc6acf21berow342_col2\" class=\"data row342 col2\" >0.058134</td>\n",
       "                        <td id=\"T_49ab1195_3b06_11eb_bb5f_4ccc6acf21berow342_col3\" class=\"data row342 col3\" >0.406940</td>\n",
       "                        <td id=\"T_49ab1195_3b06_11eb_bb5f_4ccc6acf21berow342_col4\" class=\"data row342 col4\" >Zero</td>\n",
       "                        <td id=\"T_49ab1195_3b06_11eb_bb5f_4ccc6acf21berow342_col5\" class=\"data row342 col5\" >Zero</td>\n",
       "                        <td id=\"T_49ab1195_3b06_11eb_bb5f_4ccc6acf21berow342_col6\" class=\"data row342 col6\" >0.746183</td>\n",
       "            </tr>\n",
       "            <tr>\n",
       "                        <th id=\"T_49ab1195_3b06_11eb_bb5f_4ccc6acf21belevel0_row343\" class=\"row_heading level0 row343\" >191</th>\n",
       "                        <td id=\"T_49ab1195_3b06_11eb_bb5f_4ccc6acf21berow343_col0\" class=\"data row343 col0\" >0.793862</td>\n",
       "                        <td id=\"T_49ab1195_3b06_11eb_bb5f_4ccc6acf21berow343_col1\" class=\"data row343 col1\" >0.895857</td>\n",
       "                        <td id=\"T_49ab1195_3b06_11eb_bb5f_4ccc6acf21berow343_col2\" class=\"data row343 col2\" >0.050531</td>\n",
       "                        <td id=\"T_49ab1195_3b06_11eb_bb5f_4ccc6acf21berow343_col3\" class=\"data row343 col3\" >0.358493</td>\n",
       "                        <td id=\"T_49ab1195_3b06_11eb_bb5f_4ccc6acf21berow343_col4\" class=\"data row343 col4\" >Zero</td>\n",
       "                        <td id=\"T_49ab1195_3b06_11eb_bb5f_4ccc6acf21berow343_col5\" class=\"data row343 col5\" >Zero</td>\n",
       "                        <td id=\"T_49ab1195_3b06_11eb_bb5f_4ccc6acf21berow343_col6\" class=\"data row343 col6\" >0.746485</td>\n",
       "            </tr>\n",
       "            <tr>\n",
       "                        <th id=\"T_49ab1195_3b06_11eb_bb5f_4ccc6acf21belevel0_row344\" class=\"row_heading level0 row344\" >50</th>\n",
       "                        <td id=\"T_49ab1195_3b06_11eb_bb5f_4ccc6acf21berow344_col0\" class=\"data row344 col0\" >0.819650</td>\n",
       "                        <td id=\"T_49ab1195_3b06_11eb_bb5f_4ccc6acf21berow344_col1\" class=\"data row344 col1\" >0.332636</td>\n",
       "                        <td id=\"T_49ab1195_3b06_11eb_bb5f_4ccc6acf21berow344_col2\" class=\"data row344 col2\" >0.375717</td>\n",
       "                        <td id=\"T_49ab1195_3b06_11eb_bb5f_4ccc6acf21berow344_col3\" class=\"data row344 col3\" >0.724752</td>\n",
       "                        <td id=\"T_49ab1195_3b06_11eb_bb5f_4ccc6acf21berow344_col4\" class=\"data row344 col4\" >Zero</td>\n",
       "                        <td id=\"T_49ab1195_3b06_11eb_bb5f_4ccc6acf21berow344_col5\" class=\"data row344 col5\" >Zero</td>\n",
       "                        <td id=\"T_49ab1195_3b06_11eb_bb5f_4ccc6acf21berow344_col6\" class=\"data row344 col6\" >0.746630</td>\n",
       "            </tr>\n",
       "            <tr>\n",
       "                        <th id=\"T_49ab1195_3b06_11eb_bb5f_4ccc6acf21belevel0_row345\" class=\"row_heading level0 row345\" >157</th>\n",
       "                        <td id=\"T_49ab1195_3b06_11eb_bb5f_4ccc6acf21berow345_col0\" class=\"data row345 col0\" >0.792535</td>\n",
       "                        <td id=\"T_49ab1195_3b06_11eb_bb5f_4ccc6acf21berow345_col1\" class=\"data row345 col1\" >0.374216</td>\n",
       "                        <td id=\"T_49ab1195_3b06_11eb_bb5f_4ccc6acf21berow345_col2\" class=\"data row345 col2\" >0.351912</td>\n",
       "                        <td id=\"T_49ab1195_3b06_11eb_bb5f_4ccc6acf21berow345_col3\" class=\"data row345 col3\" >0.779073</td>\n",
       "                        <td id=\"T_49ab1195_3b06_11eb_bb5f_4ccc6acf21berow345_col4\" class=\"data row345 col4\" >Zero</td>\n",
       "                        <td id=\"T_49ab1195_3b06_11eb_bb5f_4ccc6acf21berow345_col5\" class=\"data row345 col5\" >Zero</td>\n",
       "                        <td id=\"T_49ab1195_3b06_11eb_bb5f_4ccc6acf21berow345_col6\" class=\"data row345 col6\" >0.746718</td>\n",
       "            </tr>\n",
       "            <tr>\n",
       "                        <th id=\"T_49ab1195_3b06_11eb_bb5f_4ccc6acf21belevel0_row346\" class=\"row_heading level0 row346\" >758</th>\n",
       "                        <td id=\"T_49ab1195_3b06_11eb_bb5f_4ccc6acf21berow346_col0\" class=\"data row346 col0\" >0.791316</td>\n",
       "                        <td id=\"T_49ab1195_3b06_11eb_bb5f_4ccc6acf21berow346_col1\" class=\"data row346 col1\" >0.584747</td>\n",
       "                        <td id=\"T_49ab1195_3b06_11eb_bb5f_4ccc6acf21berow346_col2\" class=\"data row346 col2\" >0.226708</td>\n",
       "                        <td id=\"T_49ab1195_3b06_11eb_bb5f_4ccc6acf21berow346_col3\" class=\"data row346 col3\" >0.889240</td>\n",
       "                        <td id=\"T_49ab1195_3b06_11eb_bb5f_4ccc6acf21berow346_col4\" class=\"data row346 col4\" >Zero</td>\n",
       "                        <td id=\"T_49ab1195_3b06_11eb_bb5f_4ccc6acf21berow346_col5\" class=\"data row346 col5\" >Zero</td>\n",
       "                        <td id=\"T_49ab1195_3b06_11eb_bb5f_4ccc6acf21berow346_col6\" class=\"data row346 col6\" >0.746777</td>\n",
       "            </tr>\n",
       "            <tr>\n",
       "                        <th id=\"T_49ab1195_3b06_11eb_bb5f_4ccc6acf21belevel0_row347\" class=\"row_heading level0 row347\" >337</th>\n",
       "                        <td id=\"T_49ab1195_3b06_11eb_bb5f_4ccc6acf21berow347_col0\" class=\"data row347 col0\" >0.581327</td>\n",
       "                        <td id=\"T_49ab1195_3b06_11eb_bb5f_4ccc6acf21berow347_col1\" class=\"data row347 col1\" >0.602555</td>\n",
       "                        <td id=\"T_49ab1195_3b06_11eb_bb5f_4ccc6acf21berow347_col2\" class=\"data row347 col2\" >0.440240</td>\n",
       "                        <td id=\"T_49ab1195_3b06_11eb_bb5f_4ccc6acf21berow347_col3\" class=\"data row347 col3\" >0.852677</td>\n",
       "                        <td id=\"T_49ab1195_3b06_11eb_bb5f_4ccc6acf21berow347_col4\" class=\"data row347 col4\" >Zero</td>\n",
       "                        <td id=\"T_49ab1195_3b06_11eb_bb5f_4ccc6acf21berow347_col5\" class=\"data row347 col5\" >Zero</td>\n",
       "                        <td id=\"T_49ab1195_3b06_11eb_bb5f_4ccc6acf21berow347_col6\" class=\"data row347 col6\" >0.746825</td>\n",
       "            </tr>\n",
       "            <tr>\n",
       "                        <th id=\"T_49ab1195_3b06_11eb_bb5f_4ccc6acf21belevel0_row348\" class=\"row_heading level0 row348\" >511</th>\n",
       "                        <td id=\"T_49ab1195_3b06_11eb_bb5f_4ccc6acf21berow348_col0\" class=\"data row348 col0\" >0.792203</td>\n",
       "                        <td id=\"T_49ab1195_3b06_11eb_bb5f_4ccc6acf21berow348_col1\" class=\"data row348 col1\" >0.608980</td>\n",
       "                        <td id=\"T_49ab1195_3b06_11eb_bb5f_4ccc6acf21berow348_col2\" class=\"data row348 col2\" >0.293260</td>\n",
       "                        <td id=\"T_49ab1195_3b06_11eb_bb5f_4ccc6acf21berow348_col3\" class=\"data row348 col3\" >0.859380</td>\n",
       "                        <td id=\"T_49ab1195_3b06_11eb_bb5f_4ccc6acf21berow348_col4\" class=\"data row348 col4\" >Zero</td>\n",
       "                        <td id=\"T_49ab1195_3b06_11eb_bb5f_4ccc6acf21berow348_col5\" class=\"data row348 col5\" >Zero</td>\n",
       "                        <td id=\"T_49ab1195_3b06_11eb_bb5f_4ccc6acf21berow348_col6\" class=\"data row348 col6\" >0.746867</td>\n",
       "            </tr>\n",
       "            <tr>\n",
       "                        <th id=\"T_49ab1195_3b06_11eb_bb5f_4ccc6acf21belevel0_row349\" class=\"row_heading level0 row349\" >126</th>\n",
       "                        <td id=\"T_49ab1195_3b06_11eb_bb5f_4ccc6acf21berow349_col0\" class=\"data row349 col0\" >0.338872</td>\n",
       "                        <td id=\"T_49ab1195_3b06_11eb_bb5f_4ccc6acf21berow349_col1\" class=\"data row349 col1\" >1.000000</td>\n",
       "                        <td id=\"T_49ab1195_3b06_11eb_bb5f_4ccc6acf21berow349_col2\" class=\"data row349 col2\" >0.371103</td>\n",
       "                        <td id=\"T_49ab1195_3b06_11eb_bb5f_4ccc6acf21berow349_col3\" class=\"data row349 col3\" >0.236922</td>\n",
       "                        <td id=\"T_49ab1195_3b06_11eb_bb5f_4ccc6acf21berow349_col4\" class=\"data row349 col4\" >Zero</td>\n",
       "                        <td id=\"T_49ab1195_3b06_11eb_bb5f_4ccc6acf21berow349_col5\" class=\"data row349 col5\" >Zero</td>\n",
       "                        <td id=\"T_49ab1195_3b06_11eb_bb5f_4ccc6acf21berow349_col6\" class=\"data row349 col6\" >0.747206</td>\n",
       "            </tr>\n",
       "            <tr>\n",
       "                        <th id=\"T_49ab1195_3b06_11eb_bb5f_4ccc6acf21belevel0_row350\" class=\"row_heading level0 row350\" >143</th>\n",
       "                        <td id=\"T_49ab1195_3b06_11eb_bb5f_4ccc6acf21berow350_col0\" class=\"data row350 col0\" >0.790754</td>\n",
       "                        <td id=\"T_49ab1195_3b06_11eb_bb5f_4ccc6acf21berow350_col1\" class=\"data row350 col1\" >0.393883</td>\n",
       "                        <td id=\"T_49ab1195_3b06_11eb_bb5f_4ccc6acf21berow350_col2\" class=\"data row350 col2\" >0.376677</td>\n",
       "                        <td id=\"T_49ab1195_3b06_11eb_bb5f_4ccc6acf21berow350_col3\" class=\"data row350 col3\" >0.853383</td>\n",
       "                        <td id=\"T_49ab1195_3b06_11eb_bb5f_4ccc6acf21berow350_col4\" class=\"data row350 col4\" >Zero</td>\n",
       "                        <td id=\"T_49ab1195_3b06_11eb_bb5f_4ccc6acf21berow350_col5\" class=\"data row350 col5\" >Zero</td>\n",
       "                        <td id=\"T_49ab1195_3b06_11eb_bb5f_4ccc6acf21berow350_col6\" class=\"data row350 col6\" >0.747542</td>\n",
       "            </tr>\n",
       "            <tr>\n",
       "                        <th id=\"T_49ab1195_3b06_11eb_bb5f_4ccc6acf21belevel0_row351\" class=\"row_heading level0 row351\" >532</th>\n",
       "                        <td id=\"T_49ab1195_3b06_11eb_bb5f_4ccc6acf21berow351_col0\" class=\"data row351 col0\" >0.689758</td>\n",
       "                        <td id=\"T_49ab1195_3b06_11eb_bb5f_4ccc6acf21berow351_col1\" class=\"data row351 col1\" >0.599071</td>\n",
       "                        <td id=\"T_49ab1195_3b06_11eb_bb5f_4ccc6acf21berow351_col2\" class=\"data row351 col2\" >0.345045</td>\n",
       "                        <td id=\"T_49ab1195_3b06_11eb_bb5f_4ccc6acf21berow351_col3\" class=\"data row351 col3\" >0.849503</td>\n",
       "                        <td id=\"T_49ab1195_3b06_11eb_bb5f_4ccc6acf21berow351_col4\" class=\"data row351 col4\" >Zero</td>\n",
       "                        <td id=\"T_49ab1195_3b06_11eb_bb5f_4ccc6acf21berow351_col5\" class=\"data row351 col5\" >Zero</td>\n",
       "                        <td id=\"T_49ab1195_3b06_11eb_bb5f_4ccc6acf21berow351_col6\" class=\"data row351 col6\" >0.747677</td>\n",
       "            </tr>\n",
       "            <tr>\n",
       "                        <th id=\"T_49ab1195_3b06_11eb_bb5f_4ccc6acf21belevel0_row352\" class=\"row_heading level0 row352\" >470</th>\n",
       "                        <td id=\"T_49ab1195_3b06_11eb_bb5f_4ccc6acf21berow352_col0\" class=\"data row352 col0\" >0.570759</td>\n",
       "                        <td id=\"T_49ab1195_3b06_11eb_bb5f_4ccc6acf21berow352_col1\" class=\"data row352 col1\" >0.863104</td>\n",
       "                        <td id=\"T_49ab1195_3b06_11eb_bb5f_4ccc6acf21berow352_col2\" class=\"data row352 col2\" >0.193930</td>\n",
       "                        <td id=\"T_49ab1195_3b06_11eb_bb5f_4ccc6acf21berow352_col3\" class=\"data row352 col3\" >0.577430</td>\n",
       "                        <td id=\"T_49ab1195_3b06_11eb_bb5f_4ccc6acf21berow352_col4\" class=\"data row352 col4\" >Zero</td>\n",
       "                        <td id=\"T_49ab1195_3b06_11eb_bb5f_4ccc6acf21berow352_col5\" class=\"data row352 col5\" >Zero</td>\n",
       "                        <td id=\"T_49ab1195_3b06_11eb_bb5f_4ccc6acf21berow352_col6\" class=\"data row352 col6\" >0.748223</td>\n",
       "            </tr>\n",
       "            <tr>\n",
       "                        <th id=\"T_49ab1195_3b06_11eb_bb5f_4ccc6acf21belevel0_row353\" class=\"row_heading level0 row353\" >558</th>\n",
       "                        <td id=\"T_49ab1195_3b06_11eb_bb5f_4ccc6acf21berow353_col0\" class=\"data row353 col0\" >0.824027</td>\n",
       "                        <td id=\"T_49ab1195_3b06_11eb_bb5f_4ccc6acf21berow353_col1\" class=\"data row353 col1\" >0.332790</td>\n",
       "                        <td id=\"T_49ab1195_3b06_11eb_bb5f_4ccc6acf21berow353_col2\" class=\"data row353 col2\" >0.372727</td>\n",
       "                        <td id=\"T_49ab1195_3b06_11eb_bb5f_4ccc6acf21berow353_col3\" class=\"data row353 col3\" >0.774605</td>\n",
       "                        <td id=\"T_49ab1195_3b06_11eb_bb5f_4ccc6acf21berow353_col4\" class=\"data row353 col4\" >Zero</td>\n",
       "                        <td id=\"T_49ab1195_3b06_11eb_bb5f_4ccc6acf21berow353_col5\" class=\"data row353 col5\" >Zero</td>\n",
       "                        <td id=\"T_49ab1195_3b06_11eb_bb5f_4ccc6acf21berow353_col6\" class=\"data row353 col6\" >0.748735</td>\n",
       "            </tr>\n",
       "            <tr>\n",
       "                        <th id=\"T_49ab1195_3b06_11eb_bb5f_4ccc6acf21belevel0_row354\" class=\"row_heading level0 row354\" >458</th>\n",
       "                        <td id=\"T_49ab1195_3b06_11eb_bb5f_4ccc6acf21berow354_col0\" class=\"data row354 col0\" >0.824041</td>\n",
       "                        <td id=\"T_49ab1195_3b06_11eb_bb5f_4ccc6acf21berow354_col1\" class=\"data row354 col1\" >0.400386</td>\n",
       "                        <td id=\"T_49ab1195_3b06_11eb_bb5f_4ccc6acf21berow354_col2\" class=\"data row354 col2\" >0.358774</td>\n",
       "                        <td id=\"T_49ab1195_3b06_11eb_bb5f_4ccc6acf21berow354_col3\" class=\"data row354 col3\" >0.893123</td>\n",
       "                        <td id=\"T_49ab1195_3b06_11eb_bb5f_4ccc6acf21berow354_col4\" class=\"data row354 col4\" >Zero</td>\n",
       "                        <td id=\"T_49ab1195_3b06_11eb_bb5f_4ccc6acf21berow354_col5\" class=\"data row354 col5\" >Zero</td>\n",
       "                        <td id=\"T_49ab1195_3b06_11eb_bb5f_4ccc6acf21berow354_col6\" class=\"data row354 col6\" >0.748743</td>\n",
       "            </tr>\n",
       "            <tr>\n",
       "                        <th id=\"T_49ab1195_3b06_11eb_bb5f_4ccc6acf21belevel0_row355\" class=\"row_heading level0 row355\" >284</th>\n",
       "                        <td id=\"T_49ab1195_3b06_11eb_bb5f_4ccc6acf21berow355_col0\" class=\"data row355 col0\" >0.414087</td>\n",
       "                        <td id=\"T_49ab1195_3b06_11eb_bb5f_4ccc6acf21berow355_col1\" class=\"data row355 col1\" >0.899576</td>\n",
       "                        <td id=\"T_49ab1195_3b06_11eb_bb5f_4ccc6acf21berow355_col2\" class=\"data row355 col2\" >0.100506</td>\n",
       "                        <td id=\"T_49ab1195_3b06_11eb_bb5f_4ccc6acf21berow355_col3\" class=\"data row355 col3\" >0.244087</td>\n",
       "                        <td id=\"T_49ab1195_3b06_11eb_bb5f_4ccc6acf21berow355_col4\" class=\"data row355 col4\" >Zero</td>\n",
       "                        <td id=\"T_49ab1195_3b06_11eb_bb5f_4ccc6acf21berow355_col5\" class=\"data row355 col5\" >Zero</td>\n",
       "                        <td id=\"T_49ab1195_3b06_11eb_bb5f_4ccc6acf21berow355_col6\" class=\"data row355 col6\" >0.748785</td>\n",
       "            </tr>\n",
       "            <tr>\n",
       "                        <th id=\"T_49ab1195_3b06_11eb_bb5f_4ccc6acf21belevel0_row356\" class=\"row_heading level0 row356\" >678</th>\n",
       "                        <td id=\"T_49ab1195_3b06_11eb_bb5f_4ccc6acf21berow356_col0\" class=\"data row356 col0\" >0.685762</td>\n",
       "                        <td id=\"T_49ab1195_3b06_11eb_bb5f_4ccc6acf21berow356_col1\" class=\"data row356 col1\" >0.567479</td>\n",
       "                        <td id=\"T_49ab1195_3b06_11eb_bb5f_4ccc6acf21berow356_col2\" class=\"data row356 col2\" >0.301488</td>\n",
       "                        <td id=\"T_49ab1195_3b06_11eb_bb5f_4ccc6acf21berow356_col3\" class=\"data row356 col3\" >0.814935</td>\n",
       "                        <td id=\"T_49ab1195_3b06_11eb_bb5f_4ccc6acf21berow356_col4\" class=\"data row356 col4\" >Zero</td>\n",
       "                        <td id=\"T_49ab1195_3b06_11eb_bb5f_4ccc6acf21berow356_col5\" class=\"data row356 col5\" >Zero</td>\n",
       "                        <td id=\"T_49ab1195_3b06_11eb_bb5f_4ccc6acf21berow356_col6\" class=\"data row356 col6\" >0.749038</td>\n",
       "            </tr>\n",
       "            <tr>\n",
       "                        <th id=\"T_49ab1195_3b06_11eb_bb5f_4ccc6acf21belevel0_row357\" class=\"row_heading level0 row357\" >272</th>\n",
       "                        <td id=\"T_49ab1195_3b06_11eb_bb5f_4ccc6acf21berow357_col0\" class=\"data row357 col0\" >0.825657</td>\n",
       "                        <td id=\"T_49ab1195_3b06_11eb_bb5f_4ccc6acf21berow357_col1\" class=\"data row357 col1\" >0.512737</td>\n",
       "                        <td id=\"T_49ab1195_3b06_11eb_bb5f_4ccc6acf21berow357_col2\" class=\"data row357 col2\" >0.315665</td>\n",
       "                        <td id=\"T_49ab1195_3b06_11eb_bb5f_4ccc6acf21berow357_col3\" class=\"data row357 col3\" >0.880193</td>\n",
       "                        <td id=\"T_49ab1195_3b06_11eb_bb5f_4ccc6acf21berow357_col4\" class=\"data row357 col4\" >Zero</td>\n",
       "                        <td id=\"T_49ab1195_3b06_11eb_bb5f_4ccc6acf21berow357_col5\" class=\"data row357 col5\" >Zero</td>\n",
       "                        <td id=\"T_49ab1195_3b06_11eb_bb5f_4ccc6acf21berow357_col6\" class=\"data row357 col6\" >0.749594</td>\n",
       "            </tr>\n",
       "            <tr>\n",
       "                        <th id=\"T_49ab1195_3b06_11eb_bb5f_4ccc6acf21belevel0_row358\" class=\"row_heading level0 row358\" >468</th>\n",
       "                        <td id=\"T_49ab1195_3b06_11eb_bb5f_4ccc6acf21berow358_col0\" class=\"data row358 col0\" >0.837447</td>\n",
       "                        <td id=\"T_49ab1195_3b06_11eb_bb5f_4ccc6acf21berow358_col1\" class=\"data row358 col1\" >0.785135</td>\n",
       "                        <td id=\"T_49ab1195_3b06_11eb_bb5f_4ccc6acf21berow358_col2\" class=\"data row358 col2\" >0.086445</td>\n",
       "                        <td id=\"T_49ab1195_3b06_11eb_bb5f_4ccc6acf21berow358_col3\" class=\"data row358 col3\" >0.641389</td>\n",
       "                        <td id=\"T_49ab1195_3b06_11eb_bb5f_4ccc6acf21berow358_col4\" class=\"data row358 col4\" >Zero</td>\n",
       "                        <td id=\"T_49ab1195_3b06_11eb_bb5f_4ccc6acf21berow358_col5\" class=\"data row358 col5\" >Zero</td>\n",
       "                        <td id=\"T_49ab1195_3b06_11eb_bb5f_4ccc6acf21berow358_col6\" class=\"data row358 col6\" >0.749698</td>\n",
       "            </tr>\n",
       "            <tr>\n",
       "                        <th id=\"T_49ab1195_3b06_11eb_bb5f_4ccc6acf21belevel0_row359\" class=\"row_heading level0 row359\" >279</th>\n",
       "                        <td id=\"T_49ab1195_3b06_11eb_bb5f_4ccc6acf21berow359_col0\" class=\"data row359 col0\" >0.646763</td>\n",
       "                        <td id=\"T_49ab1195_3b06_11eb_bb5f_4ccc6acf21berow359_col1\" class=\"data row359 col1\" >0.805577</td>\n",
       "                        <td id=\"T_49ab1195_3b06_11eb_bb5f_4ccc6acf21berow359_col2\" class=\"data row359 col2\" >0.220470</td>\n",
       "                        <td id=\"T_49ab1195_3b06_11eb_bb5f_4ccc6acf21berow359_col3\" class=\"data row359 col3\" >0.497477</td>\n",
       "                        <td id=\"T_49ab1195_3b06_11eb_bb5f_4ccc6acf21berow359_col4\" class=\"data row359 col4\" >Zero</td>\n",
       "                        <td id=\"T_49ab1195_3b06_11eb_bb5f_4ccc6acf21berow359_col5\" class=\"data row359 col5\" >Zero</td>\n",
       "                        <td id=\"T_49ab1195_3b06_11eb_bb5f_4ccc6acf21berow359_col6\" class=\"data row359 col6\" >0.749734</td>\n",
       "            </tr>\n",
       "            <tr>\n",
       "                        <th id=\"T_49ab1195_3b06_11eb_bb5f_4ccc6acf21belevel0_row360\" class=\"row_heading level0 row360\" >79</th>\n",
       "                        <td id=\"T_49ab1195_3b06_11eb_bb5f_4ccc6acf21berow360_col0\" class=\"data row360 col0\" >0.589447</td>\n",
       "                        <td id=\"T_49ab1195_3b06_11eb_bb5f_4ccc6acf21berow360_col1\" class=\"data row360 col1\" >0.663723</td>\n",
       "                        <td id=\"T_49ab1195_3b06_11eb_bb5f_4ccc6acf21berow360_col2\" class=\"data row360 col2\" >0.374093</td>\n",
       "                        <td id=\"T_49ab1195_3b06_11eb_bb5f_4ccc6acf21berow360_col3\" class=\"data row360 col3\" >0.853970</td>\n",
       "                        <td id=\"T_49ab1195_3b06_11eb_bb5f_4ccc6acf21berow360_col4\" class=\"data row360 col4\" >Zero</td>\n",
       "                        <td id=\"T_49ab1195_3b06_11eb_bb5f_4ccc6acf21berow360_col5\" class=\"data row360 col5\" >Zero</td>\n",
       "                        <td id=\"T_49ab1195_3b06_11eb_bb5f_4ccc6acf21berow360_col6\" class=\"data row360 col6\" >0.749894</td>\n",
       "            </tr>\n",
       "            <tr>\n",
       "                        <th id=\"T_49ab1195_3b06_11eb_bb5f_4ccc6acf21belevel0_row361\" class=\"row_heading level0 row361\" >606</th>\n",
       "                        <td id=\"T_49ab1195_3b06_11eb_bb5f_4ccc6acf21berow361_col0\" class=\"data row361 col0\" >0.404892</td>\n",
       "                        <td id=\"T_49ab1195_3b06_11eb_bb5f_4ccc6acf21berow361_col1\" class=\"data row361 col1\" >0.959891</td>\n",
       "                        <td id=\"T_49ab1195_3b06_11eb_bb5f_4ccc6acf21berow361_col2\" class=\"data row361 col2\" >0.245643</td>\n",
       "                        <td id=\"T_49ab1195_3b06_11eb_bb5f_4ccc6acf21berow361_col3\" class=\"data row361 col3\" >0.140975</td>\n",
       "                        <td id=\"T_49ab1195_3b06_11eb_bb5f_4ccc6acf21berow361_col4\" class=\"data row361 col4\" >Zero</td>\n",
       "                        <td id=\"T_49ab1195_3b06_11eb_bb5f_4ccc6acf21berow361_col5\" class=\"data row361 col5\" >Zero</td>\n",
       "                        <td id=\"T_49ab1195_3b06_11eb_bb5f_4ccc6acf21berow361_col6\" class=\"data row361 col6\" >0.750172</td>\n",
       "            </tr>\n",
       "            <tr>\n",
       "                        <th id=\"T_49ab1195_3b06_11eb_bb5f_4ccc6acf21belevel0_row362\" class=\"row_heading level0 row362\" >210</th>\n",
       "                        <td id=\"T_49ab1195_3b06_11eb_bb5f_4ccc6acf21berow362_col0\" class=\"data row362 col0\" >0.817198</td>\n",
       "                        <td id=\"T_49ab1195_3b06_11eb_bb5f_4ccc6acf21berow362_col1\" class=\"data row362 col1\" >0.858925</td>\n",
       "                        <td id=\"T_49ab1195_3b06_11eb_bb5f_4ccc6acf21berow362_col2\" class=\"data row362 col2\" >0.029267</td>\n",
       "                        <td id=\"T_49ab1195_3b06_11eb_bb5f_4ccc6acf21berow362_col3\" class=\"data row362 col3\" >0.383889</td>\n",
       "                        <td id=\"T_49ab1195_3b06_11eb_bb5f_4ccc6acf21berow362_col4\" class=\"data row362 col4\" >Zero</td>\n",
       "                        <td id=\"T_49ab1195_3b06_11eb_bb5f_4ccc6acf21berow362_col5\" class=\"data row362 col5\" >Zero</td>\n",
       "                        <td id=\"T_49ab1195_3b06_11eb_bb5f_4ccc6acf21berow362_col6\" class=\"data row362 col6\" >0.750238</td>\n",
       "            </tr>\n",
       "            <tr>\n",
       "                        <th id=\"T_49ab1195_3b06_11eb_bb5f_4ccc6acf21belevel0_row363\" class=\"row_heading level0 row363\" >586</th>\n",
       "                        <td id=\"T_49ab1195_3b06_11eb_bb5f_4ccc6acf21berow363_col0\" class=\"data row363 col0\" >0.619295</td>\n",
       "                        <td id=\"T_49ab1195_3b06_11eb_bb5f_4ccc6acf21berow363_col1\" class=\"data row363 col1\" >0.835231</td>\n",
       "                        <td id=\"T_49ab1195_3b06_11eb_bb5f_4ccc6acf21berow363_col2\" class=\"data row363 col2\" >0.245754</td>\n",
       "                        <td id=\"T_49ab1195_3b06_11eb_bb5f_4ccc6acf21berow363_col3\" class=\"data row363 col3\" >0.579194</td>\n",
       "                        <td id=\"T_49ab1195_3b06_11eb_bb5f_4ccc6acf21berow363_col4\" class=\"data row363 col4\" >Zero</td>\n",
       "                        <td id=\"T_49ab1195_3b06_11eb_bb5f_4ccc6acf21berow363_col5\" class=\"data row363 col5\" >Zero</td>\n",
       "                        <td id=\"T_49ab1195_3b06_11eb_bb5f_4ccc6acf21berow363_col6\" class=\"data row363 col6\" >0.750667</td>\n",
       "            </tr>\n",
       "            <tr>\n",
       "                        <th id=\"T_49ab1195_3b06_11eb_bb5f_4ccc6acf21belevel0_row364\" class=\"row_heading level0 row364\" >556</th>\n",
       "                        <td id=\"T_49ab1195_3b06_11eb_bb5f_4ccc6acf21berow364_col0\" class=\"data row364 col0\" >0.620860</td>\n",
       "                        <td id=\"T_49ab1195_3b06_11eb_bb5f_4ccc6acf21berow364_col1\" class=\"data row364 col1\" >0.812002</td>\n",
       "                        <td id=\"T_49ab1195_3b06_11eb_bb5f_4ccc6acf21berow364_col2\" class=\"data row364 col2\" >0.225268</td>\n",
       "                        <td id=\"T_49ab1195_3b06_11eb_bb5f_4ccc6acf21berow364_col3\" class=\"data row364 col3\" >0.580012</td>\n",
       "                        <td id=\"T_49ab1195_3b06_11eb_bb5f_4ccc6acf21berow364_col4\" class=\"data row364 col4\" >Zero</td>\n",
       "                        <td id=\"T_49ab1195_3b06_11eb_bb5f_4ccc6acf21berow364_col5\" class=\"data row364 col5\" >Zero</td>\n",
       "                        <td id=\"T_49ab1195_3b06_11eb_bb5f_4ccc6acf21berow364_col6\" class=\"data row364 col6\" >0.751039</td>\n",
       "            </tr>\n",
       "            <tr>\n",
       "                        <th id=\"T_49ab1195_3b06_11eb_bb5f_4ccc6acf21belevel0_row365\" class=\"row_heading level0 row365\" >733</th>\n",
       "                        <td id=\"T_49ab1195_3b06_11eb_bb5f_4ccc6acf21berow365_col0\" class=\"data row365 col0\" >0.783629</td>\n",
       "                        <td id=\"T_49ab1195_3b06_11eb_bb5f_4ccc6acf21berow365_col1\" class=\"data row365 col1\" >0.399069</td>\n",
       "                        <td id=\"T_49ab1195_3b06_11eb_bb5f_4ccc6acf21berow365_col2\" class=\"data row365 col2\" >0.333418</td>\n",
       "                        <td id=\"T_49ab1195_3b06_11eb_bb5f_4ccc6acf21berow365_col3\" class=\"data row365 col3\" >0.824576</td>\n",
       "                        <td id=\"T_49ab1195_3b06_11eb_bb5f_4ccc6acf21berow365_col4\" class=\"data row365 col4\" >Zero</td>\n",
       "                        <td id=\"T_49ab1195_3b06_11eb_bb5f_4ccc6acf21berow365_col5\" class=\"data row365 col5\" >Zero</td>\n",
       "                        <td id=\"T_49ab1195_3b06_11eb_bb5f_4ccc6acf21berow365_col6\" class=\"data row365 col6\" >0.751307</td>\n",
       "            </tr>\n",
       "            <tr>\n",
       "                        <th id=\"T_49ab1195_3b06_11eb_bb5f_4ccc6acf21belevel0_row366\" class=\"row_heading level0 row366\" >393</th>\n",
       "                        <td id=\"T_49ab1195_3b06_11eb_bb5f_4ccc6acf21berow366_col0\" class=\"data row366 col0\" >0.780650</td>\n",
       "                        <td id=\"T_49ab1195_3b06_11eb_bb5f_4ccc6acf21berow366_col1\" class=\"data row366 col1\" >0.891524</td>\n",
       "                        <td id=\"T_49ab1195_3b06_11eb_bb5f_4ccc6acf21berow366_col2\" class=\"data row366 col2\" >0.060275</td>\n",
       "                        <td id=\"T_49ab1195_3b06_11eb_bb5f_4ccc6acf21berow366_col3\" class=\"data row366 col3\" >0.437510</td>\n",
       "                        <td id=\"T_49ab1195_3b06_11eb_bb5f_4ccc6acf21berow366_col4\" class=\"data row366 col4\" >Zero</td>\n",
       "                        <td id=\"T_49ab1195_3b06_11eb_bb5f_4ccc6acf21berow366_col5\" class=\"data row366 col5\" >Zero</td>\n",
       "                        <td id=\"T_49ab1195_3b06_11eb_bb5f_4ccc6acf21berow366_col6\" class=\"data row366 col6\" >0.751388</td>\n",
       "            </tr>\n",
       "            <tr>\n",
       "                        <th id=\"T_49ab1195_3b06_11eb_bb5f_4ccc6acf21belevel0_row367\" class=\"row_heading level0 row367\" >475</th>\n",
       "                        <td id=\"T_49ab1195_3b06_11eb_bb5f_4ccc6acf21berow367_col0\" class=\"data row367 col0\" >0.783405</td>\n",
       "                        <td id=\"T_49ab1195_3b06_11eb_bb5f_4ccc6acf21berow367_col1\" class=\"data row367 col1\" >0.524041</td>\n",
       "                        <td id=\"T_49ab1195_3b06_11eb_bb5f_4ccc6acf21berow367_col2\" class=\"data row367 col2\" >0.314446</td>\n",
       "                        <td id=\"T_49ab1195_3b06_11eb_bb5f_4ccc6acf21berow367_col3\" class=\"data row367 col3\" >0.964256</td>\n",
       "                        <td id=\"T_49ab1195_3b06_11eb_bb5f_4ccc6acf21berow367_col4\" class=\"data row367 col4\" >Zero</td>\n",
       "                        <td id=\"T_49ab1195_3b06_11eb_bb5f_4ccc6acf21berow367_col5\" class=\"data row367 col5\" >Zero</td>\n",
       "                        <td id=\"T_49ab1195_3b06_11eb_bb5f_4ccc6acf21berow367_col6\" class=\"data row367 col6\" >0.751434</td>\n",
       "            </tr>\n",
       "            <tr>\n",
       "                        <th id=\"T_49ab1195_3b06_11eb_bb5f_4ccc6acf21belevel0_row368\" class=\"row_heading level0 row368\" >325</th>\n",
       "                        <td id=\"T_49ab1195_3b06_11eb_bb5f_4ccc6acf21berow368_col0\" class=\"data row368 col0\" >0.829097</td>\n",
       "                        <td id=\"T_49ab1195_3b06_11eb_bb5f_4ccc6acf21berow368_col1\" class=\"data row368 col1\" >0.608826</td>\n",
       "                        <td id=\"T_49ab1195_3b06_11eb_bb5f_4ccc6acf21berow368_col2\" class=\"data row368 col2\" >0.272143</td>\n",
       "                        <td id=\"T_49ab1195_3b06_11eb_bb5f_4ccc6acf21berow368_col3\" class=\"data row368 col3\" >0.865375</td>\n",
       "                        <td id=\"T_49ab1195_3b06_11eb_bb5f_4ccc6acf21berow368_col4\" class=\"data row368 col4\" >Zero</td>\n",
       "                        <td id=\"T_49ab1195_3b06_11eb_bb5f_4ccc6acf21berow368_col5\" class=\"data row368 col5\" >Zero</td>\n",
       "                        <td id=\"T_49ab1195_3b06_11eb_bb5f_4ccc6acf21berow368_col6\" class=\"data row368 col6\" >0.751502</td>\n",
       "            </tr>\n",
       "            <tr>\n",
       "                        <th id=\"T_49ab1195_3b06_11eb_bb5f_4ccc6acf21belevel0_row369\" class=\"row_heading level0 row369\" >731</th>\n",
       "                        <td id=\"T_49ab1195_3b06_11eb_bb5f_4ccc6acf21berow369_col0\" class=\"data row369 col0\" >0.581262</td>\n",
       "                        <td id=\"T_49ab1195_3b06_11eb_bb5f_4ccc6acf21berow369_col1\" class=\"data row369 col1\" >0.856215</td>\n",
       "                        <td id=\"T_49ab1195_3b06_11eb_bb5f_4ccc6acf21berow369_col2\" class=\"data row369 col2\" >0.200980</td>\n",
       "                        <td id=\"T_49ab1195_3b06_11eb_bb5f_4ccc6acf21berow369_col3\" class=\"data row369 col3\" >0.621521</td>\n",
       "                        <td id=\"T_49ab1195_3b06_11eb_bb5f_4ccc6acf21berow369_col4\" class=\"data row369 col4\" >Zero</td>\n",
       "                        <td id=\"T_49ab1195_3b06_11eb_bb5f_4ccc6acf21berow369_col5\" class=\"data row369 col5\" >Zero</td>\n",
       "                        <td id=\"T_49ab1195_3b06_11eb_bb5f_4ccc6acf21berow369_col6\" class=\"data row369 col6\" >0.751629</td>\n",
       "            </tr>\n",
       "            <tr>\n",
       "                        <th id=\"T_49ab1195_3b06_11eb_bb5f_4ccc6acf21belevel0_row370\" class=\"row_heading level0 row370\" >512</th>\n",
       "                        <td id=\"T_49ab1195_3b06_11eb_bb5f_4ccc6acf21berow370_col0\" class=\"data row370 col0\" >0.700005</td>\n",
       "                        <td id=\"T_49ab1195_3b06_11eb_bb5f_4ccc6acf21berow370_col1\" class=\"data row370 col1\" >0.917769</td>\n",
       "                        <td id=\"T_49ab1195_3b06_11eb_bb5f_4ccc6acf21berow370_col2\" class=\"data row370 col2\" >0.081276</td>\n",
       "                        <td id=\"T_49ab1195_3b06_11eb_bb5f_4ccc6acf21berow370_col3\" class=\"data row370 col3\" >0.398238</td>\n",
       "                        <td id=\"T_49ab1195_3b06_11eb_bb5f_4ccc6acf21berow370_col4\" class=\"data row370 col4\" >Zero</td>\n",
       "                        <td id=\"T_49ab1195_3b06_11eb_bb5f_4ccc6acf21berow370_col5\" class=\"data row370 col5\" >Zero</td>\n",
       "                        <td id=\"T_49ab1195_3b06_11eb_bb5f_4ccc6acf21berow370_col6\" class=\"data row370 col6\" >0.751724</td>\n",
       "            </tr>\n",
       "            <tr>\n",
       "                        <th id=\"T_49ab1195_3b06_11eb_bb5f_4ccc6acf21belevel0_row371\" class=\"row_heading level0 row371\" >358</th>\n",
       "                        <td id=\"T_49ab1195_3b06_11eb_bb5f_4ccc6acf21berow371_col0\" class=\"data row371 col0\" >0.701945</td>\n",
       "                        <td id=\"T_49ab1195_3b06_11eb_bb5f_4ccc6acf21berow371_col1\" class=\"data row371 col1\" >0.920093</td>\n",
       "                        <td id=\"T_49ab1195_3b06_11eb_bb5f_4ccc6acf21berow371_col2\" class=\"data row371 col2\" >0.085558</td>\n",
       "                        <td id=\"T_49ab1195_3b06_11eb_bb5f_4ccc6acf21berow371_col3\" class=\"data row371 col3\" >0.387299</td>\n",
       "                        <td id=\"T_49ab1195_3b06_11eb_bb5f_4ccc6acf21berow371_col4\" class=\"data row371 col4\" >Zero</td>\n",
       "                        <td id=\"T_49ab1195_3b06_11eb_bb5f_4ccc6acf21berow371_col5\" class=\"data row371 col5\" >Zero</td>\n",
       "                        <td id=\"T_49ab1195_3b06_11eb_bb5f_4ccc6acf21berow371_col6\" class=\"data row371 col6\" >0.751779</td>\n",
       "            </tr>\n",
       "            <tr>\n",
       "                        <th id=\"T_49ab1195_3b06_11eb_bb5f_4ccc6acf21belevel0_row372\" class=\"row_heading level0 row372\" >81</th>\n",
       "                        <td id=\"T_49ab1195_3b06_11eb_bb5f_4ccc6acf21berow372_col0\" class=\"data row372 col0\" >0.830056</td>\n",
       "                        <td id=\"T_49ab1195_3b06_11eb_bb5f_4ccc6acf21berow372_col1\" class=\"data row372 col1\" >0.601084</td>\n",
       "                        <td id=\"T_49ab1195_3b06_11eb_bb5f_4ccc6acf21berow372_col2\" class=\"data row372 col2\" >0.268971</td>\n",
       "                        <td id=\"T_49ab1195_3b06_11eb_bb5f_4ccc6acf21berow372_col3\" class=\"data row372 col3\" >0.852795</td>\n",
       "                        <td id=\"T_49ab1195_3b06_11eb_bb5f_4ccc6acf21berow372_col4\" class=\"data row372 col4\" >Zero</td>\n",
       "                        <td id=\"T_49ab1195_3b06_11eb_bb5f_4ccc6acf21berow372_col5\" class=\"data row372 col5\" >Zero</td>\n",
       "                        <td id=\"T_49ab1195_3b06_11eb_bb5f_4ccc6acf21berow372_col6\" class=\"data row372 col6\" >0.752052</td>\n",
       "            </tr>\n",
       "            <tr>\n",
       "                        <th id=\"T_49ab1195_3b06_11eb_bb5f_4ccc6acf21belevel0_row373\" class=\"row_heading level0 row373\" >89</th>\n",
       "                        <td id=\"T_49ab1195_3b06_11eb_bb5f_4ccc6acf21berow373_col0\" class=\"data row373 col0\" >0.782064</td>\n",
       "                        <td id=\"T_49ab1195_3b06_11eb_bb5f_4ccc6acf21berow373_col1\" class=\"data row373 col1\" >0.545877</td>\n",
       "                        <td id=\"T_49ab1195_3b06_11eb_bb5f_4ccc6acf21berow373_col2\" class=\"data row373 col2\" >0.318358</td>\n",
       "                        <td id=\"T_49ab1195_3b06_11eb_bb5f_4ccc6acf21berow373_col3\" class=\"data row373 col3\" >0.870427</td>\n",
       "                        <td id=\"T_49ab1195_3b06_11eb_bb5f_4ccc6acf21berow373_col4\" class=\"data row373 col4\" >Zero</td>\n",
       "                        <td id=\"T_49ab1195_3b06_11eb_bb5f_4ccc6acf21berow373_col5\" class=\"data row373 col5\" >Zero</td>\n",
       "                        <td id=\"T_49ab1195_3b06_11eb_bb5f_4ccc6acf21berow373_col6\" class=\"data row373 col6\" >0.752204</td>\n",
       "            </tr>\n",
       "            <tr>\n",
       "                        <th id=\"T_49ab1195_3b06_11eb_bb5f_4ccc6acf21belevel0_row374\" class=\"row_heading level0 row374\" >338</th>\n",
       "                        <td id=\"T_49ab1195_3b06_11eb_bb5f_4ccc6acf21berow374_col0\" class=\"data row374 col0\" >0.577363</td>\n",
       "                        <td id=\"T_49ab1195_3b06_11eb_bb5f_4ccc6acf21berow374_col1\" class=\"data row374 col1\" >0.725512</td>\n",
       "                        <td id=\"T_49ab1195_3b06_11eb_bb5f_4ccc6acf21berow374_col2\" class=\"data row374 col2\" >0.323084</td>\n",
       "                        <td id=\"T_49ab1195_3b06_11eb_bb5f_4ccc6acf21berow374_col3\" class=\"data row374 col3\" >0.765905</td>\n",
       "                        <td id=\"T_49ab1195_3b06_11eb_bb5f_4ccc6acf21berow374_col4\" class=\"data row374 col4\" >Zero</td>\n",
       "                        <td id=\"T_49ab1195_3b06_11eb_bb5f_4ccc6acf21berow374_col5\" class=\"data row374 col5\" >Zero</td>\n",
       "                        <td id=\"T_49ab1195_3b06_11eb_bb5f_4ccc6acf21berow374_col6\" class=\"data row374 col6\" >0.752822</td>\n",
       "            </tr>\n",
       "            <tr>\n",
       "                        <th id=\"T_49ab1195_3b06_11eb_bb5f_4ccc6acf21belevel0_row375\" class=\"row_heading level0 row375\" >584</th>\n",
       "                        <td id=\"T_49ab1195_3b06_11eb_bb5f_4ccc6acf21berow375_col0\" class=\"data row375 col0\" >0.532040</td>\n",
       "                        <td id=\"T_49ab1195_3b06_11eb_bb5f_4ccc6acf21berow375_col1\" class=\"data row375 col1\" >0.771197</td>\n",
       "                        <td id=\"T_49ab1195_3b06_11eb_bb5f_4ccc6acf21berow375_col2\" class=\"data row375 col2\" >0.257750</td>\n",
       "                        <td id=\"T_49ab1195_3b06_11eb_bb5f_4ccc6acf21berow375_col3\" class=\"data row375 col3\" >0.726633</td>\n",
       "                        <td id=\"T_49ab1195_3b06_11eb_bb5f_4ccc6acf21berow375_col4\" class=\"data row375 col4\" >Zero</td>\n",
       "                        <td id=\"T_49ab1195_3b06_11eb_bb5f_4ccc6acf21berow375_col5\" class=\"data row375 col5\" >Zero</td>\n",
       "                        <td id=\"T_49ab1195_3b06_11eb_bb5f_4ccc6acf21berow375_col6\" class=\"data row375 col6\" >0.753026</td>\n",
       "            </tr>\n",
       "            <tr>\n",
       "                        <th id=\"T_49ab1195_3b06_11eb_bb5f_4ccc6acf21belevel0_row376\" class=\"row_heading level0 row376\" >127</th>\n",
       "                        <td id=\"T_49ab1195_3b06_11eb_bb5f_4ccc6acf21berow376_col0\" class=\"data row376 col0\" >0.780557</td>\n",
       "                        <td id=\"T_49ab1195_3b06_11eb_bb5f_4ccc6acf21berow376_col1\" class=\"data row376 col1\" >0.407432</td>\n",
       "                        <td id=\"T_49ab1195_3b06_11eb_bb5f_4ccc6acf21berow376_col2\" class=\"data row376 col2\" >0.324893</td>\n",
       "                        <td id=\"T_49ab1195_3b06_11eb_bb5f_4ccc6acf21berow376_col3\" class=\"data row376 col3\" >0.762965</td>\n",
       "                        <td id=\"T_49ab1195_3b06_11eb_bb5f_4ccc6acf21berow376_col4\" class=\"data row376 col4\" >Zero</td>\n",
       "                        <td id=\"T_49ab1195_3b06_11eb_bb5f_4ccc6acf21berow376_col5\" class=\"data row376 col5\" >Zero</td>\n",
       "                        <td id=\"T_49ab1195_3b06_11eb_bb5f_4ccc6acf21berow376_col6\" class=\"data row376 col6\" >0.753081</td>\n",
       "            </tr>\n",
       "            <tr>\n",
       "                        <th id=\"T_49ab1195_3b06_11eb_bb5f_4ccc6acf21belevel0_row377\" class=\"row_heading level0 row377\" >90</th>\n",
       "                        <td id=\"T_49ab1195_3b06_11eb_bb5f_4ccc6acf21berow377_col0\" class=\"data row377 col0\" >0.614607</td>\n",
       "                        <td id=\"T_49ab1195_3b06_11eb_bb5f_4ccc6acf21berow377_col1\" class=\"data row377 col1\" >0.801161</td>\n",
       "                        <td id=\"T_49ab1195_3b06_11eb_bb5f_4ccc6acf21berow377_col2\" class=\"data row377 col2\" >0.107631</td>\n",
       "                        <td id=\"T_49ab1195_3b06_11eb_bb5f_4ccc6acf21berow377_col3\" class=\"data row377 col3\" >0.683243</td>\n",
       "                        <td id=\"T_49ab1195_3b06_11eb_bb5f_4ccc6acf21berow377_col4\" class=\"data row377 col4\" >Zero</td>\n",
       "                        <td id=\"T_49ab1195_3b06_11eb_bb5f_4ccc6acf21berow377_col5\" class=\"data row377 col5\" >Zero</td>\n",
       "                        <td id=\"T_49ab1195_3b06_11eb_bb5f_4ccc6acf21berow377_col6\" class=\"data row377 col6\" >0.753244</td>\n",
       "            </tr>\n",
       "            <tr>\n",
       "                        <th id=\"T_49ab1195_3b06_11eb_bb5f_4ccc6acf21belevel0_row378\" class=\"row_heading level0 row378\" >603</th>\n",
       "                        <td id=\"T_49ab1195_3b06_11eb_bb5f_4ccc6acf21berow378_col0\" class=\"data row378 col0\" >0.779237</td>\n",
       "                        <td id=\"T_49ab1195_3b06_11eb_bb5f_4ccc6acf21berow378_col1\" class=\"data row378 col1\" >0.619434</td>\n",
       "                        <td id=\"T_49ab1195_3b06_11eb_bb5f_4ccc6acf21berow378_col2\" class=\"data row378 col2\" >0.256200</td>\n",
       "                        <td id=\"T_49ab1195_3b06_11eb_bb5f_4ccc6acf21berow378_col3\" class=\"data row378 col3\" >0.808350</td>\n",
       "                        <td id=\"T_49ab1195_3b06_11eb_bb5f_4ccc6acf21berow378_col4\" class=\"data row378 col4\" >Zero</td>\n",
       "                        <td id=\"T_49ab1195_3b06_11eb_bb5f_4ccc6acf21berow378_col5\" class=\"data row378 col5\" >Zero</td>\n",
       "                        <td id=\"T_49ab1195_3b06_11eb_bb5f_4ccc6acf21berow378_col6\" class=\"data row378 col6\" >0.753857</td>\n",
       "            </tr>\n",
       "            <tr>\n",
       "                        <th id=\"T_49ab1195_3b06_11eb_bb5f_4ccc6acf21belevel0_row379\" class=\"row_heading level0 row379\" >697</th>\n",
       "                        <td id=\"T_49ab1195_3b06_11eb_bb5f_4ccc6acf21berow379_col0\" class=\"data row379 col0\" >0.768001</td>\n",
       "                        <td id=\"T_49ab1195_3b06_11eb_bb5f_4ccc6acf21berow379_col1\" class=\"data row379 col1\" >0.771971</td>\n",
       "                        <td id=\"T_49ab1195_3b06_11eb_bb5f_4ccc6acf21berow379_col2\" class=\"data row379 col2\" >0.177651</td>\n",
       "                        <td id=\"T_49ab1195_3b06_11eb_bb5f_4ccc6acf21berow379_col3\" class=\"data row379 col3\" >0.802942</td>\n",
       "                        <td id=\"T_49ab1195_3b06_11eb_bb5f_4ccc6acf21berow379_col4\" class=\"data row379 col4\" >Zero</td>\n",
       "                        <td id=\"T_49ab1195_3b06_11eb_bb5f_4ccc6acf21berow379_col5\" class=\"data row379 col5\" >Zero</td>\n",
       "                        <td id=\"T_49ab1195_3b06_11eb_bb5f_4ccc6acf21berow379_col6\" class=\"data row379 col6\" >0.753871</td>\n",
       "            </tr>\n",
       "            <tr>\n",
       "                        <th id=\"T_49ab1195_3b06_11eb_bb5f_4ccc6acf21belevel0_row380\" class=\"row_heading level0 row380\" >409</th>\n",
       "                        <td id=\"T_49ab1195_3b06_11eb_bb5f_4ccc6acf21berow380_col0\" class=\"data row380 col0\" >0.554201</td>\n",
       "                        <td id=\"T_49ab1195_3b06_11eb_bb5f_4ccc6acf21berow380_col1\" class=\"data row380 col1\" >0.781109</td>\n",
       "                        <td id=\"T_49ab1195_3b06_11eb_bb5f_4ccc6acf21berow380_col2\" class=\"data row380 col2\" >0.242764</td>\n",
       "                        <td id=\"T_49ab1195_3b06_11eb_bb5f_4ccc6acf21berow380_col3\" class=\"data row380 col3\" >0.739685</td>\n",
       "                        <td id=\"T_49ab1195_3b06_11eb_bb5f_4ccc6acf21berow380_col4\" class=\"data row380 col4\" >Zero</td>\n",
       "                        <td id=\"T_49ab1195_3b06_11eb_bb5f_4ccc6acf21berow380_col5\" class=\"data row380 col5\" >Zero</td>\n",
       "                        <td id=\"T_49ab1195_3b06_11eb_bb5f_4ccc6acf21berow380_col6\" class=\"data row380 col6\" >0.753975</td>\n",
       "            </tr>\n",
       "            <tr>\n",
       "                        <th id=\"T_49ab1195_3b06_11eb_bb5f_4ccc6acf21belevel0_row381\" class=\"row_heading level0 row381\" >448</th>\n",
       "                        <td id=\"T_49ab1195_3b06_11eb_bb5f_4ccc6acf21berow381_col0\" class=\"data row381 col0\" >0.791705</td>\n",
       "                        <td id=\"T_49ab1195_3b06_11eb_bb5f_4ccc6acf21berow381_col1\" class=\"data row381 col1\" >0.911576</td>\n",
       "                        <td id=\"T_49ab1195_3b06_11eb_bb5f_4ccc6acf21berow381_col2\" class=\"data row381 col2\" >0.067250</td>\n",
       "                        <td id=\"T_49ab1195_3b06_11eb_bb5f_4ccc6acf21berow381_col3\" class=\"data row381 col3\" >0.385071</td>\n",
       "                        <td id=\"T_49ab1195_3b06_11eb_bb5f_4ccc6acf21berow381_col4\" class=\"data row381 col4\" >Zero</td>\n",
       "                        <td id=\"T_49ab1195_3b06_11eb_bb5f_4ccc6acf21berow381_col5\" class=\"data row381 col5\" >Zero</td>\n",
       "                        <td id=\"T_49ab1195_3b06_11eb_bb5f_4ccc6acf21berow381_col6\" class=\"data row381 col6\" >0.754181</td>\n",
       "            </tr>\n",
       "            <tr>\n",
       "                        <th id=\"T_49ab1195_3b06_11eb_bb5f_4ccc6acf21belevel0_row382\" class=\"row_heading level0 row382\" >249</th>\n",
       "                        <td id=\"T_49ab1195_3b06_11eb_bb5f_4ccc6acf21berow382_col0\" class=\"data row382 col0\" >0.580923</td>\n",
       "                        <td id=\"T_49ab1195_3b06_11eb_bb5f_4ccc6acf21berow382_col1\" class=\"data row382 col1\" >0.831747</td>\n",
       "                        <td id=\"T_49ab1195_3b06_11eb_bb5f_4ccc6acf21berow382_col2\" class=\"data row382 col2\" >0.155690</td>\n",
       "                        <td id=\"T_49ab1195_3b06_11eb_bb5f_4ccc6acf21berow382_col3\" class=\"data row382 col3\" >0.588005</td>\n",
       "                        <td id=\"T_49ab1195_3b06_11eb_bb5f_4ccc6acf21berow382_col4\" class=\"data row382 col4\" >Zero</td>\n",
       "                        <td id=\"T_49ab1195_3b06_11eb_bb5f_4ccc6acf21berow382_col5\" class=\"data row382 col5\" >Zero</td>\n",
       "                        <td id=\"T_49ab1195_3b06_11eb_bb5f_4ccc6acf21berow382_col6\" class=\"data row382 col6\" >0.754809</td>\n",
       "            </tr>\n",
       "            <tr>\n",
       "                        <th id=\"T_49ab1195_3b06_11eb_bb5f_4ccc6acf21belevel0_row383\" class=\"row_heading level0 row383\" >239</th>\n",
       "                        <td id=\"T_49ab1195_3b06_11eb_bb5f_4ccc6acf21berow383_col0\" class=\"data row383 col0\" >0.680563</td>\n",
       "                        <td id=\"T_49ab1195_3b06_11eb_bb5f_4ccc6acf21berow383_col1\" class=\"data row383 col1\" >0.871157</td>\n",
       "                        <td id=\"T_49ab1195_3b06_11eb_bb5f_4ccc6acf21berow383_col2\" class=\"data row383 col2\" >0.090801</td>\n",
       "                        <td id=\"T_49ab1195_3b06_11eb_bb5f_4ccc6acf21berow383_col3\" class=\"data row383 col3\" >0.503705</td>\n",
       "                        <td id=\"T_49ab1195_3b06_11eb_bb5f_4ccc6acf21berow383_col4\" class=\"data row383 col4\" >Zero</td>\n",
       "                        <td id=\"T_49ab1195_3b06_11eb_bb5f_4ccc6acf21berow383_col5\" class=\"data row383 col5\" >Zero</td>\n",
       "                        <td id=\"T_49ab1195_3b06_11eb_bb5f_4ccc6acf21berow383_col6\" class=\"data row383 col6\" >0.755394</td>\n",
       "            </tr>\n",
       "            <tr>\n",
       "                        <th id=\"T_49ab1195_3b06_11eb_bb5f_4ccc6acf21belevel0_row384\" class=\"row_heading level0 row384\" >254</th>\n",
       "                        <td id=\"T_49ab1195_3b06_11eb_bb5f_4ccc6acf21berow384_col0\" class=\"data row384 col0\" >0.797027</td>\n",
       "                        <td id=\"T_49ab1195_3b06_11eb_bb5f_4ccc6acf21berow384_col1\" class=\"data row384 col1\" >0.914132</td>\n",
       "                        <td id=\"T_49ab1195_3b06_11eb_bb5f_4ccc6acf21berow384_col2\" class=\"data row384 col2\" >0.049424</td>\n",
       "                        <td id=\"T_49ab1195_3b06_11eb_bb5f_4ccc6acf21berow384_col3\" class=\"data row384 col3\" >0.316757</td>\n",
       "                        <td id=\"T_49ab1195_3b06_11eb_bb5f_4ccc6acf21berow384_col4\" class=\"data row384 col4\" >Zero</td>\n",
       "                        <td id=\"T_49ab1195_3b06_11eb_bb5f_4ccc6acf21berow384_col5\" class=\"data row384 col5\" >Zero</td>\n",
       "                        <td id=\"T_49ab1195_3b06_11eb_bb5f_4ccc6acf21berow384_col6\" class=\"data row384 col6\" >0.755565</td>\n",
       "            </tr>\n",
       "            <tr>\n",
       "                        <th id=\"T_49ab1195_3b06_11eb_bb5f_4ccc6acf21belevel0_row385\" class=\"row_heading level0 row385\" >289</th>\n",
       "                        <td id=\"T_49ab1195_3b06_11eb_bb5f_4ccc6acf21berow385_col0\" class=\"data row385 col0\" >0.741644</td>\n",
       "                        <td id=\"T_49ab1195_3b06_11eb_bb5f_4ccc6acf21berow385_col1\" class=\"data row385 col1\" >0.748356</td>\n",
       "                        <td id=\"T_49ab1195_3b06_11eb_bb5f_4ccc6acf21berow385_col2\" class=\"data row385 col2\" >0.232983</td>\n",
       "                        <td id=\"T_49ab1195_3b06_11eb_bb5f_4ccc6acf21berow385_col3\" class=\"data row385 col3\" >0.645735</td>\n",
       "                        <td id=\"T_49ab1195_3b06_11eb_bb5f_4ccc6acf21berow385_col4\" class=\"data row385 col4\" >Zero</td>\n",
       "                        <td id=\"T_49ab1195_3b06_11eb_bb5f_4ccc6acf21berow385_col5\" class=\"data row385 col5\" >Zero</td>\n",
       "                        <td id=\"T_49ab1195_3b06_11eb_bb5f_4ccc6acf21berow385_col6\" class=\"data row385 col6\" >0.756185</td>\n",
       "            </tr>\n",
       "            <tr>\n",
       "                        <th id=\"T_49ab1195_3b06_11eb_bb5f_4ccc6acf21belevel0_row386\" class=\"row_heading level0 row386\" >621</th>\n",
       "                        <td id=\"T_49ab1195_3b06_11eb_bb5f_4ccc6acf21berow386_col0\" class=\"data row386 col0\" >0.752670</td>\n",
       "                        <td id=\"T_49ab1195_3b06_11eb_bb5f_4ccc6acf21berow386_col1\" class=\"data row386 col1\" >0.558341</td>\n",
       "                        <td id=\"T_49ab1195_3b06_11eb_bb5f_4ccc6acf21berow386_col2\" class=\"data row386 col2\" >0.319909</td>\n",
       "                        <td id=\"T_49ab1195_3b06_11eb_bb5f_4ccc6acf21berow386_col3\" class=\"data row386 col3\" >0.966966</td>\n",
       "                        <td id=\"T_49ab1195_3b06_11eb_bb5f_4ccc6acf21berow386_col4\" class=\"data row386 col4\" >Zero</td>\n",
       "                        <td id=\"T_49ab1195_3b06_11eb_bb5f_4ccc6acf21berow386_col5\" class=\"data row386 col5\" >Zero</td>\n",
       "                        <td id=\"T_49ab1195_3b06_11eb_bb5f_4ccc6acf21berow386_col6\" class=\"data row386 col6\" >0.756313</td>\n",
       "            </tr>\n",
       "            <tr>\n",
       "                        <th id=\"T_49ab1195_3b06_11eb_bb5f_4ccc6acf21belevel0_row387\" class=\"row_heading level0 row387\" >506</th>\n",
       "                        <td id=\"T_49ab1195_3b06_11eb_bb5f_4ccc6acf21berow387_col0\" class=\"data row387 col0\" >0.658770</td>\n",
       "                        <td id=\"T_49ab1195_3b06_11eb_bb5f_4ccc6acf21berow387_col1\" class=\"data row387 col1\" >0.826172</td>\n",
       "                        <td id=\"T_49ab1195_3b06_11eb_bb5f_4ccc6acf21berow387_col2\" class=\"data row387 col2\" >0.228701</td>\n",
       "                        <td id=\"T_49ab1195_3b06_11eb_bb5f_4ccc6acf21berow387_col3\" class=\"data row387 col3\" >0.479718</td>\n",
       "                        <td id=\"T_49ab1195_3b06_11eb_bb5f_4ccc6acf21berow387_col4\" class=\"data row387 col4\" >Zero</td>\n",
       "                        <td id=\"T_49ab1195_3b06_11eb_bb5f_4ccc6acf21berow387_col5\" class=\"data row387 col5\" >Zero</td>\n",
       "                        <td id=\"T_49ab1195_3b06_11eb_bb5f_4ccc6acf21berow387_col6\" class=\"data row387 col6\" >0.756683</td>\n",
       "            </tr>\n",
       "            <tr>\n",
       "                        <th id=\"T_49ab1195_3b06_11eb_bb5f_4ccc6acf21belevel0_row388\" class=\"row_heading level0 row388\" >479</th>\n",
       "                        <td id=\"T_49ab1195_3b06_11eb_bb5f_4ccc6acf21berow388_col0\" class=\"data row388 col0\" >0.659001</td>\n",
       "                        <td id=\"T_49ab1195_3b06_11eb_bb5f_4ccc6acf21berow388_col1\" class=\"data row388 col1\" >0.608052</td>\n",
       "                        <td id=\"T_49ab1195_3b06_11eb_bb5f_4ccc6acf21berow388_col2\" class=\"data row388 col2\" >0.311198</td>\n",
       "                        <td id=\"T_49ab1195_3b06_11eb_bb5f_4ccc6acf21berow388_col3\" class=\"data row388 col3\" >0.773547</td>\n",
       "                        <td id=\"T_49ab1195_3b06_11eb_bb5f_4ccc6acf21berow388_col4\" class=\"data row388 col4\" >Zero</td>\n",
       "                        <td id=\"T_49ab1195_3b06_11eb_bb5f_4ccc6acf21berow388_col5\" class=\"data row388 col5\" >Zero</td>\n",
       "                        <td id=\"T_49ab1195_3b06_11eb_bb5f_4ccc6acf21berow388_col6\" class=\"data row388 col6\" >0.756819</td>\n",
       "            </tr>\n",
       "            <tr>\n",
       "                        <th id=\"T_49ab1195_3b06_11eb_bb5f_4ccc6acf21belevel0_row389\" class=\"row_heading level0 row389\" >698</th>\n",
       "                        <td id=\"T_49ab1195_3b06_11eb_bb5f_4ccc6acf21berow389_col0\" class=\"data row389 col0\" >0.741507</td>\n",
       "                        <td id=\"T_49ab1195_3b06_11eb_bb5f_4ccc6acf21berow389_col1\" class=\"data row389 col1\" >0.376614</td>\n",
       "                        <td id=\"T_49ab1195_3b06_11eb_bb5f_4ccc6acf21berow389_col2\" class=\"data row389 col2\" >0.455188</td>\n",
       "                        <td id=\"T_49ab1195_3b06_11eb_bb5f_4ccc6acf21berow389_col3\" class=\"data row389 col3\" >0.814817</td>\n",
       "                        <td id=\"T_49ab1195_3b06_11eb_bb5f_4ccc6acf21berow389_col4\" class=\"data row389 col4\" >Zero</td>\n",
       "                        <td id=\"T_49ab1195_3b06_11eb_bb5f_4ccc6acf21berow389_col5\" class=\"data row389 col5\" >Zero</td>\n",
       "                        <td id=\"T_49ab1195_3b06_11eb_bb5f_4ccc6acf21berow389_col6\" class=\"data row389 col6\" >0.756888</td>\n",
       "            </tr>\n",
       "            <tr>\n",
       "                        <th id=\"T_49ab1195_3b06_11eb_bb5f_4ccc6acf21belevel0_row390\" class=\"row_heading level0 row390\" >623</th>\n",
       "                        <td id=\"T_49ab1195_3b06_11eb_bb5f_4ccc6acf21berow390_col0\" class=\"data row390 col0\" >0.780124</td>\n",
       "                        <td id=\"T_49ab1195_3b06_11eb_bb5f_4ccc6acf21berow390_col1\" class=\"data row390 col1\" >0.783971</td>\n",
       "                        <td id=\"T_49ab1195_3b06_11eb_bb5f_4ccc6acf21berow390_col2\" class=\"data row390 col2\" >0.162259</td>\n",
       "                        <td id=\"T_49ab1195_3b06_11eb_bb5f_4ccc6acf21berow390_col3\" class=\"data row390 col3\" >0.813759</td>\n",
       "                        <td id=\"T_49ab1195_3b06_11eb_bb5f_4ccc6acf21berow390_col4\" class=\"data row390 col4\" >Zero</td>\n",
       "                        <td id=\"T_49ab1195_3b06_11eb_bb5f_4ccc6acf21berow390_col5\" class=\"data row390 col5\" >Zero</td>\n",
       "                        <td id=\"T_49ab1195_3b06_11eb_bb5f_4ccc6acf21berow390_col6\" class=\"data row390 col6\" >0.757036</td>\n",
       "            </tr>\n",
       "            <tr>\n",
       "                        <th id=\"T_49ab1195_3b06_11eb_bb5f_4ccc6acf21belevel0_row391\" class=\"row_heading level0 row391\" >525</th>\n",
       "                        <td id=\"T_49ab1195_3b06_11eb_bb5f_4ccc6acf21berow391_col0\" class=\"data row391 col0\" >0.599752</td>\n",
       "                        <td id=\"T_49ab1195_3b06_11eb_bb5f_4ccc6acf21berow391_col1\" class=\"data row391 col1\" >0.845297</td>\n",
       "                        <td id=\"T_49ab1195_3b06_11eb_bb5f_4ccc6acf21berow391_col2\" class=\"data row391 col2\" >0.161708</td>\n",
       "                        <td id=\"T_49ab1195_3b06_11eb_bb5f_4ccc6acf21berow391_col3\" class=\"data row391 col3\" >0.613992</td>\n",
       "                        <td id=\"T_49ab1195_3b06_11eb_bb5f_4ccc6acf21berow391_col4\" class=\"data row391 col4\" >Zero</td>\n",
       "                        <td id=\"T_49ab1195_3b06_11eb_bb5f_4ccc6acf21berow391_col5\" class=\"data row391 col5\" >Zero</td>\n",
       "                        <td id=\"T_49ab1195_3b06_11eb_bb5f_4ccc6acf21berow391_col6\" class=\"data row391 col6\" >0.757492</td>\n",
       "            </tr>\n",
       "            <tr>\n",
       "                        <th id=\"T_49ab1195_3b06_11eb_bb5f_4ccc6acf21belevel0_row392\" class=\"row_heading level0 row392\" >61</th>\n",
       "                        <td id=\"T_49ab1195_3b06_11eb_bb5f_4ccc6acf21berow392_col0\" class=\"data row392 col0\" >0.543651</td>\n",
       "                        <td id=\"T_49ab1195_3b06_11eb_bb5f_4ccc6acf21berow392_col1\" class=\"data row392 col1\" >0.722182</td>\n",
       "                        <td id=\"T_49ab1195_3b06_11eb_bb5f_4ccc6acf21berow392_col2\" class=\"data row392 col2\" >0.304332</td>\n",
       "                        <td id=\"T_49ab1195_3b06_11eb_bb5f_4ccc6acf21berow392_col3\" class=\"data row392 col3\" >0.734394</td>\n",
       "                        <td id=\"T_49ab1195_3b06_11eb_bb5f_4ccc6acf21berow392_col4\" class=\"data row392 col4\" >Zero</td>\n",
       "                        <td id=\"T_49ab1195_3b06_11eb_bb5f_4ccc6acf21berow392_col5\" class=\"data row392 col5\" >Zero</td>\n",
       "                        <td id=\"T_49ab1195_3b06_11eb_bb5f_4ccc6acf21berow392_col6\" class=\"data row392 col6\" >0.757684</td>\n",
       "            </tr>\n",
       "            <tr>\n",
       "                        <th id=\"T_49ab1195_3b06_11eb_bb5f_4ccc6acf21belevel0_row393\" class=\"row_heading level0 row393\" >66</th>\n",
       "                        <td id=\"T_49ab1195_3b06_11eb_bb5f_4ccc6acf21berow393_col0\" class=\"data row393 col0\" >0.839950</td>\n",
       "                        <td id=\"T_49ab1195_3b06_11eb_bb5f_4ccc6acf21berow393_col1\" class=\"data row393 col1\" >0.362833</td>\n",
       "                        <td id=\"T_49ab1195_3b06_11eb_bb5f_4ccc6acf21berow393_col2\" class=\"data row393 col2\" >0.346557</td>\n",
       "                        <td id=\"T_49ab1195_3b06_11eb_bb5f_4ccc6acf21berow393_col3\" class=\"data row393 col3\" >0.806351</td>\n",
       "                        <td id=\"T_49ab1195_3b06_11eb_bb5f_4ccc6acf21berow393_col4\" class=\"data row393 col4\" >Zero</td>\n",
       "                        <td id=\"T_49ab1195_3b06_11eb_bb5f_4ccc6acf21berow393_col5\" class=\"data row393 col5\" >Zero</td>\n",
       "                        <td id=\"T_49ab1195_3b06_11eb_bb5f_4ccc6acf21berow393_col6\" class=\"data row393 col6\" >0.757867</td>\n",
       "            </tr>\n",
       "            <tr>\n",
       "                        <th id=\"T_49ab1195_3b06_11eb_bb5f_4ccc6acf21belevel0_row394\" class=\"row_heading level0 row394\" >133</th>\n",
       "                        <td id=\"T_49ab1195_3b06_11eb_bb5f_4ccc6acf21berow394_col0\" class=\"data row394 col0\" >0.539126</td>\n",
       "                        <td id=\"T_49ab1195_3b06_11eb_bb5f_4ccc6acf21berow394_col1\" class=\"data row394 col1\" >0.722650</td>\n",
       "                        <td id=\"T_49ab1195_3b06_11eb_bb5f_4ccc6acf21berow394_col2\" class=\"data row394 col2\" >0.315295</td>\n",
       "                        <td id=\"T_49ab1195_3b06_11eb_bb5f_4ccc6acf21berow394_col3\" class=\"data row394 col3\" >0.740508</td>\n",
       "                        <td id=\"T_49ab1195_3b06_11eb_bb5f_4ccc6acf21berow394_col4\" class=\"data row394 col4\" >Zero</td>\n",
       "                        <td id=\"T_49ab1195_3b06_11eb_bb5f_4ccc6acf21berow394_col5\" class=\"data row394 col5\" >Zero</td>\n",
       "                        <td id=\"T_49ab1195_3b06_11eb_bb5f_4ccc6acf21berow394_col6\" class=\"data row394 col6\" >0.757932</td>\n",
       "            </tr>\n",
       "            <tr>\n",
       "                        <th id=\"T_49ab1195_3b06_11eb_bb5f_4ccc6acf21belevel0_row395\" class=\"row_heading level0 row395\" >440</th>\n",
       "                        <td id=\"T_49ab1195_3b06_11eb_bb5f_4ccc6acf21berow395_col0\" class=\"data row395 col0\" >0.755612</td>\n",
       "                        <td id=\"T_49ab1195_3b06_11eb_bb5f_4ccc6acf21berow395_col1\" class=\"data row395 col1\" >0.540147</td>\n",
       "                        <td id=\"T_49ab1195_3b06_11eb_bb5f_4ccc6acf21berow395_col2\" class=\"data row395 col2\" >0.318358</td>\n",
       "                        <td id=\"T_49ab1195_3b06_11eb_bb5f_4ccc6acf21berow395_col3\" class=\"data row395 col3\" >0.949326</td>\n",
       "                        <td id=\"T_49ab1195_3b06_11eb_bb5f_4ccc6acf21berow395_col4\" class=\"data row395 col4\" >Zero</td>\n",
       "                        <td id=\"T_49ab1195_3b06_11eb_bb5f_4ccc6acf21berow395_col5\" class=\"data row395 col5\" >Zero</td>\n",
       "                        <td id=\"T_49ab1195_3b06_11eb_bb5f_4ccc6acf21berow395_col6\" class=\"data row395 col6\" >0.758002</td>\n",
       "            </tr>\n",
       "            <tr>\n",
       "                        <th id=\"T_49ab1195_3b06_11eb_bb5f_4ccc6acf21belevel0_row396\" class=\"row_heading level0 row396\" >602</th>\n",
       "                        <td id=\"T_49ab1195_3b06_11eb_bb5f_4ccc6acf21berow396_col0\" class=\"data row396 col0\" >0.708536</td>\n",
       "                        <td id=\"T_49ab1195_3b06_11eb_bb5f_4ccc6acf21berow396_col1\" class=\"data row396 col1\" >0.926211</td>\n",
       "                        <td id=\"T_49ab1195_3b06_11eb_bb5f_4ccc6acf21berow396_col2\" class=\"data row396 col2\" >0.074487</td>\n",
       "                        <td id=\"T_49ab1195_3b06_11eb_bb5f_4ccc6acf21berow396_col3\" class=\"data row396 col3\" >0.376833</td>\n",
       "                        <td id=\"T_49ab1195_3b06_11eb_bb5f_4ccc6acf21berow396_col4\" class=\"data row396 col4\" >Zero</td>\n",
       "                        <td id=\"T_49ab1195_3b06_11eb_bb5f_4ccc6acf21berow396_col5\" class=\"data row396 col5\" >Zero</td>\n",
       "                        <td id=\"T_49ab1195_3b06_11eb_bb5f_4ccc6acf21berow396_col6\" class=\"data row396 col6\" >0.758009</td>\n",
       "            </tr>\n",
       "            <tr>\n",
       "                        <th id=\"T_49ab1195_3b06_11eb_bb5f_4ccc6acf21belevel0_row397\" class=\"row_heading level0 row397\" >308</th>\n",
       "                        <td id=\"T_49ab1195_3b06_11eb_bb5f_4ccc6acf21berow397_col0\" class=\"data row397 col0\" >0.840714</td>\n",
       "                        <td id=\"T_49ab1195_3b06_11eb_bb5f_4ccc6acf21berow397_col1\" class=\"data row397 col1\" >0.896246</td>\n",
       "                        <td id=\"T_49ab1195_3b06_11eb_bb5f_4ccc6acf21berow397_col2\" class=\"data row397 col2\" >0.045990</td>\n",
       "                        <td id=\"T_49ab1195_3b06_11eb_bb5f_4ccc6acf21berow397_col3\" class=\"data row397 col3\" >0.374960</td>\n",
       "                        <td id=\"T_49ab1195_3b06_11eb_bb5f_4ccc6acf21berow397_col4\" class=\"data row397 col4\" >Zero</td>\n",
       "                        <td id=\"T_49ab1195_3b06_11eb_bb5f_4ccc6acf21berow397_col5\" class=\"data row397 col5\" >Zero</td>\n",
       "                        <td id=\"T_49ab1195_3b06_11eb_bb5f_4ccc6acf21berow397_col6\" class=\"data row397 col6\" >0.758308</td>\n",
       "            </tr>\n",
       "            <tr>\n",
       "                        <th id=\"T_49ab1195_3b06_11eb_bb5f_4ccc6acf21belevel0_row398\" class=\"row_heading level0 row398\" >6</th>\n",
       "                        <td id=\"T_49ab1195_3b06_11eb_bb5f_4ccc6acf21berow398_col0\" class=\"data row398 col0\" >0.766812</td>\n",
       "                        <td id=\"T_49ab1195_3b06_11eb_bb5f_4ccc6acf21berow398_col1\" class=\"data row398 col1\" >0.628108</td>\n",
       "                        <td id=\"T_49ab1195_3b06_11eb_bb5f_4ccc6acf21berow398_col2\" class=\"data row398 col2\" >0.259116</td>\n",
       "                        <td id=\"T_49ab1195_3b06_11eb_bb5f_4ccc6acf21berow398_col3\" class=\"data row398 col3\" >0.828574</td>\n",
       "                        <td id=\"T_49ab1195_3b06_11eb_bb5f_4ccc6acf21berow398_col4\" class=\"data row398 col4\" >Zero</td>\n",
       "                        <td id=\"T_49ab1195_3b06_11eb_bb5f_4ccc6acf21berow398_col5\" class=\"data row398 col5\" >Zero</td>\n",
       "                        <td id=\"T_49ab1195_3b06_11eb_bb5f_4ccc6acf21berow398_col6\" class=\"data row398 col6\" >0.758468</td>\n",
       "            </tr>\n",
       "            <tr>\n",
       "                        <th id=\"T_49ab1195_3b06_11eb_bb5f_4ccc6acf21belevel0_row399\" class=\"row_heading level0 row399\" >186</th>\n",
       "                        <td id=\"T_49ab1195_3b06_11eb_bb5f_4ccc6acf21berow399_col0\" class=\"data row399 col0\" >0.742819</td>\n",
       "                        <td id=\"T_49ab1195_3b06_11eb_bb5f_4ccc6acf21berow399_col1\" class=\"data row399 col1\" >0.348430</td>\n",
       "                        <td id=\"T_49ab1195_3b06_11eb_bb5f_4ccc6acf21berow399_col2\" class=\"data row399 col2\" >0.391518</td>\n",
       "                        <td id=\"T_49ab1195_3b06_11eb_bb5f_4ccc6acf21berow399_col3\" class=\"data row399 col3\" >0.763553</td>\n",
       "                        <td id=\"T_49ab1195_3b06_11eb_bb5f_4ccc6acf21berow399_col4\" class=\"data row399 col4\" >Zero</td>\n",
       "                        <td id=\"T_49ab1195_3b06_11eb_bb5f_4ccc6acf21berow399_col5\" class=\"data row399 col5\" >Zero</td>\n",
       "                        <td id=\"T_49ab1195_3b06_11eb_bb5f_4ccc6acf21berow399_col6\" class=\"data row399 col6\" >0.758511</td>\n",
       "            </tr>\n",
       "            <tr>\n",
       "                        <th id=\"T_49ab1195_3b06_11eb_bb5f_4ccc6acf21belevel0_row400\" class=\"row_heading level0 row400\" >273</th>\n",
       "                        <td id=\"T_49ab1195_3b06_11eb_bb5f_4ccc6acf21berow400_col0\" class=\"data row400 col0\" >0.702154</td>\n",
       "                        <td id=\"T_49ab1195_3b06_11eb_bb5f_4ccc6acf21berow400_col1\" class=\"data row400 col1\" >0.769726</td>\n",
       "                        <td id=\"T_49ab1195_3b06_11eb_bb5f_4ccc6acf21berow400_col2\" class=\"data row400 col2\" >0.210356</td>\n",
       "                        <td id=\"T_49ab1195_3b06_11eb_bb5f_4ccc6acf21berow400_col3\" class=\"data row400 col3\" >0.818109</td>\n",
       "                        <td id=\"T_49ab1195_3b06_11eb_bb5f_4ccc6acf21berow400_col4\" class=\"data row400 col4\" >Zero</td>\n",
       "                        <td id=\"T_49ab1195_3b06_11eb_bb5f_4ccc6acf21berow400_col5\" class=\"data row400 col5\" >Zero</td>\n",
       "                        <td id=\"T_49ab1195_3b06_11eb_bb5f_4ccc6acf21berow400_col6\" class=\"data row400 col6\" >0.758633</td>\n",
       "            </tr>\n",
       "            <tr>\n",
       "                        <th id=\"T_49ab1195_3b06_11eb_bb5f_4ccc6acf21belevel0_row401\" class=\"row_heading level0 row401\" >288</th>\n",
       "                        <td id=\"T_49ab1195_3b06_11eb_bb5f_4ccc6acf21berow401_col0\" class=\"data row401 col0\" >0.539656</td>\n",
       "                        <td id=\"T_49ab1195_3b06_11eb_bb5f_4ccc6acf21berow401_col1\" class=\"data row401 col1\" >0.625706</td>\n",
       "                        <td id=\"T_49ab1195_3b06_11eb_bb5f_4ccc6acf21berow401_col2\" class=\"data row401 col2\" >0.413923</td>\n",
       "                        <td id=\"T_49ab1195_3b06_11eb_bb5f_4ccc6acf21berow401_col3\" class=\"data row401 col3\" >0.842331</td>\n",
       "                        <td id=\"T_49ab1195_3b06_11eb_bb5f_4ccc6acf21berow401_col4\" class=\"data row401 col4\" >Zero</td>\n",
       "                        <td id=\"T_49ab1195_3b06_11eb_bb5f_4ccc6acf21berow401_col5\" class=\"data row401 col5\" >Zero</td>\n",
       "                        <td id=\"T_49ab1195_3b06_11eb_bb5f_4ccc6acf21berow401_col6\" class=\"data row401 col6\" >0.758655</td>\n",
       "            </tr>\n",
       "            <tr>\n",
       "                        <th id=\"T_49ab1195_3b06_11eb_bb5f_4ccc6acf21belevel0_row402\" class=\"row_heading level0 row402\" >531</th>\n",
       "                        <td id=\"T_49ab1195_3b06_11eb_bb5f_4ccc6acf21berow402_col0\" class=\"data row402 col0\" >0.750016</td>\n",
       "                        <td id=\"T_49ab1195_3b06_11eb_bb5f_4ccc6acf21berow402_col1\" class=\"data row402 col1\" >0.902903</td>\n",
       "                        <td id=\"T_49ab1195_3b06_11eb_bb5f_4ccc6acf21berow402_col2\" class=\"data row402 col2\" >0.067030</td>\n",
       "                        <td id=\"T_49ab1195_3b06_11eb_bb5f_4ccc6acf21berow402_col3\" class=\"data row402 col3\" >0.440919</td>\n",
       "                        <td id=\"T_49ab1195_3b06_11eb_bb5f_4ccc6acf21berow402_col4\" class=\"data row402 col4\" >Zero</td>\n",
       "                        <td id=\"T_49ab1195_3b06_11eb_bb5f_4ccc6acf21berow402_col5\" class=\"data row402 col5\" >Zero</td>\n",
       "                        <td id=\"T_49ab1195_3b06_11eb_bb5f_4ccc6acf21berow402_col6\" class=\"data row402 col6\" >0.758747</td>\n",
       "            </tr>\n",
       "            <tr>\n",
       "                        <th id=\"T_49ab1195_3b06_11eb_bb5f_4ccc6acf21belevel0_row403\" class=\"row_heading level0 row403\" >302</th>\n",
       "                        <td id=\"T_49ab1195_3b06_11eb_bb5f_4ccc6acf21berow403_col0\" class=\"data row403 col0\" >0.629340</td>\n",
       "                        <td id=\"T_49ab1195_3b06_11eb_bb5f_4ccc6acf21berow403_col1\" class=\"data row403 col1\" >0.842741</td>\n",
       "                        <td id=\"T_49ab1195_3b06_11eb_bb5f_4ccc6acf21berow403_col2\" class=\"data row403 col2\" >0.173261</td>\n",
       "                        <td id=\"T_49ab1195_3b06_11eb_bb5f_4ccc6acf21berow403_col3\" class=\"data row403 col3\" >0.651263</td>\n",
       "                        <td id=\"T_49ab1195_3b06_11eb_bb5f_4ccc6acf21berow403_col4\" class=\"data row403 col4\" >Zero</td>\n",
       "                        <td id=\"T_49ab1195_3b06_11eb_bb5f_4ccc6acf21berow403_col5\" class=\"data row403 col5\" >Zero</td>\n",
       "                        <td id=\"T_49ab1195_3b06_11eb_bb5f_4ccc6acf21berow403_col6\" class=\"data row403 col6\" >0.758840</td>\n",
       "            </tr>\n",
       "            <tr>\n",
       "                        <th id=\"T_49ab1195_3b06_11eb_bb5f_4ccc6acf21belevel0_row404\" class=\"row_heading level0 row404\" >51</th>\n",
       "                        <td id=\"T_49ab1195_3b06_11eb_bb5f_4ccc6acf21berow404_col0\" class=\"data row404 col0\" >0.887300</td>\n",
       "                        <td id=\"T_49ab1195_3b06_11eb_bb5f_4ccc6acf21berow404_col1\" class=\"data row404 col1\" >0.664423</td>\n",
       "                        <td id=\"T_49ab1195_3b06_11eb_bb5f_4ccc6acf21berow404_col2\" class=\"data row404 col2\" >0.160635</td>\n",
       "                        <td id=\"T_49ab1195_3b06_11eb_bb5f_4ccc6acf21berow404_col3\" class=\"data row404 col3\" >0.869136</td>\n",
       "                        <td id=\"T_49ab1195_3b06_11eb_bb5f_4ccc6acf21berow404_col4\" class=\"data row404 col4\" >Zero</td>\n",
       "                        <td id=\"T_49ab1195_3b06_11eb_bb5f_4ccc6acf21berow404_col5\" class=\"data row404 col5\" >Zero</td>\n",
       "                        <td id=\"T_49ab1195_3b06_11eb_bb5f_4ccc6acf21berow404_col6\" class=\"data row404 col6\" >0.759017</td>\n",
       "            </tr>\n",
       "            <tr>\n",
       "                        <th id=\"T_49ab1195_3b06_11eb_bb5f_4ccc6acf21belevel0_row405\" class=\"row_heading level0 row405\" >590</th>\n",
       "                        <td id=\"T_49ab1195_3b06_11eb_bb5f_4ccc6acf21berow405_col0\" class=\"data row405 col0\" >0.842099</td>\n",
       "                        <td id=\"T_49ab1195_3b06_11eb_bb5f_4ccc6acf21berow405_col1\" class=\"data row405 col1\" >0.402788</td>\n",
       "                        <td id=\"T_49ab1195_3b06_11eb_bb5f_4ccc6acf21berow405_col2\" class=\"data row405 col2\" >0.343050</td>\n",
       "                        <td id=\"T_49ab1195_3b06_11eb_bb5f_4ccc6acf21berow405_col3\" class=\"data row405 col3\" >0.887476</td>\n",
       "                        <td id=\"T_49ab1195_3b06_11eb_bb5f_4ccc6acf21berow405_col4\" class=\"data row405 col4\" >Zero</td>\n",
       "                        <td id=\"T_49ab1195_3b06_11eb_bb5f_4ccc6acf21berow405_col5\" class=\"data row405 col5\" >Zero</td>\n",
       "                        <td id=\"T_49ab1195_3b06_11eb_bb5f_4ccc6acf21berow405_col6\" class=\"data row405 col6\" >0.759099</td>\n",
       "            </tr>\n",
       "            <tr>\n",
       "                        <th id=\"T_49ab1195_3b06_11eb_bb5f_4ccc6acf21belevel0_row406\" class=\"row_heading level0 row406\" >461</th>\n",
       "                        <td id=\"T_49ab1195_3b06_11eb_bb5f_4ccc6acf21berow406_col0\" class=\"data row406 col0\" >0.731014</td>\n",
       "                        <td id=\"T_49ab1195_3b06_11eb_bb5f_4ccc6acf21berow406_col1\" class=\"data row406 col1\" >0.842124</td>\n",
       "                        <td id=\"T_49ab1195_3b06_11eb_bb5f_4ccc6acf21berow406_col2\" class=\"data row406 col2\" >0.102759</td>\n",
       "                        <td id=\"T_49ab1195_3b06_11eb_bb5f_4ccc6acf21berow406_col3\" class=\"data row406 col3\" >0.689361</td>\n",
       "                        <td id=\"T_49ab1195_3b06_11eb_bb5f_4ccc6acf21berow406_col4\" class=\"data row406 col4\" >Zero</td>\n",
       "                        <td id=\"T_49ab1195_3b06_11eb_bb5f_4ccc6acf21berow406_col5\" class=\"data row406 col5\" >Zero</td>\n",
       "                        <td id=\"T_49ab1195_3b06_11eb_bb5f_4ccc6acf21berow406_col6\" class=\"data row406 col6\" >0.759160</td>\n",
       "            </tr>\n",
       "            <tr>\n",
       "                        <th id=\"T_49ab1195_3b06_11eb_bb5f_4ccc6acf21belevel0_row407\" class=\"row_heading level0 row407\" >426</th>\n",
       "                        <td id=\"T_49ab1195_3b06_11eb_bb5f_4ccc6acf21berow407_col0\" class=\"data row407 col0\" >0.398063</td>\n",
       "                        <td id=\"T_49ab1195_3b06_11eb_bb5f_4ccc6acf21berow407_col1\" class=\"data row407 col1\" >0.921021</td>\n",
       "                        <td id=\"T_49ab1195_3b06_11eb_bb5f_4ccc6acf21berow407_col2\" class=\"data row407 col2\" >0.347591</td>\n",
       "                        <td id=\"T_49ab1195_3b06_11eb_bb5f_4ccc6acf21berow407_col3\" class=\"data row407 col3\" >0.404703</td>\n",
       "                        <td id=\"T_49ab1195_3b06_11eb_bb5f_4ccc6acf21berow407_col4\" class=\"data row407 col4\" >Zero</td>\n",
       "                        <td id=\"T_49ab1195_3b06_11eb_bb5f_4ccc6acf21berow407_col5\" class=\"data row407 col5\" >Zero</td>\n",
       "                        <td id=\"T_49ab1195_3b06_11eb_bb5f_4ccc6acf21berow407_col6\" class=\"data row407 col6\" >0.759231</td>\n",
       "            </tr>\n",
       "            <tr>\n",
       "                        <th id=\"T_49ab1195_3b06_11eb_bb5f_4ccc6acf21belevel0_row408\" class=\"row_heading level0 row408\" >652</th>\n",
       "                        <td id=\"T_49ab1195_3b06_11eb_bb5f_4ccc6acf21berow408_col0\" class=\"data row408 col0\" >0.842726</td>\n",
       "                        <td id=\"T_49ab1195_3b06_11eb_bb5f_4ccc6acf21berow408_col1\" class=\"data row408 col1\" >0.389161</td>\n",
       "                        <td id=\"T_49ab1195_3b06_11eb_bb5f_4ccc6acf21berow408_col2\" class=\"data row408 col2\" >0.339617</td>\n",
       "                        <td id=\"T_49ab1195_3b06_11eb_bb5f_4ccc6acf21berow408_col3\" class=\"data row408 col3\" >0.827516</td>\n",
       "                        <td id=\"T_49ab1195_3b06_11eb_bb5f_4ccc6acf21berow408_col4\" class=\"data row408 col4\" >Zero</td>\n",
       "                        <td id=\"T_49ab1195_3b06_11eb_bb5f_4ccc6acf21berow408_col5\" class=\"data row408 col5\" >Zero</td>\n",
       "                        <td id=\"T_49ab1195_3b06_11eb_bb5f_4ccc6acf21berow408_col6\" class=\"data row408 col6\" >0.759452</td>\n",
       "            </tr>\n",
       "            <tr>\n",
       "                        <th id=\"T_49ab1195_3b06_11eb_bb5f_4ccc6acf21belevel0_row409\" class=\"row_heading level0 row409\" >399</th>\n",
       "                        <td id=\"T_49ab1195_3b06_11eb_bb5f_4ccc6acf21berow409_col0\" class=\"data row409 col0\" >0.721978</td>\n",
       "                        <td id=\"T_49ab1195_3b06_11eb_bb5f_4ccc6acf21berow409_col1\" class=\"data row409 col1\" >0.725744</td>\n",
       "                        <td id=\"T_49ab1195_3b06_11eb_bb5f_4ccc6acf21berow409_col2\" class=\"data row409 col2\" >0.239589</td>\n",
       "                        <td id=\"T_49ab1195_3b06_11eb_bb5f_4ccc6acf21berow409_col3\" class=\"data row409 col3\" >0.672195</td>\n",
       "                        <td id=\"T_49ab1195_3b06_11eb_bb5f_4ccc6acf21berow409_col4\" class=\"data row409 col4\" >Zero</td>\n",
       "                        <td id=\"T_49ab1195_3b06_11eb_bb5f_4ccc6acf21berow409_col5\" class=\"data row409 col5\" >Zero</td>\n",
       "                        <td id=\"T_49ab1195_3b06_11eb_bb5f_4ccc6acf21berow409_col6\" class=\"data row409 col6\" >0.759545</td>\n",
       "            </tr>\n",
       "            <tr>\n",
       "                        <th id=\"T_49ab1195_3b06_11eb_bb5f_4ccc6acf21belevel0_row410\" class=\"row_heading level0 row410\" >519</th>\n",
       "                        <td id=\"T_49ab1195_3b06_11eb_bb5f_4ccc6acf21berow410_col0\" class=\"data row410 col0\" >0.757848</td>\n",
       "                        <td id=\"T_49ab1195_3b06_11eb_bb5f_4ccc6acf21berow410_col1\" class=\"data row410 col1\" >0.772435</td>\n",
       "                        <td id=\"T_49ab1195_3b06_11eb_bb5f_4ccc6acf21berow410_col2\" class=\"data row410 col2\" >0.182191</td>\n",
       "                        <td id=\"T_49ab1195_3b06_11eb_bb5f_4ccc6acf21berow410_col3\" class=\"data row410 col3\" >0.710760</td>\n",
       "                        <td id=\"T_49ab1195_3b06_11eb_bb5f_4ccc6acf21berow410_col4\" class=\"data row410 col4\" >Zero</td>\n",
       "                        <td id=\"T_49ab1195_3b06_11eb_bb5f_4ccc6acf21berow410_col5\" class=\"data row410 col5\" >Zero</td>\n",
       "                        <td id=\"T_49ab1195_3b06_11eb_bb5f_4ccc6acf21berow410_col6\" class=\"data row410 col6\" >0.760238</td>\n",
       "            </tr>\n",
       "            <tr>\n",
       "                        <th id=\"T_49ab1195_3b06_11eb_bb5f_4ccc6acf21belevel0_row411\" class=\"row_heading level0 row411\" >74</th>\n",
       "                        <td id=\"T_49ab1195_3b06_11eb_bb5f_4ccc6acf21berow411_col0\" class=\"data row411 col0\" >0.825635</td>\n",
       "                        <td id=\"T_49ab1195_3b06_11eb_bb5f_4ccc6acf21berow411_col1\" class=\"data row411 col1\" >0.923501</td>\n",
       "                        <td id=\"T_49ab1195_3b06_11eb_bb5f_4ccc6acf21berow411_col2\" class=\"data row411 col2\" >0.030525</td>\n",
       "                        <td id=\"T_49ab1195_3b06_11eb_bb5f_4ccc6acf21berow411_col3\" class=\"data row411 col3\" >0.374724</td>\n",
       "                        <td id=\"T_49ab1195_3b06_11eb_bb5f_4ccc6acf21berow411_col4\" class=\"data row411 col4\" >Zero</td>\n",
       "                        <td id=\"T_49ab1195_3b06_11eb_bb5f_4ccc6acf21berow411_col5\" class=\"data row411 col5\" >Zero</td>\n",
       "                        <td id=\"T_49ab1195_3b06_11eb_bb5f_4ccc6acf21berow411_col6\" class=\"data row411 col6\" >0.760485</td>\n",
       "            </tr>\n",
       "            <tr>\n",
       "                        <th id=\"T_49ab1195_3b06_11eb_bb5f_4ccc6acf21belevel0_row412\" class=\"row_heading level0 row412\" >614</th>\n",
       "                        <td id=\"T_49ab1195_3b06_11eb_bb5f_4ccc6acf21berow412_col0\" class=\"data row412 col0\" >0.688762</td>\n",
       "                        <td id=\"T_49ab1195_3b06_11eb_bb5f_4ccc6acf21berow412_col1\" class=\"data row412 col1\" >0.771350</td>\n",
       "                        <td id=\"T_49ab1195_3b06_11eb_bb5f_4ccc6acf21berow412_col2\" class=\"data row412 col2\" >0.226449</td>\n",
       "                        <td id=\"T_49ab1195_3b06_11eb_bb5f_4ccc6acf21berow412_col3\" class=\"data row412 col3\" >0.818109</td>\n",
       "                        <td id=\"T_49ab1195_3b06_11eb_bb5f_4ccc6acf21berow412_col4\" class=\"data row412 col4\" >Zero</td>\n",
       "                        <td id=\"T_49ab1195_3b06_11eb_bb5f_4ccc6acf21berow412_col5\" class=\"data row412 col5\" >Zero</td>\n",
       "                        <td id=\"T_49ab1195_3b06_11eb_bb5f_4ccc6acf21berow412_col6\" class=\"data row412 col6\" >0.760559</td>\n",
       "            </tr>\n",
       "            <tr>\n",
       "                        <th id=\"T_49ab1195_3b06_11eb_bb5f_4ccc6acf21belevel0_row413\" class=\"row_heading level0 row413\" >344</th>\n",
       "                        <td id=\"T_49ab1195_3b06_11eb_bb5f_4ccc6acf21berow413_col0\" class=\"data row413 col0\" >0.767316</td>\n",
       "                        <td id=\"T_49ab1195_3b06_11eb_bb5f_4ccc6acf21berow413_col1\" class=\"data row413 col1\" >0.782190</td>\n",
       "                        <td id=\"T_49ab1195_3b06_11eb_bb5f_4ccc6acf21berow413_col2\" class=\"data row413 col2\" >0.171564</td>\n",
       "                        <td id=\"T_49ab1195_3b06_11eb_bb5f_4ccc6acf21berow413_col3\" class=\"data row413 col3\" >0.796592</td>\n",
       "                        <td id=\"T_49ab1195_3b06_11eb_bb5f_4ccc6acf21berow413_col4\" class=\"data row413 col4\" >Zero</td>\n",
       "                        <td id=\"T_49ab1195_3b06_11eb_bb5f_4ccc6acf21berow413_col5\" class=\"data row413 col5\" >Zero</td>\n",
       "                        <td id=\"T_49ab1195_3b06_11eb_bb5f_4ccc6acf21berow413_col6\" class=\"data row413 col6\" >0.760637</td>\n",
       "            </tr>\n",
       "            <tr>\n",
       "                        <th id=\"T_49ab1195_3b06_11eb_bb5f_4ccc6acf21belevel0_row414\" class=\"row_heading level0 row414\" >589</th>\n",
       "                        <td id=\"T_49ab1195_3b06_11eb_bb5f_4ccc6acf21berow414_col0\" class=\"data row414 col0\" >0.575342</td>\n",
       "                        <td id=\"T_49ab1195_3b06_11eb_bb5f_4ccc6acf21berow414_col1\" class=\"data row414 col1\" >0.838715</td>\n",
       "                        <td id=\"T_49ab1195_3b06_11eb_bb5f_4ccc6acf21berow414_col2\" class=\"data row414 col2\" >0.157279</td>\n",
       "                        <td id=\"T_49ab1195_3b06_11eb_bb5f_4ccc6acf21berow414_col3\" class=\"data row414 col3\" >0.658674</td>\n",
       "                        <td id=\"T_49ab1195_3b06_11eb_bb5f_4ccc6acf21berow414_col4\" class=\"data row414 col4\" >Zero</td>\n",
       "                        <td id=\"T_49ab1195_3b06_11eb_bb5f_4ccc6acf21berow414_col5\" class=\"data row414 col5\" >Zero</td>\n",
       "                        <td id=\"T_49ab1195_3b06_11eb_bb5f_4ccc6acf21berow414_col6\" class=\"data row414 col6\" >0.760875</td>\n",
       "            </tr>\n",
       "            <tr>\n",
       "                        <th id=\"T_49ab1195_3b06_11eb_bb5f_4ccc6acf21belevel0_row415\" class=\"row_heading level0 row415\" >505</th>\n",
       "                        <td id=\"T_49ab1195_3b06_11eb_bb5f_4ccc6acf21berow415_col0\" class=\"data row415 col0\" >0.692808</td>\n",
       "                        <td id=\"T_49ab1195_3b06_11eb_bb5f_4ccc6acf21berow415_col1\" class=\"data row415 col1\" >0.838404</td>\n",
       "                        <td id=\"T_49ab1195_3b06_11eb_bb5f_4ccc6acf21berow415_col2\" class=\"data row415 col2\" >0.098736</td>\n",
       "                        <td id=\"T_49ab1195_3b06_11eb_bb5f_4ccc6acf21berow415_col3\" class=\"data row415 col3\" >0.658319</td>\n",
       "                        <td id=\"T_49ab1195_3b06_11eb_bb5f_4ccc6acf21berow415_col4\" class=\"data row415 col4\" >Zero</td>\n",
       "                        <td id=\"T_49ab1195_3b06_11eb_bb5f_4ccc6acf21berow415_col5\" class=\"data row415 col5\" >Zero</td>\n",
       "                        <td id=\"T_49ab1195_3b06_11eb_bb5f_4ccc6acf21berow415_col6\" class=\"data row415 col6\" >0.761026</td>\n",
       "            </tr>\n",
       "            <tr>\n",
       "                        <th id=\"T_49ab1195_3b06_11eb_bb5f_4ccc6acf21belevel0_row416\" class=\"row_heading level0 row416\" >714</th>\n",
       "                        <td id=\"T_49ab1195_3b06_11eb_bb5f_4ccc6acf21berow416_col0\" class=\"data row416 col0\" >0.692152</td>\n",
       "                        <td id=\"T_49ab1195_3b06_11eb_bb5f_4ccc6acf21berow416_col1\" class=\"data row416 col1\" >0.641115</td>\n",
       "                        <td id=\"T_49ab1195_3b06_11eb_bb5f_4ccc6acf21berow416_col2\" class=\"data row416 col2\" >0.315256</td>\n",
       "                        <td id=\"T_49ab1195_3b06_11eb_bb5f_4ccc6acf21berow416_col3\" class=\"data row416 col3\" >0.801649</td>\n",
       "                        <td id=\"T_49ab1195_3b06_11eb_bb5f_4ccc6acf21berow416_col4\" class=\"data row416 col4\" >Zero</td>\n",
       "                        <td id=\"T_49ab1195_3b06_11eb_bb5f_4ccc6acf21berow416_col5\" class=\"data row416 col5\" >Zero</td>\n",
       "                        <td id=\"T_49ab1195_3b06_11eb_bb5f_4ccc6acf21berow416_col6\" class=\"data row416 col6\" >0.761212</td>\n",
       "            </tr>\n",
       "            <tr>\n",
       "                        <th id=\"T_49ab1195_3b06_11eb_bb5f_4ccc6acf21belevel0_row417\" class=\"row_heading level0 row417\" >243</th>\n",
       "                        <td id=\"T_49ab1195_3b06_11eb_bb5f_4ccc6acf21berow417_col0\" class=\"data row417 col0\" >0.707909</td>\n",
       "                        <td id=\"T_49ab1195_3b06_11eb_bb5f_4ccc6acf21berow417_col1\" class=\"data row417 col1\" >0.771971</td>\n",
       "                        <td id=\"T_49ab1195_3b06_11eb_bb5f_4ccc6acf21berow417_col2\" class=\"data row417 col2\" >0.181748</td>\n",
       "                        <td id=\"T_49ab1195_3b06_11eb_bb5f_4ccc6acf21berow417_col3\" class=\"data row417 col3\" >0.784129</td>\n",
       "                        <td id=\"T_49ab1195_3b06_11eb_bb5f_4ccc6acf21berow417_col4\" class=\"data row417 col4\" >Zero</td>\n",
       "                        <td id=\"T_49ab1195_3b06_11eb_bb5f_4ccc6acf21berow417_col5\" class=\"data row417 col5\" >Zero</td>\n",
       "                        <td id=\"T_49ab1195_3b06_11eb_bb5f_4ccc6acf21berow417_col6\" class=\"data row417 col6\" >0.761247</td>\n",
       "            </tr>\n",
       "            <tr>\n",
       "                        <th id=\"T_49ab1195_3b06_11eb_bb5f_4ccc6acf21belevel0_row418\" class=\"row_heading level0 row418\" >175</th>\n",
       "                        <td id=\"T_49ab1195_3b06_11eb_bb5f_4ccc6acf21berow418_col0\" class=\"data row418 col0\" >0.766220</td>\n",
       "                        <td id=\"T_49ab1195_3b06_11eb_bb5f_4ccc6acf21berow418_col1\" class=\"data row418 col1\" >0.373288</td>\n",
       "                        <td id=\"T_49ab1195_3b06_11eb_bb5f_4ccc6acf21berow418_col2\" class=\"data row418 col2\" >0.375867</td>\n",
       "                        <td id=\"T_49ab1195_3b06_11eb_bb5f_4ccc6acf21berow418_col3\" class=\"data row418 col3\" >0.765905</td>\n",
       "                        <td id=\"T_49ab1195_3b06_11eb_bb5f_4ccc6acf21berow418_col4\" class=\"data row418 col4\" >Zero</td>\n",
       "                        <td id=\"T_49ab1195_3b06_11eb_bb5f_4ccc6acf21berow418_col5\" class=\"data row418 col5\" >Zero</td>\n",
       "                        <td id=\"T_49ab1195_3b06_11eb_bb5f_4ccc6acf21berow418_col6\" class=\"data row418 col6\" >0.761318</td>\n",
       "            </tr>\n",
       "            <tr>\n",
       "                        <th id=\"T_49ab1195_3b06_11eb_bb5f_4ccc6acf21belevel0_row419\" class=\"row_heading level0 row419\" >526</th>\n",
       "                        <td id=\"T_49ab1195_3b06_11eb_bb5f_4ccc6acf21berow419_col0\" class=\"data row419 col0\" >0.667143</td>\n",
       "                        <td id=\"T_49ab1195_3b06_11eb_bb5f_4ccc6acf21berow419_col1\" class=\"data row419 col1\" >0.794348</td>\n",
       "                        <td id=\"T_49ab1195_3b06_11eb_bb5f_4ccc6acf21berow419_col2\" class=\"data row419 col2\" >0.170491</td>\n",
       "                        <td id=\"T_49ab1195_3b06_11eb_bb5f_4ccc6acf21berow419_col3\" class=\"data row419 col3\" >0.477018</td>\n",
       "                        <td id=\"T_49ab1195_3b06_11eb_bb5f_4ccc6acf21berow419_col4\" class=\"data row419 col4\" >Zero</td>\n",
       "                        <td id=\"T_49ab1195_3b06_11eb_bb5f_4ccc6acf21berow419_col5\" class=\"data row419 col5\" >Zero</td>\n",
       "                        <td id=\"T_49ab1195_3b06_11eb_bb5f_4ccc6acf21berow419_col6\" class=\"data row419 col6\" >0.761388</td>\n",
       "            </tr>\n",
       "            <tr>\n",
       "                        <th id=\"T_49ab1195_3b06_11eb_bb5f_4ccc6acf21belevel0_row420\" class=\"row_heading level0 row420\" >510</th>\n",
       "                        <td id=\"T_49ab1195_3b06_11eb_bb5f_4ccc6acf21berow420_col0\" class=\"data row420 col0\" >0.765788</td>\n",
       "                        <td id=\"T_49ab1195_3b06_11eb_bb5f_4ccc6acf21berow420_col1\" class=\"data row420 col1\" >0.605189</td>\n",
       "                        <td id=\"T_49ab1195_3b06_11eb_bb5f_4ccc6acf21berow420_col2\" class=\"data row420 col2\" >0.309169</td>\n",
       "                        <td id=\"T_49ab1195_3b06_11eb_bb5f_4ccc6acf21berow420_col3\" class=\"data row420 col3\" >0.843859</td>\n",
       "                        <td id=\"T_49ab1195_3b06_11eb_bb5f_4ccc6acf21berow420_col4\" class=\"data row420 col4\" >Zero</td>\n",
       "                        <td id=\"T_49ab1195_3b06_11eb_bb5f_4ccc6acf21berow420_col5\" class=\"data row420 col5\" >Zero</td>\n",
       "                        <td id=\"T_49ab1195_3b06_11eb_bb5f_4ccc6acf21berow420_col6\" class=\"data row420 col6\" >0.761543</td>\n",
       "            </tr>\n",
       "            <tr>\n",
       "                        <th id=\"T_49ab1195_3b06_11eb_bb5f_4ccc6acf21belevel0_row421\" class=\"row_heading level0 row421\" >348</th>\n",
       "                        <td id=\"T_49ab1195_3b06_11eb_bb5f_4ccc6acf21berow421_col0\" class=\"data row421 col0\" >0.732024</td>\n",
       "                        <td id=\"T_49ab1195_3b06_11eb_bb5f_4ccc6acf21berow421_col1\" class=\"data row421 col1\" >0.631824</td>\n",
       "                        <td id=\"T_49ab1195_3b06_11eb_bb5f_4ccc6acf21berow421_col2\" class=\"data row421 col2\" >0.262549</td>\n",
       "                        <td id=\"T_49ab1195_3b06_11eb_bb5f_4ccc6acf21berow421_col3\" class=\"data row421 col3\" >0.816698</td>\n",
       "                        <td id=\"T_49ab1195_3b06_11eb_bb5f_4ccc6acf21berow421_col4\" class=\"data row421 col4\" >Zero</td>\n",
       "                        <td id=\"T_49ab1195_3b06_11eb_bb5f_4ccc6acf21berow421_col5\" class=\"data row421 col5\" >Zero</td>\n",
       "                        <td id=\"T_49ab1195_3b06_11eb_bb5f_4ccc6acf21berow421_col6\" class=\"data row421 col6\" >0.761947</td>\n",
       "            </tr>\n",
       "            <tr>\n",
       "                        <th id=\"T_49ab1195_3b06_11eb_bb5f_4ccc6acf21belevel0_row422\" class=\"row_heading level0 row422\" >715</th>\n",
       "                        <td id=\"T_49ab1195_3b06_11eb_bb5f_4ccc6acf21berow422_col0\" class=\"data row422 col0\" >0.759629</td>\n",
       "                        <td id=\"T_49ab1195_3b06_11eb_bb5f_4ccc6acf21berow422_col1\" class=\"data row422 col1\" >0.836080</td>\n",
       "                        <td id=\"T_49ab1195_3b06_11eb_bb5f_4ccc6acf21berow422_col2\" class=\"data row422 col2\" >0.097077</td>\n",
       "                        <td id=\"T_49ab1195_3b06_11eb_bb5f_4ccc6acf21berow422_col3\" class=\"data row422 col3\" >0.723459</td>\n",
       "                        <td id=\"T_49ab1195_3b06_11eb_bb5f_4ccc6acf21berow422_col4\" class=\"data row422 col4\" >Zero</td>\n",
       "                        <td id=\"T_49ab1195_3b06_11eb_bb5f_4ccc6acf21berow422_col5\" class=\"data row422 col5\" >Zero</td>\n",
       "                        <td id=\"T_49ab1195_3b06_11eb_bb5f_4ccc6acf21berow422_col6\" class=\"data row422 col6\" >0.762124</td>\n",
       "            </tr>\n",
       "            <tr>\n",
       "                        <th id=\"T_49ab1195_3b06_11eb_bb5f_4ccc6acf21belevel0_row423\" class=\"row_heading level0 row423\" >72</th>\n",
       "                        <td id=\"T_49ab1195_3b06_11eb_bb5f_4ccc6acf21berow423_col0\" class=\"data row423 col0\" >0.848077</td>\n",
       "                        <td id=\"T_49ab1195_3b06_11eb_bb5f_4ccc6acf21berow423_col1\" class=\"data row423 col1\" >0.890128</td>\n",
       "                        <td id=\"T_49ab1195_3b06_11eb_bb5f_4ccc6acf21berow423_col2\" class=\"data row423 col2\" >0.057617</td>\n",
       "                        <td id=\"T_49ab1195_3b06_11eb_bb5f_4ccc6acf21berow423_col3\" class=\"data row423 col3\" >0.426453</td>\n",
       "                        <td id=\"T_49ab1195_3b06_11eb_bb5f_4ccc6acf21berow423_col4\" class=\"data row423 col4\" >Zero</td>\n",
       "                        <td id=\"T_49ab1195_3b06_11eb_bb5f_4ccc6acf21berow423_col5\" class=\"data row423 col5\" >Zero</td>\n",
       "                        <td id=\"T_49ab1195_3b06_11eb_bb5f_4ccc6acf21berow423_col6\" class=\"data row423 col6\" >0.762295</td>\n",
       "            </tr>\n",
       "            <tr>\n",
       "                        <th id=\"T_49ab1195_3b06_11eb_bb5f_4ccc6acf21belevel0_row424\" class=\"row_heading level0 row424\" >402</th>\n",
       "                        <td id=\"T_49ab1195_3b06_11eb_bb5f_4ccc6acf21berow424_col0\" class=\"data row424 col0\" >0.649518</td>\n",
       "                        <td id=\"T_49ab1195_3b06_11eb_bb5f_4ccc6acf21berow424_col1\" class=\"data row424 col1\" >0.774991</td>\n",
       "                        <td id=\"T_49ab1195_3b06_11eb_bb5f_4ccc6acf21berow424_col2\" class=\"data row424 col2\" >0.252582</td>\n",
       "                        <td id=\"T_49ab1195_3b06_11eb_bb5f_4ccc6acf21berow424_col3\" class=\"data row424 col3\" >0.837627</td>\n",
       "                        <td id=\"T_49ab1195_3b06_11eb_bb5f_4ccc6acf21berow424_col4\" class=\"data row424 col4\" >Zero</td>\n",
       "                        <td id=\"T_49ab1195_3b06_11eb_bb5f_4ccc6acf21berow424_col5\" class=\"data row424 col5\" >Zero</td>\n",
       "                        <td id=\"T_49ab1195_3b06_11eb_bb5f_4ccc6acf21berow424_col6\" class=\"data row424 col6\" >0.762759</td>\n",
       "            </tr>\n",
       "            <tr>\n",
       "                        <th id=\"T_49ab1195_3b06_11eb_bb5f_4ccc6acf21belevel0_row425\" class=\"row_heading level0 row425\" >751</th>\n",
       "                        <td id=\"T_49ab1195_3b06_11eb_bb5f_4ccc6acf21berow425_col0\" class=\"data row425 col0\" >0.670424</td>\n",
       "                        <td id=\"T_49ab1195_3b06_11eb_bb5f_4ccc6acf21berow425_col1\" class=\"data row425 col1\" >0.818430</td>\n",
       "                        <td id=\"T_49ab1195_3b06_11eb_bb5f_4ccc6acf21berow425_col2\" class=\"data row425 col2\" >0.217000</td>\n",
       "                        <td id=\"T_49ab1195_3b06_11eb_bb5f_4ccc6acf21berow425_col3\" class=\"data row425 col3\" >0.479955</td>\n",
       "                        <td id=\"T_49ab1195_3b06_11eb_bb5f_4ccc6acf21berow425_col4\" class=\"data row425 col4\" >Zero</td>\n",
       "                        <td id=\"T_49ab1195_3b06_11eb_bb5f_4ccc6acf21berow425_col5\" class=\"data row425 col5\" >Zero</td>\n",
       "                        <td id=\"T_49ab1195_3b06_11eb_bb5f_4ccc6acf21berow425_col6\" class=\"data row425 col6\" >0.763022</td>\n",
       "            </tr>\n",
       "            <tr>\n",
       "                        <th id=\"T_49ab1195_3b06_11eb_bb5f_4ccc6acf21belevel0_row426\" class=\"row_heading level0 row426\" >549</th>\n",
       "                        <td id=\"T_49ab1195_3b06_11eb_bb5f_4ccc6acf21berow426_col0\" class=\"data row426 col0\" >0.762312</td>\n",
       "                        <td id=\"T_49ab1195_3b06_11eb_bb5f_4ccc6acf21berow426_col1\" class=\"data row426 col1\" >0.542160</td>\n",
       "                        <td id=\"T_49ab1195_3b06_11eb_bb5f_4ccc6acf21berow426_col2\" class=\"data row426 col2\" >0.311750</td>\n",
       "                        <td id=\"T_49ab1195_3b06_11eb_bb5f_4ccc6acf21berow426_col3\" class=\"data row426 col3\" >0.953445</td>\n",
       "                        <td id=\"T_49ab1195_3b06_11eb_bb5f_4ccc6acf21berow426_col4\" class=\"data row426 col4\" >Zero</td>\n",
       "                        <td id=\"T_49ab1195_3b06_11eb_bb5f_4ccc6acf21berow426_col5\" class=\"data row426 col5\" >Zero</td>\n",
       "                        <td id=\"T_49ab1195_3b06_11eb_bb5f_4ccc6acf21berow426_col6\" class=\"data row426 col6\" >0.763254</td>\n",
       "            </tr>\n",
       "            <tr>\n",
       "                        <th id=\"T_49ab1195_3b06_11eb_bb5f_4ccc6acf21belevel0_row427\" class=\"row_heading level0 row427\" >628</th>\n",
       "                        <td id=\"T_49ab1195_3b06_11eb_bb5f_4ccc6acf21berow427_col0\" class=\"data row427 col0\" >0.762045</td>\n",
       "                        <td id=\"T_49ab1195_3b06_11eb_bb5f_4ccc6acf21berow427_col1\" class=\"data row427 col1\" >0.542315</td>\n",
       "                        <td id=\"T_49ab1195_3b06_11eb_bb5f_4ccc6acf21berow427_col2\" class=\"data row427 col2\" >0.300640</td>\n",
       "                        <td id=\"T_49ab1195_3b06_11eb_bb5f_4ccc6acf21berow427_col3\" class=\"data row427 col3\" >0.835864</td>\n",
       "                        <td id=\"T_49ab1195_3b06_11eb_bb5f_4ccc6acf21berow427_col4\" class=\"data row427 col4\" >Zero</td>\n",
       "                        <td id=\"T_49ab1195_3b06_11eb_bb5f_4ccc6acf21berow427_col5\" class=\"data row427 col5\" >Zero</td>\n",
       "                        <td id=\"T_49ab1195_3b06_11eb_bb5f_4ccc6acf21berow427_col6\" class=\"data row427 col6\" >0.763377</td>\n",
       "            </tr>\n",
       "            <tr>\n",
       "                        <th id=\"T_49ab1195_3b06_11eb_bb5f_4ccc6acf21belevel0_row428\" class=\"row_heading level0 row428\" >641</th>\n",
       "                        <td id=\"T_49ab1195_3b06_11eb_bb5f_4ccc6acf21berow428_col0\" class=\"data row428 col0\" >0.575785</td>\n",
       "                        <td id=\"T_49ab1195_3b06_11eb_bb5f_4ccc6acf21berow428_col1\" class=\"data row428 col1\" >0.734497</td>\n",
       "                        <td id=\"T_49ab1195_3b06_11eb_bb5f_4ccc6acf21berow428_col2\" class=\"data row428 col2\" >0.308540</td>\n",
       "                        <td id=\"T_49ab1195_3b06_11eb_bb5f_4ccc6acf21berow428_col3\" class=\"data row428 col3\" >0.747680</td>\n",
       "                        <td id=\"T_49ab1195_3b06_11eb_bb5f_4ccc6acf21berow428_col4\" class=\"data row428 col4\" >Zero</td>\n",
       "                        <td id=\"T_49ab1195_3b06_11eb_bb5f_4ccc6acf21berow428_col5\" class=\"data row428 col5\" >Zero</td>\n",
       "                        <td id=\"T_49ab1195_3b06_11eb_bb5f_4ccc6acf21berow428_col6\" class=\"data row428 col6\" >0.763631</td>\n",
       "            </tr>\n",
       "            <tr>\n",
       "                        <th id=\"T_49ab1195_3b06_11eb_bb5f_4ccc6acf21belevel0_row429\" class=\"row_heading level0 row429\" >654</th>\n",
       "                        <td id=\"T_49ab1195_3b06_11eb_bb5f_4ccc6acf21berow429_col0\" class=\"data row429 col0\" >0.761151</td>\n",
       "                        <td id=\"T_49ab1195_3b06_11eb_bb5f_4ccc6acf21berow429_col1\" class=\"data row429 col1\" >0.624157</td>\n",
       "                        <td id=\"T_49ab1195_3b06_11eb_bb5f_4ccc6acf21berow429_col2\" class=\"data row429 col2\" >0.273289</td>\n",
       "                        <td id=\"T_49ab1195_3b06_11eb_bb5f_4ccc6acf21berow429_col3\" class=\"data row429 col3\" >0.814347</td>\n",
       "                        <td id=\"T_49ab1195_3b06_11eb_bb5f_4ccc6acf21berow429_col4\" class=\"data row429 col4\" >Zero</td>\n",
       "                        <td id=\"T_49ab1195_3b06_11eb_bb5f_4ccc6acf21berow429_col5\" class=\"data row429 col5\" >Zero</td>\n",
       "                        <td id=\"T_49ab1195_3b06_11eb_bb5f_4ccc6acf21berow429_col6\" class=\"data row429 col6\" >0.763780</td>\n",
       "            </tr>\n",
       "            <tr>\n",
       "                        <th id=\"T_49ab1195_3b06_11eb_bb5f_4ccc6acf21belevel0_row430\" class=\"row_heading level0 row430\" >68</th>\n",
       "                        <td id=\"T_49ab1195_3b06_11eb_bb5f_4ccc6acf21berow430_col0\" class=\"data row430 col0\" >0.580014</td>\n",
       "                        <td id=\"T_49ab1195_3b06_11eb_bb5f_4ccc6acf21berow430_col1\" class=\"data row430 col1\" >0.806658</td>\n",
       "                        <td id=\"T_49ab1195_3b06_11eb_bb5f_4ccc6acf21berow430_col2\" class=\"data row430 col2\" >0.215560</td>\n",
       "                        <td id=\"T_49ab1195_3b06_11eb_bb5f_4ccc6acf21berow430_col3\" class=\"data row430 col3\" >0.535330</td>\n",
       "                        <td id=\"T_49ab1195_3b06_11eb_bb5f_4ccc6acf21berow430_col4\" class=\"data row430 col4\" >Zero</td>\n",
       "                        <td id=\"T_49ab1195_3b06_11eb_bb5f_4ccc6acf21berow430_col5\" class=\"data row430 col5\" >Zero</td>\n",
       "                        <td id=\"T_49ab1195_3b06_11eb_bb5f_4ccc6acf21berow430_col6\" class=\"data row430 col6\" >0.764334</td>\n",
       "            </tr>\n",
       "            <tr>\n",
       "                        <th id=\"T_49ab1195_3b06_11eb_bb5f_4ccc6acf21belevel0_row431\" class=\"row_heading level0 row431\" >692</th>\n",
       "                        <td id=\"T_49ab1195_3b06_11eb_bb5f_4ccc6acf21berow431_col0\" class=\"data row431 col0\" >0.794640</td>\n",
       "                        <td id=\"T_49ab1195_3b06_11eb_bb5f_4ccc6acf21berow431_col1\" class=\"data row431 col1\" >0.932635</td>\n",
       "                        <td id=\"T_49ab1195_3b06_11eb_bb5f_4ccc6acf21berow431_col2\" class=\"data row431 col2\" >0.058539</td>\n",
       "                        <td id=\"T_49ab1195_3b06_11eb_bb5f_4ccc6acf21berow431_col3\" class=\"data row431 col3\" >0.382244</td>\n",
       "                        <td id=\"T_49ab1195_3b06_11eb_bb5f_4ccc6acf21berow431_col4\" class=\"data row431 col4\" >Zero</td>\n",
       "                        <td id=\"T_49ab1195_3b06_11eb_bb5f_4ccc6acf21berow431_col5\" class=\"data row431 col5\" >Zero</td>\n",
       "                        <td id=\"T_49ab1195_3b06_11eb_bb5f_4ccc6acf21berow431_col6\" class=\"data row431 col6\" >0.764513</td>\n",
       "            </tr>\n",
       "            <tr>\n",
       "                        <th id=\"T_49ab1195_3b06_11eb_bb5f_4ccc6acf21belevel0_row432\" class=\"row_heading level0 row432\" >538</th>\n",
       "                        <td id=\"T_49ab1195_3b06_11eb_bb5f_4ccc6acf21berow432_col0\" class=\"data row432 col0\" >0.559939</td>\n",
       "                        <td id=\"T_49ab1195_3b06_11eb_bb5f_4ccc6acf21berow432_col1\" class=\"data row432 col1\" >0.513356</td>\n",
       "                        <td id=\"T_49ab1195_3b06_11eb_bb5f_4ccc6acf21berow432_col2\" class=\"data row432 col2\" >0.471984</td>\n",
       "                        <td id=\"T_49ab1195_3b06_11eb_bb5f_4ccc6acf21berow432_col3\" class=\"data row432 col3\" >0.654437</td>\n",
       "                        <td id=\"T_49ab1195_3b06_11eb_bb5f_4ccc6acf21berow432_col4\" class=\"data row432 col4\" >Zero</td>\n",
       "                        <td id=\"T_49ab1195_3b06_11eb_bb5f_4ccc6acf21berow432_col5\" class=\"data row432 col5\" >Zero</td>\n",
       "                        <td id=\"T_49ab1195_3b06_11eb_bb5f_4ccc6acf21berow432_col6\" class=\"data row432 col6\" >0.764607</td>\n",
       "            </tr>\n",
       "            <tr>\n",
       "                        <th id=\"T_49ab1195_3b06_11eb_bb5f_4ccc6acf21belevel0_row433\" class=\"row_heading level0 row433\" >283</th>\n",
       "                        <td id=\"T_49ab1195_3b06_11eb_bb5f_4ccc6acf21berow433_col0\" class=\"data row433 col0\" >0.531078</td>\n",
       "                        <td id=\"T_49ab1195_3b06_11eb_bb5f_4ccc6acf21berow433_col1\" class=\"data row433 col1\" >0.481765</td>\n",
       "                        <td id=\"T_49ab1195_3b06_11eb_bb5f_4ccc6acf21berow433_col2\" class=\"data row433 col2\" >0.576148</td>\n",
       "                        <td id=\"T_49ab1195_3b06_11eb_bb5f_4ccc6acf21berow433_col3\" class=\"data row433 col3\" >0.840214</td>\n",
       "                        <td id=\"T_49ab1195_3b06_11eb_bb5f_4ccc6acf21berow433_col4\" class=\"data row433 col4\" >Zero</td>\n",
       "                        <td id=\"T_49ab1195_3b06_11eb_bb5f_4ccc6acf21berow433_col5\" class=\"data row433 col5\" >Zero</td>\n",
       "                        <td id=\"T_49ab1195_3b06_11eb_bb5f_4ccc6acf21berow433_col6\" class=\"data row433 col6\" >0.765222</td>\n",
       "            </tr>\n",
       "            <tr>\n",
       "                        <th id=\"T_49ab1195_3b06_11eb_bb5f_4ccc6acf21belevel0_row434\" class=\"row_heading level0 row434\" >361</th>\n",
       "                        <td id=\"T_49ab1195_3b06_11eb_bb5f_4ccc6acf21berow434_col0\" class=\"data row434 col0\" >0.751927</td>\n",
       "                        <td id=\"T_49ab1195_3b06_11eb_bb5f_4ccc6acf21berow434_col1\" class=\"data row434 col1\" >0.637631</td>\n",
       "                        <td id=\"T_49ab1195_3b06_11eb_bb5f_4ccc6acf21berow434_col2\" class=\"data row434 col2\" >0.266904</td>\n",
       "                        <td id=\"T_49ab1195_3b06_11eb_bb5f_4ccc6acf21berow434_col3\" class=\"data row434 col3\" >0.800120</td>\n",
       "                        <td id=\"T_49ab1195_3b06_11eb_bb5f_4ccc6acf21berow434_col4\" class=\"data row434 col4\" >Zero</td>\n",
       "                        <td id=\"T_49ab1195_3b06_11eb_bb5f_4ccc6acf21berow434_col5\" class=\"data row434 col5\" >Zero</td>\n",
       "                        <td id=\"T_49ab1195_3b06_11eb_bb5f_4ccc6acf21berow434_col6\" class=\"data row434 col6\" >0.765479</td>\n",
       "            </tr>\n",
       "            <tr>\n",
       "                        <th id=\"T_49ab1195_3b06_11eb_bb5f_4ccc6acf21belevel0_row435\" class=\"row_heading level0 row435\" >55</th>\n",
       "                        <td id=\"T_49ab1195_3b06_11eb_bb5f_4ccc6acf21berow435_col0\" class=\"data row435 col0\" >0.855894</td>\n",
       "                        <td id=\"T_49ab1195_3b06_11eb_bb5f_4ccc6acf21berow435_col1\" class=\"data row435 col1\" >0.545412</td>\n",
       "                        <td id=\"T_49ab1195_3b06_11eb_bb5f_4ccc6acf21berow435_col2\" class=\"data row435 col2\" >0.298240</td>\n",
       "                        <td id=\"T_49ab1195_3b06_11eb_bb5f_4ccc6acf21berow435_col3\" class=\"data row435 col3\" >0.885249</td>\n",
       "                        <td id=\"T_49ab1195_3b06_11eb_bb5f_4ccc6acf21berow435_col4\" class=\"data row435 col4\" >Zero</td>\n",
       "                        <td id=\"T_49ab1195_3b06_11eb_bb5f_4ccc6acf21berow435_col5\" class=\"data row435 col5\" >Zero</td>\n",
       "                        <td id=\"T_49ab1195_3b06_11eb_bb5f_4ccc6acf21berow435_col6\" class=\"data row435 col6\" >0.765616</td>\n",
       "            </tr>\n",
       "            <tr>\n",
       "                        <th id=\"T_49ab1195_3b06_11eb_bb5f_4ccc6acf21belevel0_row436\" class=\"row_heading level0 row436\" >193</th>\n",
       "                        <td id=\"T_49ab1195_3b06_11eb_bb5f_4ccc6acf21berow436_col0\" class=\"data row436 col0\" >0.855945</td>\n",
       "                        <td id=\"T_49ab1195_3b06_11eb_bb5f_4ccc6acf21berow436_col1\" class=\"data row436 col1\" >0.630196</td>\n",
       "                        <td id=\"T_49ab1195_3b06_11eb_bb5f_4ccc6acf21berow436_col2\" class=\"data row436 col2\" >0.257270</td>\n",
       "                        <td id=\"T_49ab1195_3b06_11eb_bb5f_4ccc6acf21berow436_col3\" class=\"data row436 col3\" >0.850679</td>\n",
       "                        <td id=\"T_49ab1195_3b06_11eb_bb5f_4ccc6acf21berow436_col4\" class=\"data row436 col4\" >Zero</td>\n",
       "                        <td id=\"T_49ab1195_3b06_11eb_bb5f_4ccc6acf21berow436_col5\" class=\"data row436 col5\" >Zero</td>\n",
       "                        <td id=\"T_49ab1195_3b06_11eb_bb5f_4ccc6acf21berow436_col6\" class=\"data row436 col6\" >0.765633</td>\n",
       "            </tr>\n",
       "            <tr>\n",
       "                        <th id=\"T_49ab1195_3b06_11eb_bb5f_4ccc6acf21belevel0_row437\" class=\"row_heading level0 row437\" >680</th>\n",
       "                        <td id=\"T_49ab1195_3b06_11eb_bb5f_4ccc6acf21berow437_col0\" class=\"data row437 col0\" >0.756377</td>\n",
       "                        <td id=\"T_49ab1195_3b06_11eb_bb5f_4ccc6acf21berow437_col1\" class=\"data row437 col1\" >0.625784</td>\n",
       "                        <td id=\"T_49ab1195_3b06_11eb_bb5f_4ccc6acf21berow437_col2\" class=\"data row437 col2\" >0.271962</td>\n",
       "                        <td id=\"T_49ab1195_3b06_11eb_bb5f_4ccc6acf21berow437_col3\" class=\"data row437 col3\" >0.826927</td>\n",
       "                        <td id=\"T_49ab1195_3b06_11eb_bb5f_4ccc6acf21berow437_col4\" class=\"data row437 col4\" >Zero</td>\n",
       "                        <td id=\"T_49ab1195_3b06_11eb_bb5f_4ccc6acf21berow437_col5\" class=\"data row437 col5\" >Zero</td>\n",
       "                        <td id=\"T_49ab1195_3b06_11eb_bb5f_4ccc6acf21berow437_col6\" class=\"data row437 col6\" >0.765653</td>\n",
       "            </tr>\n",
       "            <tr>\n",
       "                        <th id=\"T_49ab1195_3b06_11eb_bb5f_4ccc6acf21belevel0_row438\" class=\"row_heading level0 row438\" >580</th>\n",
       "                        <td id=\"T_49ab1195_3b06_11eb_bb5f_4ccc6acf21berow438_col0\" class=\"data row438 col0\" >0.847291</td>\n",
       "                        <td id=\"T_49ab1195_3b06_11eb_bb5f_4ccc6acf21berow438_col1\" class=\"data row438 col1\" >0.825783</td>\n",
       "                        <td id=\"T_49ab1195_3b06_11eb_bb5f_4ccc6acf21berow438_col2\" class=\"data row438 col2\" >0.117414</td>\n",
       "                        <td id=\"T_49ab1195_3b06_11eb_bb5f_4ccc6acf21berow438_col3\" class=\"data row438 col3\" >0.641743</td>\n",
       "                        <td id=\"T_49ab1195_3b06_11eb_bb5f_4ccc6acf21berow438_col4\" class=\"data row438 col4\" >Zero</td>\n",
       "                        <td id=\"T_49ab1195_3b06_11eb_bb5f_4ccc6acf21berow438_col5\" class=\"data row438 col5\" >Zero</td>\n",
       "                        <td id=\"T_49ab1195_3b06_11eb_bb5f_4ccc6acf21berow438_col6\" class=\"data row438 col6\" >0.766022</td>\n",
       "            </tr>\n",
       "            <tr>\n",
       "                        <th id=\"T_49ab1195_3b06_11eb_bb5f_4ccc6acf21belevel0_row439\" class=\"row_heading level0 row439\" >645</th>\n",
       "                        <td id=\"T_49ab1195_3b06_11eb_bb5f_4ccc6acf21berow439_col0\" class=\"data row439 col0\" >0.718647</td>\n",
       "                        <td id=\"T_49ab1195_3b06_11eb_bb5f_4ccc6acf21berow439_col1\" class=\"data row439 col1\" >0.741617</td>\n",
       "                        <td id=\"T_49ab1195_3b06_11eb_bb5f_4ccc6acf21berow439_col2\" class=\"data row439 col2\" >0.222906</td>\n",
       "                        <td id=\"T_49ab1195_3b06_11eb_bb5f_4ccc6acf21berow439_col3\" class=\"data row439 col3\" >0.723929</td>\n",
       "                        <td id=\"T_49ab1195_3b06_11eb_bb5f_4ccc6acf21berow439_col4\" class=\"data row439 col4\" >Zero</td>\n",
       "                        <td id=\"T_49ab1195_3b06_11eb_bb5f_4ccc6acf21berow439_col5\" class=\"data row439 col5\" >Zero</td>\n",
       "                        <td id=\"T_49ab1195_3b06_11eb_bb5f_4ccc6acf21berow439_col6\" class=\"data row439 col6\" >0.766100</td>\n",
       "            </tr>\n",
       "            <tr>\n",
       "                        <th id=\"T_49ab1195_3b06_11eb_bb5f_4ccc6acf21belevel0_row440\" class=\"row_heading level0 row440\" >62</th>\n",
       "                        <td id=\"T_49ab1195_3b06_11eb_bb5f_4ccc6acf21berow440_col0\" class=\"data row440 col0\" >0.814941</td>\n",
       "                        <td id=\"T_49ab1195_3b06_11eb_bb5f_4ccc6acf21berow440_col1\" class=\"data row440 col1\" >0.938057</td>\n",
       "                        <td id=\"T_49ab1195_3b06_11eb_bb5f_4ccc6acf21berow440_col2\" class=\"data row440 col2\" >0.051341</td>\n",
       "                        <td id=\"T_49ab1195_3b06_11eb_bb5f_4ccc6acf21berow440_col3\" class=\"data row440 col3\" >0.382125</td>\n",
       "                        <td id=\"T_49ab1195_3b06_11eb_bb5f_4ccc6acf21berow440_col4\" class=\"data row440 col4\" >Zero</td>\n",
       "                        <td id=\"T_49ab1195_3b06_11eb_bb5f_4ccc6acf21berow440_col5\" class=\"data row440 col5\" >Zero</td>\n",
       "                        <td id=\"T_49ab1195_3b06_11eb_bb5f_4ccc6acf21berow440_col6\" class=\"data row440 col6\" >0.766248</td>\n",
       "            </tr>\n",
       "            <tr>\n",
       "                        <th id=\"T_49ab1195_3b06_11eb_bb5f_4ccc6acf21belevel0_row441\" class=\"row_heading level0 row441\" >504</th>\n",
       "                        <td id=\"T_49ab1195_3b06_11eb_bb5f_4ccc6acf21berow441_col0\" class=\"data row441 col0\" >0.711897</td>\n",
       "                        <td id=\"T_49ab1195_3b06_11eb_bb5f_4ccc6acf21berow441_col1\" class=\"data row441 col1\" >0.752921</td>\n",
       "                        <td id=\"T_49ab1195_3b06_11eb_bb5f_4ccc6acf21berow441_col2\" class=\"data row441 col2\" >0.196034</td>\n",
       "                        <td id=\"T_49ab1195_3b06_11eb_bb5f_4ccc6acf21berow441_col3\" class=\"data row441 col3\" >0.723929</td>\n",
       "                        <td id=\"T_49ab1195_3b06_11eb_bb5f_4ccc6acf21berow441_col4\" class=\"data row441 col4\" >Zero</td>\n",
       "                        <td id=\"T_49ab1195_3b06_11eb_bb5f_4ccc6acf21berow441_col5\" class=\"data row441 col5\" >Zero</td>\n",
       "                        <td id=\"T_49ab1195_3b06_11eb_bb5f_4ccc6acf21berow441_col6\" class=\"data row441 col6\" >0.766262</td>\n",
       "            </tr>\n",
       "            <tr>\n",
       "                        <th id=\"T_49ab1195_3b06_11eb_bb5f_4ccc6acf21belevel0_row442\" class=\"row_heading level0 row442\" >304</th>\n",
       "                        <td id=\"T_49ab1195_3b06_11eb_bb5f_4ccc6acf21berow442_col0\" class=\"data row442 col0\" >0.678955</td>\n",
       "                        <td id=\"T_49ab1195_3b06_11eb_bb5f_4ccc6acf21berow442_col1\" class=\"data row442 col1\" >0.907239</td>\n",
       "                        <td id=\"T_49ab1195_3b06_11eb_bb5f_4ccc6acf21berow442_col2\" class=\"data row442 col2\" >0.098107</td>\n",
       "                        <td id=\"T_49ab1195_3b06_11eb_bb5f_4ccc6acf21berow442_col3\" class=\"data row442 col3\" >0.486183</td>\n",
       "                        <td id=\"T_49ab1195_3b06_11eb_bb5f_4ccc6acf21berow442_col4\" class=\"data row442 col4\" >Zero</td>\n",
       "                        <td id=\"T_49ab1195_3b06_11eb_bb5f_4ccc6acf21berow442_col5\" class=\"data row442 col5\" >Zero</td>\n",
       "                        <td id=\"T_49ab1195_3b06_11eb_bb5f_4ccc6acf21berow442_col6\" class=\"data row442 col6\" >0.766304</td>\n",
       "            </tr>\n",
       "            <tr>\n",
       "                        <th id=\"T_49ab1195_3b06_11eb_bb5f_4ccc6acf21belevel0_row443\" class=\"row_heading level0 row443\" >638</th>\n",
       "                        <td id=\"T_49ab1195_3b06_11eb_bb5f_4ccc6acf21berow443_col0\" class=\"data row443 col0\" >0.704079</td>\n",
       "                        <td id=\"T_49ab1195_3b06_11eb_bb5f_4ccc6acf21berow443_col1\" class=\"data row443 col1\" >0.779171</td>\n",
       "                        <td id=\"T_49ab1195_3b06_11eb_bb5f_4ccc6acf21berow443_col2\" class=\"data row443 col2\" >0.202383</td>\n",
       "                        <td id=\"T_49ab1195_3b06_11eb_bb5f_4ccc6acf21berow443_col3\" class=\"data row443 col3\" >0.815288</td>\n",
       "                        <td id=\"T_49ab1195_3b06_11eb_bb5f_4ccc6acf21berow443_col4\" class=\"data row443 col4\" >Zero</td>\n",
       "                        <td id=\"T_49ab1195_3b06_11eb_bb5f_4ccc6acf21berow443_col5\" class=\"data row443 col5\" >Zero</td>\n",
       "                        <td id=\"T_49ab1195_3b06_11eb_bb5f_4ccc6acf21berow443_col6\" class=\"data row443 col6\" >0.766609</td>\n",
       "            </tr>\n",
       "            <tr>\n",
       "                        <th id=\"T_49ab1195_3b06_11eb_bb5f_4ccc6acf21belevel0_row444\" class=\"row_heading level0 row444\" >150</th>\n",
       "                        <td id=\"T_49ab1195_3b06_11eb_bb5f_4ccc6acf21berow444_col0\" class=\"data row444 col0\" >0.835572</td>\n",
       "                        <td id=\"T_49ab1195_3b06_11eb_bb5f_4ccc6acf21berow444_col1\" class=\"data row444 col1\" >0.823227</td>\n",
       "                        <td id=\"T_49ab1195_3b06_11eb_bb5f_4ccc6acf21berow444_col2\" class=\"data row444 col2\" >0.123613</td>\n",
       "                        <td id=\"T_49ab1195_3b06_11eb_bb5f_4ccc6acf21berow444_col3\" class=\"data row444 col3\" >0.632923</td>\n",
       "                        <td id=\"T_49ab1195_3b06_11eb_bb5f_4ccc6acf21berow444_col4\" class=\"data row444 col4\" >Zero</td>\n",
       "                        <td id=\"T_49ab1195_3b06_11eb_bb5f_4ccc6acf21berow444_col5\" class=\"data row444 col5\" >Zero</td>\n",
       "                        <td id=\"T_49ab1195_3b06_11eb_bb5f_4ccc6acf21berow444_col6\" class=\"data row444 col6\" >0.766664</td>\n",
       "            </tr>\n",
       "            <tr>\n",
       "                        <th id=\"T_49ab1195_3b06_11eb_bb5f_4ccc6acf21belevel0_row445\" class=\"row_heading level0 row445\" >600</th>\n",
       "                        <td id=\"T_49ab1195_3b06_11eb_bb5f_4ccc6acf21berow445_col0\" class=\"data row445 col0\" >0.591185</td>\n",
       "                        <td id=\"T_49ab1195_3b06_11eb_bb5f_4ccc6acf21berow445_col1\" class=\"data row445 col1\" >0.754860</td>\n",
       "                        <td id=\"T_49ab1195_3b06_11eb_bb5f_4ccc6acf21berow445_col2\" class=\"data row445 col2\" >0.294514</td>\n",
       "                        <td id=\"T_49ab1195_3b06_11eb_bb5f_4ccc6acf21berow445_col3\" class=\"data row445 col3\" >0.840567</td>\n",
       "                        <td id=\"T_49ab1195_3b06_11eb_bb5f_4ccc6acf21berow445_col4\" class=\"data row445 col4\" >Zero</td>\n",
       "                        <td id=\"T_49ab1195_3b06_11eb_bb5f_4ccc6acf21berow445_col5\" class=\"data row445 col5\" >Zero</td>\n",
       "                        <td id=\"T_49ab1195_3b06_11eb_bb5f_4ccc6acf21berow445_col6\" class=\"data row445 col6\" >0.766837</td>\n",
       "            </tr>\n",
       "            <tr>\n",
       "                        <th id=\"T_49ab1195_3b06_11eb_bb5f_4ccc6acf21belevel0_row446\" class=\"row_heading level0 row446\" >44</th>\n",
       "                        <td id=\"T_49ab1195_3b06_11eb_bb5f_4ccc6acf21berow446_col0\" class=\"data row446 col0\" >0.713800</td>\n",
       "                        <td id=\"T_49ab1195_3b06_11eb_bb5f_4ccc6acf21berow446_col1\" class=\"data row446 col1\" >0.774216</td>\n",
       "                        <td id=\"T_49ab1195_3b06_11eb_bb5f_4ccc6acf21berow446_col2\" class=\"data row446 col2\" >0.193524</td>\n",
       "                        <td id=\"T_49ab1195_3b06_11eb_bb5f_4ccc6acf21berow446_col3\" class=\"data row446 col3\" >0.821284</td>\n",
       "                        <td id=\"T_49ab1195_3b06_11eb_bb5f_4ccc6acf21berow446_col4\" class=\"data row446 col4\" >Zero</td>\n",
       "                        <td id=\"T_49ab1195_3b06_11eb_bb5f_4ccc6acf21berow446_col5\" class=\"data row446 col5\" >Zero</td>\n",
       "                        <td id=\"T_49ab1195_3b06_11eb_bb5f_4ccc6acf21berow446_col6\" class=\"data row446 col6\" >0.767070</td>\n",
       "            </tr>\n",
       "            <tr>\n",
       "                        <th id=\"T_49ab1195_3b06_11eb_bb5f_4ccc6acf21belevel0_row447\" class=\"row_heading level0 row447\" >734</th>\n",
       "                        <td id=\"T_49ab1195_3b06_11eb_bb5f_4ccc6acf21berow447_col0\" class=\"data row447 col0\" >0.709474</td>\n",
       "                        <td id=\"T_49ab1195_3b06_11eb_bb5f_4ccc6acf21berow447_col1\" class=\"data row447 col1\" >0.594734</td>\n",
       "                        <td id=\"T_49ab1195_3b06_11eb_bb5f_4ccc6acf21berow447_col2\" class=\"data row447 col2\" >0.306916</td>\n",
       "                        <td id=\"T_49ab1195_3b06_11eb_bb5f_4ccc6acf21berow447_col3\" class=\"data row447 col3\" >0.812113</td>\n",
       "                        <td id=\"T_49ab1195_3b06_11eb_bb5f_4ccc6acf21berow447_col4\" class=\"data row447 col4\" >Zero</td>\n",
       "                        <td id=\"T_49ab1195_3b06_11eb_bb5f_4ccc6acf21berow447_col5\" class=\"data row447 col5\" >Zero</td>\n",
       "                        <td id=\"T_49ab1195_3b06_11eb_bb5f_4ccc6acf21berow447_col6\" class=\"data row447 col6\" >0.767084</td>\n",
       "            </tr>\n",
       "            <tr>\n",
       "                        <th id=\"T_49ab1195_3b06_11eb_bb5f_4ccc6acf21belevel0_row448\" class=\"row_heading level0 row448\" >1</th>\n",
       "                        <td id=\"T_49ab1195_3b06_11eb_bb5f_4ccc6acf21berow448_col0\" class=\"data row448 col0\" >0.835659</td>\n",
       "                        <td id=\"T_49ab1195_3b06_11eb_bb5f_4ccc6acf21berow448_col1\" class=\"data row448 col1\" >0.820982</td>\n",
       "                        <td id=\"T_49ab1195_3b06_11eb_bb5f_4ccc6acf21berow448_col2\" class=\"data row448 col2\" >0.121804</td>\n",
       "                        <td id=\"T_49ab1195_3b06_11eb_bb5f_4ccc6acf21berow448_col3\" class=\"data row448 col3\" >0.644326</td>\n",
       "                        <td id=\"T_49ab1195_3b06_11eb_bb5f_4ccc6acf21berow448_col4\" class=\"data row448 col4\" >Zero</td>\n",
       "                        <td id=\"T_49ab1195_3b06_11eb_bb5f_4ccc6acf21berow448_col5\" class=\"data row448 col5\" >Zero</td>\n",
       "                        <td id=\"T_49ab1195_3b06_11eb_bb5f_4ccc6acf21berow448_col6\" class=\"data row448 col6\" >0.767092</td>\n",
       "            </tr>\n",
       "            <tr>\n",
       "                        <th id=\"T_49ab1195_3b06_11eb_bb5f_4ccc6acf21belevel0_row449\" class=\"row_heading level0 row449\" >109</th>\n",
       "                        <td id=\"T_49ab1195_3b06_11eb_bb5f_4ccc6acf21berow449_col0\" class=\"data row449 col0\" >0.718142</td>\n",
       "                        <td id=\"T_49ab1195_3b06_11eb_bb5f_4ccc6acf21berow449_col1\" class=\"data row449 col1\" >0.920635</td>\n",
       "                        <td id=\"T_49ab1195_3b06_11eb_bb5f_4ccc6acf21berow449_col2\" class=\"data row449 col2\" >0.083675</td>\n",
       "                        <td id=\"T_49ab1195_3b06_11eb_bb5f_4ccc6acf21berow449_col3\" class=\"data row449 col3\" >0.402466</td>\n",
       "                        <td id=\"T_49ab1195_3b06_11eb_bb5f_4ccc6acf21berow449_col4\" class=\"data row449 col4\" >Zero</td>\n",
       "                        <td id=\"T_49ab1195_3b06_11eb_bb5f_4ccc6acf21berow449_col5\" class=\"data row449 col5\" >Zero</td>\n",
       "                        <td id=\"T_49ab1195_3b06_11eb_bb5f_4ccc6acf21berow449_col6\" class=\"data row449 col6\" >0.767378</td>\n",
       "            </tr>\n",
       "            <tr>\n",
       "                        <th id=\"T_49ab1195_3b06_11eb_bb5f_4ccc6acf21belevel0_row450\" class=\"row_heading level0 row450\" >491</th>\n",
       "                        <td id=\"T_49ab1195_3b06_11eb_bb5f_4ccc6acf21berow450_col0\" class=\"data row450 col0\" >0.728735</td>\n",
       "                        <td id=\"T_49ab1195_3b06_11eb_bb5f_4ccc6acf21berow450_col1\" class=\"data row450 col1\" >0.390710</td>\n",
       "                        <td id=\"T_49ab1195_3b06_11eb_bb5f_4ccc6acf21berow450_col2\" class=\"data row450 col2\" >0.448730</td>\n",
       "                        <td id=\"T_49ab1195_3b06_11eb_bb5f_4ccc6acf21berow450_col3\" class=\"data row450 col3\" >0.852442</td>\n",
       "                        <td id=\"T_49ab1195_3b06_11eb_bb5f_4ccc6acf21berow450_col4\" class=\"data row450 col4\" >Zero</td>\n",
       "                        <td id=\"T_49ab1195_3b06_11eb_bb5f_4ccc6acf21berow450_col5\" class=\"data row450 col5\" >Zero</td>\n",
       "                        <td id=\"T_49ab1195_3b06_11eb_bb5f_4ccc6acf21berow450_col6\" class=\"data row450 col6\" >0.767465</td>\n",
       "            </tr>\n",
       "            <tr>\n",
       "                        <th id=\"T_49ab1195_3b06_11eb_bb5f_4ccc6acf21belevel0_row451\" class=\"row_heading level0 row451\" >644</th>\n",
       "                        <td id=\"T_49ab1195_3b06_11eb_bb5f_4ccc6acf21berow451_col0\" class=\"data row451 col0\" >0.726579</td>\n",
       "                        <td id=\"T_49ab1195_3b06_11eb_bb5f_4ccc6acf21berow451_col1\" class=\"data row451 col1\" >0.418351</td>\n",
       "                        <td id=\"T_49ab1195_3b06_11eb_bb5f_4ccc6acf21berow451_col2\" class=\"data row451 col2\" >0.327585</td>\n",
       "                        <td id=\"T_49ab1195_3b06_11eb_bb5f_4ccc6acf21berow451_col3\" class=\"data row451 col3\" >0.804823</td>\n",
       "                        <td id=\"T_49ab1195_3b06_11eb_bb5f_4ccc6acf21berow451_col4\" class=\"data row451 col4\" >Zero</td>\n",
       "                        <td id=\"T_49ab1195_3b06_11eb_bb5f_4ccc6acf21berow451_col5\" class=\"data row451 col5\" >Zero</td>\n",
       "                        <td id=\"T_49ab1195_3b06_11eb_bb5f_4ccc6acf21berow451_col6\" class=\"data row451 col6\" >0.767529</td>\n",
       "            </tr>\n",
       "            <tr>\n",
       "                        <th id=\"T_49ab1195_3b06_11eb_bb5f_4ccc6acf21belevel0_row452\" class=\"row_heading level0 row452\" >301</th>\n",
       "                        <td id=\"T_49ab1195_3b06_11eb_bb5f_4ccc6acf21berow452_col0\" class=\"data row452 col0\" >0.722151</td>\n",
       "                        <td id=\"T_49ab1195_3b06_11eb_bb5f_4ccc6acf21berow452_col1\" class=\"data row452 col1\" >0.771197</td>\n",
       "                        <td id=\"T_49ab1195_3b06_11eb_bb5f_4ccc6acf21berow452_col2\" class=\"data row452 col2\" >0.216077</td>\n",
       "                        <td id=\"T_49ab1195_3b06_11eb_bb5f_4ccc6acf21berow452_col3\" class=\"data row452 col3\" >0.842095</td>\n",
       "                        <td id=\"T_49ab1195_3b06_11eb_bb5f_4ccc6acf21berow452_col4\" class=\"data row452 col4\" >Zero</td>\n",
       "                        <td id=\"T_49ab1195_3b06_11eb_bb5f_4ccc6acf21berow452_col5\" class=\"data row452 col5\" >Zero</td>\n",
       "                        <td id=\"T_49ab1195_3b06_11eb_bb5f_4ccc6acf21berow452_col6\" class=\"data row452 col6\" >0.767529</td>\n",
       "            </tr>\n",
       "            <tr>\n",
       "                        <th id=\"T_49ab1195_3b06_11eb_bb5f_4ccc6acf21belevel0_row453\" class=\"row_heading level0 row453\" >228</th>\n",
       "                        <td id=\"T_49ab1195_3b06_11eb_bb5f_4ccc6acf21berow453_col0\" class=\"data row453 col0\" >0.732968</td>\n",
       "                        <td id=\"T_49ab1195_3b06_11eb_bb5f_4ccc6acf21berow453_col1\" class=\"data row453 col1\" >0.397988</td>\n",
       "                        <td id=\"T_49ab1195_3b06_11eb_bb5f_4ccc6acf21berow453_col2\" class=\"data row453 col2\" >0.310681</td>\n",
       "                        <td id=\"T_49ab1195_3b06_11eb_bb5f_4ccc6acf21berow453_col3\" class=\"data row453 col3\" >0.743212</td>\n",
       "                        <td id=\"T_49ab1195_3b06_11eb_bb5f_4ccc6acf21berow453_col4\" class=\"data row453 col4\" >Zero</td>\n",
       "                        <td id=\"T_49ab1195_3b06_11eb_bb5f_4ccc6acf21berow453_col5\" class=\"data row453 col5\" >Zero</td>\n",
       "                        <td id=\"T_49ab1195_3b06_11eb_bb5f_4ccc6acf21berow453_col6\" class=\"data row453 col6\" >0.767529</td>\n",
       "            </tr>\n",
       "            <tr>\n",
       "                        <th id=\"T_49ab1195_3b06_11eb_bb5f_4ccc6acf21belevel0_row454\" class=\"row_heading level0 row454\" >149</th>\n",
       "                        <td id=\"T_49ab1195_3b06_11eb_bb5f_4ccc6acf21berow454_col0\" class=\"data row454 col0\" >0.705363</td>\n",
       "                        <td id=\"T_49ab1195_3b06_11eb_bb5f_4ccc6acf21berow454_col1\" class=\"data row454 col1\" >0.792334</td>\n",
       "                        <td id=\"T_49ab1195_3b06_11eb_bb5f_4ccc6acf21berow454_col2\" class=\"data row454 col2\" >0.230805</td>\n",
       "                        <td id=\"T_49ab1195_3b06_11eb_bb5f_4ccc6acf21berow454_col3\" class=\"data row454 col3\" >0.547205</td>\n",
       "                        <td id=\"T_49ab1195_3b06_11eb_bb5f_4ccc6acf21berow454_col4\" class=\"data row454 col4\" >Zero</td>\n",
       "                        <td id=\"T_49ab1195_3b06_11eb_bb5f_4ccc6acf21berow454_col5\" class=\"data row454 col5\" >Zero</td>\n",
       "                        <td id=\"T_49ab1195_3b06_11eb_bb5f_4ccc6acf21berow454_col6\" class=\"data row454 col6\" >0.767529</td>\n",
       "            </tr>\n",
       "            <tr>\n",
       "                        <th id=\"T_49ab1195_3b06_11eb_bb5f_4ccc6acf21belevel0_row455\" class=\"row_heading level0 row455\" >473</th>\n",
       "                        <td id=\"T_49ab1195_3b06_11eb_bb5f_4ccc6acf21berow455_col0\" class=\"data row455 col0\" >0.711262</td>\n",
       "                        <td id=\"T_49ab1195_3b06_11eb_bb5f_4ccc6acf21berow455_col1\" class=\"data row455 col1\" >0.788929</td>\n",
       "                        <td id=\"T_49ab1195_3b06_11eb_bb5f_4ccc6acf21berow455_col2\" class=\"data row455 col2\" >0.192454</td>\n",
       "                        <td id=\"T_49ab1195_3b06_11eb_bb5f_4ccc6acf21berow455_col3\" class=\"data row455 col3\" >0.606472</td>\n",
       "                        <td id=\"T_49ab1195_3b06_11eb_bb5f_4ccc6acf21berow455_col4\" class=\"data row455 col4\" >Zero</td>\n",
       "                        <td id=\"T_49ab1195_3b06_11eb_bb5f_4ccc6acf21berow455_col5\" class=\"data row455 col5\" >Zero</td>\n",
       "                        <td id=\"T_49ab1195_3b06_11eb_bb5f_4ccc6acf21berow455_col6\" class=\"data row455 col6\" >0.767529</td>\n",
       "            </tr>\n",
       "            <tr>\n",
       "                        <th id=\"T_49ab1195_3b06_11eb_bb5f_4ccc6acf21belevel0_row456\" class=\"row_heading level0 row456\" >701</th>\n",
       "                        <td id=\"T_49ab1195_3b06_11eb_bb5f_4ccc6acf21berow456_col0\" class=\"data row456 col0\" >0.911026</td>\n",
       "                        <td id=\"T_49ab1195_3b06_11eb_bb5f_4ccc6acf21berow456_col1\" class=\"data row456 col1\" >0.906929</td>\n",
       "                        <td id=\"T_49ab1195_3b06_11eb_bb5f_4ccc6acf21berow456_col2\" class=\"data row456 col2\" >0.038865</td>\n",
       "                        <td id=\"T_49ab1195_3b06_11eb_bb5f_4ccc6acf21berow456_col3\" class=\"data row456 col3\" >0.382835</td>\n",
       "                        <td id=\"T_49ab1195_3b06_11eb_bb5f_4ccc6acf21berow456_col4\" class=\"data row456 col4\" >Zero</td>\n",
       "                        <td id=\"T_49ab1195_3b06_11eb_bb5f_4ccc6acf21berow456_col5\" class=\"data row456 col5\" >Zero</td>\n",
       "                        <td id=\"T_49ab1195_3b06_11eb_bb5f_4ccc6acf21berow456_col6\" class=\"data row456 col6\" >0.767529</td>\n",
       "            </tr>\n",
       "            <tr>\n",
       "                        <th id=\"T_49ab1195_3b06_11eb_bb5f_4ccc6acf21belevel0_row457\" class=\"row_heading level0 row457\" >381</th>\n",
       "                        <td id=\"T_49ab1195_3b06_11eb_bb5f_4ccc6acf21berow457_col0\" class=\"data row457 col0\" >0.898607</td>\n",
       "                        <td id=\"T_49ab1195_3b06_11eb_bb5f_4ccc6acf21berow457_col1\" class=\"data row457 col1\" >0.895007</td>\n",
       "                        <td id=\"T_49ab1195_3b06_11eb_bb5f_4ccc6acf21berow457_col2\" class=\"data row457 col2\" >0.051785</td>\n",
       "                        <td id=\"T_49ab1195_3b06_11eb_bb5f_4ccc6acf21berow457_col3\" class=\"data row457 col3\" >0.440919</td>\n",
       "                        <td id=\"T_49ab1195_3b06_11eb_bb5f_4ccc6acf21berow457_col4\" class=\"data row457 col4\" >Zero</td>\n",
       "                        <td id=\"T_49ab1195_3b06_11eb_bb5f_4ccc6acf21berow457_col5\" class=\"data row457 col5\" >Zero</td>\n",
       "                        <td id=\"T_49ab1195_3b06_11eb_bb5f_4ccc6acf21berow457_col6\" class=\"data row457 col6\" >0.767529</td>\n",
       "            </tr>\n",
       "            <tr>\n",
       "                        <th id=\"T_49ab1195_3b06_11eb_bb5f_4ccc6acf21belevel0_row458\" class=\"row_heading level0 row458\" >485</th>\n",
       "                        <td id=\"T_49ab1195_3b06_11eb_bb5f_4ccc6acf21berow458_col0\" class=\"data row458 col0\" >0.771593</td>\n",
       "                        <td id=\"T_49ab1195_3b06_11eb_bb5f_4ccc6acf21berow458_col1\" class=\"data row458 col1\" >0.787766</td>\n",
       "                        <td id=\"T_49ab1195_3b06_11eb_bb5f_4ccc6acf21berow458_col2\" class=\"data row458 col2\" >0.129963</td>\n",
       "                        <td id=\"T_49ab1195_3b06_11eb_bb5f_4ccc6acf21berow458_col3\" class=\"data row458 col3\" >0.673250</td>\n",
       "                        <td id=\"T_49ab1195_3b06_11eb_bb5f_4ccc6acf21berow458_col4\" class=\"data row458 col4\" >Zero</td>\n",
       "                        <td id=\"T_49ab1195_3b06_11eb_bb5f_4ccc6acf21berow458_col5\" class=\"data row458 col5\" >Zero</td>\n",
       "                        <td id=\"T_49ab1195_3b06_11eb_bb5f_4ccc6acf21berow458_col6\" class=\"data row458 col6\" >0.767529</td>\n",
       "            </tr>\n",
       "            <tr>\n",
       "                        <th id=\"T_49ab1195_3b06_11eb_bb5f_4ccc6acf21belevel0_row459\" class=\"row_heading level0 row459\" >136</th>\n",
       "                        <td id=\"T_49ab1195_3b06_11eb_bb5f_4ccc6acf21berow459_col0\" class=\"data row459 col0\" >0.899992</td>\n",
       "                        <td id=\"T_49ab1195_3b06_11eb_bb5f_4ccc6acf21berow459_col1\" class=\"data row459 col1\" >0.869608</td>\n",
       "                        <td id=\"T_49ab1195_3b06_11eb_bb5f_4ccc6acf21berow459_col2\" class=\"data row459 col2\" >0.014836</td>\n",
       "                        <td id=\"T_49ab1195_3b06_11eb_bb5f_4ccc6acf21berow459_col3\" class=\"data row459 col3\" >0.420815</td>\n",
       "                        <td id=\"T_49ab1195_3b06_11eb_bb5f_4ccc6acf21berow459_col4\" class=\"data row459 col4\" >Zero</td>\n",
       "                        <td id=\"T_49ab1195_3b06_11eb_bb5f_4ccc6acf21berow459_col5\" class=\"data row459 col5\" >Zero</td>\n",
       "                        <td id=\"T_49ab1195_3b06_11eb_bb5f_4ccc6acf21berow459_col6\" class=\"data row459 col6\" >0.767529</td>\n",
       "            </tr>\n",
       "            <tr>\n",
       "                        <th id=\"T_49ab1195_3b06_11eb_bb5f_4ccc6acf21belevel0_row460\" class=\"row_heading level0 row460\" >529</th>\n",
       "                        <td id=\"T_49ab1195_3b06_11eb_bb5f_4ccc6acf21berow460_col0\" class=\"data row460 col0\" >0.407705</td>\n",
       "                        <td id=\"T_49ab1195_3b06_11eb_bb5f_4ccc6acf21berow460_col1\" class=\"data row460 col1\" >0.983199</td>\n",
       "                        <td id=\"T_49ab1195_3b06_11eb_bb5f_4ccc6acf21berow460_col2\" class=\"data row460 col2\" >0.257492</td>\n",
       "                        <td id=\"T_49ab1195_3b06_11eb_bb5f_4ccc6acf21berow460_col3\" class=\"data row460 col3\" >0.090883</td>\n",
       "                        <td id=\"T_49ab1195_3b06_11eb_bb5f_4ccc6acf21berow460_col4\" class=\"data row460 col4\" >Zero</td>\n",
       "                        <td id=\"T_49ab1195_3b06_11eb_bb5f_4ccc6acf21berow460_col5\" class=\"data row460 col5\" >Zero</td>\n",
       "                        <td id=\"T_49ab1195_3b06_11eb_bb5f_4ccc6acf21berow460_col6\" class=\"data row460 col6\" >0.767529</td>\n",
       "            </tr>\n",
       "            <tr>\n",
       "                        <th id=\"T_49ab1195_3b06_11eb_bb5f_4ccc6acf21belevel0_row461\" class=\"row_heading level0 row461\" >183</th>\n",
       "                        <td id=\"T_49ab1195_3b06_11eb_bb5f_4ccc6acf21berow461_col0\" class=\"data row461 col0\" >0.720002</td>\n",
       "                        <td id=\"T_49ab1195_3b06_11eb_bb5f_4ccc6acf21berow461_col1\" class=\"data row461 col1\" >0.792645</td>\n",
       "                        <td id=\"T_49ab1195_3b06_11eb_bb5f_4ccc6acf21berow461_col2\" class=\"data row461 col2\" >0.185625</td>\n",
       "                        <td id=\"T_49ab1195_3b06_11eb_bb5f_4ccc6acf21berow461_col3\" class=\"data row461 col3\" >0.696886</td>\n",
       "                        <td id=\"T_49ab1195_3b06_11eb_bb5f_4ccc6acf21berow461_col4\" class=\"data row461 col4\" >Zero</td>\n",
       "                        <td id=\"T_49ab1195_3b06_11eb_bb5f_4ccc6acf21berow461_col5\" class=\"data row461 col5\" >Zero</td>\n",
       "                        <td id=\"T_49ab1195_3b06_11eb_bb5f_4ccc6acf21berow461_col6\" class=\"data row461 col6\" >0.767529</td>\n",
       "            </tr>\n",
       "            <tr>\n",
       "                        <th id=\"T_49ab1195_3b06_11eb_bb5f_4ccc6acf21belevel0_row462\" class=\"row_heading level0 row462\" >717</th>\n",
       "                        <td id=\"T_49ab1195_3b06_11eb_bb5f_4ccc6acf21berow462_col0\" class=\"data row462 col0\" >0.723139</td>\n",
       "                        <td id=\"T_49ab1195_3b06_11eb_bb5f_4ccc6acf21berow462_col1\" class=\"data row462 col1\" >0.787302</td>\n",
       "                        <td id=\"T_49ab1195_3b06_11eb_bb5f_4ccc6acf21berow462_col2\" class=\"data row462 col2\" >0.210098</td>\n",
       "                        <td id=\"T_49ab1195_3b06_11eb_bb5f_4ccc6acf21berow462_col3\" class=\"data row462 col3\" >0.573311</td>\n",
       "                        <td id=\"T_49ab1195_3b06_11eb_bb5f_4ccc6acf21berow462_col4\" class=\"data row462 col4\" >Zero</td>\n",
       "                        <td id=\"T_49ab1195_3b06_11eb_bb5f_4ccc6acf21berow462_col5\" class=\"data row462 col5\" >Zero</td>\n",
       "                        <td id=\"T_49ab1195_3b06_11eb_bb5f_4ccc6acf21berow462_col6\" class=\"data row462 col6\" >0.767529</td>\n",
       "            </tr>\n",
       "            <tr>\n",
       "                        <th id=\"T_49ab1195_3b06_11eb_bb5f_4ccc6acf21belevel0_row463\" class=\"row_heading level0 row463\" >619</th>\n",
       "                        <td id=\"T_49ab1195_3b06_11eb_bb5f_4ccc6acf21berow463_col0\" class=\"data row463 col0\" >0.548906</td>\n",
       "                        <td id=\"T_49ab1195_3b06_11eb_bb5f_4ccc6acf21berow463_col1\" class=\"data row463 col1\" >0.800851</td>\n",
       "                        <td id=\"T_49ab1195_3b06_11eb_bb5f_4ccc6acf21berow463_col2\" class=\"data row463 col2\" >0.295582</td>\n",
       "                        <td id=\"T_49ab1195_3b06_11eb_bb5f_4ccc6acf21berow463_col3\" class=\"data row463 col3\" >0.484183</td>\n",
       "                        <td id=\"T_49ab1195_3b06_11eb_bb5f_4ccc6acf21berow463_col4\" class=\"data row463 col4\" >Zero</td>\n",
       "                        <td id=\"T_49ab1195_3b06_11eb_bb5f_4ccc6acf21berow463_col5\" class=\"data row463 col5\" >Zero</td>\n",
       "                        <td id=\"T_49ab1195_3b06_11eb_bb5f_4ccc6acf21berow463_col6\" class=\"data row463 col6\" >0.767529</td>\n",
       "            </tr>\n",
       "            <tr>\n",
       "                        <th id=\"T_49ab1195_3b06_11eb_bb5f_4ccc6acf21belevel0_row464\" class=\"row_heading level0 row464\" >572</th>\n",
       "                        <td id=\"T_49ab1195_3b06_11eb_bb5f_4ccc6acf21berow464_col0\" class=\"data row464 col0\" >0.904752</td>\n",
       "                        <td id=\"T_49ab1195_3b06_11eb_bb5f_4ccc6acf21berow464_col1\" class=\"data row464 col1\" >0.903292</td>\n",
       "                        <td id=\"T_49ab1195_3b06_11eb_bb5f_4ccc6acf21berow464_col2\" class=\"data row464 col2\" >0.037612</td>\n",
       "                        <td id=\"T_49ab1195_3b06_11eb_bb5f_4ccc6acf21berow464_col3\" class=\"data row464 col3\" >0.411641</td>\n",
       "                        <td id=\"T_49ab1195_3b06_11eb_bb5f_4ccc6acf21berow464_col4\" class=\"data row464 col4\" >Zero</td>\n",
       "                        <td id=\"T_49ab1195_3b06_11eb_bb5f_4ccc6acf21berow464_col5\" class=\"data row464 col5\" >Zero</td>\n",
       "                        <td id=\"T_49ab1195_3b06_11eb_bb5f_4ccc6acf21berow464_col6\" class=\"data row464 col6\" >0.767529</td>\n",
       "            </tr>\n",
       "            <tr>\n",
       "                        <th id=\"T_49ab1195_3b06_11eb_bb5f_4ccc6acf21belevel0_row465\" class=\"row_heading level0 row465\" >64</th>\n",
       "                        <td id=\"T_49ab1195_3b06_11eb_bb5f_4ccc6acf21berow465_col0\" class=\"data row465 col0\" >0.897403</td>\n",
       "                        <td id=\"T_49ab1195_3b06_11eb_bb5f_4ccc6acf21berow465_col1\" class=\"data row465 col1\" >0.631513</td>\n",
       "                        <td id=\"T_49ab1195_3b06_11eb_bb5f_4ccc6acf21berow465_col2\" class=\"data row465 col2\" >0.178021</td>\n",
       "                        <td id=\"T_49ab1195_3b06_11eb_bb5f_4ccc6acf21berow465_col3\" class=\"data row465 col3\" >0.919583</td>\n",
       "                        <td id=\"T_49ab1195_3b06_11eb_bb5f_4ccc6acf21berow465_col4\" class=\"data row465 col4\" >Zero</td>\n",
       "                        <td id=\"T_49ab1195_3b06_11eb_bb5f_4ccc6acf21berow465_col5\" class=\"data row465 col5\" >Zero</td>\n",
       "                        <td id=\"T_49ab1195_3b06_11eb_bb5f_4ccc6acf21berow465_col6\" class=\"data row465 col6\" >0.767529</td>\n",
       "            </tr>\n",
       "            <tr>\n",
       "                        <th id=\"T_49ab1195_3b06_11eb_bb5f_4ccc6acf21belevel0_row466\" class=\"row_heading level0 row466\" >204</th>\n",
       "                        <td id=\"T_49ab1195_3b06_11eb_bb5f_4ccc6acf21berow466_col0\" class=\"data row466 col0\" >0.567901</td>\n",
       "                        <td id=\"T_49ab1195_3b06_11eb_bb5f_4ccc6acf21berow466_col1\" class=\"data row466 col1\" >0.797521</td>\n",
       "                        <td id=\"T_49ab1195_3b06_11eb_bb5f_4ccc6acf21berow466_col2\" class=\"data row466 col2\" >0.255720</td>\n",
       "                        <td id=\"T_49ab1195_3b06_11eb_bb5f_4ccc6acf21berow466_col3\" class=\"data row466 col3\" >0.693123</td>\n",
       "                        <td id=\"T_49ab1195_3b06_11eb_bb5f_4ccc6acf21berow466_col4\" class=\"data row466 col4\" >Zero</td>\n",
       "                        <td id=\"T_49ab1195_3b06_11eb_bb5f_4ccc6acf21berow466_col5\" class=\"data row466 col5\" >Zero</td>\n",
       "                        <td id=\"T_49ab1195_3b06_11eb_bb5f_4ccc6acf21berow466_col6\" class=\"data row466 col6\" >0.767529</td>\n",
       "            </tr>\n",
       "    </tbody></table>"
      ],
      "text/plain": [
       "<pandas.io.formats.style.Styler at 0x23c999a1f10>"
      ]
     },
     "metadata": {},
     "output_type": "display_data"
    },
    {
     "name": "stderr",
     "output_type": "stream",
     "text": [
      "  0%|                                                                                          | 0/467 [00:00<?, ?it/s]"
     ]
    },
    {
     "name": "stdout",
     "output_type": "stream",
     "text": [
      "-----------------------------------------------------------------------------------\n",
      "Level 1\n",
      "Level 2\n"
     ]
    },
    {
     "name": "stderr",
     "output_type": "stream",
     "text": [
      "100%|███████████████████████████████████████████████████████████████████████████████| 467/467 [00:02<00:00, 158.85it/s]\n"
     ]
    },
    {
     "name": "stdout",
     "output_type": "stream",
     "text": [
      "Level 3\n",
      "Level 4\n",
      "Accuracy: 0.9764453961456103\n",
      "Precision: [1.         0.95925926]\n",
      "Recall: [0.94711538 1.        ]\n",
      "F-Score: [0.97283951 0.97920605]\n",
      "Support: [208 259]\n",
      "-----------------------------------------------------------------------------------\n",
      "Center Point: 0.487421875\n",
      "Time: 3.1330924034118652\n",
      "-----------------------------------------------------------------------------------\n"
     ]
    },
    {
     "name": "stderr",
     "output_type": "stream",
     "text": [
      "  0%|▏                                                                                 | 2/905 [00:00<00:45, 19.85it/s]"
     ]
    },
    {
     "name": "stdout",
     "output_type": "stream",
     "text": [
      "Level 1\n",
      "Level 2\n"
     ]
    },
    {
     "name": "stderr",
     "output_type": "stream",
     "text": [
      "100%|███████████████████████████████████████████████████████████████████████████████| 905/905 [00:05<00:00, 161.12it/s]\n",
      "  0%|                                                                                          | 0/814 [00:00<?, ?it/s]"
     ]
    },
    {
     "name": "stdout",
     "output_type": "stream",
     "text": [
      "Level 3\n",
      "Level 4\n",
      "Level 1\n",
      "Level 2\n"
     ]
    },
    {
     "name": "stderr",
     "output_type": "stream",
     "text": [
      "100%|███████████████████████████████████████████████████████████████████████████████| 814/814 [00:05<00:00, 155.45it/s]\n"
     ]
    },
    {
     "name": "stdout",
     "output_type": "stream",
     "text": [
      "Level 3\n",
      "Level 4\n"
     ]
    },
    {
     "name": "stderr",
     "output_type": "stream",
     "text": [
      "  0%|                                                                                           | 0/91 [00:00<?, ?it/s]"
     ]
    },
    {
     "name": "stdout",
     "output_type": "stream",
     "text": [
      "Accuracy: 1.0\n",
      "Precision: [1. 1.]\n",
      "Recall: [1. 1.]\n",
      "F-Score: [1. 1.]\n",
      "Support: [362 452]\n",
      "Level 1\n",
      "Level 2\n"
     ]
    },
    {
     "name": "stderr",
     "output_type": "stream",
     "text": [
      "100%|█████████████████████████████████████████████████████████████████████████████████| 91/91 [00:00<00:00, 133.11it/s]\n"
     ]
    },
    {
     "name": "stdout",
     "output_type": "stream",
     "text": [
      "Level 3\n",
      "Level 4\n",
      "Accuracy: 0.989010989010989\n",
      "Precision: [1.         0.98076923]\n",
      "Recall: [0.975 1.   ]\n",
      "F-Score: [0.98734177 0.99029126]\n",
      "Support: [40 51]\n",
      "-----------------------------------------------------------------------------------\n",
      "Center Point: 0.487421875\n",
      "Threshold: 0.48777588889110723\n",
      "Train Accuracy: 0.989010989010989\n",
      "Test Accuracy: 0.989010989010989\n",
      "Time: 70.37096953392029\n",
      "-----------------------------------------------------------------------------------\n"
     ]
    },
    {
     "data": {
      "text/html": [
       "<div>\n",
       "<style scoped>\n",
       "    .dataframe tbody tr th:only-of-type {\n",
       "        vertical-align: middle;\n",
       "    }\n",
       "\n",
       "    .dataframe tbody tr th {\n",
       "        vertical-align: top;\n",
       "    }\n",
       "\n",
       "    .dataframe thead th {\n",
       "        text-align: right;\n",
       "    }\n",
       "</style>\n",
       "<table border=\"1\" class=\"dataframe\">\n",
       "  <thead>\n",
       "    <tr style=\"text-align: right;\">\n",
       "      <th></th>\n",
       "      <th>F0</th>\n",
       "      <th>F1</th>\n",
       "      <th>F2</th>\n",
       "      <th>F3</th>\n",
       "      <th>Decision</th>\n",
       "      <th>Decision Fuzzy</th>\n",
       "      <th>Predicted Value</th>\n",
       "    </tr>\n",
       "  </thead>\n",
       "  <tbody>\n",
       "    <tr>\n",
       "      <th>1253</th>\n",
       "      <td>0.179492</td>\n",
       "      <td>0.044442</td>\n",
       "      <td>0.892920</td>\n",
       "      <td>0.641034</td>\n",
       "      <td>One</td>\n",
       "      <td>One</td>\n",
       "      <td>0.220776</td>\n",
       "    </tr>\n",
       "    <tr>\n",
       "      <th>1125</th>\n",
       "      <td>0.248332</td>\n",
       "      <td>0.004258</td>\n",
       "      <td>0.986120</td>\n",
       "      <td>0.550615</td>\n",
       "      <td>One</td>\n",
       "      <td>One</td>\n",
       "      <td>0.220776</td>\n",
       "    </tr>\n",
       "    <tr>\n",
       "      <th>1247</th>\n",
       "      <td>0.184944</td>\n",
       "      <td>0.027795</td>\n",
       "      <td>0.963642</td>\n",
       "      <td>0.501350</td>\n",
       "      <td>One</td>\n",
       "      <td>One</td>\n",
       "      <td>0.220776</td>\n",
       "    </tr>\n",
       "    <tr>\n",
       "      <th>826</th>\n",
       "      <td>0.204162</td>\n",
       "      <td>0.048625</td>\n",
       "      <td>0.872617</td>\n",
       "      <td>0.651027</td>\n",
       "      <td>One</td>\n",
       "      <td>One</td>\n",
       "      <td>0.220776</td>\n",
       "    </tr>\n",
       "    <tr>\n",
       "      <th>863</th>\n",
       "      <td>0.522414</td>\n",
       "      <td>0.587146</td>\n",
       "      <td>0.086299</td>\n",
       "      <td>0.721107</td>\n",
       "      <td>One</td>\n",
       "      <td>One</td>\n",
       "      <td>0.220776</td>\n",
       "    </tr>\n",
       "    <tr>\n",
       "      <th>...</th>\n",
       "      <td>...</td>\n",
       "      <td>...</td>\n",
       "      <td>...</td>\n",
       "      <td>...</td>\n",
       "      <td>...</td>\n",
       "      <td>...</td>\n",
       "      <td>...</td>\n",
       "    </tr>\n",
       "    <tr>\n",
       "      <th>607</th>\n",
       "      <td>0.922174</td>\n",
       "      <td>0.896321</td>\n",
       "      <td>0.021556</td>\n",
       "      <td>0.382953</td>\n",
       "      <td>Zero</td>\n",
       "      <td>Zero</td>\n",
       "      <td>0.767523</td>\n",
       "    </tr>\n",
       "    <tr>\n",
       "      <th>278</th>\n",
       "      <td>0.572425</td>\n",
       "      <td>0.806348</td>\n",
       "      <td>0.109367</td>\n",
       "      <td>0.601298</td>\n",
       "      <td>Zero</td>\n",
       "      <td>Zero</td>\n",
       "      <td>0.767523</td>\n",
       "    </tr>\n",
       "    <tr>\n",
       "      <th>8</th>\n",
       "      <td>0.738831</td>\n",
       "      <td>0.730856</td>\n",
       "      <td>0.195259</td>\n",
       "      <td>0.721577</td>\n",
       "      <td>Zero</td>\n",
       "      <td>Zero</td>\n",
       "      <td>0.767523</td>\n",
       "    </tr>\n",
       "    <tr>\n",
       "      <th>131</th>\n",
       "      <td>0.877795</td>\n",
       "      <td>0.839800</td>\n",
       "      <td>0.103164</td>\n",
       "      <td>0.640097</td>\n",
       "      <td>Zero</td>\n",
       "      <td>Zero</td>\n",
       "      <td>0.767523</td>\n",
       "    </tr>\n",
       "    <tr>\n",
       "      <th>405</th>\n",
       "      <td>0.550370</td>\n",
       "      <td>0.793262</td>\n",
       "      <td>0.280931</td>\n",
       "      <td>0.508170</td>\n",
       "      <td>Zero</td>\n",
       "      <td>Zero</td>\n",
       "      <td>0.767523</td>\n",
       "    </tr>\n",
       "  </tbody>\n",
       "</table>\n",
       "<p>814 rows × 7 columns</p>\n",
       "</div>"
      ],
      "text/plain": [
       "            F0        F1        F2        F3 Decision Decision Fuzzy  \\\n",
       "1253  0.179492  0.044442  0.892920  0.641034      One            One   \n",
       "1125  0.248332  0.004258  0.986120  0.550615      One            One   \n",
       "1247  0.184944  0.027795  0.963642  0.501350      One            One   \n",
       "826   0.204162  0.048625  0.872617  0.651027      One            One   \n",
       "863   0.522414  0.587146  0.086299  0.721107      One            One   \n",
       "...        ...       ...       ...       ...      ...            ...   \n",
       "607   0.922174  0.896321  0.021556  0.382953     Zero           Zero   \n",
       "278   0.572425  0.806348  0.109367  0.601298     Zero           Zero   \n",
       "8     0.738831  0.730856  0.195259  0.721577     Zero           Zero   \n",
       "131   0.877795  0.839800  0.103164  0.640097     Zero           Zero   \n",
       "405   0.550370  0.793262  0.280931  0.508170     Zero           Zero   \n",
       "\n",
       "      Predicted Value  \n",
       "1253         0.220776  \n",
       "1125         0.220776  \n",
       "1247         0.220776  \n",
       "826          0.220776  \n",
       "863          0.220776  \n",
       "...               ...  \n",
       "607          0.767523  \n",
       "278          0.767523  \n",
       "8            0.767523  \n",
       "131          0.767523  \n",
       "405          0.767523  \n",
       "\n",
       "[814 rows x 7 columns]"
      ]
     },
     "metadata": {},
     "output_type": "display_data"
    }
   ],
   "source": [
    "import Settings.GeneralSettings as generalSettings\n",
    "from Settings.SettingsDataBanknoteAuthentication import Settings as Settings\n",
    "settings = Settings(generalSettings)\n",
    "\n",
    "optimizeBruteForceKFold = OptimizeBruteForceKFold(settings, settings.s_function_width)\n",
    "valueTest = ValueTest(settings, settings.s_function_width, False)\n",
    "\n",
    "best_s_function_center, mean_s_function_center, changed_decisions, features_number_after_reduct, implicants_number = optimizeBruteForceKFold.worker(settings, settings.constraints, settings.s_function_width, settings.n_folds)\n",
    "\n",
    "\n",
    "valueTest.sOptymalizationWorker(settings, best_s_function_center, \"Test Value - K-Fold - Best Function Center\")\n",
    "threshold = optimizeBruteForceKFold.thresholdWorker(settings, best_s_function_center, settings.s_function_width)\n",
    "valueTest.thresholdWorker(settings, best_s_function_center, threshold)\n",
    "\n",
    "valueTest.sOptymalizationWorker(settings, mean_s_function_center, \"Test Value - K-Fold - Average Function Center\")\n",
    "threshold = optimizeBruteForceKFold.thresholdWorker(settings, mean_s_function_center, settings.s_function_width)\n",
    "valueTest.thresholdWorker(settings, mean_s_function_center, threshold)"
   ]
  },
  {
   "cell_type": "markdown",
   "metadata": {},
   "source": [
    "## IT2 Offset Optymalization For The Most Promising Set Of Parameters"
   ]
  },
  {
   "cell_type": "code",
   "execution_count": 3,
   "metadata": {},
   "outputs": [],
   "source": [
    "import Settings.GeneralSettings as generalSettings\n",
    "from Settings.SettingsDataBanknoteAuthentication import Settings as Settings\n",
    "\n",
    "banknoteT2 = pd.read_csv(r'C:\\Users\\AdrianCh\\Ki67-master\\Test - Datasets\\ResultsIT2\\DataBanknoteIT2ResultsNoOpt.csv')\n",
    "banknoteT2.sort_values(['F1 Score'], inplace=True, ascending=False)\n",
    "best_values = banknoteT2[:4]"
   ]
  },
  {
   "cell_type": "code",
   "execution_count": 4,
   "metadata": {},
   "outputs": [
    {
     "name": "stdout",
     "output_type": "stream",
     "text": [
      "Gausses: 11 Style: Gaussian Equal Adjustment: -2 Sigma Offset: 0.0 Center Offset: 0.0\n",
      "Gaussian Equal\n",
      "-----------------------------------------------------------------------------------\n"
     ]
    },
    {
     "name": "stderr",
     "output_type": "stream",
     "text": [
      "  0%|                                                                                          | 0/905 [00:00<?, ?it/s]"
     ]
    },
    {
     "name": "stdout",
     "output_type": "stream",
     "text": [
      "Level 1\n",
      "Level 2\n"
     ]
    },
    {
     "name": "stderr",
     "output_type": "stream",
     "text": [
      "100%|████████████████████████████████████████████████████████████████████████████████| 905/905 [05:27<00:00,  2.76it/s]\n"
     ]
    },
    {
     "name": "stdout",
     "output_type": "stream",
     "text": [
      "Level 3\n",
      "Level 4\n",
      "Accuracy: 1.0\n",
      "Precision: [1. 1.]\n",
      "Recall: [1. 1.]\n",
      "F-Score: [1. 1.]\n",
      "Support: [402 503]\n",
      "-----------------------------------------------------------------------------------\n"
     ]
    },
    {
     "name": "stderr",
     "output_type": "stream",
     "text": [
      "  0%|                                                                                          | 0/467 [00:00<?, ?it/s]"
     ]
    },
    {
     "name": "stdout",
     "output_type": "stream",
     "text": [
      "Level 1\n",
      "Level 2\n"
     ]
    },
    {
     "name": "stderr",
     "output_type": "stream",
     "text": [
      "100%|████████████████████████████████████████████████████████████████████████████████| 467/467 [02:53<00:00,  2.69it/s]\n"
     ]
    },
    {
     "name": "stdout",
     "output_type": "stream",
     "text": [
      "Level 3\n",
      "Level 4\n",
      "Accuracy: 0.9914346895074947\n",
      "Precision: [0.98571429 0.99610895]\n",
      "Recall: [0.99519231 0.98841699]\n",
      "F-Score: [0.99043062 0.99224806]\n",
      "Support: [208 259]\n",
      "Gausses: 11 Style: Gaussian Equal Adjustment: -2 Sigma Offset: 0.0 Center Offset: 0.02\n",
      "Gaussian Equal\n",
      "-----------------------------------------------------------------------------------\n"
     ]
    },
    {
     "name": "stderr",
     "output_type": "stream",
     "text": [
      "  0%|                                                                                          | 0/905 [00:00<?, ?it/s]"
     ]
    },
    {
     "name": "stdout",
     "output_type": "stream",
     "text": [
      "Level 1\n",
      "Level 2\n"
     ]
    },
    {
     "name": "stderr",
     "output_type": "stream",
     "text": [
      "100%|████████████████████████████████████████████████████████████████████████████████| 905/905 [05:26<00:00,  2.77it/s]\n"
     ]
    },
    {
     "name": "stdout",
     "output_type": "stream",
     "text": [
      "Level 3\n",
      "Level 4\n",
      "Accuracy: 1.0\n",
      "Precision: [1. 1.]\n",
      "Recall: [1. 1.]\n",
      "F-Score: [1. 1.]\n",
      "Support: [402 503]\n",
      "-----------------------------------------------------------------------------------\n"
     ]
    },
    {
     "name": "stderr",
     "output_type": "stream",
     "text": [
      "  0%|                                                                                          | 0/467 [00:00<?, ?it/s]"
     ]
    },
    {
     "name": "stdout",
     "output_type": "stream",
     "text": [
      "Level 1\n",
      "Level 2\n"
     ]
    },
    {
     "name": "stderr",
     "output_type": "stream",
     "text": [
      "100%|████████████████████████████████████████████████████████████████████████████████| 467/467 [02:48<00:00,  2.77it/s]\n"
     ]
    },
    {
     "name": "stdout",
     "output_type": "stream",
     "text": [
      "Level 3\n",
      "Level 4\n",
      "Accuracy: 0.9914346895074947\n",
      "Precision: [0.98571429 0.99610895]\n",
      "Recall: [0.99519231 0.98841699]\n",
      "F-Score: [0.99043062 0.99224806]\n",
      "Support: [208 259]\n",
      "Gausses: 11 Style: Gaussian Equal Adjustment: -2 Sigma Offset: 0.0 Center Offset: 0.04\n",
      "Gaussian Equal\n",
      "-----------------------------------------------------------------------------------\n"
     ]
    },
    {
     "name": "stderr",
     "output_type": "stream",
     "text": [
      "  0%|                                                                                          | 0/905 [00:00<?, ?it/s]"
     ]
    },
    {
     "name": "stdout",
     "output_type": "stream",
     "text": [
      "Level 1\n",
      "Level 2\n"
     ]
    },
    {
     "name": "stderr",
     "output_type": "stream",
     "text": [
      "100%|████████████████████████████████████████████████████████████████████████████████| 905/905 [05:27<00:00,  2.77it/s]\n"
     ]
    },
    {
     "name": "stdout",
     "output_type": "stream",
     "text": [
      "Level 3\n",
      "Level 4\n",
      "Accuracy: 1.0\n",
      "Precision: [1. 1.]\n",
      "Recall: [1. 1.]\n",
      "F-Score: [1. 1.]\n",
      "Support: [402 503]\n",
      "-----------------------------------------------------------------------------------\n"
     ]
    },
    {
     "name": "stderr",
     "output_type": "stream",
     "text": [
      "  0%|                                                                                          | 0/467 [00:00<?, ?it/s]"
     ]
    },
    {
     "name": "stdout",
     "output_type": "stream",
     "text": [
      "Level 1\n",
      "Level 2\n"
     ]
    },
    {
     "name": "stderr",
     "output_type": "stream",
     "text": [
      "100%|████████████████████████████████████████████████████████████████████████████████| 467/467 [03:01<00:00,  2.58it/s]\n"
     ]
    },
    {
     "name": "stdout",
     "output_type": "stream",
     "text": [
      "Level 3\n",
      "Level 4\n",
      "Accuracy: 0.9914346895074947\n",
      "Precision: [0.98571429 0.99610895]\n",
      "Recall: [0.99519231 0.98841699]\n",
      "F-Score: [0.99043062 0.99224806]\n",
      "Support: [208 259]\n",
      "Gausses: 11 Style: Gaussian Equal Adjustment: -2 Sigma Offset: 0.0 Center Offset: 0.06\n",
      "Gaussian Equal\n",
      "-----------------------------------------------------------------------------------\n"
     ]
    },
    {
     "name": "stderr",
     "output_type": "stream",
     "text": [
      "  0%|                                                                                          | 0/905 [00:00<?, ?it/s]"
     ]
    },
    {
     "name": "stdout",
     "output_type": "stream",
     "text": [
      "Level 1\n",
      "Level 2\n"
     ]
    },
    {
     "name": "stderr",
     "output_type": "stream",
     "text": [
      " 61%|█████████████████████████████████████████████████▏                              | 556/905 [03:50<01:48,  3.23it/s]"
     ]
    },
    {
     "name": "stdout",
     "output_type": "stream",
     "text": [
      "!!!!!!!!!!!!!!!!!!!!!!!!!!!!!!!!!!!!!!!\n"
     ]
    },
    {
     "name": "stderr",
     "output_type": "stream",
     "text": [
      " 62%|█████████████████████████████████████████████████▍                              | 559/905 [03:51<02:23,  2.41it/s]\n"
     ]
    },
    {
     "ename": "KeyboardInterrupt",
     "evalue": "",
     "output_type": "error",
     "traceback": [
      "\u001b[1;31m---------------------------------------------------------------------------\u001b[0m",
      "\u001b[1;31mKeyboardInterrupt\u001b[0m                         Traceback (most recent call last)",
      "\u001b[1;32m<ipython-input-4-16f6b6cc29bb>\u001b[0m in \u001b[0;36m<module>\u001b[1;34m\u001b[0m\n\u001b[0;32m     38\u001b[0m \u001b[1;33m\u001b[0m\u001b[0m\n\u001b[0;32m     39\u001b[0m             \u001b[0mvalueTest\u001b[0m \u001b[1;33m=\u001b[0m \u001b[0mValueTest\u001b[0m\u001b[1;33m(\u001b[0m\u001b[0msettings\u001b[0m\u001b[1;33m,\u001b[0m \u001b[0msettings\u001b[0m\u001b[1;33m.\u001b[0m\u001b[0ms_function_width\u001b[0m\u001b[1;33m,\u001b[0m \u001b[0msettings\u001b[0m\u001b[1;33m.\u001b[0m\u001b[0mis_training\u001b[0m\u001b[1;33m)\u001b[0m\u001b[1;33m\u001b[0m\u001b[1;33m\u001b[0m\u001b[0m\n\u001b[1;32m---> 40\u001b[1;33m             \u001b[0mvalueTest\u001b[0m\u001b[1;33m.\u001b[0m\u001b[0msOptymalizationWorker\u001b[0m\u001b[1;33m(\u001b[0m\u001b[0msettings\u001b[0m\u001b[1;33m,\u001b[0m \u001b[0msettings\u001b[0m\u001b[1;33m.\u001b[0m\u001b[0mdefault_s_value\u001b[0m\u001b[1;33m,\u001b[0m \u001b[0msettings\u001b[0m\u001b[1;33m.\u001b[0m\u001b[0mshow_results\u001b[0m\u001b[1;33m,\u001b[0m \u001b[0mcenter_offset\u001b[0m\u001b[1;33m)\u001b[0m\u001b[1;33m\u001b[0m\u001b[1;33m\u001b[0m\u001b[0m\n\u001b[0m\u001b[0;32m     41\u001b[0m \u001b[1;33m\u001b[0m\u001b[0m\n\u001b[0;32m     42\u001b[0m             \u001b[0mvalueTest\u001b[0m \u001b[1;33m=\u001b[0m \u001b[0mValueTest\u001b[0m\u001b[1;33m(\u001b[0m\u001b[0msettings\u001b[0m\u001b[1;33m,\u001b[0m \u001b[0msettings\u001b[0m\u001b[1;33m.\u001b[0m\u001b[0ms_function_width\u001b[0m\u001b[1;33m,\u001b[0m \u001b[1;32mnot\u001b[0m \u001b[0msettings\u001b[0m\u001b[1;33m.\u001b[0m\u001b[0mis_training\u001b[0m\u001b[1;33m)\u001b[0m\u001b[1;33m\u001b[0m\u001b[1;33m\u001b[0m\u001b[0m\n",
      "\u001b[1;32m~\\Ki67-master\\Scripts\\ValueTest.py\u001b[0m in \u001b[0;36msOptymalizationWorker\u001b[1;34m(self, settings, center_point, show_results, center_offset)\u001b[0m\n\u001b[0;32m     93\u001b[0m \u001b[1;33m\u001b[0m\u001b[0m\n\u001b[0;32m     94\u001b[0m     \u001b[1;32mdef\u001b[0m \u001b[0msOptymalizationWorker\u001b[0m\u001b[1;33m(\u001b[0m\u001b[0mself\u001b[0m\u001b[1;33m,\u001b[0m \u001b[0msettings\u001b[0m\u001b[1;33m,\u001b[0m \u001b[0mcenter_point\u001b[0m\u001b[1;33m,\u001b[0m \u001b[0mshow_results\u001b[0m \u001b[1;33m=\u001b[0m \u001b[1;32mTrue\u001b[0m\u001b[1;33m,\u001b[0m \u001b[0mcenter_offset\u001b[0m \u001b[1;33m=\u001b[0m \u001b[1;36m0\u001b[0m\u001b[1;33m)\u001b[0m\u001b[1;33m:\u001b[0m\u001b[1;33m\u001b[0m\u001b[1;33m\u001b[0m\u001b[0m\n\u001b[1;32m---> 95\u001b[1;33m             \u001b[0mself\u001b[0m\u001b[1;33m.\u001b[0m\u001b[0msFunction\u001b[0m\u001b[1;33m(\u001b[0m\u001b[0msettings\u001b[0m\u001b[1;33m,\u001b[0m \u001b[0mcenter_point\u001b[0m\u001b[1;33m,\u001b[0m \u001b[1;34m\"Value S-Functions\"\u001b[0m\u001b[1;33m,\u001b[0m \u001b[0mshow_results\u001b[0m\u001b[1;33m,\u001b[0m \u001b[0mcenter_offset\u001b[0m\u001b[1;33m)\u001b[0m\u001b[1;33m\u001b[0m\u001b[1;33m\u001b[0m\u001b[0m\n\u001b[0m\u001b[0;32m     96\u001b[0m \u001b[1;33m\u001b[0m\u001b[0m\n\u001b[0;32m     97\u001b[0m     \u001b[1;32mdef\u001b[0m \u001b[0mthresholdWorker\u001b[0m\u001b[1;33m(\u001b[0m\u001b[0mself\u001b[0m\u001b[1;33m,\u001b[0m \u001b[0msettings\u001b[0m\u001b[1;33m,\u001b[0m \u001b[0ms_function_center\u001b[0m\u001b[1;33m,\u001b[0m \u001b[0mthreshold\u001b[0m\u001b[1;33m,\u001b[0m \u001b[0mprecision\u001b[0m \u001b[1;33m=\u001b[0m \u001b[1;36m0.001\u001b[0m\u001b[1;33m,\u001b[0m \u001b[0mshow_results\u001b[0m \u001b[1;33m=\u001b[0m \u001b[1;32mTrue\u001b[0m\u001b[1;33m)\u001b[0m\u001b[1;33m:\u001b[0m\u001b[1;33m\u001b[0m\u001b[1;33m\u001b[0m\u001b[0m\n",
      "\u001b[1;32m~\\Ki67-master\\Scripts\\ValueTest.py\u001b[0m in \u001b[0;36msFunction\u001b[1;34m(self, settings, s_function_center, title, show_results, center_offset)\u001b[0m\n\u001b[0;32m     53\u001b[0m         \u001b[0mprint\u001b[0m\u001b[1;33m(\u001b[0m\u001b[1;34m\"-----------------------------------------------------------------------------------\"\u001b[0m\u001b[1;33m)\u001b[0m\u001b[1;33m\u001b[0m\u001b[1;33m\u001b[0m\u001b[0m\n\u001b[0;32m     54\u001b[0m         \u001b[0mstart\u001b[0m \u001b[1;33m=\u001b[0m \u001b[0mtime\u001b[0m\u001b[1;33m.\u001b[0m\u001b[0mtime\u001b[0m\u001b[1;33m(\u001b[0m\u001b[1;33m)\u001b[0m\u001b[1;33m\u001b[0m\u001b[1;33m\u001b[0m\u001b[0m\n\u001b[1;32m---> 55\u001b[1;33m         \u001b[0m_\u001b[0m\u001b[1;33m,\u001b[0m \u001b[0mdf\u001b[0m \u001b[1;33m=\u001b[0m \u001b[0mself\u001b[0m\u001b[1;33m.\u001b[0m\u001b[0mfuzzyHelper\u001b[0m\u001b[1;33m.\u001b[0m\u001b[0msFunctionsValue\u001b[0m\u001b[1;33m(\u001b[0m\u001b[0ms_function_center\u001b[0m\u001b[1;33m,\u001b[0m \u001b[0mself\u001b[0m\u001b[1;33m.\u001b[0m\u001b[0ms_function_width\u001b[0m\u001b[1;33m,\u001b[0m \u001b[0mself\u001b[0m\u001b[1;33m.\u001b[0m\u001b[0mdf\u001b[0m\u001b[1;33m,\u001b[0m \u001b[0msettings\u001b[0m\u001b[1;33m,\u001b[0m \u001b[0mself\u001b[0m\u001b[1;33m.\u001b[0m\u001b[0mx_range\u001b[0m\u001b[1;33m,\u001b[0m \u001b[0mself\u001b[0m\u001b[1;33m.\u001b[0m\u001b[0mrules_extractor\u001b[0m\u001b[1;33m,\u001b[0m \u001b[0mself\u001b[0m\u001b[1;33m.\u001b[0m\u001b[0mrule_antecedents\u001b[0m\u001b[1;33m,\u001b[0m \u001b[0mself\u001b[0m\u001b[1;33m.\u001b[0m\u001b[0md_results\u001b[0m\u001b[1;33m,\u001b[0m \u001b[0mself\u001b[0m\u001b[1;33m.\u001b[0m\u001b[0mdecision\u001b[0m\u001b[1;33m,\u001b[0m \u001b[0mcenter_offset\u001b[0m\u001b[1;33m)\u001b[0m\u001b[1;33m\u001b[0m\u001b[1;33m\u001b[0m\u001b[0m\n\u001b[0m\u001b[0;32m     56\u001b[0m         \u001b[0mend\u001b[0m \u001b[1;33m=\u001b[0m \u001b[0mtime\u001b[0m\u001b[1;33m.\u001b[0m\u001b[0mtime\u001b[0m\u001b[1;33m(\u001b[0m\u001b[1;33m)\u001b[0m\u001b[1;33m\u001b[0m\u001b[1;33m\u001b[0m\u001b[0m\n\u001b[0;32m     57\u001b[0m \u001b[1;33m\u001b[0m\u001b[0m\n",
      "\u001b[1;32m~\\Ki67-master\\Class\\FuzzyHelper.py\u001b[0m in \u001b[0;36msFunctionsValue\u001b[1;34m(self, center_point, width, df, settings, x_range, rules_extractor, rule_antecedents, d_results, decision, center_offset)\u001b[0m\n\u001b[0;32m    162\u001b[0m \u001b[1;33m\u001b[0m\u001b[0m\n\u001b[0;32m    163\u001b[0m     \u001b[1;32mdef\u001b[0m \u001b[0msFunctionsValue\u001b[0m\u001b[1;33m(\u001b[0m\u001b[0mself\u001b[0m\u001b[1;33m,\u001b[0m \u001b[0mcenter_point\u001b[0m\u001b[1;33m,\u001b[0m \u001b[0mwidth\u001b[0m\u001b[1;33m,\u001b[0m \u001b[0mdf\u001b[0m\u001b[1;33m,\u001b[0m \u001b[0msettings\u001b[0m\u001b[1;33m,\u001b[0m \u001b[0mx_range\u001b[0m\u001b[1;33m,\u001b[0m \u001b[0mrules_extractor\u001b[0m\u001b[1;33m,\u001b[0m \u001b[0mrule_antecedents\u001b[0m\u001b[1;33m,\u001b[0m \u001b[0md_results\u001b[0m\u001b[1;33m,\u001b[0m \u001b[0mdecision\u001b[0m\u001b[1;33m,\u001b[0m \u001b[0mcenter_offset\u001b[0m \u001b[1;33m=\u001b[0m \u001b[1;36m0\u001b[0m\u001b[1;33m)\u001b[0m\u001b[1;33m:\u001b[0m\u001b[1;33m\u001b[0m\u001b[1;33m\u001b[0m\u001b[0m\n\u001b[1;32m--> 164\u001b[1;33m         \u001b[0maccuracy\u001b[0m\u001b[1;33m,\u001b[0m \u001b[0mdf\u001b[0m \u001b[1;33m=\u001b[0m \u001b[0mself\u001b[0m\u001b[1;33m.\u001b[0m\u001b[0msFunctionsWorker\u001b[0m\u001b[1;33m(\u001b[0m\u001b[0mdf\u001b[0m\u001b[1;33m,\u001b[0m \u001b[0mx_range\u001b[0m\u001b[1;33m,\u001b[0m \u001b[0mcenter_point\u001b[0m\u001b[1;33m,\u001b[0m \u001b[0mwidth\u001b[0m\u001b[1;33m,\u001b[0m \u001b[0mrules_extractor\u001b[0m\u001b[1;33m,\u001b[0m \u001b[0mrule_antecedents\u001b[0m\u001b[1;33m,\u001b[0m \u001b[0md_results\u001b[0m\u001b[1;33m,\u001b[0m \u001b[0mdecision\u001b[0m\u001b[1;33m,\u001b[0m \u001b[0mcenter_offset\u001b[0m\u001b[1;33m)\u001b[0m\u001b[1;33m\u001b[0m\u001b[1;33m\u001b[0m\u001b[0m\n\u001b[0m\u001b[0;32m    165\u001b[0m         \u001b[1;32mreturn\u001b[0m \u001b[0maccuracy\u001b[0m\u001b[1;33m,\u001b[0m \u001b[0mdf\u001b[0m\u001b[1;33m\u001b[0m\u001b[1;33m\u001b[0m\u001b[0m\n\u001b[0;32m    166\u001b[0m \u001b[1;33m\u001b[0m\u001b[0m\n",
      "\u001b[1;32m~\\Ki67-master\\Class\\FuzzyHelper.py\u001b[0m in \u001b[0;36msFunctionsWorker\u001b[1;34m(self, df, x_range, center_point, width, rules_extractor, rule_antecedents, d_results, decision, center_offset)\u001b[0m\n\u001b[0;32m    139\u001b[0m \u001b[1;33m\u001b[0m\u001b[0m\n\u001b[0;32m    140\u001b[0m         \u001b[0mprint\u001b[0m\u001b[1;33m(\u001b[0m\u001b[1;34m\"Level 2\"\u001b[0m\u001b[1;33m)\u001b[0m\u001b[1;33m\u001b[0m\u001b[1;33m\u001b[0m\u001b[0m\n\u001b[1;32m--> 141\u001b[1;33m         \u001b[0mdf\u001b[0m \u001b[1;33m=\u001b[0m \u001b[0mdf\u001b[0m\u001b[1;33m.\u001b[0m\u001b[0mprogress_apply\u001b[0m\u001b[1;33m(\u001b[0m\u001b[0mself\u001b[0m\u001b[1;33m.\u001b[0m\u001b[0mmakePrediction\u001b[0m\u001b[1;33m,\u001b[0m \u001b[0mclassing\u001b[0m \u001b[1;33m=\u001b[0m \u001b[0mclassing\u001b[0m\u001b[1;33m,\u001b[0m \u001b[0mrules_feature_names\u001b[0m \u001b[1;33m=\u001b[0m \u001b[0mrules_feature_names\u001b[0m\u001b[1;33m,\u001b[0m \u001b[0mdecision\u001b[0m \u001b[1;33m=\u001b[0m \u001b[0mdecision\u001b[0m\u001b[1;33m,\u001b[0m \u001b[0maxis\u001b[0m\u001b[1;33m=\u001b[0m\u001b[1;36m1\u001b[0m\u001b[1;33m)\u001b[0m\u001b[1;33m\u001b[0m\u001b[1;33m\u001b[0m\u001b[0m\n\u001b[0m\u001b[0;32m    142\u001b[0m         \u001b[0mprint\u001b[0m\u001b[1;33m(\u001b[0m\u001b[1;34m\"Level 3\"\u001b[0m\u001b[1;33m)\u001b[0m\u001b[1;33m\u001b[0m\u001b[1;33m\u001b[0m\u001b[0m\n\u001b[0;32m    143\u001b[0m         \u001b[0maccuracy\u001b[0m\u001b[1;33m,\u001b[0m \u001b[0mdf\u001b[0m \u001b[1;33m=\u001b[0m \u001b[0mself\u001b[0m\u001b[1;33m.\u001b[0m\u001b[0mthresholdOptValue\u001b[0m\u001b[1;33m(\u001b[0m\u001b[0mcenter_point\u001b[0m\u001b[1;33m,\u001b[0m \u001b[0mdf\u001b[0m\u001b[1;33m)\u001b[0m\u001b[1;33m\u001b[0m\u001b[1;33m\u001b[0m\u001b[0m\n",
      "\u001b[1;32mF:\\Anaconda\\envs\\Fuzzy_Systems_Program\\lib\\site-packages\\tqdm\\std.py\u001b[0m in \u001b[0;36minner\u001b[1;34m(df, func, *args, **kwargs)\u001b[0m\n\u001b[0;32m    797\u001b[0m                 \u001b[1;31m# on the df using our wrapper (which provides bar updating)\u001b[0m\u001b[1;33m\u001b[0m\u001b[1;33m\u001b[0m\u001b[1;33m\u001b[0m\u001b[0m\n\u001b[0;32m    798\u001b[0m                 \u001b[1;32mtry\u001b[0m\u001b[1;33m:\u001b[0m\u001b[1;33m\u001b[0m\u001b[1;33m\u001b[0m\u001b[0m\n\u001b[1;32m--> 799\u001b[1;33m                     \u001b[1;32mreturn\u001b[0m \u001b[0mgetattr\u001b[0m\u001b[1;33m(\u001b[0m\u001b[0mdf\u001b[0m\u001b[1;33m,\u001b[0m \u001b[0mdf_function\u001b[0m\u001b[1;33m)\u001b[0m\u001b[1;33m(\u001b[0m\u001b[0mwrapper\u001b[0m\u001b[1;33m,\u001b[0m \u001b[1;33m**\u001b[0m\u001b[0mkwargs\u001b[0m\u001b[1;33m)\u001b[0m\u001b[1;33m\u001b[0m\u001b[1;33m\u001b[0m\u001b[0m\n\u001b[0m\u001b[0;32m    800\u001b[0m                 \u001b[1;32mfinally\u001b[0m\u001b[1;33m:\u001b[0m\u001b[1;33m\u001b[0m\u001b[1;33m\u001b[0m\u001b[0m\n\u001b[0;32m    801\u001b[0m                     \u001b[0mt\u001b[0m\u001b[1;33m.\u001b[0m\u001b[0mclose\u001b[0m\u001b[1;33m(\u001b[0m\u001b[1;33m)\u001b[0m\u001b[1;33m\u001b[0m\u001b[1;33m\u001b[0m\u001b[0m\n",
      "\u001b[1;32mF:\\Anaconda\\envs\\Fuzzy_Systems_Program\\lib\\site-packages\\pandas\\core\\frame.py\u001b[0m in \u001b[0;36mapply\u001b[1;34m(self, func, axis, raw, result_type, args, **kwds)\u001b[0m\n\u001b[0;32m   7550\u001b[0m             \u001b[0mkwds\u001b[0m\u001b[1;33m=\u001b[0m\u001b[0mkwds\u001b[0m\u001b[1;33m,\u001b[0m\u001b[1;33m\u001b[0m\u001b[1;33m\u001b[0m\u001b[0m\n\u001b[0;32m   7551\u001b[0m         )\n\u001b[1;32m-> 7552\u001b[1;33m         \u001b[1;32mreturn\u001b[0m \u001b[0mop\u001b[0m\u001b[1;33m.\u001b[0m\u001b[0mget_result\u001b[0m\u001b[1;33m(\u001b[0m\u001b[1;33m)\u001b[0m\u001b[1;33m\u001b[0m\u001b[1;33m\u001b[0m\u001b[0m\n\u001b[0m\u001b[0;32m   7553\u001b[0m \u001b[1;33m\u001b[0m\u001b[0m\n\u001b[0;32m   7554\u001b[0m     \u001b[1;32mdef\u001b[0m \u001b[0mapplymap\u001b[0m\u001b[1;33m(\u001b[0m\u001b[0mself\u001b[0m\u001b[1;33m,\u001b[0m \u001b[0mfunc\u001b[0m\u001b[1;33m)\u001b[0m \u001b[1;33m->\u001b[0m \u001b[1;34m\"DataFrame\"\u001b[0m\u001b[1;33m:\u001b[0m\u001b[1;33m\u001b[0m\u001b[1;33m\u001b[0m\u001b[0m\n",
      "\u001b[1;32mF:\\Anaconda\\envs\\Fuzzy_Systems_Program\\lib\\site-packages\\pandas\\core\\apply.py\u001b[0m in \u001b[0;36mget_result\u001b[1;34m(self)\u001b[0m\n\u001b[0;32m    178\u001b[0m             \u001b[1;32mreturn\u001b[0m \u001b[0mself\u001b[0m\u001b[1;33m.\u001b[0m\u001b[0mapply_raw\u001b[0m\u001b[1;33m(\u001b[0m\u001b[1;33m)\u001b[0m\u001b[1;33m\u001b[0m\u001b[1;33m\u001b[0m\u001b[0m\n\u001b[0;32m    179\u001b[0m \u001b[1;33m\u001b[0m\u001b[0m\n\u001b[1;32m--> 180\u001b[1;33m         \u001b[1;32mreturn\u001b[0m \u001b[0mself\u001b[0m\u001b[1;33m.\u001b[0m\u001b[0mapply_standard\u001b[0m\u001b[1;33m(\u001b[0m\u001b[1;33m)\u001b[0m\u001b[1;33m\u001b[0m\u001b[1;33m\u001b[0m\u001b[0m\n\u001b[0m\u001b[0;32m    181\u001b[0m \u001b[1;33m\u001b[0m\u001b[0m\n\u001b[0;32m    182\u001b[0m     \u001b[1;32mdef\u001b[0m \u001b[0mapply_empty_result\u001b[0m\u001b[1;33m(\u001b[0m\u001b[0mself\u001b[0m\u001b[1;33m)\u001b[0m\u001b[1;33m:\u001b[0m\u001b[1;33m\u001b[0m\u001b[1;33m\u001b[0m\u001b[0m\n",
      "\u001b[1;32mF:\\Anaconda\\envs\\Fuzzy_Systems_Program\\lib\\site-packages\\pandas\\core\\apply.py\u001b[0m in \u001b[0;36mapply_standard\u001b[1;34m(self)\u001b[0m\n\u001b[0;32m    269\u001b[0m \u001b[1;33m\u001b[0m\u001b[0m\n\u001b[0;32m    270\u001b[0m     \u001b[1;32mdef\u001b[0m \u001b[0mapply_standard\u001b[0m\u001b[1;33m(\u001b[0m\u001b[0mself\u001b[0m\u001b[1;33m)\u001b[0m\u001b[1;33m:\u001b[0m\u001b[1;33m\u001b[0m\u001b[1;33m\u001b[0m\u001b[0m\n\u001b[1;32m--> 271\u001b[1;33m         \u001b[0mresults\u001b[0m\u001b[1;33m,\u001b[0m \u001b[0mres_index\u001b[0m \u001b[1;33m=\u001b[0m \u001b[0mself\u001b[0m\u001b[1;33m.\u001b[0m\u001b[0mapply_series_generator\u001b[0m\u001b[1;33m(\u001b[0m\u001b[1;33m)\u001b[0m\u001b[1;33m\u001b[0m\u001b[1;33m\u001b[0m\u001b[0m\n\u001b[0m\u001b[0;32m    272\u001b[0m \u001b[1;33m\u001b[0m\u001b[0m\n\u001b[0;32m    273\u001b[0m         \u001b[1;31m# wrap results\u001b[0m\u001b[1;33m\u001b[0m\u001b[1;33m\u001b[0m\u001b[1;33m\u001b[0m\u001b[0m\n",
      "\u001b[1;32mF:\\Anaconda\\envs\\Fuzzy_Systems_Program\\lib\\site-packages\\pandas\\core\\apply.py\u001b[0m in \u001b[0;36mapply_series_generator\u001b[1;34m(self)\u001b[0m\n\u001b[0;32m    298\u001b[0m                 \u001b[1;32mfor\u001b[0m \u001b[0mi\u001b[0m\u001b[1;33m,\u001b[0m \u001b[0mv\u001b[0m \u001b[1;32min\u001b[0m \u001b[0menumerate\u001b[0m\u001b[1;33m(\u001b[0m\u001b[0mseries_gen\u001b[0m\u001b[1;33m)\u001b[0m\u001b[1;33m:\u001b[0m\u001b[1;33m\u001b[0m\u001b[1;33m\u001b[0m\u001b[0m\n\u001b[0;32m    299\u001b[0m                     \u001b[1;31m# ignore SettingWithCopy here in case the user mutates\u001b[0m\u001b[1;33m\u001b[0m\u001b[1;33m\u001b[0m\u001b[1;33m\u001b[0m\u001b[0m\n\u001b[1;32m--> 300\u001b[1;33m                     \u001b[0mresults\u001b[0m\u001b[1;33m[\u001b[0m\u001b[0mi\u001b[0m\u001b[1;33m]\u001b[0m \u001b[1;33m=\u001b[0m \u001b[0mself\u001b[0m\u001b[1;33m.\u001b[0m\u001b[0mf\u001b[0m\u001b[1;33m(\u001b[0m\u001b[0mv\u001b[0m\u001b[1;33m)\u001b[0m\u001b[1;33m\u001b[0m\u001b[1;33m\u001b[0m\u001b[0m\n\u001b[0m\u001b[0;32m    301\u001b[0m                     \u001b[1;32mif\u001b[0m \u001b[0misinstance\u001b[0m\u001b[1;33m(\u001b[0m\u001b[0mresults\u001b[0m\u001b[1;33m[\u001b[0m\u001b[0mi\u001b[0m\u001b[1;33m]\u001b[0m\u001b[1;33m,\u001b[0m \u001b[0mABCSeries\u001b[0m\u001b[1;33m)\u001b[0m\u001b[1;33m:\u001b[0m\u001b[1;33m\u001b[0m\u001b[1;33m\u001b[0m\u001b[0m\n\u001b[0;32m    302\u001b[0m                         \u001b[1;31m# If we have a view on v, we need to make a copy because\u001b[0m\u001b[1;33m\u001b[0m\u001b[1;33m\u001b[0m\u001b[1;33m\u001b[0m\u001b[0m\n",
      "\u001b[1;32mF:\\Anaconda\\envs\\Fuzzy_Systems_Program\\lib\\site-packages\\pandas\\core\\apply.py\u001b[0m in \u001b[0;36mf\u001b[1;34m(x)\u001b[0m\n\u001b[0;32m    107\u001b[0m \u001b[1;33m\u001b[0m\u001b[0m\n\u001b[0;32m    108\u001b[0m             \u001b[1;32mdef\u001b[0m \u001b[0mf\u001b[0m\u001b[1;33m(\u001b[0m\u001b[0mx\u001b[0m\u001b[1;33m)\u001b[0m\u001b[1;33m:\u001b[0m\u001b[1;33m\u001b[0m\u001b[1;33m\u001b[0m\u001b[0m\n\u001b[1;32m--> 109\u001b[1;33m                 \u001b[1;32mreturn\u001b[0m \u001b[0mfunc\u001b[0m\u001b[1;33m(\u001b[0m\u001b[0mx\u001b[0m\u001b[1;33m,\u001b[0m \u001b[1;33m*\u001b[0m\u001b[0margs\u001b[0m\u001b[1;33m,\u001b[0m \u001b[1;33m**\u001b[0m\u001b[0mkwds\u001b[0m\u001b[1;33m)\u001b[0m\u001b[1;33m\u001b[0m\u001b[1;33m\u001b[0m\u001b[0m\n\u001b[0m\u001b[0;32m    110\u001b[0m \u001b[1;33m\u001b[0m\u001b[0m\n\u001b[0;32m    111\u001b[0m         \u001b[1;32melse\u001b[0m\u001b[1;33m:\u001b[0m\u001b[1;33m\u001b[0m\u001b[1;33m\u001b[0m\u001b[0m\n",
      "\u001b[1;32mF:\\Anaconda\\envs\\Fuzzy_Systems_Program\\lib\\site-packages\\tqdm\\std.py\u001b[0m in \u001b[0;36mwrapper\u001b[1;34m(*args, **kwargs)\u001b[0m\n\u001b[0;32m    792\u001b[0m                     \u001b[1;31m# take a fast or slow code path; so stop when t.total==t.n\u001b[0m\u001b[1;33m\u001b[0m\u001b[1;33m\u001b[0m\u001b[1;33m\u001b[0m\u001b[0m\n\u001b[0;32m    793\u001b[0m                     \u001b[0mt\u001b[0m\u001b[1;33m.\u001b[0m\u001b[0mupdate\u001b[0m\u001b[1;33m(\u001b[0m\u001b[0mn\u001b[0m\u001b[1;33m=\u001b[0m\u001b[1;36m1\u001b[0m \u001b[1;32mif\u001b[0m \u001b[1;32mnot\u001b[0m \u001b[0mt\u001b[0m\u001b[1;33m.\u001b[0m\u001b[0mtotal\u001b[0m \u001b[1;32mor\u001b[0m \u001b[0mt\u001b[0m\u001b[1;33m.\u001b[0m\u001b[0mn\u001b[0m \u001b[1;33m<\u001b[0m \u001b[0mt\u001b[0m\u001b[1;33m.\u001b[0m\u001b[0mtotal\u001b[0m \u001b[1;32melse\u001b[0m \u001b[1;36m0\u001b[0m\u001b[1;33m)\u001b[0m\u001b[1;33m\u001b[0m\u001b[1;33m\u001b[0m\u001b[0m\n\u001b[1;32m--> 794\u001b[1;33m                     \u001b[1;32mreturn\u001b[0m \u001b[0mfunc\u001b[0m\u001b[1;33m(\u001b[0m\u001b[1;33m*\u001b[0m\u001b[0margs\u001b[0m\u001b[1;33m,\u001b[0m \u001b[1;33m**\u001b[0m\u001b[0mkwargs\u001b[0m\u001b[1;33m)\u001b[0m\u001b[1;33m\u001b[0m\u001b[1;33m\u001b[0m\u001b[0m\n\u001b[0m\u001b[0;32m    795\u001b[0m \u001b[1;33m\u001b[0m\u001b[0m\n\u001b[0;32m    796\u001b[0m                 \u001b[1;31m# Apply the provided function (in **kwargs)\u001b[0m\u001b[1;33m\u001b[0m\u001b[1;33m\u001b[0m\u001b[1;33m\u001b[0m\u001b[0m\n",
      "\u001b[1;32m~\\Ki67-master\\Class\\FuzzyHelper.py\u001b[0m in \u001b[0;36mmakePrediction\u001b[1;34m(self, row, classing, rules_feature_names, decision)\u001b[0m\n\u001b[0;32m     36\u001b[0m             \u001b[0minput_values\u001b[0m\u001b[1;33m[\u001b[0m\u001b[0mx\u001b[0m\u001b[1;33m]\u001b[0m \u001b[1;33m=\u001b[0m \u001b[0mrow\u001b[0m\u001b[1;33m[\u001b[0m\u001b[0mx\u001b[0m\u001b[1;33m]\u001b[0m\u001b[1;33m\u001b[0m\u001b[1;33m\u001b[0m\u001b[0m\n\u001b[0;32m     37\u001b[0m \u001b[1;33m\u001b[0m\u001b[0m\n\u001b[1;32m---> 38\u001b[1;33m         \u001b[0mclassing\u001b[0m\u001b[1;33m.\u001b[0m\u001b[0minputs\u001b[0m\u001b[1;33m(\u001b[0m\u001b[0minput_values\u001b[0m\u001b[1;33m)\u001b[0m\u001b[1;33m\u001b[0m\u001b[1;33m\u001b[0m\u001b[0m\n\u001b[0m\u001b[0;32m     39\u001b[0m \u001b[1;33m\u001b[0m\u001b[0m\n\u001b[0;32m     40\u001b[0m         \u001b[1;32mtry\u001b[0m\u001b[1;33m:\u001b[0m\u001b[1;33m\u001b[0m\u001b[1;33m\u001b[0m\u001b[0m\n",
      "\u001b[1;32m~\\Ki67-master\\scikitfuzzy\\skfuzzy\\controlType2\\controlsystem.py\u001b[0m in \u001b[0;36minputs\u001b[1;34m(self, input_dict)\u001b[0m\n\u001b[0;32m    336\u001b[0m         \u001b[1;31m#  second time to actually pass them into the correct ID.\u001b[0m\u001b[1;33m\u001b[0m\u001b[1;33m\u001b[0m\u001b[1;33m\u001b[0m\u001b[0m\n\u001b[0;32m    337\u001b[0m         \u001b[1;32mfor\u001b[0m \u001b[0mlabel\u001b[0m\u001b[1;33m,\u001b[0m \u001b[0mvalue\u001b[0m \u001b[1;32min\u001b[0m \u001b[0minput_dict\u001b[0m\u001b[1;33m.\u001b[0m\u001b[0mitems\u001b[0m\u001b[1;33m(\u001b[0m\u001b[1;33m)\u001b[0m\u001b[1;33m:\u001b[0m\u001b[1;33m\u001b[0m\u001b[1;33m\u001b[0m\u001b[0m\n\u001b[1;32m--> 338\u001b[1;33m             \u001b[0mself\u001b[0m\u001b[1;33m.\u001b[0m\u001b[0minput\u001b[0m\u001b[1;33m[\u001b[0m\u001b[0mlabel\u001b[0m\u001b[1;33m]\u001b[0m \u001b[1;33m=\u001b[0m \u001b[0mvalue\u001b[0m\u001b[1;33m\u001b[0m\u001b[1;33m\u001b[0m\u001b[0m\n\u001b[0m\u001b[0;32m    339\u001b[0m \u001b[1;33m\u001b[0m\u001b[0m\n\u001b[0;32m    340\u001b[0m     \u001b[1;32mdef\u001b[0m \u001b[0mcompute\u001b[0m\u001b[1;33m(\u001b[0m\u001b[0mself\u001b[0m\u001b[1;33m)\u001b[0m\u001b[1;33m:\u001b[0m\u001b[1;33m\u001b[0m\u001b[1;33m\u001b[0m\u001b[0m\n",
      "\u001b[1;32m~\\Ki67-master\\scikitfuzzy\\skfuzzy\\controlType2\\controlsystem.py\u001b[0m in \u001b[0;36m__setitem__\u001b[1;34m(self, key, value)\u001b[0m\n\u001b[0;32m    205\u001b[0m                     raise IndexError(\"Input value out of bounds. Max is {}.\"\n\u001b[0;32m    206\u001b[0m                                      .format(max(var.universe)))\n\u001b[1;32m--> 207\u001b[1;33m             \u001b[1;32mif\u001b[0m \u001b[0mminval\u001b[0m \u001b[1;33m<\u001b[0m \u001b[0mvar\u001b[0m\u001b[1;33m.\u001b[0m\u001b[0muniverse\u001b[0m\u001b[1;33m.\u001b[0m\u001b[0mmin\u001b[0m\u001b[1;33m(\u001b[0m\u001b[1;33m)\u001b[0m\u001b[1;33m:\u001b[0m\u001b[1;33m\u001b[0m\u001b[1;33m\u001b[0m\u001b[0m\n\u001b[0m\u001b[0;32m    208\u001b[0m                 \u001b[1;32mif\u001b[0m \u001b[0mself\u001b[0m\u001b[1;33m.\u001b[0m\u001b[0msim\u001b[0m\u001b[1;33m.\u001b[0m\u001b[0mclip_to_bounds\u001b[0m\u001b[1;33m:\u001b[0m\u001b[1;33m\u001b[0m\u001b[1;33m\u001b[0m\u001b[0m\n\u001b[0;32m    209\u001b[0m                     \u001b[0mvalue\u001b[0m \u001b[1;33m=\u001b[0m \u001b[0mnp\u001b[0m\u001b[1;33m.\u001b[0m\u001b[0mfmax\u001b[0m\u001b[1;33m(\u001b[0m\u001b[0mvalue\u001b[0m\u001b[1;33m,\u001b[0m \u001b[0mvar\u001b[0m\u001b[1;33m.\u001b[0m\u001b[0muniverse\u001b[0m\u001b[1;33m.\u001b[0m\u001b[0mmin\u001b[0m\u001b[1;33m(\u001b[0m\u001b[1;33m)\u001b[0m\u001b[1;33m)\u001b[0m\u001b[1;33m\u001b[0m\u001b[1;33m\u001b[0m\u001b[0m\n",
      "\u001b[1;32mF:\\Anaconda\\envs\\Fuzzy_Systems_Program\\lib\\site-packages\\numpy\\core\\_methods.py\u001b[0m in \u001b[0;36m_amin\u001b[1;34m(a, axis, out, keepdims, initial, where)\u001b[0m\n\u001b[0;32m     41\u001b[0m def _amin(a, axis=None, out=None, keepdims=False,\n\u001b[0;32m     42\u001b[0m           initial=_NoValue, where=True):\n\u001b[1;32m---> 43\u001b[1;33m     \u001b[1;32mreturn\u001b[0m \u001b[0mumr_minimum\u001b[0m\u001b[1;33m(\u001b[0m\u001b[0ma\u001b[0m\u001b[1;33m,\u001b[0m \u001b[0maxis\u001b[0m\u001b[1;33m,\u001b[0m \u001b[1;32mNone\u001b[0m\u001b[1;33m,\u001b[0m \u001b[0mout\u001b[0m\u001b[1;33m,\u001b[0m \u001b[0mkeepdims\u001b[0m\u001b[1;33m,\u001b[0m \u001b[0minitial\u001b[0m\u001b[1;33m,\u001b[0m \u001b[0mwhere\u001b[0m\u001b[1;33m)\u001b[0m\u001b[1;33m\u001b[0m\u001b[1;33m\u001b[0m\u001b[0m\n\u001b[0m\u001b[0;32m     44\u001b[0m \u001b[1;33m\u001b[0m\u001b[0m\n\u001b[0;32m     45\u001b[0m def _sum(a, axis=None, dtype=None, out=None, keepdims=False,\n",
      "\u001b[1;31mKeyboardInterrupt\u001b[0m: "
     ]
    }
   ],
   "source": [
    "import numpy as np\n",
    "results = pd.DataFrame({\n",
    "            'Fuzzifier Type': pd.Series([], dtype='str'),\n",
    "            'Gausses': pd.Series([], dtype='int'),\n",
    "            'Adjustment': pd.Series([], dtype='str'),\n",
    "            'Sigma Offset': pd.Series([], dtype='float'),\n",
    "            'Center Offset': pd.Series([], dtype='float'),\n",
    "            'Accuracy': pd.Series([], dtype='float'),\n",
    "            'F1 Score': pd.Series([], dtype='float')\n",
    "        })\n",
    "\n",
    "best_params = results.copy()\n",
    "\n",
    "for idx, data in best_values.iterrows():\n",
    "    resultsForOneClassifier = results.copy()\n",
    "    \n",
    "    gauss = data['Gausses']\n",
    "    style = data['Fuzzifier Type']\n",
    "    adjustment = data['Adjustment']\n",
    "    if adjustment == \"Mean\":\n",
    "        adjustment = -1\n",
    "    else:\n",
    "        adjustment = -2\n",
    "    \n",
    "    for sigma_offset in np.arange(0, 0.2, 0.02):\n",
    "        for center_offset in np.arange(0, 0.2, 0.02):\n",
    "            print(\"Gausses: \" + str(gauss) + \" Style: \" + style + \" Adjustment: \" + str(adjustment) + \" Sigma Offset: \" + str(sigma_offset) + \" Center Offset: \" + str(center_offset))\n",
    "            generalSettings.gausses = gauss\n",
    "            generalSettings.style = style\n",
    "            generalSettings.adjustment_value = adjustment\n",
    "            settings = Settings(generalSettings)        \n",
    "\n",
    "            loadCSV = LoadCSV()\n",
    "            samples_stats, train_stats, test_stats, train_samples = loadCSV.worker(settings)\n",
    "\n",
    "            fuzzify = Fuzzify()\n",
    "            changed_decisions, features_number_after_reduct, implicants_number, fuzzify_parameters, times = fuzzify.worker(settings, settings.adjustment_value, sigma_offset)   \n",
    "\n",
    "            valueTest = ValueTest(settings, settings.s_function_width, settings.is_training)\n",
    "            valueTest.sOptymalizationWorker(settings, settings.default_s_value, settings.show_results, center_offset)\n",
    "\n",
    "            valueTest = ValueTest(settings, settings.s_function_width, not settings.is_training)\n",
    "            valueTest.sOptymalizationWorker(settings, settings.default_s_value, settings.show_results, center_offset)\n",
    "            results = results.append({\n",
    "                'Fuzzifier Type': style,\n",
    "                'Gausses': gauss,\n",
    "                'Adjustment': adjustment,\n",
    "                'Sigma Offset': sigma_offset,\n",
    "                'Center Offset': center_offset,\n",
    "                'Accuracy': valueTest.results['Accuracy'],\n",
    "                'F1 Score': valueTest.results['F1 Score']\n",
    "            }, ignore_index=True)\n",
    "            resultsForOneClassifier = resultsForOneClassifier.append({\n",
    "                'Fuzzifier Type': style,\n",
    "                'Gausses': gauss,\n",
    "                'Adjustment': adjustment,\n",
    "                'Sigma Offset': sigma_offset,\n",
    "                'Center Offset': center_offset,\n",
    "                'Accuracy': valueTest.results['Accuracy'],\n",
    "                'F1 Score': valueTest.results['F1 Score']\n",
    "            }, ignore_index=True)\n",
    "    \n",
    "    resultsForOneClassifier.to_csv(r'ResultsIT2\\HabermanResultForBest' + str(idx) + '.csv', index=None)\n",
    "    resultsForOneClassifier.sort_values(['F1 Score'], inplace=True, ascending=False)\n",
    "    best_params = best_params.append(resultsForOneClassifier[0])\n",
    "        \n",
    "results.to_csv(r'ResultsIT2\\DataBanknoteIT2ResultsWithOpt.csv', index=None)\n",
    "best_params.to_csv(r'ResultsIT2\\DataBanknoteBestParams.csv', index=None)"
   ]
  },
  {
   "cell_type": "code",
   "execution_count": null,
   "metadata": {},
   "outputs": [],
   "source": [
    "best_params = pd.read_csv(r'ResultsIT2\\DataBanknoteBestParams.csv')\n",
    "results = pd.DataFrame({\n",
    "            'Fuzzifier Type': pd.Series([], dtype='str'),\n",
    "            'Gausses': pd.Series([], dtype='int'),\n",
    "            'Adjustment': pd.Series([], dtype='str'),\n",
    "            'Accuracy': pd.Series([], dtype='float'),\n",
    "            'F1 Score': pd.Series([], dtype='float')\n",
    "        })\n",
    "\n",
    "for _, data in best_params.iterrows():\n",
    "    gauss = data['Gausses']\n",
    "    style = data['Fuzzifier Type']\n",
    "    adjustment = data['Adjustment']\n",
    "    sigma_offset = data['Sigma Offset']\n",
    "    center_offset = data['Center Offset']\n",
    "    \n",
    "    if adjustment == \"Mean\":\n",
    "        adjustment = -1\n",
    "    else:\n",
    "        adjustment = -2\n",
    "    \n",
    "    resultsKFold = pd.DataFrame({\n",
    "            'Accuracy': pd.Series([], dtype='float'),\n",
    "            'F1 Score': pd.Series([], dtype='float')\n",
    "        })\n",
    "    \n",
    "    print(\"Gausses: \" + str(gauss) + \" Adjustment: \" + str(adjustment) + \"\\n\" + style)\n",
    "    generalSettings.gausses = gauss\n",
    "    generalSettings.style = style\n",
    "    generalSettings.adjustment_value = adjustment\n",
    "    settings = Settings(generalSettings)\n",
    "    \n",
    "    d_results = [settings.class_2, settings.class_1]\n",
    "    if style == 'Gaussian Progressive':\n",
    "        fuzzifier = FuzzifierProgressive(settings, d_results)\n",
    "    else:\n",
    "        fuzzifier = Fuzzifier(settings, d_results)\n",
    "        \n",
    "    csvExtractor = CSVExtractor(settings)\n",
    "    features_df = csvExtractor.worker(fuzzifier)\n",
    "    train_features_df, test_features_df = train_test_split(features_df, test_size=0.3, stratify=features_df.Decision, random_state=23)\n",
    "    \n",
    "    skf = StratifiedKFold(n_splits= n_folds, shuffle = True, random_state=23)\n",
    "    X = train_features_df.drop('Decision', axis=1)\n",
    "    y = train_features_df.Decision\n",
    "    \n",
    "    for idx, (train_index, test_index) in enumerate(skf.split(X, y)):\n",
    "        train_data = self.df.iloc[train_index]\n",
    "        train_data_for_worker = train_data.copy()\n",
    "        test_data = self.df.iloc[test_index]\n",
    "        \n",
    "        fuzzify = Fuzzify()\n",
    "        changed_decisions, features_number_after_reduct, implicants_number, features, decision_table_with_reduct, reductor = fuzzify.workerKFold(settings, train_data_for_worker, settings.adjustment_value)   \n",
    "\n",
    "        valueTest = ValueTest(settings, settings.s_function_width, settings.is_training, load_data=False)\n",
    "        valueTest.createAntecedents(reductor, features, decision_table_with_reduct, train_data, \"Train\")\n",
    "        valueTest.sOptymalizationWorker(settings, settings.default_s_value, settings.show_results)\n",
    "\n",
    "        valueTest = ValueTest(settings, settings.s_function_width, not settings.is_training, load_data=False)\n",
    "        valueTest.createAntecedents(reductor, features, decision_table_with_reduct, test_data, \"Test\")\n",
    "        valueTest.sOptymalizationWorker(settings, settings.default_s_value, settings.show_results)\n",
    "        resultsKFold = resultsKFold.append(valueTest.results.loc[['Accuracy', 'F1 Score']])\n",
    "    \n",
    "    results = results.append({\n",
    "        'Fuzzifier Type': style,\n",
    "        'Gausses': gauss,\n",
    "        'Adjustment': adjustment,\n",
    "        'Accuracy': resultsKFold['Accuracy'].mean(),\n",
    "        'F1 Score': resultsKFold['F1 Score'].mean()\n",
    "    })\n",
    "    \n",
    "best_params = results.sort_values(['F1 Score'], ascending=False)[0]\n",
    "generalSettings.gausses = best_params['Gausses']\n",
    "generalSettings.style = best_params['Fuzzifier Type']\n",
    "generalSettings.adjustment_value = best_params['Adjustment']\n",
    "sigma_offset = best_params['Sigma Offset']\n",
    "center_offset = best_params['Center Offset']\n",
    "settings = Settings(generalSettings)\n",
    "\n",
    "test_features_df_for_worker = test_features_df.copy()\n",
    "\n",
    "fuzzify = Fuzzify()\n",
    "changed_decisions, features_number_after_reduct, implicants_number, features, decision_table_with_reduct, reductor = fuzzify.workerKFold(settings, test_features_df_for_worker, settings.adjustment_value)   \n",
    "\n",
    "valueTest = ValueTest(settings, settings.s_function_width, not settings.is_training, load_data=False)\n",
    "valueTest.createAntecedents(reductor, features, decision_table_with_reduct, test_features_df, \"Test\")\n",
    "valueTest.sOptymalizationWorker(settings, settings.default_s_value, settings.show_results)"
   ]
  }
 ],
 "metadata": {
  "kernelspec": {
   "display_name": "Python 3",
   "language": "python",
   "name": "python3"
  },
  "language_info": {
   "codemirror_mode": {
    "name": "ipython",
    "version": 3
   },
   "file_extension": ".py",
   "mimetype": "text/x-python",
   "name": "python",
   "nbconvert_exporter": "python",
   "pygments_lexer": "ipython3",
   "version": "3.8.5"
  },
  "varInspector": {
   "cols": {
    "lenName": 16,
    "lenType": 16,
    "lenVar": 40
   },
   "kernels_config": {
    "python": {
     "delete_cmd_postfix": "",
     "delete_cmd_prefix": "del ",
     "library": "var_list.py",
     "varRefreshCmd": "print(var_dic_list())"
    },
    "r": {
     "delete_cmd_postfix": ") ",
     "delete_cmd_prefix": "rm(",
     "library": "var_list.r",
     "varRefreshCmd": "cat(var_dic_list()) "
    }
   },
   "types_to_exclude": [
    "module",
    "function",
    "builtin_function_or_method",
    "instance",
    "_Feature"
   ],
   "window_display": false
  }
 },
 "nbformat": 4,
 "nbformat_minor": 4
}
